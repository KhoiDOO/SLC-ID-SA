{
 "cells": [
  {
   "cell_type": "code",
   "execution_count": 1,
   "id": "5e2ae15b",
   "metadata": {},
   "outputs": [],
   "source": [
    "import tensorflow as tf"
   ]
  },
  {
   "cell_type": "code",
   "execution_count": 2,
   "id": "58b24429",
   "metadata": {},
   "outputs": [],
   "source": [
    "import pandas as pd\n",
    "import numpy as np"
   ]
  },
  {
   "cell_type": "code",
   "execution_count": 5,
   "id": "1d433caf",
   "metadata": {},
   "outputs": [],
   "source": [
    "xception = tf.keras.applications.Xception(\n",
    "    include_top=True,\n",
    "    weights=\"imagenet\",\n",
    "    input_tensor=None,\n",
    "    input_shape=None,\n",
    "    pooling=None,\n",
    "    classes=1000,\n",
    "    classifier_activation=\"softmax\",\n",
    ")"
   ]
  },
  {
   "cell_type": "code",
   "execution_count": 44,
   "id": "bb2267a2",
   "metadata": {},
   "outputs": [],
   "source": [
    "VGG16 = tf.keras.applications.VGG16(\n",
    "    include_top=True,\n",
    "    weights=\"imagenet\",\n",
    "    input_tensor=None,\n",
    "    input_shape=None,\n",
    "    pooling=None,\n",
    "    classes=1000,\n",
    "    classifier_activation=\"softmax\",\n",
    ")"
   ]
  },
  {
   "cell_type": "code",
   "execution_count": 45,
   "id": "09b2c577",
   "metadata": {},
   "outputs": [],
   "source": [
    "VGG19 = tf.keras.applications.VGG19(\n",
    "    include_top=True,\n",
    "    weights=\"imagenet\",\n",
    "    input_tensor=None,\n",
    "    input_shape=None,\n",
    "    pooling=None,\n",
    "    classes=1000,\n",
    "    classifier_activation=\"softmax\",\n",
    ")"
   ]
  },
  {
   "cell_type": "code",
   "execution_count": 13,
   "id": "3bc810ea",
   "metadata": {},
   "outputs": [
    {
     "name": "stdout",
     "output_type": "stream",
     "text": [
      "Downloading data from https://storage.googleapis.com/tensorflow/keras-applications/resnet/resnet50_weights_tf_dim_ordering_tf_kernels.h5\n",
      "102973440/102967424 [==============================] - 36s 0us/step\n",
      "102981632/102967424 [==============================] - 36s 0us/step\n"
     ]
    }
   ],
   "source": [
    "ResNet50 = tf.keras.applications.ResNet50(\n",
    "    include_top=True,\n",
    "    weights=\"imagenet\",\n",
    "    input_tensor=None,\n",
    "    input_shape=None,\n",
    "    pooling=None,\n",
    "    classes=1000\n",
    ")"
   ]
  },
  {
   "cell_type": "code",
   "execution_count": 14,
   "id": "3fb4ca03",
   "metadata": {},
   "outputs": [
    {
     "name": "stdout",
     "output_type": "stream",
     "text": [
      "Downloading data from https://storage.googleapis.com/tensorflow/keras-applications/resnet/resnet50v2_weights_tf_dim_ordering_tf_kernels.h5\n",
      "102875136/102869336 [==============================] - 35s 0us/step\n",
      "102883328/102869336 [==============================] - 35s 0us/step\n"
     ]
    }
   ],
   "source": [
    "ResNet50V2 = tf.keras.applications.ResNet50V2(\n",
    "    include_top=True,\n",
    "    weights=\"imagenet\",\n",
    "    input_tensor=None,\n",
    "    input_shape=None,\n",
    "    pooling=None,\n",
    "    classes=1000,\n",
    "    classifier_activation=\"softmax\",\n",
    ")"
   ]
  },
  {
   "cell_type": "code",
   "execution_count": 16,
   "id": "1fa10b2a",
   "metadata": {},
   "outputs": [
    {
     "name": "stdout",
     "output_type": "stream",
     "text": [
      "Downloading data from https://storage.googleapis.com/tensorflow/keras-applications/resnet/resnet101_weights_tf_dim_ordering_tf_kernels.h5\n",
      "179650560/179648224 [==============================] - 62s 0us/step\n",
      "179658752/179648224 [==============================] - 62s 0us/step\n"
     ]
    }
   ],
   "source": [
    "ResNet101 = tf.keras.applications.ResNet101(\n",
    "    include_top=True,\n",
    "    weights=\"imagenet\",\n",
    "    input_tensor=None,\n",
    "    input_shape=None,\n",
    "    pooling=None,\n",
    "    classes=1000\n",
    ")"
   ]
  },
  {
   "cell_type": "code",
   "execution_count": 17,
   "id": "406d428d",
   "metadata": {},
   "outputs": [
    {
     "name": "stdout",
     "output_type": "stream",
     "text": [
      "Downloading data from https://storage.googleapis.com/tensorflow/keras-applications/resnet/resnet101v2_weights_tf_dim_ordering_tf_kernels.h5\n",
      "179519488/179518384 [==============================] - 78s 0us/step\n",
      "179527680/179518384 [==============================] - 78s 0us/step\n"
     ]
    }
   ],
   "source": [
    "ResNet101V2 = tf.keras.applications.ResNet101V2(\n",
    "    include_top=True,\n",
    "    weights=\"imagenet\",\n",
    "    input_tensor=None,\n",
    "    input_shape=None,\n",
    "    pooling=None,\n",
    "    classes=1000,\n",
    "    classifier_activation=\"softmax\",\n",
    ")"
   ]
  },
  {
   "cell_type": "code",
   "execution_count": 18,
   "id": "9626b1c0",
   "metadata": {},
   "outputs": [
    {
     "name": "stdout",
     "output_type": "stream",
     "text": [
      "Downloading data from https://storage.googleapis.com/tensorflow/keras-applications/resnet/resnet152_weights_tf_dim_ordering_tf_kernels.h5\n",
      "242900992/242900224 [==============================] - 83s 0us/step\n",
      "242909184/242900224 [==============================] - 83s 0us/step\n"
     ]
    }
   ],
   "source": [
    "ResNet152 = tf.keras.applications.ResNet152(\n",
    "    include_top=True,\n",
    "    weights=\"imagenet\",\n",
    "    input_tensor=None,\n",
    "    input_shape=None,\n",
    "    pooling=None,\n",
    "    classes=1000\n",
    ")"
   ]
  },
  {
   "cell_type": "code",
   "execution_count": 19,
   "id": "9756cbcc",
   "metadata": {},
   "outputs": [
    {
     "name": "stdout",
     "output_type": "stream",
     "text": [
      "Downloading data from https://storage.googleapis.com/tensorflow/keras-applications/resnet/resnet152v2_weights_tf_dim_ordering_tf_kernels.h5\n",
      "242753536/242745792 [==============================] - 81s 0us/step\n",
      "242761728/242745792 [==============================] - 81s 0us/step\n"
     ]
    }
   ],
   "source": [
    "ResNet152V2 = tf.keras.applications.ResNet152V2(\n",
    "    include_top=True,\n",
    "    weights=\"imagenet\",\n",
    "    input_tensor=None,\n",
    "    input_shape=None,\n",
    "    pooling=None,\n",
    "    classes=1000,\n",
    "    classifier_activation=\"softmax\",\n",
    ")"
   ]
  },
  {
   "cell_type": "code",
   "execution_count": 20,
   "id": "fcbe1620",
   "metadata": {},
   "outputs": [
    {
     "name": "stdout",
     "output_type": "stream",
     "text": [
      "Downloading data from https://storage.googleapis.com/tensorflow/keras-applications/inception_v3/inception_v3_weights_tf_dim_ordering_tf_kernels.h5\n",
      "96116736/96112376 [==============================] - 32s 0us/step\n",
      "96124928/96112376 [==============================] - 32s 0us/step\n"
     ]
    }
   ],
   "source": [
    "InceptionV3 = tf.keras.applications.InceptionV3(\n",
    "    include_top=True,\n",
    "    weights=\"imagenet\",\n",
    "    input_tensor=None,\n",
    "    input_shape=None,\n",
    "    pooling=None,\n",
    "    classes=1000,\n",
    "    classifier_activation=\"softmax\",\n",
    ")"
   ]
  },
  {
   "cell_type": "code",
   "execution_count": 21,
   "id": "a46d28e0",
   "metadata": {},
   "outputs": [],
   "source": [
    "InceptionResNetV2 = tf.keras.applications.InceptionResNetV2(\n",
    "    include_top=True,\n",
    "    weights=\"imagenet\",\n",
    "    input_tensor=None,\n",
    "    input_shape=None,\n",
    "    pooling=None,\n",
    "    classes=1000,\n",
    "    classifier_activation=\"softmax\"\n",
    ")"
   ]
  },
  {
   "cell_type": "code",
   "execution_count": 22,
   "id": "139a5a2a",
   "metadata": {},
   "outputs": [
    {
     "name": "stdout",
     "output_type": "stream",
     "text": [
      "Downloading data from https://storage.googleapis.com/tensorflow/keras-applications/mobilenet/mobilenet_1_0_224_tf.h5\n",
      "17227776/17225924 [==============================] - 6s 0us/step\n",
      "17235968/17225924 [==============================] - 6s 0us/step\n"
     ]
    }
   ],
   "source": [
    "MobileNet = tf.keras.applications.MobileNet(\n",
    "    input_shape=None,\n",
    "    alpha=1.0,\n",
    "    depth_multiplier=1,\n",
    "    dropout=0.001,\n",
    "    include_top=True,\n",
    "    weights=\"imagenet\",\n",
    "    input_tensor=None,\n",
    "    pooling=None,\n",
    "    classes=1000,\n",
    "    classifier_activation=\"softmax\"\n",
    ")"
   ]
  },
  {
   "cell_type": "code",
   "execution_count": 23,
   "id": "adb58ba4",
   "metadata": {},
   "outputs": [
    {
     "name": "stdout",
     "output_type": "stream",
     "text": [
      "Downloading data from https://storage.googleapis.com/tensorflow/keras-applications/mobilenet_v2/mobilenet_v2_weights_tf_dim_ordering_tf_kernels_1.0_224.h5\n",
      "14540800/14536120 [==============================] - 5s 0us/step\n",
      "14548992/14536120 [==============================] - 5s 0us/step\n"
     ]
    }
   ],
   "source": [
    "MobileNetV2 = tf.keras.applications.MobileNetV2(\n",
    "    input_shape=None,\n",
    "    alpha=1.0,\n",
    "    include_top=True,\n",
    "    weights=\"imagenet\",\n",
    "    input_tensor=None,\n",
    "    pooling=None,\n",
    "    classes=1000,\n",
    "    classifier_activation=\"softmax\"\n",
    ")"
   ]
  },
  {
   "cell_type": "code",
   "execution_count": 24,
   "id": "967c74fa",
   "metadata": {},
   "outputs": [
    {
     "name": "stdout",
     "output_type": "stream",
     "text": [
      "Downloading data from https://storage.googleapis.com/tensorflow/keras-applications/densenet/densenet121_weights_tf_dim_ordering_tf_kernels.h5\n",
      "33193984/33188688 [==============================] - 12s 0us/step\n",
      "33202176/33188688 [==============================] - 12s 0us/step\n"
     ]
    }
   ],
   "source": [
    "DenseNet121 = tf.keras.applications.DenseNet121(\n",
    "    include_top=True,\n",
    "    weights=\"imagenet\",\n",
    "    input_tensor=None,\n",
    "    input_shape=None,\n",
    "    pooling=None,\n",
    "    classes=1000,\n",
    ")"
   ]
  },
  {
   "cell_type": "code",
   "execution_count": 25,
   "id": "0d7aba82",
   "metadata": {},
   "outputs": [
    {
     "name": "stdout",
     "output_type": "stream",
     "text": [
      "Downloading data from https://storage.googleapis.com/tensorflow/keras-applications/densenet/densenet169_weights_tf_dim_ordering_tf_kernels.h5\n",
      "58548224/58541896 [==============================] - 20s 0us/step\n",
      "58556416/58541896 [==============================] - 20s 0us/step\n"
     ]
    }
   ],
   "source": [
    "DenseNet169 = tf.keras.applications.DenseNet169(\n",
    "    include_top=True,\n",
    "    weights=\"imagenet\",\n",
    "    input_tensor=None,\n",
    "    input_shape=None,\n",
    "    pooling=None,\n",
    "    classes=1000,\n",
    ")"
   ]
  },
  {
   "cell_type": "code",
   "execution_count": 26,
   "id": "f5873418",
   "metadata": {},
   "outputs": [],
   "source": [
    "DenseNet201 = tf.keras.applications.DenseNet201(\n",
    "    include_top=True,\n",
    "    weights=\"imagenet\",\n",
    "    input_tensor=None,\n",
    "    input_shape=None,\n",
    "    pooling=None,\n",
    "    classes=1000,\n",
    ")"
   ]
  },
  {
   "cell_type": "code",
   "execution_count": 27,
   "id": "6af9b6a1",
   "metadata": {},
   "outputs": [
    {
     "name": "stdout",
     "output_type": "stream",
     "text": [
      "Downloading data from https://storage.googleapis.com/tensorflow/keras-applications/nasnet/NASNet-mobile.h5\n",
      "24231936/24227760 [==============================] - 9s 0us/step\n",
      "24240128/24227760 [==============================] - 9s 0us/step\n"
     ]
    }
   ],
   "source": [
    "NASNetMobile = tf.keras.applications.NASNetMobile(\n",
    "    input_shape=None,\n",
    "    include_top=True,\n",
    "    weights=\"imagenet\",\n",
    "    input_tensor=None,\n",
    "    pooling=None,\n",
    "    classes=1000,\n",
    ")"
   ]
  },
  {
   "cell_type": "code",
   "execution_count": 28,
   "id": "a2b0f218",
   "metadata": {},
   "outputs": [
    {
     "name": "stdout",
     "output_type": "stream",
     "text": [
      "Downloading data from https://storage.googleapis.com/tensorflow/keras-applications/nasnet/NASNet-large.h5\n",
      "359751680/359748576 [==============================] - 123s 0us/step\n",
      "359759872/359748576 [==============================] - 123s 0us/step\n"
     ]
    }
   ],
   "source": [
    "NASNetLarge = tf.keras.applications.NASNetLarge(\n",
    "    input_shape=None,\n",
    "    include_top=True,\n",
    "    weights=\"imagenet\",\n",
    "    input_tensor=None,\n",
    "    pooling=None,\n",
    "    classes=1000,\n",
    ")"
   ]
  },
  {
   "cell_type": "code",
   "execution_count": 30,
   "id": "a15b36f2",
   "metadata": {},
   "outputs": [
    {
     "name": "stdout",
     "output_type": "stream",
     "text": [
      "Downloading data from https://storage.googleapis.com/keras-applications/efficientnetb0.h5\n",
      "21839872/21834768 [==============================] - 9s 0us/step\n",
      "21848064/21834768 [==============================] - 9s 0us/step\n"
     ]
    }
   ],
   "source": [
    "EfficientNetB0 = tf.keras.applications.EfficientNetB0(\n",
    "    include_top=True,\n",
    "    weights=\"imagenet\",\n",
    "    input_tensor=None,\n",
    "    input_shape=None,\n",
    "    pooling=None,\n",
    "    classes=1000,\n",
    "    classifier_activation=\"softmax\",\n",
    ")"
   ]
  },
  {
   "cell_type": "code",
   "execution_count": 32,
   "id": "c7fae9f7",
   "metadata": {},
   "outputs": [
    {
     "name": "stdout",
     "output_type": "stream",
     "text": [
      "Downloading data from https://storage.googleapis.com/keras-applications/efficientnetb1.h5\n",
      "32153600/32148312 [==============================] - 11s 0us/step\n",
      "32161792/32148312 [==============================] - 11s 0us/step\n"
     ]
    }
   ],
   "source": [
    "EfficientNetB1 = tf.keras.applications.EfficientNetB1(\n",
    "    include_top=True,\n",
    "    weights=\"imagenet\",\n",
    "    input_tensor=None,\n",
    "    input_shape=None,\n",
    "    pooling=None,\n",
    "    classes=1000,\n",
    "    classifier_activation=\"softmax\"\n",
    ")"
   ]
  },
  {
   "cell_type": "code",
   "execution_count": 33,
   "id": "f11acef5",
   "metadata": {},
   "outputs": [
    {
     "name": "stdout",
     "output_type": "stream",
     "text": [
      "Downloading data from https://storage.googleapis.com/keras-applications/efficientnetb2.h5\n",
      "37437440/37432240 [==============================] - 13s 0us/step\n",
      "37445632/37432240 [==============================] - 13s 0us/step\n"
     ]
    }
   ],
   "source": [
    "EfficientNetB2 = tf.keras.applications.EfficientNetB2(\n",
    "    include_top=True,\n",
    "    weights=\"imagenet\",\n",
    "    input_tensor=None,\n",
    "    input_shape=None,\n",
    "    pooling=None,\n",
    "    classes=1000,\n",
    "    classifier_activation=\"softmax\",\n",
    ")"
   ]
  },
  {
   "cell_type": "code",
   "execution_count": 34,
   "id": "c8e48768",
   "metadata": {},
   "outputs": [
    {
     "name": "stdout",
     "output_type": "stream",
     "text": [
      "Downloading data from https://storage.googleapis.com/keras-applications/efficientnetb3.h5\n",
      "50102272/50095040 [==============================] - 17s 0us/step\n",
      "50110464/50095040 [==============================] - 17s 0us/step\n"
     ]
    }
   ],
   "source": [
    "EfficientNetB3 = tf.keras.applications.EfficientNetB3(\n",
    "    include_top=True,\n",
    "    weights=\"imagenet\",\n",
    "    input_tensor=None,\n",
    "    input_shape=None,\n",
    "    pooling=None,\n",
    "    classes=1000,\n",
    "    classifier_activation=\"softmax\",\n",
    ")"
   ]
  },
  {
   "cell_type": "code",
   "execution_count": 35,
   "id": "0888d12e",
   "metadata": {},
   "outputs": [
    {
     "name": "stdout",
     "output_type": "stream",
     "text": [
      "Downloading data from https://storage.googleapis.com/keras-applications/efficientnetb4.h5\n",
      "78872576/78864416 [==============================] - 27s 0us/step\n",
      "78880768/78864416 [==============================] - 27s 0us/step\n"
     ]
    }
   ],
   "source": [
    "EfficientNetB4 = tf.keras.applications.EfficientNetB4(\n",
    "    include_top=True,\n",
    "    weights=\"imagenet\",\n",
    "    input_tensor=None,\n",
    "    input_shape=None,\n",
    "    pooling=None,\n",
    "    classes=1000,\n",
    "    classifier_activation=\"softmax\",\n",
    ")"
   ]
  },
  {
   "cell_type": "code",
   "execution_count": 36,
   "id": "f9b03544",
   "metadata": {},
   "outputs": [
    {
     "name": "stdout",
     "output_type": "stream",
     "text": [
      "Downloading data from https://storage.googleapis.com/keras-applications/efficientnetb5.h5\n",
      "123469824/123465288 [==============================] - 42s 0us/step\n",
      "123478016/123465288 [==============================] - 42s 0us/step\n"
     ]
    }
   ],
   "source": [
    "EfficientNetB5 = tf.keras.applications.EfficientNetB5(\n",
    "    include_top=True,\n",
    "    weights=\"imagenet\",\n",
    "    input_tensor=None,\n",
    "    input_shape=None,\n",
    "    pooling=None,\n",
    "    classes=1000,\n",
    "    classifier_activation=\"softmax\",\n",
    ")"
   ]
  },
  {
   "cell_type": "code",
   "execution_count": 37,
   "id": "53a19f95",
   "metadata": {},
   "outputs": [
    {
     "name": "stdout",
     "output_type": "stream",
     "text": [
      "Downloading data from https://storage.googleapis.com/keras-applications/efficientnetb6.h5\n",
      "174465024/174460376 [==============================] - 58s 0us/step\n",
      "174473216/174460376 [==============================] - 58s 0us/step\n"
     ]
    }
   ],
   "source": [
    "EfficientNetB6 = tf.keras.applications.EfficientNetB6(\n",
    "    include_top=True,\n",
    "    weights=\"imagenet\",\n",
    "    input_tensor=None,\n",
    "    input_shape=None,\n",
    "    pooling=None,\n",
    "    classes=1000,\n",
    "    classifier_activation=\"softmax\",\n",
    ")"
   ]
  },
  {
   "cell_type": "code",
   "execution_count": 42,
   "id": "87ecda55",
   "metadata": {},
   "outputs": [],
   "source": [
    "EfficientNetB7 = tf.keras.applications.EfficientNetB7(\n",
    "    include_top=True,\n",
    "    weights=\"imagenet\",\n",
    "    input_tensor=None,\n",
    "    input_shape=None,\n",
    "    pooling=None,\n",
    "    classes=1000,\n",
    "    classifier_activation=\"softmax\"\n",
    ")"
   ]
  },
  {
   "cell_type": "code",
   "execution_count": 70,
   "id": "a7f7c502",
   "metadata": {},
   "outputs": [],
   "source": [
    "model_lst = [xception, VGG16, VGG19,ResNet50, ResNet50V2, ResNet101, ResNet101V2, \n",
    "             ResNet152, ResNet152V2, InceptionV3, InceptionResNetV2, MobileNet, MobileNetV2, DenseNet121, \n",
    "             DenseNet169, DenseNet201, NASNetMobile, NASNetLarge, EfficientNetB0, \n",
    "             EfficientNetB1, EfficientNetB2, EfficientNetB3, EfficientNetB4, EfficientNetB5, EfficientNetB6, EfficientNetB7]"
   ]
  },
  {
   "cell_type": "code",
   "execution_count": 76,
   "id": "9285d455",
   "metadata": {},
   "outputs": [
    {
     "name": "stdout",
     "output_type": "stream",
     "text": [
      "Number of Model: 26\n"
     ]
    }
   ],
   "source": [
    "print(\"Number of Model: {}\".format(len(model_lst)))"
   ]
  },
  {
   "cell_type": "code",
   "execution_count": 71,
   "id": "a6db5b63",
   "metadata": {},
   "outputs": [
    {
     "name": "stdout",
     "output_type": "stream",
     "text": [
      "Example input of model: (None, 299, 299, 3)\n"
     ]
    }
   ],
   "source": [
    "print(\"Example input of model: {}\".format(model_lst[0].input_shape))"
   ]
  },
  {
   "cell_type": "code",
   "execution_count": 72,
   "id": "317ac2e7",
   "metadata": {},
   "outputs": [
    {
     "name": "stdout",
     "output_type": "stream",
     "text": [
      "Example number of layers in a model: 134\n"
     ]
    }
   ],
   "source": [
    "print(\"Example number of layers in a model: {}\".format(len(model_lst[0].layers)))"
   ]
  },
  {
   "cell_type": "code",
   "execution_count": 73,
   "id": "5311a51a",
   "metadata": {},
   "outputs": [
    {
     "name": "stdout",
     "output_type": "stream",
     "text": [
      "Example of layer name: input_1\n"
     ]
    }
   ],
   "source": [
    "print(\"Example of layer name: {}\".format(model_lst[0].layers[0].name))"
   ]
  },
  {
   "cell_type": "code",
   "execution_count": 79,
   "id": "fedfef6d",
   "metadata": {},
   "outputs": [
    {
     "data": {
      "text/html": [
       "<div>\n",
       "<style scoped>\n",
       "    .dataframe tbody tr th:only-of-type {\n",
       "        vertical-align: middle;\n",
       "    }\n",
       "\n",
       "    .dataframe tbody tr th {\n",
       "        vertical-align: top;\n",
       "    }\n",
       "\n",
       "    .dataframe thead th {\n",
       "        text-align: right;\n",
       "    }\n",
       "</style>\n",
       "<table border=\"1\" class=\"dataframe\">\n",
       "  <thead>\n",
       "    <tr style=\"text-align: right;\">\n",
       "      <th></th>\n",
       "      <th>'Model'</th>\n",
       "      <th>'Size (MB)'</th>\n",
       "      <th>'Top-1 Accuracy'</th>\n",
       "      <th>'Top-5 Accuracy'</th>\n",
       "      <th>'Parameters'</th>\n",
       "      <th>'Depth'</th>\n",
       "      <th>'Time (ms) per inference step (CPU)'</th>\n",
       "      <th>'Time (ms) per inference step (GPU)'</th>\n",
       "    </tr>\n",
       "  </thead>\n",
       "  <tbody>\n",
       "    <tr>\n",
       "      <th>0</th>\n",
       "      <td>Xception</td>\n",
       "      <td>88</td>\n",
       "      <td>79.0%</td>\n",
       "      <td>94.5%</td>\n",
       "      <td>22.9M</td>\n",
       "      <td>81</td>\n",
       "      <td>109.4</td>\n",
       "      <td>8.1</td>\n",
       "    </tr>\n",
       "    <tr>\n",
       "      <th>1</th>\n",
       "      <td>VGG16</td>\n",
       "      <td>528</td>\n",
       "      <td>71.3%</td>\n",
       "      <td>90.1%</td>\n",
       "      <td>138.4M</td>\n",
       "      <td>16</td>\n",
       "      <td>69.5</td>\n",
       "      <td>4.2</td>\n",
       "    </tr>\n",
       "    <tr>\n",
       "      <th>2</th>\n",
       "      <td>VGG19</td>\n",
       "      <td>549</td>\n",
       "      <td>71.3%</td>\n",
       "      <td>90.0%</td>\n",
       "      <td>143.7M</td>\n",
       "      <td>19</td>\n",
       "      <td>84.8</td>\n",
       "      <td>4.4</td>\n",
       "    </tr>\n",
       "    <tr>\n",
       "      <th>3</th>\n",
       "      <td>ResNet50</td>\n",
       "      <td>98</td>\n",
       "      <td>74.9%</td>\n",
       "      <td>92.1%</td>\n",
       "      <td>25.6M</td>\n",
       "      <td>107</td>\n",
       "      <td>58.2</td>\n",
       "      <td>4.6</td>\n",
       "    </tr>\n",
       "    <tr>\n",
       "      <th>4</th>\n",
       "      <td>ResNet50V2</td>\n",
       "      <td>98</td>\n",
       "      <td>76.0%</td>\n",
       "      <td>93.0%</td>\n",
       "      <td>25.6M</td>\n",
       "      <td>103</td>\n",
       "      <td>45.6</td>\n",
       "      <td>4.4</td>\n",
       "    </tr>\n",
       "  </tbody>\n",
       "</table>\n",
       "</div>"
      ],
      "text/plain": [
       "      'Model'   'Size (MB)'  'Top-1 Accuracy'  'Top-5 Accuracy'  'Parameters'  \\\n",
       "0    Xception            88             79.0%             94.5%         22.9M   \n",
       "1       VGG16           528             71.3%             90.1%        138.4M   \n",
       "2       VGG19           549             71.3%             90.0%        143.7M   \n",
       "3    ResNet50            98             74.9%             92.1%         25.6M   \n",
       "4  ResNet50V2            98             76.0%             93.0%         25.6M   \n",
       "\n",
       "    'Depth'   'Time (ms) per inference step (CPU)'  \\\n",
       "0        81                                  109.4   \n",
       "1        16                                   69.5   \n",
       "2        19                                   84.8   \n",
       "3       107                                   58.2   \n",
       "4       103                                   45.6   \n",
       "\n",
       "    'Time (ms) per inference step (GPU)'  \n",
       "0                                    8.1  \n",
       "1                                    4.2  \n",
       "2                                    4.4  \n",
       "3                                    4.6  \n",
       "4                                    4.4  "
      ]
     },
     "execution_count": 79,
     "metadata": {},
     "output_type": "execute_result"
    }
   ],
   "source": [
    "model_analysis_path = 'model_analysis.csv'\n",
    "model_df = pd.read_csv(model_analysis_path)\n",
    "model_df.head()"
   ]
  },
  {
   "cell_type": "code",
   "execution_count": 80,
   "id": "bf27ceb6",
   "metadata": {},
   "outputs": [
    {
     "data": {
      "text/plain": [
       "(26, 8)"
      ]
     },
     "execution_count": 80,
     "metadata": {},
     "output_type": "execute_result"
    }
   ],
   "source": [
    "model_df.shape"
   ]
  },
  {
   "cell_type": "code",
   "execution_count": 81,
   "id": "795d11c3",
   "metadata": {},
   "outputs": [],
   "source": [
    "model_df['Number of Layers'] = [len(x.layers) for x in model_lst]"
   ]
  },
  {
   "cell_type": "code",
   "execution_count": 82,
   "id": "d04388fa",
   "metadata": {},
   "outputs": [
    {
     "data": {
      "text/html": [
       "<div>\n",
       "<style scoped>\n",
       "    .dataframe tbody tr th:only-of-type {\n",
       "        vertical-align: middle;\n",
       "    }\n",
       "\n",
       "    .dataframe tbody tr th {\n",
       "        vertical-align: top;\n",
       "    }\n",
       "\n",
       "    .dataframe thead th {\n",
       "        text-align: right;\n",
       "    }\n",
       "</style>\n",
       "<table border=\"1\" class=\"dataframe\">\n",
       "  <thead>\n",
       "    <tr style=\"text-align: right;\">\n",
       "      <th></th>\n",
       "      <th>'Model'</th>\n",
       "      <th>'Size (MB)'</th>\n",
       "      <th>'Top-1 Accuracy'</th>\n",
       "      <th>'Top-5 Accuracy'</th>\n",
       "      <th>'Parameters'</th>\n",
       "      <th>'Depth'</th>\n",
       "      <th>'Time (ms) per inference step (CPU)'</th>\n",
       "      <th>'Time (ms) per inference step (GPU)'</th>\n",
       "      <th>Number of Layers</th>\n",
       "    </tr>\n",
       "  </thead>\n",
       "  <tbody>\n",
       "    <tr>\n",
       "      <th>0</th>\n",
       "      <td>Xception</td>\n",
       "      <td>88</td>\n",
       "      <td>79.0%</td>\n",
       "      <td>94.5%</td>\n",
       "      <td>22.9M</td>\n",
       "      <td>81</td>\n",
       "      <td>109.4</td>\n",
       "      <td>8.1</td>\n",
       "      <td>134</td>\n",
       "    </tr>\n",
       "    <tr>\n",
       "      <th>1</th>\n",
       "      <td>VGG16</td>\n",
       "      <td>528</td>\n",
       "      <td>71.3%</td>\n",
       "      <td>90.1%</td>\n",
       "      <td>138.4M</td>\n",
       "      <td>16</td>\n",
       "      <td>69.5</td>\n",
       "      <td>4.2</td>\n",
       "      <td>23</td>\n",
       "    </tr>\n",
       "    <tr>\n",
       "      <th>2</th>\n",
       "      <td>VGG19</td>\n",
       "      <td>549</td>\n",
       "      <td>71.3%</td>\n",
       "      <td>90.0%</td>\n",
       "      <td>143.7M</td>\n",
       "      <td>19</td>\n",
       "      <td>84.8</td>\n",
       "      <td>4.4</td>\n",
       "      <td>26</td>\n",
       "    </tr>\n",
       "    <tr>\n",
       "      <th>3</th>\n",
       "      <td>ResNet50</td>\n",
       "      <td>98</td>\n",
       "      <td>74.9%</td>\n",
       "      <td>92.1%</td>\n",
       "      <td>25.6M</td>\n",
       "      <td>107</td>\n",
       "      <td>58.2</td>\n",
       "      <td>4.6</td>\n",
       "      <td>177</td>\n",
       "    </tr>\n",
       "    <tr>\n",
       "      <th>4</th>\n",
       "      <td>ResNet50V2</td>\n",
       "      <td>98</td>\n",
       "      <td>76.0%</td>\n",
       "      <td>93.0%</td>\n",
       "      <td>25.6M</td>\n",
       "      <td>103</td>\n",
       "      <td>45.6</td>\n",
       "      <td>4.4</td>\n",
       "      <td>192</td>\n",
       "    </tr>\n",
       "  </tbody>\n",
       "</table>\n",
       "</div>"
      ],
      "text/plain": [
       "      'Model'   'Size (MB)'  'Top-1 Accuracy'  'Top-5 Accuracy'  'Parameters'  \\\n",
       "0    Xception            88             79.0%             94.5%         22.9M   \n",
       "1       VGG16           528             71.3%             90.1%        138.4M   \n",
       "2       VGG19           549             71.3%             90.0%        143.7M   \n",
       "3    ResNet50            98             74.9%             92.1%         25.6M   \n",
       "4  ResNet50V2            98             76.0%             93.0%         25.6M   \n",
       "\n",
       "    'Depth'   'Time (ms) per inference step (CPU)'  \\\n",
       "0        81                                  109.4   \n",
       "1        16                                   69.5   \n",
       "2        19                                   84.8   \n",
       "3       107                                   58.2   \n",
       "4       103                                   45.6   \n",
       "\n",
       "    'Time (ms) per inference step (GPU)'  Number of Layers  \n",
       "0                                    8.1               134  \n",
       "1                                    4.2                23  \n",
       "2                                    4.4                26  \n",
       "3                                    4.6               177  \n",
       "4                                    4.4               192  "
      ]
     },
     "execution_count": 82,
     "metadata": {},
     "output_type": "execute_result"
    }
   ],
   "source": [
    "model_df.head()"
   ]
  },
  {
   "cell_type": "code",
   "execution_count": 83,
   "id": "6d947678",
   "metadata": {},
   "outputs": [
    {
     "data": {
      "text/html": [
       "<div>\n",
       "<style scoped>\n",
       "    .dataframe tbody tr th:only-of-type {\n",
       "        vertical-align: middle;\n",
       "    }\n",
       "\n",
       "    .dataframe tbody tr th {\n",
       "        vertical-align: top;\n",
       "    }\n",
       "\n",
       "    .dataframe thead th {\n",
       "        text-align: right;\n",
       "    }\n",
       "</style>\n",
       "<table border=\"1\" class=\"dataframe\">\n",
       "  <thead>\n",
       "    <tr style=\"text-align: right;\">\n",
       "      <th></th>\n",
       "      <th>'Model'</th>\n",
       "      <th>'Size (MB)'</th>\n",
       "      <th>'Top-1 Accuracy'</th>\n",
       "      <th>'Top-5 Accuracy'</th>\n",
       "      <th>'Parameters'</th>\n",
       "      <th>'Depth'</th>\n",
       "      <th>'Time (ms) per inference step (CPU)'</th>\n",
       "      <th>'Time (ms) per inference step (GPU)'</th>\n",
       "      <th>Number of Layers</th>\n",
       "      <th>Input Shape</th>\n",
       "    </tr>\n",
       "  </thead>\n",
       "  <tbody>\n",
       "    <tr>\n",
       "      <th>0</th>\n",
       "      <td>Xception</td>\n",
       "      <td>88</td>\n",
       "      <td>79.0%</td>\n",
       "      <td>94.5%</td>\n",
       "      <td>22.9M</td>\n",
       "      <td>81</td>\n",
       "      <td>109.4</td>\n",
       "      <td>8.1</td>\n",
       "      <td>134</td>\n",
       "      <td>(None, 299, 299, 3)</td>\n",
       "    </tr>\n",
       "    <tr>\n",
       "      <th>1</th>\n",
       "      <td>VGG16</td>\n",
       "      <td>528</td>\n",
       "      <td>71.3%</td>\n",
       "      <td>90.1%</td>\n",
       "      <td>138.4M</td>\n",
       "      <td>16</td>\n",
       "      <td>69.5</td>\n",
       "      <td>4.2</td>\n",
       "      <td>23</td>\n",
       "      <td>(None, 224, 224, 3)</td>\n",
       "    </tr>\n",
       "    <tr>\n",
       "      <th>2</th>\n",
       "      <td>VGG19</td>\n",
       "      <td>549</td>\n",
       "      <td>71.3%</td>\n",
       "      <td>90.0%</td>\n",
       "      <td>143.7M</td>\n",
       "      <td>19</td>\n",
       "      <td>84.8</td>\n",
       "      <td>4.4</td>\n",
       "      <td>26</td>\n",
       "      <td>(None, 224, 224, 3)</td>\n",
       "    </tr>\n",
       "    <tr>\n",
       "      <th>3</th>\n",
       "      <td>ResNet50</td>\n",
       "      <td>98</td>\n",
       "      <td>74.9%</td>\n",
       "      <td>92.1%</td>\n",
       "      <td>25.6M</td>\n",
       "      <td>107</td>\n",
       "      <td>58.2</td>\n",
       "      <td>4.6</td>\n",
       "      <td>177</td>\n",
       "      <td>(None, 224, 224, 3)</td>\n",
       "    </tr>\n",
       "    <tr>\n",
       "      <th>4</th>\n",
       "      <td>ResNet50V2</td>\n",
       "      <td>98</td>\n",
       "      <td>76.0%</td>\n",
       "      <td>93.0%</td>\n",
       "      <td>25.6M</td>\n",
       "      <td>103</td>\n",
       "      <td>45.6</td>\n",
       "      <td>4.4</td>\n",
       "      <td>192</td>\n",
       "      <td>(None, 224, 224, 3)</td>\n",
       "    </tr>\n",
       "  </tbody>\n",
       "</table>\n",
       "</div>"
      ],
      "text/plain": [
       "      'Model'   'Size (MB)'  'Top-1 Accuracy'  'Top-5 Accuracy'  'Parameters'  \\\n",
       "0    Xception            88             79.0%             94.5%         22.9M   \n",
       "1       VGG16           528             71.3%             90.1%        138.4M   \n",
       "2       VGG19           549             71.3%             90.0%        143.7M   \n",
       "3    ResNet50            98             74.9%             92.1%         25.6M   \n",
       "4  ResNet50V2            98             76.0%             93.0%         25.6M   \n",
       "\n",
       "    'Depth'   'Time (ms) per inference step (CPU)'  \\\n",
       "0        81                                  109.4   \n",
       "1        16                                   69.5   \n",
       "2        19                                   84.8   \n",
       "3       107                                   58.2   \n",
       "4       103                                   45.6   \n",
       "\n",
       "    'Time (ms) per inference step (GPU)'  Number of Layers  \\\n",
       "0                                    8.1               134   \n",
       "1                                    4.2                23   \n",
       "2                                    4.4                26   \n",
       "3                                    4.6               177   \n",
       "4                                    4.4               192   \n",
       "\n",
       "           Input Shape  \n",
       "0  (None, 299, 299, 3)  \n",
       "1  (None, 224, 224, 3)  \n",
       "2  (None, 224, 224, 3)  \n",
       "3  (None, 224, 224, 3)  \n",
       "4  (None, 224, 224, 3)  "
      ]
     },
     "execution_count": 83,
     "metadata": {},
     "output_type": "execute_result"
    }
   ],
   "source": [
    "model_df['Input Shape'] = [x.input_shape for x in model_lst]\n",
    "model_df.head()"
   ]
  },
  {
   "cell_type": "code",
   "execution_count": null,
   "id": "f74c2991",
   "metadata": {},
   "outputs": [],
   "source": []
  }
 ],
 "metadata": {
  "kernelspec": {
   "display_name": "Python 3 (ipykernel)",
   "language": "python",
   "name": "python3"
  },
  "language_info": {
   "codemirror_mode": {
    "name": "ipython",
    "version": 3
   },
   "file_extension": ".py",
   "mimetype": "text/x-python",
   "name": "python",
   "nbconvert_exporter": "python",
   "pygments_lexer": "ipython3",
   "version": "3.9.6"
  }
 },
 "nbformat": 4,
 "nbformat_minor": 5
}
