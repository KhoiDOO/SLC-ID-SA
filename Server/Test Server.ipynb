{
 "cells": [
  {
   "cell_type": "code",
   "execution_count": 1,
   "id": "63c48950",
   "metadata": {},
   "outputs": [
    {
     "name": "stdout",
     "output_type": "stream",
     "text": [
      "294\n",
      "463\n",
      "980\n",
      "103\n",
      "1000\n",
      "5994\n",
      "128\n",
      "Example: D:/Data/HAM100000 - Harvard Dataset/preprocessed_data/train/akiec\\ISIC_0024329.jpg\n"
     ]
    }
   ],
   "source": [
    "from flask import Flask, request, send_from_directory, send_file, url_for\n",
    "import glob as glob\n",
    "\n",
    "preprocessed_data_dir = 'D:/Data/HAM100000 - Harvard Dataset/preprocessed_data/train/'\n",
    "class_lst = ['akiec', 'bcc', 'bkl', 'df', 'mel', 'nv', 'vasc']\n",
    "\n",
    "akiec_lst = glob.glob(preprocessed_data_dir + class_lst[0] + '/*')\n",
    "bcc_lst = glob.glob(preprocessed_data_dir + class_lst[1] + '/*')\n",
    "bkl_lst = glob.glob(preprocessed_data_dir + class_lst[2] + '/*')\n",
    "df_lst = glob.glob(preprocessed_data_dir + class_lst[3] + '/*')\n",
    "mel_lst = glob.glob(preprocessed_data_dir + class_lst[4] + '/*')\n",
    "nv_lst = glob.glob(preprocessed_data_dir + class_lst[5] + '/*')\n",
    "vasc_lst = glob.glob(preprocessed_data_dir + class_lst[6] + '/*')\n",
    "\n",
    "print(len(akiec_lst))\n",
    "print(len(bcc_lst))\n",
    "print(len(bkl_lst))\n",
    "print(len(df_lst))\n",
    "print(len(mel_lst))\n",
    "print(len(nv_lst))\n",
    "print(len(vasc_lst))\n",
    "\n",
    "print(\"Example: {}\".format(akiec_lst[0]))"
   ]
  },
  {
   "cell_type": "code",
   "execution_count": 3,
   "id": "82ff09ff",
   "metadata": {},
   "outputs": [],
   "source": [
    "#Uploading file\n",
    "import requests\n",
    "\n",
    "url = \"http://127.0.0.1:5000/upload/khoi\"\n",
    "files = {'files': open(akiec_lst[0], 'rb')}\n",
    "\n",
    "r = requests.post(url, files=files)"
   ]
  },
  {
   "cell_type": "code",
   "execution_count": 4,
   "id": "1241f2b1",
   "metadata": {},
   "outputs": [
    {
     "name": "stdout",
     "output_type": "stream",
     "text": [
      "<Response [200]>\n",
      "b'{\"akiec\":99.84,\"bcc\":0.04,\"nv\":0.05}\\n'\n",
      "123\n",
      "{'_content': b'{\"akiec\":99.84,\"bcc\":0.04,\"nv\":0.05}\\n', '_content_consumed': True, '_next': None, 'status_code': 200, 'headers': {'Content-Type': 'application/json', 'Content-Length': '37', 'Server': 'Werkzeug/2.0.2 Python/3.9.5', 'Date': 'Sat, 11 Jun 2022 11:32:21 GMT'}, 'raw': <urllib3.response.HTTPResponse object at 0x0000023C1B77BFA0>, 'url': 'http://127.0.0.1:5000/diagnosis', 'encoding': 'utf-8', 'history': [], 'reason': 'OK', 'cookies': <RequestsCookieJar[]>, 'elapsed': datetime.timedelta(microseconds=521759), 'request': <PreparedRequest [POST]>, 'connection': <requests.adapters.HTTPAdapter object at 0x0000023C1B7A9AF0>}\n"
     ]
    }
   ],
   "source": [
    "#Get Diagnosis\n",
    "\n",
    "val_dict = {'age' : 15,\n",
    "                'sex' : 'male',\n",
    "                'local' : 'back',\n",
    "                'path' : 'khoi'}\n",
    "\n",
    "url_diagnosis = \"http://127.0.0.1:5000/diagnosis\"\n",
    "r = requests.post(url_diagnosis, json=val_dict)\n",
    "print(r)\n",
    "print(r._content)\n",
    "print(r._content[0])\n",
    "print(r.__dict__)"
   ]
  }
 ],
 "metadata": {
  "kernelspec": {
   "display_name": "Python 3 (ipykernel)",
   "language": "python",
   "name": "python3"
  },
  "language_info": {
   "codemirror_mode": {
    "name": "ipython",
    "version": 3
   },
   "file_extension": ".py",
   "mimetype": "text/x-python",
   "name": "python",
   "nbconvert_exporter": "python",
   "pygments_lexer": "ipython3",
   "version": "3.9.5"
  }
 },
 "nbformat": 4,
 "nbformat_minor": 5
}
