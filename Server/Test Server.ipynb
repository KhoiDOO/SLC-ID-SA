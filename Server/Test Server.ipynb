{
 "cells": [
  {
   "cell_type": "code",
   "execution_count": 1,
   "id": "63c48950",
   "metadata": {},
   "outputs": [
    {
     "name": "stdout",
     "output_type": "stream",
     "text": [
      "294\n",
      "463\n",
      "980\n",
      "103\n",
      "1000\n",
      "5994\n",
      "128\n",
      "Example: D:/Data/HAM100000 - Harvard Dataset/preprocessed_data/train/akiec\\ISIC_0024329.jpg\n"
     ]
    }
   ],
   "source": [
    "from flask import Flask, request, send_from_directory, send_file, url_for\n",
    "import glob as glob\n",
    "\n",
    "preprocessed_data_dir = 'D:/Data/HAM100000 - Harvard Dataset/preprocessed_data/train/'\n",
    "class_lst = ['akiec', 'bcc', 'bkl', 'df', 'mel', 'nv', 'vasc']\n",
    "\n",
    "akiec_lst = glob.glob(preprocessed_data_dir + class_lst[0] + '/*')\n",
    "bcc_lst = glob.glob(preprocessed_data_dir + class_lst[1] + '/*')\n",
    "bkl_lst = glob.glob(preprocessed_data_dir + class_lst[2] + '/*')\n",
    "df_lst = glob.glob(preprocessed_data_dir + class_lst[3] + '/*')\n",
    "mel_lst = glob.glob(preprocessed_data_dir + class_lst[4] + '/*')\n",
    "nv_lst = glob.glob(preprocessed_data_dir + class_lst[5] + '/*')\n",
    "vasc_lst = glob.glob(preprocessed_data_dir + class_lst[6] + '/*')\n",
    "\n",
    "print(len(akiec_lst))\n",
    "print(len(bcc_lst))\n",
    "print(len(bkl_lst))\n",
    "print(len(df_lst))\n",
    "print(len(mel_lst))\n",
    "print(len(nv_lst))\n",
    "print(len(vasc_lst))\n",
    "\n",
    "print(\"Example: {}\".format(akiec_lst[0]))"
   ]
  },
  {
   "cell_type": "code",
   "execution_count": 10,
   "id": "82ff09ff",
   "metadata": {},
   "outputs": [],
   "source": [
    "#Uploading file\n",
    "import requests\n",
    "\n",
    "url = \"http://127.0.0.1:5000/\"\n",
    "\n",
    "global_url = \"https://8318-2001-ee0-4001-b87f-901b-291d-cd8b-9cd7.ngrok.io/\"\n",
    "\n",
    "filename = \"test1\"\n",
    "global_url_upload = global_url + 'upload/' + filename\n",
    "url_upload = url + 'upload/' + filename\n",
    "\n",
    "files = {'files': open(akiec_lst[10], 'rb')}\n",
    "\n",
    "r = requests.post(global_url_upload, files=files)"
   ]
  },
  {
   "cell_type": "code",
   "execution_count": 11,
   "id": "1241f2b1",
   "metadata": {},
   "outputs": [
    {
     "name": "stdout",
     "output_type": "stream",
     "text": [
      "<Response [200]>\n",
      "b'{\"D\\\\u00e0y s\\\\u1eebng ti\\\\u1ebft b\\\\u00e3 (bkl)\":0.0,\"N\\\\u1ed1t ru\\\\u1ed3i (nv)\":2.17,\"Ung th\\\\u01b0 t\\\\u1ebf b\\\\u00e0o v\\\\u1ea3y khu tr\\\\u00fa (akiec)\":97.83}\\n'\n",
      "123\n",
      "{'_content': b'{\"D\\\\u00e0y s\\\\u1eebng ti\\\\u1ebft b\\\\u00e3 (bkl)\":0.0,\"N\\\\u1ed1t ru\\\\u1ed3i (nv)\":2.17,\"Ung th\\\\u01b0 t\\\\u1ebf b\\\\u00e0o v\\\\u1ea3y khu tr\\\\u00fa (akiec)\":97.83}\\n', '_content_consumed': True, '_next': None, 'status_code': 200, 'headers': {'Access-Control-Allow-Origin': '*', 'Content-Length': '150', 'Content-Type': 'application/json', 'Date': 'Sun, 19 Jun 2022 11:31:12 GMT', 'Ngrok-Trace-Id': '933e86edb6c20db92e7543d887e4797d', 'Server': 'Werkzeug/2.0.3 Python/3.8.5'}, 'raw': <urllib3.response.HTTPResponse object at 0x000002643B3842B0>, 'url': 'https://8318-2001-ee0-4001-b87f-901b-291d-cd8b-9cd7.ngrok.io/diagnosis', 'encoding': 'utf-8', 'history': [], 'reason': 'OK', 'cookies': <RequestsCookieJar[]>, 'elapsed': datetime.timedelta(seconds=1, microseconds=562142), 'request': <PreparedRequest [POST]>, 'connection': <requests.adapters.HTTPAdapter object at 0x000002643B3849D0>}\n"
     ]
    }
   ],
   "source": [
    "#Get Diagnosis\n",
    "\n",
    "val_dict = {'age' : 15,\n",
    "                'sex' : 'male',\n",
    "                'local' : 'back',\n",
    "                'path' : 'test1'}\n",
    "\n",
    "url_diagnosis = url + \"/diagnosis\"\n",
    "global_url_diagnosis = global_url + \"diagnosis\"\n",
    "\n",
    "r = requests.post(global_url_diagnosis, json=val_dict)\n",
    "print(r)\n",
    "print(r._content)\n",
    "print(r._content[0])\n",
    "print(r.__dict__)"
   ]
  }
 ],
 "metadata": {
  "kernelspec": {
   "display_name": "Python 3 (ipykernel)",
   "language": "python",
   "name": "python3"
  },
  "language_info": {
   "codemirror_mode": {
    "name": "ipython",
    "version": 3
   },
   "file_extension": ".py",
   "mimetype": "text/x-python",
   "name": "python",
   "nbconvert_exporter": "python",
   "pygments_lexer": "ipython3",
   "version": "3.8.5"
  }
 },
 "nbformat": 4,
 "nbformat_minor": 5
}
