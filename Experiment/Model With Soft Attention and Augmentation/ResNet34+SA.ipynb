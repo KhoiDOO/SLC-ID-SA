{
 "cells": [
  {
   "cell_type": "code",
   "execution_count": 24,
   "metadata": {
    "id": "Aa36bMKLze3z"
   },
   "outputs": [],
   "source": [
    "import pandas as pd\n",
    "import numpy as np\n",
    "import os\n",
    "import tensorflow as tf\n",
    "import cv2\n",
    "from keras import backend as K\n",
    "from keras.layers import Layer,InputSpec\n",
    "import keras.layers as kl\n",
    "from glob import glob\n",
    "from sklearn.metrics import roc_curve, auc\n",
    "from keras.preprocessing import image\n",
    "from tensorflow.keras.models import Sequential\n",
    "from sklearn.metrics import roc_auc_score\n",
    "from tensorflow.keras import callbacks \n",
    "from tensorflow.keras.callbacks import ModelCheckpoint,EarlyStopping\n",
    "from  matplotlib import pyplot as plt\n",
    "from tensorflow.keras import Model\n",
    "from tensorflow.keras.layers import concatenate,Dense, Conv2D, MaxPooling2D, Flatten,Input,Activation,add,AveragePooling2D,GlobalAveragePooling2D,BatchNormalization,Dropout\n",
    "%matplotlib inline\n",
    "import shutil\n",
    "from sklearn.metrics import  precision_score, recall_score, accuracy_score,classification_report ,confusion_matrix\n",
    "from tensorflow.python.platform import build_info as tf_build_info\n",
    "from tensorflow.keras.preprocessing.image import ImageDataGenerator\n",
    "from sklearn.model_selection import train_test_split\n",
    "\n",
    "from PIL import ImageFile\n",
    "ImageFile.LOAD_TRUNCATED_IMAGES = True"
   ]
  },
  {
   "cell_type": "code",
   "execution_count": 44,
   "metadata": {
    "colab": {
     "base_uri": "https://localhost:8080/"
    },
    "id": "4W8hmE2OHjQa",
    "outputId": "e57e21fb-559b-40f8-8755-d8e45bd3e8a4"
   },
   "outputs": [],
   "source": [
    "datagen = tf.keras.preprocessing.image.ImageDataGenerator(\n",
    "\n",
    "        rotation_range=180,\n",
    "        width_shift_range=0.1,\n",
    "        height_shift_range=0.1,\n",
    "        zoom_range=0.1,\n",
    "        horizontal_flip=True,\n",
    "        vertical_flip=True,\n",
    "        fill_mode='nearest'\n",
    "\n",
    "    )"
   ]
  },
  {
   "cell_type": "code",
   "execution_count": 45,
   "metadata": {
    "id": "wNisha_gM3_Z"
   },
   "outputs": [],
   "source": [
    "train_path = 'D:/Data/HAM100000 - Harvard Dataset/preprocessed_data_15split/train'\n",
    "test_path = 'D:/Data/HAM100000 - Harvard Dataset/preprocessed_data_15split/val'\n",
    "batch_size = 16 "
   ]
  },
  {
   "cell_type": "code",
   "execution_count": 46,
   "metadata": {
    "id": "zhQWqdRN79B3"
   },
   "outputs": [],
   "source": [
    "datagen=ImageDataGenerator(preprocessing_function=tf.keras.applications.inception_resnet_v2.preprocess_input)"
   ]
  },
  {
   "cell_type": "code",
   "execution_count": 47,
   "metadata": {
    "colab": {
     "base_uri": "https://localhost:8080/"
    },
    "id": "w9_8FvOO7Rtu",
    "outputId": "7ca88c24-fda8-45d6-cb32-f3a43ae6ba5b"
   },
   "outputs": [
    {
     "name": "stdout",
     "output_type": "stream",
     "text": [
      "\n",
      "Train Batches: \n",
      "Found 8464 images belonging to 7 classes.\n",
      "\n",
      "Test Batches: \n",
      "Found 1494 images belonging to 7 classes.\n"
     ]
    }
   ],
   "source": [
    "image_size = 224\n",
    "print(\"\\nTrain Batches: \")\n",
    "train_batches = datagen.flow_from_directory(directory=train_path,\n",
    "                                            target_size=(image_size,image_size),\n",
    "                                            batch_size=batch_size,\n",
    "                                            shuffle=True)\n",
    "\n",
    "print(\"\\nTest Batches: \")\n",
    "test_batches =datagen.flow_from_directory(test_path,\n",
    "                                           target_size=(image_size,image_size),\n",
    "                                           batch_size=batch_size,\n",
    "                                           shuffle=False)"
   ]
  },
  {
   "cell_type": "code",
   "execution_count": 48,
   "metadata": {
    "id": "AbwfHcsOPKYB"
   },
   "outputs": [],
   "source": [
    "#Soft Attention\n",
    "\n",
    "from keras import backend as K\n",
    "from keras.layers import Layer,InputSpec\n",
    "import keras.layers as kl\n",
    "import tensorflow as tf\n",
    "\n",
    "\n",
    "\n",
    "class SoftAttention(Layer):\n",
    "    def __init__(self,ch,m,concat_with_x=False,aggregate=False,**kwargs):\n",
    "        self.channels=int(ch)\n",
    "        self.multiheads = m\n",
    "        self.aggregate_channels = aggregate\n",
    "        self.concat_input_with_scaled = concat_with_x\n",
    "\n",
    "        \n",
    "        super(SoftAttention,self).__init__(**kwargs)\n",
    "\n",
    "    def build(self,input_shape):\n",
    "\n",
    "        self.i_shape = input_shape\n",
    "\n",
    "        kernel_shape_conv3d = (self.channels, 3, 3) + (1, self.multiheads) # DHWC\n",
    "    \n",
    "        self.out_attention_maps_shape = input_shape[0:1]+(self.multiheads,)+input_shape[1:-1]\n",
    "        \n",
    "        if self.aggregate_channels==False:\n",
    "\n",
    "            self.out_features_shape = input_shape[:-1]+(input_shape[-1]+(input_shape[-1]*self.multiheads),)\n",
    "        else:\n",
    "            if self.concat_input_with_scaled:\n",
    "                self.out_features_shape = input_shape[:-1]+(input_shape[-1]*2,)\n",
    "            else:\n",
    "                self.out_features_shape = input_shape\n",
    "        \n",
    "\n",
    "        self.kernel_conv3d = self.add_weight(shape=kernel_shape_conv3d,\n",
    "                                        initializer='he_uniform',\n",
    "                                        name='kernel_conv3d')\n",
    "        self.bias_conv3d = self.add_weight(shape=(self.multiheads,),\n",
    "                                      initializer='zeros',\n",
    "                                      name='bias_conv3d')\n",
    "\n",
    "        super(SoftAttention, self).build(input_shape)\n",
    "\n",
    "    def call(self, x):\n",
    "\n",
    "        exp_x = K.expand_dims(x,axis=-1)\n",
    "\n",
    "        c3d = K.conv3d(exp_x,\n",
    "                     kernel=self.kernel_conv3d,\n",
    "                     strides=(1,1,self.i_shape[-1]), padding='same', data_format='channels_last')\n",
    "        conv3d = K.bias_add(c3d,\n",
    "                        self.bias_conv3d)\n",
    "        conv3d = kl.Activation('relu')(conv3d)\n",
    "\n",
    "        conv3d = K.permute_dimensions(conv3d,pattern=(0,4,1,2,3))\n",
    "\n",
    "        \n",
    "        conv3d = K.squeeze(conv3d, axis=-1)\n",
    "        conv3d = K.reshape(conv3d,shape=(-1, self.multiheads ,self.i_shape[1]*self.i_shape[2]))\n",
    "\n",
    "        softmax_alpha = K.softmax(conv3d, axis=-1) \n",
    "        softmax_alpha = kl.Reshape(target_shape=(self.multiheads, self.i_shape[1],self.i_shape[2]))(softmax_alpha)\n",
    "\n",
    "        \n",
    "        if self.aggregate_channels==False:\n",
    "            exp_softmax_alpha = K.expand_dims(softmax_alpha, axis=-1)       \n",
    "            exp_softmax_alpha = K.permute_dimensions(exp_softmax_alpha,pattern=(0,2,3,1,4))\n",
    "   \n",
    "            x_exp = K.expand_dims(x,axis=-2)\n",
    "   \n",
    "            u = kl.Multiply()([exp_softmax_alpha, x_exp])   \n",
    "  \n",
    "            u = kl.Reshape(target_shape=(self.i_shape[1],self.i_shape[2],u.shape[-1]*u.shape[-2]))(u)\n",
    "\n",
    "        else:\n",
    "            exp_softmax_alpha = K.permute_dimensions(softmax_alpha,pattern=(0,2,3,1))\n",
    "\n",
    "            exp_softmax_alpha = K.sum(exp_softmax_alpha,axis=-1)\n",
    "\n",
    "            exp_softmax_alpha = K.expand_dims(exp_softmax_alpha, axis=-1)\n",
    "\n",
    "            u = kl.Multiply()([exp_softmax_alpha, x])   \n",
    "\n",
    "        if self.concat_input_with_scaled:\n",
    "            o = kl.Concatenate(axis=-1)([u,x])\n",
    "        else:\n",
    "            o = u\n",
    "        \n",
    "        return [o, softmax_alpha]\n",
    "\n",
    "    def compute_output_shape(self, input_shape): \n",
    "        return [self.out_features_shape, self.out_attention_maps_shape]\n",
    "\n",
    "    \n",
    "    def get_config(self):\n",
    "        return super(SoftAttention,self).get_config()\n",
    " "
   ]
  },
  {
   "cell_type": "code",
   "execution_count": 49,
   "metadata": {
    "id": "hFTeCTrHxmVB"
   },
   "outputs": [],
   "source": [
    "MainInput=Input(shape=(224, 224, 3))"
   ]
  },
  {
   "cell_type": "markdown",
   "metadata": {
    "id": "KhGQyMhOpeCD"
   },
   "source": [
    "Convolution Layer1"
   ]
  },
  {
   "cell_type": "code",
   "execution_count": 50,
   "metadata": {
    "id": "odCmp11yPxH8"
   },
   "outputs": [],
   "source": [
    "def convlayer1(input_value):\n",
    "  conv1=Conv2D(filters=64, kernel_size=(3,3), strides=(2,2),activation=\"relu\",padding=\"same\")(input_value)\n",
    "  conv1=BatchNormalization()(conv1)\n",
    "  pool1=MaxPooling2D(pool_size=(3, 3), strides=(2, 2), padding=\"same\")(conv1)\n",
    "  return pool1"
   ]
  },
  {
   "cell_type": "markdown",
   "metadata": {
    "id": "R1ZKWzO4pilI"
   },
   "source": [
    "Convolution Layer2"
   ]
  },
  {
   "cell_type": "code",
   "execution_count": 51,
   "metadata": {
    "id": "HT1YXwIPRZbf"
   },
   "outputs": [],
   "source": [
    "def convlayer2(input_value):\n",
    "  conv2=Conv2D(filters=64, kernel_size=(3,3),activation=\"relu\",padding=\"same\")(input_value)\n",
    "  conv2=BatchNormalization()(conv2)\n",
    "  conv2=Conv2D(filters=64, kernel_size=(3,3),activation=\"relu\",padding=\"same\")(conv2)\n",
    "  conv2=BatchNormalization()(conv2)\n",
    "\n",
    "  resnet=add([input_value,conv2])\n",
    "  resnet=Activation(\"relu\")(resnet)\n",
    "  return resnet"
   ]
  },
  {
   "cell_type": "markdown",
   "metadata": {
    "id": "USBhFR5gpnME"
   },
   "source": [
    "Convolution Layer3"
   ]
  },
  {
   "cell_type": "code",
   "execution_count": 52,
   "metadata": {
    "id": "_nPg2HJpYgz9"
   },
   "outputs": [],
   "source": [
    "def convlayer3(input_value):\n",
    "  conv3=Conv2D(filters=128, kernel_size=(3,3),activation=\"relu\",padding=\"same\")(input_value)\n",
    "  conv3=BatchNormalization()(conv3)\n",
    "  conv3=Conv2D(filters=128, kernel_size=(3,3),activation=\"relu\",padding=\"same\")(conv3)\n",
    "  conv3=BatchNormalization()(conv3)\n",
    "\n",
    "\n",
    "  skip=Conv2D(filters=128, kernel_size=(3,3),activation=\"relu\",padding=\"same\")(input_value)\n",
    "  skip=BatchNormalization()(skip)\n",
    "\n",
    "  resnet=add([skip,conv3])\n",
    "  resnet=Activation(\"relu\")(resnet)\n",
    "  return resnet"
   ]
  },
  {
   "cell_type": "markdown",
   "metadata": {
    "id": "I4tsl9j4pqbM"
   },
   "source": [
    "Convolution Layer4"
   ]
  },
  {
   "cell_type": "code",
   "execution_count": 53,
   "metadata": {
    "id": "qdF17bOVcOgm"
   },
   "outputs": [],
   "source": [
    "def convlayer4(input_value):\n",
    "  conv4=Conv2D(filters=256, kernel_size=(3,3),activation=\"relu\",padding=\"same\")(input_value)\n",
    "  conv4=BatchNormalization()(conv4)\n",
    "  conv4=Conv2D(filters=256, kernel_size=(3,3),activation=\"relu\",padding=\"same\")(conv4)\n",
    "  conv4=BatchNormalization()(conv4)\n",
    "\n",
    "\n",
    "  skip=Conv2D(filters=256, kernel_size=(3,3),activation=\"relu\",padding=\"same\")(input_value)\n",
    "  skip=BatchNormalization()(skip)\n",
    "\n",
    "  resnet=add([skip,conv4])\n",
    "  resnet=Activation(\"relu\")(resnet)\n",
    "  return resnet"
   ]
  },
  {
   "cell_type": "markdown",
   "metadata": {
    "id": "XtCmWBrMpsPa"
   },
   "source": [
    "Convolution Layer5"
   ]
  },
  {
   "cell_type": "code",
   "execution_count": 54,
   "metadata": {
    "id": "UvPYkGTaeLhZ"
   },
   "outputs": [],
   "source": [
    "def convlayer5(input_value):\n",
    "  conv5=Conv2D(filters=512, kernel_size=(3,3),activation=\"relu\",padding=\"same\")(input_value)\n",
    "  conv5=BatchNormalization()(conv5)\n",
    "  conv5=Conv2D(filters=512, kernel_size=(3,3),activation=\"relu\",padding=\"same\")(conv5)\n",
    "  conv5=BatchNormalization()(conv5)\n",
    "\n",
    "\n",
    "  skip=Conv2D(filters=512, kernel_size=(3,3),activation=\"relu\",padding=\"same\")(input_value)\n",
    "  skip=BatchNormalization()(skip)\n",
    "\n",
    "  resnet=add([skip,conv5])\n",
    "  resnet=Activation(\"relu\")(resnet)\n",
    "  return resnet"
   ]
  },
  {
   "cell_type": "markdown",
   "metadata": {
    "id": "2DOcFrdJpufS"
   },
   "source": [
    "Model Creation"
   ]
  },
  {
   "cell_type": "markdown",
   "metadata": {
    "id": "IAdwZSB1vdkh"
   },
   "source": [
    "Block 1"
   ]
  },
  {
   "cell_type": "code",
   "execution_count": 55,
   "metadata": {
    "id": "3ArglzcZVVQz"
   },
   "outputs": [],
   "source": [
    "block1=convlayer1(MainInput)"
   ]
  },
  {
   "cell_type": "markdown",
   "metadata": {
    "id": "1sPrsEv-vfvK"
   },
   "source": [
    "Block 2"
   ]
  },
  {
   "cell_type": "code",
   "execution_count": 56,
   "metadata": {
    "id": "KOgJnwJ1oUtt"
   },
   "outputs": [],
   "source": [
    "block2=convlayer2(block1)\n",
    "for i in range(0,2):\n",
    "  block2=convlayer2(block2)"
   ]
  },
  {
   "cell_type": "markdown",
   "metadata": {
    "id": "E5Mi_fqivut7"
   },
   "source": [
    "Block 3"
   ]
  },
  {
   "cell_type": "code",
   "execution_count": 57,
   "metadata": {
    "id": "rcwxMRksoU8e"
   },
   "outputs": [],
   "source": [
    "maxpool=MaxPooling2D(pool_size=(2,2), padding='same')(block2)\n",
    "block3=convlayer3(maxpool)\n",
    "\n",
    "for i in range(0,3):\n",
    "  block3=convlayer3(block3)"
   ]
  },
  {
   "cell_type": "markdown",
   "metadata": {
    "id": "xrJGFkN-p4C1"
   },
   "source": [
    "Soft Attention Layer"
   ]
  },
  {
   "cell_type": "code",
   "execution_count": 58,
   "metadata": {
    "id": "zgfUsST8pOUu"
   },
   "outputs": [],
   "source": [
    "\n",
    "attention_layer2,map2 = SoftAttention(aggregate=True,m=16,concat_with_x=False,ch=int(block3.shape[-1]),name='soft_attention')(block3)\n",
    "attention_layer2=MaxPooling2D(pool_size=(2,2), padding='same')(attention_layer2)\n",
    "maxpool=MaxPooling2D(pool_size=(2,2), padding='same')(block3)\n",
    "\n",
    "concat2=concatenate([maxpool,attention_layer2])\n",
    "conv = Activation(\"relu\")(concat2)\n",
    "conv= Dropout(0.5)(conv)"
   ]
  },
  {
   "cell_type": "markdown",
   "metadata": {
    "id": "uJ-QboJVvxlp"
   },
   "source": [
    "Block 4"
   ]
  },
  {
   "cell_type": "code",
   "execution_count": 59,
   "metadata": {
    "id": "efPzoqDUolU7"
   },
   "outputs": [],
   "source": [
    "block4=convlayer4(conv)\n",
    "for i in range(0,5):\n",
    "  block4=convlayer4(block4)"
   ]
  },
  {
   "cell_type": "markdown",
   "metadata": {
    "id": "0EoaJhSSvzWV"
   },
   "source": [
    "Block 5"
   ]
  },
  {
   "cell_type": "code",
   "execution_count": 60,
   "metadata": {
    "id": "Ok6DJ5Keol4p"
   },
   "outputs": [],
   "source": [
    "maxpool=MaxPooling2D(pool_size=(2,2), padding='same')(block4)\n",
    "block5=convlayer5(maxpool)\n",
    "for i in range(0,2):\n",
    "  block5=convlayer5(block5)"
   ]
  },
  {
   "cell_type": "markdown",
   "metadata": {
    "id": "5dAWWGdqv1NV"
   },
   "source": [
    "Output Layer"
   ]
  },
  {
   "cell_type": "code",
   "execution_count": 61,
   "metadata": {
    "id": "R13YR5JxVpOg"
   },
   "outputs": [],
   "source": [
    "\n",
    "output = GlobalAveragePooling2D()(block5)\n",
    "output = Dense(7, activation='softmax')(output)\n",
    "model = Model(inputs=MainInput, outputs=output)"
   ]
  },
  {
   "cell_type": "code",
   "execution_count": 62,
   "metadata": {
    "colab": {
     "base_uri": "https://localhost:8080/"
    },
    "id": "qjaB6OrPkhFq",
    "outputId": "44042a41-46b1-40a1-aa34-91a6b2183457"
   },
   "outputs": [
    {
     "name": "stdout",
     "output_type": "stream",
     "text": [
      "Model: \"model\"\n",
      "__________________________________________________________________________________________________\n",
      " Layer (type)                   Output Shape         Param #     Connected to                     \n",
      "==================================================================================================\n",
      " input_1 (InputLayer)           [(None, 224, 224, 3  0           []                               \n",
      "                                )]                                                                \n",
      "                                                                                                  \n",
      " conv2d (Conv2D)                (None, 112, 112, 64  1792        ['input_1[0][0]']                \n",
      "                                )                                                                 \n",
      "                                                                                                  \n",
      " batch_normalization (BatchNorm  (None, 112, 112, 64  256        ['conv2d[0][0]']                 \n",
      " alization)                     )                                                                 \n",
      "                                                                                                  \n",
      " max_pooling2d (MaxPooling2D)   (None, 56, 56, 64)   0           ['batch_normalization[0][0]']    \n",
      "                                                                                                  \n",
      " conv2d_1 (Conv2D)              (None, 56, 56, 64)   36928       ['max_pooling2d[0][0]']          \n",
      "                                                                                                  \n",
      " batch_normalization_1 (BatchNo  (None, 56, 56, 64)  256         ['conv2d_1[0][0]']               \n",
      " rmalization)                                                                                     \n",
      "                                                                                                  \n",
      " conv2d_2 (Conv2D)              (None, 56, 56, 64)   36928       ['batch_normalization_1[0][0]']  \n",
      "                                                                                                  \n",
      " batch_normalization_2 (BatchNo  (None, 56, 56, 64)  256         ['conv2d_2[0][0]']               \n",
      " rmalization)                                                                                     \n",
      "                                                                                                  \n",
      " add (Add)                      (None, 56, 56, 64)   0           ['max_pooling2d[0][0]',          \n",
      "                                                                  'batch_normalization_2[0][0]']  \n",
      "                                                                                                  \n",
      " activation (Activation)        (None, 56, 56, 64)   0           ['add[0][0]']                    \n",
      "                                                                                                  \n",
      " conv2d_3 (Conv2D)              (None, 56, 56, 64)   36928       ['activation[0][0]']             \n",
      "                                                                                                  \n",
      " batch_normalization_3 (BatchNo  (None, 56, 56, 64)  256         ['conv2d_3[0][0]']               \n",
      " rmalization)                                                                                     \n",
      "                                                                                                  \n",
      " conv2d_4 (Conv2D)              (None, 56, 56, 64)   36928       ['batch_normalization_3[0][0]']  \n",
      "                                                                                                  \n",
      " batch_normalization_4 (BatchNo  (None, 56, 56, 64)  256         ['conv2d_4[0][0]']               \n",
      " rmalization)                                                                                     \n",
      "                                                                                                  \n",
      " add_1 (Add)                    (None, 56, 56, 64)   0           ['activation[0][0]',             \n",
      "                                                                  'batch_normalization_4[0][0]']  \n",
      "                                                                                                  \n",
      " activation_1 (Activation)      (None, 56, 56, 64)   0           ['add_1[0][0]']                  \n",
      "                                                                                                  \n",
      " conv2d_5 (Conv2D)              (None, 56, 56, 64)   36928       ['activation_1[0][0]']           \n",
      "                                                                                                  \n",
      " batch_normalization_5 (BatchNo  (None, 56, 56, 64)  256         ['conv2d_5[0][0]']               \n",
      " rmalization)                                                                                     \n",
      "                                                                                                  \n",
      " conv2d_6 (Conv2D)              (None, 56, 56, 64)   36928       ['batch_normalization_5[0][0]']  \n",
      "                                                                                                  \n",
      " batch_normalization_6 (BatchNo  (None, 56, 56, 64)  256         ['conv2d_6[0][0]']               \n",
      " rmalization)                                                                                     \n",
      "                                                                                                  \n",
      " add_2 (Add)                    (None, 56, 56, 64)   0           ['activation_1[0][0]',           \n",
      "                                                                  'batch_normalization_6[0][0]']  \n",
      "                                                                                                  \n",
      " activation_2 (Activation)      (None, 56, 56, 64)   0           ['add_2[0][0]']                  \n",
      "                                                                                                  \n",
      " max_pooling2d_1 (MaxPooling2D)  (None, 28, 28, 64)  0           ['activation_2[0][0]']           \n",
      "                                                                                                  \n",
      " conv2d_7 (Conv2D)              (None, 28, 28, 128)  73856       ['max_pooling2d_1[0][0]']        \n",
      "                                                                                                  \n",
      " batch_normalization_7 (BatchNo  (None, 28, 28, 128)  512        ['conv2d_7[0][0]']               \n",
      " rmalization)                                                                                     \n",
      "                                                                                                  \n",
      " conv2d_9 (Conv2D)              (None, 28, 28, 128)  73856       ['max_pooling2d_1[0][0]']        \n",
      "                                                                                                  \n",
      " conv2d_8 (Conv2D)              (None, 28, 28, 128)  147584      ['batch_normalization_7[0][0]']  \n",
      "                                                                                                  \n",
      " batch_normalization_9 (BatchNo  (None, 28, 28, 128)  512        ['conv2d_9[0][0]']               \n",
      " rmalization)                                                                                     \n",
      "                                                                                                  \n",
      " batch_normalization_8 (BatchNo  (None, 28, 28, 128)  512        ['conv2d_8[0][0]']               \n",
      " rmalization)                                                                                     \n",
      "                                                                                                  \n",
      " add_3 (Add)                    (None, 28, 28, 128)  0           ['batch_normalization_9[0][0]',  \n",
      "                                                                  'batch_normalization_8[0][0]']  \n",
      "                                                                                                  \n",
      " activation_3 (Activation)      (None, 28, 28, 128)  0           ['add_3[0][0]']                  \n",
      "                                                                                                  \n",
      " conv2d_10 (Conv2D)             (None, 28, 28, 128)  147584      ['activation_3[0][0]']           \n",
      "                                                                                                  \n"
     ]
    },
    {
     "name": "stdout",
     "output_type": "stream",
     "text": [
      " batch_normalization_10 (BatchN  (None, 28, 28, 128)  512        ['conv2d_10[0][0]']              \n",
      " ormalization)                                                                                    \n",
      "                                                                                                  \n",
      " conv2d_12 (Conv2D)             (None, 28, 28, 128)  147584      ['activation_3[0][0]']           \n",
      "                                                                                                  \n",
      " conv2d_11 (Conv2D)             (None, 28, 28, 128)  147584      ['batch_normalization_10[0][0]'] \n",
      "                                                                                                  \n",
      " batch_normalization_12 (BatchN  (None, 28, 28, 128)  512        ['conv2d_12[0][0]']              \n",
      " ormalization)                                                                                    \n",
      "                                                                                                  \n",
      " batch_normalization_11 (BatchN  (None, 28, 28, 128)  512        ['conv2d_11[0][0]']              \n",
      " ormalization)                                                                                    \n",
      "                                                                                                  \n",
      " add_4 (Add)                    (None, 28, 28, 128)  0           ['batch_normalization_12[0][0]', \n",
      "                                                                  'batch_normalization_11[0][0]'] \n",
      "                                                                                                  \n",
      " activation_4 (Activation)      (None, 28, 28, 128)  0           ['add_4[0][0]']                  \n",
      "                                                                                                  \n",
      " conv2d_13 (Conv2D)             (None, 28, 28, 128)  147584      ['activation_4[0][0]']           \n",
      "                                                                                                  \n",
      " batch_normalization_13 (BatchN  (None, 28, 28, 128)  512        ['conv2d_13[0][0]']              \n",
      " ormalization)                                                                                    \n",
      "                                                                                                  \n",
      " conv2d_15 (Conv2D)             (None, 28, 28, 128)  147584      ['activation_4[0][0]']           \n",
      "                                                                                                  \n",
      " conv2d_14 (Conv2D)             (None, 28, 28, 128)  147584      ['batch_normalization_13[0][0]'] \n",
      "                                                                                                  \n",
      " batch_normalization_15 (BatchN  (None, 28, 28, 128)  512        ['conv2d_15[0][0]']              \n",
      " ormalization)                                                                                    \n",
      "                                                                                                  \n",
      " batch_normalization_14 (BatchN  (None, 28, 28, 128)  512        ['conv2d_14[0][0]']              \n",
      " ormalization)                                                                                    \n",
      "                                                                                                  \n",
      " add_5 (Add)                    (None, 28, 28, 128)  0           ['batch_normalization_15[0][0]', \n",
      "                                                                  'batch_normalization_14[0][0]'] \n",
      "                                                                                                  \n",
      " activation_5 (Activation)      (None, 28, 28, 128)  0           ['add_5[0][0]']                  \n",
      "                                                                                                  \n",
      " conv2d_16 (Conv2D)             (None, 28, 28, 128)  147584      ['activation_5[0][0]']           \n",
      "                                                                                                  \n",
      " batch_normalization_16 (BatchN  (None, 28, 28, 128)  512        ['conv2d_16[0][0]']              \n",
      " ormalization)                                                                                    \n",
      "                                                                                                  \n",
      " conv2d_18 (Conv2D)             (None, 28, 28, 128)  147584      ['activation_5[0][0]']           \n",
      "                                                                                                  \n",
      " conv2d_17 (Conv2D)             (None, 28, 28, 128)  147584      ['batch_normalization_16[0][0]'] \n",
      "                                                                                                  \n",
      " batch_normalization_18 (BatchN  (None, 28, 28, 128)  512        ['conv2d_18[0][0]']              \n",
      " ormalization)                                                                                    \n",
      "                                                                                                  \n",
      " batch_normalization_17 (BatchN  (None, 28, 28, 128)  512        ['conv2d_17[0][0]']              \n",
      " ormalization)                                                                                    \n",
      "                                                                                                  \n",
      " add_6 (Add)                    (None, 28, 28, 128)  0           ['batch_normalization_18[0][0]', \n",
      "                                                                  'batch_normalization_17[0][0]'] \n",
      "                                                                                                  \n",
      " activation_6 (Activation)      (None, 28, 28, 128)  0           ['add_6[0][0]']                  \n",
      "                                                                                                  \n",
      " soft_attention (SoftAttention)  [(None, 28, 28, 128  18448      ['activation_6[0][0]']           \n",
      "                                ),                                                                \n",
      "                                 (None, 16, 28, 28)                                               \n",
      "                                ]                                                                 \n",
      "                                                                                                  \n",
      " max_pooling2d_3 (MaxPooling2D)  (None, 14, 14, 128)  0          ['activation_6[0][0]']           \n",
      "                                                                                                  \n",
      " max_pooling2d_2 (MaxPooling2D)  (None, 14, 14, 128)  0          ['soft_attention[0][0]']         \n",
      "                                                                                                  \n",
      " concatenate (Concatenate)      (None, 14, 14, 256)  0           ['max_pooling2d_3[0][0]',        \n",
      "                                                                  'max_pooling2d_2[0][0]']        \n",
      "                                                                                                  \n",
      " activation_7 (Activation)      (None, 14, 14, 256)  0           ['concatenate[0][0]']            \n",
      "                                                                                                  \n",
      " dropout (Dropout)              (None, 14, 14, 256)  0           ['activation_7[0][0]']           \n",
      "                                                                                                  \n",
      " conv2d_19 (Conv2D)             (None, 14, 14, 256)  590080      ['dropout[0][0]']                \n",
      "                                                                                                  \n",
      " batch_normalization_19 (BatchN  (None, 14, 14, 256)  1024       ['conv2d_19[0][0]']              \n",
      " ormalization)                                                                                    \n",
      "                                                                                                  \n",
      " conv2d_21 (Conv2D)             (None, 14, 14, 256)  590080      ['dropout[0][0]']                \n",
      "                                                                                                  \n",
      " conv2d_20 (Conv2D)             (None, 14, 14, 256)  590080      ['batch_normalization_19[0][0]'] \n",
      "                                                                                                  \n"
     ]
    },
    {
     "name": "stdout",
     "output_type": "stream",
     "text": [
      " batch_normalization_21 (BatchN  (None, 14, 14, 256)  1024       ['conv2d_21[0][0]']              \n",
      " ormalization)                                                                                    \n",
      "                                                                                                  \n",
      " batch_normalization_20 (BatchN  (None, 14, 14, 256)  1024       ['conv2d_20[0][0]']              \n",
      " ormalization)                                                                                    \n",
      "                                                                                                  \n",
      " add_7 (Add)                    (None, 14, 14, 256)  0           ['batch_normalization_21[0][0]', \n",
      "                                                                  'batch_normalization_20[0][0]'] \n",
      "                                                                                                  \n",
      " activation_8 (Activation)      (None, 14, 14, 256)  0           ['add_7[0][0]']                  \n",
      "                                                                                                  \n",
      " conv2d_22 (Conv2D)             (None, 14, 14, 256)  590080      ['activation_8[0][0]']           \n",
      "                                                                                                  \n",
      " batch_normalization_22 (BatchN  (None, 14, 14, 256)  1024       ['conv2d_22[0][0]']              \n",
      " ormalization)                                                                                    \n",
      "                                                                                                  \n",
      " conv2d_24 (Conv2D)             (None, 14, 14, 256)  590080      ['activation_8[0][0]']           \n",
      "                                                                                                  \n",
      " conv2d_23 (Conv2D)             (None, 14, 14, 256)  590080      ['batch_normalization_22[0][0]'] \n",
      "                                                                                                  \n",
      " batch_normalization_24 (BatchN  (None, 14, 14, 256)  1024       ['conv2d_24[0][0]']              \n",
      " ormalization)                                                                                    \n",
      "                                                                                                  \n",
      " batch_normalization_23 (BatchN  (None, 14, 14, 256)  1024       ['conv2d_23[0][0]']              \n",
      " ormalization)                                                                                    \n",
      "                                                                                                  \n",
      " add_8 (Add)                    (None, 14, 14, 256)  0           ['batch_normalization_24[0][0]', \n",
      "                                                                  'batch_normalization_23[0][0]'] \n",
      "                                                                                                  \n",
      " activation_9 (Activation)      (None, 14, 14, 256)  0           ['add_8[0][0]']                  \n",
      "                                                                                                  \n",
      " conv2d_25 (Conv2D)             (None, 14, 14, 256)  590080      ['activation_9[0][0]']           \n",
      "                                                                                                  \n",
      " batch_normalization_25 (BatchN  (None, 14, 14, 256)  1024       ['conv2d_25[0][0]']              \n",
      " ormalization)                                                                                    \n",
      "                                                                                                  \n",
      " conv2d_27 (Conv2D)             (None, 14, 14, 256)  590080      ['activation_9[0][0]']           \n",
      "                                                                                                  \n",
      " conv2d_26 (Conv2D)             (None, 14, 14, 256)  590080      ['batch_normalization_25[0][0]'] \n",
      "                                                                                                  \n",
      " batch_normalization_27 (BatchN  (None, 14, 14, 256)  1024       ['conv2d_27[0][0]']              \n",
      " ormalization)                                                                                    \n",
      "                                                                                                  \n",
      " batch_normalization_26 (BatchN  (None, 14, 14, 256)  1024       ['conv2d_26[0][0]']              \n",
      " ormalization)                                                                                    \n",
      "                                                                                                  \n",
      " add_9 (Add)                    (None, 14, 14, 256)  0           ['batch_normalization_27[0][0]', \n",
      "                                                                  'batch_normalization_26[0][0]'] \n",
      "                                                                                                  \n",
      " activation_10 (Activation)     (None, 14, 14, 256)  0           ['add_9[0][0]']                  \n",
      "                                                                                                  \n",
      " conv2d_28 (Conv2D)             (None, 14, 14, 256)  590080      ['activation_10[0][0]']          \n",
      "                                                                                                  \n",
      " batch_normalization_28 (BatchN  (None, 14, 14, 256)  1024       ['conv2d_28[0][0]']              \n",
      " ormalization)                                                                                    \n",
      "                                                                                                  \n",
      " conv2d_30 (Conv2D)             (None, 14, 14, 256)  590080      ['activation_10[0][0]']          \n",
      "                                                                                                  \n",
      " conv2d_29 (Conv2D)             (None, 14, 14, 256)  590080      ['batch_normalization_28[0][0]'] \n",
      "                                                                                                  \n",
      " batch_normalization_30 (BatchN  (None, 14, 14, 256)  1024       ['conv2d_30[0][0]']              \n",
      " ormalization)                                                                                    \n",
      "                                                                                                  \n",
      " batch_normalization_29 (BatchN  (None, 14, 14, 256)  1024       ['conv2d_29[0][0]']              \n",
      " ormalization)                                                                                    \n",
      "                                                                                                  \n",
      " add_10 (Add)                   (None, 14, 14, 256)  0           ['batch_normalization_30[0][0]', \n",
      "                                                                  'batch_normalization_29[0][0]'] \n",
      "                                                                                                  \n",
      " activation_11 (Activation)     (None, 14, 14, 256)  0           ['add_10[0][0]']                 \n",
      "                                                                                                  \n",
      " conv2d_31 (Conv2D)             (None, 14, 14, 256)  590080      ['activation_11[0][0]']          \n",
      "                                                                                                  \n",
      " batch_normalization_31 (BatchN  (None, 14, 14, 256)  1024       ['conv2d_31[0][0]']              \n",
      " ormalization)                                                                                    \n",
      "                                                                                                  \n",
      " conv2d_33 (Conv2D)             (None, 14, 14, 256)  590080      ['activation_11[0][0]']          \n",
      "                                                                                                  \n",
      " conv2d_32 (Conv2D)             (None, 14, 14, 256)  590080      ['batch_normalization_31[0][0]'] \n",
      "                                                                                                  \n",
      " batch_normalization_33 (BatchN  (None, 14, 14, 256)  1024       ['conv2d_33[0][0]']              \n",
      " ormalization)                                                                                    \n",
      "                                                                                                  \n"
     ]
    },
    {
     "name": "stdout",
     "output_type": "stream",
     "text": [
      " batch_normalization_32 (BatchN  (None, 14, 14, 256)  1024       ['conv2d_32[0][0]']              \n",
      " ormalization)                                                                                    \n",
      "                                                                                                  \n",
      " add_11 (Add)                   (None, 14, 14, 256)  0           ['batch_normalization_33[0][0]', \n",
      "                                                                  'batch_normalization_32[0][0]'] \n",
      "                                                                                                  \n",
      " activation_12 (Activation)     (None, 14, 14, 256)  0           ['add_11[0][0]']                 \n",
      "                                                                                                  \n",
      " conv2d_34 (Conv2D)             (None, 14, 14, 256)  590080      ['activation_12[0][0]']          \n",
      "                                                                                                  \n",
      " batch_normalization_34 (BatchN  (None, 14, 14, 256)  1024       ['conv2d_34[0][0]']              \n",
      " ormalization)                                                                                    \n",
      "                                                                                                  \n",
      " conv2d_36 (Conv2D)             (None, 14, 14, 256)  590080      ['activation_12[0][0]']          \n",
      "                                                                                                  \n",
      " conv2d_35 (Conv2D)             (None, 14, 14, 256)  590080      ['batch_normalization_34[0][0]'] \n",
      "                                                                                                  \n",
      " batch_normalization_36 (BatchN  (None, 14, 14, 256)  1024       ['conv2d_36[0][0]']              \n",
      " ormalization)                                                                                    \n",
      "                                                                                                  \n",
      " batch_normalization_35 (BatchN  (None, 14, 14, 256)  1024       ['conv2d_35[0][0]']              \n",
      " ormalization)                                                                                    \n",
      "                                                                                                  \n",
      " add_12 (Add)                   (None, 14, 14, 256)  0           ['batch_normalization_36[0][0]', \n",
      "                                                                  'batch_normalization_35[0][0]'] \n",
      "                                                                                                  \n",
      " activation_13 (Activation)     (None, 14, 14, 256)  0           ['add_12[0][0]']                 \n",
      "                                                                                                  \n",
      " max_pooling2d_4 (MaxPooling2D)  (None, 7, 7, 256)   0           ['activation_13[0][0]']          \n",
      "                                                                                                  \n",
      " conv2d_37 (Conv2D)             (None, 7, 7, 512)    1180160     ['max_pooling2d_4[0][0]']        \n",
      "                                                                                                  \n",
      " batch_normalization_37 (BatchN  (None, 7, 7, 512)   2048        ['conv2d_37[0][0]']              \n",
      " ormalization)                                                                                    \n",
      "                                                                                                  \n",
      " conv2d_39 (Conv2D)             (None, 7, 7, 512)    1180160     ['max_pooling2d_4[0][0]']        \n",
      "                                                                                                  \n",
      " conv2d_38 (Conv2D)             (None, 7, 7, 512)    2359808     ['batch_normalization_37[0][0]'] \n",
      "                                                                                                  \n",
      " batch_normalization_39 (BatchN  (None, 7, 7, 512)   2048        ['conv2d_39[0][0]']              \n",
      " ormalization)                                                                                    \n",
      "                                                                                                  \n",
      " batch_normalization_38 (BatchN  (None, 7, 7, 512)   2048        ['conv2d_38[0][0]']              \n",
      " ormalization)                                                                                    \n",
      "                                                                                                  \n",
      " add_13 (Add)                   (None, 7, 7, 512)    0           ['batch_normalization_39[0][0]', \n",
      "                                                                  'batch_normalization_38[0][0]'] \n",
      "                                                                                                  \n",
      " activation_14 (Activation)     (None, 7, 7, 512)    0           ['add_13[0][0]']                 \n",
      "                                                                                                  \n",
      " conv2d_40 (Conv2D)             (None, 7, 7, 512)    2359808     ['activation_14[0][0]']          \n",
      "                                                                                                  \n",
      " batch_normalization_40 (BatchN  (None, 7, 7, 512)   2048        ['conv2d_40[0][0]']              \n",
      " ormalization)                                                                                    \n",
      "                                                                                                  \n",
      " conv2d_42 (Conv2D)             (None, 7, 7, 512)    2359808     ['activation_14[0][0]']          \n",
      "                                                                                                  \n",
      " conv2d_41 (Conv2D)             (None, 7, 7, 512)    2359808     ['batch_normalization_40[0][0]'] \n",
      "                                                                                                  \n",
      " batch_normalization_42 (BatchN  (None, 7, 7, 512)   2048        ['conv2d_42[0][0]']              \n",
      " ormalization)                                                                                    \n",
      "                                                                                                  \n",
      " batch_normalization_41 (BatchN  (None, 7, 7, 512)   2048        ['conv2d_41[0][0]']              \n",
      " ormalization)                                                                                    \n",
      "                                                                                                  \n",
      " add_14 (Add)                   (None, 7, 7, 512)    0           ['batch_normalization_42[0][0]', \n",
      "                                                                  'batch_normalization_41[0][0]'] \n",
      "                                                                                                  \n",
      " activation_15 (Activation)     (None, 7, 7, 512)    0           ['add_14[0][0]']                 \n",
      "                                                                                                  \n",
      " conv2d_43 (Conv2D)             (None, 7, 7, 512)    2359808     ['activation_15[0][0]']          \n",
      "                                                                                                  \n",
      " batch_normalization_43 (BatchN  (None, 7, 7, 512)   2048        ['conv2d_43[0][0]']              \n",
      " ormalization)                                                                                    \n",
      "                                                                                                  \n",
      " conv2d_45 (Conv2D)             (None, 7, 7, 512)    2359808     ['activation_15[0][0]']          \n",
      "                                                                                                  \n",
      " conv2d_44 (Conv2D)             (None, 7, 7, 512)    2359808     ['batch_normalization_43[0][0]'] \n",
      "                                                                                                  \n",
      " batch_normalization_45 (BatchN  (None, 7, 7, 512)   2048        ['conv2d_45[0][0]']              \n",
      " ormalization)                                                                                    \n",
      "                                                                                                  \n",
      " batch_normalization_44 (BatchN  (None, 7, 7, 512)   2048        ['conv2d_44[0][0]']              \n"
     ]
    },
    {
     "name": "stdout",
     "output_type": "stream",
     "text": [
      " ormalization)                                                                                    \n",
      "                                                                                                  \n",
      " add_15 (Add)                   (None, 7, 7, 512)    0           ['batch_normalization_45[0][0]', \n",
      "                                                                  'batch_normalization_44[0][0]'] \n",
      "                                                                                                  \n",
      " activation_16 (Activation)     (None, 7, 7, 512)    0           ['add_15[0][0]']                 \n",
      "                                                                                                  \n",
      " global_average_pooling2d (Glob  (None, 512)         0           ['activation_16[0][0]']          \n",
      " alAveragePooling2D)                                                                              \n",
      "                                                                                                  \n",
      " dense (Dense)                  (None, 7)            3591        ['global_average_pooling2d[0][0]'\n",
      "                                                                 ]                                \n",
      "                                                                                                  \n",
      "==================================================================================================\n",
      "Total params: 31,414,167\n",
      "Trainable params: 31,391,767\n",
      "Non-trainable params: 22,400\n",
      "__________________________________________________________________________________________________\n"
     ]
    }
   ],
   "source": [
    "model.summary()"
   ]
  },
  {
   "cell_type": "code",
   "execution_count": 63,
   "metadata": {
    "id": "WR0fUpy18vAZ"
   },
   "outputs": [],
   "source": [
    "opt1=tf.keras.optimizers.Adam(learning_rate=0.01,epsilon=0.1)\n",
    "model.compile(optimizer=opt1,\n",
    "             loss='categorical_crossentropy',\n",
    "             metrics=['accuracy'])"
   ]
  },
  {
   "cell_type": "code",
   "execution_count": 64,
   "metadata": {
    "id": "LAf5ha295reS"
   },
   "outputs": [],
   "source": [
    "class_weights = {   \n",
    "                    0: 1.0,  # akiec\n",
    "                    1: 1.0,  # bcc\n",
    "                    2: 1.0,  # bkl\n",
    "                    3: 1.0,  # df\n",
    "                    4: 5.0,  # mel\n",
    "                    5: 1.0,  # nv\n",
    "                    6: 1.0,  # vasc\n",
    "                }\n",
    "\n",
    "\n",
    "checkpoint=  ModelCheckpoint(filepath = 'ResNet34+SA.hdf5',monitor='val_accuracy',save_best_only=True,save_weights_only=True)\n",
    "\n",
    "\n"
   ]
  },
  {
   "cell_type": "code",
   "execution_count": 65,
   "metadata": {
    "colab": {
     "base_uri": "https://localhost:8080/"
    },
    "id": "NUzTmiZ-8hL3",
    "outputId": "53bb073e-b64c-4f2a-b2e0-c59e7d4cb0af"
   },
   "outputs": [
    {
     "name": "stdout",
     "output_type": "stream",
     "text": [
      "Epoch 1/300\n",
      "529/529 [==============================] - 141s 239ms/step - loss: 1.9400 - accuracy: 0.4870 - val_loss: 1.1766 - val_accuracy: 0.5047\n",
      "Epoch 2/300\n",
      "529/529 [==============================] - 131s 248ms/step - loss: 1.6185 - accuracy: 0.5051 - val_loss: 1.1884 - val_accuracy: 0.5957\n",
      "Epoch 3/300\n",
      "529/529 [==============================] - 131s 248ms/step - loss: 1.4890 - accuracy: 0.5070 - val_loss: 1.2682 - val_accuracy: 0.5127\n",
      "Epoch 4/300\n",
      "529/529 [==============================] - 130s 245ms/step - loss: 1.4337 - accuracy: 0.5328 - val_loss: 1.0996 - val_accuracy: 0.4973\n",
      "Epoch 5/300\n",
      "529/529 [==============================] - 131s 248ms/step - loss: 1.3799 - accuracy: 0.5333 - val_loss: 1.3287 - val_accuracy: 0.3876\n",
      "Epoch 6/300\n",
      "529/529 [==============================] - 132s 249ms/step - loss: 1.4011 - accuracy: 0.5617 - val_loss: 0.9509 - val_accuracy: 0.6493\n",
      "Epoch 7/300\n",
      "529/529 [==============================] - 130s 245ms/step - loss: 1.4151 - accuracy: 0.5593 - val_loss: 1.0363 - val_accuracy: 0.6104\n",
      "Epoch 8/300\n",
      "529/529 [==============================] - 131s 248ms/step - loss: 1.4328 - accuracy: 0.5521 - val_loss: 0.9440 - val_accuracy: 0.6586\n",
      "Epoch 9/300\n",
      "529/529 [==============================] - 130s 245ms/step - loss: 1.2970 - accuracy: 0.5831 - val_loss: 0.8938 - val_accuracy: 0.6412\n",
      "Epoch 10/300\n",
      "529/529 [==============================] - 131s 247ms/step - loss: 1.2887 - accuracy: 0.5845 - val_loss: 1.0131 - val_accuracy: 0.5763\n",
      "Epoch 11/300\n",
      "529/529 [==============================] - 130s 246ms/step - loss: 1.3108 - accuracy: 0.5935 - val_loss: 0.9976 - val_accuracy: 0.5924\n",
      "Epoch 12/300\n",
      "529/529 [==============================] - 131s 247ms/step - loss: 1.2471 - accuracy: 0.6085 - val_loss: 1.0910 - val_accuracy: 0.5321\n",
      "Epoch 13/300\n",
      "529/529 [==============================] - 132s 249ms/step - loss: 1.2115 - accuracy: 0.6121 - val_loss: 0.8835 - val_accuracy: 0.6673\n",
      "Epoch 14/300\n",
      "529/529 [==============================] - 131s 248ms/step - loss: 1.2220 - accuracy: 0.6184 - val_loss: 0.9317 - val_accuracy: 0.6687\n",
      "Epoch 15/300\n",
      "529/529 [==============================] - 130s 246ms/step - loss: 1.2136 - accuracy: 0.6259 - val_loss: 0.9084 - val_accuracy: 0.6653\n",
      "Epoch 16/300\n",
      "529/529 [==============================] - 128s 241ms/step - loss: 1.1911 - accuracy: 0.6251 - val_loss: 0.8712 - val_accuracy: 0.6687\n",
      "Epoch 17/300\n",
      "529/529 [==============================] - 130s 246ms/step - loss: 1.1326 - accuracy: 0.6456 - val_loss: 0.9394 - val_accuracy: 0.6392\n",
      "Epoch 18/300\n",
      "529/529 [==============================] - 129s 244ms/step - loss: 1.1063 - accuracy: 0.6593 - val_loss: 0.9281 - val_accuracy: 0.6593\n",
      "Epoch 19/300\n",
      "529/529 [==============================] - 130s 245ms/step - loss: 1.1116 - accuracy: 0.6561 - val_loss: 0.8869 - val_accuracy: 0.6606\n",
      "Epoch 20/300\n",
      "529/529 [==============================] - 131s 247ms/step - loss: 1.0954 - accuracy: 0.6596 - val_loss: 0.9435 - val_accuracy: 0.6252\n",
      "Epoch 21/300\n",
      "529/529 [==============================] - 131s 247ms/step - loss: 1.0956 - accuracy: 0.6629 - val_loss: 0.8931 - val_accuracy: 0.6827\n",
      "Epoch 22/300\n",
      "529/529 [==============================] - 131s 247ms/step - loss: 1.0891 - accuracy: 0.6685 - val_loss: 0.8807 - val_accuracy: 0.6707\n",
      "Epoch 23/300\n",
      "529/529 [==============================] - 132s 249ms/step - loss: 1.0540 - accuracy: 0.6751 - val_loss: 0.8496 - val_accuracy: 0.6874\n",
      "Epoch 24/300\n",
      "529/529 [==============================] - 130s 246ms/step - loss: 1.0437 - accuracy: 0.6818 - val_loss: 0.9443 - val_accuracy: 0.6553\n",
      "Epoch 25/300\n",
      "529/529 [==============================] - 131s 248ms/step - loss: 1.0286 - accuracy: 0.6797 - val_loss: 0.8292 - val_accuracy: 0.6968\n",
      "Epoch 26/300\n",
      "529/529 [==============================] - 130s 245ms/step - loss: 1.0134 - accuracy: 0.6870 - val_loss: 0.8197 - val_accuracy: 0.6934\n",
      "Epoch 27/300\n",
      "529/529 [==============================] - 131s 248ms/step - loss: 0.9717 - accuracy: 0.7022 - val_loss: 0.9052 - val_accuracy: 0.6633\n",
      "Epoch 28/300\n",
      "529/529 [==============================] - 130s 246ms/step - loss: 0.9677 - accuracy: 0.7034 - val_loss: 0.9032 - val_accuracy: 0.6406\n",
      "Epoch 29/300\n",
      "529/529 [==============================] - 132s 249ms/step - loss: 0.9538 - accuracy: 0.7098 - val_loss: 0.9424 - val_accuracy: 0.6653\n",
      "Epoch 30/300\n",
      "529/529 [==============================] - 131s 247ms/step - loss: 0.9482 - accuracy: 0.7069 - val_loss: 0.9176 - val_accuracy: 0.6412\n",
      "Epoch 31/300\n",
      "529/529 [==============================] - 131s 247ms/step - loss: 0.8923 - accuracy: 0.7245 - val_loss: 0.8452 - val_accuracy: 0.6995\n",
      "Epoch 32/300\n",
      "529/529 [==============================] - 130s 246ms/step - loss: 0.8732 - accuracy: 0.7337 - val_loss: 0.8648 - val_accuracy: 0.6867\n",
      "Epoch 33/300\n",
      "529/529 [==============================] - 130s 245ms/step - loss: 0.8814 - accuracy: 0.7293 - val_loss: 0.9121 - val_accuracy: 0.6580\n",
      "Epoch 34/300\n",
      "529/529 [==============================] - 130s 246ms/step - loss: 0.8431 - accuracy: 0.7389 - val_loss: 0.8866 - val_accuracy: 0.6600\n",
      "Epoch 35/300\n",
      "529/529 [==============================] - 130s 246ms/step - loss: 0.8369 - accuracy: 0.7473 - val_loss: 0.9082 - val_accuracy: 0.6834\n",
      "Epoch 36/300\n",
      "529/529 [==============================] - 130s 246ms/step - loss: 0.8148 - accuracy: 0.7482 - val_loss: 0.8568 - val_accuracy: 0.6908\n",
      "Epoch 37/300\n",
      "529/529 [==============================] - 131s 247ms/step - loss: 0.7772 - accuracy: 0.7604 - val_loss: 0.9163 - val_accuracy: 0.7142\n",
      "Epoch 38/300\n",
      "529/529 [==============================] - 131s 247ms/step - loss: 0.7499 - accuracy: 0.7721 - val_loss: 1.1140 - val_accuracy: 0.6339\n",
      "Epoch 39/300\n",
      "529/529 [==============================] - 130s 246ms/step - loss: 0.7104 - accuracy: 0.7812 - val_loss: 0.9247 - val_accuracy: 0.6881\n",
      "Epoch 40/300\n",
      "529/529 [==============================] - 131s 246ms/step - loss: 0.7243 - accuracy: 0.7819 - val_loss: 0.9760 - val_accuracy: 0.6767\n",
      "Epoch 41/300\n",
      "529/529 [==============================] - 131s 247ms/step - loss: 0.6813 - accuracy: 0.8008 - val_loss: 0.9965 - val_accuracy: 0.6620\n",
      "Epoch 42/300\n",
      "529/529 [==============================] - 131s 247ms/step - loss: 0.6445 - accuracy: 0.8035 - val_loss: 0.9842 - val_accuracy: 0.6928\n",
      "Epoch 43/300\n",
      "529/529 [==============================] - 130s 246ms/step - loss: 0.6283 - accuracy: 0.8086 - val_loss: 0.9152 - val_accuracy: 0.7095\n",
      "Epoch 44/300\n",
      "529/529 [==============================] - 131s 247ms/step - loss: 0.5633 - accuracy: 0.8273 - val_loss: 0.9782 - val_accuracy: 0.6995\n",
      "Epoch 45/300\n",
      "529/529 [==============================] - 131s 247ms/step - loss: 0.5782 - accuracy: 0.8251 - val_loss: 1.0568 - val_accuracy: 0.6727\n",
      "Epoch 46/300\n",
      "529/529 [==============================] - 131s 248ms/step - loss: 0.5148 - accuracy: 0.8458 - val_loss: 0.9839 - val_accuracy: 0.7095\n",
      "Epoch 47/300\n",
      "529/529 [==============================] - 131s 247ms/step - loss: 0.4887 - accuracy: 0.8557 - val_loss: 1.1305 - val_accuracy: 0.7008\n",
      "Epoch 48/300\n",
      "529/529 [==============================] - 130s 246ms/step - loss: 0.4809 - accuracy: 0.8581 - val_loss: 1.1438 - val_accuracy: 0.6740\n",
      "Epoch 49/300\n",
      "529/529 [==============================] - 131s 247ms/step - loss: 0.5018 - accuracy: 0.8536 - val_loss: 1.0468 - val_accuracy: 0.6921\n",
      "Epoch 50/300\n",
      "529/529 [==============================] - 130s 245ms/step - loss: 0.4955 - accuracy: 0.8559 - val_loss: 1.0441 - val_accuracy: 0.6707\n",
      "Epoch 51/300\n",
      "529/529 [==============================] - 131s 246ms/step - loss: 0.3950 - accuracy: 0.8790 - val_loss: 1.0598 - val_accuracy: 0.7015\n",
      "Epoch 52/300\n",
      "529/529 [==============================] - 130s 246ms/step - loss: 0.4584 - accuracy: 0.8691 - val_loss: 1.2853 - val_accuracy: 0.6252\n",
      "Epoch 53/300\n",
      "529/529 [==============================] - 132s 249ms/step - loss: 0.3738 - accuracy: 0.8932 - val_loss: 1.0925 - val_accuracy: 0.7169\n",
      "Epoch 54/300\n",
      "529/529 [==============================] - 131s 247ms/step - loss: 0.3350 - accuracy: 0.9015 - val_loss: 1.1463 - val_accuracy: 0.7122\n",
      "Epoch 55/300\n",
      "529/529 [==============================] - 131s 247ms/step - loss: 0.3133 - accuracy: 0.9062 - val_loss: 1.1588 - val_accuracy: 0.7088\n",
      "Epoch 56/300\n",
      "529/529 [==============================] - 133s 250ms/step - loss: 0.2632 - accuracy: 0.9219 - val_loss: 1.1313 - val_accuracy: 0.7209\n",
      "Epoch 57/300\n",
      "529/529 [==============================] - 130s 246ms/step - loss: 0.2755 - accuracy: 0.9198 - val_loss: 1.2711 - val_accuracy: 0.6847\n",
      "Epoch 58/300\n",
      "529/529 [==============================] - 131s 247ms/step - loss: 0.2691 - accuracy: 0.9204 - val_loss: 1.1937 - val_accuracy: 0.7202\n",
      "Epoch 59/300\n",
      "529/529 [==============================] - 131s 247ms/step - loss: 0.2501 - accuracy: 0.9296 - val_loss: 1.2885 - val_accuracy: 0.7062\n",
      "Epoch 60/300\n",
      "529/529 [==============================] - 131s 247ms/step - loss: 0.2938 - accuracy: 0.9206 - val_loss: 1.2383 - val_accuracy: 0.6841\n",
      "Epoch 61/300\n",
      "529/529 [==============================] - 131s 248ms/step - loss: 0.2608 - accuracy: 0.9238 - val_loss: 1.4073 - val_accuracy: 0.6827\n",
      "Epoch 62/300\n",
      "529/529 [==============================] - 131s 247ms/step - loss: 0.2242 - accuracy: 0.9348 - val_loss: 1.2630 - val_accuracy: 0.7088\n",
      "Epoch 63/300\n",
      "529/529 [==============================] - 130s 247ms/step - loss: 0.2193 - accuracy: 0.9371 - val_loss: 1.4270 - val_accuracy: 0.6553\n",
      "Epoch 64/300\n",
      "529/529 [==============================] - 130s 246ms/step - loss: 0.2194 - accuracy: 0.9336 - val_loss: 1.3916 - val_accuracy: 0.6928\n",
      "Epoch 65/300\n",
      "529/529 [==============================] - 131s 247ms/step - loss: 0.1641 - accuracy: 0.9566 - val_loss: 1.4033 - val_accuracy: 0.7115\n",
      "Epoch 66/300\n",
      "529/529 [==============================] - 131s 247ms/step - loss: 0.1471 - accuracy: 0.9612 - val_loss: 1.3833 - val_accuracy: 0.6754\n",
      "Epoch 67/300\n",
      "529/529 [==============================] - 131s 247ms/step - loss: 0.1579 - accuracy: 0.9562 - val_loss: 1.3205 - val_accuracy: 0.7209\n",
      "Epoch 68/300\n",
      "529/529 [==============================] - 131s 248ms/step - loss: 0.1867 - accuracy: 0.9518 - val_loss: 1.4125 - val_accuracy: 0.6888\n",
      "Epoch 69/300\n",
      "529/529 [==============================] - 131s 247ms/step - loss: 0.1974 - accuracy: 0.9414 - val_loss: 1.2921 - val_accuracy: 0.7242\n",
      "Epoch 70/300\n",
      "529/529 [==============================] - 130s 246ms/step - loss: 0.2034 - accuracy: 0.9462 - val_loss: 1.5783 - val_accuracy: 0.6493\n",
      "Epoch 71/300\n",
      "529/529 [==============================] - 130s 246ms/step - loss: 0.1593 - accuracy: 0.9582 - val_loss: 1.3739 - val_accuracy: 0.6747\n",
      "Epoch 72/300\n",
      "529/529 [==============================] - 130s 246ms/step - loss: 0.1350 - accuracy: 0.9642 - val_loss: 1.5535 - val_accuracy: 0.6560\n",
      "Epoch 73/300\n",
      "529/529 [==============================] - 131s 247ms/step - loss: 0.0976 - accuracy: 0.9738 - val_loss: 1.5359 - val_accuracy: 0.6914\n",
      "Epoch 74/300\n",
      "529/529 [==============================] - 130s 246ms/step - loss: 0.1116 - accuracy: 0.9692 - val_loss: 1.5685 - val_accuracy: 0.7202\n",
      "Epoch 75/300\n",
      "529/529 [==============================] - 130s 246ms/step - loss: 0.1149 - accuracy: 0.9679 - val_loss: 1.4486 - val_accuracy: 0.6961\n",
      "Epoch 76/300\n",
      "529/529 [==============================] - 131s 247ms/step - loss: 0.0804 - accuracy: 0.9790 - val_loss: 1.7969 - val_accuracy: 0.6867\n",
      "Epoch 77/300\n",
      "529/529 [==============================] - 131s 248ms/step - loss: 0.1066 - accuracy: 0.9706 - val_loss: 1.6373 - val_accuracy: 0.7102\n",
      "Epoch 78/300\n",
      "529/529 [==============================] - 131s 247ms/step - loss: 0.0752 - accuracy: 0.9783 - val_loss: 1.6089 - val_accuracy: 0.7162\n",
      "Epoch 79/300\n",
      "529/529 [==============================] - 131s 247ms/step - loss: 0.0971 - accuracy: 0.9726 - val_loss: 1.6478 - val_accuracy: 0.6794\n",
      "Epoch 80/300\n",
      "529/529 [==============================] - 131s 247ms/step - loss: 0.1358 - accuracy: 0.9631 - val_loss: 1.6385 - val_accuracy: 0.6888\n",
      "Epoch 81/300\n",
      "529/529 [==============================] - 130s 245ms/step - loss: 0.1138 - accuracy: 0.9674 - val_loss: 1.5861 - val_accuracy: 0.6760\n",
      "Epoch 82/300\n",
      "529/529 [==============================] - 132s 250ms/step - loss: 0.1009 - accuracy: 0.9745 - val_loss: 1.5310 - val_accuracy: 0.7316\n",
      "Epoch 83/300\n",
      "529/529 [==============================] - 130s 246ms/step - loss: 0.0767 - accuracy: 0.9789 - val_loss: 1.6100 - val_accuracy: 0.6995\n",
      "Epoch 84/300\n",
      "529/529 [==============================] - 131s 247ms/step - loss: 0.0604 - accuracy: 0.9833 - val_loss: 1.5857 - val_accuracy: 0.6981\n",
      "Epoch 85/300\n",
      "529/529 [==============================] - 131s 248ms/step - loss: 0.0337 - accuracy: 0.9900 - val_loss: 1.7685 - val_accuracy: 0.6941\n",
      "Epoch 86/300\n",
      "529/529 [==============================] - 130s 246ms/step - loss: 0.0359 - accuracy: 0.9888 - val_loss: 1.7980 - val_accuracy: 0.7035\n",
      "Epoch 87/300\n",
      "529/529 [==============================] - 131s 247ms/step - loss: 0.0392 - accuracy: 0.9896 - val_loss: 1.7506 - val_accuracy: 0.7001\n",
      "Epoch 88/300\n",
      "529/529 [==============================] - 130s 246ms/step - loss: 0.0540 - accuracy: 0.9863 - val_loss: 1.7031 - val_accuracy: 0.7008\n",
      "Epoch 89/300\n",
      "529/529 [==============================] - 131s 247ms/step - loss: 0.0354 - accuracy: 0.9903 - val_loss: 1.8202 - val_accuracy: 0.7055\n",
      "Epoch 90/300\n",
      "529/529 [==============================] - 130s 245ms/step - loss: 0.0146 - accuracy: 0.9960 - val_loss: 1.9029 - val_accuracy: 0.7216\n",
      "Epoch 91/300\n",
      "529/529 [==============================] - 130s 246ms/step - loss: 0.0164 - accuracy: 0.9962 - val_loss: 1.8614 - val_accuracy: 0.7115\n"
     ]
    }
   ],
   "source": [
    "Earlystop = EarlyStopping(monitor='val_loss', mode='min',patience=65, min_delta=0.001)\n",
    "history = model.fit(train_batches,\n",
    "#                     steps_per_epoch=(len(train_df)/10),\n",
    "                    epochs=300,\n",
    "#                     verbose=2,\n",
    "                    validation_data=test_batches,\n",
    "#                     validation_steps=len(test_df)/batch_size,\n",
    "                    callbacks=[checkpoint,Earlystop],class_weight=class_weights)"
   ]
  },
  {
   "cell_type": "code",
   "execution_count": 66,
   "metadata": {
    "id": "zm_AewFBXTj8"
   },
   "outputs": [],
   "source": [
    "from tensorflow.keras import models\n",
    "model.load_weights(\"ResNet34+SA.hdf5\")"
   ]
  },
  {
   "cell_type": "code",
   "execution_count": 67,
   "metadata": {},
   "outputs": [
    {
     "name": "stdout",
     "output_type": "stream",
     "text": [
      "94/94 [==============================] - 20s 194ms/step\n"
     ]
    }
   ],
   "source": [
    "predictions = model.predict(test_batches, \n",
    "#                             steps=len(test_df)/batch_size, \n",
    "                            verbose=1)"
   ]
  },
  {
   "cell_type": "code",
   "execution_count": 68,
   "metadata": {
    "colab": {
     "base_uri": "https://localhost:8080/"
    },
    "id": "KYxCDDjusR-S",
    "outputId": "bb474cff-b94b-4a45-b706-2e1298d184e5"
   },
   "outputs": [
    {
     "name": "stdout",
     "output_type": "stream",
     "text": [
      "\n",
      "Classification Report:\n",
      "              precision    recall  f1-score   support\n",
      "\n",
      "       akiec       0.37      0.20      0.26        49\n",
      "         bcc       0.43      0.44      0.44        77\n",
      "         bkl       0.46      0.29      0.35       164\n",
      "          df       0.38      0.29      0.33        17\n",
      "         mel       0.43      0.40      0.41       167\n",
      "          nv       0.83      0.92      0.87       999\n",
      "        vasc       0.85      0.52      0.65        21\n",
      "\n",
      "    accuracy                           0.73      1494\n",
      "   macro avg       0.54      0.44      0.47      1494\n",
      "weighted avg       0.71      0.73      0.71      1494\n",
      "\n"
     ]
    }
   ],
   "source": [
    "#geting predictions on test dataset\n",
    "y_pred = np.argmax(predictions, axis=1)\n",
    "targetnames = ['akiec', 'bcc', 'bkl', 'df', 'mel', 'nv', 'vasc']\n",
    "#getting the true labels per image \n",
    "y_true = test_batches.classes\n",
    "#getting the predicted labels per image \n",
    "y_prob=predictions\n",
    "from tensorflow.keras.utils import to_categorical\n",
    "y_test = to_categorical(y_true)\n",
    "\n",
    "# Creating classification report \n",
    "report = classification_report(y_true, y_pred, target_names=targetnames)\n",
    "\n",
    "print(\"\\nClassification Report:\")\n",
    "print(report)"
   ]
  },
  {
   "cell_type": "code",
   "execution_count": 69,
   "metadata": {
    "colab": {
     "base_uri": "https://localhost:8080/"
    },
    "id": "yy59Zs1jqylz",
    "outputId": "12efca49-a5aa-4c5f-8cf1-152fdffbfb32"
   },
   "outputs": [
    {
     "name": "stdout",
     "output_type": "stream",
     "text": [
      "Precision: 0.7058120321841773\n",
      "Recall: 0.7315930388219545\n",
      "Accuracy: 0.7315930388219545\n",
      "weighted Roc score: 0.880105227273863\n"
     ]
    }
   ],
   "source": [
    "print(\"Precision: \"+ str(precision_score(y_true, y_pred, average='weighted')))\n",
    "print(\"Recall: \"+ str(recall_score(y_true, y_pred, average='weighted')))\n",
    "print(\"Accuracy: \" + str(accuracy_score(y_true, y_pred)))\n",
    "print(\"weighted Roc score: \" + str(roc_auc_score(y_test,y_prob,multi_class='ovr',average='weighted')))"
   ]
  },
  {
   "cell_type": "code",
   "execution_count": 70,
   "metadata": {
    "colab": {
     "base_uri": "https://localhost:8080/"
    },
    "id": "vFRWOB82sDKi",
    "outputId": "abfafd7c-5566-4cea-b261-a389c98ccb1a"
   },
   "outputs": [
    {
     "name": "stdout",
     "output_type": "stream",
     "text": [
      "Precision: 0.5363169110599426\n",
      "Recall: 0.4387528765205496\n",
      "Accuracy: 0.7315930388219545\n",
      "Macro Roc score: 0.8836348086779233\n"
     ]
    }
   ],
   "source": [
    "\n",
    "print(\"Precision: \"+ str(precision_score(y_true, y_pred, average='macro')))\n",
    "print(\"Recall: \"+ str(recall_score(y_true, y_pred, average='macro')))\n",
    "print(\"Accuracy: \" + str(accuracy_score(y_true, y_pred)))\n",
    "print(\"Macro Roc score: \" + str(roc_auc_score(y_test,y_prob,multi_class='ovr',average='macro')))"
   ]
  },
  {
   "cell_type": "code",
   "execution_count": 71,
   "metadata": {
    "colab": {
     "base_uri": "https://localhost:8080/"
    },
    "id": "nDNAPv9OsRVg",
    "outputId": "e89b50b5-81b7-41c9-fcbd-ecb013f1417b"
   },
   "outputs": [
    {
     "name": "stdout",
     "output_type": "stream",
     "text": [
      "Precision: 0.7315930388219545\n",
      "Recall: 0.7315930388219545\n",
      "Accuracy: 0.7315930388219545\n",
      "Micro Roc score: 0.94398466243376\n"
     ]
    }
   ],
   "source": [
    "print(\"Precision: \"+ str(precision_score(y_true, y_pred, average='micro')))\n",
    "print(\"Recall: \"+ str(recall_score(y_true, y_pred, average='micro')))\n",
    "print(\"Accuracy: \" + str(accuracy_score(y_true, y_pred)))\n",
    "tpr={}\n",
    "fpr={}\n",
    "roc_auc={}\n",
    "fpr[\"micro\"], tpr[\"micro\"], _ = roc_curve(y_test.ravel(), y_prob.ravel())\n",
    "roc_auc[\"micro\"] = auc(fpr[\"micro\"], tpr[\"micro\"])\n",
    "print(\"Micro Roc score: \" + str(roc_auc[\"micro\"]))"
   ]
  },
  {
   "cell_type": "code",
   "execution_count": 72,
   "metadata": {
    "colab": {
     "base_uri": "https://localhost:8080/"
    },
    "id": "U03sRDM2sudx",
    "outputId": "7323f6d3-dcea-497a-a699-b04499a611ac"
   },
   "outputs": [
    {
     "name": "stdout",
     "output_type": "stream",
     "text": [
      "The ROC AUC score of akiec is: 0.8838217639997176\n",
      "The ROC AUC score of bcc is: 0.9204281956575534\n",
      "The ROC AUC score of bkl is: 0.812997432605905\n",
      "The ROC AUC score of df is: 0.8856187024572862\n",
      "The ROC AUC score of mel is: 0.8416287244651616\n",
      "The ROC AUC score of nv is: 0.8927381927381928\n",
      "The ROC AUC score of vasc is: 0.9482106488216469\n"
     ]
    }
   ],
   "source": [
    "fpr = {}\n",
    "tpr = {}\n",
    "roc_auc = {}\n",
    "for i in range(7):\n",
    "    r = roc_auc_score(y_test[:, i], y_prob[:, i])\n",
    "    print(\"The ROC AUC score of \"+targetnames[i]+\" is: \"+str(r))"
   ]
  },
  {
   "cell_type": "code",
   "execution_count": 73,
   "metadata": {
    "id": "A5nG-b11wkep"
   },
   "outputs": [],
   "source": [
    "# Compute ROC curve and ROC area for each class\n",
    "fpr = {}\n",
    "tpr = {}\n",
    "roc_auc = dict()\n",
    "for i in range(7):\n",
    "    fpr[i], tpr[i], _ = roc_curve(y_test[:, i], y_prob[:, i], drop_intermediate=False)\n",
    "    roc_auc[i] = auc(fpr[i], tpr[i])"
   ]
  },
  {
   "cell_type": "code",
   "execution_count": 74,
   "metadata": {
    "colab": {
     "base_uri": "https://localhost:8080/",
     "height": 295
    },
    "id": "9wz2--WDwHQ4",
    "outputId": "6970259f-37fa-43c6-d28d-b1887ec9a026"
   },
   "outputs": [
    {
     "data": {
      "image/png": "[encoded data removed]",
      "text/plain": [
       "<Figure size 432x288 with 1 Axes>"
      ]
     },
     "metadata": {
      "needs_background": "light"
     },
     "output_type": "display_data"
    }
   ],
   "source": [
    "\n",
    "plt.plot(fpr[0], tpr[0],'v-',label='akiec: ROC curve of (area = %0.2f)' % roc_auc[0])\n",
    "plt.plot(fpr[1], tpr[1],'c',label='bcc: ROC curve of (area = %0.2f)' % roc_auc[1])\n",
    "plt.plot(fpr[2], tpr[2],'b',label='bkl: ROC curve of (area = %0.2f)' % roc_auc[2])\n",
    "plt.plot(fpr[3], tpr[3],'g',label='df: ROC curve of (area = %0.2f)' % roc_auc[3])\n",
    "plt.plot(fpr[4], tpr[4],'y',label='mel: ROC curve of (area = %0.2f)' % roc_auc[4])\n",
    "plt.plot(fpr[5], tpr[5],'o-',label='nv: ROC curve of (area = %0.2f)' % roc_auc[5])\n",
    "plt.plot(fpr[6], tpr[6],'r',label='vasc: ROC curve of (area = %0.2f)' % roc_auc[6])\n",
    "\n",
    "plt.plot([0, 1], [0, 1], 'k--')\n",
    "plt.xlim([-0.1, 1.1])\n",
    "plt.ylim([-0.1, 1.1])\n",
    "plt.xlabel('False Positive Rate')\n",
    "plt.ylabel('True Positive Rate')\n",
    "plt.title('Receiver operating characteristic of %s'%targetnames[i])\n",
    "plt.legend(loc=\"lower right\")\n",
    "plt.show()"
   ]
  }
 ],
 "metadata": {
  "accelerator": "GPU",
  "colab": {
   "collapsed_sections": [],
   "machine_shape": "hm",
   "name": "ResNet34+SA.ipynb",
   "provenance": [],
   "toc_visible": true
  },
  "kernelspec": {
   "display_name": "Python 3 (ipykernel)",
   "language": "python",
   "name": "python3"
  },
  "language_info": {
   "codemirror_mode": {
    "name": "ipython",
    "version": 3
   },
   "file_extension": ".py",
   "mimetype": "text/x-python",
   "name": "python",
   "nbconvert_exporter": "python",
   "pygments_lexer": "ipython3",
   "version": "3.9.6"
  }
 },
 "nbformat": 4,
 "nbformat_minor": 1
}
