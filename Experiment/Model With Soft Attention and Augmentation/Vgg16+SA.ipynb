{
 "cells": [
  {
   "cell_type": "code",
   "execution_count": 3,
   "metadata": {
    "id": "Aa36bMKLze3z"
   },
   "outputs": [],
   "source": [
    "import pandas as pd\n",
    "import numpy as np\n",
    "import os\n",
    "import tensorflow as tf\n",
    "import cv2\n",
    "from keras import backend as K\n",
    "from keras.layers import Layer,InputSpec\n",
    "import keras.layers as kl\n",
    "from glob import glob\n",
    "from sklearn.metrics import roc_curve, auc\n",
    "from keras.preprocessing import image\n",
    "from tensorflow.keras.models import Sequential\n",
    "from sklearn.metrics import roc_auc_score\n",
    "from tensorflow.keras import callbacks \n",
    "from tensorflow.keras.callbacks import ModelCheckpoint,EarlyStopping\n",
    "from  matplotlib import pyplot as plt\n",
    "from tensorflow.keras import Model\n",
    "from tensorflow.keras.layers import concatenate,Dense, Conv2D, MaxPooling2D, Flatten,Input,Activation,add,AveragePooling2D,BatchNormalization,Dropout\n",
    "%matplotlib inline\n",
    "import shutil\n",
    "from sklearn.metrics import  precision_score, recall_score, accuracy_score,classification_report ,confusion_matrix\n",
    "from tensorflow.python.platform import build_info as tf_build_info\n",
    "from tensorflow.keras.preprocessing.image import ImageDataGenerator\n",
    "from sklearn.model_selection import train_test_split\n",
    "\n",
    "from PIL import ImageFile\n",
    "ImageFile.LOAD_TRUNCATED_IMAGES = True"
   ]
  },
  {
   "cell_type": "code",
   "execution_count": 23,
   "metadata": {
    "colab": {
     "base_uri": "https://localhost:8080/"
    },
    "id": "4W8hmE2OHjQa",
    "outputId": "e57e21fb-559b-40f8-8755-d8e45bd3e8a4"
   },
   "outputs": [],
   "source": [
    "datagen = tf.keras.preprocessing.image.ImageDataGenerator(\n",
    "\n",
    "        rotation_range=180,\n",
    "        width_shift_range=0.1,\n",
    "        height_shift_range=0.1,\n",
    "        zoom_range=0.1,\n",
    "        horizontal_flip=True,\n",
    "        vertical_flip=True,\n",
    "        fill_mode='nearest'\n",
    "\n",
    "    )"
   ]
  },
  {
   "cell_type": "code",
   "execution_count": 24,
   "metadata": {
    "id": "wNisha_gM3_Z"
   },
   "outputs": [],
   "source": [
    "train_path = 'D:/Data/HAM100000 - Harvard Dataset/preprocessed_data_15split/train'\n",
    "test_path = 'D:/Data/HAM100000 - Harvard Dataset/preprocessed_data_15split/val'\n",
    "batch_size = 16 "
   ]
  },
  {
   "cell_type": "code",
   "execution_count": 25,
   "metadata": {
    "id": "zhQWqdRN79B3"
   },
   "outputs": [],
   "source": [
    "datagen=ImageDataGenerator(preprocessing_function=tf.keras.applications.inception_resnet_v2.preprocess_input)"
   ]
  },
  {
   "cell_type": "code",
   "execution_count": 26,
   "metadata": {
    "colab": {
     "base_uri": "https://localhost:8080/"
    },
    "id": "w9_8FvOO7Rtu",
    "outputId": "7ca88c24-fda8-45d6-cb32-f3a43ae6ba5b"
   },
   "outputs": [
    {
     "name": "stdout",
     "output_type": "stream",
     "text": [
      "\n",
      "Train Batches: \n",
      "Found 8464 images belonging to 7 classes.\n",
      "\n",
      "Test Batches: \n",
      "Found 1494 images belonging to 7 classes.\n"
     ]
    }
   ],
   "source": [
    "image_size = 224\n",
    "print(\"\\nTrain Batches: \")\n",
    "train_batches = datagen.flow_from_directory(directory=train_path,\n",
    "                                            target_size=(image_size,image_size),\n",
    "                                            batch_size=batch_size,\n",
    "                                            shuffle=True)\n",
    "\n",
    "print(\"\\nTest Batches: \")\n",
    "test_batches =datagen.flow_from_directory(test_path,\n",
    "                                           target_size=(image_size,image_size),\n",
    "                                           batch_size=batch_size,\n",
    "                                           shuffle=False)"
   ]
  },
  {
   "cell_type": "code",
   "execution_count": 27,
   "metadata": {
    "id": "AbwfHcsOPKYB"
   },
   "outputs": [],
   "source": [
    "#Soft Attention\n",
    "\n",
    "from keras import backend as K\n",
    "from keras.layers import Layer,InputSpec\n",
    "import keras.layers as kl\n",
    "import tensorflow as tf\n",
    "\n",
    "\n",
    "\n",
    "class SoftAttention(Layer):\n",
    "    def __init__(self,ch,m,concat_with_x=False,aggregate=False,**kwargs):\n",
    "        self.channels=int(ch)\n",
    "        self.multiheads = m\n",
    "        self.aggregate_channels = aggregate\n",
    "        self.concat_input_with_scaled = concat_with_x\n",
    "\n",
    "        \n",
    "        super(SoftAttention,self).__init__(**kwargs)\n",
    "\n",
    "    def build(self,input_shape):\n",
    "\n",
    "        self.i_shape = input_shape\n",
    "\n",
    "        kernel_shape_conv3d = (self.channels, 3, 3) + (1, self.multiheads) # DHWC\n",
    "    \n",
    "        self.out_attention_maps_shape = input_shape[0:1]+(self.multiheads,)+input_shape[1:-1]\n",
    "        \n",
    "        if self.aggregate_channels==False:\n",
    "\n",
    "            self.out_features_shape = input_shape[:-1]+(input_shape[-1]+(input_shape[-1]*self.multiheads),)\n",
    "        else:\n",
    "            if self.concat_input_with_scaled:\n",
    "                self.out_features_shape = input_shape[:-1]+(input_shape[-1]*2,)\n",
    "            else:\n",
    "                self.out_features_shape = input_shape\n",
    "        \n",
    "\n",
    "        self.kernel_conv3d = self.add_weight(shape=kernel_shape_conv3d,\n",
    "                                        initializer='he_uniform',\n",
    "                                        name='kernel_conv3d')\n",
    "        self.bias_conv3d = self.add_weight(shape=(self.multiheads,),\n",
    "                                      initializer='zeros',\n",
    "                                      name='bias_conv3d')\n",
    "\n",
    "        super(SoftAttention, self).build(input_shape)\n",
    "\n",
    "    def call(self, x):\n",
    "\n",
    "        exp_x = K.expand_dims(x,axis=-1)\n",
    "\n",
    "        c3d = K.conv3d(exp_x,\n",
    "                     kernel=self.kernel_conv3d,\n",
    "                     strides=(1,1,self.i_shape[-1]), padding='same', data_format='channels_last')\n",
    "        conv3d = K.bias_add(c3d,\n",
    "                        self.bias_conv3d)\n",
    "        conv3d = kl.Activation('relu')(conv3d)\n",
    "\n",
    "        conv3d = K.permute_dimensions(conv3d,pattern=(0,4,1,2,3))\n",
    "\n",
    "        \n",
    "        conv3d = K.squeeze(conv3d, axis=-1)\n",
    "        conv3d = K.reshape(conv3d,shape=(-1, self.multiheads ,self.i_shape[1]*self.i_shape[2]))\n",
    "\n",
    "        softmax_alpha = K.softmax(conv3d, axis=-1) \n",
    "        softmax_alpha = kl.Reshape(target_shape=(self.multiheads, self.i_shape[1],self.i_shape[2]))(softmax_alpha)\n",
    "\n",
    "        \n",
    "        if self.aggregate_channels==False:\n",
    "            exp_softmax_alpha = K.expand_dims(softmax_alpha, axis=-1)       \n",
    "            exp_softmax_alpha = K.permute_dimensions(exp_softmax_alpha,pattern=(0,2,3,1,4))\n",
    "   \n",
    "            x_exp = K.expand_dims(x,axis=-2)\n",
    "   \n",
    "            u = kl.Multiply()([exp_softmax_alpha, x_exp])   \n",
    "  \n",
    "            u = kl.Reshape(target_shape=(self.i_shape[1],self.i_shape[2],u.shape[-1]*u.shape[-2]))(u)\n",
    "\n",
    "        else:\n",
    "            exp_softmax_alpha = K.permute_dimensions(softmax_alpha,pattern=(0,2,3,1))\n",
    "\n",
    "            exp_softmax_alpha = K.sum(exp_softmax_alpha,axis=-1)\n",
    "\n",
    "            exp_softmax_alpha = K.expand_dims(exp_softmax_alpha, axis=-1)\n",
    "\n",
    "            u = kl.Multiply()([exp_softmax_alpha, x])   \n",
    "\n",
    "        if self.concat_input_with_scaled:\n",
    "            o = kl.Concatenate(axis=-1)([u,x])\n",
    "        else:\n",
    "            o = u\n",
    "        \n",
    "        return [o, softmax_alpha]\n",
    "\n",
    "    def compute_output_shape(self, input_shape): \n",
    "        return [self.out_features_shape, self.out_attention_maps_shape]\n",
    "\n",
    "    \n",
    "    def get_config(self):\n",
    "        return super(SoftAttention,self).get_config()\n",
    " "
   ]
  },
  {
   "cell_type": "code",
   "execution_count": 28,
   "metadata": {
    "id": "4d4Ta5LcSYaz"
   },
   "outputs": [],
   "source": [
    "MainInput=Input(shape=(224, 224, 3))"
   ]
  },
  {
   "cell_type": "code",
   "execution_count": 29,
   "metadata": {
    "id": "LtSMEeZjSYa_"
   },
   "outputs": [],
   "source": [
    "conv=(Conv2D(filters=64,kernel_size=(3,3), activation=\"relu\",padding=\"same\",kernel_initializer='he_normal')(MainInput))\n",
    "conv=(BatchNormalization()(conv))\n",
    "conv=(Conv2D(filters=64,kernel_size=(1,1), activation=\"relu\",padding=\"same\",kernel_initializer='he_normal')(conv))\n",
    "conv=(BatchNormalization()(conv))"
   ]
  },
  {
   "cell_type": "code",
   "execution_count": 30,
   "metadata": {
    "id": "wfhLPhssAm2S"
   },
   "outputs": [],
   "source": [
    "conv=(MaxPooling2D(strides=(2, 2),padding=\"same\")(conv))"
   ]
  },
  {
   "cell_type": "code",
   "execution_count": 31,
   "metadata": {
    "id": "x8mS99J5SYbT"
   },
   "outputs": [],
   "source": [
    "conv=(Conv2D(filters=128,kernel_size=(3,3), activation=\"relu\",padding=\"same\",kernel_initializer='he_normal')(conv))\n",
    "conv=(BatchNormalization()(conv))\n",
    "conv=(Conv2D(filters=128,kernel_size=(1,1), activation=\"relu\",padding=\"same\",kernel_initializer='he_normal')(conv))\n",
    "conv=(BatchNormalization()(conv))"
   ]
  },
  {
   "cell_type": "code",
   "execution_count": 32,
   "metadata": {
    "id": "R8ecZJFySYbb"
   },
   "outputs": [],
   "source": [
    "conv=(MaxPooling2D()(conv))"
   ]
  },
  {
   "cell_type": "code",
   "execution_count": 33,
   "metadata": {
    "id": "sW4tKg9wSYbk"
   },
   "outputs": [],
   "source": [
    "conv=(Conv2D(filters=256,kernel_size=(3,3), activation=\"relu\",padding=\"same\",kernel_initializer='he_normal')(conv))\n",
    "conv=(BatchNormalization()(conv))\n",
    "conv=(Conv2D(filters=256,kernel_size=(3,3), activation=\"relu\",padding=\"same\",kernel_initializer='he_normal')(conv))\n",
    "conv=(BatchNormalization()(conv))\n",
    "conv=(Conv2D(filters=256,kernel_size=(1,1), activation=\"relu\",padding=\"same\",kernel_initializer='he_normal')(conv))\n",
    "conv=(BatchNormalization()(conv))"
   ]
  },
  {
   "cell_type": "code",
   "execution_count": 34,
   "metadata": {
    "id": "qA1rFJLGSYbv"
   },
   "outputs": [],
   "source": [
    "conv=(MaxPooling2D()(conv))"
   ]
  },
  {
   "cell_type": "code",
   "execution_count": 35,
   "metadata": {
    "id": "JDpRx5IESYb9"
   },
   "outputs": [],
   "source": [
    "conv=(Conv2D(filters=512,kernel_size=(3,3), activation=\"relu\",padding=\"same\",kernel_initializer='he_normal')(conv))\n",
    "conv=(BatchNormalization()(conv))\n",
    "conv=(Conv2D(filters=512,kernel_size=(3,3), activation=\"relu\",padding=\"same\",kernel_initializer='he_normal')(conv))\n",
    "conv=(BatchNormalization()(conv))\n",
    "conv=(Conv2D(filters=512,kernel_size=(1,1), activation=\"relu\",padding=\"same\",kernel_initializer='he_normal')(conv))\n",
    "conv=(BatchNormalization()(conv))"
   ]
  },
  {
   "cell_type": "markdown",
   "metadata": {
    "id": "01v8xlTO-n_2"
   },
   "source": [
    "Soft Attention Layer"
   ]
  },
  {
   "cell_type": "code",
   "execution_count": 36,
   "metadata": {
    "id": "499CzUn8SYcE"
   },
   "outputs": [],
   "source": [
    "attention_layer,map2 = SoftAttention(aggregate=True,m=16,concat_with_x=False,ch=int(conv.shape[-1]),name='soft_attention')(conv)\n",
    "attention_layer=(MaxPooling2D(pool_size=(2, 2),padding=\"same\")(attention_layer))\n",
    "conv=(MaxPooling2D(pool_size=(2, 2),padding=\"same\")(conv))\n",
    "\n",
    "conv = concatenate([conv,attention_layer])\n",
    "conv=Activation(\"relu\")(conv)\n",
    "conv= Dropout(0.5)(conv)"
   ]
  },
  {
   "cell_type": "code",
   "execution_count": 37,
   "metadata": {
    "id": "NrLMX3RCSYcP"
   },
   "outputs": [],
   "source": [
    "conv=(Conv2D(filters=512,kernel_size=(3,3), activation=\"relu\",padding=\"same\",kernel_initializer='he_normal')(conv))\n",
    "conv=(BatchNormalization()(conv))\n",
    "conv=(Conv2D(filters=512,kernel_size=(3,3), activation=\"relu\",padding=\"same\",kernel_initializer='he_normal')(conv))\n",
    "conv=(BatchNormalization()(conv))\n",
    "conv=(Conv2D(filters=512,kernel_size=(1,1), activation=\"relu\",padding=\"same\",kernel_initializer='he_normal')(conv))\n",
    "conv=(BatchNormalization()(conv))"
   ]
  },
  {
   "cell_type": "code",
   "execution_count": 38,
   "metadata": {
    "id": "eo8E7RxUSYcW"
   },
   "outputs": [],
   "source": [
    "conv=(MaxPooling2D(pool_size=(4, 4),padding=\"same\")(conv))"
   ]
  },
  {
   "cell_type": "code",
   "execution_count": 39,
   "metadata": {
    "id": "-EdFxKdgSYcf"
   },
   "outputs": [],
   "source": [
    "conv=(Flatten()(conv))\n",
    "conv=(Dense(4096,activation=\"relu\")(conv))\n",
    "conv=(Dense(4096,activation=\"relu\")(conv))\n",
    "conv=(Dense(7, activation=\"softmax\")(conv))\n",
    "\n",
    "model = Model(inputs=MainInput, outputs=conv)"
   ]
  },
  {
   "cell_type": "code",
   "execution_count": 40,
   "metadata": {
    "colab": {
     "base_uri": "https://localhost:8080/"
    },
    "id": "ba8ajOckSYcl",
    "outputId": "e69fa749-4741-4f49-ae3e-9f5479e809a8"
   },
   "outputs": [
    {
     "name": "stdout",
     "output_type": "stream",
     "text": [
      "Model: \"model\"\n",
      "__________________________________________________________________________________________________\n",
      " Layer (type)                   Output Shape         Param #     Connected to                     \n",
      "==================================================================================================\n",
      " input_1 (InputLayer)           [(None, 224, 224, 3  0           []                               \n",
      "                                )]                                                                \n",
      "                                                                                                  \n",
      " conv2d (Conv2D)                (None, 224, 224, 64  1792        ['input_1[0][0]']                \n",
      "                                )                                                                 \n",
      "                                                                                                  \n",
      " batch_normalization (BatchNorm  (None, 224, 224, 64  256        ['conv2d[0][0]']                 \n",
      " alization)                     )                                                                 \n",
      "                                                                                                  \n",
      " conv2d_1 (Conv2D)              (None, 224, 224, 64  4160        ['batch_normalization[0][0]']    \n",
      "                                )                                                                 \n",
      "                                                                                                  \n",
      " batch_normalization_1 (BatchNo  (None, 224, 224, 64  256        ['conv2d_1[0][0]']               \n",
      " rmalization)                   )                                                                 \n",
      "                                                                                                  \n",
      " max_pooling2d (MaxPooling2D)   (None, 112, 112, 64  0           ['batch_normalization_1[0][0]']  \n",
      "                                )                                                                 \n",
      "                                                                                                  \n",
      " conv2d_2 (Conv2D)              (None, 112, 112, 12  73856       ['max_pooling2d[0][0]']          \n",
      "                                8)                                                                \n",
      "                                                                                                  \n",
      " batch_normalization_2 (BatchNo  (None, 112, 112, 12  512        ['conv2d_2[0][0]']               \n",
      " rmalization)                   8)                                                                \n",
      "                                                                                                  \n",
      " conv2d_3 (Conv2D)              (None, 112, 112, 12  16512       ['batch_normalization_2[0][0]']  \n",
      "                                8)                                                                \n",
      "                                                                                                  \n",
      " batch_normalization_3 (BatchNo  (None, 112, 112, 12  512        ['conv2d_3[0][0]']               \n",
      " rmalization)                   8)                                                                \n",
      "                                                                                                  \n",
      " max_pooling2d_1 (MaxPooling2D)  (None, 56, 56, 128)  0          ['batch_normalization_3[0][0]']  \n",
      "                                                                                                  \n",
      " conv2d_4 (Conv2D)              (None, 56, 56, 256)  295168      ['max_pooling2d_1[0][0]']        \n",
      "                                                                                                  \n",
      " batch_normalization_4 (BatchNo  (None, 56, 56, 256)  1024       ['conv2d_4[0][0]']               \n",
      " rmalization)                                                                                     \n",
      "                                                                                                  \n",
      " conv2d_5 (Conv2D)              (None, 56, 56, 256)  590080      ['batch_normalization_4[0][0]']  \n",
      "                                                                                                  \n",
      " batch_normalization_5 (BatchNo  (None, 56, 56, 256)  1024       ['conv2d_5[0][0]']               \n",
      " rmalization)                                                                                     \n",
      "                                                                                                  \n",
      " conv2d_6 (Conv2D)              (None, 56, 56, 256)  65792       ['batch_normalization_5[0][0]']  \n",
      "                                                                                                  \n",
      " batch_normalization_6 (BatchNo  (None, 56, 56, 256)  1024       ['conv2d_6[0][0]']               \n",
      " rmalization)                                                                                     \n",
      "                                                                                                  \n",
      " max_pooling2d_2 (MaxPooling2D)  (None, 28, 28, 256)  0          ['batch_normalization_6[0][0]']  \n",
      "                                                                                                  \n",
      " conv2d_7 (Conv2D)              (None, 28, 28, 512)  1180160     ['max_pooling2d_2[0][0]']        \n",
      "                                                                                                  \n",
      " batch_normalization_7 (BatchNo  (None, 28, 28, 512)  2048       ['conv2d_7[0][0]']               \n",
      " rmalization)                                                                                     \n",
      "                                                                                                  \n",
      " conv2d_8 (Conv2D)              (None, 28, 28, 512)  2359808     ['batch_normalization_7[0][0]']  \n",
      "                                                                                                  \n",
      " batch_normalization_8 (BatchNo  (None, 28, 28, 512)  2048       ['conv2d_8[0][0]']               \n",
      " rmalization)                                                                                     \n",
      "                                                                                                  \n",
      " conv2d_9 (Conv2D)              (None, 28, 28, 512)  262656      ['batch_normalization_8[0][0]']  \n",
      "                                                                                                  \n",
      " batch_normalization_9 (BatchNo  (None, 28, 28, 512)  2048       ['conv2d_9[0][0]']               \n",
      " rmalization)                                                                                     \n",
      "                                                                                                  \n",
      " soft_attention (SoftAttention)  [(None, 28, 28, 512  73744      ['batch_normalization_9[0][0]']  \n",
      "                                ),                                                                \n",
      "                                 (None, 16, 28, 28)                                               \n",
      "                                ]                                                                 \n",
      "                                                                                                  \n",
      " max_pooling2d_4 (MaxPooling2D)  (None, 14, 14, 512)  0          ['batch_normalization_9[0][0]']  \n",
      "                                                                                                  \n",
      " max_pooling2d_3 (MaxPooling2D)  (None, 14, 14, 512)  0          ['soft_attention[0][0]']         \n",
      "                                                                                                  \n",
      " concatenate (Concatenate)      (None, 14, 14, 1024  0           ['max_pooling2d_4[0][0]',        \n",
      "                                )                                 'max_pooling2d_3[0][0]']        \n",
      "                                                                                                  \n",
      " activation (Activation)        (None, 14, 14, 1024  0           ['concatenate[0][0]']            \n",
      "                                )                                                                 \n",
      "                                                                                                  \n",
      " dropout (Dropout)              (None, 14, 14, 1024  0           ['activation[0][0]']             \n"
     ]
    },
    {
     "name": "stdout",
     "output_type": "stream",
     "text": [
      "                                )                                                                 \n",
      "                                                                                                  \n",
      " conv2d_10 (Conv2D)             (None, 14, 14, 512)  4719104     ['dropout[0][0]']                \n",
      "                                                                                                  \n",
      " batch_normalization_10 (BatchN  (None, 14, 14, 512)  2048       ['conv2d_10[0][0]']              \n",
      " ormalization)                                                                                    \n",
      "                                                                                                  \n",
      " conv2d_11 (Conv2D)             (None, 14, 14, 512)  2359808     ['batch_normalization_10[0][0]'] \n",
      "                                                                                                  \n",
      " batch_normalization_11 (BatchN  (None, 14, 14, 512)  2048       ['conv2d_11[0][0]']              \n",
      " ormalization)                                                                                    \n",
      "                                                                                                  \n",
      " conv2d_12 (Conv2D)             (None, 14, 14, 512)  262656      ['batch_normalization_11[0][0]'] \n",
      "                                                                                                  \n",
      " batch_normalization_12 (BatchN  (None, 14, 14, 512)  2048       ['conv2d_12[0][0]']              \n",
      " ormalization)                                                                                    \n",
      "                                                                                                  \n",
      " max_pooling2d_5 (MaxPooling2D)  (None, 4, 4, 512)   0           ['batch_normalization_12[0][0]'] \n",
      "                                                                                                  \n",
      " flatten (Flatten)              (None, 8192)         0           ['max_pooling2d_5[0][0]']        \n",
      "                                                                                                  \n",
      " dense (Dense)                  (None, 4096)         33558528    ['flatten[0][0]']                \n",
      "                                                                                                  \n",
      " dense_1 (Dense)                (None, 4096)         16781312    ['dense[0][0]']                  \n",
      "                                                                                                  \n",
      " dense_2 (Dense)                (None, 7)            28679       ['dense_1[0][0]']                \n",
      "                                                                                                  \n",
      "==================================================================================================\n",
      "Total params: 62,650,711\n",
      "Trainable params: 62,642,263\n",
      "Non-trainable params: 8,448\n",
      "__________________________________________________________________________________________________\n"
     ]
    }
   ],
   "source": [
    "\n",
    "model.summary()"
   ]
  },
  {
   "cell_type": "code",
   "execution_count": 41,
   "metadata": {
    "id": "WR0fUpy18vAZ"
   },
   "outputs": [],
   "source": [
    "opt1=tf.keras.optimizers.Adam(learning_rate=0.01,epsilon=0.1)\n",
    "model.compile(optimizer=opt1,\n",
    "             loss='categorical_crossentropy',\n",
    "             metrics=['accuracy'])"
   ]
  },
  {
   "cell_type": "code",
   "execution_count": 42,
   "metadata": {
    "id": "LAf5ha295reS"
   },
   "outputs": [],
   "source": [
    "class_weights = {   \n",
    "                    0: 1.0,  # akiec\n",
    "                    1: 1.0,  # bcc\n",
    "                    2: 1.0,  # bkl\n",
    "                    3: 1.0,  # df\n",
    "                    4: 1.0,  # mel\n",
    "                    5: 1.0,  # nv\n",
    "                    6: 1.0,  # vasc\n",
    "                }\n",
    "\n",
    "\n",
    "checkpoint=  ModelCheckpoint(filepath ='vgg16+SA.hdf5',monitor='val_accuracy',save_best_only=True,save_weights_only=True)\n",
    "\n",
    "\n"
   ]
  },
  {
   "cell_type": "code",
   "execution_count": 43,
   "metadata": {
    "colab": {
     "base_uri": "https://localhost:8080/"
    },
    "id": "NUzTmiZ-8hL3",
    "outputId": "e1825ff2-9f9c-436f-cf2c-9776af8eee62"
   },
   "outputs": [
    {
     "name": "stdout",
     "output_type": "stream",
     "text": [
      "Epoch 1/300\n",
      "529/529 [==============================] - 166s 240ms/step - loss: 2.1366 - accuracy: 0.5304 - val_loss: 1.3391 - val_accuracy: 0.4418\n",
      "Epoch 2/300\n",
      "529/529 [==============================] - 130s 245ms/step - loss: 1.4551 - accuracy: 0.5592 - val_loss: 1.2177 - val_accuracy: 0.3440\n",
      "Epoch 3/300\n",
      "529/529 [==============================] - 131s 248ms/step - loss: 1.4211 - accuracy: 0.5638 - val_loss: 1.1863 - val_accuracy: 0.5515\n",
      "Epoch 4/300\n",
      "529/529 [==============================] - 132s 248ms/step - loss: 1.3972 - accuracy: 0.5839 - val_loss: 1.0534 - val_accuracy: 0.6339\n",
      "Epoch 5/300\n",
      "529/529 [==============================] - 130s 245ms/step - loss: 1.3378 - accuracy: 0.6056 - val_loss: 1.1172 - val_accuracy: 0.5154\n",
      "Epoch 6/300\n",
      "529/529 [==============================] - 130s 245ms/step - loss: 1.2826 - accuracy: 0.6148 - val_loss: 1.0204 - val_accuracy: 0.6017\n",
      "Epoch 7/300\n",
      "529/529 [==============================] - 130s 245ms/step - loss: 1.2344 - accuracy: 0.6400 - val_loss: 1.1203 - val_accuracy: 0.5562\n",
      "Epoch 8/300\n",
      "529/529 [==============================] - 132s 250ms/step - loss: 1.1757 - accuracy: 0.6415 - val_loss: 0.9167 - val_accuracy: 0.6807\n",
      "Epoch 9/300\n",
      "529/529 [==============================] - 128s 242ms/step - loss: 1.2051 - accuracy: 0.6389 - val_loss: 0.9370 - val_accuracy: 0.5790\n",
      "Epoch 10/300\n",
      "529/529 [==============================] - 131s 248ms/step - loss: 1.1233 - accuracy: 0.6554 - val_loss: 0.8050 - val_accuracy: 0.7082\n",
      "Epoch 11/300\n",
      "529/529 [==============================] - 129s 244ms/step - loss: 1.1109 - accuracy: 0.6629 - val_loss: 0.8341 - val_accuracy: 0.7048\n",
      "Epoch 12/300\n",
      "529/529 [==============================] - 130s 245ms/step - loss: 1.0717 - accuracy: 0.6817 - val_loss: 0.9377 - val_accuracy: 0.6399\n",
      "Epoch 13/300\n",
      "529/529 [==============================] - 131s 247ms/step - loss: 1.0848 - accuracy: 0.6944 - val_loss: 1.0410 - val_accuracy: 0.6560\n",
      "Epoch 14/300\n",
      "529/529 [==============================] - 130s 245ms/step - loss: 1.0487 - accuracy: 0.6845 - val_loss: 0.9545 - val_accuracy: 0.6546\n",
      "Epoch 15/300\n",
      "529/529 [==============================] - 131s 248ms/step - loss: 1.0006 - accuracy: 0.7063 - val_loss: 0.8436 - val_accuracy: 0.7155\n",
      "Epoch 16/300\n",
      "529/529 [==============================] - 131s 248ms/step - loss: 0.9590 - accuracy: 0.7127 - val_loss: 0.8342 - val_accuracy: 0.7269\n",
      "Epoch 17/300\n",
      "529/529 [==============================] - 129s 244ms/step - loss: 0.9234 - accuracy: 0.7239 - val_loss: 0.9204 - val_accuracy: 0.7075\n",
      "Epoch 18/300\n",
      "529/529 [==============================] - 132s 249ms/step - loss: 0.9187 - accuracy: 0.7317 - val_loss: 0.7637 - val_accuracy: 0.7490\n",
      "Epoch 19/300\n",
      "529/529 [==============================] - 131s 247ms/step - loss: 0.8713 - accuracy: 0.7506 - val_loss: 1.0396 - val_accuracy: 0.6513\n",
      "Epoch 20/300\n",
      "529/529 [==============================] - 131s 248ms/step - loss: 0.8524 - accuracy: 0.7600 - val_loss: 2.3291 - val_accuracy: 0.7135\n",
      "Epoch 21/300\n",
      "529/529 [==============================] - 130s 245ms/step - loss: 0.9519 - accuracy: 0.7370 - val_loss: 0.8120 - val_accuracy: 0.7303\n",
      "Epoch 22/300\n",
      "529/529 [==============================] - 130s 246ms/step - loss: 0.9058 - accuracy: 0.7574 - val_loss: 0.8000 - val_accuracy: 0.7436\n",
      "Epoch 23/300\n",
      "529/529 [==============================] - 130s 246ms/step - loss: 0.8204 - accuracy: 0.7782 - val_loss: 1.0254 - val_accuracy: 0.6486\n",
      "Epoch 24/300\n",
      "529/529 [==============================] - 129s 243ms/step - loss: 0.7879 - accuracy: 0.7836 - val_loss: 1.0209 - val_accuracy: 0.6854\n",
      "Epoch 25/300\n",
      "529/529 [==============================] - 131s 248ms/step - loss: 0.7706 - accuracy: 0.7890 - val_loss: 1.0574 - val_accuracy: 0.6767\n",
      "Epoch 26/300\n",
      "529/529 [==============================] - 132s 248ms/step - loss: 0.6940 - accuracy: 0.8061 - val_loss: 0.8291 - val_accuracy: 0.7517\n",
      "Epoch 27/300\n",
      "529/529 [==============================] - 130s 245ms/step - loss: 0.5948 - accuracy: 0.8215 - val_loss: 0.9131 - val_accuracy: 0.7021\n",
      "Epoch 28/300\n",
      "529/529 [==============================] - 130s 246ms/step - loss: 0.5389 - accuracy: 0.8463 - val_loss: 0.9296 - val_accuracy: 0.7303\n",
      "Epoch 29/300\n",
      "529/529 [==============================] - 130s 246ms/step - loss: 0.6164 - accuracy: 0.8413 - val_loss: 0.9887 - val_accuracy: 0.7269\n",
      "Epoch 30/300\n",
      "529/529 [==============================] - 130s 245ms/step - loss: 0.5603 - accuracy: 0.8453 - val_loss: 0.8980 - val_accuracy: 0.7202\n",
      "Epoch 31/300\n",
      "529/529 [==============================] - 133s 251ms/step - loss: 0.4816 - accuracy: 0.8686 - val_loss: 0.9725 - val_accuracy: 0.7610\n",
      "Epoch 32/300\n",
      "529/529 [==============================] - 131s 247ms/step - loss: 0.5059 - accuracy: 0.8693 - val_loss: 0.8776 - val_accuracy: 0.7162\n",
      "Epoch 33/300\n",
      "529/529 [==============================] - 131s 247ms/step - loss: 0.4273 - accuracy: 0.8849 - val_loss: 1.0614 - val_accuracy: 0.7149\n",
      "Epoch 34/300\n",
      "529/529 [==============================] - 130s 246ms/step - loss: 0.7616 - accuracy: 0.8246 - val_loss: 1.0904 - val_accuracy: 0.7095\n",
      "Epoch 35/300\n",
      "529/529 [==============================] - 130s 246ms/step - loss: 0.5933 - accuracy: 0.8539 - val_loss: 1.1857 - val_accuracy: 0.6995\n",
      "Epoch 36/300\n",
      "529/529 [==============================] - 130s 245ms/step - loss: 0.4256 - accuracy: 0.8860 - val_loss: 1.1012 - val_accuracy: 0.7289\n",
      "Epoch 37/300\n",
      "529/529 [==============================] - 131s 248ms/step - loss: 0.3546 - accuracy: 0.9086 - val_loss: 0.9537 - val_accuracy: 0.7584\n",
      "Epoch 38/300\n",
      "529/529 [==============================] - 131s 246ms/step - loss: 0.3491 - accuracy: 0.9142 - val_loss: 1.0470 - val_accuracy: 0.7503\n",
      "Epoch 39/300\n",
      "529/529 [==============================] - 130s 246ms/step - loss: 0.4506 - accuracy: 0.9021 - val_loss: 1.3182 - val_accuracy: 0.7102\n",
      "Epoch 40/300\n",
      "529/529 [==============================] - 131s 247ms/step - loss: 0.5354 - accuracy: 0.8872 - val_loss: 1.0535 - val_accuracy: 0.7503\n",
      "Epoch 41/300\n",
      "529/529 [==============================] - 130s 245ms/step - loss: 0.2853 - accuracy: 0.9283 - val_loss: 1.2289 - val_accuracy: 0.7296\n",
      "Epoch 42/300\n",
      "529/529 [==============================] - 130s 246ms/step - loss: 0.2584 - accuracy: 0.9395 - val_loss: 1.1204 - val_accuracy: 0.7550\n",
      "Epoch 43/300\n",
      "529/529 [==============================] - 130s 246ms/step - loss: 0.2555 - accuracy: 0.9420 - val_loss: 1.1949 - val_accuracy: 0.7423\n",
      "Epoch 44/300\n",
      "529/529 [==============================] - 131s 247ms/step - loss: 0.2008 - accuracy: 0.9506 - val_loss: 1.1148 - val_accuracy: 0.7477\n",
      "Epoch 45/300\n",
      "529/529 [==============================] - 130s 245ms/step - loss: 0.2272 - accuracy: 0.9464 - val_loss: 1.2273 - val_accuracy: 0.7564\n",
      "Epoch 46/300\n",
      "529/529 [==============================] - 130s 246ms/step - loss: 0.2283 - accuracy: 0.9492 - val_loss: 1.2448 - val_accuracy: 0.7282\n",
      "Epoch 47/300\n",
      "529/529 [==============================] - 130s 245ms/step - loss: 0.1259 - accuracy: 0.9713 - val_loss: 1.3107 - val_accuracy: 0.7403\n",
      "Epoch 48/300\n",
      "529/529 [==============================] - 130s 245ms/step - loss: 0.1373 - accuracy: 0.9708 - val_loss: 1.3043 - val_accuracy: 0.7490\n",
      "Epoch 49/300\n",
      "529/529 [==============================] - 131s 247ms/step - loss: 0.1431 - accuracy: 0.9662 - val_loss: 1.2718 - val_accuracy: 0.7256\n",
      "Epoch 50/300\n",
      "529/529 [==============================] - 130s 246ms/step - loss: 0.1770 - accuracy: 0.9566 - val_loss: 1.4041 - val_accuracy: 0.7189\n",
      "Epoch 51/300\n",
      "529/529 [==============================] - 130s 246ms/step - loss: 0.1758 - accuracy: 0.9585 - val_loss: 1.4359 - val_accuracy: 0.7175\n",
      "Epoch 52/300\n",
      "529/529 [==============================] - 130s 246ms/step - loss: 0.1338 - accuracy: 0.9660 - val_loss: 1.2641 - val_accuracy: 0.7604\n",
      "Epoch 53/300\n",
      "529/529 [==============================] - 130s 246ms/step - loss: 0.1401 - accuracy: 0.9686 - val_loss: 1.5212 - val_accuracy: 0.7135\n",
      "Epoch 54/300\n",
      "529/529 [==============================] - 131s 247ms/step - loss: 0.0856 - accuracy: 0.9781 - val_loss: 1.3893 - val_accuracy: 0.7477\n",
      "Epoch 55/300\n",
      "529/529 [==============================] - 130s 246ms/step - loss: 0.1038 - accuracy: 0.9753 - val_loss: 1.2148 - val_accuracy: 0.7584\n",
      "Epoch 56/300\n",
      "529/529 [==============================] - 131s 248ms/step - loss: 0.0738 - accuracy: 0.9846 - val_loss: 1.4952 - val_accuracy: 0.7430\n",
      "Epoch 57/300\n",
      "529/529 [==============================] - 133s 250ms/step - loss: 0.1632 - accuracy: 0.9698 - val_loss: 1.3330 - val_accuracy: 0.7697\n",
      "Epoch 58/300\n",
      "529/529 [==============================] - 130s 246ms/step - loss: 0.1243 - accuracy: 0.9763 - val_loss: 1.3961 - val_accuracy: 0.7416\n",
      "Epoch 59/300\n",
      "529/529 [==============================] - 130s 245ms/step - loss: 0.1121 - accuracy: 0.9753 - val_loss: 1.3772 - val_accuracy: 0.7577\n",
      "Epoch 60/300\n",
      "529/529 [==============================] - 130s 246ms/step - loss: 0.0616 - accuracy: 0.9859 - val_loss: 1.4049 - val_accuracy: 0.7697\n",
      "Epoch 61/300\n",
      "529/529 [==============================] - 131s 247ms/step - loss: 0.0829 - accuracy: 0.9836 - val_loss: 1.5104 - val_accuracy: 0.7369\n",
      "Epoch 62/300\n",
      "529/529 [==============================] - 130s 245ms/step - loss: 0.0721 - accuracy: 0.9833 - val_loss: 1.4266 - val_accuracy: 0.7249\n",
      "Epoch 63/300\n",
      "529/529 [==============================] - 130s 246ms/step - loss: 0.1324 - accuracy: 0.9763 - val_loss: 1.4969 - val_accuracy: 0.7503\n",
      "Epoch 64/300\n",
      "529/529 [==============================] - 129s 244ms/step - loss: 0.0766 - accuracy: 0.9837 - val_loss: 1.3943 - val_accuracy: 0.7684\n",
      "Epoch 65/300\n",
      "529/529 [==============================] - 129s 244ms/step - loss: 0.0591 - accuracy: 0.9884 - val_loss: 1.3989 - val_accuracy: 0.7584\n",
      "Epoch 66/300\n",
      "529/529 [==============================] - 130s 245ms/step - loss: 0.0861 - accuracy: 0.9816 - val_loss: 1.4400 - val_accuracy: 0.7477\n",
      "Epoch 67/300\n",
      "529/529 [==============================] - 130s 245ms/step - loss: 0.0827 - accuracy: 0.9863 - val_loss: 1.5087 - val_accuracy: 0.7456\n",
      "Epoch 68/300\n",
      "529/529 [==============================] - 130s 246ms/step - loss: 0.0736 - accuracy: 0.9885 - val_loss: 1.6499 - val_accuracy: 0.7530\n",
      "Epoch 69/300\n",
      "529/529 [==============================] - 130s 245ms/step - loss: 0.1408 - accuracy: 0.9715 - val_loss: 1.5118 - val_accuracy: 0.7410\n",
      "Epoch 70/300\n",
      "529/529 [==============================] - 130s 245ms/step - loss: 0.1006 - accuracy: 0.9838 - val_loss: 1.6008 - val_accuracy: 0.7497\n",
      "Epoch 71/300\n",
      "529/529 [==============================] - 130s 245ms/step - loss: 0.0811 - accuracy: 0.9835 - val_loss: 1.3866 - val_accuracy: 0.7631\n",
      "Epoch 72/300\n",
      "529/529 [==============================] - 130s 245ms/step - loss: 0.0597 - accuracy: 0.9876 - val_loss: 1.4707 - val_accuracy: 0.7604\n",
      "Epoch 73/300\n",
      "529/529 [==============================] - 131s 247ms/step - loss: 0.0612 - accuracy: 0.9903 - val_loss: 1.5215 - val_accuracy: 0.7610\n",
      "Epoch 74/300\n",
      "529/529 [==============================] - 130s 246ms/step - loss: 0.0661 - accuracy: 0.9884 - val_loss: 1.3921 - val_accuracy: 0.7590\n",
      "Epoch 75/300\n",
      "529/529 [==============================] - 130s 246ms/step - loss: 0.0743 - accuracy: 0.9901 - val_loss: 1.5933 - val_accuracy: 0.7256\n",
      "Epoch 76/300\n",
      "529/529 [==============================] - 129s 244ms/step - loss: 0.1792 - accuracy: 0.9666 - val_loss: 1.5082 - val_accuracy: 0.7517\n",
      "Epoch 77/300\n",
      "529/529 [==============================] - 130s 246ms/step - loss: 0.0702 - accuracy: 0.9864 - val_loss: 1.4931 - val_accuracy: 0.7664\n",
      "Epoch 78/300\n",
      "529/529 [==============================] - 130s 246ms/step - loss: 0.0645 - accuracy: 0.9861 - val_loss: 1.4751 - val_accuracy: 0.7617\n",
      "Epoch 79/300\n",
      "529/529 [==============================] - 131s 247ms/step - loss: 0.0523 - accuracy: 0.9890 - val_loss: 1.4671 - val_accuracy: 0.7691\n",
      "Epoch 80/300\n",
      "529/529 [==============================] - 131s 248ms/step - loss: 0.0956 - accuracy: 0.9802 - val_loss: 1.5072 - val_accuracy: 0.7483\n",
      "Epoch 81/300\n",
      "529/529 [==============================] - 131s 247ms/step - loss: 0.0583 - accuracy: 0.9883 - val_loss: 1.5736 - val_accuracy: 0.7483\n",
      "Epoch 82/300\n",
      "529/529 [==============================] - 130s 246ms/step - loss: 0.0357 - accuracy: 0.9934 - val_loss: 1.6103 - val_accuracy: 0.7557\n",
      "Epoch 83/300\n",
      "529/529 [==============================] - 130s 245ms/step - loss: 0.0193 - accuracy: 0.9970 - val_loss: 1.5377 - val_accuracy: 0.7677\n"
     ]
    }
   ],
   "source": [
    "Earlystop = EarlyStopping(monitor='val_loss', mode='min',patience=65, min_delta=0.001)\n",
    "history = model.fit(train_batches,\n",
    "#                     steps_per_epoch=(len(train_df)/10),\n",
    "                    epochs=300,\n",
    "#                     verbose=2,\n",
    "                    validation_data=test_batches,\n",
    "#                     validation_steps=len(test_df)/batch_size,\n",
    "                    callbacks=[checkpoint,Earlystop],class_weight=class_weights)"
   ]
  },
  {
   "cell_type": "code",
   "execution_count": 44,
   "metadata": {
    "id": "zm_AewFBXTj8"
   },
   "outputs": [],
   "source": [
    "from tensorflow.keras import models\n",
    "model.load_weights(\"vgg16+SA.hdf5\")"
   ]
  },
  {
   "cell_type": "code",
   "execution_count": 45,
   "metadata": {},
   "outputs": [
    {
     "name": "stdout",
     "output_type": "stream",
     "text": [
      "94/94 [==============================] - 20s 202ms/step\n"
     ]
    }
   ],
   "source": [
    "predictions = model.predict(test_batches, \n",
    "#                             steps=len(test_df)/batch_size, \n",
    "                            verbose=1)"
   ]
  },
  {
   "cell_type": "code",
   "execution_count": 46,
   "metadata": {
    "colab": {
     "base_uri": "https://localhost:8080/"
    },
    "id": "KYxCDDjusR-S",
    "outputId": "622da7f3-08e3-473b-a08b-0f4113a621d4"
   },
   "outputs": [
    {
     "name": "stdout",
     "output_type": "stream",
     "text": [
      "\n",
      "Classification Report:\n",
      "              precision    recall  f1-score   support\n",
      "\n",
      "       akiec       0.42      0.31      0.35        49\n",
      "         bcc       0.58      0.66      0.62        77\n",
      "         bkl       0.48      0.37      0.42       164\n",
      "          df       0.50      0.24      0.32        17\n",
      "         mel       0.56      0.40      0.47       167\n",
      "          nv       0.85      0.94      0.89       999\n",
      "        vasc       0.83      0.71      0.77        21\n",
      "\n",
      "    accuracy                           0.77      1494\n",
      "   macro avg       0.60      0.52      0.55      1494\n",
      "weighted avg       0.75      0.77      0.75      1494\n",
      "\n"
     ]
    }
   ],
   "source": [
    "#geting predictions on test dataset\n",
    "y_pred = np.argmax(predictions, axis=1)\n",
    "targetnames = ['akiec', 'bcc', 'bkl', 'df', 'mel', 'nv', 'vasc']\n",
    "#getting the true labels per image \n",
    "y_true = test_batches.classes\n",
    "#getting the predicted labels per image \n",
    "y_prob=predictions\n",
    "from tensorflow.keras.utils import to_categorical\n",
    "y_test = to_categorical(y_true)\n",
    "\n",
    "# Creating classification report \n",
    "report = classification_report(y_true, y_pred, target_names=targetnames)\n",
    "\n",
    "print(\"\\nClassification Report:\")\n",
    "print(report)"
   ]
  },
  {
   "cell_type": "code",
   "execution_count": 47,
   "metadata": {
    "colab": {
     "base_uri": "https://localhost:8080/"
    },
    "id": "yy59Zs1jqylz",
    "outputId": "faf79303-a3a2-43b0-8db6-619b9fb43c79"
   },
   "outputs": [
    {
     "name": "stdout",
     "output_type": "stream",
     "text": [
      "Precision: 0.7473337714550198\n",
      "Recall: 0.7697456492637216\n",
      "Accuracy: 0.7697456492637216\n",
      "weighted Roc score: 0.8945036948666308\n"
     ]
    }
   ],
   "source": [
    "print(\"Precision: \"+ str(precision_score(y_true, y_pred, average='weighted')))\n",
    "print(\"Recall: \"+ str(recall_score(y_true, y_pred, average='weighted')))\n",
    "print(\"Accuracy: \" + str(accuracy_score(y_true, y_pred)))\n",
    "print(\"weighted Roc score: \" + str(roc_auc_score(y_true,y_prob,multi_class='ovr',average='weighted')))"
   ]
  },
  {
   "cell_type": "code",
   "execution_count": 48,
   "metadata": {
    "colab": {
     "base_uri": "https://localhost:8080/"
    },
    "id": "vFRWOB82sDKi",
    "outputId": "42f3f56b-7eee-4c25-d0cf-8ed1b6b16e28"
   },
   "outputs": [
    {
     "name": "stdout",
     "output_type": "stream",
     "text": [
      "Precision: 0.6033258343011523\n",
      "Recall: 0.5184466722129399\n",
      "Accuracy: 0.7697456492637216\n",
      "Macro Roc score: 0.8884507763590829\n"
     ]
    }
   ],
   "source": [
    "\n",
    "print(\"Precision: \"+ str(precision_score(y_true, y_pred, average='macro')))\n",
    "print(\"Recall: \"+ str(recall_score(y_true, y_pred, average='macro')))\n",
    "print(\"Accuracy: \" + str(accuracy_score(y_true, y_pred)))\n",
    "print(\"Macro Roc score: \" + str(roc_auc_score(y_true,y_prob,multi_class='ovr',average='macro')))"
   ]
  },
  {
   "cell_type": "code",
   "execution_count": 49,
   "metadata": {
    "colab": {
     "base_uri": "https://localhost:8080/"
    },
    "id": "nDNAPv9OsRVg",
    "outputId": "3833b19e-8610-4dd8-b16f-d510acae2b2a"
   },
   "outputs": [
    {
     "name": "stdout",
     "output_type": "stream",
     "text": [
      "Precision: 0.7697456492637216\n",
      "Recall: 0.7697456492637216\n",
      "Accuracy: 0.7697456492637216\n",
      "Micro Roc score: 0.9484504655540202\n"
     ]
    }
   ],
   "source": [
    "print(\"Precision: \"+ str(precision_score(y_true, y_pred, average='micro')))\n",
    "print(\"Recall: \"+ str(recall_score(y_true, y_pred, average='micro')))\n",
    "print(\"Accuracy: \" + str(accuracy_score(y_true, y_pred)))\n",
    "tpr={}\n",
    "fpr={}\n",
    "roc_auc={}\n",
    "fpr[\"micro\"], tpr[\"micro\"], _ = roc_curve(y_test.ravel(), y_prob.ravel())\n",
    "roc_auc[\"micro\"] = auc(fpr[\"micro\"], tpr[\"micro\"])\n",
    "print(\"Micro Roc score: \" + str(roc_auc[\"micro\"]))"
   ]
  },
  {
   "cell_type": "code",
   "execution_count": 50,
   "metadata": {
    "colab": {
     "base_uri": "https://localhost:8080/"
    },
    "id": "U03sRDM2sudx",
    "outputId": "62a4d462-d639-4c5f-c36c-1e3e457adc18"
   },
   "outputs": [
    {
     "name": "stdout",
     "output_type": "stream",
     "text": [
      "The ROC AUC score of akiec is: 0.8816326530612245\n",
      "The ROC AUC score of bcc is: 0.9140125929116755\n",
      "The ROC AUC score of bkl is: 0.8251146158078123\n",
      "The ROC AUC score of df is: 0.8523238679358\n",
      "The ROC AUC score of mel is: 0.8598612872220895\n",
      "The ROC AUC score of nv is: 0.9098098098098099\n",
      "The ROC AUC score of vasc is: 0.9764006077651699\n"
     ]
    }
   ],
   "source": [
    "fpr = {}\n",
    "tpr = {}\n",
    "roc_auc = {}\n",
    "for i in range(7):\n",
    "    r = roc_auc_score(y_test[:, i], y_prob[:, i])\n",
    "    print(\"The ROC AUC score of \"+targetnames[i]+\" is: \"+str(r))"
   ]
  },
  {
   "cell_type": "code",
   "execution_count": 51,
   "metadata": {
    "id": "A5nG-b11wkep"
   },
   "outputs": [],
   "source": [
    "# Compute ROC curve and ROC area for each class\n",
    "fpr = {}\n",
    "tpr = {}\n",
    "roc_auc = dict()\n",
    "for i in range(7):\n",
    "    fpr[i], tpr[i], _ = roc_curve(y_test[:, i], y_prob[:, i], drop_intermediate=False)\n",
    "    roc_auc[i] = auc(fpr[i], tpr[i])"
   ]
  },
  {
   "cell_type": "code",
   "execution_count": 52,
   "metadata": {
    "colab": {
     "base_uri": "https://localhost:8080/",
     "height": 295
    },
    "id": "9wz2--WDwHQ4",
    "outputId": "9d0f8832-0fa9-4f2a-a2c6-0a12ba8f2dd1"
   },
   "outputs": [
    {
     "data": {
      "image/png": "[encoded data removed]",
      "text/plain": [
       "<Figure size 432x288 with 1 Axes>"
      ]
     },
     "metadata": {
      "needs_background": "light"
     },
     "output_type": "display_data"
    }
   ],
   "source": [
    "\n",
    "plt.plot(fpr[0], tpr[0],'v-',label='akiec: ROC curve of (area = %0.2f)' % roc_auc[0])\n",
    "plt.plot(fpr[1], tpr[1],'c',label='bcc: ROC curve of (area = %0.2f)' % roc_auc[1])\n",
    "plt.plot(fpr[2], tpr[2],'b',label='bkl: ROC curve of (area = %0.2f)' % roc_auc[2])\n",
    "plt.plot(fpr[3], tpr[3],'g',label='df: ROC curve of (area = %0.2f)' % roc_auc[3])\n",
    "plt.plot(fpr[4], tpr[4],'y',label='mel: ROC curve of (area = %0.2f)' % roc_auc[4])\n",
    "plt.plot(fpr[5], tpr[5],'o-',label='nv: ROC curve of (area = %0.2f)' % roc_auc[5])\n",
    "plt.plot(fpr[6], tpr[6],'r',label='vasc: ROC curve of (area = %0.2f)' % roc_auc[6])\n",
    "\n",
    "plt.plot([0, 1], [0, 1], 'k--')\n",
    "plt.xlim([-0.1, 1.1])\n",
    "plt.ylim([-0.1, 1.1])\n",
    "plt.xlabel('False Positive Rate')\n",
    "plt.ylabel('True Positive Rate')\n",
    "plt.title('Receiver operating characteristic of %s'%targetnames[i])\n",
    "plt.legend(loc=\"lower right\")\n",
    "plt.show()"
   ]
  },
  {
   "cell_type": "code",
   "execution_count": null,
   "metadata": {
    "id": "FDTMtBeTdBfU"
   },
   "outputs": [],
   "source": []
  }
 ],
 "metadata": {
  "accelerator": "GPU",
  "colab": {
   "collapsed_sections": [],
   "machine_shape": "hm",
   "name": "Vgg16+SA.ipynb",
   "provenance": [],
   "toc_visible": true
  },
  "kernelspec": {
   "display_name": "Python 3 (ipykernel)",
   "language": "python",
   "name": "python3"
  },
  "language_info": {
   "codemirror_mode": {
    "name": "ipython",
    "version": 3
   },
   "file_extension": ".py",
   "mimetype": "text/x-python",
   "name": "python",
   "nbconvert_exporter": "python",
   "pygments_lexer": "ipython3",
   "version": "3.8.5"
  }
 },
 "nbformat": 4,
 "nbformat_minor": 1
}
