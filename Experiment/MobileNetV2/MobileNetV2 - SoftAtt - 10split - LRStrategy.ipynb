{
 "cells": [
  {
   "cell_type": "markdown",
   "id": "6157792c",
   "metadata": {},
   "source": [
    "# Setup"
   ]
  },
  {
   "cell_type": "code",
   "execution_count": 2,
   "id": "825d07e0",
   "metadata": {},
   "outputs": [],
   "source": [
    "import pandas as pd\n",
    "import numpy as np\n",
    "import os\n",
    "import tensorflow as tf\n",
    "import datetime\n",
    "import cv2\n",
    "from keras import backend as K\n",
    "from keras.layers import Layer,InputSpec\n",
    "from keras import layers\n",
    "import keras.layers as kl\n",
    "from glob import glob\n",
    "from sklearn.metrics import roc_curve, auc\n",
    "from keras.preprocessing import image\n",
    "from tensorflow.keras.models import Sequential\n",
    "from sklearn.metrics import roc_auc_score\n",
    "from sklearn import preprocessing\n",
    "from tensorflow.keras import callbacks \n",
    "from tensorflow.keras.callbacks import ModelCheckpoint, EarlyStopping, ReduceLROnPlateau\n",
    "from  matplotlib import pyplot as plt\n",
    "from tensorflow.keras import Model\n",
    "from tensorflow.keras.layers import concatenate, Dense, Conv2D, MaxPooling2D, Flatten, Input, Activation, add, AveragePooling2D, BatchNormalization, Dropout\n",
    "%matplotlib inline\n",
    "import shutil\n",
    "from sklearn.metrics import  precision_score, recall_score, accuracy_score,classification_report ,confusion_matrix\n",
    "from tensorflow.python.platform import build_info as tf_build_info\n",
    "from tensorflow.keras.preprocessing.image import ImageDataGenerator\n",
    "from sklearn.model_selection import train_test_split\n",
    "\n",
    "from PIL import ImageFile\n",
    "ImageFile.LOAD_TRUNCATED_IMAGES = True"
   ]
  },
  {
   "cell_type": "code",
   "execution_count": 3,
   "id": "0213bc9c",
   "metadata": {},
   "outputs": [
    {
     "data": {
      "text/plain": [
       "[PhysicalDevice(name='/physical_device:GPU:0', device_type='GPU')]"
      ]
     },
     "execution_count": 3,
     "metadata": {},
     "output_type": "execute_result"
    }
   ],
   "source": [
    "tf.config.list_physical_devices('GPU')"
   ]
  },
  {
   "cell_type": "markdown",
   "id": "1eab577f",
   "metadata": {},
   "source": [
    "# Data Preparation"
   ]
  },
  {
   "cell_type": "code",
   "execution_count": 4,
   "id": "b2ef3059",
   "metadata": {},
   "outputs": [],
   "source": [
    "# Environment variable\n",
    "main_dir = 'D:/Data/HAM100000 - Harvard Dataset'\n",
    "main_img_dir = main_dir + '/img_data'\n",
    "preprocessed_data_dir = main_dir + '/preprocessed_data'\n",
    "train_dir = preprocessed_data_dir + '/train'\n",
    "test_dir = preprocessed_data_dir + '/val'\n",
    "train_label = preprocessed_data_dir + '/train_label.csv'\n",
    "val_label = preprocessed_data_dir + '/val_label.csv'\n",
    "\n",
    "model_path = 'mobilenetv2SoftAtt_10split_LRStr.hdf5'"
   ]
  },
  {
   "cell_type": "code",
   "execution_count": 5,
   "id": "fbaea60c",
   "metadata": {},
   "outputs": [],
   "source": [
    "target_size = (224, 224)\n",
    "def Get_data(df_path, img_path, _target_size):\n",
    "    img_list = []\n",
    "    labels = []\n",
    "    ages = []\n",
    "    sex_list = []\n",
    "    localizations = []\n",
    "    \n",
    "    df = pd.read_csv(df_path)\n",
    "    for index, row in df.iterrows():\n",
    "        img_list.append(cv2.imread(img_path + '/' + row['image_id'] + '.jpg'))\n",
    "        labels.append(row['dx'])\n",
    "        ages.append(float(row['age']))\n",
    "        sex_list.append(row['sex'])\n",
    "        localizations.append(row['localization'])\n",
    "    for x in range(len(img_list)):\n",
    "        img_list[x] = tf.keras.preprocessing.image.smart_resize(img_list[x], _target_size)\n",
    "        img_list[x] = tf.keras.applications.mobilenet_v2.preprocess_input(img_list[x])\n",
    "    le = preprocessing.LabelEncoder()\n",
    "    le.fit(labels)\n",
    "    labels = le.transform(labels)\n",
    "    labels = tf.keras.utils.to_categorical(labels)\n",
    "    return (img_list, ages, sex_list, localizations), labels"
   ]
  },
  {
   "cell_type": "code",
   "execution_count": 6,
   "id": "02cc5ad7",
   "metadata": {},
   "outputs": [
    {
     "data": {
      "text/html": [
       "<div>\n",
       "<style scoped>\n",
       "    .dataframe tbody tr th:only-of-type {\n",
       "        vertical-align: middle;\n",
       "    }\n",
       "\n",
       "    .dataframe tbody tr th {\n",
       "        vertical-align: top;\n",
       "    }\n",
       "\n",
       "    .dataframe thead th {\n",
       "        text-align: right;\n",
       "    }\n",
       "</style>\n",
       "<table border=\"1\" class=\"dataframe\">\n",
       "  <thead>\n",
       "    <tr style=\"text-align: right;\">\n",
       "      <th></th>\n",
       "      <th>Unnamed: 0</th>\n",
       "      <th>image_id</th>\n",
       "      <th>dx</th>\n",
       "      <th>age</th>\n",
       "      <th>sex</th>\n",
       "      <th>localization</th>\n",
       "    </tr>\n",
       "  </thead>\n",
       "  <tbody>\n",
       "    <tr>\n",
       "      <th>0</th>\n",
       "      <td>0</td>\n",
       "      <td>ISIC_0027419</td>\n",
       "      <td>bkl</td>\n",
       "      <td>80.0</td>\n",
       "      <td>male</td>\n",
       "      <td>scalp</td>\n",
       "    </tr>\n",
       "    <tr>\n",
       "      <th>1</th>\n",
       "      <td>1</td>\n",
       "      <td>ISIC_0025030</td>\n",
       "      <td>bkl</td>\n",
       "      <td>80.0</td>\n",
       "      <td>male</td>\n",
       "      <td>scalp</td>\n",
       "    </tr>\n",
       "    <tr>\n",
       "      <th>2</th>\n",
       "      <td>2</td>\n",
       "      <td>ISIC_0026769</td>\n",
       "      <td>bkl</td>\n",
       "      <td>80.0</td>\n",
       "      <td>male</td>\n",
       "      <td>scalp</td>\n",
       "    </tr>\n",
       "    <tr>\n",
       "      <th>3</th>\n",
       "      <td>3</td>\n",
       "      <td>ISIC_0025661</td>\n",
       "      <td>bkl</td>\n",
       "      <td>80.0</td>\n",
       "      <td>male</td>\n",
       "      <td>scalp</td>\n",
       "    </tr>\n",
       "    <tr>\n",
       "      <th>4</th>\n",
       "      <td>4</td>\n",
       "      <td>ISIC_0031633</td>\n",
       "      <td>bkl</td>\n",
       "      <td>75.0</td>\n",
       "      <td>male</td>\n",
       "      <td>ear</td>\n",
       "    </tr>\n",
       "  </tbody>\n",
       "</table>\n",
       "</div>"
      ],
      "text/plain": [
       "   Unnamed: 0      image_id   dx   age   sex localization\n",
       "0           0  ISIC_0027419  bkl  80.0  male        scalp\n",
       "1           1  ISIC_0025030  bkl  80.0  male        scalp\n",
       "2           2  ISIC_0026769  bkl  80.0  male        scalp\n",
       "3           3  ISIC_0025661  bkl  80.0  male        scalp\n",
       "4           4  ISIC_0031633  bkl  75.0  male          ear"
      ]
     },
     "execution_count": 6,
     "metadata": {},
     "output_type": "execute_result"
    }
   ],
   "source": [
    "train_df = pd.read_csv(train_label)\n",
    "train_df.head()"
   ]
  },
  {
   "cell_type": "code",
   "execution_count": 7,
   "id": "7c0476fa",
   "metadata": {},
   "outputs": [
    {
     "data": {
      "text/html": [
       "<div>\n",
       "<style scoped>\n",
       "    .dataframe tbody tr th:only-of-type {\n",
       "        vertical-align: middle;\n",
       "    }\n",
       "\n",
       "    .dataframe tbody tr th {\n",
       "        vertical-align: top;\n",
       "    }\n",
       "\n",
       "    .dataframe thead th {\n",
       "        text-align: right;\n",
       "    }\n",
       "</style>\n",
       "<table border=\"1\" class=\"dataframe\">\n",
       "  <thead>\n",
       "    <tr style=\"text-align: right;\">\n",
       "      <th></th>\n",
       "      <th>Unnamed: 0</th>\n",
       "      <th>image_id</th>\n",
       "      <th>dx</th>\n",
       "      <th>age</th>\n",
       "      <th>sex</th>\n",
       "      <th>localization</th>\n",
       "    </tr>\n",
       "  </thead>\n",
       "  <tbody>\n",
       "    <tr>\n",
       "      <th>0</th>\n",
       "      <td>2973</td>\n",
       "      <td>ISIC_0031531</td>\n",
       "      <td>bcc</td>\n",
       "      <td>70.0</td>\n",
       "      <td>male</td>\n",
       "      <td>back</td>\n",
       "    </tr>\n",
       "    <tr>\n",
       "      <th>1</th>\n",
       "      <td>483</td>\n",
       "      <td>ISIC_0026526</td>\n",
       "      <td>bkl</td>\n",
       "      <td>60.0</td>\n",
       "      <td>male</td>\n",
       "      <td>face</td>\n",
       "    </tr>\n",
       "    <tr>\n",
       "      <th>2</th>\n",
       "      <td>8870</td>\n",
       "      <td>ISIC_0026805</td>\n",
       "      <td>nv</td>\n",
       "      <td>75.0</td>\n",
       "      <td>female</td>\n",
       "      <td>lower extremity</td>\n",
       "    </tr>\n",
       "    <tr>\n",
       "      <th>3</th>\n",
       "      <td>1991</td>\n",
       "      <td>ISIC_0030756</td>\n",
       "      <td>mel</td>\n",
       "      <td>85.0</td>\n",
       "      <td>male</td>\n",
       "      <td>chest</td>\n",
       "    </tr>\n",
       "    <tr>\n",
       "      <th>4</th>\n",
       "      <td>8324</td>\n",
       "      <td>ISIC_0024834</td>\n",
       "      <td>nv</td>\n",
       "      <td>70.0</td>\n",
       "      <td>male</td>\n",
       "      <td>chest</td>\n",
       "    </tr>\n",
       "  </tbody>\n",
       "</table>\n",
       "</div>"
      ],
      "text/plain": [
       "   Unnamed: 0      image_id   dx   age     sex     localization\n",
       "0        2973  ISIC_0031531  bcc  70.0    male             back\n",
       "1         483  ISIC_0026526  bkl  60.0    male             face\n",
       "2        8870  ISIC_0026805   nv  75.0  female  lower extremity\n",
       "3        1991  ISIC_0030756  mel  85.0    male            chest\n",
       "4        8324  ISIC_0024834   nv  70.0    male            chest"
      ]
     },
     "execution_count": 7,
     "metadata": {},
     "output_type": "execute_result"
    }
   ],
   "source": [
    "val_df = pd.read_csv(val_label)\n",
    "val_df.head()"
   ]
  },
  {
   "cell_type": "markdown",
   "id": "4180af7b",
   "metadata": {},
   "source": [
    "## Training Data"
   ]
  },
  {
   "cell_type": "code",
   "execution_count": 8,
   "id": "827a6beb",
   "metadata": {},
   "outputs": [],
   "source": [
    "(train_img_lst, train_ages, train_sexes, train_localizations), labels = Get_data(train_label, main_img_dir, target_size)"
   ]
  },
  {
   "cell_type": "code",
   "execution_count": 9,
   "id": "5a06009b",
   "metadata": {},
   "outputs": [
    {
     "data": {
      "text/plain": [
       "False"
      ]
     },
     "execution_count": 9,
     "metadata": {},
     "output_type": "execute_result"
    }
   ],
   "source": [
    "any(elem is None for elem in train_img_lst)"
   ]
  },
  {
   "cell_type": "code",
   "execution_count": 10,
   "id": "6de92f29",
   "metadata": {},
   "outputs": [
    {
     "name": "stdout",
     "output_type": "stream",
     "text": [
      "Number of images: 8962\n",
      "Image shape: 224 224\n",
      "Example of Age: 80.0\n",
      "Example of Sex: male\n",
      "Example of Localization: scalp\n"
     ]
    }
   ],
   "source": [
    "print(\"Number of images: {}\".format(len(train_img_lst)))\n",
    "print(\"Image shape: {0} {1}\".format(train_img_lst[0].shape[0], train_img_lst[0].shape[1]))\n",
    "print(\"Example of Age: {}\".format(train_ages[0]))\n",
    "print(\"Example of Sex: {}\".format(train_sexes[0]))\n",
    "print(\"Example of Localization: {}\".format(train_localizations[0]))"
   ]
  },
  {
   "cell_type": "markdown",
   "id": "59c0313c",
   "metadata": {},
   "source": [
    "## Validation Data"
   ]
  },
  {
   "cell_type": "code",
   "execution_count": 11,
   "id": "4ea74922",
   "metadata": {},
   "outputs": [],
   "source": [
    "(val_img_lst, val_ages, val_sexes, val_localizations), val_labels = Get_data(val_label, main_img_dir, target_size)"
   ]
  },
  {
   "cell_type": "code",
   "execution_count": 12,
   "id": "75851082",
   "metadata": {},
   "outputs": [
    {
     "data": {
      "text/plain": [
       "False"
      ]
     },
     "execution_count": 12,
     "metadata": {},
     "output_type": "execute_result"
    }
   ],
   "source": [
    "any(elem is None for elem in val_img_lst)"
   ]
  },
  {
   "cell_type": "code",
   "execution_count": 13,
   "id": "fc76bebd",
   "metadata": {},
   "outputs": [
    {
     "name": "stdout",
     "output_type": "stream",
     "text": [
      "Number of images: 996\n",
      "Image shape: 224 224\n",
      "Example of Age: 70.0\n",
      "Example of Sex: male\n",
      "Example of Localization: back\n"
     ]
    }
   ],
   "source": [
    "print(\"Number of images: {}\".format(len(val_img_lst)))\n",
    "print(\"Image shape: {0} {1}\".format(val_img_lst[0].shape[0], val_img_lst[0].shape[1]))\n",
    "print(\"Example of Age: {}\".format(val_ages[0]))\n",
    "print(\"Example of Sex: {}\".format(val_sexes[0]))\n",
    "print(\"Example of Localization: {}\".format(val_localizations[0]))"
   ]
  },
  {
   "cell_type": "markdown",
   "id": "a834d1c1",
   "metadata": {},
   "source": [
    "# Model"
   ]
  },
  {
   "cell_type": "markdown",
   "id": "69815849",
   "metadata": {},
   "source": [
    "## Input Block"
   ]
  },
  {
   "cell_type": "code",
   "execution_count": 14,
   "id": "307f275e",
   "metadata": {},
   "outputs": [],
   "source": [
    "age_input = tf.keras.Input(shape=(1,), name='age', dtype=tf.float32)\n",
    "sex_input = tf.keras.Input(shape=(1,), name='sex', dtype=tf.string)\n",
    "localizations_input = tf.keras.Input(shape=(1,), name='localization', dtype=tf.string)\n",
    "\n",
    "inputs = {'age' : age_input,\n",
    "         'sex' : sex_input,\n",
    "         'local' : localizations_input}"
   ]
  },
  {
   "cell_type": "code",
   "execution_count": 15,
   "id": "fbdadbf5",
   "metadata": {},
   "outputs": [
    {
     "data": {
      "text/plain": [
       "<KerasTensor: shape=(None, 1) dtype=float32 (created by layer 'normalization')>"
      ]
     },
     "execution_count": 15,
     "metadata": {},
     "output_type": "execute_result"
    }
   ],
   "source": [
    "norm = layers.Normalization()\n",
    "norm.adapt(np.array(train_df[['age']]))\n",
    "age_norm_input = norm(age_input)\n",
    "age_norm_input"
   ]
  },
  {
   "cell_type": "code",
   "execution_count": 16,
   "id": "83666cc3",
   "metadata": {},
   "outputs": [
    {
     "data": {
      "text/plain": [
       "<KerasTensor: shape=(None, 4) dtype=float32 (created by layer 'category_encoding')>"
      ]
     },
     "execution_count": 16,
     "metadata": {},
     "output_type": "execute_result"
    }
   ],
   "source": [
    "# Sex input\n",
    "sex_lookup = layers.StringLookup(vocabulary=np.unique(train_df['sex']))\n",
    "sex_one_hot = layers.CategoryEncoding(num_tokens=sex_lookup.vocabulary_size())\n",
    "\n",
    "preprocessed_sex_input = sex_lookup(sex_input)\n",
    "preprocessed_sex_input = sex_one_hot(preprocessed_sex_input)\n",
    "preprocessed_sex_input"
   ]
  },
  {
   "cell_type": "code",
   "execution_count": 17,
   "id": "6662d963",
   "metadata": {},
   "outputs": [
    {
     "data": {
      "text/plain": [
       "<KerasTensor: shape=(None, 16) dtype=float32 (created by layer 'category_encoding_1')>"
      ]
     },
     "execution_count": 17,
     "metadata": {},
     "output_type": "execute_result"
    }
   ],
   "source": [
    "# Localization input\n",
    "local_lookup = layers.StringLookup(vocabulary=np.unique(train_df['localization']))\n",
    "local_one_hot = layers.CategoryEncoding(num_tokens=local_lookup.vocabulary_size())\n",
    "\n",
    "preprocess_local_input = local_lookup(localizations_input)\n",
    "preprocess_local_input = local_one_hot(preprocess_local_input)\n",
    "preprocess_local_input"
   ]
  },
  {
   "cell_type": "code",
   "execution_count": 18,
   "id": "4b5f8998",
   "metadata": {
    "scrolled": true
   },
   "outputs": [
    {
     "data": {
      "text/plain": [
       "<KerasTensor: shape=(None, 21) dtype=float32 (created by layer 'concatenate')>"
      ]
     },
     "execution_count": 18,
     "metadata": {},
     "output_type": "execute_result"
    }
   ],
   "source": [
    "preprocessed_inputs = [age_norm_input, preprocessed_sex_input, preprocess_local_input]\n",
    "preprocessed_inputs_cat = layers.Concatenate()(preprocessed_inputs)\n",
    "\n",
    "# preprocessed_Model = tf.keras.Model(inputs, preprocessed_inputs_cat)\n",
    "# tf.keras.utils.plot_model(model = preprocessed_Model , rankdir=\"LR\", dpi=72, show_shapes=True)\n",
    "\n",
    "preprocessed_inputs_cat"
   ]
  },
  {
   "cell_type": "markdown",
   "id": "4bdc3dbd",
   "metadata": {},
   "source": [
    "## Soft Attention"
   ]
  },
  {
   "cell_type": "code",
   "execution_count": 19,
   "id": "70e746d8",
   "metadata": {},
   "outputs": [],
   "source": [
    "from keras import backend as K\n",
    "from keras.layers import Layer,InputSpec\n",
    "import keras.layers as kl\n",
    "import tensorflow as tf"
   ]
  },
  {
   "cell_type": "code",
   "execution_count": 20,
   "id": "be2100ec",
   "metadata": {},
   "outputs": [],
   "source": [
    "class SoftAttention(Layer):\n",
    "    def __init__(self,ch,m,concat_with_x=False,aggregate=False,**kwargs):\n",
    "        self.channels=int(ch)\n",
    "        self.multiheads = m\n",
    "        self.aggregate_channels = aggregate\n",
    "        self.concat_input_with_scaled = concat_with_x\n",
    "\n",
    "        \n",
    "        super(SoftAttention,self).__init__(**kwargs)\n",
    "\n",
    "    def build(self,input_shape):\n",
    "\n",
    "        self.i_shape = input_shape\n",
    "\n",
    "        kernel_shape_conv3d = (self.channels, 3, 3) + (1, self.multiheads) # DHWC\n",
    "    \n",
    "        self.out_attention_maps_shape = input_shape[0:1]+(self.multiheads,)+input_shape[1:-1]\n",
    "        \n",
    "        if self.aggregate_channels==False:\n",
    "\n",
    "            self.out_features_shape = input_shape[:-1]+(input_shape[-1]+(input_shape[-1]*self.multiheads),)\n",
    "        else:\n",
    "            if self.concat_input_with_scaled:\n",
    "                self.out_features_shape = input_shape[:-1]+(input_shape[-1]*2,)\n",
    "            else:\n",
    "                self.out_features_shape = input_shape\n",
    "        \n",
    "\n",
    "        self.kernel_conv3d = self.add_weight(shape=kernel_shape_conv3d,\n",
    "                                        initializer='he_uniform',\n",
    "                                        name='kernel_conv3d')\n",
    "        self.bias_conv3d = self.add_weight(shape=(self.multiheads,),\n",
    "                                      initializer='zeros',\n",
    "                                      name='bias_conv3d')\n",
    "\n",
    "        super(SoftAttention, self).build(input_shape)\n",
    "\n",
    "    def call(self, x):\n",
    "\n",
    "        exp_x = K.expand_dims(x,axis=-1)\n",
    "\n",
    "        c3d = K.conv3d(exp_x,\n",
    "                     kernel=self.kernel_conv3d,\n",
    "                     strides=(1,1,self.i_shape[-1]), padding='same', data_format='channels_last')\n",
    "        conv3d = K.bias_add(c3d,\n",
    "                        self.bias_conv3d)\n",
    "        conv3d = kl.Activation('relu')(conv3d)\n",
    "\n",
    "        conv3d = K.permute_dimensions(conv3d,pattern=(0,4,1,2,3))\n",
    "\n",
    "        \n",
    "        conv3d = K.squeeze(conv3d, axis=-1)\n",
    "        conv3d = K.reshape(conv3d,shape=(-1, self.multiheads ,self.i_shape[1]*self.i_shape[2]))\n",
    "\n",
    "        softmax_alpha = K.softmax(conv3d, axis=-1) \n",
    "        softmax_alpha = kl.Reshape(target_shape=(self.multiheads, self.i_shape[1],self.i_shape[2]))(softmax_alpha)\n",
    "\n",
    "        \n",
    "        if self.aggregate_channels==False:\n",
    "            exp_softmax_alpha = K.expand_dims(softmax_alpha, axis=-1)       \n",
    "            exp_softmax_alpha = K.permute_dimensions(exp_softmax_alpha,pattern=(0,2,3,1,4))\n",
    "   \n",
    "            x_exp = K.expand_dims(x,axis=-2)\n",
    "   \n",
    "            u = kl.Multiply()([exp_softmax_alpha, x_exp])   \n",
    "  \n",
    "            u = kl.Reshape(target_shape=(self.i_shape[1],self.i_shape[2],u.shape[-1]*u.shape[-2]))(u)\n",
    "\n",
    "        else:\n",
    "            exp_softmax_alpha = K.permute_dimensions(softmax_alpha,pattern=(0,2,3,1))\n",
    "\n",
    "            exp_softmax_alpha = K.sum(exp_softmax_alpha,axis=-1)\n",
    "\n",
    "            exp_softmax_alpha = K.expand_dims(exp_softmax_alpha, axis=-1)\n",
    "\n",
    "            u = kl.Multiply()([exp_softmax_alpha, x])   \n",
    "\n",
    "        if self.concat_input_with_scaled:\n",
    "            o = kl.Concatenate(axis=-1)([u,x])\n",
    "        else:\n",
    "            o = u\n",
    "        \n",
    "        return [o, softmax_alpha]\n",
    "\n",
    "    def compute_output_shape(self, input_shape): \n",
    "        return [self.out_features_shape, self.out_attention_maps_shape]\n",
    "\n",
    "    \n",
    "    def get_config(self):\n",
    "        return super(SoftAttention,self).get_config()"
   ]
  },
  {
   "cell_type": "markdown",
   "id": "8cac7e2f",
   "metadata": {},
   "source": [
    "## Base Model"
   ]
  },
  {
   "cell_type": "code",
   "execution_count": 21,
   "id": "5780bf0e",
   "metadata": {},
   "outputs": [],
   "source": [
    "MobileNetV2 = tf.keras.applications.MobileNetV2(\n",
    "    include_top=True,\n",
    "    weights=\"imagenet\",\n",
    "    input_tensor=None,\n",
    "    input_shape=None,\n",
    "    pooling=None,\n",
    "\n",
    ")\n",
    "\n",
    "inputs['image'] = MobileNetV2.input\n",
    "\n",
    "# Exclude the last 28 layers of the model.\n",
    "MobileNetV2_output = MobileNetV2.layers[-28].output"
   ]
  },
  {
   "cell_type": "markdown",
   "id": "5ef7d2d9",
   "metadata": {},
   "source": [
    "## Final Model"
   ]
  },
  {
   "cell_type": "code",
   "execution_count": 22,
   "id": "090c75dd",
   "metadata": {},
   "outputs": [],
   "source": [
    "attention_layer,map2 = SoftAttention(aggregate=True,m=16,concat_with_x=False,ch=int(MobileNetV2_output.shape[-1]),name='soft_attention')(MobileNetV2_output)\n",
    "attention_layer=(MaxPooling2D(pool_size=(2, 2),padding=\"same\")(attention_layer))\n",
    "MobileNetV2_output=(MaxPooling2D(pool_size=(2, 2),padding=\"same\")(MobileNetV2_output))\n",
    "\n",
    "MobileNetV2_output = layers.Concatenate()([MobileNetV2_output, attention_layer])\n",
    "MobileNetV2_output = Activation('relu')(MobileNetV2_output)\n",
    "MobileNetV2_output = Dropout(0.5)(MobileNetV2_output)"
   ]
  },
  {
   "cell_type": "code",
   "execution_count": 23,
   "id": "a22836b0",
   "metadata": {},
   "outputs": [],
   "source": [
    "output = Flatten()(MobileNetV2_output)\n",
    "preprocessed_inputs_cat = (layers.Dense(4096, activation = 'relu')(preprocessed_inputs_cat))\n",
    "output = layers.Concatenate()([output, preprocessed_inputs_cat])\n",
    "output = Dense(7, activation='softmax')(output)\n",
    "model = Model(inputs=inputs, outputs=output)"
   ]
  },
  {
   "cell_type": "code",
   "execution_count": 24,
   "id": "ffd90327",
   "metadata": {},
   "outputs": [
    {
     "name": "stdout",
     "output_type": "stream",
     "text": [
      "Model: \"model\"\n",
      "__________________________________________________________________________________________________\n",
      " Layer (type)                   Output Shape         Param #     Connected to                     \n",
      "==================================================================================================\n",
      " input_1 (InputLayer)           [(None, 224, 224, 3  0           []                               \n",
      "                                )]                                                                \n",
      "                                                                                                  \n",
      " Conv1 (Conv2D)                 (None, 112, 112, 32  864         ['input_1[0][0]']                \n",
      "                                )                                                                 \n",
      "                                                                                                  \n",
      " bn_Conv1 (BatchNormalization)  (None, 112, 112, 32  128         ['Conv1[0][0]']                  \n",
      "                                )                                                                 \n",
      "                                                                                                  \n",
      " Conv1_relu (ReLU)              (None, 112, 112, 32  0           ['bn_Conv1[0][0]']               \n",
      "                                )                                                                 \n",
      "                                                                                                  \n",
      " expanded_conv_depthwise (Depth  (None, 112, 112, 32  288        ['Conv1_relu[0][0]']             \n",
      " wiseConv2D)                    )                                                                 \n",
      "                                                                                                  \n",
      " expanded_conv_depthwise_BN (Ba  (None, 112, 112, 32  128        ['expanded_conv_depthwise[0][0]']\n",
      " tchNormalization)              )                                                                 \n",
      "                                                                                                  \n",
      " expanded_conv_depthwise_relu (  (None, 112, 112, 32  0          ['expanded_conv_depthwise_BN[0][0\n",
      " ReLU)                          )                                ]']                              \n",
      "                                                                                                  \n",
      " expanded_conv_project (Conv2D)  (None, 112, 112, 16  512        ['expanded_conv_depthwise_relu[0]\n",
      "                                )                                [0]']                            \n",
      "                                                                                                  \n",
      " expanded_conv_project_BN (Batc  (None, 112, 112, 16  64         ['expanded_conv_project[0][0]']  \n",
      " hNormalization)                )                                                                 \n",
      "                                                                                                  \n",
      " block_1_expand (Conv2D)        (None, 112, 112, 96  1536        ['expanded_conv_project_BN[0][0]'\n",
      "                                )                                ]                                \n",
      "                                                                                                  \n",
      " block_1_expand_BN (BatchNormal  (None, 112, 112, 96  384        ['block_1_expand[0][0]']         \n",
      " ization)                       )                                                                 \n",
      "                                                                                                  \n",
      " block_1_expand_relu (ReLU)     (None, 112, 112, 96  0           ['block_1_expand_BN[0][0]']      \n",
      "                                )                                                                 \n",
      "                                                                                                  \n",
      " block_1_pad (ZeroPadding2D)    (None, 113, 113, 96  0           ['block_1_expand_relu[0][0]']    \n",
      "                                )                                                                 \n",
      "                                                                                                  \n",
      " block_1_depthwise (DepthwiseCo  (None, 56, 56, 96)  864         ['block_1_pad[0][0]']            \n",
      " nv2D)                                                                                            \n",
      "                                                                                                  \n",
      " block_1_depthwise_BN (BatchNor  (None, 56, 56, 96)  384         ['block_1_depthwise[0][0]']      \n",
      " malization)                                                                                      \n",
      "                                                                                                  \n",
      " block_1_depthwise_relu (ReLU)  (None, 56, 56, 96)   0           ['block_1_depthwise_BN[0][0]']   \n",
      "                                                                                                  \n",
      " block_1_project (Conv2D)       (None, 56, 56, 24)   2304        ['block_1_depthwise_relu[0][0]'] \n",
      "                                                                                                  \n",
      " block_1_project_BN (BatchNorma  (None, 56, 56, 24)  96          ['block_1_project[0][0]']        \n",
      " lization)                                                                                        \n",
      "                                                                                                  \n",
      " block_2_expand (Conv2D)        (None, 56, 56, 144)  3456        ['block_1_project_BN[0][0]']     \n",
      "                                                                                                  \n",
      " block_2_expand_BN (BatchNormal  (None, 56, 56, 144)  576        ['block_2_expand[0][0]']         \n",
      " ization)                                                                                         \n",
      "                                                                                                  \n",
      " block_2_expand_relu (ReLU)     (None, 56, 56, 144)  0           ['block_2_expand_BN[0][0]']      \n",
      "                                                                                                  \n",
      " block_2_depthwise (DepthwiseCo  (None, 56, 56, 144)  1296       ['block_2_expand_relu[0][0]']    \n",
      " nv2D)                                                                                            \n",
      "                                                                                                  \n",
      " block_2_depthwise_BN (BatchNor  (None, 56, 56, 144)  576        ['block_2_depthwise[0][0]']      \n",
      " malization)                                                                                      \n",
      "                                                                                                  \n",
      " block_2_depthwise_relu (ReLU)  (None, 56, 56, 144)  0           ['block_2_depthwise_BN[0][0]']   \n",
      "                                                                                                  \n",
      " block_2_project (Conv2D)       (None, 56, 56, 24)   3456        ['block_2_depthwise_relu[0][0]'] \n",
      "                                                                                                  \n",
      " block_2_project_BN (BatchNorma  (None, 56, 56, 24)  96          ['block_2_project[0][0]']        \n",
      " lization)                                                                                        \n",
      "                                                                                                  \n",
      " block_2_add (Add)              (None, 56, 56, 24)   0           ['block_1_project_BN[0][0]',     \n",
      "                                                                  'block_2_project_BN[0][0]']     \n",
      "                                                                                                  \n",
      " block_3_expand (Conv2D)        (None, 56, 56, 144)  3456        ['block_2_add[0][0]']            \n",
      "                                                                                                  \n",
      " block_3_expand_BN (BatchNormal  (None, 56, 56, 144)  576        ['block_3_expand[0][0]']         \n",
      " ization)                                                                                         \n",
      "                                                                                                  \n"
     ]
    },
    {
     "name": "stdout",
     "output_type": "stream",
     "text": [
      " block_3_expand_relu (ReLU)     (None, 56, 56, 144)  0           ['block_3_expand_BN[0][0]']      \n",
      "                                                                                                  \n",
      " block_3_pad (ZeroPadding2D)    (None, 57, 57, 144)  0           ['block_3_expand_relu[0][0]']    \n",
      "                                                                                                  \n",
      " block_3_depthwise (DepthwiseCo  (None, 28, 28, 144)  1296       ['block_3_pad[0][0]']            \n",
      " nv2D)                                                                                            \n",
      "                                                                                                  \n",
      " block_3_depthwise_BN (BatchNor  (None, 28, 28, 144)  576        ['block_3_depthwise[0][0]']      \n",
      " malization)                                                                                      \n",
      "                                                                                                  \n",
      " block_3_depthwise_relu (ReLU)  (None, 28, 28, 144)  0           ['block_3_depthwise_BN[0][0]']   \n",
      "                                                                                                  \n",
      " block_3_project (Conv2D)       (None, 28, 28, 32)   4608        ['block_3_depthwise_relu[0][0]'] \n",
      "                                                                                                  \n",
      " block_3_project_BN (BatchNorma  (None, 28, 28, 32)  128         ['block_3_project[0][0]']        \n",
      " lization)                                                                                        \n",
      "                                                                                                  \n",
      " block_4_expand (Conv2D)        (None, 28, 28, 192)  6144        ['block_3_project_BN[0][0]']     \n",
      "                                                                                                  \n",
      " block_4_expand_BN (BatchNormal  (None, 28, 28, 192)  768        ['block_4_expand[0][0]']         \n",
      " ization)                                                                                         \n",
      "                                                                                                  \n",
      " block_4_expand_relu (ReLU)     (None, 28, 28, 192)  0           ['block_4_expand_BN[0][0]']      \n",
      "                                                                                                  \n",
      " block_4_depthwise (DepthwiseCo  (None, 28, 28, 192)  1728       ['block_4_expand_relu[0][0]']    \n",
      " nv2D)                                                                                            \n",
      "                                                                                                  \n",
      " block_4_depthwise_BN (BatchNor  (None, 28, 28, 192)  768        ['block_4_depthwise[0][0]']      \n",
      " malization)                                                                                      \n",
      "                                                                                                  \n",
      " block_4_depthwise_relu (ReLU)  (None, 28, 28, 192)  0           ['block_4_depthwise_BN[0][0]']   \n",
      "                                                                                                  \n",
      " block_4_project (Conv2D)       (None, 28, 28, 32)   6144        ['block_4_depthwise_relu[0][0]'] \n",
      "                                                                                                  \n",
      " block_4_project_BN (BatchNorma  (None, 28, 28, 32)  128         ['block_4_project[0][0]']        \n",
      " lization)                                                                                        \n",
      "                                                                                                  \n",
      " block_4_add (Add)              (None, 28, 28, 32)   0           ['block_3_project_BN[0][0]',     \n",
      "                                                                  'block_4_project_BN[0][0]']     \n",
      "                                                                                                  \n",
      " block_5_expand (Conv2D)        (None, 28, 28, 192)  6144        ['block_4_add[0][0]']            \n",
      "                                                                                                  \n",
      " block_5_expand_BN (BatchNormal  (None, 28, 28, 192)  768        ['block_5_expand[0][0]']         \n",
      " ization)                                                                                         \n",
      "                                                                                                  \n",
      " block_5_expand_relu (ReLU)     (None, 28, 28, 192)  0           ['block_5_expand_BN[0][0]']      \n",
      "                                                                                                  \n",
      " block_5_depthwise (DepthwiseCo  (None, 28, 28, 192)  1728       ['block_5_expand_relu[0][0]']    \n",
      " nv2D)                                                                                            \n",
      "                                                                                                  \n",
      " block_5_depthwise_BN (BatchNor  (None, 28, 28, 192)  768        ['block_5_depthwise[0][0]']      \n",
      " malization)                                                                                      \n",
      "                                                                                                  \n",
      " block_5_depthwise_relu (ReLU)  (None, 28, 28, 192)  0           ['block_5_depthwise_BN[0][0]']   \n",
      "                                                                                                  \n",
      " block_5_project (Conv2D)       (None, 28, 28, 32)   6144        ['block_5_depthwise_relu[0][0]'] \n",
      "                                                                                                  \n",
      " block_5_project_BN (BatchNorma  (None, 28, 28, 32)  128         ['block_5_project[0][0]']        \n",
      " lization)                                                                                        \n",
      "                                                                                                  \n",
      " block_5_add (Add)              (None, 28, 28, 32)   0           ['block_4_add[0][0]',            \n",
      "                                                                  'block_5_project_BN[0][0]']     \n",
      "                                                                                                  \n",
      " block_6_expand (Conv2D)        (None, 28, 28, 192)  6144        ['block_5_add[0][0]']            \n",
      "                                                                                                  \n",
      " block_6_expand_BN (BatchNormal  (None, 28, 28, 192)  768        ['block_6_expand[0][0]']         \n",
      " ization)                                                                                         \n",
      "                                                                                                  \n",
      " block_6_expand_relu (ReLU)     (None, 28, 28, 192)  0           ['block_6_expand_BN[0][0]']      \n",
      "                                                                                                  \n",
      " block_6_pad (ZeroPadding2D)    (None, 29, 29, 192)  0           ['block_6_expand_relu[0][0]']    \n",
      "                                                                                                  \n",
      " block_6_depthwise (DepthwiseCo  (None, 14, 14, 192)  1728       ['block_6_pad[0][0]']            \n",
      " nv2D)                                                                                            \n",
      "                                                                                                  \n",
      " block_6_depthwise_BN (BatchNor  (None, 14, 14, 192)  768        ['block_6_depthwise[0][0]']      \n",
      " malization)                                                                                      \n",
      "                                                                                                  \n",
      " block_6_depthwise_relu (ReLU)  (None, 14, 14, 192)  0           ['block_6_depthwise_BN[0][0]']   \n",
      "                                                                                                  \n",
      " block_6_project (Conv2D)       (None, 14, 14, 64)   12288       ['block_6_depthwise_relu[0][0]'] \n",
      "                                                                                                  \n",
      " block_6_project_BN (BatchNorma  (None, 14, 14, 64)  256         ['block_6_project[0][0]']        \n"
     ]
    },
    {
     "name": "stdout",
     "output_type": "stream",
     "text": [
      " lization)                                                                                        \n",
      "                                                                                                  \n",
      " block_7_expand (Conv2D)        (None, 14, 14, 384)  24576       ['block_6_project_BN[0][0]']     \n",
      "                                                                                                  \n",
      " block_7_expand_BN (BatchNormal  (None, 14, 14, 384)  1536       ['block_7_expand[0][0]']         \n",
      " ization)                                                                                         \n",
      "                                                                                                  \n",
      " block_7_expand_relu (ReLU)     (None, 14, 14, 384)  0           ['block_7_expand_BN[0][0]']      \n",
      "                                                                                                  \n",
      " block_7_depthwise (DepthwiseCo  (None, 14, 14, 384)  3456       ['block_7_expand_relu[0][0]']    \n",
      " nv2D)                                                                                            \n",
      "                                                                                                  \n",
      " block_7_depthwise_BN (BatchNor  (None, 14, 14, 384)  1536       ['block_7_depthwise[0][0]']      \n",
      " malization)                                                                                      \n",
      "                                                                                                  \n",
      " block_7_depthwise_relu (ReLU)  (None, 14, 14, 384)  0           ['block_7_depthwise_BN[0][0]']   \n",
      "                                                                                                  \n",
      " block_7_project (Conv2D)       (None, 14, 14, 64)   24576       ['block_7_depthwise_relu[0][0]'] \n",
      "                                                                                                  \n",
      " block_7_project_BN (BatchNorma  (None, 14, 14, 64)  256         ['block_7_project[0][0]']        \n",
      " lization)                                                                                        \n",
      "                                                                                                  \n",
      " block_7_add (Add)              (None, 14, 14, 64)   0           ['block_6_project_BN[0][0]',     \n",
      "                                                                  'block_7_project_BN[0][0]']     \n",
      "                                                                                                  \n",
      " block_8_expand (Conv2D)        (None, 14, 14, 384)  24576       ['block_7_add[0][0]']            \n",
      "                                                                                                  \n",
      " block_8_expand_BN (BatchNormal  (None, 14, 14, 384)  1536       ['block_8_expand[0][0]']         \n",
      " ization)                                                                                         \n",
      "                                                                                                  \n",
      " block_8_expand_relu (ReLU)     (None, 14, 14, 384)  0           ['block_8_expand_BN[0][0]']      \n",
      "                                                                                                  \n",
      " block_8_depthwise (DepthwiseCo  (None, 14, 14, 384)  3456       ['block_8_expand_relu[0][0]']    \n",
      " nv2D)                                                                                            \n",
      "                                                                                                  \n",
      " block_8_depthwise_BN (BatchNor  (None, 14, 14, 384)  1536       ['block_8_depthwise[0][0]']      \n",
      " malization)                                                                                      \n",
      "                                                                                                  \n",
      " block_8_depthwise_relu (ReLU)  (None, 14, 14, 384)  0           ['block_8_depthwise_BN[0][0]']   \n",
      "                                                                                                  \n",
      " block_8_project (Conv2D)       (None, 14, 14, 64)   24576       ['block_8_depthwise_relu[0][0]'] \n",
      "                                                                                                  \n",
      " block_8_project_BN (BatchNorma  (None, 14, 14, 64)  256         ['block_8_project[0][0]']        \n",
      " lization)                                                                                        \n",
      "                                                                                                  \n",
      " block_8_add (Add)              (None, 14, 14, 64)   0           ['block_7_add[0][0]',            \n",
      "                                                                  'block_8_project_BN[0][0]']     \n",
      "                                                                                                  \n",
      " block_9_expand (Conv2D)        (None, 14, 14, 384)  24576       ['block_8_add[0][0]']            \n",
      "                                                                                                  \n",
      " block_9_expand_BN (BatchNormal  (None, 14, 14, 384)  1536       ['block_9_expand[0][0]']         \n",
      " ization)                                                                                         \n",
      "                                                                                                  \n",
      " block_9_expand_relu (ReLU)     (None, 14, 14, 384)  0           ['block_9_expand_BN[0][0]']      \n",
      "                                                                                                  \n",
      " block_9_depthwise (DepthwiseCo  (None, 14, 14, 384)  3456       ['block_9_expand_relu[0][0]']    \n",
      " nv2D)                                                                                            \n",
      "                                                                                                  \n",
      " block_9_depthwise_BN (BatchNor  (None, 14, 14, 384)  1536       ['block_9_depthwise[0][0]']      \n",
      " malization)                                                                                      \n",
      "                                                                                                  \n",
      " block_9_depthwise_relu (ReLU)  (None, 14, 14, 384)  0           ['block_9_depthwise_BN[0][0]']   \n",
      "                                                                                                  \n",
      " block_9_project (Conv2D)       (None, 14, 14, 64)   24576       ['block_9_depthwise_relu[0][0]'] \n",
      "                                                                                                  \n",
      " block_9_project_BN (BatchNorma  (None, 14, 14, 64)  256         ['block_9_project[0][0]']        \n",
      " lization)                                                                                        \n",
      "                                                                                                  \n",
      " block_9_add (Add)              (None, 14, 14, 64)   0           ['block_8_add[0][0]',            \n",
      "                                                                  'block_9_project_BN[0][0]']     \n",
      "                                                                                                  \n",
      " block_10_expand (Conv2D)       (None, 14, 14, 384)  24576       ['block_9_add[0][0]']            \n",
      "                                                                                                  \n",
      " block_10_expand_BN (BatchNorma  (None, 14, 14, 384)  1536       ['block_10_expand[0][0]']        \n",
      " lization)                                                                                        \n",
      "                                                                                                  \n",
      " block_10_expand_relu (ReLU)    (None, 14, 14, 384)  0           ['block_10_expand_BN[0][0]']     \n",
      "                                                                                                  \n",
      " block_10_depthwise (DepthwiseC  (None, 14, 14, 384)  3456       ['block_10_expand_relu[0][0]']   \n",
      " onv2D)                                                                                           \n",
      "                                                                                                  \n",
      " block_10_depthwise_BN (BatchNo  (None, 14, 14, 384)  1536       ['block_10_depthwise[0][0]']     \n",
      " rmalization)                                                                                     \n"
     ]
    },
    {
     "name": "stdout",
     "output_type": "stream",
     "text": [
      "                                                                                                  \n",
      " block_10_depthwise_relu (ReLU)  (None, 14, 14, 384)  0          ['block_10_depthwise_BN[0][0]']  \n",
      "                                                                                                  \n",
      " block_10_project (Conv2D)      (None, 14, 14, 96)   36864       ['block_10_depthwise_relu[0][0]']\n",
      "                                                                                                  \n",
      " block_10_project_BN (BatchNorm  (None, 14, 14, 96)  384         ['block_10_project[0][0]']       \n",
      " alization)                                                                                       \n",
      "                                                                                                  \n",
      " block_11_expand (Conv2D)       (None, 14, 14, 576)  55296       ['block_10_project_BN[0][0]']    \n",
      "                                                                                                  \n",
      " block_11_expand_BN (BatchNorma  (None, 14, 14, 576)  2304       ['block_11_expand[0][0]']        \n",
      " lization)                                                                                        \n",
      "                                                                                                  \n",
      " block_11_expand_relu (ReLU)    (None, 14, 14, 576)  0           ['block_11_expand_BN[0][0]']     \n",
      "                                                                                                  \n",
      " block_11_depthwise (DepthwiseC  (None, 14, 14, 576)  5184       ['block_11_expand_relu[0][0]']   \n",
      " onv2D)                                                                                           \n",
      "                                                                                                  \n",
      " block_11_depthwise_BN (BatchNo  (None, 14, 14, 576)  2304       ['block_11_depthwise[0][0]']     \n",
      " rmalization)                                                                                     \n",
      "                                                                                                  \n",
      " block_11_depthwise_relu (ReLU)  (None, 14, 14, 576)  0          ['block_11_depthwise_BN[0][0]']  \n",
      "                                                                                                  \n",
      " block_11_project (Conv2D)      (None, 14, 14, 96)   55296       ['block_11_depthwise_relu[0][0]']\n",
      "                                                                                                  \n",
      " block_11_project_BN (BatchNorm  (None, 14, 14, 96)  384         ['block_11_project[0][0]']       \n",
      " alization)                                                                                       \n",
      "                                                                                                  \n",
      " block_11_add (Add)             (None, 14, 14, 96)   0           ['block_10_project_BN[0][0]',    \n",
      "                                                                  'block_11_project_BN[0][0]']    \n",
      "                                                                                                  \n",
      " block_12_expand (Conv2D)       (None, 14, 14, 576)  55296       ['block_11_add[0][0]']           \n",
      "                                                                                                  \n",
      " block_12_expand_BN (BatchNorma  (None, 14, 14, 576)  2304       ['block_12_expand[0][0]']        \n",
      " lization)                                                                                        \n",
      "                                                                                                  \n",
      " block_12_expand_relu (ReLU)    (None, 14, 14, 576)  0           ['block_12_expand_BN[0][0]']     \n",
      "                                                                                                  \n",
      " block_12_depthwise (DepthwiseC  (None, 14, 14, 576)  5184       ['block_12_expand_relu[0][0]']   \n",
      " onv2D)                                                                                           \n",
      "                                                                                                  \n",
      " block_12_depthwise_BN (BatchNo  (None, 14, 14, 576)  2304       ['block_12_depthwise[0][0]']     \n",
      " rmalization)                                                                                     \n",
      "                                                                                                  \n",
      " block_12_depthwise_relu (ReLU)  (None, 14, 14, 576)  0          ['block_12_depthwise_BN[0][0]']  \n",
      "                                                                                                  \n",
      " block_12_project (Conv2D)      (None, 14, 14, 96)   55296       ['block_12_depthwise_relu[0][0]']\n",
      "                                                                                                  \n",
      " block_12_project_BN (BatchNorm  (None, 14, 14, 96)  384         ['block_12_project[0][0]']       \n",
      " alization)                                                                                       \n",
      "                                                                                                  \n",
      " block_12_add (Add)             (None, 14, 14, 96)   0           ['block_11_add[0][0]',           \n",
      "                                                                  'block_12_project_BN[0][0]']    \n",
      "                                                                                                  \n",
      " block_13_expand (Conv2D)       (None, 14, 14, 576)  55296       ['block_12_add[0][0]']           \n",
      "                                                                                                  \n",
      " block_13_expand_BN (BatchNorma  (None, 14, 14, 576)  2304       ['block_13_expand[0][0]']        \n",
      " lization)                                                                                        \n",
      "                                                                                                  \n",
      " block_13_expand_relu (ReLU)    (None, 14, 14, 576)  0           ['block_13_expand_BN[0][0]']     \n",
      "                                                                                                  \n",
      " block_13_pad (ZeroPadding2D)   (None, 15, 15, 576)  0           ['block_13_expand_relu[0][0]']   \n",
      "                                                                                                  \n",
      " block_13_depthwise (DepthwiseC  (None, 7, 7, 576)   5184        ['block_13_pad[0][0]']           \n",
      " onv2D)                                                                                           \n",
      "                                                                                                  \n",
      " block_13_depthwise_BN (BatchNo  (None, 7, 7, 576)   2304        ['block_13_depthwise[0][0]']     \n",
      " rmalization)                                                                                     \n",
      "                                                                                                  \n",
      " block_13_depthwise_relu (ReLU)  (None, 7, 7, 576)   0           ['block_13_depthwise_BN[0][0]']  \n",
      "                                                                                                  \n",
      " block_13_project (Conv2D)      (None, 7, 7, 160)    92160       ['block_13_depthwise_relu[0][0]']\n",
      "                                                                                                  \n",
      " block_13_project_BN (BatchNorm  (None, 7, 7, 160)   640         ['block_13_project[0][0]']       \n",
      " alization)                                                                                       \n",
      "                                                                                                  \n",
      " block_14_expand (Conv2D)       (None, 7, 7, 960)    153600      ['block_13_project_BN[0][0]']    \n",
      "                                                                                                  \n",
      " block_14_expand_BN (BatchNorma  (None, 7, 7, 960)   3840        ['block_14_expand[0][0]']        \n",
      " lization)                                                                                        \n",
      "                                                                                                  \n",
      " block_14_expand_relu (ReLU)    (None, 7, 7, 960)    0           ['block_14_expand_BN[0][0]']     \n",
      "                                                                                                  \n"
     ]
    },
    {
     "name": "stdout",
     "output_type": "stream",
     "text": [
      " block_14_depthwise (DepthwiseC  (None, 7, 7, 960)   8640        ['block_14_expand_relu[0][0]']   \n",
      " onv2D)                                                                                           \n",
      "                                                                                                  \n",
      " soft_attention (SoftAttention)  [(None, 7, 7, 960),  138256     ['block_14_depthwise[0][0]']     \n",
      "                                 (None, 16, 7, 7)]                                                \n",
      "                                                                                                  \n",
      " max_pooling2d_1 (MaxPooling2D)  (None, 4, 4, 960)   0           ['block_14_depthwise[0][0]']     \n",
      "                                                                                                  \n",
      " max_pooling2d (MaxPooling2D)   (None, 4, 4, 960)    0           ['soft_attention[0][0]']         \n",
      "                                                                                                  \n",
      " sex (InputLayer)               [(None, 1)]          0           []                               \n",
      "                                                                                                  \n",
      " localization (InputLayer)      [(None, 1)]          0           []                               \n",
      "                                                                                                  \n",
      " concatenate_1 (Concatenate)    (None, 4, 4, 1920)   0           ['max_pooling2d_1[0][0]',        \n",
      "                                                                  'max_pooling2d[0][0]']          \n",
      "                                                                                                  \n",
      " age (InputLayer)               [(None, 1)]          0           []                               \n",
      "                                                                                                  \n",
      " string_lookup (StringLookup)   (None, 1)            0           ['sex[0][0]']                    \n",
      "                                                                                                  \n",
      " string_lookup_1 (StringLookup)  (None, 1)           0           ['localization[0][0]']           \n",
      "                                                                                                  \n",
      " activation (Activation)        (None, 4, 4, 1920)   0           ['concatenate_1[0][0]']          \n",
      "                                                                                                  \n",
      " normalization (Normalization)  (None, 1)            3           ['age[0][0]']                    \n",
      "                                                                                                  \n",
      " category_encoding (CategoryEnc  (None, 4)           0           ['string_lookup[0][0]']          \n",
      " oding)                                                                                           \n",
      "                                                                                                  \n",
      " category_encoding_1 (CategoryE  (None, 16)          0           ['string_lookup_1[0][0]']        \n",
      " ncoding)                                                                                         \n",
      "                                                                                                  \n",
      " dropout (Dropout)              (None, 4, 4, 1920)   0           ['activation[0][0]']             \n",
      "                                                                                                  \n",
      " concatenate (Concatenate)      (None, 21)           0           ['normalization[0][0]',          \n",
      "                                                                  'category_encoding[0][0]',      \n",
      "                                                                  'category_encoding_1[0][0]']    \n",
      "                                                                                                  \n",
      " flatten (Flatten)              (None, 30720)        0           ['dropout[0][0]']                \n",
      "                                                                                                  \n",
      " dense (Dense)                  (None, 4096)         90112       ['concatenate[0][0]']            \n",
      "                                                                                                  \n",
      " concatenate_2 (Concatenate)    (None, 34816)        0           ['flatten[0][0]',                \n",
      "                                                                  'dense[0][0]']                  \n",
      "                                                                                                  \n",
      " dense_1 (Dense)                (None, 7)            243719      ['concatenate_2[0][0]']          \n",
      "                                                                                                  \n",
      "==================================================================================================\n",
      "Total params: 1,354,714\n",
      "Trainable params: 1,334,039\n",
      "Non-trainable params: 20,675\n",
      "__________________________________________________________________________________________________\n"
     ]
    }
   ],
   "source": [
    "model.summary()"
   ]
  },
  {
   "cell_type": "markdown",
   "id": "bef8389e",
   "metadata": {},
   "source": [
    "## Training"
   ]
  },
  {
   "cell_type": "code",
   "execution_count": 25,
   "id": "a44b02e4",
   "metadata": {},
   "outputs": [],
   "source": [
    "feature_dict = {'age' : np.array(train_ages),\n",
    "                'sex' : np.array(train_sexes),\n",
    "                'local' : np.array(train_localizations),\n",
    "                'image' : np.array(train_img_lst)}"
   ]
  },
  {
   "cell_type": "code",
   "execution_count": 26,
   "id": "bb3b7f9b",
   "metadata": {},
   "outputs": [],
   "source": [
    "val_dict = {'age' : np.array(val_ages),\n",
    "                'sex' : np.array(val_sexes),\n",
    "                'local' : np.array(val_localizations),\n",
    "                'image' : np.array(val_img_lst)}"
   ]
  },
  {
   "cell_type": "code",
   "execution_count": 27,
   "id": "333d8ed4",
   "metadata": {},
   "outputs": [],
   "source": [
    "class_weights = { \n",
    "                    0: 4.37,  # akiec\n",
    "                    1: 2.78,  # bcc\n",
    "                    2: 1.3,  # bkl\n",
    "                    3: 12.44,  # df\n",
    "                    4: 1.28,  # mel\n",
    "                    5: 0.21,  # nv\n",
    "                    6: 10,  # vasc\n",
    "                }\n",
    "\n",
    "\n",
    "checkpoint=  ModelCheckpoint(filepath = model_path,monitor='val_accuracy',save_best_only=True,save_weights_only=True)"
   ]
  },
  {
   "cell_type": "code",
   "execution_count": 28,
   "id": "d8c90847",
   "metadata": {},
   "outputs": [],
   "source": [
    "opt1=tf.keras.optimizers.Adam(learning_rate=0.001,epsilon=0.1)\n",
    "model.compile(optimizer=opt1,\n",
    "             loss='categorical_crossentropy',\n",
    "             metrics=['accuracy'])"
   ]
  },
  {
   "cell_type": "code",
   "execution_count": 29,
   "id": "875463a9",
   "metadata": {},
   "outputs": [],
   "source": [
    "reduce_lr = ReduceLROnPlateau(monitor='val_loss', factor=0.2,\n",
    "                              verbose = 1, mode = 'min',\n",
    "                              patience=5, min_lr=0.0000001)"
   ]
  },
  {
   "cell_type": "code",
   "execution_count": 30,
   "id": "384e5afc",
   "metadata": {},
   "outputs": [
    {
     "name": "stdout",
     "output_type": "stream",
     "text": [
      "Epoch 1/500\n",
      "896/896 [==============================] - 563s 560ms/step - loss: 3.2910 - accuracy: 0.4182 - val_loss: 6.9372 - val_accuracy: 0.1466 - lr: 0.0010\n",
      "Epoch 2/500\n",
      "896/896 [==============================] - 482s 538ms/step - loss: 1.8578 - accuracy: 0.5173 - val_loss: 32.7195 - val_accuracy: 0.0884 - lr: 0.0010\n",
      "Epoch 3/500\n",
      "896/896 [==============================] - 484s 540ms/step - loss: 2.0712 - accuracy: 0.5314 - val_loss: 6.5779 - val_accuracy: 0.6546 - lr: 0.0010\n",
      "Epoch 4/500\n",
      "896/896 [==============================] - 488s 545ms/step - loss: 1.5660 - accuracy: 0.5790 - val_loss: 5.1794 - val_accuracy: 0.4880 - lr: 0.0010\n",
      "Epoch 5/500\n",
      "896/896 [==============================] - 493s 551ms/step - loss: 1.5064 - accuracy: 0.5996 - val_loss: 1.9450 - val_accuracy: 0.6034 - lr: 0.0010\n",
      "Epoch 6/500\n",
      "896/896 [==============================] - 493s 550ms/step - loss: 0.7457 - accuracy: 0.6790 - val_loss: 1.1118 - val_accuracy: 0.6596 - lr: 0.0010\n",
      "Epoch 7/500\n",
      "896/896 [==============================] - 497s 554ms/step - loss: 0.9591 - accuracy: 0.6688 - val_loss: 7.7242 - val_accuracy: 0.5010 - lr: 0.0010\n",
      "Epoch 8/500\n",
      "896/896 [==============================] - 530s 592ms/step - loss: 0.9966 - accuracy: 0.6625 - val_loss: 0.8592 - val_accuracy: 0.7058 - lr: 0.0010\n",
      "Epoch 9/500\n",
      "896/896 [==============================] - 521s 581ms/step - loss: 0.6683 - accuracy: 0.6991 - val_loss: 3.2374 - val_accuracy: 0.2369 - lr: 0.0010\n",
      "Epoch 10/500\n",
      "896/896 [==============================] - 564s 629ms/step - loss: 1.5794 - accuracy: 0.5827 - val_loss: 2.2021 - val_accuracy: 0.3363 - lr: 0.0010\n",
      "Epoch 11/500\n",
      "896/896 [==============================] - 497s 555ms/step - loss: 1.0572 - accuracy: 0.6434 - val_loss: 4.2935 - val_accuracy: 0.2620 - lr: 0.0010\n",
      "Epoch 12/500\n",
      "896/896 [==============================] - 500s 558ms/step - loss: 0.6681 - accuracy: 0.6926 - val_loss: 0.7674 - val_accuracy: 0.7189 - lr: 0.0010\n",
      "Epoch 13/500\n",
      "896/896 [==============================] - 488s 544ms/step - loss: 0.5925 - accuracy: 0.7305 - val_loss: 0.8648 - val_accuracy: 0.7711 - lr: 0.0010\n",
      "Epoch 14/500\n",
      "896/896 [==============================] - 498s 555ms/step - loss: 0.4780 - accuracy: 0.7522 - val_loss: 0.7519 - val_accuracy: 0.7490 - lr: 0.0010\n",
      "Epoch 15/500\n",
      "896/896 [==============================] - 490s 546ms/step - loss: 0.6057 - accuracy: 0.7293 - val_loss: 2.1031 - val_accuracy: 0.3996 - lr: 0.0010\n",
      "Epoch 16/500\n",
      "896/896 [==============================] - 497s 555ms/step - loss: 0.7547 - accuracy: 0.7094 - val_loss: 2.1572 - val_accuracy: 0.5763 - lr: 0.0010\n",
      "Epoch 17/500\n",
      "896/896 [==============================] - 484s 540ms/step - loss: 0.5985 - accuracy: 0.7359 - val_loss: 1.1270 - val_accuracy: 0.6627 - lr: 0.0010\n",
      "Epoch 18/500\n",
      "896/896 [==============================] - 487s 543ms/step - loss: 0.9791 - accuracy: 0.6674 - val_loss: 4.1495 - val_accuracy: 0.3705 - lr: 0.0010\n",
      "Epoch 19/500\n",
      "897/896 [==============================] - ETA: 0s - loss: 0.5419 - accuracy: 0.7338\n",
      "Epoch 19: ReduceLROnPlateau reducing learning rate to 0.00020000000949949026.\n",
      "896/896 [==============================] - 484s 540ms/step - loss: 0.5419 - accuracy: 0.7338 - val_loss: 0.8022 - val_accuracy: 0.7309 - lr: 0.0010\n",
      "Epoch 20/500\n",
      "896/896 [==============================] - 491s 548ms/step - loss: 0.4255 - accuracy: 0.7784 - val_loss: 0.6453 - val_accuracy: 0.7600 - lr: 2.0000e-04\n",
      "Epoch 21/500\n",
      "896/896 [==============================] - 514s 574ms/step - loss: 0.3510 - accuracy: 0.7917 - val_loss: 0.6358 - val_accuracy: 0.7751 - lr: 2.0000e-04\n",
      "Epoch 22/500\n",
      "896/896 [==============================] - 519s 579ms/step - loss: 0.3275 - accuracy: 0.7881 - val_loss: 0.6055 - val_accuracy: 0.7831 - lr: 2.0000e-04\n",
      "Epoch 23/500\n",
      "896/896 [==============================] - 516s 576ms/step - loss: 0.2776 - accuracy: 0.8102 - val_loss: 0.5998 - val_accuracy: 0.7801 - lr: 2.0000e-04\n",
      "Epoch 24/500\n",
      "896/896 [==============================] - 521s 581ms/step - loss: 0.2381 - accuracy: 0.8225 - val_loss: 0.6159 - val_accuracy: 0.7741 - lr: 2.0000e-04\n",
      "Epoch 25/500\n",
      "896/896 [==============================] - 526s 587ms/step - loss: 0.2402 - accuracy: 0.8269 - val_loss: 0.5902 - val_accuracy: 0.7962 - lr: 2.0000e-04\n",
      "Epoch 26/500\n",
      "896/896 [==============================] - 524s 585ms/step - loss: 0.2632 - accuracy: 0.8206 - val_loss: 0.6431 - val_accuracy: 0.7821 - lr: 2.0000e-04\n",
      "Epoch 27/500\n",
      "896/896 [==============================] - 498s 555ms/step - loss: 0.2110 - accuracy: 0.8452 - val_loss: 0.6017 - val_accuracy: 0.7861 - lr: 2.0000e-04\n",
      "Epoch 28/500\n",
      "896/896 [==============================] - 513s 573ms/step - loss: 0.2408 - accuracy: 0.8342 - val_loss: 0.6134 - val_accuracy: 0.7902 - lr: 2.0000e-04\n",
      "Epoch 29/500\n",
      "896/896 [==============================] - 535s 596ms/step - loss: 0.2005 - accuracy: 0.8466 - val_loss: 0.5767 - val_accuracy: 0.7992 - lr: 2.0000e-04\n",
      "Epoch 30/500\n",
      "896/896 [==============================] - 529s 590ms/step - loss: 0.1833 - accuracy: 0.8580 - val_loss: 0.5674 - val_accuracy: 0.8042 - lr: 2.0000e-04\n",
      "Epoch 31/500\n",
      "896/896 [==============================] - 521s 581ms/step - loss: 0.1758 - accuracy: 0.8597 - val_loss: 0.5325 - val_accuracy: 0.8092 - lr: 2.0000e-04\n",
      "Epoch 32/500\n",
      "896/896 [==============================] - 539s 602ms/step - loss: 0.1734 - accuracy: 0.8626 - val_loss: 0.6711 - val_accuracy: 0.7831 - lr: 2.0000e-04\n",
      "Epoch 33/500\n",
      "896/896 [==============================] - 530s 591ms/step - loss: 0.2331 - accuracy: 0.8427 - val_loss: 0.7711 - val_accuracy: 0.7771 - lr: 2.0000e-04\n",
      "Epoch 34/500\n",
      "896/896 [==============================] - 520s 580ms/step - loss: 0.1764 - accuracy: 0.8616 - val_loss: 0.6108 - val_accuracy: 0.7962 - lr: 2.0000e-04\n",
      "Epoch 35/500\n",
      "896/896 [==============================] - 497s 555ms/step - loss: 0.1496 - accuracy: 0.8720 - val_loss: 0.6272 - val_accuracy: 0.7882 - lr: 2.0000e-04\n",
      "Epoch 36/500\n",
      "897/896 [==============================] - ETA: 0s - loss: 0.1512 - accuracy: 0.8726\n",
      "Epoch 36: ReduceLROnPlateau reducing learning rate to 4.0000001899898055e-05.\n",
      "896/896 [==============================] - 481s 537ms/step - loss: 0.1512 - accuracy: 0.8726 - val_loss: 0.6175 - val_accuracy: 0.8002 - lr: 2.0000e-04\n",
      "Epoch 37/500\n",
      "896/896 [==============================] - 499s 557ms/step - loss: 0.1417 - accuracy: 0.8811 - val_loss: 0.6055 - val_accuracy: 0.8012 - lr: 4.0000e-05\n",
      "Epoch 38/500\n",
      "896/896 [==============================] - 494s 552ms/step - loss: 0.2248 - accuracy: 0.8706 - val_loss: 0.6135 - val_accuracy: 0.8012 - lr: 4.0000e-05\n",
      "Epoch 39/500\n",
      "896/896 [==============================] - 490s 547ms/step - loss: 0.1475 - accuracy: 0.8806 - val_loss: 0.6058 - val_accuracy: 0.8052 - lr: 4.0000e-05\n",
      "Epoch 40/500\n",
      "896/896 [==============================] - 492s 549ms/step - loss: 0.1357 - accuracy: 0.8830 - val_loss: 0.6048 - val_accuracy: 0.8082 - lr: 4.0000e-05\n",
      "Epoch 41/500\n",
      "897/896 [==============================] - ETA: 0s - loss: 0.1403 - accuracy: 0.8794\n",
      "Epoch 41: ReduceLROnPlateau reducing learning rate to 8.000000525498762e-06.\n",
      "896/896 [==============================] - 510s 570ms/step - loss: 0.1403 - accuracy: 0.8794 - val_loss: 0.6071 - val_accuracy: 0.8022 - lr: 4.0000e-05\n",
      "Epoch 42/500\n",
      "896/896 [==============================] - 517s 577ms/step - loss: 0.1330 - accuracy: 0.8837 - val_loss: 0.5973 - val_accuracy: 0.8032 - lr: 8.0000e-06\n",
      "Epoch 43/500\n",
      "896/896 [==============================] - 505s 564ms/step - loss: 0.1553 - accuracy: 0.8873 - val_loss: 0.5959 - val_accuracy: 0.8042 - lr: 8.0000e-06\n",
      "Epoch 44/500\n",
      "896/896 [==============================] - 514s 574ms/step - loss: 0.1429 - accuracy: 0.8856 - val_loss: 0.5934 - val_accuracy: 0.8052 - lr: 8.0000e-06\n",
      "Epoch 45/500\n",
      "896/896 [==============================] - 488s 544ms/step - loss: 0.1234 - accuracy: 0.8915 - val_loss: 0.5945 - val_accuracy: 0.8072 - lr: 8.0000e-06\n",
      "Epoch 46/500\n",
      "897/896 [==============================] - ETA: 0s - loss: 0.1358 - accuracy: 0.8914\n",
      "Epoch 46: ReduceLROnPlateau reducing learning rate to 1.6000001778593287e-06.\n",
      "896/896 [==============================] - 480s 536ms/step - loss: 0.1358 - accuracy: 0.8914 - val_loss: 0.5955 - val_accuracy: 0.8062 - lr: 8.0000e-06\n",
      "Epoch 47/500\n",
      "896/896 [==============================] - 485s 541ms/step - loss: 0.1336 - accuracy: 0.8874 - val_loss: 0.5976 - val_accuracy: 0.8062 - lr: 1.6000e-06\n",
      "Epoch 48/500\n",
      "896/896 [==============================] - 488s 545ms/step - loss: 0.1241 - accuracy: 0.8867 - val_loss: 0.5965 - val_accuracy: 0.8062 - lr: 1.6000e-06\n",
      "Epoch 49/500\n",
      "896/896 [==============================] - 484s 540ms/step - loss: 0.1317 - accuracy: 0.8893 - val_loss: 0.5963 - val_accuracy: 0.8062 - lr: 1.6000e-06\n",
      "Epoch 50/500\n",
      "896/896 [==============================] - 614s 685ms/step - loss: 0.1285 - accuracy: 0.8857 - val_loss: 0.5972 - val_accuracy: 0.8062 - lr: 1.6000e-06\n",
      "Epoch 51/500\n",
      "897/896 [==============================] - ETA: 0s - loss: 0.1269 - accuracy: 0.8923\n",
      "Epoch 51: ReduceLROnPlateau reducing learning rate to 3.200000264769187e-07.\n",
      "896/896 [==============================] - 631s 704ms/step - loss: 0.1269 - accuracy: 0.8923 - val_loss: 0.5959 - val_accuracy: 0.8072 - lr: 1.6000e-06\n",
      "Epoch 52/500\n",
      "896/896 [==============================] - 502s 560ms/step - loss: 0.2016 - accuracy: 0.8873 - val_loss: 0.5954 - val_accuracy: 0.8072 - lr: 3.2000e-07\n",
      "Epoch 53/500\n",
      "896/896 [==============================] - 492s 549ms/step - loss: 0.1352 - accuracy: 0.8833 - val_loss: 0.5955 - val_accuracy: 0.8072 - lr: 3.2000e-07\n",
      "Epoch 54/500\n",
      "896/896 [==============================] - 499s 557ms/step - loss: 0.1335 - accuracy: 0.8871 - val_loss: 0.5955 - val_accuracy: 0.8062 - lr: 3.2000e-07\n",
      "Epoch 55/500\n",
      "896/896 [==============================] - 512s 571ms/step - loss: 0.1224 - accuracy: 0.8891 - val_loss: 0.5962 - val_accuracy: 0.8072 - lr: 3.2000e-07\n",
      "Epoch 56/500\n",
      "897/896 [==============================] - ETA: 0s - loss: 0.1265 - accuracy: 0.8933\n",
      "Epoch 56: ReduceLROnPlateau reducing learning rate to 1e-07.\n",
      "896/896 [==============================] - 517s 577ms/step - loss: 0.1265 - accuracy: 0.8933 - val_loss: 0.5957 - val_accuracy: 0.8062 - lr: 3.2000e-07\n",
      "Epoch 57/500\n",
      "896/896 [==============================] - 521s 581ms/step - loss: 0.1226 - accuracy: 0.8872 - val_loss: 0.5957 - val_accuracy: 0.8072 - lr: 1.0000e-07\n",
      "Epoch 58/500\n",
      "896/896 [==============================] - 520s 581ms/step - loss: 0.1236 - accuracy: 0.8886 - val_loss: 0.5954 - val_accuracy: 0.8072 - lr: 1.0000e-07\n",
      "Epoch 59/500\n",
      "896/896 [==============================] - 476s 531ms/step - loss: 0.1234 - accuracy: 0.8874 - val_loss: 0.5962 - val_accuracy: 0.8072 - lr: 1.0000e-07\n",
      "Epoch 60/500\n",
      "896/896 [==============================] - 486s 542ms/step - loss: 0.2366 - accuracy: 0.8914 - val_loss: 0.5967 - val_accuracy: 0.8062 - lr: 1.0000e-07\n",
      "Epoch 61/500\n",
      "896/896 [==============================] - 488s 544ms/step - loss: 0.1263 - accuracy: 0.8875 - val_loss: 0.5957 - val_accuracy: 0.8072 - lr: 1.0000e-07\n",
      "Epoch 62/500\n",
      "896/896 [==============================] - 486s 543ms/step - loss: 0.1437 - accuracy: 0.8941 - val_loss: 0.5952 - val_accuracy: 0.8072 - lr: 1.0000e-07\n",
      "Epoch 63/500\n",
      "896/896 [==============================] - 501s 559ms/step - loss: 0.1350 - accuracy: 0.8919 - val_loss: 0.5957 - val_accuracy: 0.8062 - lr: 1.0000e-07\n",
      "Epoch 64/500\n",
      "896/896 [==============================] - 488s 544ms/step - loss: 0.1242 - accuracy: 0.8879 - val_loss: 0.5960 - val_accuracy: 0.8072 - lr: 1.0000e-07\n",
      "Epoch 65/500\n",
      "896/896 [==============================] - 505s 564ms/step - loss: 0.1256 - accuracy: 0.8933 - val_loss: 0.5966 - val_accuracy: 0.8072 - lr: 1.0000e-07\n",
      "Epoch 66/500\n",
      "896/896 [==============================] - 490s 546ms/step - loss: 0.1267 - accuracy: 0.8917 - val_loss: 0.5963 - val_accuracy: 0.8072 - lr: 1.0000e-07\n"
     ]
    }
   ],
   "source": [
    "batch_size = 32 \n",
    "\n",
    "Earlystop = EarlyStopping(monitor='val_loss', mode='min',patience=35, min_delta=0.001)\n",
    "\n",
    "with tf.device('/GPU:0'):\n",
    "    history = model.fit(feature_dict, labels,\n",
    "                        steps_per_epoch=(len(train_df)/10),\n",
    "                        epochs=500,\n",
    "                        validation_data=(val_dict, val_labels), \n",
    "                        validation_steps=len(val_df)/batch_size,\n",
    "                        callbacks=[checkpoint, Earlystop, reduce_lr],\n",
    "                        class_weight=class_weights)"
   ]
  },
  {
   "cell_type": "code",
   "execution_count": 31,
   "id": "6d459907",
   "metadata": {},
   "outputs": [
    {
     "data": {
      "image/png": "[encoded data removed]",
      "text/plain": [
       "<Figure size 432x288 with 1 Axes>"
      ]
     },
     "metadata": {
      "needs_background": "light"
     },
     "output_type": "display_data"
    }
   ],
   "source": [
    "plt.plot(history.history['accuracy'])\n",
    "plt.plot(history.history['val_accuracy'])\n",
    "plt.title('model accuracy')\n",
    "plt.ylabel('accuracy')\n",
    "plt.xlabel('epoch')\n",
    "plt.legend(['train', 'val'], loc='upper left')\n",
    "plt.show()"
   ]
  },
  {
   "cell_type": "code",
   "execution_count": 32,
   "id": "d53254dd",
   "metadata": {},
   "outputs": [
    {
     "data": {
      "image/png": "[encoded data removed]",
      "text/plain": [
       "<Figure size 432x288 with 1 Axes>"
      ]
     },
     "metadata": {
      "needs_background": "light"
     },
     "output_type": "display_data"
    }
   ],
   "source": [
    "plt.plot(history.history['loss'])\n",
    "plt.plot(history.history['val_loss'])\n",
    "plt.title('model loss')\n",
    "plt.ylabel('loss')\n",
    "plt.xlabel('epoch')\n",
    "plt.legend(['train', 'val'], loc='upper left')\n",
    "plt.show()"
   ]
  },
  {
   "cell_type": "code",
   "execution_count": 33,
   "id": "4d63c6ae",
   "metadata": {},
   "outputs": [],
   "source": [
    "from tensorflow.keras import models\n",
    "model.load_weights(model_path)"
   ]
  },
  {
   "cell_type": "code",
   "execution_count": 34,
   "id": "6cda2363",
   "metadata": {},
   "outputs": [],
   "source": [
    "batch_size = 32 \n",
    "predictions = model.predict(val_dict, steps=len(val_df)/batch_size, verbose=0)"
   ]
  },
  {
   "cell_type": "markdown",
   "id": "3047abc8",
   "metadata": {},
   "source": [
    "# Classification report"
   ]
  },
  {
   "cell_type": "code",
   "execution_count": 35,
   "id": "2c6dc6bd",
   "metadata": {},
   "outputs": [
    {
     "name": "stdout",
     "output_type": "stream",
     "text": [
      "\n",
      "Classification Report:\n",
      "              precision    recall  f1-score   support\n",
      "\n",
      "       akiec       0.66      0.70      0.68        33\n",
      "         bcc       0.72      0.86      0.79        51\n",
      "         bkl       0.60      0.72      0.66       109\n",
      "          df       0.82      0.75      0.78        12\n",
      "         mel       0.50      0.58      0.54       111\n",
      "          nv       0.94      0.86      0.90       666\n",
      "        vasc       0.78      1.00      0.88        14\n",
      "\n",
      "    accuracy                           0.81       996\n",
      "   macro avg       0.72      0.78      0.74       996\n",
      "weighted avg       0.83      0.81      0.82       996\n",
      "\n"
     ]
    }
   ],
   "source": [
    "#geting predictions on test dataset\n",
    "y_pred = np.argmax(predictions, axis=1)\n",
    "targetnames = ['akiec', 'bcc', 'bkl', 'df', 'mel', 'nv', 'vasc']\n",
    "#getting the true labels per image \n",
    "y_true = np.argmax(val_labels, axis=1)\n",
    "#getting the predicted labels per image \n",
    "y_prob=predictions\n",
    "from tensorflow.keras.utils import to_categorical\n",
    "y_test = to_categorical(y_true)\n",
    "\n",
    "# Creating classification report \n",
    "report = classification_report(y_true, y_pred, target_names=targetnames)\n",
    "\n",
    "print(\"\\nClassification Report:\")\n",
    "print(report)"
   ]
  },
  {
   "cell_type": "markdown",
   "id": "bb53beb6",
   "metadata": {},
   "source": [
    "# Confusion Matrix Metrics"
   ]
  },
  {
   "cell_type": "code",
   "execution_count": 36,
   "id": "a3c1617a",
   "metadata": {},
   "outputs": [],
   "source": [
    "from sklearn.metrics import multilabel_confusion_matrix\n",
    "multi_cm = multilabel_confusion_matrix(y_true, y_pred)\n",
    "#print(multi_cm)\n",
    "\n",
    "# TN     FP\n",
    "# FN     TP"
   ]
  },
  {
   "cell_type": "code",
   "execution_count": 37,
   "id": "34e979cb",
   "metadata": {},
   "outputs": [],
   "source": [
    "def cm_compute(_cm, _index, _name):\n",
    "    print(\"Confusion Matrix of {}\".format(_name))\n",
    "    print(_cm[index])\n",
    "    TP = _cm[index][1][1]\n",
    "    FP = _cm[index][0][1]\n",
    "    FN = _cm[index][1][0]\n",
    "    TN = _cm[index][0][0]\n",
    "    print(\"True Positive of {0}: {1}\".format(_name, TP))\n",
    "    print(\"False Positive of {0}: {1}\".format(_name, FP))\n",
    "    print(\"False Negative of {0}: {1}\".format(_name, FN))\n",
    "    print(\"True Negative of {0}: {1}\".format(_name, TN))\n",
    "    sensitivity = TP/(TP + FN)\n",
    "    specificity = TN/(TN + FP)\n",
    "    print(\"Sensitivity of {0}: {1}\".format(_name, sensitivity))\n",
    "    print(\"Specificity of {0}: {1}\".format(_name, specificity))\n",
    "    print(\"Precision of {0}: {1}\".format(_name, TP/(TP + FP)))\n",
    "    print(\"Accuracy of {0}: {1}\".format(_name, (TP+TN)/(TP + FP + FN + TN)))\n",
    "    print(\"Balanced Accuracy of {0} : {1}\".format(_name, (sensitivity + specificity)/2))\n",
    "    print(\"F1 Score of {0}: {1}\".format(_name, (2*TP)/(2*TP + FP + FN)))"
   ]
  },
  {
   "cell_type": "markdown",
   "id": "08c34508",
   "metadata": {},
   "source": [
    "### akiec       "
   ]
  },
  {
   "cell_type": "code",
   "execution_count": 38,
   "id": "3edc07d8",
   "metadata": {},
   "outputs": [
    {
     "name": "stdout",
     "output_type": "stream",
     "text": [
      "Confusion Matrix of akiec\n",
      "[[951  12]\n",
      " [ 10  23]]\n",
      "True Positive of akiec: 23\n",
      "False Positive of akiec: 12\n",
      "False Negative of akiec: 10\n",
      "True Negative of akiec: 951\n",
      "Sensitivity of akiec: 0.696969696969697\n",
      "Specificity of akiec: 0.9875389408099688\n",
      "Precision of akiec: 0.6571428571428571\n",
      "Accuracy of akiec: 0.9779116465863453\n",
      "Balanced Accuracy of akiec : 0.8422543188898329\n",
      "F1 Score of akiec: 0.6764705882352942\n"
     ]
    }
   ],
   "source": [
    "index = 0\n",
    "cm_compute(multi_cm, index, targetnames[index])"
   ]
  },
  {
   "cell_type": "markdown",
   "id": "0c8298d1",
   "metadata": {},
   "source": [
    "### bcc       "
   ]
  },
  {
   "cell_type": "code",
   "execution_count": 39,
   "id": "c2fb8bec",
   "metadata": {},
   "outputs": [
    {
     "name": "stdout",
     "output_type": "stream",
     "text": [
      "Confusion Matrix of bcc\n",
      "[[928  17]\n",
      " [  7  44]]\n",
      "True Positive of bcc: 44\n",
      "False Positive of bcc: 17\n",
      "False Negative of bcc: 7\n",
      "True Negative of bcc: 928\n",
      "Sensitivity of bcc: 0.8627450980392157\n",
      "Specificity of bcc: 0.982010582010582\n",
      "Precision of bcc: 0.7213114754098361\n",
      "Accuracy of bcc: 0.9759036144578314\n",
      "Balanced Accuracy of bcc : 0.9223778400248989\n",
      "F1 Score of bcc: 0.7857142857142857\n"
     ]
    }
   ],
   "source": [
    "index = 1\n",
    "cm_compute(multi_cm, index, targetnames[index])"
   ]
  },
  {
   "cell_type": "markdown",
   "id": "c3c0b7d3",
   "metadata": {},
   "source": [
    "### bkl"
   ]
  },
  {
   "cell_type": "code",
   "execution_count": 40,
   "id": "1bfd6ac9",
   "metadata": {},
   "outputs": [
    {
     "name": "stdout",
     "output_type": "stream",
     "text": [
      "Confusion Matrix of bkl\n",
      "[[834  53]\n",
      " [ 30  79]]\n",
      "True Positive of bkl: 79\n",
      "False Positive of bkl: 53\n",
      "False Negative of bkl: 30\n",
      "True Negative of bkl: 834\n",
      "Sensitivity of bkl: 0.7247706422018348\n",
      "Specificity of bkl: 0.9402480270574972\n",
      "Precision of bkl: 0.5984848484848485\n",
      "Accuracy of bkl: 0.9166666666666666\n",
      "Balanced Accuracy of bkl : 0.832509334629666\n",
      "F1 Score of bkl: 0.6556016597510373\n"
     ]
    }
   ],
   "source": [
    "index = 2\n",
    "cm_compute(multi_cm, index, targetnames[index])"
   ]
  },
  {
   "cell_type": "markdown",
   "id": "4b7e966f",
   "metadata": {},
   "source": [
    "### df "
   ]
  },
  {
   "cell_type": "code",
   "execution_count": 41,
   "id": "25b094e5",
   "metadata": {},
   "outputs": [
    {
     "name": "stdout",
     "output_type": "stream",
     "text": [
      "Confusion Matrix of df\n",
      "[[982   2]\n",
      " [  3   9]]\n",
      "True Positive of df: 9\n",
      "False Positive of df: 2\n",
      "False Negative of df: 3\n",
      "True Negative of df: 982\n",
      "Sensitivity of df: 0.75\n",
      "Specificity of df: 0.9979674796747967\n",
      "Precision of df: 0.8181818181818182\n",
      "Accuracy of df: 0.9949799196787149\n",
      "Balanced Accuracy of df : 0.8739837398373984\n",
      "F1 Score of df: 0.782608695652174\n"
     ]
    }
   ],
   "source": [
    "index = 3\n",
    "cm_compute(multi_cm, index, targetnames[index])"
   ]
  },
  {
   "cell_type": "markdown",
   "id": "45c95bb2",
   "metadata": {},
   "source": [
    "### mel"
   ]
  },
  {
   "cell_type": "code",
   "execution_count": 42,
   "id": "1a8ef842",
   "metadata": {},
   "outputs": [
    {
     "name": "stdout",
     "output_type": "stream",
     "text": [
      "Confusion Matrix of mel\n",
      "[[821  64]\n",
      " [ 47  64]]\n",
      "True Positive of mel: 64\n",
      "False Positive of mel: 64\n",
      "False Negative of mel: 47\n",
      "True Negative of mel: 821\n",
      "Sensitivity of mel: 0.5765765765765766\n",
      "Specificity of mel: 0.927683615819209\n",
      "Precision of mel: 0.5\n",
      "Accuracy of mel: 0.8885542168674698\n",
      "Balanced Accuracy of mel : 0.7521300961978927\n",
      "F1 Score of mel: 0.5355648535564853\n"
     ]
    }
   ],
   "source": [
    "index = 4\n",
    "cm_compute(multi_cm, index, targetnames[index])"
   ]
  },
  {
   "cell_type": "markdown",
   "id": "a2cadea1",
   "metadata": {},
   "source": [
    "### nv"
   ]
  },
  {
   "cell_type": "code",
   "execution_count": 43,
   "id": "ac593956",
   "metadata": {},
   "outputs": [
    {
     "name": "stdout",
     "output_type": "stream",
     "text": [
      "Confusion Matrix of nv\n",
      "[[292  38]\n",
      " [ 93 573]]\n",
      "True Positive of nv: 573\n",
      "False Positive of nv: 38\n",
      "False Negative of nv: 93\n",
      "True Negative of nv: 292\n",
      "Sensitivity of nv: 0.8603603603603603\n",
      "Specificity of nv: 0.8848484848484849\n",
      "Precision of nv: 0.9378068739770867\n",
      "Accuracy of nv: 0.8684738955823293\n",
      "Balanced Accuracy of nv : 0.8726044226044226\n",
      "F1 Score of nv: 0.8974158183241974\n"
     ]
    }
   ],
   "source": [
    "index = 5\n",
    "cm_compute(multi_cm, index, targetnames[index])"
   ]
  },
  {
   "cell_type": "markdown",
   "id": "9f7cccca",
   "metadata": {},
   "source": [
    "### vasc"
   ]
  },
  {
   "cell_type": "code",
   "execution_count": 44,
   "id": "29c1c659",
   "metadata": {},
   "outputs": [
    {
     "name": "stdout",
     "output_type": "stream",
     "text": [
      "Confusion Matrix of vasc\n",
      "[[978   4]\n",
      " [  0  14]]\n",
      "True Positive of vasc: 14\n",
      "False Positive of vasc: 4\n",
      "False Negative of vasc: 0\n",
      "True Negative of vasc: 978\n",
      "Sensitivity of vasc: 1.0\n",
      "Specificity of vasc: 0.9959266802443992\n",
      "Precision of vasc: 0.7777777777777778\n",
      "Accuracy of vasc: 0.9959839357429718\n",
      "Balanced Accuracy of vasc : 0.9979633401221997\n",
      "F1 Score of vasc: 0.875\n"
     ]
    }
   ],
   "source": [
    "index = 6\n",
    "cm_compute(multi_cm, index, targetnames[index])"
   ]
  },
  {
   "cell_type": "markdown",
   "id": "fcc6be19",
   "metadata": {},
   "source": [
    "## Weighted, Macro, Micro, ROC AUC"
   ]
  },
  {
   "cell_type": "code",
   "execution_count": 45,
   "id": "59d35f78",
   "metadata": {},
   "outputs": [
    {
     "name": "stdout",
     "output_type": "stream",
     "text": [
      "Precision: 0.8278051172613201\n",
      "Recall: 0.8092369477911646\n",
      "Accuracy: 0.8092369477911646\n",
      "weighted Roc score: 0.9498282307723837\n"
     ]
    }
   ],
   "source": [
    "print(\"Precision: \"+ str(precision_score(y_true, y_pred, average='weighted')))\n",
    "print(\"Recall: \"+ str(recall_score(y_true, y_pred, average='weighted')))\n",
    "print(\"Accuracy: \" + str(accuracy_score(y_true, y_pred)))\n",
    "print(\"weighted Roc score: \" + str(roc_auc_score(y_test,y_prob,multi_class='ovr',average='weighted')))"
   ]
  },
  {
   "cell_type": "code",
   "execution_count": 46,
   "id": "b69e9a30",
   "metadata": {},
   "outputs": [
    {
     "name": "stdout",
     "output_type": "stream",
     "text": [
      "Precision: 0.7158150929963177\n",
      "Recall: 0.7816317677353836\n",
      "Accuracy: 0.8092369477911646\n",
      "Macro Roc score: 0.9662702397546762\n"
     ]
    }
   ],
   "source": [
    "print(\"Precision: \"+ str(precision_score(y_true, y_pred, average='macro')))\n",
    "print(\"Recall: \"+ str(recall_score(y_true, y_pred, average='macro')))\n",
    "print(\"Accuracy: \" + str(accuracy_score(y_true, y_pred)))\n",
    "print(\"Macro Roc score: \" + str(roc_auc_score(y_test,y_prob,multi_class='ovr',average='macro')))"
   ]
  },
  {
   "cell_type": "code",
   "execution_count": 47,
   "id": "fab7d5c6",
   "metadata": {},
   "outputs": [
    {
     "name": "stdout",
     "output_type": "stream",
     "text": [
      "Precision: 0.8092369477911646\n",
      "Recall: 0.8092369477911646\n",
      "Accuracy: 0.8092369477911646\n",
      "Micro Roc score: 0.9792278215942753\n"
     ]
    }
   ],
   "source": [
    "print(\"Precision: \"+ str(precision_score(y_true, y_pred, average='micro')))\n",
    "print(\"Recall: \"+ str(recall_score(y_true, y_pred, average='micro')))\n",
    "print(\"Accuracy: \" + str(accuracy_score(y_true, y_pred)))\n",
    "tpr={}\n",
    "fpr={}\n",
    "roc_auc={}\n",
    "fpr[\"micro\"], tpr[\"micro\"], _ = roc_curve(y_test.ravel(), y_prob.ravel())\n",
    "roc_auc[\"micro\"] = auc(fpr[\"micro\"], tpr[\"micro\"])\n",
    "print(\"Micro Roc score: \" + str(roc_auc[\"micro\"]))"
   ]
  },
  {
   "cell_type": "code",
   "execution_count": 48,
   "id": "cef5bfe5",
   "metadata": {},
   "outputs": [
    {
     "name": "stdout",
     "output_type": "stream",
     "text": [
      "The ROC AUC score of akiec is: 0.9727492998521037\n",
      "The ROC AUC score of bcc is: 0.9880485527544351\n",
      "The ROC AUC score of bkl is: 0.9483880309878676\n",
      "The ROC AUC score of df is: 0.997120596205962\n",
      "The ROC AUC score of mel is: 0.9064793607166488\n",
      "The ROC AUC score of nv is: 0.9513240513240513\n",
      "The ROC AUC score of vasc is: 0.9997817864416643\n"
     ]
    }
   ],
   "source": [
    "fpr = {}\n",
    "tpr = {}\n",
    "roc_auc = {}\n",
    "for i in range(7):\n",
    "    r = roc_auc_score(y_test[:, i], y_prob[:, i])\n",
    "    print(\"The ROC AUC score of \"+targetnames[i]+\" is: \"+str(r))"
   ]
  },
  {
   "cell_type": "code",
   "execution_count": 49,
   "id": "32fff45a",
   "metadata": {},
   "outputs": [],
   "source": [
    "# Compute ROC curve and ROC area for each class\n",
    "fpr = {}\n",
    "tpr = {}\n",
    "roc_auc = dict()\n",
    "for i in range(7):\n",
    "    fpr[i], tpr[i], _ = roc_curve(y_test[:, i], y_prob[:, i], drop_intermediate=False)\n",
    "    roc_auc[i] = auc(fpr[i], tpr[i])"
   ]
  },
  {
   "cell_type": "code",
   "execution_count": 50,
   "id": "cd42da01",
   "metadata": {},
   "outputs": [
    {
     "data": {
      "image/png": "[encoded data removed]",
      "text/plain": [
       "<Figure size 432x288 with 1 Axes>"
      ]
     },
     "metadata": {
      "needs_background": "light"
     },
     "output_type": "display_data"
    }
   ],
   "source": [
    "plt.plot(fpr[0], tpr[0],'v-',label='akiec: ROC curve of (area = %0.2f)' % roc_auc[0])\n",
    "plt.plot(fpr[1], tpr[1],'c',label='bcc: ROC curve of (area = %0.2f)' % roc_auc[1])\n",
    "plt.plot(fpr[2], tpr[2],'b',label='bkl: ROC curve of (area = %0.2f)' % roc_auc[2])\n",
    "plt.plot(fpr[3], tpr[3],'g',label='df: ROC curve of (area = %0.2f)' % roc_auc[3])\n",
    "plt.plot(fpr[4], tpr[4],'y',label='mel: ROC curve of (area = %0.2f)' % roc_auc[4])\n",
    "plt.plot(fpr[5], tpr[5],'o-',label='nv: ROC curve of (area = %0.2f)' % roc_auc[5])\n",
    "plt.plot(fpr[6], tpr[6],'r',label='vasc: ROC curve of (area = %0.2f)' % roc_auc[6])\n",
    "\n",
    "plt.plot([0, 1], [0, 1], 'k--')\n",
    "plt.xlim([-0.1, 1.1])\n",
    "plt.ylim([-0.1, 1.1])\n",
    "plt.xlabel('False Positive Rate')\n",
    "plt.ylabel('True Positive Rate')\n",
    "plt.title('Receiver operating characteristic of %s'%targetnames[i])\n",
    "plt.legend(loc=\"lower right\")\n",
    "plt.show()"
   ]
  },
  {
   "cell_type": "code",
   "execution_count": null,
   "id": "eb80bb58",
   "metadata": {},
   "outputs": [],
   "source": []
  }
 ],
 "metadata": {
  "kernelspec": {
   "display_name": "Python 3 (ipykernel)",
   "language": "python",
   "name": "python3"
  },
  "language_info": {
   "codemirror_mode": {
    "name": "ipython",
    "version": 3
   },
   "file_extension": ".py",
   "mimetype": "text/x-python",
   "name": "python",
   "nbconvert_exporter": "python",
   "pygments_lexer": "ipython3",
   "version": "3.9.6"
  }
 },
 "nbformat": 4,
 "nbformat_minor": 5
}
