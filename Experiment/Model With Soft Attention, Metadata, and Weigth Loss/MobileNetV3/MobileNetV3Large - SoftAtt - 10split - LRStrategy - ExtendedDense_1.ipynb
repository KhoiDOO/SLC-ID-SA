{
 "cells": [
  {
   "cell_type": "markdown",
   "id": "6157792c",
   "metadata": {},
   "source": [
    "# Setup"
   ]
  },
  {
   "cell_type": "code",
   "execution_count": 1,
   "id": "825d07e0",
   "metadata": {},
   "outputs": [],
   "source": [
    "import pandas as pd\n",
    "import numpy as np\n",
    "import os\n",
    "import tensorflow as tf\n",
    "import datetime\n",
    "import cv2\n",
    "from keras import backend as K\n",
    "from keras.layers import Layer,InputSpec\n",
    "from keras import layers\n",
    "import keras.layers as kl\n",
    "from glob import glob\n",
    "from sklearn.metrics import roc_curve, auc\n",
    "from keras.preprocessing import image\n",
    "from tensorflow.keras.models import Sequential\n",
    "from sklearn.metrics import roc_auc_score\n",
    "from sklearn import preprocessing\n",
    "from tensorflow.keras import callbacks \n",
    "from tensorflow.keras.callbacks import ModelCheckpoint, EarlyStopping, ReduceLROnPlateau\n",
    "from  matplotlib import pyplot as plt\n",
    "from tensorflow.keras import Model\n",
    "from tensorflow.keras.layers import concatenate, Dense, Conv2D, MaxPooling2D, Flatten, Input, Activation, add, AveragePooling2D, BatchNormalization, Dropout\n",
    "%matplotlib inline\n",
    "import shutil\n",
    "from sklearn.metrics import  precision_score, recall_score, accuracy_score,classification_report ,confusion_matrix\n",
    "from tensorflow.python.platform import build_info as tf_build_info\n",
    "from tensorflow.keras.preprocessing.image import ImageDataGenerator\n",
    "from sklearn.model_selection import train_test_split\n",
    "\n",
    "from PIL import ImageFile\n",
    "ImageFile.LOAD_TRUNCATED_IMAGES = True"
   ]
  },
  {
   "cell_type": "code",
   "execution_count": 2,
   "id": "0213bc9c",
   "metadata": {},
   "outputs": [
    {
     "data": {
      "text/plain": [
       "[PhysicalDevice(name='/physical_device:GPU:0', device_type='GPU')]"
      ]
     },
     "execution_count": 2,
     "metadata": {},
     "output_type": "execute_result"
    }
   ],
   "source": [
    "tf.config.list_physical_devices('GPU')"
   ]
  },
  {
   "cell_type": "markdown",
   "id": "1eab577f",
   "metadata": {},
   "source": [
    "# Data Preparation"
   ]
  },
  {
   "cell_type": "code",
   "execution_count": 3,
   "id": "b2ef3059",
   "metadata": {},
   "outputs": [],
   "source": [
    "# Environment variable\n",
    "main_dir = 'D:/Data/HAM100000 - Harvard Dataset'\n",
    "main_img_dir = main_dir + '/img_data'\n",
    "preprocessed_data_dir = main_dir + '/preprocessed_data'\n",
    "train_dir = preprocessed_data_dir + '/train'\n",
    "test_dir = preprocessed_data_dir + '/val'\n",
    "train_label = preprocessed_data_dir + '/train_label.csv'\n",
    "val_label = preprocessed_data_dir + '/val_label.csv'\n",
    "\n",
    "model_path = 'mobilenetv3LargeSoftAtt_10split_LRStr.hdf5'"
   ]
  },
  {
   "cell_type": "code",
   "execution_count": 4,
   "id": "fbaea60c",
   "metadata": {},
   "outputs": [],
   "source": [
    "target_size = (224, 224)\n",
    "def Get_data(df_path, img_path, _target_size):\n",
    "    img_list = []\n",
    "    labels = []\n",
    "    ages = []\n",
    "    sex_list = []\n",
    "    localizations = []\n",
    "    \n",
    "    df = pd.read_csv(df_path)\n",
    "    for index, row in df.iterrows():\n",
    "        img_list.append(cv2.imread(img_path + '/' + row['image_id'] + '.jpg'))\n",
    "        labels.append(row['dx'])\n",
    "        ages.append(float(row['age']))\n",
    "        sex_list.append(row['sex'])\n",
    "        localizations.append(row['localization'])\n",
    "    for x in range(len(img_list)):\n",
    "        img_list[x] = tf.keras.preprocessing.image.smart_resize(img_list[x], _target_size)\n",
    "        img_list[x] = tf.keras.applications.mobilenet_v3.preprocess_input(img_list[x])\n",
    "    le = preprocessing.LabelEncoder()\n",
    "    le.fit(labels)\n",
    "    labels = le.transform(labels)\n",
    "    labels = tf.keras.utils.to_categorical(labels)\n",
    "    return (img_list, ages, sex_list, localizations), labels"
   ]
  },
  {
   "cell_type": "code",
   "execution_count": 5,
   "id": "02cc5ad7",
   "metadata": {},
   "outputs": [
    {
     "data": {
      "text/html": [
       "<div>\n",
       "<style scoped>\n",
       "    .dataframe tbody tr th:only-of-type {\n",
       "        vertical-align: middle;\n",
       "    }\n",
       "\n",
       "    .dataframe tbody tr th {\n",
       "        vertical-align: top;\n",
       "    }\n",
       "\n",
       "    .dataframe thead th {\n",
       "        text-align: right;\n",
       "    }\n",
       "</style>\n",
       "<table border=\"1\" class=\"dataframe\">\n",
       "  <thead>\n",
       "    <tr style=\"text-align: right;\">\n",
       "      <th></th>\n",
       "      <th>Unnamed: 0</th>\n",
       "      <th>image_id</th>\n",
       "      <th>dx</th>\n",
       "      <th>age</th>\n",
       "      <th>sex</th>\n",
       "      <th>localization</th>\n",
       "    </tr>\n",
       "  </thead>\n",
       "  <tbody>\n",
       "    <tr>\n",
       "      <th>0</th>\n",
       "      <td>0</td>\n",
       "      <td>ISIC_0027419</td>\n",
       "      <td>bkl</td>\n",
       "      <td>80.0</td>\n",
       "      <td>male</td>\n",
       "      <td>scalp</td>\n",
       "    </tr>\n",
       "    <tr>\n",
       "      <th>1</th>\n",
       "      <td>1</td>\n",
       "      <td>ISIC_0025030</td>\n",
       "      <td>bkl</td>\n",
       "      <td>80.0</td>\n",
       "      <td>male</td>\n",
       "      <td>scalp</td>\n",
       "    </tr>\n",
       "    <tr>\n",
       "      <th>2</th>\n",
       "      <td>2</td>\n",
       "      <td>ISIC_0026769</td>\n",
       "      <td>bkl</td>\n",
       "      <td>80.0</td>\n",
       "      <td>male</td>\n",
       "      <td>scalp</td>\n",
       "    </tr>\n",
       "    <tr>\n",
       "      <th>3</th>\n",
       "      <td>3</td>\n",
       "      <td>ISIC_0025661</td>\n",
       "      <td>bkl</td>\n",
       "      <td>80.0</td>\n",
       "      <td>male</td>\n",
       "      <td>scalp</td>\n",
       "    </tr>\n",
       "    <tr>\n",
       "      <th>4</th>\n",
       "      <td>4</td>\n",
       "      <td>ISIC_0031633</td>\n",
       "      <td>bkl</td>\n",
       "      <td>75.0</td>\n",
       "      <td>male</td>\n",
       "      <td>ear</td>\n",
       "    </tr>\n",
       "  </tbody>\n",
       "</table>\n",
       "</div>"
      ],
      "text/plain": [
       "   Unnamed: 0      image_id   dx   age   sex localization\n",
       "0           0  ISIC_0027419  bkl  80.0  male        scalp\n",
       "1           1  ISIC_0025030  bkl  80.0  male        scalp\n",
       "2           2  ISIC_0026769  bkl  80.0  male        scalp\n",
       "3           3  ISIC_0025661  bkl  80.0  male        scalp\n",
       "4           4  ISIC_0031633  bkl  75.0  male          ear"
      ]
     },
     "execution_count": 5,
     "metadata": {},
     "output_type": "execute_result"
    }
   ],
   "source": [
    "train_df = pd.read_csv(train_label)\n",
    "train_df.head()"
   ]
  },
  {
   "cell_type": "code",
   "execution_count": 6,
   "id": "7c0476fa",
   "metadata": {},
   "outputs": [
    {
     "data": {
      "text/html": [
       "<div>\n",
       "<style scoped>\n",
       "    .dataframe tbody tr th:only-of-type {\n",
       "        vertical-align: middle;\n",
       "    }\n",
       "\n",
       "    .dataframe tbody tr th {\n",
       "        vertical-align: top;\n",
       "    }\n",
       "\n",
       "    .dataframe thead th {\n",
       "        text-align: right;\n",
       "    }\n",
       "</style>\n",
       "<table border=\"1\" class=\"dataframe\">\n",
       "  <thead>\n",
       "    <tr style=\"text-align: right;\">\n",
       "      <th></th>\n",
       "      <th>Unnamed: 0</th>\n",
       "      <th>image_id</th>\n",
       "      <th>dx</th>\n",
       "      <th>age</th>\n",
       "      <th>sex</th>\n",
       "      <th>localization</th>\n",
       "    </tr>\n",
       "  </thead>\n",
       "  <tbody>\n",
       "    <tr>\n",
       "      <th>0</th>\n",
       "      <td>2973</td>\n",
       "      <td>ISIC_0031531</td>\n",
       "      <td>bcc</td>\n",
       "      <td>70.0</td>\n",
       "      <td>male</td>\n",
       "      <td>back</td>\n",
       "    </tr>\n",
       "    <tr>\n",
       "      <th>1</th>\n",
       "      <td>483</td>\n",
       "      <td>ISIC_0026526</td>\n",
       "      <td>bkl</td>\n",
       "      <td>60.0</td>\n",
       "      <td>male</td>\n",
       "      <td>face</td>\n",
       "    </tr>\n",
       "    <tr>\n",
       "      <th>2</th>\n",
       "      <td>8870</td>\n",
       "      <td>ISIC_0026805</td>\n",
       "      <td>nv</td>\n",
       "      <td>75.0</td>\n",
       "      <td>female</td>\n",
       "      <td>lower extremity</td>\n",
       "    </tr>\n",
       "    <tr>\n",
       "      <th>3</th>\n",
       "      <td>1991</td>\n",
       "      <td>ISIC_0030756</td>\n",
       "      <td>mel</td>\n",
       "      <td>85.0</td>\n",
       "      <td>male</td>\n",
       "      <td>chest</td>\n",
       "    </tr>\n",
       "    <tr>\n",
       "      <th>4</th>\n",
       "      <td>8324</td>\n",
       "      <td>ISIC_0024834</td>\n",
       "      <td>nv</td>\n",
       "      <td>70.0</td>\n",
       "      <td>male</td>\n",
       "      <td>chest</td>\n",
       "    </tr>\n",
       "  </tbody>\n",
       "</table>\n",
       "</div>"
      ],
      "text/plain": [
       "   Unnamed: 0      image_id   dx   age     sex     localization\n",
       "0        2973  ISIC_0031531  bcc  70.0    male             back\n",
       "1         483  ISIC_0026526  bkl  60.0    male             face\n",
       "2        8870  ISIC_0026805   nv  75.0  female  lower extremity\n",
       "3        1991  ISIC_0030756  mel  85.0    male            chest\n",
       "4        8324  ISIC_0024834   nv  70.0    male            chest"
      ]
     },
     "execution_count": 6,
     "metadata": {},
     "output_type": "execute_result"
    }
   ],
   "source": [
    "val_df = pd.read_csv(val_label)\n",
    "val_df.head()"
   ]
  },
  {
   "cell_type": "markdown",
   "id": "4180af7b",
   "metadata": {},
   "source": [
    "## Training Data"
   ]
  },
  {
   "cell_type": "code",
   "execution_count": 7,
   "id": "827a6beb",
   "metadata": {},
   "outputs": [],
   "source": [
    "(train_img_lst, train_ages, train_sexes, train_localizations), labels = Get_data(train_label, main_img_dir, target_size)"
   ]
  },
  {
   "cell_type": "code",
   "execution_count": 8,
   "id": "5a06009b",
   "metadata": {},
   "outputs": [
    {
     "data": {
      "text/plain": [
       "False"
      ]
     },
     "execution_count": 8,
     "metadata": {},
     "output_type": "execute_result"
    }
   ],
   "source": [
    "any(elem is None for elem in train_img_lst)"
   ]
  },
  {
   "cell_type": "code",
   "execution_count": 9,
   "id": "6de92f29",
   "metadata": {},
   "outputs": [
    {
     "name": "stdout",
     "output_type": "stream",
     "text": [
      "Number of images: 8962\n",
      "Image shape: 224 224\n",
      "Example of Age: 80.0\n",
      "Example of Sex: male\n",
      "Example of Localization: scalp\n"
     ]
    }
   ],
   "source": [
    "print(\"Number of images: {}\".format(len(train_img_lst)))\n",
    "print(\"Image shape: {0} {1}\".format(train_img_lst[0].shape[0], train_img_lst[0].shape[1]))\n",
    "print(\"Example of Age: {}\".format(train_ages[0]))\n",
    "print(\"Example of Sex: {}\".format(train_sexes[0]))\n",
    "print(\"Example of Localization: {}\".format(train_localizations[0]))"
   ]
  },
  {
   "cell_type": "markdown",
   "id": "59c0313c",
   "metadata": {},
   "source": [
    "## Validation Data"
   ]
  },
  {
   "cell_type": "code",
   "execution_count": 10,
   "id": "4ea74922",
   "metadata": {},
   "outputs": [],
   "source": [
    "(val_img_lst, val_ages, val_sexes, val_localizations), val_labels = Get_data(val_label, main_img_dir, target_size)"
   ]
  },
  {
   "cell_type": "code",
   "execution_count": 11,
   "id": "75851082",
   "metadata": {},
   "outputs": [
    {
     "data": {
      "text/plain": [
       "False"
      ]
     },
     "execution_count": 11,
     "metadata": {},
     "output_type": "execute_result"
    }
   ],
   "source": [
    "any(elem is None for elem in val_img_lst)"
   ]
  },
  {
   "cell_type": "code",
   "execution_count": 12,
   "id": "fc76bebd",
   "metadata": {},
   "outputs": [
    {
     "name": "stdout",
     "output_type": "stream",
     "text": [
      "Number of images: 996\n",
      "Image shape: 224 224\n",
      "Example of Age: 70.0\n",
      "Example of Sex: male\n",
      "Example of Localization: back\n"
     ]
    }
   ],
   "source": [
    "print(\"Number of images: {}\".format(len(val_img_lst)))\n",
    "print(\"Image shape: {0} {1}\".format(val_img_lst[0].shape[0], val_img_lst[0].shape[1]))\n",
    "print(\"Example of Age: {}\".format(val_ages[0]))\n",
    "print(\"Example of Sex: {}\".format(val_sexes[0]))\n",
    "print(\"Example of Localization: {}\".format(val_localizations[0]))"
   ]
  },
  {
   "cell_type": "markdown",
   "id": "a834d1c1",
   "metadata": {},
   "source": [
    "# Model"
   ]
  },
  {
   "cell_type": "markdown",
   "id": "69815849",
   "metadata": {},
   "source": [
    "## Input Block"
   ]
  },
  {
   "cell_type": "code",
   "execution_count": 13,
   "id": "307f275e",
   "metadata": {},
   "outputs": [],
   "source": [
    "age_input = tf.keras.Input(shape=(1,), name='age', dtype=tf.float32)\n",
    "sex_input = tf.keras.Input(shape=(1,), name='sex', dtype=tf.string)\n",
    "localizations_input = tf.keras.Input(shape=(1,), name='localization', dtype=tf.string)\n",
    "\n",
    "inputs = {'age' : age_input,\n",
    "         'sex' : sex_input,\n",
    "         'local' : localizations_input}"
   ]
  },
  {
   "cell_type": "code",
   "execution_count": 14,
   "id": "fbdadbf5",
   "metadata": {},
   "outputs": [
    {
     "data": {
      "text/plain": [
       "<KerasTensor: shape=(None, 1) dtype=float32 (created by layer 'normalization')>"
      ]
     },
     "execution_count": 14,
     "metadata": {},
     "output_type": "execute_result"
    }
   ],
   "source": [
    "norm = layers.Normalization()\n",
    "norm.adapt(np.array(train_df[['age']]))\n",
    "age_norm_input = norm(age_input)\n",
    "age_norm_input"
   ]
  },
  {
   "cell_type": "code",
   "execution_count": 15,
   "id": "83666cc3",
   "metadata": {},
   "outputs": [
    {
     "data": {
      "text/plain": [
       "<KerasTensor: shape=(None, 4) dtype=float32 (created by layer 'category_encoding')>"
      ]
     },
     "execution_count": 15,
     "metadata": {},
     "output_type": "execute_result"
    }
   ],
   "source": [
    "# Sex input\n",
    "sex_lookup = layers.StringLookup(vocabulary=np.unique(train_df['sex']))\n",
    "sex_one_hot = layers.CategoryEncoding(num_tokens=sex_lookup.vocabulary_size())\n",
    "\n",
    "preprocessed_sex_input = sex_lookup(sex_input)\n",
    "preprocessed_sex_input = sex_one_hot(preprocessed_sex_input)\n",
    "preprocessed_sex_input"
   ]
  },
  {
   "cell_type": "code",
   "execution_count": 16,
   "id": "6662d963",
   "metadata": {},
   "outputs": [
    {
     "data": {
      "text/plain": [
       "<KerasTensor: shape=(None, 16) dtype=float32 (created by layer 'category_encoding_1')>"
      ]
     },
     "execution_count": 16,
     "metadata": {},
     "output_type": "execute_result"
    }
   ],
   "source": [
    "# Localization input\n",
    "local_lookup = layers.StringLookup(vocabulary=np.unique(train_df['localization']))\n",
    "local_one_hot = layers.CategoryEncoding(num_tokens=local_lookup.vocabulary_size())\n",
    "\n",
    "preprocess_local_input = local_lookup(localizations_input)\n",
    "preprocess_local_input = local_one_hot(preprocess_local_input)\n",
    "preprocess_local_input"
   ]
  },
  {
   "cell_type": "code",
   "execution_count": 17,
   "id": "4b5f8998",
   "metadata": {
    "scrolled": true
   },
   "outputs": [
    {
     "data": {
      "text/plain": [
       "<KerasTensor: shape=(None, 21) dtype=float32 (created by layer 'concatenate')>"
      ]
     },
     "execution_count": 17,
     "metadata": {},
     "output_type": "execute_result"
    }
   ],
   "source": [
    "preprocessed_inputs = [age_norm_input, preprocessed_sex_input, preprocess_local_input]\n",
    "preprocessed_inputs_cat = layers.Concatenate()(preprocessed_inputs)\n",
    "\n",
    "# preprocessed_Model = tf.keras.Model(inputs, preprocessed_inputs_cat)\n",
    "# tf.keras.utils.plot_model(model = preprocessed_Model , rankdir=\"LR\", dpi=72, show_shapes=True)\n",
    "\n",
    "preprocessed_inputs_cat"
   ]
  },
  {
   "cell_type": "markdown",
   "id": "4bdc3dbd",
   "metadata": {},
   "source": [
    "## Soft Attention"
   ]
  },
  {
   "cell_type": "code",
   "execution_count": 18,
   "id": "70e746d8",
   "metadata": {},
   "outputs": [],
   "source": [
    "from keras import backend as K\n",
    "from keras.layers import Layer,InputSpec\n",
    "import keras.layers as kl\n",
    "import tensorflow as tf"
   ]
  },
  {
   "cell_type": "code",
   "execution_count": 19,
   "id": "be2100ec",
   "metadata": {},
   "outputs": [],
   "source": [
    "class SoftAttention(Layer):\n",
    "    def __init__(self,ch,m,concat_with_x=False,aggregate=False,**kwargs):\n",
    "        self.channels=int(ch)\n",
    "        self.multiheads = m\n",
    "        self.aggregate_channels = aggregate\n",
    "        self.concat_input_with_scaled = concat_with_x\n",
    "\n",
    "        \n",
    "        super(SoftAttention,self).__init__(**kwargs)\n",
    "\n",
    "    def build(self,input_shape):\n",
    "\n",
    "        self.i_shape = input_shape\n",
    "\n",
    "        kernel_shape_conv3d = (self.channels, 3, 3) + (1, self.multiheads) # DHWC\n",
    "    \n",
    "        self.out_attention_maps_shape = input_shape[0:1]+(self.multiheads,)+input_shape[1:-1]\n",
    "        \n",
    "        if self.aggregate_channels==False:\n",
    "\n",
    "            self.out_features_shape = input_shape[:-1]+(input_shape[-1]+(input_shape[-1]*self.multiheads),)\n",
    "        else:\n",
    "            if self.concat_input_with_scaled:\n",
    "                self.out_features_shape = input_shape[:-1]+(input_shape[-1]*2,)\n",
    "            else:\n",
    "                self.out_features_shape = input_shape\n",
    "        \n",
    "\n",
    "        self.kernel_conv3d = self.add_weight(shape=kernel_shape_conv3d,\n",
    "                                        initializer='he_uniform',\n",
    "                                        name='kernel_conv3d')\n",
    "        self.bias_conv3d = self.add_weight(shape=(self.multiheads,),\n",
    "                                      initializer='zeros',\n",
    "                                      name='bias_conv3d')\n",
    "\n",
    "        super(SoftAttention, self).build(input_shape)\n",
    "\n",
    "    def call(self, x):\n",
    "\n",
    "        exp_x = K.expand_dims(x,axis=-1)\n",
    "\n",
    "        c3d = K.conv3d(exp_x,\n",
    "                     kernel=self.kernel_conv3d,\n",
    "                     strides=(1,1,self.i_shape[-1]), padding='same', data_format='channels_last')\n",
    "        conv3d = K.bias_add(c3d,\n",
    "                        self.bias_conv3d)\n",
    "        conv3d = kl.Activation('relu')(conv3d)\n",
    "\n",
    "        conv3d = K.permute_dimensions(conv3d,pattern=(0,4,1,2,3))\n",
    "\n",
    "        \n",
    "        conv3d = K.squeeze(conv3d, axis=-1)\n",
    "        conv3d = K.reshape(conv3d,shape=(-1, self.multiheads ,self.i_shape[1]*self.i_shape[2]))\n",
    "\n",
    "        softmax_alpha = K.softmax(conv3d, axis=-1) \n",
    "        softmax_alpha = kl.Reshape(target_shape=(self.multiheads, self.i_shape[1],self.i_shape[2]))(softmax_alpha)\n",
    "\n",
    "        \n",
    "        if self.aggregate_channels==False:\n",
    "            exp_softmax_alpha = K.expand_dims(softmax_alpha, axis=-1)       \n",
    "            exp_softmax_alpha = K.permute_dimensions(exp_softmax_alpha,pattern=(0,2,3,1,4))\n",
    "   \n",
    "            x_exp = K.expand_dims(x,axis=-2)\n",
    "   \n",
    "            u = kl.Multiply()([exp_softmax_alpha, x_exp])   \n",
    "  \n",
    "            u = kl.Reshape(target_shape=(self.i_shape[1],self.i_shape[2],u.shape[-1]*u.shape[-2]))(u)\n",
    "\n",
    "        else:\n",
    "            exp_softmax_alpha = K.permute_dimensions(softmax_alpha,pattern=(0,2,3,1))\n",
    "\n",
    "            exp_softmax_alpha = K.sum(exp_softmax_alpha,axis=-1)\n",
    "\n",
    "            exp_softmax_alpha = K.expand_dims(exp_softmax_alpha, axis=-1)\n",
    "\n",
    "            u = kl.Multiply()([exp_softmax_alpha, x])   \n",
    "\n",
    "        if self.concat_input_with_scaled:\n",
    "            o = kl.Concatenate(axis=-1)([u,x])\n",
    "        else:\n",
    "            o = u\n",
    "        \n",
    "        return [o, softmax_alpha]\n",
    "\n",
    "    def compute_output_shape(self, input_shape): \n",
    "        return [self.out_features_shape, self.out_attention_maps_shape]\n",
    "\n",
    "    \n",
    "    def get_config(self):\n",
    "        return super(SoftAttention,self).get_config()"
   ]
  },
  {
   "cell_type": "markdown",
   "id": "8cac7e2f",
   "metadata": {},
   "source": [
    "## Base Model"
   ]
  },
  {
   "cell_type": "code",
   "execution_count": 20,
   "id": "5780bf0e",
   "metadata": {},
   "outputs": [],
   "source": [
    "MobileNetV3Large = tf.keras.applications.MobileNetV3Large(\n",
    "    include_top=True,\n",
    "    weights=\"imagenet\",\n",
    "    input_tensor=None,\n",
    "    input_shape=(224,224,3),\n",
    "    pooling=None,\n",
    "\n",
    ")\n",
    "\n",
    "inputs['image'] = MobileNetV3Large.input\n",
    "\n",
    "# Exclude the last 28 layers of the model.\n",
    "MobileNetV3Large_output = MobileNetV3Large.layers[-28].output"
   ]
  },
  {
   "cell_type": "markdown",
   "id": "5ef7d2d9",
   "metadata": {},
   "source": [
    "## Final Model"
   ]
  },
  {
   "cell_type": "code",
   "execution_count": 21,
   "id": "090c75dd",
   "metadata": {},
   "outputs": [],
   "source": [
    "attention_layer,map2 = SoftAttention(aggregate=True,m=16,concat_with_x=False,ch=int(MobileNetV3Large_output.shape[-1]),name='soft_attention')(MobileNetV3Large_output)\n",
    "attention_layer=(MaxPooling2D(pool_size=(2, 2),padding=\"same\")(attention_layer))\n",
    "MobileNetV3Large_output=(MaxPooling2D(pool_size=(2, 2),padding=\"same\")(MobileNetV3Large_output))\n",
    "\n",
    "MobileNetV3Large_output = layers.Concatenate()([MobileNetV3Large_output, attention_layer])\n",
    "MobileNetV3Large_output = Activation('relu')(MobileNetV3Large_output)\n",
    "MobileNetV3Large_output = Dropout(0.5)(MobileNetV3Large_output)"
   ]
  },
  {
   "cell_type": "code",
   "execution_count": 26,
   "id": "a22836b0",
   "metadata": {},
   "outputs": [],
   "source": [
    "output = Flatten()(MobileNetV3Large_output)\n",
    "preprocessed_inputs_cat = (layers.Dense(4096, activation = 'relu')(preprocessed_inputs_cat))\n",
    "output = layers.Concatenate()([output, preprocessed_inputs_cat])\n",
    "output = (layers.Dense(512, activation = 'relu')(output))\n",
    "output = Dense(7, activation='softmax')(output)\n",
    "model = Model(inputs=inputs, outputs=output)"
   ]
  },
  {
   "cell_type": "code",
   "execution_count": 27,
   "id": "ffd90327",
   "metadata": {},
   "outputs": [
    {
     "name": "stdout",
     "output_type": "stream",
     "text": [
      "Model: \"model_1\"\n",
      "__________________________________________________________________________________________________\n",
      " Layer (type)                   Output Shape         Param #     Connected to                     \n",
      "==================================================================================================\n",
      " input_1 (InputLayer)           [(None, 224, 224, 3  0           []                               \n",
      "                                )]                                                                \n",
      "                                                                                                  \n",
      " rescaling (Rescaling)          (None, 224, 224, 3)  0           ['input_1[0][0]']                \n",
      "                                                                                                  \n",
      " Conv (Conv2D)                  (None, 112, 112, 16  432         ['rescaling[0][0]']              \n",
      "                                )                                                                 \n",
      "                                                                                                  \n",
      " Conv/BatchNorm (BatchNormaliza  (None, 112, 112, 16  64         ['Conv[0][0]']                   \n",
      " tion)                          )                                                                 \n",
      "                                                                                                  \n",
      " tf.__operators__.add (TFOpLamb  (None, 112, 112, 16  0          ['Conv/BatchNorm[0][0]']         \n",
      " da)                            )                                                                 \n",
      "                                                                                                  \n",
      " re_lu (ReLU)                   (None, 112, 112, 16  0           ['tf.__operators__.add[0][0]']   \n",
      "                                )                                                                 \n",
      "                                                                                                  \n",
      " tf.math.multiply (TFOpLambda)  (None, 112, 112, 16  0           ['re_lu[0][0]']                  \n",
      "                                )                                                                 \n",
      "                                                                                                  \n",
      " multiply (Multiply)            (None, 112, 112, 16  0           ['Conv/BatchNorm[0][0]',         \n",
      "                                )                                 'tf.math.multiply[0][0]']       \n",
      "                                                                                                  \n",
      " expanded_conv/depthwise (Depth  (None, 112, 112, 16  144        ['multiply[0][0]']               \n",
      " wiseConv2D)                    )                                                                 \n",
      "                                                                                                  \n",
      " expanded_conv/depthwise/BatchN  (None, 112, 112, 16  64         ['expanded_conv/depthwise[0][0]']\n",
      " orm (BatchNormalization)       )                                                                 \n",
      "                                                                                                  \n",
      " re_lu_1 (ReLU)                 (None, 112, 112, 16  0           ['expanded_conv/depthwise/BatchNo\n",
      "                                )                                rm[0][0]']                       \n",
      "                                                                                                  \n",
      " expanded_conv/project (Conv2D)  (None, 112, 112, 16  256        ['re_lu_1[0][0]']                \n",
      "                                )                                                                 \n",
      "                                                                                                  \n",
      " expanded_conv/project/BatchNor  (None, 112, 112, 16  64         ['expanded_conv/project[0][0]']  \n",
      " m (BatchNormalization)         )                                                                 \n",
      "                                                                                                  \n",
      " expanded_conv/Add (Add)        (None, 112, 112, 16  0           ['multiply[0][0]',               \n",
      "                                )                                 'expanded_conv/project/BatchNorm\n",
      "                                                                 [0][0]']                         \n",
      "                                                                                                  \n",
      " expanded_conv_1/expand (Conv2D  (None, 112, 112, 64  1024       ['expanded_conv/Add[0][0]']      \n",
      " )                              )                                                                 \n",
      "                                                                                                  \n",
      " expanded_conv_1/expand/BatchNo  (None, 112, 112, 64  256        ['expanded_conv_1/expand[0][0]'] \n",
      " rm (BatchNormalization)        )                                                                 \n",
      "                                                                                                  \n",
      " re_lu_2 (ReLU)                 (None, 112, 112, 64  0           ['expanded_conv_1/expand/BatchNor\n",
      "                                )                                m[0][0]']                        \n",
      "                                                                                                  \n",
      " expanded_conv_1/depthwise/pad   (None, 113, 113, 64  0          ['re_lu_2[0][0]']                \n",
      " (ZeroPadding2D)                )                                                                 \n",
      "                                                                                                  \n",
      " expanded_conv_1/depthwise (Dep  (None, 56, 56, 64)  576         ['expanded_conv_1/depthwise/pad[0\n",
      " thwiseConv2D)                                                   ][0]']                           \n",
      "                                                                                                  \n",
      " expanded_conv_1/depthwise/Batc  (None, 56, 56, 64)  256         ['expanded_conv_1/depthwise[0][0]\n",
      " hNorm (BatchNormalization)                                      ']                               \n",
      "                                                                                                  \n",
      " re_lu_3 (ReLU)                 (None, 56, 56, 64)   0           ['expanded_conv_1/depthwise/Batch\n",
      "                                                                 Norm[0][0]']                     \n",
      "                                                                                                  \n",
      " expanded_conv_1/project (Conv2  (None, 56, 56, 24)  1536        ['re_lu_3[0][0]']                \n",
      " D)                                                                                               \n",
      "                                                                                                  \n",
      " expanded_conv_1/project/BatchN  (None, 56, 56, 24)  96          ['expanded_conv_1/project[0][0]']\n",
      " orm (BatchNormalization)                                                                         \n",
      "                                                                                                  \n",
      " expanded_conv_2/expand (Conv2D  (None, 56, 56, 72)  1728        ['expanded_conv_1/project/BatchNo\n",
      " )                                                               rm[0][0]']                       \n",
      "                                                                                                  \n",
      " expanded_conv_2/expand/BatchNo  (None, 56, 56, 72)  288         ['expanded_conv_2/expand[0][0]'] \n",
      " rm (BatchNormalization)                                                                          \n",
      "                                                                                                  \n",
      " re_lu_4 (ReLU)                 (None, 56, 56, 72)   0           ['expanded_conv_2/expand/BatchNor\n",
      "                                                                 m[0][0]']                        \n",
      "                                                                                                  \n",
      " expanded_conv_2/depthwise (Dep  (None, 56, 56, 72)  648         ['re_lu_4[0][0]']                \n",
      " thwiseConv2D)                                                                                    \n"
     ]
    },
    {
     "name": "stdout",
     "output_type": "stream",
     "text": [
      "                                                                                                  \n",
      " expanded_conv_2/depthwise/Batc  (None, 56, 56, 72)  288         ['expanded_conv_2/depthwise[0][0]\n",
      " hNorm (BatchNormalization)                                      ']                               \n",
      "                                                                                                  \n",
      " re_lu_5 (ReLU)                 (None, 56, 56, 72)   0           ['expanded_conv_2/depthwise/Batch\n",
      "                                                                 Norm[0][0]']                     \n",
      "                                                                                                  \n",
      " expanded_conv_2/project (Conv2  (None, 56, 56, 24)  1728        ['re_lu_5[0][0]']                \n",
      " D)                                                                                               \n",
      "                                                                                                  \n",
      " expanded_conv_2/project/BatchN  (None, 56, 56, 24)  96          ['expanded_conv_2/project[0][0]']\n",
      " orm (BatchNormalization)                                                                         \n",
      "                                                                                                  \n",
      " expanded_conv_2/Add (Add)      (None, 56, 56, 24)   0           ['expanded_conv_1/project/BatchNo\n",
      "                                                                 rm[0][0]',                       \n",
      "                                                                  'expanded_conv_2/project/BatchNo\n",
      "                                                                 rm[0][0]']                       \n",
      "                                                                                                  \n",
      " expanded_conv_3/expand (Conv2D  (None, 56, 56, 72)  1728        ['expanded_conv_2/Add[0][0]']    \n",
      " )                                                                                                \n",
      "                                                                                                  \n",
      " expanded_conv_3/expand/BatchNo  (None, 56, 56, 72)  288         ['expanded_conv_3/expand[0][0]'] \n",
      " rm (BatchNormalization)                                                                          \n",
      "                                                                                                  \n",
      " re_lu_6 (ReLU)                 (None, 56, 56, 72)   0           ['expanded_conv_3/expand/BatchNor\n",
      "                                                                 m[0][0]']                        \n",
      "                                                                                                  \n",
      " expanded_conv_3/depthwise/pad   (None, 59, 59, 72)  0           ['re_lu_6[0][0]']                \n",
      " (ZeroPadding2D)                                                                                  \n",
      "                                                                                                  \n",
      " expanded_conv_3/depthwise (Dep  (None, 28, 28, 72)  1800        ['expanded_conv_3/depthwise/pad[0\n",
      " thwiseConv2D)                                                   ][0]']                           \n",
      "                                                                                                  \n",
      " expanded_conv_3/depthwise/Batc  (None, 28, 28, 72)  288         ['expanded_conv_3/depthwise[0][0]\n",
      " hNorm (BatchNormalization)                                      ']                               \n",
      "                                                                                                  \n",
      " re_lu_7 (ReLU)                 (None, 28, 28, 72)   0           ['expanded_conv_3/depthwise/Batch\n",
      "                                                                 Norm[0][0]']                     \n",
      "                                                                                                  \n",
      " expanded_conv_3/squeeze_excite  (None, 1, 1, 72)    0           ['re_lu_7[0][0]']                \n",
      " /AvgPool (GlobalAveragePooling                                                                   \n",
      " 2D)                                                                                              \n",
      "                                                                                                  \n",
      " expanded_conv_3/squeeze_excite  (None, 1, 1, 24)    1752        ['expanded_conv_3/squeeze_excite/\n",
      " /Conv (Conv2D)                                                  AvgPool[0][0]']                  \n",
      "                                                                                                  \n",
      " expanded_conv_3/squeeze_excite  (None, 1, 1, 24)    0           ['expanded_conv_3/squeeze_excite/\n",
      " /Relu (ReLU)                                                    Conv[0][0]']                     \n",
      "                                                                                                  \n",
      " expanded_conv_3/squeeze_excite  (None, 1, 1, 72)    1800        ['expanded_conv_3/squeeze_excite/\n",
      " /Conv_1 (Conv2D)                                                Relu[0][0]']                     \n",
      "                                                                                                  \n",
      " tf.__operators__.add_1 (TFOpLa  (None, 1, 1, 72)    0           ['expanded_conv_3/squeeze_excite/\n",
      " mbda)                                                           Conv_1[0][0]']                   \n",
      "                                                                                                  \n",
      " re_lu_8 (ReLU)                 (None, 1, 1, 72)     0           ['tf.__operators__.add_1[0][0]'] \n",
      "                                                                                                  \n",
      " tf.math.multiply_1 (TFOpLambda  (None, 1, 1, 72)    0           ['re_lu_8[0][0]']                \n",
      " )                                                                                                \n",
      "                                                                                                  \n",
      " expanded_conv_3/squeeze_excite  (None, 28, 28, 72)  0           ['re_lu_7[0][0]',                \n",
      " /Mul (Multiply)                                                  'tf.math.multiply_1[0][0]']     \n",
      "                                                                                                  \n",
      " expanded_conv_3/project (Conv2  (None, 28, 28, 40)  2880        ['expanded_conv_3/squeeze_excite/\n",
      " D)                                                              Mul[0][0]']                      \n",
      "                                                                                                  \n",
      " expanded_conv_3/project/BatchN  (None, 28, 28, 40)  160         ['expanded_conv_3/project[0][0]']\n",
      " orm (BatchNormalization)                                                                         \n",
      "                                                                                                  \n",
      " expanded_conv_4/expand (Conv2D  (None, 28, 28, 120)  4800       ['expanded_conv_3/project/BatchNo\n",
      " )                                                               rm[0][0]']                       \n",
      "                                                                                                  \n",
      " expanded_conv_4/expand/BatchNo  (None, 28, 28, 120)  480        ['expanded_conv_4/expand[0][0]'] \n",
      " rm (BatchNormalization)                                                                          \n",
      "                                                                                                  \n",
      " re_lu_9 (ReLU)                 (None, 28, 28, 120)  0           ['expanded_conv_4/expand/BatchNor\n",
      "                                                                 m[0][0]']                        \n",
      "                                                                                                  \n",
      " expanded_conv_4/depthwise (Dep  (None, 28, 28, 120)  3000       ['re_lu_9[0][0]']                \n",
      " thwiseConv2D)                                                                                    \n",
      "                                                                                                  \n",
      " expanded_conv_4/depthwise/Batc  (None, 28, 28, 120)  480        ['expanded_conv_4/depthwise[0][0]\n",
      " hNorm (BatchNormalization)                                      ']                               \n"
     ]
    },
    {
     "name": "stdout",
     "output_type": "stream",
     "text": [
      "                                                                                                  \n",
      " re_lu_10 (ReLU)                (None, 28, 28, 120)  0           ['expanded_conv_4/depthwise/Batch\n",
      "                                                                 Norm[0][0]']                     \n",
      "                                                                                                  \n",
      " expanded_conv_4/squeeze_excite  (None, 1, 1, 120)   0           ['re_lu_10[0][0]']               \n",
      " /AvgPool (GlobalAveragePooling                                                                   \n",
      " 2D)                                                                                              \n",
      "                                                                                                  \n",
      " expanded_conv_4/squeeze_excite  (None, 1, 1, 32)    3872        ['expanded_conv_4/squeeze_excite/\n",
      " /Conv (Conv2D)                                                  AvgPool[0][0]']                  \n",
      "                                                                                                  \n",
      " expanded_conv_4/squeeze_excite  (None, 1, 1, 32)    0           ['expanded_conv_4/squeeze_excite/\n",
      " /Relu (ReLU)                                                    Conv[0][0]']                     \n",
      "                                                                                                  \n",
      " expanded_conv_4/squeeze_excite  (None, 1, 1, 120)   3960        ['expanded_conv_4/squeeze_excite/\n",
      " /Conv_1 (Conv2D)                                                Relu[0][0]']                     \n",
      "                                                                                                  \n",
      " tf.__operators__.add_2 (TFOpLa  (None, 1, 1, 120)   0           ['expanded_conv_4/squeeze_excite/\n",
      " mbda)                                                           Conv_1[0][0]']                   \n",
      "                                                                                                  \n",
      " re_lu_11 (ReLU)                (None, 1, 1, 120)    0           ['tf.__operators__.add_2[0][0]'] \n",
      "                                                                                                  \n",
      " tf.math.multiply_2 (TFOpLambda  (None, 1, 1, 120)   0           ['re_lu_11[0][0]']               \n",
      " )                                                                                                \n",
      "                                                                                                  \n",
      " expanded_conv_4/squeeze_excite  (None, 28, 28, 120)  0          ['re_lu_10[0][0]',               \n",
      " /Mul (Multiply)                                                  'tf.math.multiply_2[0][0]']     \n",
      "                                                                                                  \n",
      " expanded_conv_4/project (Conv2  (None, 28, 28, 40)  4800        ['expanded_conv_4/squeeze_excite/\n",
      " D)                                                              Mul[0][0]']                      \n",
      "                                                                                                  \n",
      " expanded_conv_4/project/BatchN  (None, 28, 28, 40)  160         ['expanded_conv_4/project[0][0]']\n",
      " orm (BatchNormalization)                                                                         \n",
      "                                                                                                  \n",
      " expanded_conv_4/Add (Add)      (None, 28, 28, 40)   0           ['expanded_conv_3/project/BatchNo\n",
      "                                                                 rm[0][0]',                       \n",
      "                                                                  'expanded_conv_4/project/BatchNo\n",
      "                                                                 rm[0][0]']                       \n",
      "                                                                                                  \n",
      " expanded_conv_5/expand (Conv2D  (None, 28, 28, 120)  4800       ['expanded_conv_4/Add[0][0]']    \n",
      " )                                                                                                \n",
      "                                                                                                  \n",
      " expanded_conv_5/expand/BatchNo  (None, 28, 28, 120)  480        ['expanded_conv_5/expand[0][0]'] \n",
      " rm (BatchNormalization)                                                                          \n",
      "                                                                                                  \n",
      " re_lu_12 (ReLU)                (None, 28, 28, 120)  0           ['expanded_conv_5/expand/BatchNor\n",
      "                                                                 m[0][0]']                        \n",
      "                                                                                                  \n",
      " expanded_conv_5/depthwise (Dep  (None, 28, 28, 120)  3000       ['re_lu_12[0][0]']               \n",
      " thwiseConv2D)                                                                                    \n",
      "                                                                                                  \n",
      " expanded_conv_5/depthwise/Batc  (None, 28, 28, 120)  480        ['expanded_conv_5/depthwise[0][0]\n",
      " hNorm (BatchNormalization)                                      ']                               \n",
      "                                                                                                  \n",
      " re_lu_13 (ReLU)                (None, 28, 28, 120)  0           ['expanded_conv_5/depthwise/Batch\n",
      "                                                                 Norm[0][0]']                     \n",
      "                                                                                                  \n",
      " expanded_conv_5/squeeze_excite  (None, 1, 1, 120)   0           ['re_lu_13[0][0]']               \n",
      " /AvgPool (GlobalAveragePooling                                                                   \n",
      " 2D)                                                                                              \n",
      "                                                                                                  \n",
      " expanded_conv_5/squeeze_excite  (None, 1, 1, 32)    3872        ['expanded_conv_5/squeeze_excite/\n",
      " /Conv (Conv2D)                                                  AvgPool[0][0]']                  \n",
      "                                                                                                  \n",
      " expanded_conv_5/squeeze_excite  (None, 1, 1, 32)    0           ['expanded_conv_5/squeeze_excite/\n",
      " /Relu (ReLU)                                                    Conv[0][0]']                     \n",
      "                                                                                                  \n",
      " expanded_conv_5/squeeze_excite  (None, 1, 1, 120)   3960        ['expanded_conv_5/squeeze_excite/\n",
      " /Conv_1 (Conv2D)                                                Relu[0][0]']                     \n",
      "                                                                                                  \n",
      " tf.__operators__.add_3 (TFOpLa  (None, 1, 1, 120)   0           ['expanded_conv_5/squeeze_excite/\n",
      " mbda)                                                           Conv_1[0][0]']                   \n",
      "                                                                                                  \n",
      " re_lu_14 (ReLU)                (None, 1, 1, 120)    0           ['tf.__operators__.add_3[0][0]'] \n",
      "                                                                                                  \n",
      " tf.math.multiply_3 (TFOpLambda  (None, 1, 1, 120)   0           ['re_lu_14[0][0]']               \n",
      " )                                                                                                \n",
      "                                                                                                  \n",
      " expanded_conv_5/squeeze_excite  (None, 28, 28, 120)  0          ['re_lu_13[0][0]',               \n",
      " /Mul (Multiply)                                                  'tf.math.multiply_3[0][0]']     \n",
      "                                                                                                  \n",
      " expanded_conv_5/project (Conv2  (None, 28, 28, 40)  4800        ['expanded_conv_5/squeeze_excite/\n",
      " D)                                                              Mul[0][0]']                      \n"
     ]
    },
    {
     "name": "stdout",
     "output_type": "stream",
     "text": [
      "                                                                                                  \n",
      " expanded_conv_5/project/BatchN  (None, 28, 28, 40)  160         ['expanded_conv_5/project[0][0]']\n",
      " orm (BatchNormalization)                                                                         \n",
      "                                                                                                  \n",
      " expanded_conv_5/Add (Add)      (None, 28, 28, 40)   0           ['expanded_conv_4/Add[0][0]',    \n",
      "                                                                  'expanded_conv_5/project/BatchNo\n",
      "                                                                 rm[0][0]']                       \n",
      "                                                                                                  \n",
      " expanded_conv_6/expand (Conv2D  (None, 28, 28, 240)  9600       ['expanded_conv_5/Add[0][0]']    \n",
      " )                                                                                                \n",
      "                                                                                                  \n",
      " expanded_conv_6/expand/BatchNo  (None, 28, 28, 240)  960        ['expanded_conv_6/expand[0][0]'] \n",
      " rm (BatchNormalization)                                                                          \n",
      "                                                                                                  \n",
      " tf.__operators__.add_4 (TFOpLa  (None, 28, 28, 240)  0          ['expanded_conv_6/expand/BatchNor\n",
      " mbda)                                                           m[0][0]']                        \n",
      "                                                                                                  \n",
      " re_lu_15 (ReLU)                (None, 28, 28, 240)  0           ['tf.__operators__.add_4[0][0]'] \n",
      "                                                                                                  \n",
      " tf.math.multiply_4 (TFOpLambda  (None, 28, 28, 240)  0          ['re_lu_15[0][0]']               \n",
      " )                                                                                                \n",
      "                                                                                                  \n",
      " multiply_1 (Multiply)          (None, 28, 28, 240)  0           ['expanded_conv_6/expand/BatchNor\n",
      "                                                                 m[0][0]',                        \n",
      "                                                                  'tf.math.multiply_4[0][0]']     \n",
      "                                                                                                  \n",
      " expanded_conv_6/depthwise/pad   (None, 29, 29, 240)  0          ['multiply_1[0][0]']             \n",
      " (ZeroPadding2D)                                                                                  \n",
      "                                                                                                  \n",
      " expanded_conv_6/depthwise (Dep  (None, 14, 14, 240)  2160       ['expanded_conv_6/depthwise/pad[0\n",
      " thwiseConv2D)                                                   ][0]']                           \n",
      "                                                                                                  \n",
      " expanded_conv_6/depthwise/Batc  (None, 14, 14, 240)  960        ['expanded_conv_6/depthwise[0][0]\n",
      " hNorm (BatchNormalization)                                      ']                               \n",
      "                                                                                                  \n",
      " tf.__operators__.add_5 (TFOpLa  (None, 14, 14, 240)  0          ['expanded_conv_6/depthwise/Batch\n",
      " mbda)                                                           Norm[0][0]']                     \n",
      "                                                                                                  \n",
      " re_lu_16 (ReLU)                (None, 14, 14, 240)  0           ['tf.__operators__.add_5[0][0]'] \n",
      "                                                                                                  \n",
      " tf.math.multiply_5 (TFOpLambda  (None, 14, 14, 240)  0          ['re_lu_16[0][0]']               \n",
      " )                                                                                                \n",
      "                                                                                                  \n",
      " multiply_2 (Multiply)          (None, 14, 14, 240)  0           ['expanded_conv_6/depthwise/Batch\n",
      "                                                                 Norm[0][0]',                     \n",
      "                                                                  'tf.math.multiply_5[0][0]']     \n",
      "                                                                                                  \n",
      " expanded_conv_6/project (Conv2  (None, 14, 14, 80)  19200       ['multiply_2[0][0]']             \n",
      " D)                                                                                               \n",
      "                                                                                                  \n",
      " expanded_conv_6/project/BatchN  (None, 14, 14, 80)  320         ['expanded_conv_6/project[0][0]']\n",
      " orm (BatchNormalization)                                                                         \n",
      "                                                                                                  \n",
      " expanded_conv_7/expand (Conv2D  (None, 14, 14, 200)  16000      ['expanded_conv_6/project/BatchNo\n",
      " )                                                               rm[0][0]']                       \n",
      "                                                                                                  \n",
      " expanded_conv_7/expand/BatchNo  (None, 14, 14, 200)  800        ['expanded_conv_7/expand[0][0]'] \n",
      " rm (BatchNormalization)                                                                          \n",
      "                                                                                                  \n",
      " tf.__operators__.add_6 (TFOpLa  (None, 14, 14, 200)  0          ['expanded_conv_7/expand/BatchNor\n",
      " mbda)                                                           m[0][0]']                        \n",
      "                                                                                                  \n",
      " re_lu_17 (ReLU)                (None, 14, 14, 200)  0           ['tf.__operators__.add_6[0][0]'] \n",
      "                                                                                                  \n",
      " tf.math.multiply_6 (TFOpLambda  (None, 14, 14, 200)  0          ['re_lu_17[0][0]']               \n",
      " )                                                                                                \n",
      "                                                                                                  \n",
      " multiply_3 (Multiply)          (None, 14, 14, 200)  0           ['expanded_conv_7/expand/BatchNor\n",
      "                                                                 m[0][0]',                        \n",
      "                                                                  'tf.math.multiply_6[0][0]']     \n",
      "                                                                                                  \n",
      " expanded_conv_7/depthwise (Dep  (None, 14, 14, 200)  1800       ['multiply_3[0][0]']             \n",
      " thwiseConv2D)                                                                                    \n",
      "                                                                                                  \n",
      " expanded_conv_7/depthwise/Batc  (None, 14, 14, 200)  800        ['expanded_conv_7/depthwise[0][0]\n",
      " hNorm (BatchNormalization)                                      ']                               \n",
      "                                                                                                  \n",
      " tf.__operators__.add_7 (TFOpLa  (None, 14, 14, 200)  0          ['expanded_conv_7/depthwise/Batch\n",
      " mbda)                                                           Norm[0][0]']                     \n",
      "                                                                                                  \n",
      " re_lu_18 (ReLU)                (None, 14, 14, 200)  0           ['tf.__operators__.add_7[0][0]'] \n",
      "                                                                                                  \n",
      " tf.math.multiply_7 (TFOpLambda  (None, 14, 14, 200)  0          ['re_lu_18[0][0]']               \n"
     ]
    },
    {
     "name": "stdout",
     "output_type": "stream",
     "text": [
      " )                                                                                                \n",
      "                                                                                                  \n",
      " multiply_4 (Multiply)          (None, 14, 14, 200)  0           ['expanded_conv_7/depthwise/Batch\n",
      "                                                                 Norm[0][0]',                     \n",
      "                                                                  'tf.math.multiply_7[0][0]']     \n",
      "                                                                                                  \n",
      " expanded_conv_7/project (Conv2  (None, 14, 14, 80)  16000       ['multiply_4[0][0]']             \n",
      " D)                                                                                               \n",
      "                                                                                                  \n",
      " expanded_conv_7/project/BatchN  (None, 14, 14, 80)  320         ['expanded_conv_7/project[0][0]']\n",
      " orm (BatchNormalization)                                                                         \n",
      "                                                                                                  \n",
      " expanded_conv_7/Add (Add)      (None, 14, 14, 80)   0           ['expanded_conv_6/project/BatchNo\n",
      "                                                                 rm[0][0]',                       \n",
      "                                                                  'expanded_conv_7/project/BatchNo\n",
      "                                                                 rm[0][0]']                       \n",
      "                                                                                                  \n",
      " expanded_conv_8/expand (Conv2D  (None, 14, 14, 184)  14720      ['expanded_conv_7/Add[0][0]']    \n",
      " )                                                                                                \n",
      "                                                                                                  \n",
      " expanded_conv_8/expand/BatchNo  (None, 14, 14, 184)  736        ['expanded_conv_8/expand[0][0]'] \n",
      " rm (BatchNormalization)                                                                          \n",
      "                                                                                                  \n",
      " tf.__operators__.add_8 (TFOpLa  (None, 14, 14, 184)  0          ['expanded_conv_8/expand/BatchNor\n",
      " mbda)                                                           m[0][0]']                        \n",
      "                                                                                                  \n",
      " re_lu_19 (ReLU)                (None, 14, 14, 184)  0           ['tf.__operators__.add_8[0][0]'] \n",
      "                                                                                                  \n",
      " tf.math.multiply_8 (TFOpLambda  (None, 14, 14, 184)  0          ['re_lu_19[0][0]']               \n",
      " )                                                                                                \n",
      "                                                                                                  \n",
      " multiply_5 (Multiply)          (None, 14, 14, 184)  0           ['expanded_conv_8/expand/BatchNor\n",
      "                                                                 m[0][0]',                        \n",
      "                                                                  'tf.math.multiply_8[0][0]']     \n",
      "                                                                                                  \n",
      " expanded_conv_8/depthwise (Dep  (None, 14, 14, 184)  1656       ['multiply_5[0][0]']             \n",
      " thwiseConv2D)                                                                                    \n",
      "                                                                                                  \n",
      " expanded_conv_8/depthwise/Batc  (None, 14, 14, 184)  736        ['expanded_conv_8/depthwise[0][0]\n",
      " hNorm (BatchNormalization)                                      ']                               \n",
      "                                                                                                  \n",
      " tf.__operators__.add_9 (TFOpLa  (None, 14, 14, 184)  0          ['expanded_conv_8/depthwise/Batch\n",
      " mbda)                                                           Norm[0][0]']                     \n",
      "                                                                                                  \n",
      " re_lu_20 (ReLU)                (None, 14, 14, 184)  0           ['tf.__operators__.add_9[0][0]'] \n",
      "                                                                                                  \n",
      " tf.math.multiply_9 (TFOpLambda  (None, 14, 14, 184)  0          ['re_lu_20[0][0]']               \n",
      " )                                                                                                \n",
      "                                                                                                  \n",
      " multiply_6 (Multiply)          (None, 14, 14, 184)  0           ['expanded_conv_8/depthwise/Batch\n",
      "                                                                 Norm[0][0]',                     \n",
      "                                                                  'tf.math.multiply_9[0][0]']     \n",
      "                                                                                                  \n",
      " expanded_conv_8/project (Conv2  (None, 14, 14, 80)  14720       ['multiply_6[0][0]']             \n",
      " D)                                                                                               \n",
      "                                                                                                  \n",
      " expanded_conv_8/project/BatchN  (None, 14, 14, 80)  320         ['expanded_conv_8/project[0][0]']\n",
      " orm (BatchNormalization)                                                                         \n",
      "                                                                                                  \n",
      " expanded_conv_8/Add (Add)      (None, 14, 14, 80)   0           ['expanded_conv_7/Add[0][0]',    \n",
      "                                                                  'expanded_conv_8/project/BatchNo\n",
      "                                                                 rm[0][0]']                       \n",
      "                                                                                                  \n",
      " expanded_conv_9/expand (Conv2D  (None, 14, 14, 184)  14720      ['expanded_conv_8/Add[0][0]']    \n",
      " )                                                                                                \n",
      "                                                                                                  \n",
      " expanded_conv_9/expand/BatchNo  (None, 14, 14, 184)  736        ['expanded_conv_9/expand[0][0]'] \n",
      " rm (BatchNormalization)                                                                          \n",
      "                                                                                                  \n",
      " tf.__operators__.add_10 (TFOpL  (None, 14, 14, 184)  0          ['expanded_conv_9/expand/BatchNor\n",
      " ambda)                                                          m[0][0]']                        \n",
      "                                                                                                  \n",
      " re_lu_21 (ReLU)                (None, 14, 14, 184)  0           ['tf.__operators__.add_10[0][0]']\n",
      "                                                                                                  \n",
      " tf.math.multiply_10 (TFOpLambd  (None, 14, 14, 184)  0          ['re_lu_21[0][0]']               \n",
      " a)                                                                                               \n",
      "                                                                                                  \n",
      " multiply_7 (Multiply)          (None, 14, 14, 184)  0           ['expanded_conv_9/expand/BatchNor\n",
      "                                                                 m[0][0]',                        \n",
      "                                                                  'tf.math.multiply_10[0][0]']    \n",
      "                                                                                                  \n",
      " expanded_conv_9/depthwise (Dep  (None, 14, 14, 184)  1656       ['multiply_7[0][0]']             \n",
      " thwiseConv2D)                                                                                    \n"
     ]
    },
    {
     "name": "stdout",
     "output_type": "stream",
     "text": [
      "                                                                                                  \n",
      " expanded_conv_9/depthwise/Batc  (None, 14, 14, 184)  736        ['expanded_conv_9/depthwise[0][0]\n",
      " hNorm (BatchNormalization)                                      ']                               \n",
      "                                                                                                  \n",
      " tf.__operators__.add_11 (TFOpL  (None, 14, 14, 184)  0          ['expanded_conv_9/depthwise/Batch\n",
      " ambda)                                                          Norm[0][0]']                     \n",
      "                                                                                                  \n",
      " re_lu_22 (ReLU)                (None, 14, 14, 184)  0           ['tf.__operators__.add_11[0][0]']\n",
      "                                                                                                  \n",
      " tf.math.multiply_11 (TFOpLambd  (None, 14, 14, 184)  0          ['re_lu_22[0][0]']               \n",
      " a)                                                                                               \n",
      "                                                                                                  \n",
      " multiply_8 (Multiply)          (None, 14, 14, 184)  0           ['expanded_conv_9/depthwise/Batch\n",
      "                                                                 Norm[0][0]',                     \n",
      "                                                                  'tf.math.multiply_11[0][0]']    \n",
      "                                                                                                  \n",
      " expanded_conv_9/project (Conv2  (None, 14, 14, 80)  14720       ['multiply_8[0][0]']             \n",
      " D)                                                                                               \n",
      "                                                                                                  \n",
      " expanded_conv_9/project/BatchN  (None, 14, 14, 80)  320         ['expanded_conv_9/project[0][0]']\n",
      " orm (BatchNormalization)                                                                         \n",
      "                                                                                                  \n",
      " expanded_conv_9/Add (Add)      (None, 14, 14, 80)   0           ['expanded_conv_8/Add[0][0]',    \n",
      "                                                                  'expanded_conv_9/project/BatchNo\n",
      "                                                                 rm[0][0]']                       \n",
      "                                                                                                  \n",
      " expanded_conv_10/expand (Conv2  (None, 14, 14, 480)  38400      ['expanded_conv_9/Add[0][0]']    \n",
      " D)                                                                                               \n",
      "                                                                                                  \n",
      " expanded_conv_10/expand/BatchN  (None, 14, 14, 480)  1920       ['expanded_conv_10/expand[0][0]']\n",
      " orm (BatchNormalization)                                                                         \n",
      "                                                                                                  \n",
      " tf.__operators__.add_12 (TFOpL  (None, 14, 14, 480)  0          ['expanded_conv_10/expand/BatchNo\n",
      " ambda)                                                          rm[0][0]']                       \n",
      "                                                                                                  \n",
      " re_lu_23 (ReLU)                (None, 14, 14, 480)  0           ['tf.__operators__.add_12[0][0]']\n",
      "                                                                                                  \n",
      " tf.math.multiply_12 (TFOpLambd  (None, 14, 14, 480)  0          ['re_lu_23[0][0]']               \n",
      " a)                                                                                               \n",
      "                                                                                                  \n",
      " multiply_9 (Multiply)          (None, 14, 14, 480)  0           ['expanded_conv_10/expand/BatchNo\n",
      "                                                                 rm[0][0]',                       \n",
      "                                                                  'tf.math.multiply_12[0][0]']    \n",
      "                                                                                                  \n",
      " expanded_conv_10/depthwise (De  (None, 14, 14, 480)  4320       ['multiply_9[0][0]']             \n",
      " pthwiseConv2D)                                                                                   \n",
      "                                                                                                  \n",
      " expanded_conv_10/depthwise/Bat  (None, 14, 14, 480)  1920       ['expanded_conv_10/depthwise[0][0\n",
      " chNorm (BatchNormalization)                                     ]']                              \n",
      "                                                                                                  \n",
      " tf.__operators__.add_13 (TFOpL  (None, 14, 14, 480)  0          ['expanded_conv_10/depthwise/Batc\n",
      " ambda)                                                          hNorm[0][0]']                    \n",
      "                                                                                                  \n",
      " re_lu_24 (ReLU)                (None, 14, 14, 480)  0           ['tf.__operators__.add_13[0][0]']\n",
      "                                                                                                  \n",
      " tf.math.multiply_13 (TFOpLambd  (None, 14, 14, 480)  0          ['re_lu_24[0][0]']               \n",
      " a)                                                                                               \n",
      "                                                                                                  \n",
      " multiply_10 (Multiply)         (None, 14, 14, 480)  0           ['expanded_conv_10/depthwise/Batc\n",
      "                                                                 hNorm[0][0]',                    \n",
      "                                                                  'tf.math.multiply_13[0][0]']    \n",
      "                                                                                                  \n",
      " expanded_conv_10/squeeze_excit  (None, 1, 1, 480)   0           ['multiply_10[0][0]']            \n",
      " e/AvgPool (GlobalAveragePoolin                                                                   \n",
      " g2D)                                                                                             \n",
      "                                                                                                  \n",
      " expanded_conv_10/squeeze_excit  (None, 1, 1, 120)   57720       ['expanded_conv_10/squeeze_excite\n",
      " e/Conv (Conv2D)                                                 /AvgPool[0][0]']                 \n",
      "                                                                                                  \n",
      " expanded_conv_10/squeeze_excit  (None, 1, 1, 120)   0           ['expanded_conv_10/squeeze_excite\n",
      " e/Relu (ReLU)                                                   /Conv[0][0]']                    \n",
      "                                                                                                  \n",
      " expanded_conv_10/squeeze_excit  (None, 1, 1, 480)   58080       ['expanded_conv_10/squeeze_excite\n",
      " e/Conv_1 (Conv2D)                                               /Relu[0][0]']                    \n",
      "                                                                                                  \n",
      " tf.__operators__.add_14 (TFOpL  (None, 1, 1, 480)   0           ['expanded_conv_10/squeeze_excite\n",
      " ambda)                                                          /Conv_1[0][0]']                  \n",
      "                                                                                                  \n",
      " re_lu_25 (ReLU)                (None, 1, 1, 480)    0           ['tf.__operators__.add_14[0][0]']\n",
      "                                                                                                  \n",
      " tf.math.multiply_14 (TFOpLambd  (None, 1, 1, 480)   0           ['re_lu_25[0][0]']               \n",
      " a)                                                                                               \n",
      "                                                                                                  \n"
     ]
    },
    {
     "name": "stdout",
     "output_type": "stream",
     "text": [
      " expanded_conv_10/squeeze_excit  (None, 14, 14, 480)  0          ['multiply_10[0][0]',            \n",
      " e/Mul (Multiply)                                                 'tf.math.multiply_14[0][0]']    \n",
      "                                                                                                  \n",
      " expanded_conv_10/project (Conv  (None, 14, 14, 112)  53760      ['expanded_conv_10/squeeze_excite\n",
      " 2D)                                                             /Mul[0][0]']                     \n",
      "                                                                                                  \n",
      " expanded_conv_10/project/Batch  (None, 14, 14, 112)  448        ['expanded_conv_10/project[0][0]'\n",
      " Norm (BatchNormalization)                                       ]                                \n",
      "                                                                                                  \n",
      " expanded_conv_11/expand (Conv2  (None, 14, 14, 672)  75264      ['expanded_conv_10/project/BatchN\n",
      " D)                                                              orm[0][0]']                      \n",
      "                                                                                                  \n",
      " expanded_conv_11/expand/BatchN  (None, 14, 14, 672)  2688       ['expanded_conv_11/expand[0][0]']\n",
      " orm (BatchNormalization)                                                                         \n",
      "                                                                                                  \n",
      " tf.__operators__.add_15 (TFOpL  (None, 14, 14, 672)  0          ['expanded_conv_11/expand/BatchNo\n",
      " ambda)                                                          rm[0][0]']                       \n",
      "                                                                                                  \n",
      " re_lu_26 (ReLU)                (None, 14, 14, 672)  0           ['tf.__operators__.add_15[0][0]']\n",
      "                                                                                                  \n",
      " tf.math.multiply_15 (TFOpLambd  (None, 14, 14, 672)  0          ['re_lu_26[0][0]']               \n",
      " a)                                                                                               \n",
      "                                                                                                  \n",
      " multiply_11 (Multiply)         (None, 14, 14, 672)  0           ['expanded_conv_11/expand/BatchNo\n",
      "                                                                 rm[0][0]',                       \n",
      "                                                                  'tf.math.multiply_15[0][0]']    \n",
      "                                                                                                  \n",
      " expanded_conv_11/depthwise (De  (None, 14, 14, 672)  6048       ['multiply_11[0][0]']            \n",
      " pthwiseConv2D)                                                                                   \n",
      "                                                                                                  \n",
      " expanded_conv_11/depthwise/Bat  (None, 14, 14, 672)  2688       ['expanded_conv_11/depthwise[0][0\n",
      " chNorm (BatchNormalization)                                     ]']                              \n",
      "                                                                                                  \n",
      " tf.__operators__.add_16 (TFOpL  (None, 14, 14, 672)  0          ['expanded_conv_11/depthwise/Batc\n",
      " ambda)                                                          hNorm[0][0]']                    \n",
      "                                                                                                  \n",
      " re_lu_27 (ReLU)                (None, 14, 14, 672)  0           ['tf.__operators__.add_16[0][0]']\n",
      "                                                                                                  \n",
      " tf.math.multiply_16 (TFOpLambd  (None, 14, 14, 672)  0          ['re_lu_27[0][0]']               \n",
      " a)                                                                                               \n",
      "                                                                                                  \n",
      " multiply_12 (Multiply)         (None, 14, 14, 672)  0           ['expanded_conv_11/depthwise/Batc\n",
      "                                                                 hNorm[0][0]',                    \n",
      "                                                                  'tf.math.multiply_16[0][0]']    \n",
      "                                                                                                  \n",
      " expanded_conv_11/squeeze_excit  (None, 1, 1, 672)   0           ['multiply_12[0][0]']            \n",
      " e/AvgPool (GlobalAveragePoolin                                                                   \n",
      " g2D)                                                                                             \n",
      "                                                                                                  \n",
      " expanded_conv_11/squeeze_excit  (None, 1, 1, 168)   113064      ['expanded_conv_11/squeeze_excite\n",
      " e/Conv (Conv2D)                                                 /AvgPool[0][0]']                 \n",
      "                                                                                                  \n",
      " expanded_conv_11/squeeze_excit  (None, 1, 1, 168)   0           ['expanded_conv_11/squeeze_excite\n",
      " e/Relu (ReLU)                                                   /Conv[0][0]']                    \n",
      "                                                                                                  \n",
      " expanded_conv_11/squeeze_excit  (None, 1, 1, 672)   113568      ['expanded_conv_11/squeeze_excite\n",
      " e/Conv_1 (Conv2D)                                               /Relu[0][0]']                    \n",
      "                                                                                                  \n",
      " tf.__operators__.add_17 (TFOpL  (None, 1, 1, 672)   0           ['expanded_conv_11/squeeze_excite\n",
      " ambda)                                                          /Conv_1[0][0]']                  \n",
      "                                                                                                  \n",
      " re_lu_28 (ReLU)                (None, 1, 1, 672)    0           ['tf.__operators__.add_17[0][0]']\n",
      "                                                                                                  \n",
      " tf.math.multiply_17 (TFOpLambd  (None, 1, 1, 672)   0           ['re_lu_28[0][0]']               \n",
      " a)                                                                                               \n",
      "                                                                                                  \n",
      " expanded_conv_11/squeeze_excit  (None, 14, 14, 672)  0          ['multiply_12[0][0]',            \n",
      " e/Mul (Multiply)                                                 'tf.math.multiply_17[0][0]']    \n",
      "                                                                                                  \n",
      " expanded_conv_11/project (Conv  (None, 14, 14, 112)  75264      ['expanded_conv_11/squeeze_excite\n",
      " 2D)                                                             /Mul[0][0]']                     \n",
      "                                                                                                  \n",
      " expanded_conv_11/project/Batch  (None, 14, 14, 112)  448        ['expanded_conv_11/project[0][0]'\n",
      " Norm (BatchNormalization)                                       ]                                \n",
      "                                                                                                  \n",
      " expanded_conv_11/Add (Add)     (None, 14, 14, 112)  0           ['expanded_conv_10/project/BatchN\n",
      "                                                                 orm[0][0]',                      \n",
      "                                                                  'expanded_conv_11/project/BatchN\n",
      "                                                                 orm[0][0]']                      \n",
      "                                                                                                  \n",
      " expanded_conv_12/expand (Conv2  (None, 14, 14, 672)  75264      ['expanded_conv_11/Add[0][0]']   \n",
      " D)                                                                                               \n",
      "                                                                                                  \n"
     ]
    },
    {
     "name": "stdout",
     "output_type": "stream",
     "text": [
      " expanded_conv_12/expand/BatchN  (None, 14, 14, 672)  2688       ['expanded_conv_12/expand[0][0]']\n",
      " orm (BatchNormalization)                                                                         \n",
      "                                                                                                  \n",
      " tf.__operators__.add_18 (TFOpL  (None, 14, 14, 672)  0          ['expanded_conv_12/expand/BatchNo\n",
      " ambda)                                                          rm[0][0]']                       \n",
      "                                                                                                  \n",
      " re_lu_29 (ReLU)                (None, 14, 14, 672)  0           ['tf.__operators__.add_18[0][0]']\n",
      "                                                                                                  \n",
      " tf.math.multiply_18 (TFOpLambd  (None, 14, 14, 672)  0          ['re_lu_29[0][0]']               \n",
      " a)                                                                                               \n",
      "                                                                                                  \n",
      " multiply_13 (Multiply)         (None, 14, 14, 672)  0           ['expanded_conv_12/expand/BatchNo\n",
      "                                                                 rm[0][0]',                       \n",
      "                                                                  'tf.math.multiply_18[0][0]']    \n",
      "                                                                                                  \n",
      " expanded_conv_12/depthwise/pad  (None, 17, 17, 672)  0          ['multiply_13[0][0]']            \n",
      "  (ZeroPadding2D)                                                                                 \n",
      "                                                                                                  \n",
      " expanded_conv_12/depthwise (De  (None, 7, 7, 672)   16800       ['expanded_conv_12/depthwise/pad[\n",
      " pthwiseConv2D)                                                  0][0]']                          \n",
      "                                                                                                  \n",
      " expanded_conv_12/depthwise/Bat  (None, 7, 7, 672)   2688        ['expanded_conv_12/depthwise[0][0\n",
      " chNorm (BatchNormalization)                                     ]']                              \n",
      "                                                                                                  \n",
      " tf.__operators__.add_19 (TFOpL  (None, 7, 7, 672)   0           ['expanded_conv_12/depthwise/Batc\n",
      " ambda)                                                          hNorm[0][0]']                    \n",
      "                                                                                                  \n",
      " re_lu_30 (ReLU)                (None, 7, 7, 672)    0           ['tf.__operators__.add_19[0][0]']\n",
      "                                                                                                  \n",
      " tf.math.multiply_19 (TFOpLambd  (None, 7, 7, 672)   0           ['re_lu_30[0][0]']               \n",
      " a)                                                                                               \n",
      "                                                                                                  \n",
      " multiply_14 (Multiply)         (None, 7, 7, 672)    0           ['expanded_conv_12/depthwise/Batc\n",
      "                                                                 hNorm[0][0]',                    \n",
      "                                                                  'tf.math.multiply_19[0][0]']    \n",
      "                                                                                                  \n",
      " expanded_conv_12/squeeze_excit  (None, 1, 1, 672)   0           ['multiply_14[0][0]']            \n",
      " e/AvgPool (GlobalAveragePoolin                                                                   \n",
      " g2D)                                                                                             \n",
      "                                                                                                  \n",
      " expanded_conv_12/squeeze_excit  (None, 1, 1, 168)   113064      ['expanded_conv_12/squeeze_excite\n",
      " e/Conv (Conv2D)                                                 /AvgPool[0][0]']                 \n",
      "                                                                                                  \n",
      " expanded_conv_12/squeeze_excit  (None, 1, 1, 168)   0           ['expanded_conv_12/squeeze_excite\n",
      " e/Relu (ReLU)                                                   /Conv[0][0]']                    \n",
      "                                                                                                  \n",
      " expanded_conv_12/squeeze_excit  (None, 1, 1, 672)   113568      ['expanded_conv_12/squeeze_excite\n",
      " e/Conv_1 (Conv2D)                                               /Relu[0][0]']                    \n",
      "                                                                                                  \n",
      " tf.__operators__.add_20 (TFOpL  (None, 1, 1, 672)   0           ['expanded_conv_12/squeeze_excite\n",
      " ambda)                                                          /Conv_1[0][0]']                  \n",
      "                                                                                                  \n",
      " re_lu_31 (ReLU)                (None, 1, 1, 672)    0           ['tf.__operators__.add_20[0][0]']\n",
      "                                                                                                  \n",
      " tf.math.multiply_20 (TFOpLambd  (None, 1, 1, 672)   0           ['re_lu_31[0][0]']               \n",
      " a)                                                                                               \n",
      "                                                                                                  \n",
      " expanded_conv_12/squeeze_excit  (None, 7, 7, 672)   0           ['multiply_14[0][0]',            \n",
      " e/Mul (Multiply)                                                 'tf.math.multiply_20[0][0]']    \n",
      "                                                                                                  \n",
      " expanded_conv_12/project (Conv  (None, 7, 7, 160)   107520      ['expanded_conv_12/squeeze_excite\n",
      " 2D)                                                             /Mul[0][0]']                     \n",
      "                                                                                                  \n",
      " expanded_conv_12/project/Batch  (None, 7, 7, 160)   640         ['expanded_conv_12/project[0][0]'\n",
      " Norm (BatchNormalization)                                       ]                                \n",
      "                                                                                                  \n",
      " expanded_conv_13/expand (Conv2  (None, 7, 7, 960)   153600      ['expanded_conv_12/project/BatchN\n",
      " D)                                                              orm[0][0]']                      \n",
      "                                                                                                  \n",
      " expanded_conv_13/expand/BatchN  (None, 7, 7, 960)   3840        ['expanded_conv_13/expand[0][0]']\n",
      " orm (BatchNormalization)                                                                         \n",
      "                                                                                                  \n",
      " tf.__operators__.add_21 (TFOpL  (None, 7, 7, 960)   0           ['expanded_conv_13/expand/BatchNo\n",
      " ambda)                                                          rm[0][0]']                       \n",
      "                                                                                                  \n",
      " re_lu_32 (ReLU)                (None, 7, 7, 960)    0           ['tf.__operators__.add_21[0][0]']\n",
      "                                                                                                  \n",
      " tf.math.multiply_21 (TFOpLambd  (None, 7, 7, 960)   0           ['re_lu_32[0][0]']               \n",
      " a)                                                                                               \n",
      "                                                                                                  \n",
      " multiply_15 (Multiply)         (None, 7, 7, 960)    0           ['expanded_conv_13/expand/BatchNo\n",
      "                                                                 rm[0][0]',                       \n",
      "                                                                  'tf.math.multiply_21[0][0]']    \n"
     ]
    },
    {
     "name": "stdout",
     "output_type": "stream",
     "text": [
      "                                                                                                  \n",
      " expanded_conv_13/depthwise (De  (None, 7, 7, 960)   24000       ['multiply_15[0][0]']            \n",
      " pthwiseConv2D)                                                                                   \n",
      "                                                                                                  \n",
      " expanded_conv_13/depthwise/Bat  (None, 7, 7, 960)   3840        ['expanded_conv_13/depthwise[0][0\n",
      " chNorm (BatchNormalization)                                     ]']                              \n",
      "                                                                                                  \n",
      " tf.__operators__.add_22 (TFOpL  (None, 7, 7, 960)   0           ['expanded_conv_13/depthwise/Batc\n",
      " ambda)                                                          hNorm[0][0]']                    \n",
      "                                                                                                  \n",
      " re_lu_33 (ReLU)                (None, 7, 7, 960)    0           ['tf.__operators__.add_22[0][0]']\n",
      "                                                                                                  \n",
      " tf.math.multiply_22 (TFOpLambd  (None, 7, 7, 960)   0           ['re_lu_33[0][0]']               \n",
      " a)                                                                                               \n",
      "                                                                                                  \n",
      " multiply_16 (Multiply)         (None, 7, 7, 960)    0           ['expanded_conv_13/depthwise/Batc\n",
      "                                                                 hNorm[0][0]',                    \n",
      "                                                                  'tf.math.multiply_22[0][0]']    \n",
      "                                                                                                  \n",
      " expanded_conv_13/squeeze_excit  (None, 1, 1, 960)   0           ['multiply_16[0][0]']            \n",
      " e/AvgPool (GlobalAveragePoolin                                                                   \n",
      " g2D)                                                                                             \n",
      "                                                                                                  \n",
      " expanded_conv_13/squeeze_excit  (None, 1, 1, 240)   230640      ['expanded_conv_13/squeeze_excite\n",
      " e/Conv (Conv2D)                                                 /AvgPool[0][0]']                 \n",
      "                                                                                                  \n",
      " expanded_conv_13/squeeze_excit  (None, 1, 1, 240)   0           ['expanded_conv_13/squeeze_excite\n",
      " e/Relu (ReLU)                                                   /Conv[0][0]']                    \n",
      "                                                                                                  \n",
      " expanded_conv_13/squeeze_excit  (None, 1, 1, 960)   231360      ['expanded_conv_13/squeeze_excite\n",
      " e/Conv_1 (Conv2D)                                               /Relu[0][0]']                    \n",
      "                                                                                                  \n",
      " tf.__operators__.add_23 (TFOpL  (None, 1, 1, 960)   0           ['expanded_conv_13/squeeze_excite\n",
      " ambda)                                                          /Conv_1[0][0]']                  \n",
      "                                                                                                  \n",
      " re_lu_34 (ReLU)                (None, 1, 1, 960)    0           ['tf.__operators__.add_23[0][0]']\n",
      "                                                                                                  \n",
      " tf.math.multiply_23 (TFOpLambd  (None, 1, 1, 960)   0           ['re_lu_34[0][0]']               \n",
      " a)                                                                                               \n",
      "                                                                                                  \n",
      " expanded_conv_13/squeeze_excit  (None, 7, 7, 960)   0           ['multiply_16[0][0]',            \n",
      " e/Mul (Multiply)                                                 'tf.math.multiply_23[0][0]']    \n",
      "                                                                                                  \n",
      " expanded_conv_13/project (Conv  (None, 7, 7, 160)   153600      ['expanded_conv_13/squeeze_excite\n",
      " 2D)                                                             /Mul[0][0]']                     \n",
      "                                                                                                  \n",
      " expanded_conv_13/project/Batch  (None, 7, 7, 160)   640         ['expanded_conv_13/project[0][0]'\n",
      " Norm (BatchNormalization)                                       ]                                \n",
      "                                                                                                  \n",
      " expanded_conv_13/Add (Add)     (None, 7, 7, 160)    0           ['expanded_conv_12/project/BatchN\n",
      "                                                                 orm[0][0]',                      \n",
      "                                                                  'expanded_conv_13/project/BatchN\n",
      "                                                                 orm[0][0]']                      \n",
      "                                                                                                  \n",
      " expanded_conv_14/expand (Conv2  (None, 7, 7, 960)   153600      ['expanded_conv_13/Add[0][0]']   \n",
      " D)                                                                                               \n",
      "                                                                                                  \n",
      " expanded_conv_14/expand/BatchN  (None, 7, 7, 960)   3840        ['expanded_conv_14/expand[0][0]']\n",
      " orm (BatchNormalization)                                                                         \n",
      "                                                                                                  \n",
      " tf.__operators__.add_24 (TFOpL  (None, 7, 7, 960)   0           ['expanded_conv_14/expand/BatchNo\n",
      " ambda)                                                          rm[0][0]']                       \n",
      "                                                                                                  \n",
      " re_lu_35 (ReLU)                (None, 7, 7, 960)    0           ['tf.__operators__.add_24[0][0]']\n",
      "                                                                                                  \n",
      " tf.math.multiply_24 (TFOpLambd  (None, 7, 7, 960)   0           ['re_lu_35[0][0]']               \n",
      " a)                                                                                               \n",
      "                                                                                                  \n",
      " multiply_17 (Multiply)         (None, 7, 7, 960)    0           ['expanded_conv_14/expand/BatchNo\n",
      "                                                                 rm[0][0]',                       \n",
      "                                                                  'tf.math.multiply_24[0][0]']    \n",
      "                                                                                                  \n",
      " expanded_conv_14/depthwise (De  (None, 7, 7, 960)   24000       ['multiply_17[0][0]']            \n",
      " pthwiseConv2D)                                                                                   \n",
      "                                                                                                  \n",
      " expanded_conv_14/depthwise/Bat  (None, 7, 7, 960)   3840        ['expanded_conv_14/depthwise[0][0\n",
      " chNorm (BatchNormalization)                                     ]']                              \n",
      "                                                                                                  \n",
      " tf.__operators__.add_25 (TFOpL  (None, 7, 7, 960)   0           ['expanded_conv_14/depthwise/Batc\n",
      " ambda)                                                          hNorm[0][0]']                    \n",
      "                                                                                                  \n",
      " re_lu_36 (ReLU)                (None, 7, 7, 960)    0           ['tf.__operators__.add_25[0][0]']\n",
      "                                                                                                  \n"
     ]
    },
    {
     "name": "stdout",
     "output_type": "stream",
     "text": [
      " tf.math.multiply_25 (TFOpLambd  (None, 7, 7, 960)   0           ['re_lu_36[0][0]']               \n",
      " a)                                                                                               \n",
      "                                                                                                  \n",
      " multiply_18 (Multiply)         (None, 7, 7, 960)    0           ['expanded_conv_14/depthwise/Batc\n",
      "                                                                 hNorm[0][0]',                    \n",
      "                                                                  'tf.math.multiply_25[0][0]']    \n",
      "                                                                                                  \n",
      " soft_attention (SoftAttention)  [(None, 7, 7, 960),  138256     ['multiply_18[0][0]']            \n",
      "                                 (None, 16, 7, 7)]                                                \n",
      "                                                                                                  \n",
      " sex (InputLayer)               [(None, 1)]          0           []                               \n",
      "                                                                                                  \n",
      " localization (InputLayer)      [(None, 1)]          0           []                               \n",
      "                                                                                                  \n",
      " max_pooling2d_1 (MaxPooling2D)  (None, 4, 4, 960)   0           ['multiply_18[0][0]']            \n",
      "                                                                                                  \n",
      " max_pooling2d (MaxPooling2D)   (None, 4, 4, 960)    0           ['soft_attention[0][0]']         \n",
      "                                                                                                  \n",
      " age (InputLayer)               [(None, 1)]          0           []                               \n",
      "                                                                                                  \n",
      " string_lookup (StringLookup)   (None, 1)            0           ['sex[0][0]']                    \n",
      "                                                                                                  \n",
      " string_lookup_1 (StringLookup)  (None, 1)           0           ['localization[0][0]']           \n",
      "                                                                                                  \n",
      " concatenate_1 (Concatenate)    (None, 4, 4, 1920)   0           ['max_pooling2d_1[0][0]',        \n",
      "                                                                  'max_pooling2d[0][0]']          \n",
      "                                                                                                  \n",
      " normalization (Normalization)  (None, 1)            3           ['age[0][0]']                    \n",
      "                                                                                                  \n",
      " category_encoding (CategoryEnc  (None, 4)           0           ['string_lookup[0][0]']          \n",
      " oding)                                                                                           \n",
      "                                                                                                  \n",
      " category_encoding_1 (CategoryE  (None, 16)          0           ['string_lookup_1[0][0]']        \n",
      " ncoding)                                                                                         \n",
      "                                                                                                  \n",
      " activation (Activation)        (None, 4, 4, 1920)   0           ['concatenate_1[0][0]']          \n",
      "                                                                                                  \n",
      " concatenate (Concatenate)      (None, 21)           0           ['normalization[0][0]',          \n",
      "                                                                  'category_encoding[0][0]',      \n",
      "                                                                  'category_encoding_1[0][0]']    \n",
      "                                                                                                  \n",
      " dropout_1 (Dropout)            (None, 4, 4, 1920)   0           ['activation[0][0]']             \n",
      "                                                                                                  \n",
      " dense (Dense)                  (None, 4096)         90112       ['concatenate[0][0]']            \n",
      "                                                                                                  \n",
      " flatten_2 (Flatten)            (None, 30720)        0           ['dropout_1[0][0]']              \n",
      "                                                                                                  \n",
      " dense_2 (Dense)                (None, 4096)         16781312    ['dense[0][0]']                  \n",
      "                                                                                                  \n",
      " concatenate_3 (Concatenate)    (None, 34816)        0           ['flatten_2[0][0]',              \n",
      "                                                                  'dense_2[0][0]']                \n",
      "                                                                                                  \n",
      " dense_3 (Dense)                (None, 512)          17826304    ['concatenate_3[0][0]']          \n",
      "                                                                                                  \n",
      " dense_4 (Dense)                (None, 7)            3591        ['dense_3[0][0]']                \n",
      "                                                                                                  \n",
      "==================================================================================================\n",
      "Total params: 37,062,250\n",
      "Trainable params: 37,040,087\n",
      "Non-trainable params: 22,163\n",
      "__________________________________________________________________________________________________\n"
     ]
    }
   ],
   "source": [
    "model.summary()"
   ]
  },
  {
   "cell_type": "markdown",
   "id": "bef8389e",
   "metadata": {},
   "source": [
    "## Training"
   ]
  },
  {
   "cell_type": "code",
   "execution_count": 28,
   "id": "a44b02e4",
   "metadata": {},
   "outputs": [],
   "source": [
    "feature_dict = {'age' : np.array(train_ages),\n",
    "                'sex' : np.array(train_sexes),\n",
    "                'local' : np.array(train_localizations),\n",
    "                'image' : np.array(train_img_lst)}"
   ]
  },
  {
   "cell_type": "code",
   "execution_count": 29,
   "id": "bb3b7f9b",
   "metadata": {},
   "outputs": [],
   "source": [
    "val_dict = {'age' : np.array(val_ages),\n",
    "                'sex' : np.array(val_sexes),\n",
    "                'local' : np.array(val_localizations),\n",
    "                'image' : np.array(val_img_lst)}"
   ]
  },
  {
   "cell_type": "code",
   "execution_count": 30,
   "id": "333d8ed4",
   "metadata": {},
   "outputs": [],
   "source": [
    "class_weights = { \n",
    "                    0: 4.37,  # akiec\n",
    "                    1: 2.78,  # bcc\n",
    "                    2: 1.3,  # bkl\n",
    "                    3: 12.44,  # df\n",
    "                    4: 1.28,  # mel\n",
    "                    5: 0.21,  # nv\n",
    "                    6: 10,  # vasc\n",
    "                }\n",
    "\n",
    "\n",
    "checkpoint=  ModelCheckpoint(filepath = model_path,monitor='val_accuracy',save_best_only=True,save_weights_only=True)"
   ]
  },
  {
   "cell_type": "code",
   "execution_count": 31,
   "id": "d8c90847",
   "metadata": {},
   "outputs": [],
   "source": [
    "opt1=tf.keras.optimizers.Adam(learning_rate=0.001,epsilon=0.1)\n",
    "model.compile(optimizer=opt1,\n",
    "             loss='categorical_crossentropy',\n",
    "             metrics=['accuracy'])"
   ]
  },
  {
   "cell_type": "code",
   "execution_count": 32,
   "id": "875463a9",
   "metadata": {},
   "outputs": [],
   "source": [
    "reduce_lr = ReduceLROnPlateau(monitor='val_loss', factor=0.2,\n",
    "                              verbose = 1, mode = 'min',\n",
    "                              patience=5, min_lr=0.0000001)"
   ]
  },
  {
   "cell_type": "code",
   "execution_count": 33,
   "id": "384e5afc",
   "metadata": {},
   "outputs": [
    {
     "name": "stdout",
     "output_type": "stream",
     "text": [
      "Epoch 1/500\n",
      "896/896 [==============================] - 157s 144ms/step - loss: 1.4390 - accuracy: 0.4898 - val_loss: 0.9039 - val_accuracy: 0.6837 - lr: 0.0010\n",
      "Epoch 2/500\n",
      "896/896 [==============================] - 125s 139ms/step - loss: 0.6943 - accuracy: 0.6877 - val_loss: 0.7367 - val_accuracy: 0.7480 - lr: 0.0010\n",
      "Epoch 3/500\n",
      "896/896 [==============================] - 122s 136ms/step - loss: 0.4681 - accuracy: 0.7459 - val_loss: 1.2090 - val_accuracy: 0.6717 - lr: 0.0010\n",
      "Epoch 4/500\n",
      "896/896 [==============================] - 122s 136ms/step - loss: 0.4131 - accuracy: 0.7736 - val_loss: 0.7626 - val_accuracy: 0.7008 - lr: 0.0010\n",
      "Epoch 5/500\n",
      "896/896 [==============================] - 125s 140ms/step - loss: 0.2803 - accuracy: 0.8129 - val_loss: 0.5183 - val_accuracy: 0.8133 - lr: 0.0010\n",
      "Epoch 6/500\n",
      "896/896 [==============================] - 122s 137ms/step - loss: 0.2532 - accuracy: 0.8277 - val_loss: 1.2177 - val_accuracy: 0.6034 - lr: 0.0010\n",
      "Epoch 7/500\n",
      "896/896 [==============================] - 122s 136ms/step - loss: 0.2115 - accuracy: 0.8510 - val_loss: 1.0709 - val_accuracy: 0.6817 - lr: 0.0010\n",
      "Epoch 8/500\n",
      "896/896 [==============================] - 122s 136ms/step - loss: 0.2220 - accuracy: 0.8593 - val_loss: 0.7720 - val_accuracy: 0.7671 - lr: 0.0010\n",
      "Epoch 9/500\n",
      "896/896 [==============================] - 122s 137ms/step - loss: 0.1947 - accuracy: 0.8596 - val_loss: 0.6898 - val_accuracy: 0.7711 - lr: 0.0010\n",
      "Epoch 10/500\n",
      "897/896 [==============================] - ETA: 0s - loss: 0.2266 - accuracy: 0.8636\n",
      "Epoch 10: ReduceLROnPlateau reducing learning rate to 0.00020000000949949026.\n",
      "896/896 [==============================] - 124s 138ms/step - loss: 0.2266 - accuracy: 0.8636 - val_loss: 0.5901 - val_accuracy: 0.8163 - lr: 0.0010\n",
      "Epoch 11/500\n",
      "896/896 [==============================] - 124s 138ms/step - loss: 0.1151 - accuracy: 0.9078 - val_loss: 0.5403 - val_accuracy: 0.8233 - lr: 2.0000e-04\n",
      "Epoch 12/500\n",
      "896/896 [==============================] - 120s 134ms/step - loss: 0.0970 - accuracy: 0.9203 - val_loss: 0.5784 - val_accuracy: 0.8062 - lr: 2.0000e-04\n",
      "Epoch 13/500\n",
      "896/896 [==============================] - 124s 138ms/step - loss: 0.0816 - accuracy: 0.9249 - val_loss: 0.5496 - val_accuracy: 0.8253 - lr: 2.0000e-04\n",
      "Epoch 14/500\n",
      "896/896 [==============================] - 121s 135ms/step - loss: 0.0647 - accuracy: 0.9380 - val_loss: 0.5572 - val_accuracy: 0.8203 - lr: 2.0000e-04\n",
      "Epoch 15/500\n",
      "897/896 [==============================] - ETA: 0s - loss: 0.0636 - accuracy: 0.9422\n",
      "Epoch 15: ReduceLROnPlateau reducing learning rate to 4.0000001899898055e-05.\n",
      "896/896 [==============================] - 124s 138ms/step - loss: 0.0636 - accuracy: 0.9422 - val_loss: 0.5462 - val_accuracy: 0.8283 - lr: 2.0000e-04\n",
      "Epoch 16/500\n",
      "896/896 [==============================] - 124s 139ms/step - loss: 0.0519 - accuracy: 0.9500 - val_loss: 0.5437 - val_accuracy: 0.8313 - lr: 4.0000e-05\n",
      "Epoch 17/500\n",
      "896/896 [==============================] - 124s 139ms/step - loss: 0.0482 - accuracy: 0.9528 - val_loss: 0.5390 - val_accuracy: 0.8333 - lr: 4.0000e-05\n",
      "Epoch 18/500\n",
      "896/896 [==============================] - 123s 137ms/step - loss: 0.0506 - accuracy: 0.9528 - val_loss: 0.5521 - val_accuracy: 0.8323 - lr: 4.0000e-05\n",
      "Epoch 19/500\n",
      "896/896 [==============================] - 125s 139ms/step - loss: 0.0495 - accuracy: 0.9528 - val_loss: 0.5473 - val_accuracy: 0.8373 - lr: 4.0000e-05\n",
      "Epoch 20/500\n",
      "897/896 [==============================] - ETA: 0s - loss: 0.0475 - accuracy: 0.9560\n",
      "Epoch 20: ReduceLROnPlateau reducing learning rate to 8.000000525498762e-06.\n",
      "896/896 [==============================] - 124s 138ms/step - loss: 0.0475 - accuracy: 0.9560 - val_loss: 0.5462 - val_accuracy: 0.8394 - lr: 4.0000e-05\n",
      "Epoch 21/500\n",
      "896/896 [==============================] - 123s 138ms/step - loss: 0.0426 - accuracy: 0.9601 - val_loss: 0.5462 - val_accuracy: 0.8404 - lr: 8.0000e-06\n",
      "Epoch 22/500\n",
      "896/896 [==============================] - 121s 135ms/step - loss: 0.0500 - accuracy: 0.9572 - val_loss: 0.5496 - val_accuracy: 0.8363 - lr: 8.0000e-06\n",
      "Epoch 23/500\n",
      "896/896 [==============================] - 122s 136ms/step - loss: 0.0420 - accuracy: 0.9544 - val_loss: 0.5473 - val_accuracy: 0.8384 - lr: 8.0000e-06\n",
      "Epoch 24/500\n",
      "896/896 [==============================] - 122s 136ms/step - loss: 0.0454 - accuracy: 0.9556 - val_loss: 0.5465 - val_accuracy: 0.8404 - lr: 8.0000e-06\n",
      "Epoch 25/500\n",
      "897/896 [==============================] - ETA: 0s - loss: 0.0418 - accuracy: 0.9580\n",
      "Epoch 25: ReduceLROnPlateau reducing learning rate to 1.6000001778593287e-06.\n",
      "896/896 [==============================] - 124s 139ms/step - loss: 0.0418 - accuracy: 0.9580 - val_loss: 0.5470 - val_accuracy: 0.8424 - lr: 8.0000e-06\n",
      "Epoch 26/500\n",
      "896/896 [==============================] - 122s 136ms/step - loss: 0.0478 - accuracy: 0.9575 - val_loss: 0.5475 - val_accuracy: 0.8424 - lr: 1.6000e-06\n",
      "Epoch 27/500\n",
      "896/896 [==============================] - 121s 135ms/step - loss: 0.0435 - accuracy: 0.9583 - val_loss: 0.5475 - val_accuracy: 0.8404 - lr: 1.6000e-06\n",
      "Epoch 28/500\n",
      "896/896 [==============================] - 121s 135ms/step - loss: 0.0471 - accuracy: 0.9557 - val_loss: 0.5482 - val_accuracy: 0.8404 - lr: 1.6000e-06\n",
      "Epoch 29/500\n",
      "896/896 [==============================] - 121s 135ms/step - loss: 0.0445 - accuracy: 0.9556 - val_loss: 0.5476 - val_accuracy: 0.8414 - lr: 1.6000e-06\n",
      "Epoch 30/500\n",
      "897/896 [==============================] - ETA: 0s - loss: 0.0425 - accuracy: 0.9579\n",
      "Epoch 30: ReduceLROnPlateau reducing learning rate to 3.200000264769187e-07.\n",
      "896/896 [==============================] - 121s 135ms/step - loss: 0.0425 - accuracy: 0.9579 - val_loss: 0.5478 - val_accuracy: 0.8404 - lr: 1.6000e-06\n",
      "Epoch 31/500\n",
      "896/896 [==============================] - 122s 136ms/step - loss: 0.0425 - accuracy: 0.9575 - val_loss: 0.5479 - val_accuracy: 0.8404 - lr: 3.2000e-07\n",
      "Epoch 32/500\n",
      "896/896 [==============================] - 122s 136ms/step - loss: 0.0424 - accuracy: 0.9588 - val_loss: 0.5478 - val_accuracy: 0.8414 - lr: 3.2000e-07\n",
      "Epoch 33/500\n",
      "896/896 [==============================] - 121s 135ms/step - loss: 0.0437 - accuracy: 0.9588 - val_loss: 0.5478 - val_accuracy: 0.8404 - lr: 3.2000e-07\n",
      "Epoch 34/500\n",
      "896/896 [==============================] - 122s 136ms/step - loss: 0.0409 - accuracy: 0.9593 - val_loss: 0.5476 - val_accuracy: 0.8404 - lr: 3.2000e-07\n",
      "Epoch 35/500\n",
      "897/896 [==============================] - ETA: 0s - loss: 0.0440 - accuracy: 0.9568\n",
      "Epoch 35: ReduceLROnPlateau reducing learning rate to 1e-07.\n",
      "896/896 [==============================] - 121s 135ms/step - loss: 0.0440 - accuracy: 0.9568 - val_loss: 0.5478 - val_accuracy: 0.8404 - lr: 3.2000e-07\n",
      "Epoch 36/500\n",
      "896/896 [==============================] - 121s 135ms/step - loss: 0.0430 - accuracy: 0.9584 - val_loss: 0.5480 - val_accuracy: 0.8404 - lr: 1.0000e-07\n",
      "Epoch 37/500\n",
      "896/896 [==============================] - 121s 135ms/step - loss: 0.0437 - accuracy: 0.9583 - val_loss: 0.5479 - val_accuracy: 0.8404 - lr: 1.0000e-07\n",
      "Epoch 38/500\n",
      "896/896 [==============================] - 121s 135ms/step - loss: 0.0449 - accuracy: 0.9539 - val_loss: 0.5476 - val_accuracy: 0.8404 - lr: 1.0000e-07\n",
      "Epoch 39/500\n",
      "896/896 [==============================] - 121s 135ms/step - loss: 0.0455 - accuracy: 0.9557 - val_loss: 0.5479 - val_accuracy: 0.8404 - lr: 1.0000e-07\n",
      "Epoch 40/500\n",
      "896/896 [==============================] - 121s 135ms/step - loss: 0.0439 - accuracy: 0.9583 - val_loss: 0.5485 - val_accuracy: 0.8404 - lr: 1.0000e-07\n"
     ]
    }
   ],
   "source": [
    "batch_size = 32 \n",
    "\n",
    "Earlystop = EarlyStopping(monitor='val_loss', mode='min',patience=35, min_delta=0.001)\n",
    "\n",
    "with tf.device('/GPU:0'):\n",
    "    history = model.fit(feature_dict, labels,\n",
    "                        steps_per_epoch=(len(train_df)/10),\n",
    "                        epochs=500,\n",
    "                        validation_data=(val_dict, val_labels), \n",
    "                        validation_steps=len(val_df)/batch_size,\n",
    "                        callbacks=[checkpoint, Earlystop, reduce_lr],\n",
    "                        class_weight=class_weights)"
   ]
  },
  {
   "cell_type": "code",
   "execution_count": 34,
   "id": "6d459907",
   "metadata": {},
   "outputs": [
    {
     "data": {
      "image/png": "[encoded data removed]",
      "text/plain": [
       "<Figure size 432x288 with 1 Axes>"
      ]
     },
     "metadata": {
      "needs_background": "light"
     },
     "output_type": "display_data"
    }
   ],
   "source": [
    "plt.plot(history.history['accuracy'])\n",
    "plt.plot(history.history['val_accuracy'])\n",
    "plt.title('model accuracy')\n",
    "plt.ylabel('accuracy')\n",
    "plt.xlabel('epoch')\n",
    "plt.legend(['train', 'val'], loc='upper left')\n",
    "plt.show()"
   ]
  },
  {
   "cell_type": "code",
   "execution_count": 35,
   "id": "d53254dd",
   "metadata": {},
   "outputs": [
    {
     "data": {
      "image/png": "[encoded data removed]",
      "text/plain": [
       "<Figure size 432x288 with 1 Axes>"
      ]
     },
     "metadata": {
      "needs_background": "light"
     },
     "output_type": "display_data"
    }
   ],
   "source": [
    "plt.plot(history.history['loss'])\n",
    "plt.plot(history.history['val_loss'])\n",
    "plt.title('model loss')\n",
    "plt.ylabel('loss')\n",
    "plt.xlabel('epoch')\n",
    "plt.legend(['train', 'val'], loc='upper left')\n",
    "plt.show()"
   ]
  },
  {
   "cell_type": "code",
   "execution_count": 36,
   "id": "4d63c6ae",
   "metadata": {},
   "outputs": [],
   "source": [
    "from tensorflow.keras import models\n",
    "model.load_weights(model_path)"
   ]
  },
  {
   "cell_type": "code",
   "execution_count": 37,
   "id": "6cda2363",
   "metadata": {},
   "outputs": [],
   "source": [
    "batch_size = 32 \n",
    "predictions = model.predict(val_dict, steps=len(val_df)/batch_size, verbose=0)"
   ]
  },
  {
   "cell_type": "markdown",
   "id": "3047abc8",
   "metadata": {},
   "source": [
    "# Classification report"
   ]
  },
  {
   "cell_type": "code",
   "execution_count": 38,
   "id": "2c6dc6bd",
   "metadata": {},
   "outputs": [
    {
     "name": "stdout",
     "output_type": "stream",
     "text": [
      "\n",
      "Classification Report:\n",
      "              precision    recall  f1-score   support\n",
      "\n",
      "       akiec       0.68      0.76      0.71        33\n",
      "         bcc       0.74      0.73      0.73        51\n",
      "         bkl       0.70      0.76      0.73       109\n",
      "          df       0.73      0.92      0.81        12\n",
      "         mel       0.65      0.58      0.61       111\n",
      "          nv       0.92      0.91      0.91       666\n",
      "        vasc       0.81      0.93      0.87        14\n",
      "\n",
      "    accuracy                           0.84       996\n",
      "   macro avg       0.75      0.80      0.77       996\n",
      "weighted avg       0.84      0.84      0.84       996\n",
      "\n"
     ]
    }
   ],
   "source": [
    "#geting predictions on test dataset\n",
    "y_pred = np.argmax(predictions, axis=1)\n",
    "targetnames = ['akiec', 'bcc', 'bkl', 'df', 'mel', 'nv', 'vasc']\n",
    "#getting the true labels per image \n",
    "y_true = np.argmax(val_labels, axis=1)\n",
    "#getting the predicted labels per image \n",
    "y_prob=predictions\n",
    "from tensorflow.keras.utils import to_categorical\n",
    "y_test = to_categorical(y_true)\n",
    "\n",
    "# Creating classification report \n",
    "report = classification_report(y_true, y_pred, target_names=targetnames)\n",
    "\n",
    "print(\"\\nClassification Report:\")\n",
    "print(report)"
   ]
  },
  {
   "cell_type": "markdown",
   "id": "bb53beb6",
   "metadata": {},
   "source": [
    "# Confusion Matrix Metrics"
   ]
  },
  {
   "cell_type": "code",
   "execution_count": 39,
   "id": "a3c1617a",
   "metadata": {},
   "outputs": [],
   "source": [
    "from sklearn.metrics import multilabel_confusion_matrix\n",
    "multi_cm = multilabel_confusion_matrix(y_true, y_pred)\n",
    "#print(multi_cm)\n",
    "\n",
    "# TN     FP\n",
    "# FN     TP"
   ]
  },
  {
   "cell_type": "code",
   "execution_count": 40,
   "id": "34e979cb",
   "metadata": {},
   "outputs": [],
   "source": [
    "def cm_compute(_cm, _index, _name):\n",
    "    print(\"Confusion Matrix of {}\".format(_name))\n",
    "    print(_cm[index])\n",
    "    TP = _cm[index][1][1]\n",
    "    FP = _cm[index][0][1]\n",
    "    FN = _cm[index][1][0]\n",
    "    TN = _cm[index][0][0]\n",
    "    print(\"True Positive of {0}: {1}\".format(_name, TP))\n",
    "    print(\"False Positive of {0}: {1}\".format(_name, FP))\n",
    "    print(\"False Negative of {0}: {1}\".format(_name, FN))\n",
    "    print(\"True Negative of {0}: {1}\".format(_name, TN))\n",
    "    sensitivity = TP/(TP + FN)\n",
    "    specificity = TN/(TN + FP)\n",
    "    print(\"Sensitivity of {0}: {1}\".format(_name, sensitivity))\n",
    "    print(\"Specificity of {0}: {1}\".format(_name, specificity))\n",
    "    print(\"Precision of {0}: {1}\".format(_name, TP/(TP + FP)))\n",
    "    print(\"Accuracy of {0}: {1}\".format(_name, (TP+TN)/(TP + FP + FN + TN)))\n",
    "    print(\"Balanced Accuracy of {0} : {1}\".format(_name, (sensitivity + specificity)/2))\n",
    "    print(\"F1 Score of {0}: {1}\".format(_name, (2*TP)/(2*TP + FP + FN)))"
   ]
  },
  {
   "cell_type": "markdown",
   "id": "08c34508",
   "metadata": {},
   "source": [
    "### akiec       "
   ]
  },
  {
   "cell_type": "code",
   "execution_count": 41,
   "id": "3edc07d8",
   "metadata": {},
   "outputs": [
    {
     "name": "stdout",
     "output_type": "stream",
     "text": [
      "Confusion Matrix of akiec\n",
      "[[951  12]\n",
      " [  8  25]]\n",
      "True Positive of akiec: 25\n",
      "False Positive of akiec: 12\n",
      "False Negative of akiec: 8\n",
      "True Negative of akiec: 951\n",
      "Sensitivity of akiec: 0.7575757575757576\n",
      "Specificity of akiec: 0.9875389408099688\n",
      "Precision of akiec: 0.6756756756756757\n",
      "Accuracy of akiec: 0.9799196787148594\n",
      "Balanced Accuracy of akiec : 0.8725573491928632\n",
      "F1 Score of akiec: 0.7142857142857143\n"
     ]
    }
   ],
   "source": [
    "index = 0\n",
    "cm_compute(multi_cm, index, targetnames[index])"
   ]
  },
  {
   "cell_type": "markdown",
   "id": "0c8298d1",
   "metadata": {},
   "source": [
    "### bcc       "
   ]
  },
  {
   "cell_type": "code",
   "execution_count": 42,
   "id": "c2fb8bec",
   "metadata": {},
   "outputs": [
    {
     "name": "stdout",
     "output_type": "stream",
     "text": [
      "Confusion Matrix of bcc\n",
      "[[932  13]\n",
      " [ 14  37]]\n",
      "True Positive of bcc: 37\n",
      "False Positive of bcc: 13\n",
      "False Negative of bcc: 14\n",
      "True Negative of bcc: 932\n",
      "Sensitivity of bcc: 0.7254901960784313\n",
      "Specificity of bcc: 0.9862433862433863\n",
      "Precision of bcc: 0.74\n",
      "Accuracy of bcc: 0.9728915662650602\n",
      "Balanced Accuracy of bcc : 0.8558667911609088\n",
      "F1 Score of bcc: 0.7326732673267327\n"
     ]
    }
   ],
   "source": [
    "index = 1\n",
    "cm_compute(multi_cm, index, targetnames[index])"
   ]
  },
  {
   "cell_type": "markdown",
   "id": "c3c0b7d3",
   "metadata": {},
   "source": [
    "### bkl"
   ]
  },
  {
   "cell_type": "code",
   "execution_count": 43,
   "id": "1bfd6ac9",
   "metadata": {},
   "outputs": [
    {
     "name": "stdout",
     "output_type": "stream",
     "text": [
      "Confusion Matrix of bkl\n",
      "[[851  36]\n",
      " [ 26  83]]\n",
      "True Positive of bkl: 83\n",
      "False Positive of bkl: 36\n",
      "False Negative of bkl: 26\n",
      "True Negative of bkl: 851\n",
      "Sensitivity of bkl: 0.7614678899082569\n",
      "Specificity of bkl: 0.9594137542277339\n",
      "Precision of bkl: 0.6974789915966386\n",
      "Accuracy of bkl: 0.9377510040160643\n",
      "Balanced Accuracy of bkl : 0.8604408220679953\n",
      "F1 Score of bkl: 0.7280701754385965\n"
     ]
    }
   ],
   "source": [
    "index = 2\n",
    "cm_compute(multi_cm, index, targetnames[index])"
   ]
  },
  {
   "cell_type": "markdown",
   "id": "4b7e966f",
   "metadata": {},
   "source": [
    "### df "
   ]
  },
  {
   "cell_type": "code",
   "execution_count": 44,
   "id": "25b094e5",
   "metadata": {},
   "outputs": [
    {
     "name": "stdout",
     "output_type": "stream",
     "text": [
      "Confusion Matrix of df\n",
      "[[980   4]\n",
      " [  1  11]]\n",
      "True Positive of df: 11\n",
      "False Positive of df: 4\n",
      "False Negative of df: 1\n",
      "True Negative of df: 980\n",
      "Sensitivity of df: 0.9166666666666666\n",
      "Specificity of df: 0.9959349593495935\n",
      "Precision of df: 0.7333333333333333\n",
      "Accuracy of df: 0.9949799196787149\n",
      "Balanced Accuracy of df : 0.9563008130081301\n",
      "F1 Score of df: 0.8148148148148148\n"
     ]
    }
   ],
   "source": [
    "index = 3\n",
    "cm_compute(multi_cm, index, targetnames[index])"
   ]
  },
  {
   "cell_type": "markdown",
   "id": "45c95bb2",
   "metadata": {},
   "source": [
    "### mel"
   ]
  },
  {
   "cell_type": "code",
   "execution_count": 45,
   "id": "1a8ef842",
   "metadata": {},
   "outputs": [
    {
     "name": "stdout",
     "output_type": "stream",
     "text": [
      "Confusion Matrix of mel\n",
      "[[851  34]\n",
      " [ 47  64]]\n",
      "True Positive of mel: 64\n",
      "False Positive of mel: 34\n",
      "False Negative of mel: 47\n",
      "True Negative of mel: 851\n",
      "Sensitivity of mel: 0.5765765765765766\n",
      "Specificity of mel: 0.9615819209039548\n",
      "Precision of mel: 0.6530612244897959\n",
      "Accuracy of mel: 0.9186746987951807\n",
      "Balanced Accuracy of mel : 0.7690792487402657\n",
      "F1 Score of mel: 0.6124401913875598\n"
     ]
    }
   ],
   "source": [
    "index = 4\n",
    "cm_compute(multi_cm, index, targetnames[index])"
   ]
  },
  {
   "cell_type": "markdown",
   "id": "a2cadea1",
   "metadata": {},
   "source": [
    "### nv"
   ]
  },
  {
   "cell_type": "code",
   "execution_count": 46,
   "id": "ac593956",
   "metadata": {},
   "outputs": [
    {
     "name": "stdout",
     "output_type": "stream",
     "text": [
      "Confusion Matrix of nv\n",
      "[[275  55]\n",
      " [ 60 606]]\n",
      "True Positive of nv: 606\n",
      "False Positive of nv: 55\n",
      "False Negative of nv: 60\n",
      "True Negative of nv: 275\n",
      "Sensitivity of nv: 0.9099099099099099\n",
      "Specificity of nv: 0.8333333333333334\n",
      "Precision of nv: 0.9167927382753404\n",
      "Accuracy of nv: 0.8845381526104418\n",
      "Balanced Accuracy of nv : 0.8716216216216217\n",
      "F1 Score of nv: 0.9133383571966842\n"
     ]
    }
   ],
   "source": [
    "index = 5\n",
    "cm_compute(multi_cm, index, targetnames[index])"
   ]
  },
  {
   "cell_type": "markdown",
   "id": "9f7cccca",
   "metadata": {},
   "source": [
    "### vasc"
   ]
  },
  {
   "cell_type": "code",
   "execution_count": 47,
   "id": "29c1c659",
   "metadata": {},
   "outputs": [
    {
     "name": "stdout",
     "output_type": "stream",
     "text": [
      "Confusion Matrix of vasc\n",
      "[[979   3]\n",
      " [  1  13]]\n",
      "True Positive of vasc: 13\n",
      "False Positive of vasc: 3\n",
      "False Negative of vasc: 1\n",
      "True Negative of vasc: 979\n",
      "Sensitivity of vasc: 0.9285714285714286\n",
      "Specificity of vasc: 0.9969450101832994\n",
      "Precision of vasc: 0.8125\n",
      "Accuracy of vasc: 0.9959839357429718\n",
      "Balanced Accuracy of vasc : 0.962758219377364\n",
      "F1 Score of vasc: 0.8666666666666667\n"
     ]
    }
   ],
   "source": [
    "index = 6\n",
    "cm_compute(multi_cm, index, targetnames[index])"
   ]
  },
  {
   "cell_type": "markdown",
   "id": "fcc6be19",
   "metadata": {},
   "source": [
    "## Weighted, Macro, Micro, ROC AUC"
   ]
  },
  {
   "cell_type": "code",
   "execution_count": 48,
   "id": "59d35f78",
   "metadata": {},
   "outputs": [
    {
     "name": "stdout",
     "output_type": "stream",
     "text": [
      "Precision: 0.8426819949709587\n",
      "Recall: 0.8423694779116466\n",
      "Accuracy: 0.8423694779116466\n",
      "weighted Roc score: 0.9551512281864258\n"
     ]
    }
   ],
   "source": [
    "print(\"Precision: \"+ str(precision_score(y_true, y_pred, average='weighted')))\n",
    "print(\"Recall: \"+ str(recall_score(y_true, y_pred, average='weighted')))\n",
    "print(\"Accuracy: \" + str(accuracy_score(y_true, y_pred)))\n",
    "print(\"weighted Roc score: \" + str(roc_auc_score(y_test,y_prob,multi_class='ovr',average='weighted')))"
   ]
  },
  {
   "cell_type": "code",
   "execution_count": 49,
   "id": "b69e9a30",
   "metadata": {},
   "outputs": [
    {
     "name": "stdout",
     "output_type": "stream",
     "text": [
      "Precision: 0.7469774233386834\n",
      "Recall: 0.7966083464695755\n",
      "Accuracy: 0.8423694779116466\n",
      "Macro Roc score: 0.9712997789271532\n"
     ]
    }
   ],
   "source": [
    "print(\"Precision: \"+ str(precision_score(y_true, y_pred, average='macro')))\n",
    "print(\"Recall: \"+ str(recall_score(y_true, y_pred, average='macro')))\n",
    "print(\"Accuracy: \" + str(accuracy_score(y_true, y_pred)))\n",
    "print(\"Macro Roc score: \" + str(roc_auc_score(y_test,y_prob,multi_class='ovr',average='macro')))"
   ]
  },
  {
   "cell_type": "code",
   "execution_count": 50,
   "id": "fab7d5c6",
   "metadata": {},
   "outputs": [
    {
     "name": "stdout",
     "output_type": "stream",
     "text": [
      "Precision: 0.8423694779116466\n",
      "Recall: 0.8423694779116466\n",
      "Accuracy: 0.8423694779116466\n",
      "Micro Roc score: 0.9833697238754213\n"
     ]
    }
   ],
   "source": [
    "print(\"Precision: \"+ str(precision_score(y_true, y_pred, average='micro')))\n",
    "print(\"Recall: \"+ str(recall_score(y_true, y_pred, average='micro')))\n",
    "print(\"Accuracy: \" + str(accuracy_score(y_true, y_pred)))\n",
    "tpr={}\n",
    "fpr={}\n",
    "roc_auc={}\n",
    "fpr[\"micro\"], tpr[\"micro\"], _ = roc_curve(y_test.ravel(), y_prob.ravel())\n",
    "roc_auc[\"micro\"] = auc(fpr[\"micro\"], tpr[\"micro\"])\n",
    "print(\"Micro Roc score: \" + str(roc_auc[\"micro\"]))"
   ]
  },
  {
   "cell_type": "code",
   "execution_count": 51,
   "id": "cef5bfe5",
   "metadata": {},
   "outputs": [
    {
     "name": "stdout",
     "output_type": "stream",
     "text": [
      "The ROC AUC score of akiec is: 0.9839516661946568\n",
      "The ROC AUC score of bcc is: 0.9859114015976761\n",
      "The ROC AUC score of bkl is: 0.9603963468241573\n",
      "The ROC AUC score of df is: 0.9978827913279134\n",
      "The ROC AUC score of mel is: 0.9164147198045502\n",
      "The ROC AUC score of nv is: 0.9552689052689052\n",
      "The ROC AUC score of vasc is: 0.9992726214722141\n"
     ]
    }
   ],
   "source": [
    "fpr = {}\n",
    "tpr = {}\n",
    "roc_auc = {}\n",
    "for i in range(7):\n",
    "    r = roc_auc_score(y_test[:, i], y_prob[:, i])\n",
    "    print(\"The ROC AUC score of \"+targetnames[i]+\" is: \"+str(r))"
   ]
  },
  {
   "cell_type": "code",
   "execution_count": 52,
   "id": "32fff45a",
   "metadata": {},
   "outputs": [],
   "source": [
    "# Compute ROC curve and ROC area for each class\n",
    "fpr = {}\n",
    "tpr = {}\n",
    "roc_auc = dict()\n",
    "for i in range(7):\n",
    "    fpr[i], tpr[i], _ = roc_curve(y_test[:, i], y_prob[:, i], drop_intermediate=False)\n",
    "    roc_auc[i] = auc(fpr[i], tpr[i])"
   ]
  },
  {
   "cell_type": "code",
   "execution_count": 53,
   "id": "cd42da01",
   "metadata": {},
   "outputs": [
    {
     "data": {
      "image/png": "[encoded data removed]",
      "text/plain": [
       "<Figure size 432x288 with 1 Axes>"
      ]
     },
     "metadata": {
      "needs_background": "light"
     },
     "output_type": "display_data"
    }
   ],
   "source": [
    "plt.plot(fpr[0], tpr[0],'v-',label='akiec: ROC curve of (area = %0.2f)' % roc_auc[0])\n",
    "plt.plot(fpr[1], tpr[1],'c',label='bcc: ROC curve of (area = %0.2f)' % roc_auc[1])\n",
    "plt.plot(fpr[2], tpr[2],'b',label='bkl: ROC curve of (area = %0.2f)' % roc_auc[2])\n",
    "plt.plot(fpr[3], tpr[3],'g',label='df: ROC curve of (area = %0.2f)' % roc_auc[3])\n",
    "plt.plot(fpr[4], tpr[4],'y',label='mel: ROC curve of (area = %0.2f)' % roc_auc[4])\n",
    "plt.plot(fpr[5], tpr[5],'o-',label='nv: ROC curve of (area = %0.2f)' % roc_auc[5])\n",
    "plt.plot(fpr[6], tpr[6],'r',label='vasc: ROC curve of (area = %0.2f)' % roc_auc[6])\n",
    "\n",
    "plt.plot([0, 1], [0, 1], 'k--')\n",
    "plt.xlim([-0.1, 1.1])\n",
    "plt.ylim([-0.1, 1.1])\n",
    "plt.xlabel('False Positive Rate')\n",
    "plt.ylabel('True Positive Rate')\n",
    "plt.title('Receiver operating characteristic of %s'%targetnames[i])\n",
    "plt.legend(loc=\"lower right\")\n",
    "plt.show()"
   ]
  },
  {
   "cell_type": "code",
   "execution_count": null,
   "id": "eb80bb58",
   "metadata": {},
   "outputs": [],
   "source": []
  }
 ],
 "metadata": {
  "kernelspec": {
   "display_name": "Python 3 (ipykernel)",
   "language": "python",
   "name": "python3"
  },
  "language_info": {
   "codemirror_mode": {
    "name": "ipython",
    "version": 3
   },
   "file_extension": ".py",
   "mimetype": "text/x-python",
   "name": "python",
   "nbconvert_exporter": "python",
   "pygments_lexer": "ipython3",
   "version": "3.9.5"
  }
 },
 "nbformat": 4,
 "nbformat_minor": 5
}
