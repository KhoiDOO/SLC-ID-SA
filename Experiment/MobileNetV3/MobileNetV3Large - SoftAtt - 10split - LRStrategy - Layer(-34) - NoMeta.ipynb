{
 "cells": [
  {
   "cell_type": "markdown",
   "id": "6157792c",
   "metadata": {},
   "source": [
    "# Setup"
   ]
  },
  {
   "cell_type": "code",
   "execution_count": 1,
   "id": "825d07e0",
   "metadata": {},
   "outputs": [],
   "source": [
    "import pandas as pd\n",
    "import numpy as np\n",
    "import os\n",
    "import tensorflow as tf\n",
    "import datetime\n",
    "import cv2\n",
    "from keras import backend as K\n",
    "from keras.layers import Layer,InputSpec\n",
    "from keras import layers\n",
    "import keras.layers as kl\n",
    "from glob import glob\n",
    "from sklearn.metrics import roc_curve, auc\n",
    "from keras.preprocessing import image\n",
    "from tensorflow.keras.models import Sequential\n",
    "from sklearn.metrics import roc_auc_score\n",
    "from sklearn import preprocessing\n",
    "from tensorflow.keras import callbacks \n",
    "from tensorflow.keras.callbacks import ModelCheckpoint, EarlyStopping, ReduceLROnPlateau\n",
    "from  matplotlib import pyplot as plt\n",
    "from tensorflow.keras import Model\n",
    "from tensorflow.keras.layers import concatenate, Dense, Conv2D, MaxPooling2D, Flatten, Input, Activation, add, AveragePooling2D, BatchNormalization, Dropout\n",
    "%matplotlib inline\n",
    "import shutil\n",
    "from sklearn.metrics import  precision_score, recall_score, accuracy_score,classification_report ,confusion_matrix\n",
    "from tensorflow.python.platform import build_info as tf_build_info\n",
    "from tensorflow.keras.preprocessing.image import ImageDataGenerator\n",
    "from sklearn.model_selection import train_test_split\n",
    "\n",
    "from PIL import ImageFile\n",
    "ImageFile.LOAD_TRUNCATED_IMAGES = True"
   ]
  },
  {
   "cell_type": "code",
   "execution_count": 2,
   "id": "0213bc9c",
   "metadata": {},
   "outputs": [
    {
     "data": {
      "text/plain": [
       "[PhysicalDevice(name='/physical_device:GPU:0', device_type='GPU')]"
      ]
     },
     "execution_count": 2,
     "metadata": {},
     "output_type": "execute_result"
    }
   ],
   "source": [
    "tf.config.list_physical_devices('GPU')"
   ]
  },
  {
   "cell_type": "markdown",
   "id": "1eab577f",
   "metadata": {},
   "source": [
    "# Data Preparation"
   ]
  },
  {
   "cell_type": "code",
   "execution_count": 3,
   "id": "b2ef3059",
   "metadata": {},
   "outputs": [],
   "source": [
    "# Environment variable\n",
    "main_dir = 'D:/Data/HAM100000 - Harvard Dataset'\n",
    "main_img_dir = main_dir + '/img_data'\n",
    "preprocessed_data_dir = main_dir + '/preprocessed_data'\n",
    "train_dir = preprocessed_data_dir + '/train'\n",
    "test_dir = preprocessed_data_dir + '/val'\n",
    "train_label = preprocessed_data_dir + '/train_label.csv'\n",
    "val_label = preprocessed_data_dir + '/val_label.csv'\n",
    "\n",
    "model_path = 'mobilenetv3LargeSoftAtt_10split_LRStr.hdf5'"
   ]
  },
  {
   "cell_type": "code",
   "execution_count": 4,
   "id": "fbaea60c",
   "metadata": {},
   "outputs": [],
   "source": [
    "target_size = (224, 224)\n",
    "def Get_data(df_path, img_path, _target_size):\n",
    "    img_list = []\n",
    "    labels = []\n",
    "    ages = []\n",
    "    sex_list = []\n",
    "    localizations = []\n",
    "    \n",
    "    df = pd.read_csv(df_path)\n",
    "    for index, row in df.iterrows():\n",
    "        img_list.append(cv2.imread(img_path + '/' + row['image_id'] + '.jpg'))\n",
    "        labels.append(row['dx'])\n",
    "        ages.append(float(row['age']))\n",
    "        sex_list.append(row['sex'])\n",
    "        localizations.append(row['localization'])\n",
    "    for x in range(len(img_list)):\n",
    "        img_list[x] = tf.keras.preprocessing.image.smart_resize(img_list[x], _target_size)\n",
    "        img_list[x] = tf.keras.applications.mobilenet_v3.preprocess_input(img_list[x])\n",
    "    le = preprocessing.LabelEncoder()\n",
    "    le.fit(labels)\n",
    "    labels = le.transform(labels)\n",
    "    labels = tf.keras.utils.to_categorical(labels)\n",
    "    return (img_list, ages, sex_list, localizations), labels"
   ]
  },
  {
   "cell_type": "code",
   "execution_count": 5,
   "id": "02cc5ad7",
   "metadata": {},
   "outputs": [
    {
     "data": {
      "text/html": [
       "<div>\n",
       "<style scoped>\n",
       "    .dataframe tbody tr th:only-of-type {\n",
       "        vertical-align: middle;\n",
       "    }\n",
       "\n",
       "    .dataframe tbody tr th {\n",
       "        vertical-align: top;\n",
       "    }\n",
       "\n",
       "    .dataframe thead th {\n",
       "        text-align: right;\n",
       "    }\n",
       "</style>\n",
       "<table border=\"1\" class=\"dataframe\">\n",
       "  <thead>\n",
       "    <tr style=\"text-align: right;\">\n",
       "      <th></th>\n",
       "      <th>Unnamed: 0</th>\n",
       "      <th>image_id</th>\n",
       "      <th>dx</th>\n",
       "      <th>age</th>\n",
       "      <th>sex</th>\n",
       "      <th>localization</th>\n",
       "    </tr>\n",
       "  </thead>\n",
       "  <tbody>\n",
       "    <tr>\n",
       "      <th>0</th>\n",
       "      <td>0</td>\n",
       "      <td>ISIC_0027419</td>\n",
       "      <td>bkl</td>\n",
       "      <td>80.0</td>\n",
       "      <td>male</td>\n",
       "      <td>scalp</td>\n",
       "    </tr>\n",
       "    <tr>\n",
       "      <th>1</th>\n",
       "      <td>1</td>\n",
       "      <td>ISIC_0025030</td>\n",
       "      <td>bkl</td>\n",
       "      <td>80.0</td>\n",
       "      <td>male</td>\n",
       "      <td>scalp</td>\n",
       "    </tr>\n",
       "    <tr>\n",
       "      <th>2</th>\n",
       "      <td>2</td>\n",
       "      <td>ISIC_0026769</td>\n",
       "      <td>bkl</td>\n",
       "      <td>80.0</td>\n",
       "      <td>male</td>\n",
       "      <td>scalp</td>\n",
       "    </tr>\n",
       "    <tr>\n",
       "      <th>3</th>\n",
       "      <td>3</td>\n",
       "      <td>ISIC_0025661</td>\n",
       "      <td>bkl</td>\n",
       "      <td>80.0</td>\n",
       "      <td>male</td>\n",
       "      <td>scalp</td>\n",
       "    </tr>\n",
       "    <tr>\n",
       "      <th>4</th>\n",
       "      <td>4</td>\n",
       "      <td>ISIC_0031633</td>\n",
       "      <td>bkl</td>\n",
       "      <td>75.0</td>\n",
       "      <td>male</td>\n",
       "      <td>ear</td>\n",
       "    </tr>\n",
       "  </tbody>\n",
       "</table>\n",
       "</div>"
      ],
      "text/plain": [
       "   Unnamed: 0      image_id   dx   age   sex localization\n",
       "0           0  ISIC_0027419  bkl  80.0  male        scalp\n",
       "1           1  ISIC_0025030  bkl  80.0  male        scalp\n",
       "2           2  ISIC_0026769  bkl  80.0  male        scalp\n",
       "3           3  ISIC_0025661  bkl  80.0  male        scalp\n",
       "4           4  ISIC_0031633  bkl  75.0  male          ear"
      ]
     },
     "execution_count": 5,
     "metadata": {},
     "output_type": "execute_result"
    }
   ],
   "source": [
    "train_df = pd.read_csv(train_label)\n",
    "train_df.head()"
   ]
  },
  {
   "cell_type": "code",
   "execution_count": 6,
   "id": "7c0476fa",
   "metadata": {},
   "outputs": [
    {
     "data": {
      "text/html": [
       "<div>\n",
       "<style scoped>\n",
       "    .dataframe tbody tr th:only-of-type {\n",
       "        vertical-align: middle;\n",
       "    }\n",
       "\n",
       "    .dataframe tbody tr th {\n",
       "        vertical-align: top;\n",
       "    }\n",
       "\n",
       "    .dataframe thead th {\n",
       "        text-align: right;\n",
       "    }\n",
       "</style>\n",
       "<table border=\"1\" class=\"dataframe\">\n",
       "  <thead>\n",
       "    <tr style=\"text-align: right;\">\n",
       "      <th></th>\n",
       "      <th>Unnamed: 0</th>\n",
       "      <th>image_id</th>\n",
       "      <th>dx</th>\n",
       "      <th>age</th>\n",
       "      <th>sex</th>\n",
       "      <th>localization</th>\n",
       "    </tr>\n",
       "  </thead>\n",
       "  <tbody>\n",
       "    <tr>\n",
       "      <th>0</th>\n",
       "      <td>2973</td>\n",
       "      <td>ISIC_0031531</td>\n",
       "      <td>bcc</td>\n",
       "      <td>70.0</td>\n",
       "      <td>male</td>\n",
       "      <td>back</td>\n",
       "    </tr>\n",
       "    <tr>\n",
       "      <th>1</th>\n",
       "      <td>483</td>\n",
       "      <td>ISIC_0026526</td>\n",
       "      <td>bkl</td>\n",
       "      <td>60.0</td>\n",
       "      <td>male</td>\n",
       "      <td>face</td>\n",
       "    </tr>\n",
       "    <tr>\n",
       "      <th>2</th>\n",
       "      <td>8870</td>\n",
       "      <td>ISIC_0026805</td>\n",
       "      <td>nv</td>\n",
       "      <td>75.0</td>\n",
       "      <td>female</td>\n",
       "      <td>lower extremity</td>\n",
       "    </tr>\n",
       "    <tr>\n",
       "      <th>3</th>\n",
       "      <td>1991</td>\n",
       "      <td>ISIC_0030756</td>\n",
       "      <td>mel</td>\n",
       "      <td>85.0</td>\n",
       "      <td>male</td>\n",
       "      <td>chest</td>\n",
       "    </tr>\n",
       "    <tr>\n",
       "      <th>4</th>\n",
       "      <td>8324</td>\n",
       "      <td>ISIC_0024834</td>\n",
       "      <td>nv</td>\n",
       "      <td>70.0</td>\n",
       "      <td>male</td>\n",
       "      <td>chest</td>\n",
       "    </tr>\n",
       "  </tbody>\n",
       "</table>\n",
       "</div>"
      ],
      "text/plain": [
       "   Unnamed: 0      image_id   dx   age     sex     localization\n",
       "0        2973  ISIC_0031531  bcc  70.0    male             back\n",
       "1         483  ISIC_0026526  bkl  60.0    male             face\n",
       "2        8870  ISIC_0026805   nv  75.0  female  lower extremity\n",
       "3        1991  ISIC_0030756  mel  85.0    male            chest\n",
       "4        8324  ISIC_0024834   nv  70.0    male            chest"
      ]
     },
     "execution_count": 6,
     "metadata": {},
     "output_type": "execute_result"
    }
   ],
   "source": [
    "val_df = pd.read_csv(val_label)\n",
    "val_df.head()"
   ]
  },
  {
   "cell_type": "markdown",
   "id": "4180af7b",
   "metadata": {},
   "source": [
    "## Training Data"
   ]
  },
  {
   "cell_type": "code",
   "execution_count": 7,
   "id": "827a6beb",
   "metadata": {},
   "outputs": [],
   "source": [
    "(train_img_lst, train_ages, train_sexes, train_localizations), labels = Get_data(train_label, main_img_dir, target_size)"
   ]
  },
  {
   "cell_type": "code",
   "execution_count": 8,
   "id": "5a06009b",
   "metadata": {},
   "outputs": [
    {
     "data": {
      "text/plain": [
       "False"
      ]
     },
     "execution_count": 8,
     "metadata": {},
     "output_type": "execute_result"
    }
   ],
   "source": [
    "any(elem is None for elem in train_img_lst)"
   ]
  },
  {
   "cell_type": "code",
   "execution_count": 9,
   "id": "6de92f29",
   "metadata": {},
   "outputs": [
    {
     "name": "stdout",
     "output_type": "stream",
     "text": [
      "Number of images: 8962\n",
      "Image shape: 224 224\n",
      "Example of Age: 80.0\n",
      "Example of Sex: male\n",
      "Example of Localization: scalp\n"
     ]
    }
   ],
   "source": [
    "print(\"Number of images: {}\".format(len(train_img_lst)))\n",
    "print(\"Image shape: {0} {1}\".format(train_img_lst[0].shape[0], train_img_lst[0].shape[1]))\n",
    "print(\"Example of Age: {}\".format(train_ages[0]))\n",
    "print(\"Example of Sex: {}\".format(train_sexes[0]))\n",
    "print(\"Example of Localization: {}\".format(train_localizations[0]))"
   ]
  },
  {
   "cell_type": "markdown",
   "id": "59c0313c",
   "metadata": {},
   "source": [
    "## Validation Data"
   ]
  },
  {
   "cell_type": "code",
   "execution_count": 10,
   "id": "4ea74922",
   "metadata": {},
   "outputs": [],
   "source": [
    "(val_img_lst, val_ages, val_sexes, val_localizations), val_labels = Get_data(val_label, main_img_dir, target_size)"
   ]
  },
  {
   "cell_type": "code",
   "execution_count": 11,
   "id": "75851082",
   "metadata": {},
   "outputs": [
    {
     "data": {
      "text/plain": [
       "False"
      ]
     },
     "execution_count": 11,
     "metadata": {},
     "output_type": "execute_result"
    }
   ],
   "source": [
    "any(elem is None for elem in val_img_lst)"
   ]
  },
  {
   "cell_type": "code",
   "execution_count": 12,
   "id": "fc76bebd",
   "metadata": {},
   "outputs": [
    {
     "name": "stdout",
     "output_type": "stream",
     "text": [
      "Number of images: 996\n",
      "Image shape: 224 224\n",
      "Example of Age: 70.0\n",
      "Example of Sex: male\n",
      "Example of Localization: back\n"
     ]
    }
   ],
   "source": [
    "print(\"Number of images: {}\".format(len(val_img_lst)))\n",
    "print(\"Image shape: {0} {1}\".format(val_img_lst[0].shape[0], val_img_lst[0].shape[1]))\n",
    "print(\"Example of Age: {}\".format(val_ages[0]))\n",
    "print(\"Example of Sex: {}\".format(val_sexes[0]))\n",
    "print(\"Example of Localization: {}\".format(val_localizations[0]))"
   ]
  },
  {
   "cell_type": "markdown",
   "id": "a834d1c1",
   "metadata": {},
   "source": [
    "# Model"
   ]
  },
  {
   "cell_type": "markdown",
   "id": "69815849",
   "metadata": {},
   "source": [
    "## Input Block"
   ]
  },
  {
   "cell_type": "code",
   "execution_count": 13,
   "id": "307f275e",
   "metadata": {},
   "outputs": [],
   "source": [
    "age_input = tf.keras.Input(shape=(1,), name='age', dtype=tf.float32)\n",
    "sex_input = tf.keras.Input(shape=(1,), name='sex', dtype=tf.string)\n",
    "localizations_input = tf.keras.Input(shape=(1,), name='localization', dtype=tf.string)\n",
    "\n",
    "inputs = {'age' : age_input,\n",
    "         'sex' : sex_input,\n",
    "         'local' : localizations_input}"
   ]
  },
  {
   "cell_type": "code",
   "execution_count": 14,
   "id": "fbdadbf5",
   "metadata": {},
   "outputs": [
    {
     "data": {
      "text/plain": [
       "<KerasTensor: shape=(None, 1) dtype=float32 (created by layer 'normalization')>"
      ]
     },
     "execution_count": 14,
     "metadata": {},
     "output_type": "execute_result"
    }
   ],
   "source": [
    "norm = layers.Normalization()\n",
    "norm.adapt(np.array(train_df[['age']]))\n",
    "age_norm_input = norm(age_input)\n",
    "age_norm_input"
   ]
  },
  {
   "cell_type": "code",
   "execution_count": 15,
   "id": "83666cc3",
   "metadata": {},
   "outputs": [
    {
     "data": {
      "text/plain": [
       "<KerasTensor: shape=(None, 4) dtype=float32 (created by layer 'category_encoding')>"
      ]
     },
     "execution_count": 15,
     "metadata": {},
     "output_type": "execute_result"
    }
   ],
   "source": [
    "# Sex input\n",
    "sex_lookup = layers.StringLookup(vocabulary=np.unique(train_df['sex']))\n",
    "sex_one_hot = layers.CategoryEncoding(num_tokens=sex_lookup.vocabulary_size())\n",
    "\n",
    "preprocessed_sex_input = sex_lookup(sex_input)\n",
    "preprocessed_sex_input = sex_one_hot(preprocessed_sex_input)\n",
    "preprocessed_sex_input"
   ]
  },
  {
   "cell_type": "code",
   "execution_count": 16,
   "id": "6662d963",
   "metadata": {},
   "outputs": [
    {
     "data": {
      "text/plain": [
       "<KerasTensor: shape=(None, 16) dtype=float32 (created by layer 'category_encoding_1')>"
      ]
     },
     "execution_count": 16,
     "metadata": {},
     "output_type": "execute_result"
    }
   ],
   "source": [
    "# Localization input\n",
    "local_lookup = layers.StringLookup(vocabulary=np.unique(train_df['localization']))\n",
    "local_one_hot = layers.CategoryEncoding(num_tokens=local_lookup.vocabulary_size())\n",
    "\n",
    "preprocess_local_input = local_lookup(localizations_input)\n",
    "preprocess_local_input = local_one_hot(preprocess_local_input)\n",
    "preprocess_local_input"
   ]
  },
  {
   "cell_type": "code",
   "execution_count": 17,
   "id": "4b5f8998",
   "metadata": {
    "scrolled": true
   },
   "outputs": [
    {
     "data": {
      "text/plain": [
       "<KerasTensor: shape=(None, 21) dtype=float32 (created by layer 'concatenate')>"
      ]
     },
     "execution_count": 17,
     "metadata": {},
     "output_type": "execute_result"
    }
   ],
   "source": [
    "preprocessed_inputs = [age_norm_input, preprocessed_sex_input, preprocess_local_input]\n",
    "preprocessed_inputs_cat = layers.Concatenate()(preprocessed_inputs)\n",
    "\n",
    "# preprocessed_Model = tf.keras.Model(inputs, preprocessed_inputs_cat)\n",
    "# tf.keras.utils.plot_model(model = preprocessed_Model , rankdir=\"LR\", dpi=72, show_shapes=True)\n",
    "\n",
    "preprocessed_inputs_cat"
   ]
  },
  {
   "cell_type": "markdown",
   "id": "4bdc3dbd",
   "metadata": {},
   "source": [
    "## Soft Attention"
   ]
  },
  {
   "cell_type": "code",
   "execution_count": 18,
   "id": "70e746d8",
   "metadata": {},
   "outputs": [],
   "source": [
    "from keras import backend as K\n",
    "from keras.layers import Layer,InputSpec\n",
    "import keras.layers as kl\n",
    "import tensorflow as tf"
   ]
  },
  {
   "cell_type": "code",
   "execution_count": 19,
   "id": "be2100ec",
   "metadata": {},
   "outputs": [],
   "source": [
    "class SoftAttention(Layer):\n",
    "    def __init__(self,ch,m,concat_with_x=False,aggregate=False,**kwargs):\n",
    "        self.channels=int(ch)\n",
    "        self.multiheads = m\n",
    "        self.aggregate_channels = aggregate\n",
    "        self.concat_input_with_scaled = concat_with_x\n",
    "\n",
    "        \n",
    "        super(SoftAttention,self).__init__(**kwargs)\n",
    "\n",
    "    def build(self,input_shape):\n",
    "\n",
    "        self.i_shape = input_shape\n",
    "\n",
    "        kernel_shape_conv3d = (self.channels, 3, 3) + (1, self.multiheads) # DHWC\n",
    "    \n",
    "        self.out_attention_maps_shape = input_shape[0:1]+(self.multiheads,)+input_shape[1:-1]\n",
    "        \n",
    "        if self.aggregate_channels==False:\n",
    "\n",
    "            self.out_features_shape = input_shape[:-1]+(input_shape[-1]+(input_shape[-1]*self.multiheads),)\n",
    "        else:\n",
    "            if self.concat_input_with_scaled:\n",
    "                self.out_features_shape = input_shape[:-1]+(input_shape[-1]*2,)\n",
    "            else:\n",
    "                self.out_features_shape = input_shape\n",
    "        \n",
    "\n",
    "        self.kernel_conv3d = self.add_weight(shape=kernel_shape_conv3d,\n",
    "                                        initializer='he_uniform',\n",
    "                                        name='kernel_conv3d')\n",
    "        self.bias_conv3d = self.add_weight(shape=(self.multiheads,),\n",
    "                                      initializer='zeros',\n",
    "                                      name='bias_conv3d')\n",
    "\n",
    "        super(SoftAttention, self).build(input_shape)\n",
    "\n",
    "    def call(self, x):\n",
    "\n",
    "        exp_x = K.expand_dims(x,axis=-1)\n",
    "\n",
    "        c3d = K.conv3d(exp_x,\n",
    "                     kernel=self.kernel_conv3d,\n",
    "                     strides=(1,1,self.i_shape[-1]), padding='same', data_format='channels_last')\n",
    "        conv3d = K.bias_add(c3d,\n",
    "                        self.bias_conv3d)\n",
    "        conv3d = kl.Activation('relu')(conv3d)\n",
    "\n",
    "        conv3d = K.permute_dimensions(conv3d,pattern=(0,4,1,2,3))\n",
    "\n",
    "        \n",
    "        conv3d = K.squeeze(conv3d, axis=-1)\n",
    "        conv3d = K.reshape(conv3d,shape=(-1, self.multiheads ,self.i_shape[1]*self.i_shape[2]))\n",
    "\n",
    "        softmax_alpha = K.softmax(conv3d, axis=-1) \n",
    "        softmax_alpha = kl.Reshape(target_shape=(self.multiheads, self.i_shape[1],self.i_shape[2]))(softmax_alpha)\n",
    "\n",
    "        \n",
    "        if self.aggregate_channels==False:\n",
    "            exp_softmax_alpha = K.expand_dims(softmax_alpha, axis=-1)       \n",
    "            exp_softmax_alpha = K.permute_dimensions(exp_softmax_alpha,pattern=(0,2,3,1,4))\n",
    "   \n",
    "            x_exp = K.expand_dims(x,axis=-2)\n",
    "   \n",
    "            u = kl.Multiply()([exp_softmax_alpha, x_exp])   \n",
    "  \n",
    "            u = kl.Reshape(target_shape=(self.i_shape[1],self.i_shape[2],u.shape[-1]*u.shape[-2]))(u)\n",
    "\n",
    "        else:\n",
    "            exp_softmax_alpha = K.permute_dimensions(softmax_alpha,pattern=(0,2,3,1))\n",
    "\n",
    "            exp_softmax_alpha = K.sum(exp_softmax_alpha,axis=-1)\n",
    "\n",
    "            exp_softmax_alpha = K.expand_dims(exp_softmax_alpha, axis=-1)\n",
    "\n",
    "            u = kl.Multiply()([exp_softmax_alpha, x])   \n",
    "\n",
    "        if self.concat_input_with_scaled:\n",
    "            o = kl.Concatenate(axis=-1)([u,x])\n",
    "        else:\n",
    "            o = u\n",
    "        \n",
    "        return [o, softmax_alpha]\n",
    "\n",
    "    def compute_output_shape(self, input_shape): \n",
    "        return [self.out_features_shape, self.out_attention_maps_shape]\n",
    "\n",
    "    \n",
    "    def get_config(self):\n",
    "        return super(SoftAttention,self).get_config()"
   ]
  },
  {
   "cell_type": "markdown",
   "id": "8cac7e2f",
   "metadata": {},
   "source": [
    "## Base Model"
   ]
  },
  {
   "cell_type": "code",
   "execution_count": 20,
   "id": "5780bf0e",
   "metadata": {},
   "outputs": [],
   "source": [
    "MobileNetV3Large = tf.keras.applications.MobileNetV3Large(\n",
    "    include_top=True,\n",
    "    weights=\"imagenet\",\n",
    "    input_tensor=None,\n",
    "    input_shape=(224,224,3),\n",
    "    pooling=None,\n",
    "\n",
    ")\n",
    "\n",
    "inputs['image'] = MobileNetV3Large.input\n",
    "\n",
    "# Exclude the last 28 layers of the model.\n",
    "MobileNetV3Large_output = MobileNetV3Large.layers[-34].output"
   ]
  },
  {
   "cell_type": "markdown",
   "id": "5ef7d2d9",
   "metadata": {},
   "source": [
    "## Final Model"
   ]
  },
  {
   "cell_type": "code",
   "execution_count": 21,
   "id": "090c75dd",
   "metadata": {},
   "outputs": [],
   "source": [
    "attention_layer,map2 = SoftAttention(aggregate=True,m=16,concat_with_x=False,ch=int(MobileNetV3Large_output.shape[-1]),name='soft_attention')(MobileNetV3Large_output)\n",
    "attention_layer=(MaxPooling2D(pool_size=(2, 2),padding=\"same\")(attention_layer))\n",
    "MobileNetV3Large_output=(MaxPooling2D(pool_size=(2, 2),padding=\"same\")(MobileNetV3Large_output))\n",
    "\n",
    "MobileNetV3Large_output = layers.Concatenate()([MobileNetV3Large_output, attention_layer])\n",
    "MobileNetV3Large_output = Activation('relu')(MobileNetV3Large_output)\n",
    "MobileNetV3Large_output = Dropout(0.5)(MobileNetV3Large_output)"
   ]
  },
  {
   "cell_type": "code",
   "execution_count": 22,
   "id": "a22836b0",
   "metadata": {},
   "outputs": [],
   "source": [
    "output = Flatten()(MobileNetV3Large_output)\n",
    "#preprocessed_inputs_cat = (layers.Dense(4096, activation = 'relu')(preprocessed_inputs_cat))\n",
    "#output = layers.Concatenate()([output, preprocessed_inputs_cat])\n",
    "output = Dense(7, activation='softmax')(output)\n",
    "model = Model(inputs=inputs, outputs=output)"
   ]
  },
  {
   "cell_type": "code",
   "execution_count": 23,
   "id": "ffd90327",
   "metadata": {},
   "outputs": [
    {
     "name": "stdout",
     "output_type": "stream",
     "text": [
      "Model: \"model\"\n",
      "__________________________________________________________________________________________________\n",
      " Layer (type)                   Output Shape         Param #     Connected to                     \n",
      "==================================================================================================\n",
      " input_1 (InputLayer)           [(None, 224, 224, 3  0           []                               \n",
      "                                )]                                                                \n",
      "                                                                                                  \n",
      " rescaling (Rescaling)          (None, 224, 224, 3)  0           ['input_1[0][0]']                \n",
      "                                                                                                  \n",
      " Conv (Conv2D)                  (None, 112, 112, 16  432         ['rescaling[0][0]']              \n",
      "                                )                                                                 \n",
      "                                                                                                  \n",
      " Conv/BatchNorm (BatchNormaliza  (None, 112, 112, 16  64         ['Conv[0][0]']                   \n",
      " tion)                          )                                                                 \n",
      "                                                                                                  \n",
      " tf.__operators__.add (TFOpLamb  (None, 112, 112, 16  0          ['Conv/BatchNorm[0][0]']         \n",
      " da)                            )                                                                 \n",
      "                                                                                                  \n",
      " re_lu (ReLU)                   (None, 112, 112, 16  0           ['tf.__operators__.add[0][0]']   \n",
      "                                )                                                                 \n",
      "                                                                                                  \n",
      " tf.math.multiply (TFOpLambda)  (None, 112, 112, 16  0           ['re_lu[0][0]']                  \n",
      "                                )                                                                 \n",
      "                                                                                                  \n",
      " multiply (Multiply)            (None, 112, 112, 16  0           ['Conv/BatchNorm[0][0]',         \n",
      "                                )                                 'tf.math.multiply[0][0]']       \n",
      "                                                                                                  \n",
      " expanded_conv/depthwise (Depth  (None, 112, 112, 16  144        ['multiply[0][0]']               \n",
      " wiseConv2D)                    )                                                                 \n",
      "                                                                                                  \n",
      " expanded_conv/depthwise/BatchN  (None, 112, 112, 16  64         ['expanded_conv/depthwise[0][0]']\n",
      " orm (BatchNormalization)       )                                                                 \n",
      "                                                                                                  \n",
      " re_lu_1 (ReLU)                 (None, 112, 112, 16  0           ['expanded_conv/depthwise/BatchNo\n",
      "                                )                                rm[0][0]']                       \n",
      "                                                                                                  \n",
      " expanded_conv/project (Conv2D)  (None, 112, 112, 16  256        ['re_lu_1[0][0]']                \n",
      "                                )                                                                 \n",
      "                                                                                                  \n",
      " expanded_conv/project/BatchNor  (None, 112, 112, 16  64         ['expanded_conv/project[0][0]']  \n",
      " m (BatchNormalization)         )                                                                 \n",
      "                                                                                                  \n",
      " expanded_conv/Add (Add)        (None, 112, 112, 16  0           ['multiply[0][0]',               \n",
      "                                )                                 'expanded_conv/project/BatchNorm\n",
      "                                                                 [0][0]']                         \n",
      "                                                                                                  \n",
      " expanded_conv_1/expand (Conv2D  (None, 112, 112, 64  1024       ['expanded_conv/Add[0][0]']      \n",
      " )                              )                                                                 \n",
      "                                                                                                  \n",
      " expanded_conv_1/expand/BatchNo  (None, 112, 112, 64  256        ['expanded_conv_1/expand[0][0]'] \n",
      " rm (BatchNormalization)        )                                                                 \n",
      "                                                                                                  \n",
      " re_lu_2 (ReLU)                 (None, 112, 112, 64  0           ['expanded_conv_1/expand/BatchNor\n",
      "                                )                                m[0][0]']                        \n",
      "                                                                                                  \n",
      " expanded_conv_1/depthwise/pad   (None, 113, 113, 64  0          ['re_lu_2[0][0]']                \n",
      " (ZeroPadding2D)                )                                                                 \n",
      "                                                                                                  \n",
      " expanded_conv_1/depthwise (Dep  (None, 56, 56, 64)  576         ['expanded_conv_1/depthwise/pad[0\n",
      " thwiseConv2D)                                                   ][0]']                           \n",
      "                                                                                                  \n",
      " expanded_conv_1/depthwise/Batc  (None, 56, 56, 64)  256         ['expanded_conv_1/depthwise[0][0]\n",
      " hNorm (BatchNormalization)                                      ']                               \n",
      "                                                                                                  \n",
      " re_lu_3 (ReLU)                 (None, 56, 56, 64)   0           ['expanded_conv_1/depthwise/Batch\n",
      "                                                                 Norm[0][0]']                     \n",
      "                                                                                                  \n",
      " expanded_conv_1/project (Conv2  (None, 56, 56, 24)  1536        ['re_lu_3[0][0]']                \n",
      " D)                                                                                               \n",
      "                                                                                                  \n",
      " expanded_conv_1/project/BatchN  (None, 56, 56, 24)  96          ['expanded_conv_1/project[0][0]']\n",
      " orm (BatchNormalization)                                                                         \n",
      "                                                                                                  \n",
      " expanded_conv_2/expand (Conv2D  (None, 56, 56, 72)  1728        ['expanded_conv_1/project/BatchNo\n",
      " )                                                               rm[0][0]']                       \n",
      "                                                                                                  \n",
      " expanded_conv_2/expand/BatchNo  (None, 56, 56, 72)  288         ['expanded_conv_2/expand[0][0]'] \n",
      " rm (BatchNormalization)                                                                          \n",
      "                                                                                                  \n",
      " re_lu_4 (ReLU)                 (None, 56, 56, 72)   0           ['expanded_conv_2/expand/BatchNor\n",
      "                                                                 m[0][0]']                        \n",
      "                                                                                                  \n",
      " expanded_conv_2/depthwise (Dep  (None, 56, 56, 72)  648         ['re_lu_4[0][0]']                \n",
      " thwiseConv2D)                                                                                    \n"
     ]
    },
    {
     "name": "stdout",
     "output_type": "stream",
     "text": [
      "                                                                                                  \n",
      " expanded_conv_2/depthwise/Batc  (None, 56, 56, 72)  288         ['expanded_conv_2/depthwise[0][0]\n",
      " hNorm (BatchNormalization)                                      ']                               \n",
      "                                                                                                  \n",
      " re_lu_5 (ReLU)                 (None, 56, 56, 72)   0           ['expanded_conv_2/depthwise/Batch\n",
      "                                                                 Norm[0][0]']                     \n",
      "                                                                                                  \n",
      " expanded_conv_2/project (Conv2  (None, 56, 56, 24)  1728        ['re_lu_5[0][0]']                \n",
      " D)                                                                                               \n",
      "                                                                                                  \n",
      " expanded_conv_2/project/BatchN  (None, 56, 56, 24)  96          ['expanded_conv_2/project[0][0]']\n",
      " orm (BatchNormalization)                                                                         \n",
      "                                                                                                  \n",
      " expanded_conv_2/Add (Add)      (None, 56, 56, 24)   0           ['expanded_conv_1/project/BatchNo\n",
      "                                                                 rm[0][0]',                       \n",
      "                                                                  'expanded_conv_2/project/BatchNo\n",
      "                                                                 rm[0][0]']                       \n",
      "                                                                                                  \n",
      " expanded_conv_3/expand (Conv2D  (None, 56, 56, 72)  1728        ['expanded_conv_2/Add[0][0]']    \n",
      " )                                                                                                \n",
      "                                                                                                  \n",
      " expanded_conv_3/expand/BatchNo  (None, 56, 56, 72)  288         ['expanded_conv_3/expand[0][0]'] \n",
      " rm (BatchNormalization)                                                                          \n",
      "                                                                                                  \n",
      " re_lu_6 (ReLU)                 (None, 56, 56, 72)   0           ['expanded_conv_3/expand/BatchNor\n",
      "                                                                 m[0][0]']                        \n",
      "                                                                                                  \n",
      " expanded_conv_3/depthwise/pad   (None, 59, 59, 72)  0           ['re_lu_6[0][0]']                \n",
      " (ZeroPadding2D)                                                                                  \n",
      "                                                                                                  \n",
      " expanded_conv_3/depthwise (Dep  (None, 28, 28, 72)  1800        ['expanded_conv_3/depthwise/pad[0\n",
      " thwiseConv2D)                                                   ][0]']                           \n",
      "                                                                                                  \n",
      " expanded_conv_3/depthwise/Batc  (None, 28, 28, 72)  288         ['expanded_conv_3/depthwise[0][0]\n",
      " hNorm (BatchNormalization)                                      ']                               \n",
      "                                                                                                  \n",
      " re_lu_7 (ReLU)                 (None, 28, 28, 72)   0           ['expanded_conv_3/depthwise/Batch\n",
      "                                                                 Norm[0][0]']                     \n",
      "                                                                                                  \n",
      " expanded_conv_3/squeeze_excite  (None, 1, 1, 72)    0           ['re_lu_7[0][0]']                \n",
      " /AvgPool (GlobalAveragePooling                                                                   \n",
      " 2D)                                                                                              \n",
      "                                                                                                  \n",
      " expanded_conv_3/squeeze_excite  (None, 1, 1, 24)    1752        ['expanded_conv_3/squeeze_excite/\n",
      " /Conv (Conv2D)                                                  AvgPool[0][0]']                  \n",
      "                                                                                                  \n",
      " expanded_conv_3/squeeze_excite  (None, 1, 1, 24)    0           ['expanded_conv_3/squeeze_excite/\n",
      " /Relu (ReLU)                                                    Conv[0][0]']                     \n",
      "                                                                                                  \n",
      " expanded_conv_3/squeeze_excite  (None, 1, 1, 72)    1800        ['expanded_conv_3/squeeze_excite/\n",
      " /Conv_1 (Conv2D)                                                Relu[0][0]']                     \n",
      "                                                                                                  \n",
      " tf.__operators__.add_1 (TFOpLa  (None, 1, 1, 72)    0           ['expanded_conv_3/squeeze_excite/\n",
      " mbda)                                                           Conv_1[0][0]']                   \n",
      "                                                                                                  \n",
      " re_lu_8 (ReLU)                 (None, 1, 1, 72)     0           ['tf.__operators__.add_1[0][0]'] \n",
      "                                                                                                  \n",
      " tf.math.multiply_1 (TFOpLambda  (None, 1, 1, 72)    0           ['re_lu_8[0][0]']                \n",
      " )                                                                                                \n",
      "                                                                                                  \n",
      " expanded_conv_3/squeeze_excite  (None, 28, 28, 72)  0           ['re_lu_7[0][0]',                \n",
      " /Mul (Multiply)                                                  'tf.math.multiply_1[0][0]']     \n",
      "                                                                                                  \n",
      " expanded_conv_3/project (Conv2  (None, 28, 28, 40)  2880        ['expanded_conv_3/squeeze_excite/\n",
      " D)                                                              Mul[0][0]']                      \n",
      "                                                                                                  \n",
      " expanded_conv_3/project/BatchN  (None, 28, 28, 40)  160         ['expanded_conv_3/project[0][0]']\n",
      " orm (BatchNormalization)                                                                         \n",
      "                                                                                                  \n",
      " expanded_conv_4/expand (Conv2D  (None, 28, 28, 120)  4800       ['expanded_conv_3/project/BatchNo\n",
      " )                                                               rm[0][0]']                       \n",
      "                                                                                                  \n",
      " expanded_conv_4/expand/BatchNo  (None, 28, 28, 120)  480        ['expanded_conv_4/expand[0][0]'] \n",
      " rm (BatchNormalization)                                                                          \n",
      "                                                                                                  \n",
      " re_lu_9 (ReLU)                 (None, 28, 28, 120)  0           ['expanded_conv_4/expand/BatchNor\n",
      "                                                                 m[0][0]']                        \n",
      "                                                                                                  \n",
      " expanded_conv_4/depthwise (Dep  (None, 28, 28, 120)  3000       ['re_lu_9[0][0]']                \n",
      " thwiseConv2D)                                                                                    \n",
      "                                                                                                  \n",
      " expanded_conv_4/depthwise/Batc  (None, 28, 28, 120)  480        ['expanded_conv_4/depthwise[0][0]\n",
      " hNorm (BatchNormalization)                                      ']                               \n"
     ]
    },
    {
     "name": "stdout",
     "output_type": "stream",
     "text": [
      "                                                                                                  \n",
      " re_lu_10 (ReLU)                (None, 28, 28, 120)  0           ['expanded_conv_4/depthwise/Batch\n",
      "                                                                 Norm[0][0]']                     \n",
      "                                                                                                  \n",
      " expanded_conv_4/squeeze_excite  (None, 1, 1, 120)   0           ['re_lu_10[0][0]']               \n",
      " /AvgPool (GlobalAveragePooling                                                                   \n",
      " 2D)                                                                                              \n",
      "                                                                                                  \n",
      " expanded_conv_4/squeeze_excite  (None, 1, 1, 32)    3872        ['expanded_conv_4/squeeze_excite/\n",
      " /Conv (Conv2D)                                                  AvgPool[0][0]']                  \n",
      "                                                                                                  \n",
      " expanded_conv_4/squeeze_excite  (None, 1, 1, 32)    0           ['expanded_conv_4/squeeze_excite/\n",
      " /Relu (ReLU)                                                    Conv[0][0]']                     \n",
      "                                                                                                  \n",
      " expanded_conv_4/squeeze_excite  (None, 1, 1, 120)   3960        ['expanded_conv_4/squeeze_excite/\n",
      " /Conv_1 (Conv2D)                                                Relu[0][0]']                     \n",
      "                                                                                                  \n",
      " tf.__operators__.add_2 (TFOpLa  (None, 1, 1, 120)   0           ['expanded_conv_4/squeeze_excite/\n",
      " mbda)                                                           Conv_1[0][0]']                   \n",
      "                                                                                                  \n",
      " re_lu_11 (ReLU)                (None, 1, 1, 120)    0           ['tf.__operators__.add_2[0][0]'] \n",
      "                                                                                                  \n",
      " tf.math.multiply_2 (TFOpLambda  (None, 1, 1, 120)   0           ['re_lu_11[0][0]']               \n",
      " )                                                                                                \n",
      "                                                                                                  \n",
      " expanded_conv_4/squeeze_excite  (None, 28, 28, 120)  0          ['re_lu_10[0][0]',               \n",
      " /Mul (Multiply)                                                  'tf.math.multiply_2[0][0]']     \n",
      "                                                                                                  \n",
      " expanded_conv_4/project (Conv2  (None, 28, 28, 40)  4800        ['expanded_conv_4/squeeze_excite/\n",
      " D)                                                              Mul[0][0]']                      \n",
      "                                                                                                  \n",
      " expanded_conv_4/project/BatchN  (None, 28, 28, 40)  160         ['expanded_conv_4/project[0][0]']\n",
      " orm (BatchNormalization)                                                                         \n",
      "                                                                                                  \n",
      " expanded_conv_4/Add (Add)      (None, 28, 28, 40)   0           ['expanded_conv_3/project/BatchNo\n",
      "                                                                 rm[0][0]',                       \n",
      "                                                                  'expanded_conv_4/project/BatchNo\n",
      "                                                                 rm[0][0]']                       \n",
      "                                                                                                  \n",
      " expanded_conv_5/expand (Conv2D  (None, 28, 28, 120)  4800       ['expanded_conv_4/Add[0][0]']    \n",
      " )                                                                                                \n",
      "                                                                                                  \n",
      " expanded_conv_5/expand/BatchNo  (None, 28, 28, 120)  480        ['expanded_conv_5/expand[0][0]'] \n",
      " rm (BatchNormalization)                                                                          \n",
      "                                                                                                  \n",
      " re_lu_12 (ReLU)                (None, 28, 28, 120)  0           ['expanded_conv_5/expand/BatchNor\n",
      "                                                                 m[0][0]']                        \n",
      "                                                                                                  \n",
      " expanded_conv_5/depthwise (Dep  (None, 28, 28, 120)  3000       ['re_lu_12[0][0]']               \n",
      " thwiseConv2D)                                                                                    \n",
      "                                                                                                  \n",
      " expanded_conv_5/depthwise/Batc  (None, 28, 28, 120)  480        ['expanded_conv_5/depthwise[0][0]\n",
      " hNorm (BatchNormalization)                                      ']                               \n",
      "                                                                                                  \n",
      " re_lu_13 (ReLU)                (None, 28, 28, 120)  0           ['expanded_conv_5/depthwise/Batch\n",
      "                                                                 Norm[0][0]']                     \n",
      "                                                                                                  \n",
      " expanded_conv_5/squeeze_excite  (None, 1, 1, 120)   0           ['re_lu_13[0][0]']               \n",
      " /AvgPool (GlobalAveragePooling                                                                   \n",
      " 2D)                                                                                              \n",
      "                                                                                                  \n",
      " expanded_conv_5/squeeze_excite  (None, 1, 1, 32)    3872        ['expanded_conv_5/squeeze_excite/\n",
      " /Conv (Conv2D)                                                  AvgPool[0][0]']                  \n",
      "                                                                                                  \n",
      " expanded_conv_5/squeeze_excite  (None, 1, 1, 32)    0           ['expanded_conv_5/squeeze_excite/\n",
      " /Relu (ReLU)                                                    Conv[0][0]']                     \n",
      "                                                                                                  \n",
      " expanded_conv_5/squeeze_excite  (None, 1, 1, 120)   3960        ['expanded_conv_5/squeeze_excite/\n",
      " /Conv_1 (Conv2D)                                                Relu[0][0]']                     \n",
      "                                                                                                  \n",
      " tf.__operators__.add_3 (TFOpLa  (None, 1, 1, 120)   0           ['expanded_conv_5/squeeze_excite/\n",
      " mbda)                                                           Conv_1[0][0]']                   \n",
      "                                                                                                  \n",
      " re_lu_14 (ReLU)                (None, 1, 1, 120)    0           ['tf.__operators__.add_3[0][0]'] \n",
      "                                                                                                  \n",
      " tf.math.multiply_3 (TFOpLambda  (None, 1, 1, 120)   0           ['re_lu_14[0][0]']               \n",
      " )                                                                                                \n",
      "                                                                                                  \n",
      " expanded_conv_5/squeeze_excite  (None, 28, 28, 120)  0          ['re_lu_13[0][0]',               \n",
      " /Mul (Multiply)                                                  'tf.math.multiply_3[0][0]']     \n",
      "                                                                                                  \n",
      " expanded_conv_5/project (Conv2  (None, 28, 28, 40)  4800        ['expanded_conv_5/squeeze_excite/\n",
      " D)                                                              Mul[0][0]']                      \n"
     ]
    },
    {
     "name": "stdout",
     "output_type": "stream",
     "text": [
      "                                                                                                  \n",
      " expanded_conv_5/project/BatchN  (None, 28, 28, 40)  160         ['expanded_conv_5/project[0][0]']\n",
      " orm (BatchNormalization)                                                                         \n",
      "                                                                                                  \n",
      " expanded_conv_5/Add (Add)      (None, 28, 28, 40)   0           ['expanded_conv_4/Add[0][0]',    \n",
      "                                                                  'expanded_conv_5/project/BatchNo\n",
      "                                                                 rm[0][0]']                       \n",
      "                                                                                                  \n",
      " expanded_conv_6/expand (Conv2D  (None, 28, 28, 240)  9600       ['expanded_conv_5/Add[0][0]']    \n",
      " )                                                                                                \n",
      "                                                                                                  \n",
      " expanded_conv_6/expand/BatchNo  (None, 28, 28, 240)  960        ['expanded_conv_6/expand[0][0]'] \n",
      " rm (BatchNormalization)                                                                          \n",
      "                                                                                                  \n",
      " tf.__operators__.add_4 (TFOpLa  (None, 28, 28, 240)  0          ['expanded_conv_6/expand/BatchNor\n",
      " mbda)                                                           m[0][0]']                        \n",
      "                                                                                                  \n",
      " re_lu_15 (ReLU)                (None, 28, 28, 240)  0           ['tf.__operators__.add_4[0][0]'] \n",
      "                                                                                                  \n",
      " tf.math.multiply_4 (TFOpLambda  (None, 28, 28, 240)  0          ['re_lu_15[0][0]']               \n",
      " )                                                                                                \n",
      "                                                                                                  \n",
      " multiply_1 (Multiply)          (None, 28, 28, 240)  0           ['expanded_conv_6/expand/BatchNor\n",
      "                                                                 m[0][0]',                        \n",
      "                                                                  'tf.math.multiply_4[0][0]']     \n",
      "                                                                                                  \n",
      " expanded_conv_6/depthwise/pad   (None, 29, 29, 240)  0          ['multiply_1[0][0]']             \n",
      " (ZeroPadding2D)                                                                                  \n",
      "                                                                                                  \n",
      " expanded_conv_6/depthwise (Dep  (None, 14, 14, 240)  2160       ['expanded_conv_6/depthwise/pad[0\n",
      " thwiseConv2D)                                                   ][0]']                           \n",
      "                                                                                                  \n",
      " expanded_conv_6/depthwise/Batc  (None, 14, 14, 240)  960        ['expanded_conv_6/depthwise[0][0]\n",
      " hNorm (BatchNormalization)                                      ']                               \n",
      "                                                                                                  \n",
      " tf.__operators__.add_5 (TFOpLa  (None, 14, 14, 240)  0          ['expanded_conv_6/depthwise/Batch\n",
      " mbda)                                                           Norm[0][0]']                     \n",
      "                                                                                                  \n",
      " re_lu_16 (ReLU)                (None, 14, 14, 240)  0           ['tf.__operators__.add_5[0][0]'] \n",
      "                                                                                                  \n",
      " tf.math.multiply_5 (TFOpLambda  (None, 14, 14, 240)  0          ['re_lu_16[0][0]']               \n",
      " )                                                                                                \n",
      "                                                                                                  \n",
      " multiply_2 (Multiply)          (None, 14, 14, 240)  0           ['expanded_conv_6/depthwise/Batch\n",
      "                                                                 Norm[0][0]',                     \n",
      "                                                                  'tf.math.multiply_5[0][0]']     \n",
      "                                                                                                  \n",
      " expanded_conv_6/project (Conv2  (None, 14, 14, 80)  19200       ['multiply_2[0][0]']             \n",
      " D)                                                                                               \n",
      "                                                                                                  \n",
      " expanded_conv_6/project/BatchN  (None, 14, 14, 80)  320         ['expanded_conv_6/project[0][0]']\n",
      " orm (BatchNormalization)                                                                         \n",
      "                                                                                                  \n",
      " expanded_conv_7/expand (Conv2D  (None, 14, 14, 200)  16000      ['expanded_conv_6/project/BatchNo\n",
      " )                                                               rm[0][0]']                       \n",
      "                                                                                                  \n",
      " expanded_conv_7/expand/BatchNo  (None, 14, 14, 200)  800        ['expanded_conv_7/expand[0][0]'] \n",
      " rm (BatchNormalization)                                                                          \n",
      "                                                                                                  \n",
      " tf.__operators__.add_6 (TFOpLa  (None, 14, 14, 200)  0          ['expanded_conv_7/expand/BatchNor\n",
      " mbda)                                                           m[0][0]']                        \n",
      "                                                                                                  \n",
      " re_lu_17 (ReLU)                (None, 14, 14, 200)  0           ['tf.__operators__.add_6[0][0]'] \n",
      "                                                                                                  \n",
      " tf.math.multiply_6 (TFOpLambda  (None, 14, 14, 200)  0          ['re_lu_17[0][0]']               \n",
      " )                                                                                                \n",
      "                                                                                                  \n",
      " multiply_3 (Multiply)          (None, 14, 14, 200)  0           ['expanded_conv_7/expand/BatchNor\n",
      "                                                                 m[0][0]',                        \n",
      "                                                                  'tf.math.multiply_6[0][0]']     \n",
      "                                                                                                  \n",
      " expanded_conv_7/depthwise (Dep  (None, 14, 14, 200)  1800       ['multiply_3[0][0]']             \n",
      " thwiseConv2D)                                                                                    \n",
      "                                                                                                  \n",
      " expanded_conv_7/depthwise/Batc  (None, 14, 14, 200)  800        ['expanded_conv_7/depthwise[0][0]\n",
      " hNorm (BatchNormalization)                                      ']                               \n",
      "                                                                                                  \n",
      " tf.__operators__.add_7 (TFOpLa  (None, 14, 14, 200)  0          ['expanded_conv_7/depthwise/Batch\n",
      " mbda)                                                           Norm[0][0]']                     \n",
      "                                                                                                  \n",
      " re_lu_18 (ReLU)                (None, 14, 14, 200)  0           ['tf.__operators__.add_7[0][0]'] \n",
      "                                                                                                  \n",
      " tf.math.multiply_7 (TFOpLambda  (None, 14, 14, 200)  0          ['re_lu_18[0][0]']               \n"
     ]
    },
    {
     "name": "stdout",
     "output_type": "stream",
     "text": [
      " )                                                                                                \n",
      "                                                                                                  \n",
      " multiply_4 (Multiply)          (None, 14, 14, 200)  0           ['expanded_conv_7/depthwise/Batch\n",
      "                                                                 Norm[0][0]',                     \n",
      "                                                                  'tf.math.multiply_7[0][0]']     \n",
      "                                                                                                  \n",
      " expanded_conv_7/project (Conv2  (None, 14, 14, 80)  16000       ['multiply_4[0][0]']             \n",
      " D)                                                                                               \n",
      "                                                                                                  \n",
      " expanded_conv_7/project/BatchN  (None, 14, 14, 80)  320         ['expanded_conv_7/project[0][0]']\n",
      " orm (BatchNormalization)                                                                         \n",
      "                                                                                                  \n",
      " expanded_conv_7/Add (Add)      (None, 14, 14, 80)   0           ['expanded_conv_6/project/BatchNo\n",
      "                                                                 rm[0][0]',                       \n",
      "                                                                  'expanded_conv_7/project/BatchNo\n",
      "                                                                 rm[0][0]']                       \n",
      "                                                                                                  \n",
      " expanded_conv_8/expand (Conv2D  (None, 14, 14, 184)  14720      ['expanded_conv_7/Add[0][0]']    \n",
      " )                                                                                                \n",
      "                                                                                                  \n",
      " expanded_conv_8/expand/BatchNo  (None, 14, 14, 184)  736        ['expanded_conv_8/expand[0][0]'] \n",
      " rm (BatchNormalization)                                                                          \n",
      "                                                                                                  \n",
      " tf.__operators__.add_8 (TFOpLa  (None, 14, 14, 184)  0          ['expanded_conv_8/expand/BatchNor\n",
      " mbda)                                                           m[0][0]']                        \n",
      "                                                                                                  \n",
      " re_lu_19 (ReLU)                (None, 14, 14, 184)  0           ['tf.__operators__.add_8[0][0]'] \n",
      "                                                                                                  \n",
      " tf.math.multiply_8 (TFOpLambda  (None, 14, 14, 184)  0          ['re_lu_19[0][0]']               \n",
      " )                                                                                                \n",
      "                                                                                                  \n",
      " multiply_5 (Multiply)          (None, 14, 14, 184)  0           ['expanded_conv_8/expand/BatchNor\n",
      "                                                                 m[0][0]',                        \n",
      "                                                                  'tf.math.multiply_8[0][0]']     \n",
      "                                                                                                  \n",
      " expanded_conv_8/depthwise (Dep  (None, 14, 14, 184)  1656       ['multiply_5[0][0]']             \n",
      " thwiseConv2D)                                                                                    \n",
      "                                                                                                  \n",
      " expanded_conv_8/depthwise/Batc  (None, 14, 14, 184)  736        ['expanded_conv_8/depthwise[0][0]\n",
      " hNorm (BatchNormalization)                                      ']                               \n",
      "                                                                                                  \n",
      " tf.__operators__.add_9 (TFOpLa  (None, 14, 14, 184)  0          ['expanded_conv_8/depthwise/Batch\n",
      " mbda)                                                           Norm[0][0]']                     \n",
      "                                                                                                  \n",
      " re_lu_20 (ReLU)                (None, 14, 14, 184)  0           ['tf.__operators__.add_9[0][0]'] \n",
      "                                                                                                  \n",
      " tf.math.multiply_9 (TFOpLambda  (None, 14, 14, 184)  0          ['re_lu_20[0][0]']               \n",
      " )                                                                                                \n",
      "                                                                                                  \n",
      " multiply_6 (Multiply)          (None, 14, 14, 184)  0           ['expanded_conv_8/depthwise/Batch\n",
      "                                                                 Norm[0][0]',                     \n",
      "                                                                  'tf.math.multiply_9[0][0]']     \n",
      "                                                                                                  \n",
      " expanded_conv_8/project (Conv2  (None, 14, 14, 80)  14720       ['multiply_6[0][0]']             \n",
      " D)                                                                                               \n",
      "                                                                                                  \n",
      " expanded_conv_8/project/BatchN  (None, 14, 14, 80)  320         ['expanded_conv_8/project[0][0]']\n",
      " orm (BatchNormalization)                                                                         \n",
      "                                                                                                  \n",
      " expanded_conv_8/Add (Add)      (None, 14, 14, 80)   0           ['expanded_conv_7/Add[0][0]',    \n",
      "                                                                  'expanded_conv_8/project/BatchNo\n",
      "                                                                 rm[0][0]']                       \n",
      "                                                                                                  \n",
      " expanded_conv_9/expand (Conv2D  (None, 14, 14, 184)  14720      ['expanded_conv_8/Add[0][0]']    \n",
      " )                                                                                                \n",
      "                                                                                                  \n",
      " expanded_conv_9/expand/BatchNo  (None, 14, 14, 184)  736        ['expanded_conv_9/expand[0][0]'] \n",
      " rm (BatchNormalization)                                                                          \n",
      "                                                                                                  \n",
      " tf.__operators__.add_10 (TFOpL  (None, 14, 14, 184)  0          ['expanded_conv_9/expand/BatchNor\n",
      " ambda)                                                          m[0][0]']                        \n",
      "                                                                                                  \n",
      " re_lu_21 (ReLU)                (None, 14, 14, 184)  0           ['tf.__operators__.add_10[0][0]']\n",
      "                                                                                                  \n",
      " tf.math.multiply_10 (TFOpLambd  (None, 14, 14, 184)  0          ['re_lu_21[0][0]']               \n",
      " a)                                                                                               \n",
      "                                                                                                  \n",
      " multiply_7 (Multiply)          (None, 14, 14, 184)  0           ['expanded_conv_9/expand/BatchNor\n",
      "                                                                 m[0][0]',                        \n",
      "                                                                  'tf.math.multiply_10[0][0]']    \n",
      "                                                                                                  \n",
      " expanded_conv_9/depthwise (Dep  (None, 14, 14, 184)  1656       ['multiply_7[0][0]']             \n",
      " thwiseConv2D)                                                                                    \n"
     ]
    },
    {
     "name": "stdout",
     "output_type": "stream",
     "text": [
      "                                                                                                  \n",
      " expanded_conv_9/depthwise/Batc  (None, 14, 14, 184)  736        ['expanded_conv_9/depthwise[0][0]\n",
      " hNorm (BatchNormalization)                                      ']                               \n",
      "                                                                                                  \n",
      " tf.__operators__.add_11 (TFOpL  (None, 14, 14, 184)  0          ['expanded_conv_9/depthwise/Batch\n",
      " ambda)                                                          Norm[0][0]']                     \n",
      "                                                                                                  \n",
      " re_lu_22 (ReLU)                (None, 14, 14, 184)  0           ['tf.__operators__.add_11[0][0]']\n",
      "                                                                                                  \n",
      " tf.math.multiply_11 (TFOpLambd  (None, 14, 14, 184)  0          ['re_lu_22[0][0]']               \n",
      " a)                                                                                               \n",
      "                                                                                                  \n",
      " multiply_8 (Multiply)          (None, 14, 14, 184)  0           ['expanded_conv_9/depthwise/Batch\n",
      "                                                                 Norm[0][0]',                     \n",
      "                                                                  'tf.math.multiply_11[0][0]']    \n",
      "                                                                                                  \n",
      " expanded_conv_9/project (Conv2  (None, 14, 14, 80)  14720       ['multiply_8[0][0]']             \n",
      " D)                                                                                               \n",
      "                                                                                                  \n",
      " expanded_conv_9/project/BatchN  (None, 14, 14, 80)  320         ['expanded_conv_9/project[0][0]']\n",
      " orm (BatchNormalization)                                                                         \n",
      "                                                                                                  \n",
      " expanded_conv_9/Add (Add)      (None, 14, 14, 80)   0           ['expanded_conv_8/Add[0][0]',    \n",
      "                                                                  'expanded_conv_9/project/BatchNo\n",
      "                                                                 rm[0][0]']                       \n",
      "                                                                                                  \n",
      " expanded_conv_10/expand (Conv2  (None, 14, 14, 480)  38400      ['expanded_conv_9/Add[0][0]']    \n",
      " D)                                                                                               \n",
      "                                                                                                  \n",
      " expanded_conv_10/expand/BatchN  (None, 14, 14, 480)  1920       ['expanded_conv_10/expand[0][0]']\n",
      " orm (BatchNormalization)                                                                         \n",
      "                                                                                                  \n",
      " tf.__operators__.add_12 (TFOpL  (None, 14, 14, 480)  0          ['expanded_conv_10/expand/BatchNo\n",
      " ambda)                                                          rm[0][0]']                       \n",
      "                                                                                                  \n",
      " re_lu_23 (ReLU)                (None, 14, 14, 480)  0           ['tf.__operators__.add_12[0][0]']\n",
      "                                                                                                  \n",
      " tf.math.multiply_12 (TFOpLambd  (None, 14, 14, 480)  0          ['re_lu_23[0][0]']               \n",
      " a)                                                                                               \n",
      "                                                                                                  \n",
      " multiply_9 (Multiply)          (None, 14, 14, 480)  0           ['expanded_conv_10/expand/BatchNo\n",
      "                                                                 rm[0][0]',                       \n",
      "                                                                  'tf.math.multiply_12[0][0]']    \n",
      "                                                                                                  \n",
      " expanded_conv_10/depthwise (De  (None, 14, 14, 480)  4320       ['multiply_9[0][0]']             \n",
      " pthwiseConv2D)                                                                                   \n",
      "                                                                                                  \n",
      " expanded_conv_10/depthwise/Bat  (None, 14, 14, 480)  1920       ['expanded_conv_10/depthwise[0][0\n",
      " chNorm (BatchNormalization)                                     ]']                              \n",
      "                                                                                                  \n",
      " tf.__operators__.add_13 (TFOpL  (None, 14, 14, 480)  0          ['expanded_conv_10/depthwise/Batc\n",
      " ambda)                                                          hNorm[0][0]']                    \n",
      "                                                                                                  \n",
      " re_lu_24 (ReLU)                (None, 14, 14, 480)  0           ['tf.__operators__.add_13[0][0]']\n",
      "                                                                                                  \n",
      " tf.math.multiply_13 (TFOpLambd  (None, 14, 14, 480)  0          ['re_lu_24[0][0]']               \n",
      " a)                                                                                               \n",
      "                                                                                                  \n",
      " multiply_10 (Multiply)         (None, 14, 14, 480)  0           ['expanded_conv_10/depthwise/Batc\n",
      "                                                                 hNorm[0][0]',                    \n",
      "                                                                  'tf.math.multiply_13[0][0]']    \n",
      "                                                                                                  \n",
      " expanded_conv_10/squeeze_excit  (None, 1, 1, 480)   0           ['multiply_10[0][0]']            \n",
      " e/AvgPool (GlobalAveragePoolin                                                                   \n",
      " g2D)                                                                                             \n",
      "                                                                                                  \n",
      " expanded_conv_10/squeeze_excit  (None, 1, 1, 120)   57720       ['expanded_conv_10/squeeze_excite\n",
      " e/Conv (Conv2D)                                                 /AvgPool[0][0]']                 \n",
      "                                                                                                  \n",
      " expanded_conv_10/squeeze_excit  (None, 1, 1, 120)   0           ['expanded_conv_10/squeeze_excite\n",
      " e/Relu (ReLU)                                                   /Conv[0][0]']                    \n",
      "                                                                                                  \n",
      " expanded_conv_10/squeeze_excit  (None, 1, 1, 480)   58080       ['expanded_conv_10/squeeze_excite\n",
      " e/Conv_1 (Conv2D)                                               /Relu[0][0]']                    \n",
      "                                                                                                  \n",
      " tf.__operators__.add_14 (TFOpL  (None, 1, 1, 480)   0           ['expanded_conv_10/squeeze_excite\n",
      " ambda)                                                          /Conv_1[0][0]']                  \n",
      "                                                                                                  \n",
      " re_lu_25 (ReLU)                (None, 1, 1, 480)    0           ['tf.__operators__.add_14[0][0]']\n",
      "                                                                                                  \n",
      " tf.math.multiply_14 (TFOpLambd  (None, 1, 1, 480)   0           ['re_lu_25[0][0]']               \n",
      " a)                                                                                               \n",
      "                                                                                                  \n"
     ]
    },
    {
     "name": "stdout",
     "output_type": "stream",
     "text": [
      " expanded_conv_10/squeeze_excit  (None, 14, 14, 480)  0          ['multiply_10[0][0]',            \n",
      " e/Mul (Multiply)                                                 'tf.math.multiply_14[0][0]']    \n",
      "                                                                                                  \n",
      " expanded_conv_10/project (Conv  (None, 14, 14, 112)  53760      ['expanded_conv_10/squeeze_excite\n",
      " 2D)                                                             /Mul[0][0]']                     \n",
      "                                                                                                  \n",
      " expanded_conv_10/project/Batch  (None, 14, 14, 112)  448        ['expanded_conv_10/project[0][0]'\n",
      " Norm (BatchNormalization)                                       ]                                \n",
      "                                                                                                  \n",
      " expanded_conv_11/expand (Conv2  (None, 14, 14, 672)  75264      ['expanded_conv_10/project/BatchN\n",
      " D)                                                              orm[0][0]']                      \n",
      "                                                                                                  \n",
      " expanded_conv_11/expand/BatchN  (None, 14, 14, 672)  2688       ['expanded_conv_11/expand[0][0]']\n",
      " orm (BatchNormalization)                                                                         \n",
      "                                                                                                  \n",
      " tf.__operators__.add_15 (TFOpL  (None, 14, 14, 672)  0          ['expanded_conv_11/expand/BatchNo\n",
      " ambda)                                                          rm[0][0]']                       \n",
      "                                                                                                  \n",
      " re_lu_26 (ReLU)                (None, 14, 14, 672)  0           ['tf.__operators__.add_15[0][0]']\n",
      "                                                                                                  \n",
      " tf.math.multiply_15 (TFOpLambd  (None, 14, 14, 672)  0          ['re_lu_26[0][0]']               \n",
      " a)                                                                                               \n",
      "                                                                                                  \n",
      " multiply_11 (Multiply)         (None, 14, 14, 672)  0           ['expanded_conv_11/expand/BatchNo\n",
      "                                                                 rm[0][0]',                       \n",
      "                                                                  'tf.math.multiply_15[0][0]']    \n",
      "                                                                                                  \n",
      " expanded_conv_11/depthwise (De  (None, 14, 14, 672)  6048       ['multiply_11[0][0]']            \n",
      " pthwiseConv2D)                                                                                   \n",
      "                                                                                                  \n",
      " expanded_conv_11/depthwise/Bat  (None, 14, 14, 672)  2688       ['expanded_conv_11/depthwise[0][0\n",
      " chNorm (BatchNormalization)                                     ]']                              \n",
      "                                                                                                  \n",
      " tf.__operators__.add_16 (TFOpL  (None, 14, 14, 672)  0          ['expanded_conv_11/depthwise/Batc\n",
      " ambda)                                                          hNorm[0][0]']                    \n",
      "                                                                                                  \n",
      " re_lu_27 (ReLU)                (None, 14, 14, 672)  0           ['tf.__operators__.add_16[0][0]']\n",
      "                                                                                                  \n",
      " tf.math.multiply_16 (TFOpLambd  (None, 14, 14, 672)  0          ['re_lu_27[0][0]']               \n",
      " a)                                                                                               \n",
      "                                                                                                  \n",
      " multiply_12 (Multiply)         (None, 14, 14, 672)  0           ['expanded_conv_11/depthwise/Batc\n",
      "                                                                 hNorm[0][0]',                    \n",
      "                                                                  'tf.math.multiply_16[0][0]']    \n",
      "                                                                                                  \n",
      " expanded_conv_11/squeeze_excit  (None, 1, 1, 672)   0           ['multiply_12[0][0]']            \n",
      " e/AvgPool (GlobalAveragePoolin                                                                   \n",
      " g2D)                                                                                             \n",
      "                                                                                                  \n",
      " expanded_conv_11/squeeze_excit  (None, 1, 1, 168)   113064      ['expanded_conv_11/squeeze_excite\n",
      " e/Conv (Conv2D)                                                 /AvgPool[0][0]']                 \n",
      "                                                                                                  \n",
      " expanded_conv_11/squeeze_excit  (None, 1, 1, 168)   0           ['expanded_conv_11/squeeze_excite\n",
      " e/Relu (ReLU)                                                   /Conv[0][0]']                    \n",
      "                                                                                                  \n",
      " expanded_conv_11/squeeze_excit  (None, 1, 1, 672)   113568      ['expanded_conv_11/squeeze_excite\n",
      " e/Conv_1 (Conv2D)                                               /Relu[0][0]']                    \n",
      "                                                                                                  \n",
      " tf.__operators__.add_17 (TFOpL  (None, 1, 1, 672)   0           ['expanded_conv_11/squeeze_excite\n",
      " ambda)                                                          /Conv_1[0][0]']                  \n",
      "                                                                                                  \n",
      " re_lu_28 (ReLU)                (None, 1, 1, 672)    0           ['tf.__operators__.add_17[0][0]']\n",
      "                                                                                                  \n",
      " tf.math.multiply_17 (TFOpLambd  (None, 1, 1, 672)   0           ['re_lu_28[0][0]']               \n",
      " a)                                                                                               \n",
      "                                                                                                  \n",
      " expanded_conv_11/squeeze_excit  (None, 14, 14, 672)  0          ['multiply_12[0][0]',            \n",
      " e/Mul (Multiply)                                                 'tf.math.multiply_17[0][0]']    \n",
      "                                                                                                  \n",
      " expanded_conv_11/project (Conv  (None, 14, 14, 112)  75264      ['expanded_conv_11/squeeze_excite\n",
      " 2D)                                                             /Mul[0][0]']                     \n",
      "                                                                                                  \n",
      " expanded_conv_11/project/Batch  (None, 14, 14, 112)  448        ['expanded_conv_11/project[0][0]'\n",
      " Norm (BatchNormalization)                                       ]                                \n",
      "                                                                                                  \n",
      " expanded_conv_11/Add (Add)     (None, 14, 14, 112)  0           ['expanded_conv_10/project/BatchN\n",
      "                                                                 orm[0][0]',                      \n",
      "                                                                  'expanded_conv_11/project/BatchN\n",
      "                                                                 orm[0][0]']                      \n",
      "                                                                                                  \n",
      " expanded_conv_12/expand (Conv2  (None, 14, 14, 672)  75264      ['expanded_conv_11/Add[0][0]']   \n",
      " D)                                                                                               \n",
      "                                                                                                  \n"
     ]
    },
    {
     "name": "stdout",
     "output_type": "stream",
     "text": [
      " expanded_conv_12/expand/BatchN  (None, 14, 14, 672)  2688       ['expanded_conv_12/expand[0][0]']\n",
      " orm (BatchNormalization)                                                                         \n",
      "                                                                                                  \n",
      " tf.__operators__.add_18 (TFOpL  (None, 14, 14, 672)  0          ['expanded_conv_12/expand/BatchNo\n",
      " ambda)                                                          rm[0][0]']                       \n",
      "                                                                                                  \n",
      " re_lu_29 (ReLU)                (None, 14, 14, 672)  0           ['tf.__operators__.add_18[0][0]']\n",
      "                                                                                                  \n",
      " tf.math.multiply_18 (TFOpLambd  (None, 14, 14, 672)  0          ['re_lu_29[0][0]']               \n",
      " a)                                                                                               \n",
      "                                                                                                  \n",
      " multiply_13 (Multiply)         (None, 14, 14, 672)  0           ['expanded_conv_12/expand/BatchNo\n",
      "                                                                 rm[0][0]',                       \n",
      "                                                                  'tf.math.multiply_18[0][0]']    \n",
      "                                                                                                  \n",
      " expanded_conv_12/depthwise/pad  (None, 17, 17, 672)  0          ['multiply_13[0][0]']            \n",
      "  (ZeroPadding2D)                                                                                 \n",
      "                                                                                                  \n",
      " expanded_conv_12/depthwise (De  (None, 7, 7, 672)   16800       ['expanded_conv_12/depthwise/pad[\n",
      " pthwiseConv2D)                                                  0][0]']                          \n",
      "                                                                                                  \n",
      " expanded_conv_12/depthwise/Bat  (None, 7, 7, 672)   2688        ['expanded_conv_12/depthwise[0][0\n",
      " chNorm (BatchNormalization)                                     ]']                              \n",
      "                                                                                                  \n",
      " tf.__operators__.add_19 (TFOpL  (None, 7, 7, 672)   0           ['expanded_conv_12/depthwise/Batc\n",
      " ambda)                                                          hNorm[0][0]']                    \n",
      "                                                                                                  \n",
      " re_lu_30 (ReLU)                (None, 7, 7, 672)    0           ['tf.__operators__.add_19[0][0]']\n",
      "                                                                                                  \n",
      " tf.math.multiply_19 (TFOpLambd  (None, 7, 7, 672)   0           ['re_lu_30[0][0]']               \n",
      " a)                                                                                               \n",
      "                                                                                                  \n",
      " multiply_14 (Multiply)         (None, 7, 7, 672)    0           ['expanded_conv_12/depthwise/Batc\n",
      "                                                                 hNorm[0][0]',                    \n",
      "                                                                  'tf.math.multiply_19[0][0]']    \n",
      "                                                                                                  \n",
      " expanded_conv_12/squeeze_excit  (None, 1, 1, 672)   0           ['multiply_14[0][0]']            \n",
      " e/AvgPool (GlobalAveragePoolin                                                                   \n",
      " g2D)                                                                                             \n",
      "                                                                                                  \n",
      " expanded_conv_12/squeeze_excit  (None, 1, 1, 168)   113064      ['expanded_conv_12/squeeze_excite\n",
      " e/Conv (Conv2D)                                                 /AvgPool[0][0]']                 \n",
      "                                                                                                  \n",
      " expanded_conv_12/squeeze_excit  (None, 1, 1, 168)   0           ['expanded_conv_12/squeeze_excite\n",
      " e/Relu (ReLU)                                                   /Conv[0][0]']                    \n",
      "                                                                                                  \n",
      " expanded_conv_12/squeeze_excit  (None, 1, 1, 672)   113568      ['expanded_conv_12/squeeze_excite\n",
      " e/Conv_1 (Conv2D)                                               /Relu[0][0]']                    \n",
      "                                                                                                  \n",
      " tf.__operators__.add_20 (TFOpL  (None, 1, 1, 672)   0           ['expanded_conv_12/squeeze_excite\n",
      " ambda)                                                          /Conv_1[0][0]']                  \n",
      "                                                                                                  \n",
      " re_lu_31 (ReLU)                (None, 1, 1, 672)    0           ['tf.__operators__.add_20[0][0]']\n",
      "                                                                                                  \n",
      " tf.math.multiply_20 (TFOpLambd  (None, 1, 1, 672)   0           ['re_lu_31[0][0]']               \n",
      " a)                                                                                               \n",
      "                                                                                                  \n",
      " expanded_conv_12/squeeze_excit  (None, 7, 7, 672)   0           ['multiply_14[0][0]',            \n",
      " e/Mul (Multiply)                                                 'tf.math.multiply_20[0][0]']    \n",
      "                                                                                                  \n",
      " expanded_conv_12/project (Conv  (None, 7, 7, 160)   107520      ['expanded_conv_12/squeeze_excite\n",
      " 2D)                                                             /Mul[0][0]']                     \n",
      "                                                                                                  \n",
      " expanded_conv_12/project/Batch  (None, 7, 7, 160)   640         ['expanded_conv_12/project[0][0]'\n",
      " Norm (BatchNormalization)                                       ]                                \n",
      "                                                                                                  \n",
      " expanded_conv_13/expand (Conv2  (None, 7, 7, 960)   153600      ['expanded_conv_12/project/BatchN\n",
      " D)                                                              orm[0][0]']                      \n",
      "                                                                                                  \n",
      " expanded_conv_13/expand/BatchN  (None, 7, 7, 960)   3840        ['expanded_conv_13/expand[0][0]']\n",
      " orm (BatchNormalization)                                                                         \n",
      "                                                                                                  \n",
      " tf.__operators__.add_21 (TFOpL  (None, 7, 7, 960)   0           ['expanded_conv_13/expand/BatchNo\n",
      " ambda)                                                          rm[0][0]']                       \n",
      "                                                                                                  \n",
      " re_lu_32 (ReLU)                (None, 7, 7, 960)    0           ['tf.__operators__.add_21[0][0]']\n",
      "                                                                                                  \n",
      " tf.math.multiply_21 (TFOpLambd  (None, 7, 7, 960)   0           ['re_lu_32[0][0]']               \n",
      " a)                                                                                               \n",
      "                                                                                                  \n",
      " multiply_15 (Multiply)         (None, 7, 7, 960)    0           ['expanded_conv_13/expand/BatchNo\n",
      "                                                                 rm[0][0]',                       \n",
      "                                                                  'tf.math.multiply_21[0][0]']    \n"
     ]
    },
    {
     "name": "stdout",
     "output_type": "stream",
     "text": [
      "                                                                                                  \n",
      " expanded_conv_13/depthwise (De  (None, 7, 7, 960)   24000       ['multiply_15[0][0]']            \n",
      " pthwiseConv2D)                                                                                   \n",
      "                                                                                                  \n",
      " expanded_conv_13/depthwise/Bat  (None, 7, 7, 960)   3840        ['expanded_conv_13/depthwise[0][0\n",
      " chNorm (BatchNormalization)                                     ]']                              \n",
      "                                                                                                  \n",
      " tf.__operators__.add_22 (TFOpL  (None, 7, 7, 960)   0           ['expanded_conv_13/depthwise/Batc\n",
      " ambda)                                                          hNorm[0][0]']                    \n",
      "                                                                                                  \n",
      " re_lu_33 (ReLU)                (None, 7, 7, 960)    0           ['tf.__operators__.add_22[0][0]']\n",
      "                                                                                                  \n",
      " tf.math.multiply_22 (TFOpLambd  (None, 7, 7, 960)   0           ['re_lu_33[0][0]']               \n",
      " a)                                                                                               \n",
      "                                                                                                  \n",
      " multiply_16 (Multiply)         (None, 7, 7, 960)    0           ['expanded_conv_13/depthwise/Batc\n",
      "                                                                 hNorm[0][0]',                    \n",
      "                                                                  'tf.math.multiply_22[0][0]']    \n",
      "                                                                                                  \n",
      " expanded_conv_13/squeeze_excit  (None, 1, 1, 960)   0           ['multiply_16[0][0]']            \n",
      " e/AvgPool (GlobalAveragePoolin                                                                   \n",
      " g2D)                                                                                             \n",
      "                                                                                                  \n",
      " expanded_conv_13/squeeze_excit  (None, 1, 1, 240)   230640      ['expanded_conv_13/squeeze_excite\n",
      " e/Conv (Conv2D)                                                 /AvgPool[0][0]']                 \n",
      "                                                                                                  \n",
      " expanded_conv_13/squeeze_excit  (None, 1, 1, 240)   0           ['expanded_conv_13/squeeze_excite\n",
      " e/Relu (ReLU)                                                   /Conv[0][0]']                    \n",
      "                                                                                                  \n",
      " expanded_conv_13/squeeze_excit  (None, 1, 1, 960)   231360      ['expanded_conv_13/squeeze_excite\n",
      " e/Conv_1 (Conv2D)                                               /Relu[0][0]']                    \n",
      "                                                                                                  \n",
      " tf.__operators__.add_23 (TFOpL  (None, 1, 1, 960)   0           ['expanded_conv_13/squeeze_excite\n",
      " ambda)                                                          /Conv_1[0][0]']                  \n",
      "                                                                                                  \n",
      " re_lu_34 (ReLU)                (None, 1, 1, 960)    0           ['tf.__operators__.add_23[0][0]']\n",
      "                                                                                                  \n",
      " tf.math.multiply_23 (TFOpLambd  (None, 1, 1, 960)   0           ['re_lu_34[0][0]']               \n",
      " a)                                                                                               \n",
      "                                                                                                  \n",
      " expanded_conv_13/squeeze_excit  (None, 7, 7, 960)   0           ['multiply_16[0][0]',            \n",
      " e/Mul (Multiply)                                                 'tf.math.multiply_23[0][0]']    \n",
      "                                                                                                  \n",
      " expanded_conv_13/project (Conv  (None, 7, 7, 160)   153600      ['expanded_conv_13/squeeze_excite\n",
      " 2D)                                                             /Mul[0][0]']                     \n",
      "                                                                                                  \n",
      " expanded_conv_13/project/Batch  (None, 7, 7, 160)   640         ['expanded_conv_13/project[0][0]'\n",
      " Norm (BatchNormalization)                                       ]                                \n",
      "                                                                                                  \n",
      " expanded_conv_13/Add (Add)     (None, 7, 7, 160)    0           ['expanded_conv_12/project/BatchN\n",
      "                                                                 orm[0][0]',                      \n",
      "                                                                  'expanded_conv_13/project/BatchN\n",
      "                                                                 orm[0][0]']                      \n",
      "                                                                                                  \n",
      " expanded_conv_14/expand (Conv2  (None, 7, 7, 960)   153600      ['expanded_conv_13/Add[0][0]']   \n",
      " D)                                                                                               \n",
      "                                                                                                  \n",
      " expanded_conv_14/expand/BatchN  (None, 7, 7, 960)   3840        ['expanded_conv_14/expand[0][0]']\n",
      " orm (BatchNormalization)                                                                         \n",
      "                                                                                                  \n",
      " tf.__operators__.add_24 (TFOpL  (None, 7, 7, 960)   0           ['expanded_conv_14/expand/BatchNo\n",
      " ambda)                                                          rm[0][0]']                       \n",
      "                                                                                                  \n",
      " re_lu_35 (ReLU)                (None, 7, 7, 960)    0           ['tf.__operators__.add_24[0][0]']\n",
      "                                                                                                  \n",
      " tf.math.multiply_24 (TFOpLambd  (None, 7, 7, 960)   0           ['re_lu_35[0][0]']               \n",
      " a)                                                                                               \n",
      "                                                                                                  \n",
      " multiply_17 (Multiply)         (None, 7, 7, 960)    0           ['expanded_conv_14/expand/BatchNo\n",
      "                                                                 rm[0][0]',                       \n",
      "                                                                  'tf.math.multiply_24[0][0]']    \n",
      "                                                                                                  \n",
      " soft_attention (SoftAttention)  [(None, 7, 7, 960),  138256     ['multiply_17[0][0]']            \n",
      "                                 (None, 16, 7, 7)]                                                \n",
      "                                                                                                  \n",
      " max_pooling2d_1 (MaxPooling2D)  (None, 4, 4, 960)   0           ['multiply_17[0][0]']            \n",
      "                                                                                                  \n",
      " max_pooling2d (MaxPooling2D)   (None, 4, 4, 960)    0           ['soft_attention[0][0]']         \n",
      "                                                                                                  \n",
      " concatenate_1 (Concatenate)    (None, 4, 4, 1920)   0           ['max_pooling2d_1[0][0]',        \n",
      "                                                                  'max_pooling2d[0][0]']          \n",
      "                                                                                                  \n",
      " activation (Activation)        (None, 4, 4, 1920)   0           ['concatenate_1[0][0]']          \n"
     ]
    },
    {
     "name": "stdout",
     "output_type": "stream",
     "text": [
      "                                                                                                  \n",
      " dropout_1 (Dropout)            (None, 4, 4, 1920)   0           ['activation[0][0]']             \n",
      "                                                                                                  \n",
      " flatten_1 (Flatten)            (None, 30720)        0           ['dropout_1[0][0]']              \n",
      "                                                                                                  \n",
      " age (InputLayer)               [(None, 1)]          0           []                               \n",
      "                                                                                                  \n",
      " localization (InputLayer)      [(None, 1)]          0           []                               \n",
      "                                                                                                  \n",
      " sex (InputLayer)               [(None, 1)]          0           []                               \n",
      "                                                                                                  \n",
      " dense (Dense)                  (None, 7)            215047      ['flatten_1[0][0]']              \n",
      "                                                                                                  \n",
      "==================================================================================================\n",
      "Total params: 2,548,135\n",
      "Trainable params: 2,527,895\n",
      "Non-trainable params: 20,240\n",
      "__________________________________________________________________________________________________\n"
     ]
    }
   ],
   "source": [
    "model.summary()"
   ]
  },
  {
   "cell_type": "markdown",
   "id": "bef8389e",
   "metadata": {},
   "source": [
    "## Training"
   ]
  },
  {
   "cell_type": "code",
   "execution_count": 24,
   "id": "a44b02e4",
   "metadata": {},
   "outputs": [],
   "source": [
    "feature_dict = {'age' : np.array(train_ages),\n",
    "                'sex' : np.array(train_sexes),\n",
    "                'local' : np.array(train_localizations),\n",
    "                'image' : np.array(train_img_lst)}"
   ]
  },
  {
   "cell_type": "code",
   "execution_count": 25,
   "id": "bb3b7f9b",
   "metadata": {},
   "outputs": [],
   "source": [
    "val_dict = {'age' : np.array(val_ages),\n",
    "                'sex' : np.array(val_sexes),\n",
    "                'local' : np.array(val_localizations),\n",
    "                'image' : np.array(val_img_lst)}"
   ]
  },
  {
   "cell_type": "code",
   "execution_count": 26,
   "id": "333d8ed4",
   "metadata": {},
   "outputs": [],
   "source": [
    "class_weights = { \n",
    "                    0: 4.37,  # akiec\n",
    "                    1: 2.78,  # bcc\n",
    "                    2: 1.3,  # bkl\n",
    "                    3: 12.44,  # df\n",
    "                    4: 1.28,  # mel\n",
    "                    5: 0.21,  # nv\n",
    "                    6: 10,  # vasc\n",
    "                }\n",
    "\n",
    "\n",
    "checkpoint=  ModelCheckpoint(filepath = model_path,monitor='val_accuracy',save_best_only=True,save_weights_only=True)"
   ]
  },
  {
   "cell_type": "code",
   "execution_count": 27,
   "id": "d8c90847",
   "metadata": {},
   "outputs": [],
   "source": [
    "opt1=tf.keras.optimizers.Adam(learning_rate=0.001,epsilon=0.1)\n",
    "model.compile(optimizer=opt1,\n",
    "             loss='categorical_crossentropy',\n",
    "             metrics=['accuracy'])"
   ]
  },
  {
   "cell_type": "code",
   "execution_count": 28,
   "id": "875463a9",
   "metadata": {},
   "outputs": [],
   "source": [
    "reduce_lr = ReduceLROnPlateau(monitor='val_loss', factor=0.2,\n",
    "                              verbose = 1, mode = 'min',\n",
    "                              patience=5, min_lr=0.0000001)"
   ]
  },
  {
   "cell_type": "code",
   "execution_count": 29,
   "id": "384e5afc",
   "metadata": {},
   "outputs": [
    {
     "name": "stdout",
     "output_type": "stream",
     "text": [
      "Epoch 1/500\n",
      "896/896 [==============================] - 143s 136ms/step - loss: 2.1833 - accuracy: 0.4325 - val_loss: 0.9173 - val_accuracy: 0.6928 - lr: 0.0010\n",
      "Epoch 2/500\n",
      "896/896 [==============================] - 116s 130ms/step - loss: 1.2297 - accuracy: 0.6018 - val_loss: 0.7305 - val_accuracy: 0.7359 - lr: 0.0010\n",
      "Epoch 3/500\n",
      "896/896 [==============================] - 116s 130ms/step - loss: 0.8389 - accuracy: 0.6764 - val_loss: 0.9142 - val_accuracy: 0.7189 - lr: 0.0010\n",
      "Epoch 4/500\n",
      "896/896 [==============================] - 115s 128ms/step - loss: 0.7582 - accuracy: 0.6926 - val_loss: 0.8679 - val_accuracy: 0.7309 - lr: 0.0010\n",
      "Epoch 5/500\n",
      "896/896 [==============================] - 116s 129ms/step - loss: 0.5397 - accuracy: 0.7379 - val_loss: 1.4365 - val_accuracy: 0.6225 - lr: 0.0010\n",
      "Epoch 6/500\n",
      "896/896 [==============================] - 116s 130ms/step - loss: 0.4201 - accuracy: 0.7711 - val_loss: 1.9015 - val_accuracy: 0.5472 - lr: 0.0010\n",
      "Epoch 7/500\n",
      "897/896 [==============================] - ETA: 0s - loss: 0.3800 - accuracy: 0.7986\n",
      "Epoch 7: ReduceLROnPlateau reducing learning rate to 0.00020000000949949026.\n",
      "896/896 [==============================] - 116s 129ms/step - loss: 0.3800 - accuracy: 0.7986 - val_loss: 0.8623 - val_accuracy: 0.7380 - lr: 0.0010\n",
      "Epoch 8/500\n",
      "896/896 [==============================] - 116s 130ms/step - loss: 0.1947 - accuracy: 0.8542 - val_loss: 0.5476 - val_accuracy: 0.8293 - lr: 2.0000e-04\n",
      "Epoch 9/500\n",
      "896/896 [==============================] - 115s 128ms/step - loss: 0.1847 - accuracy: 0.8717 - val_loss: 0.5743 - val_accuracy: 0.8173 - lr: 2.0000e-04\n",
      "Epoch 10/500\n",
      "896/896 [==============================] - 116s 130ms/step - loss: 0.1518 - accuracy: 0.8845 - val_loss: 0.5728 - val_accuracy: 0.8203 - lr: 2.0000e-04\n",
      "Epoch 11/500\n",
      "896/896 [==============================] - 116s 129ms/step - loss: 0.1279 - accuracy: 0.8920 - val_loss: 0.5271 - val_accuracy: 0.8373 - lr: 2.0000e-04\n",
      "Epoch 12/500\n",
      "896/896 [==============================] - 115s 128ms/step - loss: 0.1185 - accuracy: 0.8995 - val_loss: 0.5793 - val_accuracy: 0.8293 - lr: 2.0000e-04\n",
      "Epoch 13/500\n",
      "896/896 [==============================] - 115s 128ms/step - loss: 0.1065 - accuracy: 0.9068 - val_loss: 0.5772 - val_accuracy: 0.8223 - lr: 2.0000e-04\n",
      "Epoch 14/500\n",
      "896/896 [==============================] - 116s 129ms/step - loss: 0.0984 - accuracy: 0.9170 - val_loss: 0.6300 - val_accuracy: 0.8193 - lr: 2.0000e-04\n",
      "Epoch 15/500\n",
      "896/896 [==============================] - 116s 129ms/step - loss: 0.0925 - accuracy: 0.9161 - val_loss: 0.5775 - val_accuracy: 0.8283 - lr: 2.0000e-04\n",
      "Epoch 16/500\n",
      "897/896 [==============================] - ETA: 0s - loss: 0.0810 - accuracy: 0.9247\n",
      "Epoch 16: ReduceLROnPlateau reducing learning rate to 4.0000001899898055e-05.\n",
      "896/896 [==============================] - 117s 130ms/step - loss: 0.0810 - accuracy: 0.9247 - val_loss: 0.5639 - val_accuracy: 0.8464 - lr: 2.0000e-04\n",
      "Epoch 17/500\n",
      "896/896 [==============================] - 116s 129ms/step - loss: 0.0694 - accuracy: 0.9339 - val_loss: 0.5478 - val_accuracy: 0.8384 - lr: 4.0000e-05\n",
      "Epoch 18/500\n",
      "896/896 [==============================] - 116s 129ms/step - loss: 0.0646 - accuracy: 0.9351 - val_loss: 0.5431 - val_accuracy: 0.8414 - lr: 4.0000e-05\n",
      "Epoch 19/500\n",
      "896/896 [==============================] - 116s 129ms/step - loss: 0.0702 - accuracy: 0.9312 - val_loss: 0.5327 - val_accuracy: 0.8434 - lr: 4.0000e-05\n",
      "Epoch 20/500\n",
      "896/896 [==============================] - 115s 128ms/step - loss: 0.0703 - accuracy: 0.9352 - val_loss: 0.5500 - val_accuracy: 0.8414 - lr: 4.0000e-05\n",
      "Epoch 21/500\n",
      "897/896 [==============================] - ETA: 0s - loss: 0.0660 - accuracy: 0.9347\n",
      "Epoch 21: ReduceLROnPlateau reducing learning rate to 8.000000525498762e-06.\n",
      "896/896 [==============================] - 116s 129ms/step - loss: 0.0660 - accuracy: 0.9347 - val_loss: 0.5422 - val_accuracy: 0.8444 - lr: 4.0000e-05\n",
      "Epoch 22/500\n",
      "896/896 [==============================] - 116s 130ms/step - loss: 0.0686 - accuracy: 0.9329 - val_loss: 0.5448 - val_accuracy: 0.8434 - lr: 8.0000e-06\n",
      "Epoch 23/500\n",
      "896/896 [==============================] - 114s 128ms/step - loss: 0.0630 - accuracy: 0.9367 - val_loss: 0.5440 - val_accuracy: 0.8454 - lr: 8.0000e-06\n",
      "Epoch 24/500\n",
      "896/896 [==============================] - 113s 126ms/step - loss: 0.0598 - accuracy: 0.9413 - val_loss: 0.5439 - val_accuracy: 0.8454 - lr: 8.0000e-06\n",
      "Epoch 25/500\n",
      "896/896 [==============================] - 115s 129ms/step - loss: 0.0693 - accuracy: 0.9333 - val_loss: 0.5435 - val_accuracy: 0.8444 - lr: 8.0000e-06\n",
      "Epoch 26/500\n",
      "897/896 [==============================] - ETA: 0s - loss: 0.0648 - accuracy: 0.9343\n",
      "Epoch 26: ReduceLROnPlateau reducing learning rate to 1.6000001778593287e-06.\n",
      "896/896 [==============================] - 115s 128ms/step - loss: 0.0648 - accuracy: 0.9343 - val_loss: 0.5445 - val_accuracy: 0.8454 - lr: 8.0000e-06\n",
      "Epoch 27/500\n",
      "896/896 [==============================] - 115s 128ms/step - loss: 0.0633 - accuracy: 0.9372 - val_loss: 0.5428 - val_accuracy: 0.8464 - lr: 1.6000e-06\n",
      "Epoch 28/500\n",
      "896/896 [==============================] - 116s 129ms/step - loss: 0.0644 - accuracy: 0.9399 - val_loss: 0.5425 - val_accuracy: 0.8454 - lr: 1.6000e-06\n",
      "Epoch 29/500\n",
      "896/896 [==============================] - 115s 128ms/step - loss: 0.0656 - accuracy: 0.9349 - val_loss: 0.5427 - val_accuracy: 0.8464 - lr: 1.6000e-06\n",
      "Epoch 30/500\n",
      "896/896 [==============================] - 116s 130ms/step - loss: 0.0658 - accuracy: 0.9364 - val_loss: 0.5414 - val_accuracy: 0.8464 - lr: 1.6000e-06\n",
      "Epoch 31/500\n",
      "897/896 [==============================] - ETA: 0s - loss: 0.0699 - accuracy: 0.9346\n",
      "Epoch 31: ReduceLROnPlateau reducing learning rate to 3.200000264769187e-07.\n",
      "896/896 [==============================] - 115s 129ms/step - loss: 0.0699 - accuracy: 0.9346 - val_loss: 0.5416 - val_accuracy: 0.8464 - lr: 1.6000e-06\n",
      "Epoch 32/500\n",
      "896/896 [==============================] - 116s 129ms/step - loss: 0.0709 - accuracy: 0.9322 - val_loss: 0.5420 - val_accuracy: 0.8464 - lr: 3.2000e-07\n",
      "Epoch 33/500\n",
      "896/896 [==============================] - 116s 129ms/step - loss: 0.0612 - accuracy: 0.9386 - val_loss: 0.5420 - val_accuracy: 0.8464 - lr: 3.2000e-07\n",
      "Epoch 34/500\n",
      "896/896 [==============================] - 115s 128ms/step - loss: 0.0597 - accuracy: 0.9409 - val_loss: 0.5416 - val_accuracy: 0.8464 - lr: 3.2000e-07\n",
      "Epoch 35/500\n",
      "896/896 [==============================] - 115s 128ms/step - loss: 0.0648 - accuracy: 0.9355 - val_loss: 0.5414 - val_accuracy: 0.8464 - lr: 3.2000e-07\n",
      "Epoch 36/500\n",
      "897/896 [==============================] - ETA: 0s - loss: 0.0686 - accuracy: 0.9353\n",
      "Epoch 36: ReduceLROnPlateau reducing learning rate to 1e-07.\n",
      "896/896 [==============================] - 114s 128ms/step - loss: 0.0686 - accuracy: 0.9353 - val_loss: 0.5416 - val_accuracy: 0.8464 - lr: 3.2000e-07\n",
      "Epoch 37/500\n",
      "896/896 [==============================] - 115s 129ms/step - loss: 0.0621 - accuracy: 0.9438 - val_loss: 0.5417 - val_accuracy: 0.8464 - lr: 1.0000e-07\n",
      "Epoch 38/500\n",
      "896/896 [==============================] - 114s 127ms/step - loss: 0.0670 - accuracy: 0.9363 - val_loss: 0.5420 - val_accuracy: 0.8464 - lr: 1.0000e-07\n",
      "Epoch 39/500\n",
      "896/896 [==============================] - 116s 129ms/step - loss: 0.0621 - accuracy: 0.9381 - val_loss: 0.5423 - val_accuracy: 0.8464 - lr: 1.0000e-07\n",
      "Epoch 40/500\n",
      "896/896 [==============================] - 114s 127ms/step - loss: 0.0663 - accuracy: 0.9375 - val_loss: 0.5426 - val_accuracy: 0.8464 - lr: 1.0000e-07\n",
      "Epoch 41/500\n",
      "896/896 [==============================] - 116s 129ms/step - loss: 0.0674 - accuracy: 0.9346 - val_loss: 0.5422 - val_accuracy: 0.8464 - lr: 1.0000e-07\n",
      "Epoch 42/500\n",
      "896/896 [==============================] - 115s 128ms/step - loss: 0.0698 - accuracy: 0.9344 - val_loss: 0.5418 - val_accuracy: 0.8464 - lr: 1.0000e-07\n",
      "Epoch 43/500\n",
      "896/896 [==============================] - 115s 128ms/step - loss: 0.0616 - accuracy: 0.9364 - val_loss: 0.5419 - val_accuracy: 0.8464 - lr: 1.0000e-07\n",
      "Epoch 44/500\n",
      "896/896 [==============================] - 114s 128ms/step - loss: 0.0645 - accuracy: 0.9384 - val_loss: 0.5421 - val_accuracy: 0.8464 - lr: 1.0000e-07\n",
      "Epoch 45/500\n"
     ]
    },
    {
     "name": "stdout",
     "output_type": "stream",
     "text": [
      "896/896 [==============================] - 115s 129ms/step - loss: 0.0666 - accuracy: 0.9368 - val_loss: 0.5418 - val_accuracy: 0.8464 - lr: 1.0000e-07\n",
      "Epoch 46/500\n",
      "896/896 [==============================] - 116s 129ms/step - loss: 0.0645 - accuracy: 0.9391 - val_loss: 0.5428 - val_accuracy: 0.8464 - lr: 1.0000e-07\n"
     ]
    }
   ],
   "source": [
    "batch_size = 32 \n",
    "\n",
    "Earlystop = EarlyStopping(monitor='val_loss', mode='min',patience=35, min_delta=0.001)\n",
    "\n",
    "with tf.device('/GPU:0'):\n",
    "    history = model.fit(feature_dict, labels,\n",
    "                        steps_per_epoch=(len(train_df)/10),\n",
    "                        epochs=500,\n",
    "                        validation_data=(val_dict, val_labels), \n",
    "                        validation_steps=len(val_df)/batch_size,\n",
    "                        callbacks=[checkpoint, Earlystop, reduce_lr],\n",
    "                        class_weight=class_weights)"
   ]
  },
  {
   "cell_type": "code",
   "execution_count": 30,
   "id": "6d459907",
   "metadata": {},
   "outputs": [
    {
     "data": {
      "image/png": "[encoded data removed]",
      "text/plain": [
       "<Figure size 432x288 with 1 Axes>"
      ]
     },
     "metadata": {
      "needs_background": "light"
     },
     "output_type": "display_data"
    }
   ],
   "source": [
    "plt.plot(history.history['accuracy'])\n",
    "plt.plot(history.history['val_accuracy'])\n",
    "plt.title('model accuracy')\n",
    "plt.ylabel('accuracy')\n",
    "plt.xlabel('epoch')\n",
    "plt.legend(['train', 'val'], loc='upper left')\n",
    "plt.show()"
   ]
  },
  {
   "cell_type": "code",
   "execution_count": 31,
   "id": "d53254dd",
   "metadata": {},
   "outputs": [
    {
     "data": {
      "image/png": "[encoded data removed]",
      "text/plain": [
       "<Figure size 432x288 with 1 Axes>"
      ]
     },
     "metadata": {
      "needs_background": "light"
     },
     "output_type": "display_data"
    }
   ],
   "source": [
    "plt.plot(history.history['loss'])\n",
    "plt.plot(history.history['val_loss'])\n",
    "plt.title('model loss')\n",
    "plt.ylabel('loss')\n",
    "plt.xlabel('epoch')\n",
    "plt.legend(['train', 'val'], loc='upper left')\n",
    "plt.show()"
   ]
  },
  {
   "cell_type": "code",
   "execution_count": 32,
   "id": "4d63c6ae",
   "metadata": {},
   "outputs": [],
   "source": [
    "from tensorflow.keras import models\n",
    "model.load_weights(model_path)"
   ]
  },
  {
   "cell_type": "code",
   "execution_count": 33,
   "id": "6cda2363",
   "metadata": {},
   "outputs": [],
   "source": [
    "batch_size = 32 \n",
    "predictions = model.predict(val_dict, steps=len(val_df)/batch_size, verbose=0)"
   ]
  },
  {
   "cell_type": "markdown",
   "id": "3047abc8",
   "metadata": {},
   "source": [
    "# Classification report"
   ]
  },
  {
   "cell_type": "code",
   "execution_count": 34,
   "id": "2c6dc6bd",
   "metadata": {},
   "outputs": [
    {
     "name": "stdout",
     "output_type": "stream",
     "text": [
      "\n",
      "Classification Report:\n",
      "              precision    recall  f1-score   support\n",
      "\n",
      "       akiec       0.72      0.64      0.68        33\n",
      "         bcc       0.64      0.80      0.71        51\n",
      "         bkl       0.71      0.83      0.76       109\n",
      "          df       0.83      0.83      0.83        12\n",
      "         mel       0.61      0.54      0.57       111\n",
      "          nv       0.94      0.91      0.92       666\n",
      "        vasc       0.93      0.93      0.93        14\n",
      "\n",
      "    accuracy                           0.85       996\n",
      "   macro avg       0.77      0.78      0.77       996\n",
      "weighted avg       0.85      0.85      0.85       996\n",
      "\n"
     ]
    }
   ],
   "source": [
    "#geting predictions on test dataset\n",
    "y_pred = np.argmax(predictions, axis=1)\n",
    "targetnames = ['akiec', 'bcc', 'bkl', 'df', 'mel', 'nv', 'vasc']\n",
    "#getting the true labels per image \n",
    "y_true = np.argmax(val_labels, axis=1)\n",
    "#getting the predicted labels per image \n",
    "y_prob=predictions\n",
    "from tensorflow.keras.utils import to_categorical\n",
    "y_test = to_categorical(y_true)\n",
    "\n",
    "# Creating classification report \n",
    "report = classification_report(y_true, y_pred, target_names=targetnames)\n",
    "\n",
    "print(\"\\nClassification Report:\")\n",
    "print(report)"
   ]
  },
  {
   "cell_type": "markdown",
   "id": "bb53beb6",
   "metadata": {},
   "source": [
    "# Confusion Matrix Metrics"
   ]
  },
  {
   "cell_type": "code",
   "execution_count": 35,
   "id": "a3c1617a",
   "metadata": {},
   "outputs": [],
   "source": [
    "from sklearn.metrics import multilabel_confusion_matrix\n",
    "multi_cm = multilabel_confusion_matrix(y_true, y_pred)\n",
    "#print(multi_cm)\n",
    "\n",
    "# TN     FP\n",
    "# FN     TP"
   ]
  },
  {
   "cell_type": "code",
   "execution_count": 36,
   "id": "34e979cb",
   "metadata": {},
   "outputs": [],
   "source": [
    "def cm_compute(_cm, _index, _name):\n",
    "    print(\"Confusion Matrix of {}\".format(_name))\n",
    "    print(_cm[index])\n",
    "    TP = _cm[index][1][1]\n",
    "    FP = _cm[index][0][1]\n",
    "    FN = _cm[index][1][0]\n",
    "    TN = _cm[index][0][0]\n",
    "    print(\"True Positive of {0}: {1}\".format(_name, TP))\n",
    "    print(\"False Positive of {0}: {1}\".format(_name, FP))\n",
    "    print(\"False Negative of {0}: {1}\".format(_name, FN))\n",
    "    print(\"True Negative of {0}: {1}\".format(_name, TN))\n",
    "    sensitivity = TP/(TP + FN)\n",
    "    specificity = TN/(TN + FP)\n",
    "    print(\"Sensitivity of {0}: {1}\".format(_name, sensitivity))\n",
    "    print(\"Specificity of {0}: {1}\".format(_name, specificity))\n",
    "    print(\"Precision of {0}: {1}\".format(_name, TP/(TP + FP)))\n",
    "    print(\"Accuracy of {0}: {1}\".format(_name, (TP+TN)/(TP + FP + FN + TN)))\n",
    "    print(\"Balanced Accuracy of {0} : {1}\".format(_name, (sensitivity + specificity)/2))\n",
    "    print(\"F1 Score of {0}: {1}\".format(_name, (2*TP)/(2*TP + FP + FN)))"
   ]
  },
  {
   "cell_type": "markdown",
   "id": "08c34508",
   "metadata": {},
   "source": [
    "### akiec       "
   ]
  },
  {
   "cell_type": "code",
   "execution_count": 37,
   "id": "3edc07d8",
   "metadata": {},
   "outputs": [
    {
     "name": "stdout",
     "output_type": "stream",
     "text": [
      "Confusion Matrix of akiec\n",
      "[[955   8]\n",
      " [ 12  21]]\n",
      "True Positive of akiec: 21\n",
      "False Positive of akiec: 8\n",
      "False Negative of akiec: 12\n",
      "True Negative of akiec: 955\n",
      "Sensitivity of akiec: 0.6363636363636364\n",
      "Specificity of akiec: 0.9916926272066459\n",
      "Precision of akiec: 0.7241379310344828\n",
      "Accuracy of akiec: 0.9799196787148594\n",
      "Balanced Accuracy of akiec : 0.8140281317851411\n",
      "F1 Score of akiec: 0.6774193548387096\n"
     ]
    }
   ],
   "source": [
    "index = 0\n",
    "cm_compute(multi_cm, index, targetnames[index])"
   ]
  },
  {
   "cell_type": "markdown",
   "id": "0c8298d1",
   "metadata": {},
   "source": [
    "### bcc       "
   ]
  },
  {
   "cell_type": "code",
   "execution_count": 38,
   "id": "c2fb8bec",
   "metadata": {},
   "outputs": [
    {
     "name": "stdout",
     "output_type": "stream",
     "text": [
      "Confusion Matrix of bcc\n",
      "[[922  23]\n",
      " [ 10  41]]\n",
      "True Positive of bcc: 41\n",
      "False Positive of bcc: 23\n",
      "False Negative of bcc: 10\n",
      "True Negative of bcc: 922\n",
      "Sensitivity of bcc: 0.803921568627451\n",
      "Specificity of bcc: 0.9756613756613757\n",
      "Precision of bcc: 0.640625\n",
      "Accuracy of bcc: 0.9668674698795181\n",
      "Balanced Accuracy of bcc : 0.8897914721444133\n",
      "F1 Score of bcc: 0.7130434782608696\n"
     ]
    }
   ],
   "source": [
    "index = 1\n",
    "cm_compute(multi_cm, index, targetnames[index])"
   ]
  },
  {
   "cell_type": "markdown",
   "id": "c3c0b7d3",
   "metadata": {},
   "source": [
    "### bkl"
   ]
  },
  {
   "cell_type": "code",
   "execution_count": 39,
   "id": "1bfd6ac9",
   "metadata": {},
   "outputs": [
    {
     "name": "stdout",
     "output_type": "stream",
     "text": [
      "Confusion Matrix of bkl\n",
      "[[849  38]\n",
      " [ 18  91]]\n",
      "True Positive of bkl: 91\n",
      "False Positive of bkl: 38\n",
      "False Negative of bkl: 18\n",
      "True Negative of bkl: 849\n",
      "Sensitivity of bkl: 0.8348623853211009\n",
      "Specificity of bkl: 0.9571589627959414\n",
      "Precision of bkl: 0.7054263565891473\n",
      "Accuracy of bkl: 0.9437751004016064\n",
      "Balanced Accuracy of bkl : 0.8960106740585212\n",
      "F1 Score of bkl: 0.7647058823529411\n"
     ]
    }
   ],
   "source": [
    "index = 2\n",
    "cm_compute(multi_cm, index, targetnames[index])"
   ]
  },
  {
   "cell_type": "markdown",
   "id": "4b7e966f",
   "metadata": {},
   "source": [
    "### df "
   ]
  },
  {
   "cell_type": "code",
   "execution_count": 40,
   "id": "25b094e5",
   "metadata": {},
   "outputs": [
    {
     "name": "stdout",
     "output_type": "stream",
     "text": [
      "Confusion Matrix of df\n",
      "[[982   2]\n",
      " [  2  10]]\n",
      "True Positive of df: 10\n",
      "False Positive of df: 2\n",
      "False Negative of df: 2\n",
      "True Negative of df: 982\n",
      "Sensitivity of df: 0.8333333333333334\n",
      "Specificity of df: 0.9979674796747967\n",
      "Precision of df: 0.8333333333333334\n",
      "Accuracy of df: 0.9959839357429718\n",
      "Balanced Accuracy of df : 0.915650406504065\n",
      "F1 Score of df: 0.8333333333333334\n"
     ]
    }
   ],
   "source": [
    "index = 3\n",
    "cm_compute(multi_cm, index, targetnames[index])"
   ]
  },
  {
   "cell_type": "markdown",
   "id": "45c95bb2",
   "metadata": {},
   "source": [
    "### mel"
   ]
  },
  {
   "cell_type": "code",
   "execution_count": 41,
   "id": "1a8ef842",
   "metadata": {},
   "outputs": [
    {
     "name": "stdout",
     "output_type": "stream",
     "text": [
      "Confusion Matrix of mel\n",
      "[[846  39]\n",
      " [ 51  60]]\n",
      "True Positive of mel: 60\n",
      "False Positive of mel: 39\n",
      "False Negative of mel: 51\n",
      "True Negative of mel: 846\n",
      "Sensitivity of mel: 0.5405405405405406\n",
      "Specificity of mel: 0.9559322033898305\n",
      "Precision of mel: 0.6060606060606061\n",
      "Accuracy of mel: 0.9096385542168675\n",
      "Balanced Accuracy of mel : 0.7482363719651856\n",
      "F1 Score of mel: 0.5714285714285714\n"
     ]
    }
   ],
   "source": [
    "index = 4\n",
    "cm_compute(multi_cm, index, targetnames[index])"
   ]
  },
  {
   "cell_type": "markdown",
   "id": "a2cadea1",
   "metadata": {},
   "source": [
    "### nv"
   ]
  },
  {
   "cell_type": "code",
   "execution_count": 42,
   "id": "ac593956",
   "metadata": {},
   "outputs": [
    {
     "name": "stdout",
     "output_type": "stream",
     "text": [
      "Confusion Matrix of nv\n",
      "[[288  42]\n",
      " [ 59 607]]\n",
      "True Positive of nv: 607\n",
      "False Positive of nv: 42\n",
      "False Negative of nv: 59\n",
      "True Negative of nv: 288\n",
      "Sensitivity of nv: 0.9114114114114115\n",
      "Specificity of nv: 0.8727272727272727\n",
      "Precision of nv: 0.9352850539291218\n",
      "Accuracy of nv: 0.8985943775100401\n",
      "Balanced Accuracy of nv : 0.8920693420693421\n",
      "F1 Score of nv: 0.9231939163498099\n"
     ]
    }
   ],
   "source": [
    "index = 5\n",
    "cm_compute(multi_cm, index, targetnames[index])"
   ]
  },
  {
   "cell_type": "markdown",
   "id": "9f7cccca",
   "metadata": {},
   "source": [
    "### vasc"
   ]
  },
  {
   "cell_type": "code",
   "execution_count": 43,
   "id": "29c1c659",
   "metadata": {},
   "outputs": [
    {
     "name": "stdout",
     "output_type": "stream",
     "text": [
      "Confusion Matrix of vasc\n",
      "[[981   1]\n",
      " [  1  13]]\n",
      "True Positive of vasc: 13\n",
      "False Positive of vasc: 1\n",
      "False Negative of vasc: 1\n",
      "True Negative of vasc: 981\n",
      "Sensitivity of vasc: 0.9285714285714286\n",
      "Specificity of vasc: 0.9989816700610998\n",
      "Precision of vasc: 0.9285714285714286\n",
      "Accuracy of vasc: 0.9979919678714859\n",
      "Balanced Accuracy of vasc : 0.9637765493162642\n",
      "F1 Score of vasc: 0.9285714285714286\n"
     ]
    }
   ],
   "source": [
    "index = 6\n",
    "cm_compute(multi_cm, index, targetnames[index])"
   ]
  },
  {
   "cell_type": "markdown",
   "id": "fcc6be19",
   "metadata": {},
   "source": [
    "## Weighted, Macro, Micro, ROC AUC"
   ]
  },
  {
   "cell_type": "code",
   "execution_count": 44,
   "id": "59d35f78",
   "metadata": {},
   "outputs": [
    {
     "name": "stdout",
     "output_type": "stream",
     "text": [
      "Precision: 0.850032603194656\n",
      "Recall: 0.8463855421686747\n",
      "Accuracy: 0.8463855421686747\n",
      "weighted Roc score: 0.9576836746533987\n"
     ]
    }
   ],
   "source": [
    "print(\"Precision: \"+ str(precision_score(y_true, y_pred, average='weighted')))\n",
    "print(\"Recall: \"+ str(recall_score(y_true, y_pred, average='weighted')))\n",
    "print(\"Accuracy: \" + str(accuracy_score(y_true, y_pred)))\n",
    "print(\"weighted Roc score: \" + str(roc_auc_score(y_test,y_prob,multi_class='ovr',average='weighted')))"
   ]
  },
  {
   "cell_type": "code",
   "execution_count": 45,
   "id": "b69e9a30",
   "metadata": {},
   "outputs": [
    {
     "name": "stdout",
     "output_type": "stream",
     "text": [
      "Precision: 0.7676342442168743\n",
      "Recall: 0.784143472024129\n",
      "Accuracy: 0.8463855421686747\n",
      "Macro Roc score: 0.9717166968815586\n"
     ]
    }
   ],
   "source": [
    "print(\"Precision: \"+ str(precision_score(y_true, y_pred, average='macro')))\n",
    "print(\"Recall: \"+ str(recall_score(y_true, y_pred, average='macro')))\n",
    "print(\"Accuracy: \" + str(accuracy_score(y_true, y_pred)))\n",
    "print(\"Macro Roc score: \" + str(roc_auc_score(y_test,y_prob,multi_class='ovr',average='macro')))"
   ]
  },
  {
   "cell_type": "code",
   "execution_count": 46,
   "id": "fab7d5c6",
   "metadata": {},
   "outputs": [
    {
     "name": "stdout",
     "output_type": "stream",
     "text": [
      "Precision: 0.8463855421686747\n",
      "Recall: 0.8463855421686747\n",
      "Accuracy: 0.8463855421686747\n",
      "Micro Roc score: 0.9845929904356382\n"
     ]
    }
   ],
   "source": [
    "print(\"Precision: \"+ str(precision_score(y_true, y_pred, average='micro')))\n",
    "print(\"Recall: \"+ str(recall_score(y_true, y_pred, average='micro')))\n",
    "print(\"Accuracy: \" + str(accuracy_score(y_true, y_pred)))\n",
    "tpr={}\n",
    "fpr={}\n",
    "roc_auc={}\n",
    "fpr[\"micro\"], tpr[\"micro\"], _ = roc_curve(y_test.ravel(), y_prob.ravel())\n",
    "roc_auc[\"micro\"] = auc(fpr[\"micro\"], tpr[\"micro\"])\n",
    "print(\"Micro Roc score: \" + str(roc_auc[\"micro\"]))"
   ]
  },
  {
   "cell_type": "code",
   "execution_count": 47,
   "id": "cef5bfe5",
   "metadata": {},
   "outputs": [
    {
     "name": "stdout",
     "output_type": "stream",
     "text": [
      "The ROC AUC score of akiec is: 0.9841090028005915\n",
      "The ROC AUC score of bcc is: 0.9823425666562922\n",
      "The ROC AUC score of bkl is: 0.9711428069050403\n",
      "The ROC AUC score of df is: 0.9974593495934959\n",
      "The ROC AUC score of mel is: 0.9084338575863999\n",
      "The ROC AUC score of nv is: 0.9588929838929838\n",
      "The ROC AUC score of vasc is: 0.999636310736107\n"
     ]
    }
   ],
   "source": [
    "fpr = {}\n",
    "tpr = {}\n",
    "roc_auc = {}\n",
    "for i in range(7):\n",
    "    r = roc_auc_score(y_test[:, i], y_prob[:, i])\n",
    "    print(\"The ROC AUC score of \"+targetnames[i]+\" is: \"+str(r))"
   ]
  },
  {
   "cell_type": "code",
   "execution_count": 48,
   "id": "32fff45a",
   "metadata": {},
   "outputs": [],
   "source": [
    "# Compute ROC curve and ROC area for each class\n",
    "fpr = {}\n",
    "tpr = {}\n",
    "roc_auc = dict()\n",
    "for i in range(7):\n",
    "    fpr[i], tpr[i], _ = roc_curve(y_test[:, i], y_prob[:, i], drop_intermediate=False)\n",
    "    roc_auc[i] = auc(fpr[i], tpr[i])"
   ]
  },
  {
   "cell_type": "code",
   "execution_count": 49,
   "id": "cd42da01",
   "metadata": {},
   "outputs": [
    {
     "data": {
      "image/png": "[encoded data removed]",
      "text/plain": [
       "<Figure size 432x288 with 1 Axes>"
      ]
     },
     "metadata": {
      "needs_background": "light"
     },
     "output_type": "display_data"
    }
   ],
   "source": [
    "plt.plot(fpr[0], tpr[0],'v-',label='akiec: ROC curve of (area = %0.2f)' % roc_auc[0])\n",
    "plt.plot(fpr[1], tpr[1],'c',label='bcc: ROC curve of (area = %0.2f)' % roc_auc[1])\n",
    "plt.plot(fpr[2], tpr[2],'b',label='bkl: ROC curve of (area = %0.2f)' % roc_auc[2])\n",
    "plt.plot(fpr[3], tpr[3],'g',label='df: ROC curve of (area = %0.2f)' % roc_auc[3])\n",
    "plt.plot(fpr[4], tpr[4],'y',label='mel: ROC curve of (area = %0.2f)' % roc_auc[4])\n",
    "plt.plot(fpr[5], tpr[5],'o-',label='nv: ROC curve of (area = %0.2f)' % roc_auc[5])\n",
    "plt.plot(fpr[6], tpr[6],'r',label='vasc: ROC curve of (area = %0.2f)' % roc_auc[6])\n",
    "\n",
    "plt.plot([0, 1], [0, 1], 'k--')\n",
    "plt.xlim([-0.1, 1.1])\n",
    "plt.ylim([-0.1, 1.1])\n",
    "plt.xlabel('False Positive Rate')\n",
    "plt.ylabel('True Positive Rate')\n",
    "plt.title('Receiver operating characteristic of %s'%targetnames[i])\n",
    "plt.legend(loc=\"lower right\")\n",
    "plt.show()"
   ]
  },
  {
   "cell_type": "code",
   "execution_count": null,
   "id": "eb80bb58",
   "metadata": {},
   "outputs": [],
   "source": []
  }
 ],
 "metadata": {
  "kernelspec": {
   "display_name": "Python 3 (ipykernel)",
   "language": "python",
   "name": "python3"
  },
  "language_info": {
   "codemirror_mode": {
    "name": "ipython",
    "version": 3
   },
   "file_extension": ".py",
   "mimetype": "text/x-python",
   "name": "python",
   "nbconvert_exporter": "python",
   "pygments_lexer": "ipython3",
   "version": "3.9.5"
  }
 },
 "nbformat": 4,
 "nbformat_minor": 5
}
