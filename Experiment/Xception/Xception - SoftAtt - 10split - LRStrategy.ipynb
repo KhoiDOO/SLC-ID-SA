{
 "cells": [
  {
   "cell_type": "markdown",
   "id": "6157792c",
   "metadata": {},
   "source": [
    "# Setup"
   ]
  },
  {
   "cell_type": "code",
   "execution_count": 1,
   "id": "825d07e0",
   "metadata": {},
   "outputs": [],
   "source": [
    "import pandas as pd\n",
    "import numpy as np\n",
    "import os\n",
    "import tensorflow as tf\n",
    "import datetime\n",
    "import cv2\n",
    "from keras import backend as K\n",
    "from keras.layers import Layer,InputSpec\n",
    "from keras import layers\n",
    "import keras.layers as kl\n",
    "from glob import glob\n",
    "from sklearn.metrics import roc_curve, auc\n",
    "from keras.preprocessing import image\n",
    "from tensorflow.keras.models import Sequential\n",
    "from sklearn.metrics import roc_auc_score\n",
    "from sklearn import preprocessing\n",
    "from tensorflow.keras import callbacks \n",
    "from tensorflow.keras.callbacks import ModelCheckpoint, EarlyStopping, ReduceLROnPlateau\n",
    "from  matplotlib import pyplot as plt\n",
    "from tensorflow.keras import Model\n",
    "from tensorflow.keras.layers import concatenate, Dense, Conv2D, MaxPooling2D, Flatten, Input, Activation, add, AveragePooling2D, BatchNormalization, Dropout\n",
    "%matplotlib inline\n",
    "import shutil\n",
    "from sklearn.metrics import  precision_score, recall_score, accuracy_score,classification_report ,confusion_matrix\n",
    "from tensorflow.python.platform import build_info as tf_build_info\n",
    "from tensorflow.keras.preprocessing.image import ImageDataGenerator\n",
    "from sklearn.model_selection import train_test_split\n",
    "\n",
    "from PIL import ImageFile\n",
    "ImageFile.LOAD_TRUNCATED_IMAGES = True"
   ]
  },
  {
   "cell_type": "code",
   "execution_count": 2,
   "id": "0213bc9c",
   "metadata": {},
   "outputs": [
    {
     "data": {
      "text/plain": [
       "[PhysicalDevice(name='/physical_device:GPU:0', device_type='GPU')]"
      ]
     },
     "execution_count": 2,
     "metadata": {},
     "output_type": "execute_result"
    }
   ],
   "source": [
    "tf.config.list_physical_devices('GPU')"
   ]
  },
  {
   "cell_type": "markdown",
   "id": "1eab577f",
   "metadata": {},
   "source": [
    "# Data Preparation"
   ]
  },
  {
   "cell_type": "code",
   "execution_count": 3,
   "id": "b2ef3059",
   "metadata": {},
   "outputs": [],
   "source": [
    "# Environment variable\n",
    "main_dir = 'D:/Data/HAM100000 - Harvard Dataset'\n",
    "main_img_dir = main_dir + '/img_data'\n",
    "preprocessed_data_dir = main_dir + '/preprocessed_data'\n",
    "train_dir = preprocessed_data_dir + '/train'\n",
    "test_dir = preprocessed_data_dir + '/val'\n",
    "train_label = preprocessed_data_dir + '/train_label.csv'\n",
    "val_label = preprocessed_data_dir + '/val_label.csv'\n",
    "\n",
    "model_path = 'xceptionSoftAtt_10split_LRStr.hdf5'"
   ]
  },
  {
   "cell_type": "code",
   "execution_count": 4,
   "id": "fbaea60c",
   "metadata": {},
   "outputs": [],
   "source": [
    "target_size = (299, 299)\n",
    "def Get_data(df_path, img_path, _target_size):\n",
    "    img_list = []\n",
    "    labels = []\n",
    "    ages = []\n",
    "    sex_list = []\n",
    "    localizations = []\n",
    "    \n",
    "    df = pd.read_csv(df_path)\n",
    "    for index, row in df.iterrows():\n",
    "        img_list.append(cv2.imread(img_path + '/' + row['image_id'] + '.jpg'))\n",
    "        labels.append(row['dx'])\n",
    "        ages.append(float(row['age']))\n",
    "        sex_list.append(row['sex'])\n",
    "        localizations.append(row['localization'])\n",
    "    for x in range(len(img_list)):\n",
    "        img_list[x] = tf.keras.preprocessing.image.smart_resize(img_list[x], _target_size)\n",
    "        img_list[x] = tf.keras.applications.xception.preprocess_input(img_list[x])\n",
    "    le = preprocessing.LabelEncoder()\n",
    "    le.fit(labels)\n",
    "    labels = le.transform(labels)\n",
    "    labels = tf.keras.utils.to_categorical(labels)\n",
    "    return (img_list, ages, sex_list, localizations), labels"
   ]
  },
  {
   "cell_type": "code",
   "execution_count": 5,
   "id": "02cc5ad7",
   "metadata": {},
   "outputs": [
    {
     "data": {
      "text/html": [
       "<div>\n",
       "<style scoped>\n",
       "    .dataframe tbody tr th:only-of-type {\n",
       "        vertical-align: middle;\n",
       "    }\n",
       "\n",
       "    .dataframe tbody tr th {\n",
       "        vertical-align: top;\n",
       "    }\n",
       "\n",
       "    .dataframe thead th {\n",
       "        text-align: right;\n",
       "    }\n",
       "</style>\n",
       "<table border=\"1\" class=\"dataframe\">\n",
       "  <thead>\n",
       "    <tr style=\"text-align: right;\">\n",
       "      <th></th>\n",
       "      <th>Unnamed: 0</th>\n",
       "      <th>image_id</th>\n",
       "      <th>dx</th>\n",
       "      <th>age</th>\n",
       "      <th>sex</th>\n",
       "      <th>localization</th>\n",
       "    </tr>\n",
       "  </thead>\n",
       "  <tbody>\n",
       "    <tr>\n",
       "      <th>0</th>\n",
       "      <td>0</td>\n",
       "      <td>ISIC_0027419</td>\n",
       "      <td>bkl</td>\n",
       "      <td>80.0</td>\n",
       "      <td>male</td>\n",
       "      <td>scalp</td>\n",
       "    </tr>\n",
       "    <tr>\n",
       "      <th>1</th>\n",
       "      <td>1</td>\n",
       "      <td>ISIC_0025030</td>\n",
       "      <td>bkl</td>\n",
       "      <td>80.0</td>\n",
       "      <td>male</td>\n",
       "      <td>scalp</td>\n",
       "    </tr>\n",
       "    <tr>\n",
       "      <th>2</th>\n",
       "      <td>2</td>\n",
       "      <td>ISIC_0026769</td>\n",
       "      <td>bkl</td>\n",
       "      <td>80.0</td>\n",
       "      <td>male</td>\n",
       "      <td>scalp</td>\n",
       "    </tr>\n",
       "    <tr>\n",
       "      <th>3</th>\n",
       "      <td>3</td>\n",
       "      <td>ISIC_0025661</td>\n",
       "      <td>bkl</td>\n",
       "      <td>80.0</td>\n",
       "      <td>male</td>\n",
       "      <td>scalp</td>\n",
       "    </tr>\n",
       "    <tr>\n",
       "      <th>4</th>\n",
       "      <td>4</td>\n",
       "      <td>ISIC_0031633</td>\n",
       "      <td>bkl</td>\n",
       "      <td>75.0</td>\n",
       "      <td>male</td>\n",
       "      <td>ear</td>\n",
       "    </tr>\n",
       "  </tbody>\n",
       "</table>\n",
       "</div>"
      ],
      "text/plain": [
       "   Unnamed: 0      image_id   dx   age   sex localization\n",
       "0           0  ISIC_0027419  bkl  80.0  male        scalp\n",
       "1           1  ISIC_0025030  bkl  80.0  male        scalp\n",
       "2           2  ISIC_0026769  bkl  80.0  male        scalp\n",
       "3           3  ISIC_0025661  bkl  80.0  male        scalp\n",
       "4           4  ISIC_0031633  bkl  75.0  male          ear"
      ]
     },
     "execution_count": 5,
     "metadata": {},
     "output_type": "execute_result"
    }
   ],
   "source": [
    "train_df = pd.read_csv(train_label)\n",
    "train_df.head()"
   ]
  },
  {
   "cell_type": "code",
   "execution_count": 6,
   "id": "7c0476fa",
   "metadata": {},
   "outputs": [
    {
     "data": {
      "text/html": [
       "<div>\n",
       "<style scoped>\n",
       "    .dataframe tbody tr th:only-of-type {\n",
       "        vertical-align: middle;\n",
       "    }\n",
       "\n",
       "    .dataframe tbody tr th {\n",
       "        vertical-align: top;\n",
       "    }\n",
       "\n",
       "    .dataframe thead th {\n",
       "        text-align: right;\n",
       "    }\n",
       "</style>\n",
       "<table border=\"1\" class=\"dataframe\">\n",
       "  <thead>\n",
       "    <tr style=\"text-align: right;\">\n",
       "      <th></th>\n",
       "      <th>Unnamed: 0</th>\n",
       "      <th>image_id</th>\n",
       "      <th>dx</th>\n",
       "      <th>age</th>\n",
       "      <th>sex</th>\n",
       "      <th>localization</th>\n",
       "    </tr>\n",
       "  </thead>\n",
       "  <tbody>\n",
       "    <tr>\n",
       "      <th>0</th>\n",
       "      <td>2973</td>\n",
       "      <td>ISIC_0031531</td>\n",
       "      <td>bcc</td>\n",
       "      <td>70.0</td>\n",
       "      <td>male</td>\n",
       "      <td>back</td>\n",
       "    </tr>\n",
       "    <tr>\n",
       "      <th>1</th>\n",
       "      <td>483</td>\n",
       "      <td>ISIC_0026526</td>\n",
       "      <td>bkl</td>\n",
       "      <td>60.0</td>\n",
       "      <td>male</td>\n",
       "      <td>face</td>\n",
       "    </tr>\n",
       "    <tr>\n",
       "      <th>2</th>\n",
       "      <td>8870</td>\n",
       "      <td>ISIC_0026805</td>\n",
       "      <td>nv</td>\n",
       "      <td>75.0</td>\n",
       "      <td>female</td>\n",
       "      <td>lower extremity</td>\n",
       "    </tr>\n",
       "    <tr>\n",
       "      <th>3</th>\n",
       "      <td>1991</td>\n",
       "      <td>ISIC_0030756</td>\n",
       "      <td>mel</td>\n",
       "      <td>85.0</td>\n",
       "      <td>male</td>\n",
       "      <td>chest</td>\n",
       "    </tr>\n",
       "    <tr>\n",
       "      <th>4</th>\n",
       "      <td>8324</td>\n",
       "      <td>ISIC_0024834</td>\n",
       "      <td>nv</td>\n",
       "      <td>70.0</td>\n",
       "      <td>male</td>\n",
       "      <td>chest</td>\n",
       "    </tr>\n",
       "  </tbody>\n",
       "</table>\n",
       "</div>"
      ],
      "text/plain": [
       "   Unnamed: 0      image_id   dx   age     sex     localization\n",
       "0        2973  ISIC_0031531  bcc  70.0    male             back\n",
       "1         483  ISIC_0026526  bkl  60.0    male             face\n",
       "2        8870  ISIC_0026805   nv  75.0  female  lower extremity\n",
       "3        1991  ISIC_0030756  mel  85.0    male            chest\n",
       "4        8324  ISIC_0024834   nv  70.0    male            chest"
      ]
     },
     "execution_count": 6,
     "metadata": {},
     "output_type": "execute_result"
    }
   ],
   "source": [
    "val_df = pd.read_csv(val_label)\n",
    "val_df.head()"
   ]
  },
  {
   "cell_type": "markdown",
   "id": "4180af7b",
   "metadata": {},
   "source": [
    "## Training Data"
   ]
  },
  {
   "cell_type": "code",
   "execution_count": 7,
   "id": "827a6beb",
   "metadata": {},
   "outputs": [],
   "source": [
    "(train_img_lst, train_ages, train_sexes, train_localizations), labels = Get_data(train_label, main_img_dir, target_size)"
   ]
  },
  {
   "cell_type": "code",
   "execution_count": 8,
   "id": "5a06009b",
   "metadata": {},
   "outputs": [
    {
     "data": {
      "text/plain": [
       "False"
      ]
     },
     "execution_count": 8,
     "metadata": {},
     "output_type": "execute_result"
    }
   ],
   "source": [
    "any(elem is None for elem in train_img_lst)"
   ]
  },
  {
   "cell_type": "code",
   "execution_count": 9,
   "id": "6de92f29",
   "metadata": {},
   "outputs": [
    {
     "name": "stdout",
     "output_type": "stream",
     "text": [
      "Number of images: 8962\n",
      "Image shape: 299 299\n",
      "Example of Age: 80.0\n",
      "Example of Sex: male\n",
      "Example of Localization: scalp\n"
     ]
    }
   ],
   "source": [
    "print(\"Number of images: {}\".format(len(train_img_lst)))\n",
    "print(\"Image shape: {0} {1}\".format(train_img_lst[0].shape[0], train_img_lst[0].shape[1]))\n",
    "print(\"Example of Age: {}\".format(train_ages[0]))\n",
    "print(\"Example of Sex: {}\".format(train_sexes[0]))\n",
    "print(\"Example of Localization: {}\".format(train_localizations[0]))"
   ]
  },
  {
   "cell_type": "markdown",
   "id": "59c0313c",
   "metadata": {},
   "source": [
    "## Validation Data"
   ]
  },
  {
   "cell_type": "code",
   "execution_count": 10,
   "id": "4ea74922",
   "metadata": {},
   "outputs": [],
   "source": [
    "(val_img_lst, val_ages, val_sexes, val_localizations), val_labels = Get_data(val_label, main_img_dir, target_size)"
   ]
  },
  {
   "cell_type": "code",
   "execution_count": 11,
   "id": "75851082",
   "metadata": {},
   "outputs": [
    {
     "data": {
      "text/plain": [
       "False"
      ]
     },
     "execution_count": 11,
     "metadata": {},
     "output_type": "execute_result"
    }
   ],
   "source": [
    "any(elem is None for elem in val_img_lst)"
   ]
  },
  {
   "cell_type": "code",
   "execution_count": 12,
   "id": "fc76bebd",
   "metadata": {},
   "outputs": [
    {
     "name": "stdout",
     "output_type": "stream",
     "text": [
      "Number of images: 996\n",
      "Image shape: 299 299\n",
      "Example of Age: 70.0\n",
      "Example of Sex: male\n",
      "Example of Localization: back\n"
     ]
    }
   ],
   "source": [
    "print(\"Number of images: {}\".format(len(val_img_lst)))\n",
    "print(\"Image shape: {0} {1}\".format(val_img_lst[0].shape[0], val_img_lst[0].shape[1]))\n",
    "print(\"Example of Age: {}\".format(val_ages[0]))\n",
    "print(\"Example of Sex: {}\".format(val_sexes[0]))\n",
    "print(\"Example of Localization: {}\".format(val_localizations[0]))"
   ]
  },
  {
   "cell_type": "markdown",
   "id": "a834d1c1",
   "metadata": {},
   "source": [
    "# Model"
   ]
  },
  {
   "cell_type": "markdown",
   "id": "69815849",
   "metadata": {},
   "source": [
    "## Input Block"
   ]
  },
  {
   "cell_type": "code",
   "execution_count": 13,
   "id": "307f275e",
   "metadata": {},
   "outputs": [],
   "source": [
    "age_input = tf.keras.Input(shape=(1,), name='age', dtype=tf.float32)\n",
    "sex_input = tf.keras.Input(shape=(1,), name='sex', dtype=tf.string)\n",
    "localizations_input = tf.keras.Input(shape=(1,), name='localization', dtype=tf.string)\n",
    "\n",
    "inputs = {'age' : age_input,\n",
    "         'sex' : sex_input,\n",
    "         'local' : localizations_input}"
   ]
  },
  {
   "cell_type": "code",
   "execution_count": 14,
   "id": "fbdadbf5",
   "metadata": {},
   "outputs": [
    {
     "data": {
      "text/plain": [
       "<KerasTensor: shape=(None, 1) dtype=float32 (created by layer 'normalization')>"
      ]
     },
     "execution_count": 14,
     "metadata": {},
     "output_type": "execute_result"
    }
   ],
   "source": [
    "norm = layers.Normalization()\n",
    "norm.adapt(np.array(train_df[['age']]))\n",
    "age_norm_input = norm(age_input)\n",
    "age_norm_input"
   ]
  },
  {
   "cell_type": "code",
   "execution_count": 15,
   "id": "83666cc3",
   "metadata": {},
   "outputs": [
    {
     "data": {
      "text/plain": [
       "<KerasTensor: shape=(None, 4) dtype=float32 (created by layer 'category_encoding')>"
      ]
     },
     "execution_count": 15,
     "metadata": {},
     "output_type": "execute_result"
    }
   ],
   "source": [
    "# Sex input\n",
    "sex_lookup = layers.StringLookup(vocabulary=np.unique(train_df['sex']))\n",
    "sex_one_hot = layers.CategoryEncoding(num_tokens=sex_lookup.vocabulary_size())\n",
    "\n",
    "preprocessed_sex_input = sex_lookup(sex_input)\n",
    "preprocessed_sex_input = sex_one_hot(preprocessed_sex_input)\n",
    "preprocessed_sex_input"
   ]
  },
  {
   "cell_type": "code",
   "execution_count": 16,
   "id": "6662d963",
   "metadata": {},
   "outputs": [
    {
     "data": {
      "text/plain": [
       "<KerasTensor: shape=(None, 16) dtype=float32 (created by layer 'category_encoding_1')>"
      ]
     },
     "execution_count": 16,
     "metadata": {},
     "output_type": "execute_result"
    }
   ],
   "source": [
    "# Localization input\n",
    "local_lookup = layers.StringLookup(vocabulary=np.unique(train_df['localization']))\n",
    "local_one_hot = layers.CategoryEncoding(num_tokens=local_lookup.vocabulary_size())\n",
    "\n",
    "preprocess_local_input = local_lookup(localizations_input)\n",
    "preprocess_local_input = local_one_hot(preprocess_local_input)\n",
    "preprocess_local_input"
   ]
  },
  {
   "cell_type": "code",
   "execution_count": 17,
   "id": "4b5f8998",
   "metadata": {
    "scrolled": true
   },
   "outputs": [
    {
     "data": {
      "text/plain": [
       "<KerasTensor: shape=(None, 21) dtype=float32 (created by layer 'concatenate')>"
      ]
     },
     "execution_count": 17,
     "metadata": {},
     "output_type": "execute_result"
    }
   ],
   "source": [
    "preprocessed_inputs = [age_norm_input, preprocessed_sex_input, preprocess_local_input]\n",
    "preprocessed_inputs_cat = layers.Concatenate()(preprocessed_inputs)\n",
    "\n",
    "# preprocessed_Model = tf.keras.Model(inputs, preprocessed_inputs_cat)\n",
    "# tf.keras.utils.plot_model(model = preprocessed_Model , rankdir=\"LR\", dpi=72, show_shapes=True)\n",
    "\n",
    "preprocessed_inputs_cat"
   ]
  },
  {
   "cell_type": "markdown",
   "id": "4bdc3dbd",
   "metadata": {},
   "source": [
    "## Soft Attention"
   ]
  },
  {
   "cell_type": "code",
   "execution_count": 18,
   "id": "70e746d8",
   "metadata": {},
   "outputs": [],
   "source": [
    "from keras import backend as K\n",
    "from keras.layers import Layer,InputSpec\n",
    "import keras.layers as kl\n",
    "import tensorflow as tf"
   ]
  },
  {
   "cell_type": "code",
   "execution_count": 19,
   "id": "be2100ec",
   "metadata": {},
   "outputs": [],
   "source": [
    "class SoftAttention(Layer):\n",
    "    def __init__(self,ch,m,concat_with_x=False,aggregate=False,**kwargs):\n",
    "        self.channels=int(ch)\n",
    "        self.multiheads = m\n",
    "        self.aggregate_channels = aggregate\n",
    "        self.concat_input_with_scaled = concat_with_x\n",
    "\n",
    "        \n",
    "        super(SoftAttention,self).__init__(**kwargs)\n",
    "\n",
    "    def build(self,input_shape):\n",
    "\n",
    "        self.i_shape = input_shape\n",
    "\n",
    "        kernel_shape_conv3d = (self.channels, 3, 3) + (1, self.multiheads) # DHWC\n",
    "    \n",
    "        self.out_attention_maps_shape = input_shape[0:1]+(self.multiheads,)+input_shape[1:-1]\n",
    "        \n",
    "        if self.aggregate_channels==False:\n",
    "\n",
    "            self.out_features_shape = input_shape[:-1]+(input_shape[-1]+(input_shape[-1]*self.multiheads),)\n",
    "        else:\n",
    "            if self.concat_input_with_scaled:\n",
    "                self.out_features_shape = input_shape[:-1]+(input_shape[-1]*2,)\n",
    "            else:\n",
    "                self.out_features_shape = input_shape\n",
    "        \n",
    "\n",
    "        self.kernel_conv3d = self.add_weight(shape=kernel_shape_conv3d,\n",
    "                                        initializer='he_uniform',\n",
    "                                        name='kernel_conv3d')\n",
    "        self.bias_conv3d = self.add_weight(shape=(self.multiheads,),\n",
    "                                      initializer='zeros',\n",
    "                                      name='bias_conv3d')\n",
    "\n",
    "        super(SoftAttention, self).build(input_shape)\n",
    "\n",
    "    def call(self, x):\n",
    "\n",
    "        exp_x = K.expand_dims(x,axis=-1)\n",
    "\n",
    "        c3d = K.conv3d(exp_x,\n",
    "                     kernel=self.kernel_conv3d,\n",
    "                     strides=(1,1,self.i_shape[-1]), padding='same', data_format='channels_last')\n",
    "        conv3d = K.bias_add(c3d,\n",
    "                        self.bias_conv3d)\n",
    "        conv3d = kl.Activation('relu')(conv3d)\n",
    "\n",
    "        conv3d = K.permute_dimensions(conv3d,pattern=(0,4,1,2,3))\n",
    "\n",
    "        \n",
    "        conv3d = K.squeeze(conv3d, axis=-1)\n",
    "        conv3d = K.reshape(conv3d,shape=(-1, self.multiheads ,self.i_shape[1]*self.i_shape[2]))\n",
    "\n",
    "        softmax_alpha = K.softmax(conv3d, axis=-1) \n",
    "        softmax_alpha = kl.Reshape(target_shape=(self.multiheads, self.i_shape[1],self.i_shape[2]))(softmax_alpha)\n",
    "\n",
    "        \n",
    "        if self.aggregate_channels==False:\n",
    "            exp_softmax_alpha = K.expand_dims(softmax_alpha, axis=-1)       \n",
    "            exp_softmax_alpha = K.permute_dimensions(exp_softmax_alpha,pattern=(0,2,3,1,4))\n",
    "   \n",
    "            x_exp = K.expand_dims(x,axis=-2)\n",
    "   \n",
    "            u = kl.Multiply()([exp_softmax_alpha, x_exp])   \n",
    "  \n",
    "            u = kl.Reshape(target_shape=(self.i_shape[1],self.i_shape[2],u.shape[-1]*u.shape[-2]))(u)\n",
    "\n",
    "        else:\n",
    "            exp_softmax_alpha = K.permute_dimensions(softmax_alpha,pattern=(0,2,3,1))\n",
    "\n",
    "            exp_softmax_alpha = K.sum(exp_softmax_alpha,axis=-1)\n",
    "\n",
    "            exp_softmax_alpha = K.expand_dims(exp_softmax_alpha, axis=-1)\n",
    "\n",
    "            u = kl.Multiply()([exp_softmax_alpha, x])   \n",
    "\n",
    "        if self.concat_input_with_scaled:\n",
    "            o = kl.Concatenate(axis=-1)([u,x])\n",
    "        else:\n",
    "            o = u\n",
    "        \n",
    "        return [o, softmax_alpha]\n",
    "\n",
    "    def compute_output_shape(self, input_shape): \n",
    "        return [self.out_features_shape, self.out_attention_maps_shape]\n",
    "\n",
    "    \n",
    "    def get_config(self):\n",
    "        return super(SoftAttention,self).get_config()"
   ]
  },
  {
   "cell_type": "markdown",
   "id": "8cac7e2f",
   "metadata": {},
   "source": [
    "## Base Model"
   ]
  },
  {
   "cell_type": "code",
   "execution_count": 24,
   "id": "5780bf0e",
   "metadata": {},
   "outputs": [],
   "source": [
    "xception = tf.keras.applications.Xception(\n",
    "    include_top=True,\n",
    "    weights=\"imagenet\",\n",
    "    input_tensor=None,\n",
    "    input_shape=None,\n",
    "    pooling=None,\n",
    "\n",
    ")\n",
    "\n",
    "inputs['image'] = xception.input\n",
    "\n",
    "# Exclude the last 28 layers of the model.\n",
    "xception_output = xception.layers[-3].output"
   ]
  },
  {
   "cell_type": "markdown",
   "id": "5ef7d2d9",
   "metadata": {},
   "source": [
    "## Final Model"
   ]
  },
  {
   "cell_type": "code",
   "execution_count": 25,
   "id": "090c75dd",
   "metadata": {},
   "outputs": [],
   "source": [
    "attention_layer,map2 = SoftAttention(aggregate=True,m=16,concat_with_x=False,ch=int(xception_output.shape[-1]),name='soft_attention')(xception_output)\n",
    "attention_layer=(MaxPooling2D(pool_size=(2, 2),padding=\"same\")(attention_layer))\n",
    "xception_output=(MaxPooling2D(pool_size=(2, 2),padding=\"same\")(xception_output))\n",
    "\n",
    "xception_output = layers.Concatenate()([xception_output, attention_layer])\n",
    "xception_output = Activation('relu')(xception_output)\n",
    "xception_output = Dropout(0.5)(xception_output)"
   ]
  },
  {
   "cell_type": "code",
   "execution_count": 26,
   "id": "a22836b0",
   "metadata": {},
   "outputs": [],
   "source": [
    "output = Flatten()(xception_output)\n",
    "preprocessed_inputs_cat = (layers.Dense(4096, activation = 'relu')(preprocessed_inputs_cat))\n",
    "output = layers.Concatenate()([output, preprocessed_inputs_cat])\n",
    "output = Dense(7, activation='softmax')(output)\n",
    "model = Model(inputs=inputs, outputs=output)"
   ]
  },
  {
   "cell_type": "code",
   "execution_count": 27,
   "id": "ffd90327",
   "metadata": {},
   "outputs": [
    {
     "name": "stdout",
     "output_type": "stream",
     "text": [
      "Model: \"model\"\n",
      "__________________________________________________________________________________________________\n",
      " Layer (type)                   Output Shape         Param #     Connected to                     \n",
      "==================================================================================================\n",
      " input_2 (InputLayer)           [(None, 299, 299, 3  0           []                               \n",
      "                                )]                                                                \n",
      "                                                                                                  \n",
      " block1_conv1 (Conv2D)          (None, 149, 149, 32  864         ['input_2[0][0]']                \n",
      "                                )                                                                 \n",
      "                                                                                                  \n",
      " block1_conv1_bn (BatchNormaliz  (None, 149, 149, 32  128        ['block1_conv1[0][0]']           \n",
      " ation)                         )                                                                 \n",
      "                                                                                                  \n",
      " block1_conv1_act (Activation)  (None, 149, 149, 32  0           ['block1_conv1_bn[0][0]']        \n",
      "                                )                                                                 \n",
      "                                                                                                  \n",
      " block1_conv2 (Conv2D)          (None, 147, 147, 64  18432       ['block1_conv1_act[0][0]']       \n",
      "                                )                                                                 \n",
      "                                                                                                  \n",
      " block1_conv2_bn (BatchNormaliz  (None, 147, 147, 64  256        ['block1_conv2[0][0]']           \n",
      " ation)                         )                                                                 \n",
      "                                                                                                  \n",
      " block1_conv2_act (Activation)  (None, 147, 147, 64  0           ['block1_conv2_bn[0][0]']        \n",
      "                                )                                                                 \n",
      "                                                                                                  \n",
      " block2_sepconv1 (SeparableConv  (None, 147, 147, 12  8768       ['block1_conv2_act[0][0]']       \n",
      " 2D)                            8)                                                                \n",
      "                                                                                                  \n",
      " block2_sepconv1_bn (BatchNorma  (None, 147, 147, 12  512        ['block2_sepconv1[0][0]']        \n",
      " lization)                      8)                                                                \n",
      "                                                                                                  \n",
      " block2_sepconv2_act (Activatio  (None, 147, 147, 12  0          ['block2_sepconv1_bn[0][0]']     \n",
      " n)                             8)                                                                \n",
      "                                                                                                  \n",
      " block2_sepconv2 (SeparableConv  (None, 147, 147, 12  17536      ['block2_sepconv2_act[0][0]']    \n",
      " 2D)                            8)                                                                \n",
      "                                                                                                  \n",
      " block2_sepconv2_bn (BatchNorma  (None, 147, 147, 12  512        ['block2_sepconv2[0][0]']        \n",
      " lization)                      8)                                                                \n",
      "                                                                                                  \n",
      " conv2d_4 (Conv2D)              (None, 74, 74, 128)  8192        ['block1_conv2_act[0][0]']       \n",
      "                                                                                                  \n",
      " block2_pool (MaxPooling2D)     (None, 74, 74, 128)  0           ['block2_sepconv2_bn[0][0]']     \n",
      "                                                                                                  \n",
      " batch_normalization_4 (BatchNo  (None, 74, 74, 128)  512        ['conv2d_4[0][0]']               \n",
      " rmalization)                                                                                     \n",
      "                                                                                                  \n",
      " add_12 (Add)                   (None, 74, 74, 128)  0           ['block2_pool[0][0]',            \n",
      "                                                                  'batch_normalization_4[0][0]']  \n",
      "                                                                                                  \n",
      " block3_sepconv1_act (Activatio  (None, 74, 74, 128)  0          ['add_12[0][0]']                 \n",
      " n)                                                                                               \n",
      "                                                                                                  \n",
      " block3_sepconv1 (SeparableConv  (None, 74, 74, 256)  33920      ['block3_sepconv1_act[0][0]']    \n",
      " 2D)                                                                                              \n",
      "                                                                                                  \n",
      " block3_sepconv1_bn (BatchNorma  (None, 74, 74, 256)  1024       ['block3_sepconv1[0][0]']        \n",
      " lization)                                                                                        \n",
      "                                                                                                  \n",
      " block3_sepconv2_act (Activatio  (None, 74, 74, 256)  0          ['block3_sepconv1_bn[0][0]']     \n",
      " n)                                                                                               \n",
      "                                                                                                  \n",
      " block3_sepconv2 (SeparableConv  (None, 74, 74, 256)  67840      ['block3_sepconv2_act[0][0]']    \n",
      " 2D)                                                                                              \n",
      "                                                                                                  \n",
      " block3_sepconv2_bn (BatchNorma  (None, 74, 74, 256)  1024       ['block3_sepconv2[0][0]']        \n",
      " lization)                                                                                        \n",
      "                                                                                                  \n",
      " conv2d_5 (Conv2D)              (None, 37, 37, 256)  32768       ['add_12[0][0]']                 \n",
      "                                                                                                  \n",
      " block3_pool (MaxPooling2D)     (None, 37, 37, 256)  0           ['block3_sepconv2_bn[0][0]']     \n",
      "                                                                                                  \n",
      " batch_normalization_5 (BatchNo  (None, 37, 37, 256)  1024       ['conv2d_5[0][0]']               \n",
      " rmalization)                                                                                     \n",
      "                                                                                                  \n",
      " add_13 (Add)                   (None, 37, 37, 256)  0           ['block3_pool[0][0]',            \n",
      "                                                                  'batch_normalization_5[0][0]']  \n",
      "                                                                                                  \n",
      " block4_sepconv1_act (Activatio  (None, 37, 37, 256)  0          ['add_13[0][0]']                 \n",
      " n)                                                                                               \n",
      "                                                                                                  \n",
      " block4_sepconv1 (SeparableConv  (None, 37, 37, 728)  188672     ['block4_sepconv1_act[0][0]']    \n",
      " 2D)                                                                                              \n",
      "                                                                                                  \n"
     ]
    },
    {
     "name": "stdout",
     "output_type": "stream",
     "text": [
      " block4_sepconv1_bn (BatchNorma  (None, 37, 37, 728)  2912       ['block4_sepconv1[0][0]']        \n",
      " lization)                                                                                        \n",
      "                                                                                                  \n",
      " block4_sepconv2_act (Activatio  (None, 37, 37, 728)  0          ['block4_sepconv1_bn[0][0]']     \n",
      " n)                                                                                               \n",
      "                                                                                                  \n",
      " block4_sepconv2 (SeparableConv  (None, 37, 37, 728)  536536     ['block4_sepconv2_act[0][0]']    \n",
      " 2D)                                                                                              \n",
      "                                                                                                  \n",
      " block4_sepconv2_bn (BatchNorma  (None, 37, 37, 728)  2912       ['block4_sepconv2[0][0]']        \n",
      " lization)                                                                                        \n",
      "                                                                                                  \n",
      " conv2d_6 (Conv2D)              (None, 19, 19, 728)  186368      ['add_13[0][0]']                 \n",
      "                                                                                                  \n",
      " block4_pool (MaxPooling2D)     (None, 19, 19, 728)  0           ['block4_sepconv2_bn[0][0]']     \n",
      "                                                                                                  \n",
      " batch_normalization_6 (BatchNo  (None, 19, 19, 728)  2912       ['conv2d_6[0][0]']               \n",
      " rmalization)                                                                                     \n",
      "                                                                                                  \n",
      " add_14 (Add)                   (None, 19, 19, 728)  0           ['block4_pool[0][0]',            \n",
      "                                                                  'batch_normalization_6[0][0]']  \n",
      "                                                                                                  \n",
      " block5_sepconv1_act (Activatio  (None, 19, 19, 728)  0          ['add_14[0][0]']                 \n",
      " n)                                                                                               \n",
      "                                                                                                  \n",
      " block5_sepconv1 (SeparableConv  (None, 19, 19, 728)  536536     ['block5_sepconv1_act[0][0]']    \n",
      " 2D)                                                                                              \n",
      "                                                                                                  \n",
      " block5_sepconv1_bn (BatchNorma  (None, 19, 19, 728)  2912       ['block5_sepconv1[0][0]']        \n",
      " lization)                                                                                        \n",
      "                                                                                                  \n",
      " block5_sepconv2_act (Activatio  (None, 19, 19, 728)  0          ['block5_sepconv1_bn[0][0]']     \n",
      " n)                                                                                               \n",
      "                                                                                                  \n",
      " block5_sepconv2 (SeparableConv  (None, 19, 19, 728)  536536     ['block5_sepconv2_act[0][0]']    \n",
      " 2D)                                                                                              \n",
      "                                                                                                  \n",
      " block5_sepconv2_bn (BatchNorma  (None, 19, 19, 728)  2912       ['block5_sepconv2[0][0]']        \n",
      " lization)                                                                                        \n",
      "                                                                                                  \n",
      " block5_sepconv3_act (Activatio  (None, 19, 19, 728)  0          ['block5_sepconv2_bn[0][0]']     \n",
      " n)                                                                                               \n",
      "                                                                                                  \n",
      " block5_sepconv3 (SeparableConv  (None, 19, 19, 728)  536536     ['block5_sepconv3_act[0][0]']    \n",
      " 2D)                                                                                              \n",
      "                                                                                                  \n",
      " block5_sepconv3_bn (BatchNorma  (None, 19, 19, 728)  2912       ['block5_sepconv3[0][0]']        \n",
      " lization)                                                                                        \n",
      "                                                                                                  \n",
      " add_15 (Add)                   (None, 19, 19, 728)  0           ['block5_sepconv3_bn[0][0]',     \n",
      "                                                                  'add_14[0][0]']                 \n",
      "                                                                                                  \n",
      " block6_sepconv1_act (Activatio  (None, 19, 19, 728)  0          ['add_15[0][0]']                 \n",
      " n)                                                                                               \n",
      "                                                                                                  \n",
      " block6_sepconv1 (SeparableConv  (None, 19, 19, 728)  536536     ['block6_sepconv1_act[0][0]']    \n",
      " 2D)                                                                                              \n",
      "                                                                                                  \n",
      " block6_sepconv1_bn (BatchNorma  (None, 19, 19, 728)  2912       ['block6_sepconv1[0][0]']        \n",
      " lization)                                                                                        \n",
      "                                                                                                  \n",
      " block6_sepconv2_act (Activatio  (None, 19, 19, 728)  0          ['block6_sepconv1_bn[0][0]']     \n",
      " n)                                                                                               \n",
      "                                                                                                  \n",
      " block6_sepconv2 (SeparableConv  (None, 19, 19, 728)  536536     ['block6_sepconv2_act[0][0]']    \n",
      " 2D)                                                                                              \n",
      "                                                                                                  \n",
      " block6_sepconv2_bn (BatchNorma  (None, 19, 19, 728)  2912       ['block6_sepconv2[0][0]']        \n",
      " lization)                                                                                        \n",
      "                                                                                                  \n",
      " block6_sepconv3_act (Activatio  (None, 19, 19, 728)  0          ['block6_sepconv2_bn[0][0]']     \n",
      " n)                                                                                               \n",
      "                                                                                                  \n",
      " block6_sepconv3 (SeparableConv  (None, 19, 19, 728)  536536     ['block6_sepconv3_act[0][0]']    \n",
      " 2D)                                                                                              \n",
      "                                                                                                  \n",
      " block6_sepconv3_bn (BatchNorma  (None, 19, 19, 728)  2912       ['block6_sepconv3[0][0]']        \n",
      " lization)                                                                                        \n",
      "                                                                                                  \n",
      " add_16 (Add)                   (None, 19, 19, 728)  0           ['block6_sepconv3_bn[0][0]',     \n",
      "                                                                  'add_15[0][0]']                 \n",
      "                                                                                                  \n",
      " block7_sepconv1_act (Activatio  (None, 19, 19, 728)  0          ['add_16[0][0]']                 \n"
     ]
    },
    {
     "name": "stdout",
     "output_type": "stream",
     "text": [
      " n)                                                                                               \n",
      "                                                                                                  \n",
      " block7_sepconv1 (SeparableConv  (None, 19, 19, 728)  536536     ['block7_sepconv1_act[0][0]']    \n",
      " 2D)                                                                                              \n",
      "                                                                                                  \n",
      " block7_sepconv1_bn (BatchNorma  (None, 19, 19, 728)  2912       ['block7_sepconv1[0][0]']        \n",
      " lization)                                                                                        \n",
      "                                                                                                  \n",
      " block7_sepconv2_act (Activatio  (None, 19, 19, 728)  0          ['block7_sepconv1_bn[0][0]']     \n",
      " n)                                                                                               \n",
      "                                                                                                  \n",
      " block7_sepconv2 (SeparableConv  (None, 19, 19, 728)  536536     ['block7_sepconv2_act[0][0]']    \n",
      " 2D)                                                                                              \n",
      "                                                                                                  \n",
      " block7_sepconv2_bn (BatchNorma  (None, 19, 19, 728)  2912       ['block7_sepconv2[0][0]']        \n",
      " lization)                                                                                        \n",
      "                                                                                                  \n",
      " block7_sepconv3_act (Activatio  (None, 19, 19, 728)  0          ['block7_sepconv2_bn[0][0]']     \n",
      " n)                                                                                               \n",
      "                                                                                                  \n",
      " block7_sepconv3 (SeparableConv  (None, 19, 19, 728)  536536     ['block7_sepconv3_act[0][0]']    \n",
      " 2D)                                                                                              \n",
      "                                                                                                  \n",
      " block7_sepconv3_bn (BatchNorma  (None, 19, 19, 728)  2912       ['block7_sepconv3[0][0]']        \n",
      " lization)                                                                                        \n",
      "                                                                                                  \n",
      " add_17 (Add)                   (None, 19, 19, 728)  0           ['block7_sepconv3_bn[0][0]',     \n",
      "                                                                  'add_16[0][0]']                 \n",
      "                                                                                                  \n",
      " block8_sepconv1_act (Activatio  (None, 19, 19, 728)  0          ['add_17[0][0]']                 \n",
      " n)                                                                                               \n",
      "                                                                                                  \n",
      " block8_sepconv1 (SeparableConv  (None, 19, 19, 728)  536536     ['block8_sepconv1_act[0][0]']    \n",
      " 2D)                                                                                              \n",
      "                                                                                                  \n",
      " block8_sepconv1_bn (BatchNorma  (None, 19, 19, 728)  2912       ['block8_sepconv1[0][0]']        \n",
      " lization)                                                                                        \n",
      "                                                                                                  \n",
      " block8_sepconv2_act (Activatio  (None, 19, 19, 728)  0          ['block8_sepconv1_bn[0][0]']     \n",
      " n)                                                                                               \n",
      "                                                                                                  \n",
      " block8_sepconv2 (SeparableConv  (None, 19, 19, 728)  536536     ['block8_sepconv2_act[0][0]']    \n",
      " 2D)                                                                                              \n",
      "                                                                                                  \n",
      " block8_sepconv2_bn (BatchNorma  (None, 19, 19, 728)  2912       ['block8_sepconv2[0][0]']        \n",
      " lization)                                                                                        \n",
      "                                                                                                  \n",
      " block8_sepconv3_act (Activatio  (None, 19, 19, 728)  0          ['block8_sepconv2_bn[0][0]']     \n",
      " n)                                                                                               \n",
      "                                                                                                  \n",
      " block8_sepconv3 (SeparableConv  (None, 19, 19, 728)  536536     ['block8_sepconv3_act[0][0]']    \n",
      " 2D)                                                                                              \n",
      "                                                                                                  \n",
      " block8_sepconv3_bn (BatchNorma  (None, 19, 19, 728)  2912       ['block8_sepconv3[0][0]']        \n",
      " lization)                                                                                        \n",
      "                                                                                                  \n",
      " add_18 (Add)                   (None, 19, 19, 728)  0           ['block8_sepconv3_bn[0][0]',     \n",
      "                                                                  'add_17[0][0]']                 \n",
      "                                                                                                  \n",
      " block9_sepconv1_act (Activatio  (None, 19, 19, 728)  0          ['add_18[0][0]']                 \n",
      " n)                                                                                               \n",
      "                                                                                                  \n",
      " block9_sepconv1 (SeparableConv  (None, 19, 19, 728)  536536     ['block9_sepconv1_act[0][0]']    \n",
      " 2D)                                                                                              \n",
      "                                                                                                  \n",
      " block9_sepconv1_bn (BatchNorma  (None, 19, 19, 728)  2912       ['block9_sepconv1[0][0]']        \n",
      " lization)                                                                                        \n",
      "                                                                                                  \n",
      " block9_sepconv2_act (Activatio  (None, 19, 19, 728)  0          ['block9_sepconv1_bn[0][0]']     \n",
      " n)                                                                                               \n",
      "                                                                                                  \n",
      " block9_sepconv2 (SeparableConv  (None, 19, 19, 728)  536536     ['block9_sepconv2_act[0][0]']    \n",
      " 2D)                                                                                              \n",
      "                                                                                                  \n",
      " block9_sepconv2_bn (BatchNorma  (None, 19, 19, 728)  2912       ['block9_sepconv2[0][0]']        \n",
      " lization)                                                                                        \n",
      "                                                                                                  \n",
      " block9_sepconv3_act (Activatio  (None, 19, 19, 728)  0          ['block9_sepconv2_bn[0][0]']     \n",
      " n)                                                                                               \n",
      "                                                                                                  \n",
      " block9_sepconv3 (SeparableConv  (None, 19, 19, 728)  536536     ['block9_sepconv3_act[0][0]']    \n",
      " 2D)                                                                                              \n",
      "                                                                                                  \n"
     ]
    },
    {
     "name": "stdout",
     "output_type": "stream",
     "text": [
      " block9_sepconv3_bn (BatchNorma  (None, 19, 19, 728)  2912       ['block9_sepconv3[0][0]']        \n",
      " lization)                                                                                        \n",
      "                                                                                                  \n",
      " add_19 (Add)                   (None, 19, 19, 728)  0           ['block9_sepconv3_bn[0][0]',     \n",
      "                                                                  'add_18[0][0]']                 \n",
      "                                                                                                  \n",
      " block10_sepconv1_act (Activati  (None, 19, 19, 728)  0          ['add_19[0][0]']                 \n",
      " on)                                                                                              \n",
      "                                                                                                  \n",
      " block10_sepconv1 (SeparableCon  (None, 19, 19, 728)  536536     ['block10_sepconv1_act[0][0]']   \n",
      " v2D)                                                                                             \n",
      "                                                                                                  \n",
      " block10_sepconv1_bn (BatchNorm  (None, 19, 19, 728)  2912       ['block10_sepconv1[0][0]']       \n",
      " alization)                                                                                       \n",
      "                                                                                                  \n",
      " block10_sepconv2_act (Activati  (None, 19, 19, 728)  0          ['block10_sepconv1_bn[0][0]']    \n",
      " on)                                                                                              \n",
      "                                                                                                  \n",
      " block10_sepconv2 (SeparableCon  (None, 19, 19, 728)  536536     ['block10_sepconv2_act[0][0]']   \n",
      " v2D)                                                                                             \n",
      "                                                                                                  \n",
      " block10_sepconv2_bn (BatchNorm  (None, 19, 19, 728)  2912       ['block10_sepconv2[0][0]']       \n",
      " alization)                                                                                       \n",
      "                                                                                                  \n",
      " block10_sepconv3_act (Activati  (None, 19, 19, 728)  0          ['block10_sepconv2_bn[0][0]']    \n",
      " on)                                                                                              \n",
      "                                                                                                  \n",
      " block10_sepconv3 (SeparableCon  (None, 19, 19, 728)  536536     ['block10_sepconv3_act[0][0]']   \n",
      " v2D)                                                                                             \n",
      "                                                                                                  \n",
      " block10_sepconv3_bn (BatchNorm  (None, 19, 19, 728)  2912       ['block10_sepconv3[0][0]']       \n",
      " alization)                                                                                       \n",
      "                                                                                                  \n",
      " add_20 (Add)                   (None, 19, 19, 728)  0           ['block10_sepconv3_bn[0][0]',    \n",
      "                                                                  'add_19[0][0]']                 \n",
      "                                                                                                  \n",
      " block11_sepconv1_act (Activati  (None, 19, 19, 728)  0          ['add_20[0][0]']                 \n",
      " on)                                                                                              \n",
      "                                                                                                  \n",
      " block11_sepconv1 (SeparableCon  (None, 19, 19, 728)  536536     ['block11_sepconv1_act[0][0]']   \n",
      " v2D)                                                                                             \n",
      "                                                                                                  \n",
      " block11_sepconv1_bn (BatchNorm  (None, 19, 19, 728)  2912       ['block11_sepconv1[0][0]']       \n",
      " alization)                                                                                       \n",
      "                                                                                                  \n",
      " block11_sepconv2_act (Activati  (None, 19, 19, 728)  0          ['block11_sepconv1_bn[0][0]']    \n",
      " on)                                                                                              \n",
      "                                                                                                  \n",
      " block11_sepconv2 (SeparableCon  (None, 19, 19, 728)  536536     ['block11_sepconv2_act[0][0]']   \n",
      " v2D)                                                                                             \n",
      "                                                                                                  \n",
      " block11_sepconv2_bn (BatchNorm  (None, 19, 19, 728)  2912       ['block11_sepconv2[0][0]']       \n",
      " alization)                                                                                       \n",
      "                                                                                                  \n",
      " block11_sepconv3_act (Activati  (None, 19, 19, 728)  0          ['block11_sepconv2_bn[0][0]']    \n",
      " on)                                                                                              \n",
      "                                                                                                  \n",
      " block11_sepconv3 (SeparableCon  (None, 19, 19, 728)  536536     ['block11_sepconv3_act[0][0]']   \n",
      " v2D)                                                                                             \n",
      "                                                                                                  \n",
      " block11_sepconv3_bn (BatchNorm  (None, 19, 19, 728)  2912       ['block11_sepconv3[0][0]']       \n",
      " alization)                                                                                       \n",
      "                                                                                                  \n",
      " add_21 (Add)                   (None, 19, 19, 728)  0           ['block11_sepconv3_bn[0][0]',    \n",
      "                                                                  'add_20[0][0]']                 \n",
      "                                                                                                  \n",
      " block12_sepconv1_act (Activati  (None, 19, 19, 728)  0          ['add_21[0][0]']                 \n",
      " on)                                                                                              \n",
      "                                                                                                  \n",
      " block12_sepconv1 (SeparableCon  (None, 19, 19, 728)  536536     ['block12_sepconv1_act[0][0]']   \n",
      " v2D)                                                                                             \n",
      "                                                                                                  \n",
      " block12_sepconv1_bn (BatchNorm  (None, 19, 19, 728)  2912       ['block12_sepconv1[0][0]']       \n",
      " alization)                                                                                       \n",
      "                                                                                                  \n",
      " block12_sepconv2_act (Activati  (None, 19, 19, 728)  0          ['block12_sepconv1_bn[0][0]']    \n",
      " on)                                                                                              \n",
      "                                                                                                  \n",
      " block12_sepconv2 (SeparableCon  (None, 19, 19, 728)  536536     ['block12_sepconv2_act[0][0]']   \n",
      " v2D)                                                                                             \n",
      "                                                                                                  \n",
      " block12_sepconv2_bn (BatchNorm  (None, 19, 19, 728)  2912       ['block12_sepconv2[0][0]']       \n",
      " alization)                                                                                       \n"
     ]
    },
    {
     "name": "stdout",
     "output_type": "stream",
     "text": [
      "                                                                                                  \n",
      " block12_sepconv3_act (Activati  (None, 19, 19, 728)  0          ['block12_sepconv2_bn[0][0]']    \n",
      " on)                                                                                              \n",
      "                                                                                                  \n",
      " block12_sepconv3 (SeparableCon  (None, 19, 19, 728)  536536     ['block12_sepconv3_act[0][0]']   \n",
      " v2D)                                                                                             \n",
      "                                                                                                  \n",
      " block12_sepconv3_bn (BatchNorm  (None, 19, 19, 728)  2912       ['block12_sepconv3[0][0]']       \n",
      " alization)                                                                                       \n",
      "                                                                                                  \n",
      " add_22 (Add)                   (None, 19, 19, 728)  0           ['block12_sepconv3_bn[0][0]',    \n",
      "                                                                  'add_21[0][0]']                 \n",
      "                                                                                                  \n",
      " block13_sepconv1_act (Activati  (None, 19, 19, 728)  0          ['add_22[0][0]']                 \n",
      " on)                                                                                              \n",
      "                                                                                                  \n",
      " block13_sepconv1 (SeparableCon  (None, 19, 19, 728)  536536     ['block13_sepconv1_act[0][0]']   \n",
      " v2D)                                                                                             \n",
      "                                                                                                  \n",
      " block13_sepconv1_bn (BatchNorm  (None, 19, 19, 728)  2912       ['block13_sepconv1[0][0]']       \n",
      " alization)                                                                                       \n",
      "                                                                                                  \n",
      " block13_sepconv2_act (Activati  (None, 19, 19, 728)  0          ['block13_sepconv1_bn[0][0]']    \n",
      " on)                                                                                              \n",
      "                                                                                                  \n",
      " block13_sepconv2 (SeparableCon  (None, 19, 19, 1024  752024     ['block13_sepconv2_act[0][0]']   \n",
      " v2D)                           )                                                                 \n",
      "                                                                                                  \n",
      " block13_sepconv2_bn (BatchNorm  (None, 19, 19, 1024  4096       ['block13_sepconv2[0][0]']       \n",
      " alization)                     )                                                                 \n",
      "                                                                                                  \n",
      " conv2d_7 (Conv2D)              (None, 10, 10, 1024  745472      ['add_22[0][0]']                 \n",
      "                                )                                                                 \n",
      "                                                                                                  \n",
      " block13_pool (MaxPooling2D)    (None, 10, 10, 1024  0           ['block13_sepconv2_bn[0][0]']    \n",
      "                                )                                                                 \n",
      "                                                                                                  \n",
      " batch_normalization_7 (BatchNo  (None, 10, 10, 1024  4096       ['conv2d_7[0][0]']               \n",
      " rmalization)                   )                                                                 \n",
      "                                                                                                  \n",
      " add_23 (Add)                   (None, 10, 10, 1024  0           ['block13_pool[0][0]',           \n",
      "                                )                                 'batch_normalization_7[0][0]']  \n",
      "                                                                                                  \n",
      " block14_sepconv1 (SeparableCon  (None, 10, 10, 1536  1582080    ['add_23[0][0]']                 \n",
      " v2D)                           )                                                                 \n",
      "                                                                                                  \n",
      " block14_sepconv1_bn (BatchNorm  (None, 10, 10, 1536  6144       ['block14_sepconv1[0][0]']       \n",
      " alization)                     )                                                                 \n",
      "                                                                                                  \n",
      " block14_sepconv1_act (Activati  (None, 10, 10, 1536  0          ['block14_sepconv1_bn[0][0]']    \n",
      " on)                            )                                                                 \n",
      "                                                                                                  \n",
      " block14_sepconv2 (SeparableCon  (None, 10, 10, 2048  3159552    ['block14_sepconv1_act[0][0]']   \n",
      " v2D)                           )                                                                 \n",
      "                                                                                                  \n",
      " block14_sepconv2_bn (BatchNorm  (None, 10, 10, 2048  8192       ['block14_sepconv2[0][0]']       \n",
      " alization)                     )                                                                 \n",
      "                                                                                                  \n",
      " block14_sepconv2_act (Activati  (None, 10, 10, 2048  0          ['block14_sepconv2_bn[0][0]']    \n",
      " on)                            )                                                                 \n",
      "                                                                                                  \n",
      " soft_attention (SoftAttention)  [(None, 10, 10, 204  294928     ['block14_sepconv2_act[0][0]']   \n",
      "                                8),                                                               \n",
      "                                 (None, 16, 10, 10)                                               \n",
      "                                ]                                                                 \n",
      "                                                                                                  \n",
      " max_pooling2d_1 (MaxPooling2D)  (None, 5, 5, 2048)  0           ['block14_sepconv2_act[0][0]']   \n",
      "                                                                                                  \n",
      " max_pooling2d (MaxPooling2D)   (None, 5, 5, 2048)   0           ['soft_attention[0][0]']         \n",
      "                                                                                                  \n",
      " sex (InputLayer)               [(None, 1)]          0           []                               \n",
      "                                                                                                  \n",
      " localization (InputLayer)      [(None, 1)]          0           []                               \n",
      "                                                                                                  \n",
      " concatenate_1 (Concatenate)    (None, 5, 5, 4096)   0           ['max_pooling2d_1[0][0]',        \n",
      "                                                                  'max_pooling2d[0][0]']          \n",
      "                                                                                                  \n",
      " age (InputLayer)               [(None, 1)]          0           []                               \n",
      "                                                                                                  \n",
      " string_lookup (StringLookup)   (None, 1)            0           ['sex[0][0]']                    \n",
      "                                                                                                  \n",
      " string_lookup_1 (StringLookup)  (None, 1)           0           ['localization[0][0]']           \n",
      "                                                                                                  \n"
     ]
    },
    {
     "name": "stdout",
     "output_type": "stream",
     "text": [
      " activation (Activation)        (None, 5, 5, 4096)   0           ['concatenate_1[0][0]']          \n",
      "                                                                                                  \n",
      " normalization (Normalization)  (None, 1)            3           ['age[0][0]']                    \n",
      "                                                                                                  \n",
      " category_encoding (CategoryEnc  (None, 4)           0           ['string_lookup[0][0]']          \n",
      " oding)                                                                                           \n",
      "                                                                                                  \n",
      " category_encoding_1 (CategoryE  (None, 16)          0           ['string_lookup_1[0][0]']        \n",
      " ncoding)                                                                                         \n",
      "                                                                                                  \n",
      " dropout (Dropout)              (None, 5, 5, 4096)   0           ['activation[0][0]']             \n",
      "                                                                                                  \n",
      " concatenate (Concatenate)      (None, 21)           0           ['normalization[0][0]',          \n",
      "                                                                  'category_encoding[0][0]',      \n",
      "                                                                  'category_encoding_1[0][0]']    \n",
      "                                                                                                  \n",
      " flatten (Flatten)              (None, 102400)       0           ['dropout[0][0]']                \n",
      "                                                                                                  \n",
      " dense (Dense)                  (None, 4096)         90112       ['concatenate[0][0]']            \n",
      "                                                                                                  \n",
      " concatenate_2 (Concatenate)    (None, 106496)       0           ['flatten[0][0]',                \n",
      "                                                                  'dense[0][0]']                  \n",
      "                                                                                                  \n",
      " dense_1 (Dense)                (None, 7)            745479      ['concatenate_2[0][0]']          \n",
      "                                                                                                  \n",
      "==================================================================================================\n",
      "Total params: 21,992,002\n",
      "Trainable params: 21,937,471\n",
      "Non-trainable params: 54,531\n",
      "__________________________________________________________________________________________________\n"
     ]
    }
   ],
   "source": [
    "model.summary()"
   ]
  },
  {
   "cell_type": "markdown",
   "id": "bef8389e",
   "metadata": {},
   "source": [
    "## Training"
   ]
  },
  {
   "cell_type": "code",
   "execution_count": 28,
   "id": "a44b02e4",
   "metadata": {},
   "outputs": [],
   "source": [
    "feature_dict = {'age' : np.array(train_ages),\n",
    "                'sex' : np.array(train_sexes),\n",
    "                'local' : np.array(train_localizations),\n",
    "                'image' : np.array(train_img_lst)}"
   ]
  },
  {
   "cell_type": "code",
   "execution_count": 29,
   "id": "bb3b7f9b",
   "metadata": {},
   "outputs": [],
   "source": [
    "val_dict = {'age' : np.array(val_ages),\n",
    "                'sex' : np.array(val_sexes),\n",
    "                'local' : np.array(val_localizations),\n",
    "                'image' : np.array(val_img_lst)}"
   ]
  },
  {
   "cell_type": "code",
   "execution_count": 30,
   "id": "333d8ed4",
   "metadata": {},
   "outputs": [],
   "source": [
    "class_weights = { \n",
    "                    0: 4.37,  # akiec\n",
    "                    1: 2.78,  # bcc\n",
    "                    2: 1.3,  # bkl\n",
    "                    3: 12.44,  # df\n",
    "                    4: 1.28,  # mel\n",
    "                    5: 0.21,  # nv\n",
    "                    6: 10,  # vasc\n",
    "                }\n",
    "\n",
    "\n",
    "checkpoint=  ModelCheckpoint(filepath = model_path,monitor='val_accuracy',save_best_only=True,save_weights_only=True)"
   ]
  },
  {
   "cell_type": "code",
   "execution_count": 31,
   "id": "d8c90847",
   "metadata": {},
   "outputs": [],
   "source": [
    "opt1=tf.keras.optimizers.Adam(learning_rate=0.001,epsilon=0.1)\n",
    "model.compile(optimizer=opt1,\n",
    "             loss='categorical_crossentropy',\n",
    "             metrics=['accuracy'])"
   ]
  },
  {
   "cell_type": "code",
   "execution_count": 32,
   "id": "875463a9",
   "metadata": {},
   "outputs": [],
   "source": [
    "reduce_lr = ReduceLROnPlateau(monitor='val_loss', factor=0.2,\n",
    "                              verbose = 1, mode = 'min',\n",
    "                              patience=5, min_lr=0.0000001)"
   ]
  },
  {
   "cell_type": "code",
   "execution_count": 33,
   "id": "384e5afc",
   "metadata": {},
   "outputs": [
    {
     "name": "stdout",
     "output_type": "stream",
     "text": [
      "Epoch 1/500\n"
     ]
    },
    {
     "ename": "ResourceExhaustedError",
     "evalue": "Graph execution error:\n\nDetected at node 'model/batch_normalization_4/FusedBatchNormV3' defined at (most recent call last):\n    File \"C:\\Users\\AI-INNOVATOR\\AppData\\Local\\Programs\\Python\\Python39\\lib\\runpy.py\", line 197, in _run_module_as_main\n      return _run_code(code, main_globals, None,\n    File \"C:\\Users\\AI-INNOVATOR\\AppData\\Local\\Programs\\Python\\Python39\\lib\\runpy.py\", line 87, in _run_code\n      exec(code, run_globals)\n    File \"d:\\env\\tf270\\lib\\site-packages\\ipykernel_launcher.py\", line 16, in <module>\n      app.launch_new_instance()\n    File \"d:\\env\\tf270\\lib\\site-packages\\traitlets\\config\\application.py\", line 846, in launch_instance\n      app.start()\n    File \"d:\\env\\tf270\\lib\\site-packages\\ipykernel\\kernelapp.py\", line 677, in start\n      self.io_loop.start()\n    File \"d:\\env\\tf270\\lib\\site-packages\\tornado\\platform\\asyncio.py\", line 199, in start\n      self.asyncio_loop.run_forever()\n    File \"C:\\Users\\AI-INNOVATOR\\AppData\\Local\\Programs\\Python\\Python39\\lib\\asyncio\\base_events.py\", line 596, in run_forever\n      self._run_once()\n    File \"C:\\Users\\AI-INNOVATOR\\AppData\\Local\\Programs\\Python\\Python39\\lib\\asyncio\\base_events.py\", line 1890, in _run_once\n      handle._run()\n    File \"C:\\Users\\AI-INNOVATOR\\AppData\\Local\\Programs\\Python\\Python39\\lib\\asyncio\\events.py\", line 80, in _run\n      self._context.run(self._callback, *self._args)\n    File \"d:\\env\\tf270\\lib\\site-packages\\ipykernel\\kernelbase.py\", line 461, in dispatch_queue\n      await self.process_one()\n    File \"d:\\env\\tf270\\lib\\site-packages\\ipykernel\\kernelbase.py\", line 450, in process_one\n      await dispatch(*args)\n    File \"d:\\env\\tf270\\lib\\site-packages\\ipykernel\\kernelbase.py\", line 357, in dispatch_shell\n      await result\n    File \"d:\\env\\tf270\\lib\\site-packages\\ipykernel\\kernelbase.py\", line 652, in execute_request\n      reply_content = await reply_content\n    File \"d:\\env\\tf270\\lib\\site-packages\\ipykernel\\ipkernel.py\", line 353, in do_execute\n      res = shell.run_cell(code, store_history=store_history, silent=silent)\n    File \"d:\\env\\tf270\\lib\\site-packages\\ipykernel\\zmqshell.py\", line 532, in run_cell\n      return super().run_cell(*args, **kwargs)\n    File \"d:\\env\\tf270\\lib\\site-packages\\IPython\\core\\interactiveshell.py\", line 2768, in run_cell\n      result = self._run_cell(\n    File \"d:\\env\\tf270\\lib\\site-packages\\IPython\\core\\interactiveshell.py\", line 2814, in _run_cell\n      return runner(coro)\n    File \"d:\\env\\tf270\\lib\\site-packages\\IPython\\core\\async_helpers.py\", line 129, in _pseudo_sync_runner\n      coro.send(None)\n    File \"d:\\env\\tf270\\lib\\site-packages\\IPython\\core\\interactiveshell.py\", line 3012, in run_cell_async\n      has_raised = await self.run_ast_nodes(code_ast.body, cell_name,\n    File \"d:\\env\\tf270\\lib\\site-packages\\IPython\\core\\interactiveshell.py\", line 3191, in run_ast_nodes\n      if await self.run_code(code, result, async_=asy):\n    File \"d:\\env\\tf270\\lib\\site-packages\\IPython\\core\\interactiveshell.py\", line 3251, in run_code\n      exec(code_obj, self.user_global_ns, self.user_ns)\n    File \"C:\\Users\\AI-INNOVATOR\\AppData\\Local\\Temp\\ipykernel_10300\\1447197397.py\", line 6, in <module>\n      history = model.fit(feature_dict, labels,\n    File \"d:\\env\\tf270\\lib\\site-packages\\keras\\utils\\traceback_utils.py\", line 64, in error_handler\n      return fn(*args, **kwargs)\n    File \"d:\\env\\tf270\\lib\\site-packages\\keras\\engine\\training.py\", line 1384, in fit\n      tmp_logs = self.train_function(iterator)\n    File \"d:\\env\\tf270\\lib\\site-packages\\keras\\engine\\training.py\", line 1021, in train_function\n      return step_function(self, iterator)\n    File \"d:\\env\\tf270\\lib\\site-packages\\keras\\engine\\training.py\", line 1010, in step_function\n      outputs = model.distribute_strategy.run(run_step, args=(data,))\n    File \"d:\\env\\tf270\\lib\\site-packages\\keras\\engine\\training.py\", line 1000, in run_step\n      outputs = model.train_step(data)\n    File \"d:\\env\\tf270\\lib\\site-packages\\keras\\engine\\training.py\", line 859, in train_step\n      y_pred = self(x, training=True)\n    File \"d:\\env\\tf270\\lib\\site-packages\\keras\\utils\\traceback_utils.py\", line 64, in error_handler\n      return fn(*args, **kwargs)\n    File \"d:\\env\\tf270\\lib\\site-packages\\keras\\engine\\base_layer.py\", line 1096, in __call__\n      outputs = call_fn(inputs, *args, **kwargs)\n    File \"d:\\env\\tf270\\lib\\site-packages\\keras\\utils\\traceback_utils.py\", line 92, in error_handler\n      return fn(*args, **kwargs)\n    File \"d:\\env\\tf270\\lib\\site-packages\\keras\\engine\\functional.py\", line 451, in call\n      return self._run_internal_graph(\n    File \"d:\\env\\tf270\\lib\\site-packages\\keras\\engine\\functional.py\", line 589, in _run_internal_graph\n      outputs = node.layer(*args, **kwargs)\n    File \"d:\\env\\tf270\\lib\\site-packages\\keras\\utils\\traceback_utils.py\", line 64, in error_handler\n      return fn(*args, **kwargs)\n    File \"d:\\env\\tf270\\lib\\site-packages\\keras\\engine\\base_layer.py\", line 1096, in __call__\n      outputs = call_fn(inputs, *args, **kwargs)\n    File \"d:\\env\\tf270\\lib\\site-packages\\keras\\utils\\traceback_utils.py\", line 92, in error_handler\n      return fn(*args, **kwargs)\n    File \"d:\\env\\tf270\\lib\\site-packages\\keras\\layers\\normalization\\batch_normalization.py\", line 767, in call\n      outputs = self._fused_batch_norm(inputs, training=training)\n    File \"d:\\env\\tf270\\lib\\site-packages\\keras\\layers\\normalization\\batch_normalization.py\", line 623, in _fused_batch_norm\n      output, mean, variance = control_flow_util.smart_cond(\n    File \"d:\\env\\tf270\\lib\\site-packages\\keras\\utils\\control_flow_util.py\", line 105, in smart_cond\n      return tf.__internal__.smart_cond.smart_cond(\n    File \"d:\\env\\tf270\\lib\\site-packages\\keras\\layers\\normalization\\batch_normalization.py\", line 589, in _fused_batch_norm_training\n      return tf.compat.v1.nn.fused_batch_norm(\nNode: 'model/batch_normalization_4/FusedBatchNormV3'\nOOM when allocating tensor with shape[10,128,74,74] and type float on /job:localhost/replica:0/task:0/device:GPU:0 by allocator GPU_0_bfc\n\t [[{{node model/batch_normalization_4/FusedBatchNormV3}}]]\nHint: If you want to see a list of allocated tensors when OOM happens, add report_tensor_allocations_upon_oom to RunOptions for current allocation info. This isn't available when running in Eager mode.\n [Op:__inference_train_function_453082]",
     "output_type": "error",
     "traceback": [
      "\u001b[1;31m---------------------------------------------------------------------------\u001b[0m",
      "\u001b[1;31mResourceExhaustedError\u001b[0m                    Traceback (most recent call last)",
      "Input \u001b[1;32mIn [33]\u001b[0m, in \u001b[0;36m<module>\u001b[1;34m\u001b[0m\n\u001b[0;32m      3\u001b[0m Earlystop \u001b[38;5;241m=\u001b[39m EarlyStopping(monitor\u001b[38;5;241m=\u001b[39m\u001b[38;5;124m'\u001b[39m\u001b[38;5;124mval_loss\u001b[39m\u001b[38;5;124m'\u001b[39m, mode\u001b[38;5;241m=\u001b[39m\u001b[38;5;124m'\u001b[39m\u001b[38;5;124mmin\u001b[39m\u001b[38;5;124m'\u001b[39m,patience\u001b[38;5;241m=\u001b[39m\u001b[38;5;241m35\u001b[39m, min_delta\u001b[38;5;241m=\u001b[39m\u001b[38;5;241m0.001\u001b[39m)\n\u001b[0;32m      5\u001b[0m \u001b[38;5;28;01mwith\u001b[39;00m tf\u001b[38;5;241m.\u001b[39mdevice(\u001b[38;5;124m'\u001b[39m\u001b[38;5;124m/GPU:0\u001b[39m\u001b[38;5;124m'\u001b[39m):\n\u001b[1;32m----> 6\u001b[0m     history \u001b[38;5;241m=\u001b[39m \u001b[43mmodel\u001b[49m\u001b[38;5;241;43m.\u001b[39;49m\u001b[43mfit\u001b[49m\u001b[43m(\u001b[49m\u001b[43mfeature_dict\u001b[49m\u001b[43m,\u001b[49m\u001b[43m \u001b[49m\u001b[43mlabels\u001b[49m\u001b[43m,\u001b[49m\n\u001b[0;32m      7\u001b[0m \u001b[43m                        \u001b[49m\u001b[43msteps_per_epoch\u001b[49m\u001b[38;5;241;43m=\u001b[39;49m\u001b[43m(\u001b[49m\u001b[38;5;28;43mlen\u001b[39;49m\u001b[43m(\u001b[49m\u001b[43mtrain_df\u001b[49m\u001b[43m)\u001b[49m\u001b[38;5;241;43m/\u001b[39;49m\u001b[38;5;241;43m10\u001b[39;49m\u001b[43m)\u001b[49m\u001b[43m,\u001b[49m\n\u001b[0;32m      8\u001b[0m \u001b[43m                        \u001b[49m\u001b[43mepochs\u001b[49m\u001b[38;5;241;43m=\u001b[39;49m\u001b[38;5;241;43m500\u001b[39;49m\u001b[43m,\u001b[49m\n\u001b[0;32m      9\u001b[0m \u001b[43m                        \u001b[49m\u001b[43mvalidation_data\u001b[49m\u001b[38;5;241;43m=\u001b[39;49m\u001b[43m(\u001b[49m\u001b[43mval_dict\u001b[49m\u001b[43m,\u001b[49m\u001b[43m \u001b[49m\u001b[43mval_labels\u001b[49m\u001b[43m)\u001b[49m\u001b[43m,\u001b[49m\u001b[43m \u001b[49m\n\u001b[0;32m     10\u001b[0m \u001b[43m                        \u001b[49m\u001b[43mvalidation_steps\u001b[49m\u001b[38;5;241;43m=\u001b[39;49m\u001b[38;5;28;43mlen\u001b[39;49m\u001b[43m(\u001b[49m\u001b[43mval_df\u001b[49m\u001b[43m)\u001b[49m\u001b[38;5;241;43m/\u001b[39;49m\u001b[43mbatch_size\u001b[49m\u001b[43m,\u001b[49m\n\u001b[0;32m     11\u001b[0m \u001b[43m                        \u001b[49m\u001b[43mcallbacks\u001b[49m\u001b[38;5;241;43m=\u001b[39;49m\u001b[43m[\u001b[49m\u001b[43mcheckpoint\u001b[49m\u001b[43m,\u001b[49m\u001b[43m \u001b[49m\u001b[43mEarlystop\u001b[49m\u001b[43m,\u001b[49m\u001b[43m \u001b[49m\u001b[43mreduce_lr\u001b[49m\u001b[43m]\u001b[49m\u001b[43m,\u001b[49m\n\u001b[0;32m     12\u001b[0m \u001b[43m                        \u001b[49m\u001b[43mclass_weight\u001b[49m\u001b[38;5;241;43m=\u001b[39;49m\u001b[43mclass_weights\u001b[49m\u001b[43m)\u001b[49m\n",
      "File \u001b[1;32md:\\env\\tf270\\lib\\site-packages\\keras\\utils\\traceback_utils.py:67\u001b[0m, in \u001b[0;36mfilter_traceback.<locals>.error_handler\u001b[1;34m(*args, **kwargs)\u001b[0m\n\u001b[0;32m     65\u001b[0m \u001b[38;5;28;01mexcept\u001b[39;00m \u001b[38;5;167;01mException\u001b[39;00m \u001b[38;5;28;01mas\u001b[39;00m e:  \u001b[38;5;66;03m# pylint: disable=broad-except\u001b[39;00m\n\u001b[0;32m     66\u001b[0m   filtered_tb \u001b[38;5;241m=\u001b[39m _process_traceback_frames(e\u001b[38;5;241m.\u001b[39m__traceback__)\n\u001b[1;32m---> 67\u001b[0m   \u001b[38;5;28;01mraise\u001b[39;00m e\u001b[38;5;241m.\u001b[39mwith_traceback(filtered_tb) \u001b[38;5;28;01mfrom\u001b[39;00m \u001b[38;5;28mNone\u001b[39m\n\u001b[0;32m     68\u001b[0m \u001b[38;5;28;01mfinally\u001b[39;00m:\n\u001b[0;32m     69\u001b[0m   \u001b[38;5;28;01mdel\u001b[39;00m filtered_tb\n",
      "File \u001b[1;32md:\\env\\tf270\\lib\\site-packages\\tensorflow\\python\\eager\\execute.py:54\u001b[0m, in \u001b[0;36mquick_execute\u001b[1;34m(op_name, num_outputs, inputs, attrs, ctx, name)\u001b[0m\n\u001b[0;32m     52\u001b[0m \u001b[38;5;28;01mtry\u001b[39;00m:\n\u001b[0;32m     53\u001b[0m   ctx\u001b[38;5;241m.\u001b[39mensure_initialized()\n\u001b[1;32m---> 54\u001b[0m   tensors \u001b[38;5;241m=\u001b[39m pywrap_tfe\u001b[38;5;241m.\u001b[39mTFE_Py_Execute(ctx\u001b[38;5;241m.\u001b[39m_handle, device_name, op_name,\n\u001b[0;32m     55\u001b[0m                                       inputs, attrs, num_outputs)\n\u001b[0;32m     56\u001b[0m \u001b[38;5;28;01mexcept\u001b[39;00m core\u001b[38;5;241m.\u001b[39m_NotOkStatusException \u001b[38;5;28;01mas\u001b[39;00m e:\n\u001b[0;32m     57\u001b[0m   \u001b[38;5;28;01mif\u001b[39;00m name \u001b[38;5;129;01mis\u001b[39;00m \u001b[38;5;129;01mnot\u001b[39;00m \u001b[38;5;28;01mNone\u001b[39;00m:\n",
      "\u001b[1;31mResourceExhaustedError\u001b[0m: Graph execution error:\n\nDetected at node 'model/batch_normalization_4/FusedBatchNormV3' defined at (most recent call last):\n    File \"C:\\Users\\AI-INNOVATOR\\AppData\\Local\\Programs\\Python\\Python39\\lib\\runpy.py\", line 197, in _run_module_as_main\n      return _run_code(code, main_globals, None,\n    File \"C:\\Users\\AI-INNOVATOR\\AppData\\Local\\Programs\\Python\\Python39\\lib\\runpy.py\", line 87, in _run_code\n      exec(code, run_globals)\n    File \"d:\\env\\tf270\\lib\\site-packages\\ipykernel_launcher.py\", line 16, in <module>\n      app.launch_new_instance()\n    File \"d:\\env\\tf270\\lib\\site-packages\\traitlets\\config\\application.py\", line 846, in launch_instance\n      app.start()\n    File \"d:\\env\\tf270\\lib\\site-packages\\ipykernel\\kernelapp.py\", line 677, in start\n      self.io_loop.start()\n    File \"d:\\env\\tf270\\lib\\site-packages\\tornado\\platform\\asyncio.py\", line 199, in start\n      self.asyncio_loop.run_forever()\n    File \"C:\\Users\\AI-INNOVATOR\\AppData\\Local\\Programs\\Python\\Python39\\lib\\asyncio\\base_events.py\", line 596, in run_forever\n      self._run_once()\n    File \"C:\\Users\\AI-INNOVATOR\\AppData\\Local\\Programs\\Python\\Python39\\lib\\asyncio\\base_events.py\", line 1890, in _run_once\n      handle._run()\n    File \"C:\\Users\\AI-INNOVATOR\\AppData\\Local\\Programs\\Python\\Python39\\lib\\asyncio\\events.py\", line 80, in _run\n      self._context.run(self._callback, *self._args)\n    File \"d:\\env\\tf270\\lib\\site-packages\\ipykernel\\kernelbase.py\", line 461, in dispatch_queue\n      await self.process_one()\n    File \"d:\\env\\tf270\\lib\\site-packages\\ipykernel\\kernelbase.py\", line 450, in process_one\n      await dispatch(*args)\n    File \"d:\\env\\tf270\\lib\\site-packages\\ipykernel\\kernelbase.py\", line 357, in dispatch_shell\n      await result\n    File \"d:\\env\\tf270\\lib\\site-packages\\ipykernel\\kernelbase.py\", line 652, in execute_request\n      reply_content = await reply_content\n    File \"d:\\env\\tf270\\lib\\site-packages\\ipykernel\\ipkernel.py\", line 353, in do_execute\n      res = shell.run_cell(code, store_history=store_history, silent=silent)\n    File \"d:\\env\\tf270\\lib\\site-packages\\ipykernel\\zmqshell.py\", line 532, in run_cell\n      return super().run_cell(*args, **kwargs)\n    File \"d:\\env\\tf270\\lib\\site-packages\\IPython\\core\\interactiveshell.py\", line 2768, in run_cell\n      result = self._run_cell(\n    File \"d:\\env\\tf270\\lib\\site-packages\\IPython\\core\\interactiveshell.py\", line 2814, in _run_cell\n      return runner(coro)\n    File \"d:\\env\\tf270\\lib\\site-packages\\IPython\\core\\async_helpers.py\", line 129, in _pseudo_sync_runner\n      coro.send(None)\n    File \"d:\\env\\tf270\\lib\\site-packages\\IPython\\core\\interactiveshell.py\", line 3012, in run_cell_async\n      has_raised = await self.run_ast_nodes(code_ast.body, cell_name,\n    File \"d:\\env\\tf270\\lib\\site-packages\\IPython\\core\\interactiveshell.py\", line 3191, in run_ast_nodes\n      if await self.run_code(code, result, async_=asy):\n    File \"d:\\env\\tf270\\lib\\site-packages\\IPython\\core\\interactiveshell.py\", line 3251, in run_code\n      exec(code_obj, self.user_global_ns, self.user_ns)\n    File \"C:\\Users\\AI-INNOVATOR\\AppData\\Local\\Temp\\ipykernel_10300\\1447197397.py\", line 6, in <module>\n      history = model.fit(feature_dict, labels,\n    File \"d:\\env\\tf270\\lib\\site-packages\\keras\\utils\\traceback_utils.py\", line 64, in error_handler\n      return fn(*args, **kwargs)\n    File \"d:\\env\\tf270\\lib\\site-packages\\keras\\engine\\training.py\", line 1384, in fit\n      tmp_logs = self.train_function(iterator)\n    File \"d:\\env\\tf270\\lib\\site-packages\\keras\\engine\\training.py\", line 1021, in train_function\n      return step_function(self, iterator)\n    File \"d:\\env\\tf270\\lib\\site-packages\\keras\\engine\\training.py\", line 1010, in step_function\n      outputs = model.distribute_strategy.run(run_step, args=(data,))\n    File \"d:\\env\\tf270\\lib\\site-packages\\keras\\engine\\training.py\", line 1000, in run_step\n      outputs = model.train_step(data)\n    File \"d:\\env\\tf270\\lib\\site-packages\\keras\\engine\\training.py\", line 859, in train_step\n      y_pred = self(x, training=True)\n    File \"d:\\env\\tf270\\lib\\site-packages\\keras\\utils\\traceback_utils.py\", line 64, in error_handler\n      return fn(*args, **kwargs)\n    File \"d:\\env\\tf270\\lib\\site-packages\\keras\\engine\\base_layer.py\", line 1096, in __call__\n      outputs = call_fn(inputs, *args, **kwargs)\n    File \"d:\\env\\tf270\\lib\\site-packages\\keras\\utils\\traceback_utils.py\", line 92, in error_handler\n      return fn(*args, **kwargs)\n    File \"d:\\env\\tf270\\lib\\site-packages\\keras\\engine\\functional.py\", line 451, in call\n      return self._run_internal_graph(\n    File \"d:\\env\\tf270\\lib\\site-packages\\keras\\engine\\functional.py\", line 589, in _run_internal_graph\n      outputs = node.layer(*args, **kwargs)\n    File \"d:\\env\\tf270\\lib\\site-packages\\keras\\utils\\traceback_utils.py\", line 64, in error_handler\n      return fn(*args, **kwargs)\n    File \"d:\\env\\tf270\\lib\\site-packages\\keras\\engine\\base_layer.py\", line 1096, in __call__\n      outputs = call_fn(inputs, *args, **kwargs)\n    File \"d:\\env\\tf270\\lib\\site-packages\\keras\\utils\\traceback_utils.py\", line 92, in error_handler\n      return fn(*args, **kwargs)\n    File \"d:\\env\\tf270\\lib\\site-packages\\keras\\layers\\normalization\\batch_normalization.py\", line 767, in call\n      outputs = self._fused_batch_norm(inputs, training=training)\n    File \"d:\\env\\tf270\\lib\\site-packages\\keras\\layers\\normalization\\batch_normalization.py\", line 623, in _fused_batch_norm\n      output, mean, variance = control_flow_util.smart_cond(\n    File \"d:\\env\\tf270\\lib\\site-packages\\keras\\utils\\control_flow_util.py\", line 105, in smart_cond\n      return tf.__internal__.smart_cond.smart_cond(\n    File \"d:\\env\\tf270\\lib\\site-packages\\keras\\layers\\normalization\\batch_normalization.py\", line 589, in _fused_batch_norm_training\n      return tf.compat.v1.nn.fused_batch_norm(\nNode: 'model/batch_normalization_4/FusedBatchNormV3'\nOOM when allocating tensor with shape[10,128,74,74] and type float on /job:localhost/replica:0/task:0/device:GPU:0 by allocator GPU_0_bfc\n\t [[{{node model/batch_normalization_4/FusedBatchNormV3}}]]\nHint: If you want to see a list of allocated tensors when OOM happens, add report_tensor_allocations_upon_oom to RunOptions for current allocation info. This isn't available when running in Eager mode.\n [Op:__inference_train_function_453082]"
     ]
    }
   ],
   "source": [
    "batch_size = 32 \n",
    "\n",
    "Earlystop = EarlyStopping(monitor='val_loss', mode='min',patience=35, min_delta=0.001)\n",
    "\n",
    "with tf.device('/GPU:0'):\n",
    "    history = model.fit(feature_dict, labels,\n",
    "                        steps_per_epoch=(len(train_df)/10),\n",
    "                        epochs=500,\n",
    "                        validation_data=(val_dict, val_labels), \n",
    "                        validation_steps=len(val_df)/batch_size,\n",
    "                        callbacks=[checkpoint, Earlystop, reduce_lr],\n",
    "                        class_weight=class_weights)"
   ]
  },
  {
   "cell_type": "code",
   "execution_count": null,
   "id": "6d459907",
   "metadata": {},
   "outputs": [],
   "source": [
    "plt.plot(history.history['accuracy'])\n",
    "plt.plot(history.history['val_accuracy'])\n",
    "plt.title('model accuracy')\n",
    "plt.ylabel('accuracy')\n",
    "plt.xlabel('epoch')\n",
    "plt.legend(['train', 'val'], loc='upper left')\n",
    "plt.show()"
   ]
  },
  {
   "cell_type": "code",
   "execution_count": null,
   "id": "d53254dd",
   "metadata": {},
   "outputs": [],
   "source": [
    "plt.plot(history.history['loss'])\n",
    "plt.plot(history.history['val_loss'])\n",
    "plt.title('model loss')\n",
    "plt.ylabel('loss')\n",
    "plt.xlabel('epoch')\n",
    "plt.legend(['train', 'val'], loc='upper left')\n",
    "plt.show()"
   ]
  },
  {
   "cell_type": "code",
   "execution_count": null,
   "id": "4d63c6ae",
   "metadata": {},
   "outputs": [],
   "source": [
    "from tensorflow.keras import models\n",
    "model.load_weights(model_path)"
   ]
  },
  {
   "cell_type": "code",
   "execution_count": null,
   "id": "6cda2363",
   "metadata": {},
   "outputs": [],
   "source": [
    "batch_size = 32 \n",
    "predictions = model.predict(val_dict, steps=len(val_df)/batch_size, verbose=0)"
   ]
  },
  {
   "cell_type": "markdown",
   "id": "3047abc8",
   "metadata": {},
   "source": [
    "# Classification report"
   ]
  },
  {
   "cell_type": "code",
   "execution_count": null,
   "id": "2c6dc6bd",
   "metadata": {},
   "outputs": [],
   "source": [
    "#geting predictions on test dataset\n",
    "y_pred = np.argmax(predictions, axis=1)\n",
    "targetnames = ['akiec', 'bcc', 'bkl', 'df', 'mel', 'nv', 'vasc']\n",
    "#getting the true labels per image \n",
    "y_true = np.argmax(val_labels, axis=1)\n",
    "#getting the predicted labels per image \n",
    "y_prob=predictions\n",
    "from tensorflow.keras.utils import to_categorical\n",
    "y_test = to_categorical(y_true)\n",
    "\n",
    "# Creating classification report \n",
    "report = classification_report(y_true, y_pred, target_names=targetnames)\n",
    "\n",
    "print(\"\\nClassification Report:\")\n",
    "print(report)"
   ]
  },
  {
   "cell_type": "markdown",
   "id": "bb53beb6",
   "metadata": {},
   "source": [
    "# Confusion Matrix Metrics"
   ]
  },
  {
   "cell_type": "code",
   "execution_count": null,
   "id": "a3c1617a",
   "metadata": {},
   "outputs": [],
   "source": [
    "from sklearn.metrics import multilabel_confusion_matrix\n",
    "multi_cm = multilabel_confusion_matrix(y_true, y_pred)\n",
    "#print(multi_cm)\n",
    "\n",
    "# TN     FP\n",
    "# FN     TP"
   ]
  },
  {
   "cell_type": "code",
   "execution_count": null,
   "id": "34e979cb",
   "metadata": {},
   "outputs": [],
   "source": [
    "def cm_compute(_cm, _index, _name):\n",
    "    print(\"Confusion Matrix of {}\".format(_name))\n",
    "    print(_cm[index])\n",
    "    TP = _cm[index][1][1]\n",
    "    FP = _cm[index][0][1]\n",
    "    FN = _cm[index][1][0]\n",
    "    TN = _cm[index][0][0]\n",
    "    print(\"True Positive of {0}: {1}\".format(_name, TP))\n",
    "    print(\"False Positive of {0}: {1}\".format(_name, FP))\n",
    "    print(\"False Negative of {0}: {1}\".format(_name, FN))\n",
    "    print(\"True Negative of {0}: {1}\".format(_name, TN))\n",
    "    sensitivity = TP/(TP + FN)\n",
    "    specificity = TN/(TN + FP)\n",
    "    print(\"Sensitivity of {0}: {1}\".format(_name, sensitivity))\n",
    "    print(\"Specificity of {0}: {1}\".format(_name, specificity))\n",
    "    print(\"Precision of {0}: {1}\".format(_name, TP/(TP + FP)))\n",
    "    print(\"Accuracy of {0}: {1}\".format(_name, (TP+TN)/(TP + FP + FN + TN)))\n",
    "    print(\"Balanced Accuracy of {0} : {1}\".format(_name, (sensitivity + specificity)/2))\n",
    "    print(\"F1 Score of {0}: {1}\".format(_name, (2*TP)/(2*TP + FP + FN)))"
   ]
  },
  {
   "cell_type": "markdown",
   "id": "08c34508",
   "metadata": {},
   "source": [
    "### akiec       "
   ]
  },
  {
   "cell_type": "code",
   "execution_count": null,
   "id": "3edc07d8",
   "metadata": {},
   "outputs": [],
   "source": [
    "index = 0\n",
    "cm_compute(multi_cm, index, targetnames[index])"
   ]
  },
  {
   "cell_type": "markdown",
   "id": "0c8298d1",
   "metadata": {},
   "source": [
    "### bcc       "
   ]
  },
  {
   "cell_type": "code",
   "execution_count": null,
   "id": "c2fb8bec",
   "metadata": {},
   "outputs": [],
   "source": [
    "index = 1\n",
    "cm_compute(multi_cm, index, targetnames[index])"
   ]
  },
  {
   "cell_type": "markdown",
   "id": "c3c0b7d3",
   "metadata": {},
   "source": [
    "### bkl"
   ]
  },
  {
   "cell_type": "code",
   "execution_count": null,
   "id": "1bfd6ac9",
   "metadata": {},
   "outputs": [],
   "source": [
    "index = 2\n",
    "cm_compute(multi_cm, index, targetnames[index])"
   ]
  },
  {
   "cell_type": "markdown",
   "id": "4b7e966f",
   "metadata": {},
   "source": [
    "### df "
   ]
  },
  {
   "cell_type": "code",
   "execution_count": null,
   "id": "25b094e5",
   "metadata": {},
   "outputs": [],
   "source": [
    "index = 3\n",
    "cm_compute(multi_cm, index, targetnames[index])"
   ]
  },
  {
   "cell_type": "markdown",
   "id": "45c95bb2",
   "metadata": {},
   "source": [
    "### mel"
   ]
  },
  {
   "cell_type": "code",
   "execution_count": null,
   "id": "1a8ef842",
   "metadata": {},
   "outputs": [],
   "source": [
    "index = 4\n",
    "cm_compute(multi_cm, index, targetnames[index])"
   ]
  },
  {
   "cell_type": "markdown",
   "id": "a2cadea1",
   "metadata": {},
   "source": [
    "### nv"
   ]
  },
  {
   "cell_type": "code",
   "execution_count": null,
   "id": "ac593956",
   "metadata": {},
   "outputs": [],
   "source": [
    "index = 5\n",
    "cm_compute(multi_cm, index, targetnames[index])"
   ]
  },
  {
   "cell_type": "markdown",
   "id": "9f7cccca",
   "metadata": {},
   "source": [
    "### vasc"
   ]
  },
  {
   "cell_type": "code",
   "execution_count": null,
   "id": "29c1c659",
   "metadata": {},
   "outputs": [],
   "source": [
    "index = 6\n",
    "cm_compute(multi_cm, index, targetnames[index])"
   ]
  },
  {
   "cell_type": "markdown",
   "id": "fcc6be19",
   "metadata": {},
   "source": [
    "## Weighted, Macro, Micro, ROC AUC"
   ]
  },
  {
   "cell_type": "code",
   "execution_count": null,
   "id": "59d35f78",
   "metadata": {},
   "outputs": [],
   "source": [
    "print(\"Precision: \"+ str(precision_score(y_true, y_pred, average='weighted')))\n",
    "print(\"Recall: \"+ str(recall_score(y_true, y_pred, average='weighted')))\n",
    "print(\"Accuracy: \" + str(accuracy_score(y_true, y_pred)))\n",
    "print(\"weighted Roc score: \" + str(roc_auc_score(y_test,y_prob,multi_class='ovr',average='weighted')))"
   ]
  },
  {
   "cell_type": "code",
   "execution_count": null,
   "id": "b69e9a30",
   "metadata": {},
   "outputs": [],
   "source": [
    "print(\"Precision: \"+ str(precision_score(y_true, y_pred, average='macro')))\n",
    "print(\"Recall: \"+ str(recall_score(y_true, y_pred, average='macro')))\n",
    "print(\"Accuracy: \" + str(accuracy_score(y_true, y_pred)))\n",
    "print(\"Macro Roc score: \" + str(roc_auc_score(y_test,y_prob,multi_class='ovr',average='macro')))"
   ]
  },
  {
   "cell_type": "code",
   "execution_count": null,
   "id": "fab7d5c6",
   "metadata": {},
   "outputs": [],
   "source": [
    "print(\"Precision: \"+ str(precision_score(y_true, y_pred, average='micro')))\n",
    "print(\"Recall: \"+ str(recall_score(y_true, y_pred, average='micro')))\n",
    "print(\"Accuracy: \" + str(accuracy_score(y_true, y_pred)))\n",
    "tpr={}\n",
    "fpr={}\n",
    "roc_auc={}\n",
    "fpr[\"micro\"], tpr[\"micro\"], _ = roc_curve(y_test.ravel(), y_prob.ravel())\n",
    "roc_auc[\"micro\"] = auc(fpr[\"micro\"], tpr[\"micro\"])\n",
    "print(\"Micro Roc score: \" + str(roc_auc[\"micro\"]))"
   ]
  },
  {
   "cell_type": "code",
   "execution_count": null,
   "id": "cef5bfe5",
   "metadata": {},
   "outputs": [],
   "source": [
    "fpr = {}\n",
    "tpr = {}\n",
    "roc_auc = {}\n",
    "for i in range(7):\n",
    "    r = roc_auc_score(y_test[:, i], y_prob[:, i])\n",
    "    print(\"The ROC AUC score of \"+targetnames[i]+\" is: \"+str(r))"
   ]
  },
  {
   "cell_type": "code",
   "execution_count": null,
   "id": "32fff45a",
   "metadata": {},
   "outputs": [],
   "source": [
    "# Compute ROC curve and ROC area for each class\n",
    "fpr = {}\n",
    "tpr = {}\n",
    "roc_auc = dict()\n",
    "for i in range(7):\n",
    "    fpr[i], tpr[i], _ = roc_curve(y_test[:, i], y_prob[:, i], drop_intermediate=False)\n",
    "    roc_auc[i] = auc(fpr[i], tpr[i])"
   ]
  },
  {
   "cell_type": "code",
   "execution_count": null,
   "id": "cd42da01",
   "metadata": {},
   "outputs": [],
   "source": [
    "plt.plot(fpr[0], tpr[0],'v-',label='akiec: ROC curve of (area = %0.2f)' % roc_auc[0])\n",
    "plt.plot(fpr[1], tpr[1],'c',label='bcc: ROC curve of (area = %0.2f)' % roc_auc[1])\n",
    "plt.plot(fpr[2], tpr[2],'b',label='bkl: ROC curve of (area = %0.2f)' % roc_auc[2])\n",
    "plt.plot(fpr[3], tpr[3],'g',label='df: ROC curve of (area = %0.2f)' % roc_auc[3])\n",
    "plt.plot(fpr[4], tpr[4],'y',label='mel: ROC curve of (area = %0.2f)' % roc_auc[4])\n",
    "plt.plot(fpr[5], tpr[5],'o-',label='nv: ROC curve of (area = %0.2f)' % roc_auc[5])\n",
    "plt.plot(fpr[6], tpr[6],'r',label='vasc: ROC curve of (area = %0.2f)' % roc_auc[6])\n",
    "\n",
    "plt.plot([0, 1], [0, 1], 'k--')\n",
    "plt.xlim([-0.1, 1.1])\n",
    "plt.ylim([-0.1, 1.1])\n",
    "plt.xlabel('False Positive Rate')\n",
    "plt.ylabel('True Positive Rate')\n",
    "plt.title('Receiver operating characteristic of %s'%targetnames[i])\n",
    "plt.legend(loc=\"lower right\")\n",
    "plt.show()"
   ]
  },
  {
   "cell_type": "code",
   "execution_count": null,
   "id": "eb80bb58",
   "metadata": {},
   "outputs": [],
   "source": []
  }
 ],
 "metadata": {
  "kernelspec": {
   "display_name": "Python 3 (ipykernel)",
   "language": "python",
   "name": "python3"
  },
  "language_info": {
   "codemirror_mode": {
    "name": "ipython",
    "version": 3
   },
   "file_extension": ".py",
   "mimetype": "text/x-python",
   "name": "python",
   "nbconvert_exporter": "python",
   "pygments_lexer": "ipython3",
   "version": "3.9.5"
  }
 },
 "nbformat": 4,
 "nbformat_minor": 5
}
