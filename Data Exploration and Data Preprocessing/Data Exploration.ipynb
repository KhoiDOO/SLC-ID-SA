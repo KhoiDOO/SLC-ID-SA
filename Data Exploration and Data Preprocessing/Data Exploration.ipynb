{
 "cells": [
  {
   "cell_type": "code",
   "execution_count": 1,
   "id": "20499992",
   "metadata": {},
   "outputs": [],
   "source": [
    "# Environment variable\n",
    "main_data_dir = 'D:/Data/HAM100000 - Harvard Dataset'\n",
    "metadata_dir = main_data_dir + '/HAM10000_metadata.csv'\n",
    "img_data_dir = main_data_dir + '/img_data'\n",
    "test_data_dir = main_data_dir + '/test'\n",
    "test_label_dir = main_data_dir + '/test_label.csv'"
   ]
  },
  {
   "cell_type": "code",
   "execution_count": 2,
   "id": "0a19784e",
   "metadata": {},
   "outputs": [],
   "source": [
    "import pandas as pd\n",
    "import numpy as np\n",
    "import matplotlib.pyplot as plt\n",
    "import seaborn as sns\n",
    "import glob\n",
    "import matplotlib.image as mpimg"
   ]
  },
  {
   "cell_type": "markdown",
   "id": "a0b21fdd",
   "metadata": {},
   "source": [
    "# Metadata"
   ]
  },
  {
   "cell_type": "code",
   "execution_count": 3,
   "id": "45ae2837",
   "metadata": {},
   "outputs": [
    {
     "data": {
      "text/html": [
       "<div>\n",
       "<style scoped>\n",
       "    .dataframe tbody tr th:only-of-type {\n",
       "        vertical-align: middle;\n",
       "    }\n",
       "\n",
       "    .dataframe tbody tr th {\n",
       "        vertical-align: top;\n",
       "    }\n",
       "\n",
       "    .dataframe thead th {\n",
       "        text-align: right;\n",
       "    }\n",
       "</style>\n",
       "<table border=\"1\" class=\"dataframe\">\n",
       "  <thead>\n",
       "    <tr style=\"text-align: right;\">\n",
       "      <th></th>\n",
       "      <th>lesion_id</th>\n",
       "      <th>image_id</th>\n",
       "      <th>dx</th>\n",
       "      <th>dx_type</th>\n",
       "      <th>age</th>\n",
       "      <th>sex</th>\n",
       "      <th>localization</th>\n",
       "      <th>dataset</th>\n",
       "    </tr>\n",
       "  </thead>\n",
       "  <tbody>\n",
       "    <tr>\n",
       "      <th>0</th>\n",
       "      <td>HAM_0000118</td>\n",
       "      <td>ISIC_0027419</td>\n",
       "      <td>bkl</td>\n",
       "      <td>histo</td>\n",
       "      <td>80.0</td>\n",
       "      <td>male</td>\n",
       "      <td>scalp</td>\n",
       "      <td>vidir_modern</td>\n",
       "    </tr>\n",
       "    <tr>\n",
       "      <th>1</th>\n",
       "      <td>HAM_0000118</td>\n",
       "      <td>ISIC_0025030</td>\n",
       "      <td>bkl</td>\n",
       "      <td>histo</td>\n",
       "      <td>80.0</td>\n",
       "      <td>male</td>\n",
       "      <td>scalp</td>\n",
       "      <td>vidir_modern</td>\n",
       "    </tr>\n",
       "    <tr>\n",
       "      <th>2</th>\n",
       "      <td>HAM_0002730</td>\n",
       "      <td>ISIC_0026769</td>\n",
       "      <td>bkl</td>\n",
       "      <td>histo</td>\n",
       "      <td>80.0</td>\n",
       "      <td>male</td>\n",
       "      <td>scalp</td>\n",
       "      <td>vidir_modern</td>\n",
       "    </tr>\n",
       "    <tr>\n",
       "      <th>3</th>\n",
       "      <td>HAM_0002730</td>\n",
       "      <td>ISIC_0025661</td>\n",
       "      <td>bkl</td>\n",
       "      <td>histo</td>\n",
       "      <td>80.0</td>\n",
       "      <td>male</td>\n",
       "      <td>scalp</td>\n",
       "      <td>vidir_modern</td>\n",
       "    </tr>\n",
       "    <tr>\n",
       "      <th>4</th>\n",
       "      <td>HAM_0001466</td>\n",
       "      <td>ISIC_0031633</td>\n",
       "      <td>bkl</td>\n",
       "      <td>histo</td>\n",
       "      <td>75.0</td>\n",
       "      <td>male</td>\n",
       "      <td>ear</td>\n",
       "      <td>vidir_modern</td>\n",
       "    </tr>\n",
       "  </tbody>\n",
       "</table>\n",
       "</div>"
      ],
      "text/plain": [
       "     lesion_id      image_id   dx dx_type   age   sex localization  \\\n",
       "0  HAM_0000118  ISIC_0027419  bkl   histo  80.0  male        scalp   \n",
       "1  HAM_0000118  ISIC_0025030  bkl   histo  80.0  male        scalp   \n",
       "2  HAM_0002730  ISIC_0026769  bkl   histo  80.0  male        scalp   \n",
       "3  HAM_0002730  ISIC_0025661  bkl   histo  80.0  male        scalp   \n",
       "4  HAM_0001466  ISIC_0031633  bkl   histo  75.0  male          ear   \n",
       "\n",
       "        dataset  \n",
       "0  vidir_modern  \n",
       "1  vidir_modern  \n",
       "2  vidir_modern  \n",
       "3  vidir_modern  \n",
       "4  vidir_modern  "
      ]
     },
     "execution_count": 3,
     "metadata": {},
     "output_type": "execute_result"
    }
   ],
   "source": [
    "metadata_df = pd.read_csv(metadata_dir)\n",
    "metadata_df.head()"
   ]
  },
  {
   "cell_type": "code",
   "execution_count": 4,
   "id": "a21a7feb",
   "metadata": {},
   "outputs": [
    {
     "name": "stdout",
     "output_type": "stream",
     "text": [
      "<class 'pandas.core.frame.DataFrame'>\n",
      "RangeIndex: 10015 entries, 0 to 10014\n",
      "Data columns (total 8 columns):\n",
      " #   Column        Non-Null Count  Dtype  \n",
      "---  ------        --------------  -----  \n",
      " 0   lesion_id     10015 non-null  object \n",
      " 1   image_id      10015 non-null  object \n",
      " 2   dx            10015 non-null  object \n",
      " 3   dx_type       10015 non-null  object \n",
      " 4   age           9958 non-null   float64\n",
      " 5   sex           10015 non-null  object \n",
      " 6   localization  10015 non-null  object \n",
      " 7   dataset       10015 non-null  object \n",
      "dtypes: float64(1), object(7)\n",
      "memory usage: 626.1+ KB\n"
     ]
    }
   ],
   "source": [
    "metadata_df.info()"
   ]
  },
  {
   "cell_type": "code",
   "execution_count": 5,
   "id": "f6731d7e",
   "metadata": {},
   "outputs": [
    {
     "data": {
      "text/html": [
       "<div>\n",
       "<style scoped>\n",
       "    .dataframe tbody tr th:only-of-type {\n",
       "        vertical-align: middle;\n",
       "    }\n",
       "\n",
       "    .dataframe tbody tr th {\n",
       "        vertical-align: top;\n",
       "    }\n",
       "\n",
       "    .dataframe thead th {\n",
       "        text-align: right;\n",
       "    }\n",
       "</style>\n",
       "<table border=\"1\" class=\"dataframe\">\n",
       "  <thead>\n",
       "    <tr style=\"text-align: right;\">\n",
       "      <th></th>\n",
       "      <th>age</th>\n",
       "    </tr>\n",
       "  </thead>\n",
       "  <tbody>\n",
       "    <tr>\n",
       "      <th>count</th>\n",
       "      <td>9958.000000</td>\n",
       "    </tr>\n",
       "    <tr>\n",
       "      <th>mean</th>\n",
       "      <td>51.863828</td>\n",
       "    </tr>\n",
       "    <tr>\n",
       "      <th>std</th>\n",
       "      <td>16.968614</td>\n",
       "    </tr>\n",
       "    <tr>\n",
       "      <th>min</th>\n",
       "      <td>0.000000</td>\n",
       "    </tr>\n",
       "    <tr>\n",
       "      <th>25%</th>\n",
       "      <td>40.000000</td>\n",
       "    </tr>\n",
       "    <tr>\n",
       "      <th>50%</th>\n",
       "      <td>50.000000</td>\n",
       "    </tr>\n",
       "    <tr>\n",
       "      <th>75%</th>\n",
       "      <td>65.000000</td>\n",
       "    </tr>\n",
       "    <tr>\n",
       "      <th>max</th>\n",
       "      <td>85.000000</td>\n",
       "    </tr>\n",
       "  </tbody>\n",
       "</table>\n",
       "</div>"
      ],
      "text/plain": [
       "               age\n",
       "count  9958.000000\n",
       "mean     51.863828\n",
       "std      16.968614\n",
       "min       0.000000\n",
       "25%      40.000000\n",
       "50%      50.000000\n",
       "75%      65.000000\n",
       "max      85.000000"
      ]
     },
     "execution_count": 5,
     "metadata": {},
     "output_type": "execute_result"
    }
   ],
   "source": [
    "metadata_df.describe()"
   ]
  },
  {
   "cell_type": "code",
   "execution_count": 6,
   "id": "b48fce8e",
   "metadata": {},
   "outputs": [
    {
     "data": {
      "text/plain": [
       "nv       6705\n",
       "mel      1113\n",
       "bkl      1099\n",
       "bcc       514\n",
       "akiec     327\n",
       "vasc      142\n",
       "df        115\n",
       "Name: dx, dtype: int64"
      ]
     },
     "execution_count": 6,
     "metadata": {},
     "output_type": "execute_result"
    }
   ],
   "source": [
    "metadata_df['dx'].value_counts()"
   ]
  },
  {
   "cell_type": "code",
   "execution_count": 7,
   "id": "6822b0a5",
   "metadata": {},
   "outputs": [
    {
     "data": {
      "text/plain": [
       "<AxesSubplot:>"
      ]
     },
     "execution_count": 7,
     "metadata": {},
     "output_type": "execute_result"
    },
    {
     "data": {
      "image/png": "[encoded data removed]",
      "text/plain": [
       "<Figure size 432x288 with 1 Axes>"
      ]
     },
     "metadata": {
      "needs_background": "light"
     },
     "output_type": "display_data"
    }
   ],
   "source": [
    "metadata_df['age'].hist()"
   ]
  },
  {
   "cell_type": "code",
   "execution_count": 8,
   "id": "6ef37d36",
   "metadata": {},
   "outputs": [
    {
     "data": {
      "text/plain": [
       "<AxesSubplot:>"
      ]
     },
     "execution_count": 8,
     "metadata": {},
     "output_type": "execute_result"
    },
    {
     "data": {
      "image/png": "[encoded data removed]",
      "text/plain": [
       "<Figure size 432x288 with 1 Axes>"
      ]
     },
     "metadata": {
      "needs_background": "light"
     },
     "output_type": "display_data"
    }
   ],
   "source": [
    "metadata_df['sex'].hist()"
   ]
  },
  {
   "cell_type": "code",
   "execution_count": 9,
   "id": "18aa61c3",
   "metadata": {},
   "outputs": [
    {
     "data": {
      "text/plain": [
       "male       5406\n",
       "female     4552\n",
       "unknown      57\n",
       "Name: sex, dtype: int64"
      ]
     },
     "execution_count": 9,
     "metadata": {},
     "output_type": "execute_result"
    }
   ],
   "source": [
    "metadata_df['sex'].value_counts()"
   ]
  },
  {
   "cell_type": "code",
   "execution_count": 10,
   "id": "8492c4a5",
   "metadata": {},
   "outputs": [
    {
     "data": {
      "text/plain": [
       "back               2192\n",
       "lower extremity    2077\n",
       "trunk              1404\n",
       "upper extremity    1118\n",
       "abdomen            1022\n",
       "face                745\n",
       "chest               407\n",
       "foot                319\n",
       "unknown             234\n",
       "neck                168\n",
       "scalp               128\n",
       "hand                 90\n",
       "ear                  56\n",
       "genital              48\n",
       "acral                 7\n",
       "Name: localization, dtype: int64"
      ]
     },
     "execution_count": 10,
     "metadata": {},
     "output_type": "execute_result"
    }
   ],
   "source": [
    "metadata_df['localization'].value_counts()"
   ]
  },
  {
   "cell_type": "code",
   "execution_count": 11,
   "id": "285016c3",
   "metadata": {},
   "outputs": [
    {
     "data": {
      "text/plain": [
       "vidir_molemax    3954\n",
       "vidir_modern     3363\n",
       "rosendahl        2259\n",
       "vienna_dias       439\n",
       "Name: dataset, dtype: int64"
      ]
     },
     "execution_count": 11,
     "metadata": {},
     "output_type": "execute_result"
    }
   ],
   "source": [
    "metadata_df['dataset'].value_counts()"
   ]
  },
  {
   "cell_type": "markdown",
   "id": "a2d9cde7",
   "metadata": {},
   "source": [
    "# Test Label"
   ]
  },
  {
   "cell_type": "code",
   "execution_count": 12,
   "id": "ad80f572",
   "metadata": {},
   "outputs": [
    {
     "data": {
      "text/html": [
       "<div>\n",
       "<style scoped>\n",
       "    .dataframe tbody tr th:only-of-type {\n",
       "        vertical-align: middle;\n",
       "    }\n",
       "\n",
       "    .dataframe tbody tr th {\n",
       "        vertical-align: top;\n",
       "    }\n",
       "\n",
       "    .dataframe thead th {\n",
       "        text-align: right;\n",
       "    }\n",
       "</style>\n",
       "<table border=\"1\" class=\"dataframe\">\n",
       "  <thead>\n",
       "    <tr style=\"text-align: right;\">\n",
       "      <th></th>\n",
       "      <th>image_id</th>\n",
       "      <th>interaction_modality</th>\n",
       "      <th>prob_m_mal</th>\n",
       "      <th>prob_m_dx_akiec</th>\n",
       "      <th>prob_m_dx_bcc</th>\n",
       "      <th>prob_m_dx_bkl</th>\n",
       "      <th>prob_m_dx_df</th>\n",
       "      <th>prob_m_dx_mel</th>\n",
       "      <th>prob_m_dx_nv</th>\n",
       "      <th>prob_m_dx_vasc</th>\n",
       "      <th>...</th>\n",
       "      <th>user_dx_without_interaction_mel</th>\n",
       "      <th>user_dx_without_interaction_nv</th>\n",
       "      <th>user_dx_without_interaction_vasc</th>\n",
       "      <th>user_dx_with_interaction_akiec</th>\n",
       "      <th>user_dx_with_interaction_bcc</th>\n",
       "      <th>user_dx_with_interaction_bkl</th>\n",
       "      <th>user_dx_with_interaction_df</th>\n",
       "      <th>user_dx_with_interaction_mel</th>\n",
       "      <th>user_dx_with_interaction_nv</th>\n",
       "      <th>user_dx_with_interaction_vasc</th>\n",
       "    </tr>\n",
       "  </thead>\n",
       "  <tbody>\n",
       "    <tr>\n",
       "      <th>0</th>\n",
       "      <td>ISIC_0034524</td>\n",
       "      <td>Malignancy Probability (AI)</td>\n",
       "      <td>3,6112365E-07</td>\n",
       "      <td>3,90293E-08</td>\n",
       "      <td>8,117796E-08</td>\n",
       "      <td>1,230346E-06</td>\n",
       "      <td>6,8621403E-06</td>\n",
       "      <td>2,409164E-07</td>\n",
       "      <td>0,9999885</td>\n",
       "      <td>3,0752137E-06</td>\n",
       "      <td>...</td>\n",
       "      <td>0</td>\n",
       "      <td>0</td>\n",
       "      <td>0</td>\n",
       "      <td>0</td>\n",
       "      <td>0</td>\n",
       "      <td>0</td>\n",
       "      <td>0</td>\n",
       "      <td>0</td>\n",
       "      <td>1</td>\n",
       "      <td>0</td>\n",
       "    </tr>\n",
       "    <tr>\n",
       "      <th>1</th>\n",
       "      <td>ISIC_0034525</td>\n",
       "      <td>Malignancy Probability (AI)</td>\n",
       "      <td>0,00063954331927</td>\n",
       "      <td>4,6960016E-05</td>\n",
       "      <td>8,363065E-05</td>\n",
       "      <td>8,099651E-05</td>\n",
       "      <td>0,82006663</td>\n",
       "      <td>0,00050895265</td>\n",
       "      <td>0,17920908</td>\n",
       "      <td>3,744718E-06</td>\n",
       "      <td>...</td>\n",
       "      <td>0</td>\n",
       "      <td>1</td>\n",
       "      <td>0</td>\n",
       "      <td>0</td>\n",
       "      <td>0</td>\n",
       "      <td>0</td>\n",
       "      <td>0</td>\n",
       "      <td>0</td>\n",
       "      <td>1</td>\n",
       "      <td>0</td>\n",
       "    </tr>\n",
       "    <tr>\n",
       "      <th>2</th>\n",
       "      <td>ISIC_0034525</td>\n",
       "      <td>Multiclass Probabilities (Crowd)</td>\n",
       "      <td>0,00063954331927</td>\n",
       "      <td>4,6960016E-05</td>\n",
       "      <td>8,363065E-05</td>\n",
       "      <td>8,099651E-05</td>\n",
       "      <td>0,82006663</td>\n",
       "      <td>0,00050895265</td>\n",
       "      <td>0,17920908</td>\n",
       "      <td>3,744718E-06</td>\n",
       "      <td>...</td>\n",
       "      <td>0</td>\n",
       "      <td>0</td>\n",
       "      <td>0</td>\n",
       "      <td>0</td>\n",
       "      <td>0</td>\n",
       "      <td>0</td>\n",
       "      <td>0</td>\n",
       "      <td>0</td>\n",
       "      <td>1</td>\n",
       "      <td>0</td>\n",
       "    </tr>\n",
       "    <tr>\n",
       "      <th>3</th>\n",
       "      <td>ISIC_0034526</td>\n",
       "      <td>CBIR (AI)</td>\n",
       "      <td>0,03198014359805</td>\n",
       "      <td>0,01575451</td>\n",
       "      <td>0,00038216423</td>\n",
       "      <td>0,935222</td>\n",
       "      <td>0,00071165885</td>\n",
       "      <td>0,01584347</td>\n",
       "      <td>0,032083057</td>\n",
       "      <td>3,17123E-06</td>\n",
       "      <td>...</td>\n",
       "      <td>1</td>\n",
       "      <td>0</td>\n",
       "      <td>0</td>\n",
       "      <td>0</td>\n",
       "      <td>0</td>\n",
       "      <td>5</td>\n",
       "      <td>0</td>\n",
       "      <td>0</td>\n",
       "      <td>0</td>\n",
       "      <td>0</td>\n",
       "    </tr>\n",
       "    <tr>\n",
       "      <th>4</th>\n",
       "      <td>ISIC_0034526</td>\n",
       "      <td>Malignancy Probability (AI)</td>\n",
       "      <td>0,03198014359805</td>\n",
       "      <td>0,01575451</td>\n",
       "      <td>0,00038216423</td>\n",
       "      <td>0,935222</td>\n",
       "      <td>0,00071165885</td>\n",
       "      <td>0,01584347</td>\n",
       "      <td>0,032083057</td>\n",
       "      <td>3,17123E-06</td>\n",
       "      <td>...</td>\n",
       "      <td>2</td>\n",
       "      <td>0</td>\n",
       "      <td>0</td>\n",
       "      <td>0</td>\n",
       "      <td>0</td>\n",
       "      <td>2</td>\n",
       "      <td>0</td>\n",
       "      <td>2</td>\n",
       "      <td>0</td>\n",
       "      <td>0</td>\n",
       "    </tr>\n",
       "  </tbody>\n",
       "</table>\n",
       "<p>5 rows × 31 columns</p>\n",
       "</div>"
      ],
      "text/plain": [
       "       image_id              interaction_modality        prob_m_mal  \\\n",
       "0  ISIC_0034524       Malignancy Probability (AI)     3,6112365E-07   \n",
       "1  ISIC_0034525       Malignancy Probability (AI)  0,00063954331927   \n",
       "2  ISIC_0034525  Multiclass Probabilities (Crowd)  0,00063954331927   \n",
       "3  ISIC_0034526                         CBIR (AI)  0,03198014359805   \n",
       "4  ISIC_0034526       Malignancy Probability (AI)  0,03198014359805   \n",
       "\n",
       "  prob_m_dx_akiec  prob_m_dx_bcc prob_m_dx_bkl   prob_m_dx_df  prob_m_dx_mel  \\\n",
       "0     3,90293E-08   8,117796E-08  1,230346E-06  6,8621403E-06   2,409164E-07   \n",
       "1   4,6960016E-05   8,363065E-05  8,099651E-05     0,82006663  0,00050895265   \n",
       "2   4,6960016E-05   8,363065E-05  8,099651E-05     0,82006663  0,00050895265   \n",
       "3      0,01575451  0,00038216423      0,935222  0,00071165885     0,01584347   \n",
       "4      0,01575451  0,00038216423      0,935222  0,00071165885     0,01584347   \n",
       "\n",
       "  prob_m_dx_nv prob_m_dx_vasc  ... user_dx_without_interaction_mel  \\\n",
       "0    0,9999885  3,0752137E-06  ...                               0   \n",
       "1   0,17920908   3,744718E-06  ...                               0   \n",
       "2   0,17920908   3,744718E-06  ...                               0   \n",
       "3  0,032083057    3,17123E-06  ...                               1   \n",
       "4  0,032083057    3,17123E-06  ...                               2   \n",
       "\n",
       "  user_dx_without_interaction_nv user_dx_without_interaction_vasc  \\\n",
       "0                              0                                0   \n",
       "1                              1                                0   \n",
       "2                              0                                0   \n",
       "3                              0                                0   \n",
       "4                              0                                0   \n",
       "\n",
       "  user_dx_with_interaction_akiec user_dx_with_interaction_bcc  \\\n",
       "0                              0                            0   \n",
       "1                              0                            0   \n",
       "2                              0                            0   \n",
       "3                              0                            0   \n",
       "4                              0                            0   \n",
       "\n",
       "  user_dx_with_interaction_bkl user_dx_with_interaction_df  \\\n",
       "0                            0                           0   \n",
       "1                            0                           0   \n",
       "2                            0                           0   \n",
       "3                            5                           0   \n",
       "4                            2                           0   \n",
       "\n",
       "   user_dx_with_interaction_mel  user_dx_with_interaction_nv  \\\n",
       "0                             0                            1   \n",
       "1                             0                            1   \n",
       "2                             0                            1   \n",
       "3                             0                            0   \n",
       "4                             2                            0   \n",
       "\n",
       "   user_dx_with_interaction_vasc  \n",
       "0                              0  \n",
       "1                              0  \n",
       "2                              0  \n",
       "3                              0  \n",
       "4                              0  \n",
       "\n",
       "[5 rows x 31 columns]"
      ]
     },
     "execution_count": 12,
     "metadata": {},
     "output_type": "execute_result"
    }
   ],
   "source": [
    "test_label_df = pd.read_csv(test_label_dir)\n",
    "test_label_df.head()"
   ]
  },
  {
   "cell_type": "code",
   "execution_count": 13,
   "id": "b7ea934e",
   "metadata": {},
   "outputs": [
    {
     "data": {
      "text/plain": [
       "(3762, 31)"
      ]
     },
     "execution_count": 13,
     "metadata": {},
     "output_type": "execute_result"
    }
   ],
   "source": [
    "test_label_df.shape"
   ]
  },
  {
   "cell_type": "code",
   "execution_count": 14,
   "id": "8e654f48",
   "metadata": {},
   "outputs": [
    {
     "name": "stdout",
     "output_type": "stream",
     "text": [
      "<class 'pandas.core.frame.DataFrame'>\n",
      "RangeIndex: 3762 entries, 0 to 3761\n",
      "Data columns (total 31 columns):\n",
      " #   Column                             Non-Null Count  Dtype \n",
      "---  ------                             --------------  ----- \n",
      " 0   image_id                           3762 non-null   object\n",
      " 1   interaction_modality               3762 non-null   object\n",
      " 2   prob_m_mal                         3762 non-null   object\n",
      " 3   prob_m_dx_akiec                    3762 non-null   object\n",
      " 4   prob_m_dx_bcc                      3762 non-null   object\n",
      " 5   prob_m_dx_bkl                      3762 non-null   object\n",
      " 6   prob_m_dx_df                       3762 non-null   object\n",
      " 7   prob_m_dx_mel                      3762 non-null   object\n",
      " 8   prob_m_dx_nv                       3762 non-null   object\n",
      " 9   prob_m_dx_vasc                     3762 non-null   object\n",
      " 10  prob_h_dx_akiec                    3762 non-null   object\n",
      " 11  prob_h_dx_bcc                      3762 non-null   object\n",
      " 12  prob_h_dx_bkl                      3762 non-null   object\n",
      " 13  prob_h_dx_df                       3762 non-null   object\n",
      " 14  prob_h_dx_mel                      3762 non-null   object\n",
      " 15  prob_h_dx_nv                       3762 non-null   object\n",
      " 16  prob_h_dx_vasc                     3762 non-null   object\n",
      " 17  user_dx_without_interaction_akiec  3762 non-null   int64 \n",
      " 18  user_dx_without_interaction_bcc    3762 non-null   int64 \n",
      " 19  user_dx_without_interaction_bkl    3762 non-null   int64 \n",
      " 20  user_dx_without_interaction_df     3762 non-null   int64 \n",
      " 21  user_dx_without_interaction_mel    3762 non-null   int64 \n",
      " 22  user_dx_without_interaction_nv     3762 non-null   int64 \n",
      " 23  user_dx_without_interaction_vasc   3762 non-null   int64 \n",
      " 24  user_dx_with_interaction_akiec     3762 non-null   int64 \n",
      " 25  user_dx_with_interaction_bcc       3762 non-null   int64 \n",
      " 26  user_dx_with_interaction_bkl       3762 non-null   int64 \n",
      " 27  user_dx_with_interaction_df        3762 non-null   int64 \n",
      " 28  user_dx_with_interaction_mel       3762 non-null   int64 \n",
      " 29  user_dx_with_interaction_nv        3762 non-null   int64 \n",
      " 30  user_dx_with_interaction_vasc      3762 non-null   int64 \n",
      "dtypes: int64(14), object(17)\n",
      "memory usage: 911.2+ KB\n"
     ]
    }
   ],
   "source": [
    "test_label_df.info()"
   ]
  },
  {
   "cell_type": "markdown",
   "id": "07c3a3af",
   "metadata": {},
   "source": [
    " # Image"
   ]
  },
  {
   "cell_type": "code",
   "execution_count": 15,
   "id": "45c3526a",
   "metadata": {
    "scrolled": true
   },
   "outputs": [
    {
     "name": "stdout",
     "output_type": "stream",
     "text": [
      "Number of images: 10015\n",
      "Example: D:/Data/HAM100000 - Harvard Dataset/img_data\\ISIC_0024306.jpg\n"
     ]
    }
   ],
   "source": [
    "img_paths = glob.glob(img_data_dir + '/*')\n",
    "print(\"Number of images: {}\".format(len(img_paths)))\n",
    "print(\"Example: {}\".format(img_paths[0]))"
   ]
  },
  {
   "cell_type": "code",
   "execution_count": 16,
   "id": "d673e2e0",
   "metadata": {},
   "outputs": [
    {
     "name": "stdout",
     "output_type": "stream",
     "text": [
      "Example Image\n"
     ]
    },
    {
     "data": {
      "image/png": "[encoded data removed]",
      "text/plain": [
       "<Figure size 432x288 with 1 Axes>"
      ]
     },
     "metadata": {
      "needs_background": "light"
     },
     "output_type": "display_data"
    }
   ],
   "source": [
    "print(\"Example Image\")\n",
    "img = mpimg.imread(img_paths[0])\n",
    "imgplot = plt.imshow(img)\n",
    "plt.show()"
   ]
  },
  {
   "cell_type": "code",
   "execution_count": 17,
   "id": "c079d458",
   "metadata": {},
   "outputs": [
    {
     "name": "stdout",
     "output_type": "stream",
     "text": [
      "<class 'numpy.ndarray'>\n"
     ]
    }
   ],
   "source": [
    "print(type(img))"
   ]
  },
  {
   "cell_type": "code",
   "execution_count": 18,
   "id": "5cad4035",
   "metadata": {},
   "outputs": [
    {
     "data": {
      "text/plain": [
       "(450, 600, 3)"
      ]
     },
     "execution_count": 18,
     "metadata": {},
     "output_type": "execute_result"
    }
   ],
   "source": [
    "img.shape"
   ]
  },
  {
   "cell_type": "code",
   "execution_count": 19,
   "id": "e885f6a4",
   "metadata": {},
   "outputs": [
    {
     "data": {
      "text/plain": [
       "450"
      ]
     },
     "execution_count": 19,
     "metadata": {},
     "output_type": "execute_result"
    }
   ],
   "source": [
    "img.shape[0]"
   ]
  },
  {
   "cell_type": "code",
   "execution_count": null,
   "id": "d38b8dcc",
   "metadata": {},
   "outputs": [],
   "source": []
  }
 ],
 "metadata": {
  "kernelspec": {
   "display_name": "Python 3 (ipykernel)",
   "language": "python",
   "name": "python3"
  },
  "language_info": {
   "codemirror_mode": {
    "name": "ipython",
    "version": 3
   },
   "file_extension": ".py",
   "mimetype": "text/x-python",
   "name": "python",
   "nbconvert_exporter": "python",
   "pygments_lexer": "ipython3",
   "version": "3.9.6"
  }
 },
 "nbformat": 4,
 "nbformat_minor": 5
}
