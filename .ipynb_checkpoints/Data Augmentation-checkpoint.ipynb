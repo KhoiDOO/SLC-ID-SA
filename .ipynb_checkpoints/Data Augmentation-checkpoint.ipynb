{
 "cells": [
  {
   "cell_type": "code",
   "execution_count": 5,
   "id": "adc8a732",
   "metadata": {},
   "outputs": [],
   "source": [
    "import pandas as pd \n",
    "import numpy as np \n",
    "import matplotlib.pyplot as plt\n",
    "import matplotlib.image as mpimg\n",
    "from tqdm import tqdm\n",
    "import seaborn as sns\n",
    "import glob\n",
    "import os"
   ]
  },
  {
   "cell_type": "code",
   "execution_count": 23,
   "id": "c2231d10",
   "metadata": {},
   "outputs": [],
   "source": [
    "# Environment variable\n",
    "main_data_dir = 'D:/Data/HAM100000 - Harvard Dataset'\n",
    "img_data_dir = main_data_dir + '/img_data'\n",
    "preprocessed_data = main_data_dir + '/preprocessed_data'\n",
    "train_label_path = preprocessed_data + '/train_label.csv'\n",
    "augmented_data_dir = main_data_dir + '/augmented_data'\n",
    "aug_df_path = preprocessed_data + '/aug_label.csv'"
   ]
  },
  {
   "cell_type": "code",
   "execution_count": 7,
   "id": "51c9128e",
   "metadata": {},
   "outputs": [
    {
     "data": {
      "text/html": [
       "<div>\n",
       "<style scoped>\n",
       "    .dataframe tbody tr th:only-of-type {\n",
       "        vertical-align: middle;\n",
       "    }\n",
       "\n",
       "    .dataframe tbody tr th {\n",
       "        vertical-align: top;\n",
       "    }\n",
       "\n",
       "    .dataframe thead th {\n",
       "        text-align: right;\n",
       "    }\n",
       "</style>\n",
       "<table border=\"1\" class=\"dataframe\">\n",
       "  <thead>\n",
       "    <tr style=\"text-align: right;\">\n",
       "      <th></th>\n",
       "      <th>Unnamed: 0</th>\n",
       "      <th>image_id</th>\n",
       "      <th>dx</th>\n",
       "      <th>age</th>\n",
       "      <th>sex</th>\n",
       "      <th>localization</th>\n",
       "    </tr>\n",
       "  </thead>\n",
       "  <tbody>\n",
       "    <tr>\n",
       "      <th>0</th>\n",
       "      <td>1</td>\n",
       "      <td>ISIC_0025030</td>\n",
       "      <td>bkl</td>\n",
       "      <td>80.0</td>\n",
       "      <td>male</td>\n",
       "      <td>scalp</td>\n",
       "    </tr>\n",
       "    <tr>\n",
       "      <th>1</th>\n",
       "      <td>2</td>\n",
       "      <td>ISIC_0026769</td>\n",
       "      <td>bkl</td>\n",
       "      <td>80.0</td>\n",
       "      <td>male</td>\n",
       "      <td>scalp</td>\n",
       "    </tr>\n",
       "    <tr>\n",
       "      <th>2</th>\n",
       "      <td>3</td>\n",
       "      <td>ISIC_0025661</td>\n",
       "      <td>bkl</td>\n",
       "      <td>80.0</td>\n",
       "      <td>male</td>\n",
       "      <td>scalp</td>\n",
       "    </tr>\n",
       "    <tr>\n",
       "      <th>3</th>\n",
       "      <td>4</td>\n",
       "      <td>ISIC_0031633</td>\n",
       "      <td>bkl</td>\n",
       "      <td>75.0</td>\n",
       "      <td>male</td>\n",
       "      <td>ear</td>\n",
       "    </tr>\n",
       "    <tr>\n",
       "      <th>4</th>\n",
       "      <td>5</td>\n",
       "      <td>ISIC_0027850</td>\n",
       "      <td>bkl</td>\n",
       "      <td>75.0</td>\n",
       "      <td>male</td>\n",
       "      <td>ear</td>\n",
       "    </tr>\n",
       "  </tbody>\n",
       "</table>\n",
       "</div>"
      ],
      "text/plain": [
       "   Unnamed: 0      image_id   dx   age   sex localization\n",
       "0           1  ISIC_0025030  bkl  80.0  male        scalp\n",
       "1           2  ISIC_0026769  bkl  80.0  male        scalp\n",
       "2           3  ISIC_0025661  bkl  80.0  male        scalp\n",
       "3           4  ISIC_0031633  bkl  75.0  male          ear\n",
       "4           5  ISIC_0027850  bkl  75.0  male          ear"
      ]
     },
     "execution_count": 7,
     "metadata": {},
     "output_type": "execute_result"
    }
   ],
   "source": [
    "train_df = pd.read_csv(train_label_path)\n",
    "train_df.head()"
   ]
  },
  {
   "cell_type": "code",
   "execution_count": 8,
   "id": "7c6f1864",
   "metadata": {},
   "outputs": [],
   "source": [
    "import tensorflow as tf\n",
    "\n",
    "datagen = tf.keras.preprocessing.image.ImageDataGenerator(\n",
    "    rotation_range=180,\n",
    "    width_shift_range=0.1,\n",
    "    height_shift_range=0.1,\n",
    "    zoom_range=0.1,\n",
    "    horizontal_flip=True,\n",
    "    vertical_flip=True,\n",
    "    fill_mode='nearest'\n",
    ")jupyter -"
   ]
  },
  {
   "cell_type": "code",
   "execution_count": 20,
   "id": "1c836715",
   "metadata": {},
   "outputs": [
    {
     "name": "stderr",
     "output_type": "stream",
     "text": [
      "2it [00:00, 17.46it/s]"
     ]
    },
    {
     "name": "stdout",
     "output_type": "stream",
     "text": [
      "(1, 450, 600, 3)\n",
      "(1, 450, 600, 3)\n",
      "(1, 450, 600, 3)\n",
      "(1, 450, 600, 3)\n"
     ]
    },
    {
     "name": "stderr",
     "output_type": "stream",
     "text": [
      "8it [00:00, 21.24it/s]"
     ]
    },
    {
     "name": "stdout",
     "output_type": "stream",
     "text": [
      "(1, 450, 600, 3)\n",
      "(1, 450, 600, 3)\n",
      "(1, 450, 600, 3)\n",
      "(1, 450, 600, 3)\n",
      "(1, 450, 600, 3)\n"
     ]
    },
    {
     "name": "stderr",
     "output_type": "stream",
     "text": [
      "14it [00:00, 22.27it/s]"
     ]
    },
    {
     "name": "stdout",
     "output_type": "stream",
     "text": [
      "(1, 450, 600, 3)\n",
      "(1, 450, 600, 3)\n",
      "(1, 450, 600, 3)\n",
      "(1, 450, 600, 3)\n",
      "(1, 450, 600, 3)\n"
     ]
    },
    {
     "name": "stderr",
     "output_type": "stream",
     "text": [
      "\r",
      "17it [00:00, 22.41it/s]"
     ]
    },
    {
     "name": "stdout",
     "output_type": "stream",
     "text": [
      "(1, 450, 600, 3)\n",
      "(1, 450, 600, 3)\n",
      "(1, 450, 600, 3)\n",
      "(1, 450, 600, 3)\n",
      "(1, 450, 600, 3)\n",
      "(1, 450, 600, 3)\n"
     ]
    },
    {
     "name": "stderr",
     "output_type": "stream",
     "text": [
      "23it [00:01, 21.11it/s]"
     ]
    },
    {
     "name": "stdout",
     "output_type": "stream",
     "text": [
      "(1, 450, 600, 3)\n",
      "(1, 450, 600, 3)\n",
      "(1, 450, 600, 3)\n",
      "(1, 450, 600, 3)\n"
     ]
    },
    {
     "name": "stderr",
     "output_type": "stream",
     "text": [
      "29it [00:01, 21.69it/s]"
     ]
    },
    {
     "name": "stdout",
     "output_type": "stream",
     "text": [
      "(1, 450, 600, 3)\n",
      "(1, 450, 600, 3)\n",
      "(1, 450, 600, 3)\n",
      "(1, 450, 600, 3)\n",
      "(1, 450, 600, 3)\n"
     ]
    },
    {
     "name": "stderr",
     "output_type": "stream",
     "text": [
      "\r",
      "32it [00:01, 22.08it/s]"
     ]
    },
    {
     "name": "stdout",
     "output_type": "stream",
     "text": [
      "(1, 450, 600, 3)\n",
      "(1, 450, 600, 3)\n",
      "(1, 450, 600, 3)\n",
      "(1, 450, 600, 3)\n",
      "(1, 450, 600, 3)\n"
     ]
    },
    {
     "name": "stderr",
     "output_type": "stream",
     "text": [
      "38it [00:01, 20.81it/s]"
     ]
    },
    {
     "name": "stdout",
     "output_type": "stream",
     "text": [
      "(1, 450, 600, 3)\n",
      "(1, 450, 600, 3)\n",
      "(1, 450, 600, 3)\n",
      "(1, 450, 600, 3)\n",
      "(1, 450, 600, 3)\n"
     ]
    },
    {
     "name": "stderr",
     "output_type": "stream",
     "text": [
      "\r",
      "41it [00:01, 20.60it/s]"
     ]
    },
    {
     "name": "stdout",
     "output_type": "stream",
     "text": [
      "(1, 450, 600, 3)\n",
      "(1, 450, 600, 3)\n",
      "(1, 450, 600, 3)\n",
      "(1, 450, 600, 3)\n",
      "(1, 450, 600, 3)\n"
     ]
    },
    {
     "name": "stderr",
     "output_type": "stream",
     "text": [
      "47it [00:02, 21.25it/s]"
     ]
    },
    {
     "name": "stdout",
     "output_type": "stream",
     "text": [
      "(1, 450, 600, 3)\n",
      "(1, 450, 600, 3)\n",
      "(1, 450, 600, 3)\n",
      "(1, 450, 600, 3)\n",
      "(1, 450, 600, 3)\n"
     ]
    },
    {
     "name": "stderr",
     "output_type": "stream",
     "text": [
      "53it [00:02, 22.89it/s]"
     ]
    },
    {
     "name": "stdout",
     "output_type": "stream",
     "text": [
      "(1, 450, 600, 3)\n",
      "(1, 450, 600, 3)\n",
      "(1, 450, 600, 3)\n",
      "(1, 450, 600, 3)\n",
      "(1, 450, 600, 3)\n"
     ]
    },
    {
     "name": "stderr",
     "output_type": "stream",
     "text": [
      "\r",
      "56it [00:02, 22.63it/s]"
     ]
    },
    {
     "name": "stdout",
     "output_type": "stream",
     "text": [
      "(1, 450, 600, 3)\n",
      "(1, 450, 600, 3)\n",
      "(1, 450, 600, 3)\n",
      "(1, 450, 600, 3)\n",
      "(1, 450, 600, 3)\n"
     ]
    },
    {
     "name": "stderr",
     "output_type": "stream",
     "text": [
      "62it [00:02, 20.68it/s]"
     ]
    },
    {
     "name": "stdout",
     "output_type": "stream",
     "text": [
      "(1, 450, 600, 3)\n",
      "(1, 450, 600, 3)\n",
      "(1, 450, 600, 3)\n",
      "(1, 450, 600, 3)\n",
      "(1, 450, 600, 3)\n"
     ]
    },
    {
     "name": "stderr",
     "output_type": "stream",
     "text": [
      "68it [00:03, 20.29it/s]"
     ]
    },
    {
     "name": "stdout",
     "output_type": "stream",
     "text": [
      "(1, 450, 600, 3)\n",
      "(1, 450, 600, 3)\n",
      "(1, 450, 600, 3)\n",
      "(1, 450, 600, 3)\n",
      "(1, 450, 600, 3)\n"
     ]
    },
    {
     "name": "stderr",
     "output_type": "stream",
     "text": [
      "\r",
      "71it [00:03, 19.68it/s]"
     ]
    },
    {
     "name": "stdout",
     "output_type": "stream",
     "text": [
      "(1, 450, 600, 3)\n",
      "(1, 450, 600, 3)\n",
      "(1, 450, 600, 3)\n",
      "(1, 450, 600, 3)\n"
     ]
    },
    {
     "name": "stderr",
     "output_type": "stream",
     "text": [
      "77it [00:03, 20.93it/s]"
     ]
    },
    {
     "name": "stdout",
     "output_type": "stream",
     "text": [
      "(1, 450, 600, 3)\n",
      "(1, 450, 600, 3)\n",
      "(1, 450, 600, 3)\n",
      "(1, 450, 600, 3)\n",
      "(1, 450, 600, 3)\n"
     ]
    },
    {
     "name": "stderr",
     "output_type": "stream",
     "text": [
      "83it [00:03, 22.02it/s]"
     ]
    },
    {
     "name": "stdout",
     "output_type": "stream",
     "text": [
      "(1, 450, 600, 3)\n",
      "(1, 450, 600, 3)\n",
      "(1, 450, 600, 3)\n",
      "(1, 450, 600, 3)\n",
      "(1, 450, 600, 3)\n"
     ]
    },
    {
     "name": "stderr",
     "output_type": "stream",
     "text": [
      "\r",
      "86it [00:04, 20.57it/s]"
     ]
    },
    {
     "name": "stdout",
     "output_type": "stream",
     "text": [
      "(1, 450, 600, 3)\n",
      "(1, 450, 600, 3)\n",
      "(1, 450, 600, 3)\n",
      "(1, 450, 600, 3)\n"
     ]
    },
    {
     "name": "stderr",
     "output_type": "stream",
     "text": [
      "92it [00:04, 21.35it/s]"
     ]
    },
    {
     "name": "stdout",
     "output_type": "stream",
     "text": [
      "(1, 450, 600, 3)\n",
      "(1, 450, 600, 3)\n",
      "(1, 450, 600, 3)\n",
      "(1, 450, 600, 3)\n",
      "(1, 450, 600, 3)\n"
     ]
    },
    {
     "name": "stderr",
     "output_type": "stream",
     "text": [
      "\r",
      "95it [00:04, 21.91it/s]"
     ]
    },
    {
     "name": "stdout",
     "output_type": "stream",
     "text": [
      "(1, 450, 600, 3)\n",
      "(1, 450, 600, 3)\n",
      "(1, 450, 600, 3)\n",
      "(1, 450, 600, 3)\n",
      "(1, 450, 600, 3)\n"
     ]
    },
    {
     "name": "stderr",
     "output_type": "stream",
     "text": [
      "101it [00:04, 22.56it/s]"
     ]
    },
    {
     "name": "stdout",
     "output_type": "stream",
     "text": [
      "(1, 450, 600, 3)\n",
      "(1, 450, 600, 3)\n",
      "(1, 450, 600, 3)\n",
      "(1, 450, 600, 3)\n",
      "(1, 450, 600, 3)\n"
     ]
    },
    {
     "name": "stderr",
     "output_type": "stream",
     "text": [
      "\r",
      "104it [00:04, 22.58it/s]"
     ]
    },
    {
     "name": "stdout",
     "output_type": "stream",
     "text": [
      "(1, 450, 600, 3)\n",
      "(1, 450, 600, 3)\n",
      "(1, 450, 600, 3)\n",
      "(1, 450, 600, 3)\n",
      "(1, 450, 600, 3)\n"
     ]
    },
    {
     "name": "stderr",
     "output_type": "stream",
     "text": [
      "110it [00:05, 22.14it/s]"
     ]
    },
    {
     "name": "stdout",
     "output_type": "stream",
     "text": [
      "(1, 450, 600, 3)\n",
      "(1, 450, 600, 3)\n",
      "(1, 450, 600, 3)\n",
      "(1, 450, 600, 3)\n",
      "(1, 450, 600, 3)\n"
     ]
    },
    {
     "name": "stderr",
     "output_type": "stream",
     "text": [
      "116it [00:05, 22.87it/s]"
     ]
    },
    {
     "name": "stdout",
     "output_type": "stream",
     "text": [
      "(1, 450, 600, 3)\n",
      "(1, 450, 600, 3)\n",
      "(1, 450, 600, 3)\n",
      "(1, 450, 600, 3)\n",
      "(1, 450, 600, 3)\n"
     ]
    },
    {
     "name": "stderr",
     "output_type": "stream",
     "text": [
      "\r",
      "119it [00:05, 22.90it/s]"
     ]
    },
    {
     "name": "stdout",
     "output_type": "stream",
     "text": [
      "(1, 450, 600, 3)\n",
      "(1, 450, 600, 3)\n",
      "(1, 450, 600, 3)\n",
      "(1, 450, 600, 3)\n",
      "(1, 450, 600, 3)\n"
     ]
    },
    {
     "name": "stderr",
     "output_type": "stream",
     "text": [
      "125it [00:05, 22.87it/s]"
     ]
    },
    {
     "name": "stdout",
     "output_type": "stream",
     "text": [
      "(1, 450, 600, 3)\n",
      "(1, 450, 600, 3)\n",
      "(1, 450, 600, 3)\n",
      "(1, 450, 600, 3)\n",
      "(1, 450, 600, 3)\n"
     ]
    },
    {
     "name": "stderr",
     "output_type": "stream",
     "text": [
      "131it [00:06, 22.67it/s]"
     ]
    },
    {
     "name": "stdout",
     "output_type": "stream",
     "text": [
      "(1, 450, 600, 3)\n",
      "(1, 450, 600, 3)\n",
      "(1, 450, 600, 3)\n",
      "(1, 450, 600, 3)\n",
      "(1, 450, 600, 3)\n"
     ]
    },
    {
     "name": "stderr",
     "output_type": "stream",
     "text": [
      "137it [00:06, 22.94it/s]"
     ]
    },
    {
     "name": "stdout",
     "output_type": "stream",
     "text": [
      "(1, 450, 600, 3)\n",
      "(1, 450, 600, 3)\n",
      "(1, 450, 600, 3)\n",
      "(1, 450, 600, 3)\n",
      "(1, 450, 600, 3)\n"
     ]
    },
    {
     "name": "stderr",
     "output_type": "stream",
     "text": [
      "\r",
      "140it [00:06, 22.75it/s]"
     ]
    },
    {
     "name": "stdout",
     "output_type": "stream",
     "text": [
      "(1, 450, 600, 3)\n",
      "(1, 450, 600, 3)\n",
      "(1, 450, 600, 3)\n",
      "(1, 450, 600, 3)\n",
      "(1, 450, 600, 3)\n"
     ]
    },
    {
     "name": "stderr",
     "output_type": "stream",
     "text": [
      "146it [00:06, 22.89it/s]"
     ]
    },
    {
     "name": "stdout",
     "output_type": "stream",
     "text": [
      "(1, 450, 600, 3)\n",
      "(1, 450, 600, 3)\n",
      "(1, 450, 600, 3)\n",
      "(1, 450, 600, 3)\n",
      "(1, 450, 600, 3)\n",
      "(1, 450, 600, 3)\n"
     ]
    },
    {
     "name": "stderr",
     "output_type": "stream",
     "text": [
      "152it [00:06, 22.44it/s]"
     ]
    },
    {
     "name": "stdout",
     "output_type": "stream",
     "text": [
      "(1, 450, 600, 3)\n",
      "(1, 450, 600, 3)\n",
      "(1, 450, 600, 3)\n",
      "(1, 450, 600, 3)\n",
      "(1, 450, 600, 3)\n"
     ]
    },
    {
     "name": "stderr",
     "output_type": "stream",
     "text": [
      "\r",
      "155it [00:07, 21.61it/s]"
     ]
    },
    {
     "name": "stdout",
     "output_type": "stream",
     "text": [
      "(1, 450, 600, 3)\n",
      "(1, 450, 600, 3)\n",
      "(1, 450, 600, 3)\n",
      "(1, 450, 600, 3)\n",
      "(1, 450, 600, 3)\n"
     ]
    },
    {
     "name": "stderr",
     "output_type": "stream",
     "text": [
      "161it [00:07, 22.28it/s]"
     ]
    },
    {
     "name": "stdout",
     "output_type": "stream",
     "text": [
      "(1, 450, 600, 3)\n",
      "(1, 450, 600, 3)\n",
      "(1, 450, 600, 3)\n",
      "(1, 450, 600, 3)\n"
     ]
    },
    {
     "name": "stderr",
     "output_type": "stream",
     "text": [
      "167it [00:07, 22.24it/s]"
     ]
    },
    {
     "name": "stdout",
     "output_type": "stream",
     "text": [
      "(1, 450, 600, 3)\n",
      "(1, 450, 600, 3)\n",
      "(1, 450, 600, 3)\n",
      "(1, 450, 600, 3)\n",
      "(1, 450, 600, 3)\n"
     ]
    },
    {
     "name": "stderr",
     "output_type": "stream",
     "text": [
      "\r",
      "170it [00:07, 22.55it/s]"
     ]
    },
    {
     "name": "stdout",
     "output_type": "stream",
     "text": [
      "(1, 450, 600, 3)\n",
      "(1, 450, 600, 3)\n",
      "(1, 450, 600, 3)\n",
      "(1, 450, 600, 3)\n",
      "(1, 450, 600, 3)\n"
     ]
    },
    {
     "name": "stderr",
     "output_type": "stream",
     "text": [
      "176it [00:08, 22.31it/s]"
     ]
    },
    {
     "name": "stdout",
     "output_type": "stream",
     "text": [
      "(1, 450, 600, 3)\n",
      "(1, 450, 600, 3)\n",
      "(1, 450, 600, 3)\n",
      "(1, 450, 600, 3)\n",
      "(1, 450, 600, 3)\n"
     ]
    },
    {
     "name": "stderr",
     "output_type": "stream",
     "text": [
      "\r",
      "179it [00:08, 22.53it/s]"
     ]
    },
    {
     "name": "stdout",
     "output_type": "stream",
     "text": [
      "(1, 450, 600, 3)\n",
      "(1, 450, 600, 3)\n",
      "(1, 450, 600, 3)\n",
      "(1, 450, 600, 3)\n",
      "(1, 450, 600, 3)\n"
     ]
    },
    {
     "name": "stderr",
     "output_type": "stream",
     "text": [
      "185it [00:08, 22.65it/s]"
     ]
    },
    {
     "name": "stdout",
     "output_type": "stream",
     "text": [
      "(1, 450, 600, 3)\n",
      "(1, 450, 600, 3)\n",
      "(1, 450, 600, 3)\n",
      "(1, 450, 600, 3)\n",
      "(1, 450, 600, 3)\n"
     ]
    },
    {
     "name": "stderr",
     "output_type": "stream",
     "text": [
      "191it [00:08, 20.50it/s]"
     ]
    },
    {
     "name": "stdout",
     "output_type": "stream",
     "text": [
      "(1, 450, 600, 3)\n",
      "(1, 450, 600, 3)\n",
      "(1, 450, 600, 3)\n",
      "(1, 450, 600, 3)\n"
     ]
    },
    {
     "name": "stderr",
     "output_type": "stream",
     "text": [
      "\r",
      "194it [00:08, 19.94it/s]"
     ]
    },
    {
     "name": "stdout",
     "output_type": "stream",
     "text": [
      "(1, 450, 600, 3)\n",
      "(1, 450, 600, 3)\n",
      "(1, 450, 600, 3)\n",
      "(1, 450, 600, 3)\n"
     ]
    },
    {
     "name": "stderr",
     "output_type": "stream",
     "text": [
      "199it [00:09, 18.57it/s]"
     ]
    },
    {
     "name": "stdout",
     "output_type": "stream",
     "text": [
      "(1, 450, 600, 3)\n",
      "(1, 450, 600, 3)\n",
      "(1, 450, 600, 3)\n",
      "(1, 450, 600, 3)\n"
     ]
    },
    {
     "name": "stderr",
     "output_type": "stream",
     "text": [
      "\r",
      "201it [00:09, 18.07it/s]"
     ]
    },
    {
     "name": "stdout",
     "output_type": "stream",
     "text": [
      "(1, 450, 600, 3)\n",
      "(1, 450, 600, 3)\n",
      "(1, 450, 600, 3)\n",
      "(1, 450, 600, 3)\n",
      "(1, 450, 600, 3)\n"
     ]
    },
    {
     "name": "stderr",
     "output_type": "stream",
     "text": [
      "207it [00:09, 20.10it/s]"
     ]
    },
    {
     "name": "stdout",
     "output_type": "stream",
     "text": [
      "(1, 450, 600, 3)\n",
      "(1, 450, 600, 3)\n",
      "(1, 450, 600, 3)\n",
      "(1, 450, 600, 3)\n",
      "(1, 450, 600, 3)\n"
     ]
    },
    {
     "name": "stderr",
     "output_type": "stream",
     "text": [
      "213it [00:09, 21.56it/s]"
     ]
    },
    {
     "name": "stdout",
     "output_type": "stream",
     "text": [
      "(1, 450, 600, 3)\n",
      "(1, 450, 600, 3)\n",
      "(1, 450, 600, 3)\n",
      "(1, 450, 600, 3)\n",
      "(1, 450, 600, 3)\n"
     ]
    },
    {
     "name": "stderr",
     "output_type": "stream",
     "text": [
      "219it [00:10, 21.85it/s]"
     ]
    },
    {
     "name": "stdout",
     "output_type": "stream",
     "text": [
      "(1, 450, 600, 3)\n",
      "(1, 450, 600, 3)\n",
      "(1, 450, 600, 3)\n",
      "(1, 450, 600, 3)\n",
      "(1, 450, 600, 3)\n"
     ]
    },
    {
     "name": "stderr",
     "output_type": "stream",
     "text": [
      "\r",
      "222it [00:10, 22.72it/s]"
     ]
    },
    {
     "name": "stdout",
     "output_type": "stream",
     "text": [
      "(1, 450, 600, 3)\n",
      "(1, 450, 600, 3)\n",
      "(1, 450, 600, 3)\n",
      "(1, 450, 600, 3)\n",
      "(1, 450, 600, 3)\n"
     ]
    },
    {
     "name": "stderr",
     "output_type": "stream",
     "text": [
      "228it [00:10, 23.41it/s]"
     ]
    },
    {
     "name": "stdout",
     "output_type": "stream",
     "text": [
      "(1, 450, 600, 3)\n",
      "(1, 450, 600, 3)\n",
      "(1, 450, 600, 3)\n",
      "(1, 450, 600, 3)\n",
      "(1, 450, 600, 3)\n"
     ]
    },
    {
     "name": "stderr",
     "output_type": "stream",
     "text": [
      "234it [00:10, 23.26it/s]"
     ]
    },
    {
     "name": "stdout",
     "output_type": "stream",
     "text": [
      "(1, 450, 600, 3)\n",
      "(1, 450, 600, 3)\n",
      "(1, 450, 600, 3)\n",
      "(1, 450, 600, 3)\n",
      "(1, 450, 600, 3)\n"
     ]
    },
    {
     "name": "stderr",
     "output_type": "stream",
     "text": [
      "\r",
      "237it [00:10, 23.18it/s]"
     ]
    },
    {
     "name": "stdout",
     "output_type": "stream",
     "text": [
      "(1, 450, 600, 3)\n",
      "(1, 450, 600, 3)\n",
      "(1, 450, 600, 3)\n",
      "(1, 450, 600, 3)\n",
      "(1, 450, 600, 3)\n"
     ]
    },
    {
     "name": "stderr",
     "output_type": "stream",
     "text": [
      "243it [00:11, 22.75it/s]"
     ]
    },
    {
     "name": "stdout",
     "output_type": "stream",
     "text": [
      "(1, 450, 600, 3)\n",
      "(1, 450, 600, 3)\n",
      "(1, 450, 600, 3)\n",
      "(1, 450, 600, 3)\n",
      "(1, 450, 600, 3)\n"
     ]
    },
    {
     "name": "stderr",
     "output_type": "stream",
     "text": [
      "\r",
      "246it [00:11, 22.36it/s]"
     ]
    },
    {
     "name": "stdout",
     "output_type": "stream",
     "text": [
      "(1, 450, 600, 3)\n",
      "(1, 450, 600, 3)\n",
      "(1, 450, 600, 3)\n",
      "(1, 450, 600, 3)\n",
      "(1, 450, 600, 3)\n"
     ]
    },
    {
     "name": "stderr",
     "output_type": "stream",
     "text": [
      "252it [00:11, 22.54it/s]"
     ]
    },
    {
     "name": "stdout",
     "output_type": "stream",
     "text": [
      "(1, 450, 600, 3)\n",
      "(1, 450, 600, 3)\n",
      "(1, 450, 600, 3)\n",
      "(1, 450, 600, 3)\n",
      "(1, 450, 600, 3)\n"
     ]
    },
    {
     "name": "stderr",
     "output_type": "stream",
     "text": [
      "258it [00:11, 23.37it/s]"
     ]
    },
    {
     "name": "stdout",
     "output_type": "stream",
     "text": [
      "(1, 450, 600, 3)\n",
      "(1, 450, 600, 3)\n",
      "(1, 450, 600, 3)\n",
      "(1, 450, 600, 3)\n",
      "(1, 450, 600, 3)\n"
     ]
    },
    {
     "name": "stderr",
     "output_type": "stream",
     "text": [
      "264it [00:12, 23.77it/s]"
     ]
    },
    {
     "name": "stdout",
     "output_type": "stream",
     "text": [
      "(1, 450, 600, 3)\n",
      "(1, 450, 600, 3)\n",
      "(1, 450, 600, 3)\n",
      "(1, 450, 600, 3)\n",
      "(1, 450, 600, 3)\n"
     ]
    },
    {
     "name": "stderr",
     "output_type": "stream",
     "text": [
      "\r",
      "267it [00:12, 23.56it/s]"
     ]
    },
    {
     "name": "stdout",
     "output_type": "stream",
     "text": [
      "(1, 450, 600, 3)\n",
      "(1, 450, 600, 3)\n",
      "(1, 450, 600, 3)\n",
      "(1, 450, 600, 3)\n",
      "(1, 450, 600, 3)\n"
     ]
    },
    {
     "name": "stderr",
     "output_type": "stream",
     "text": [
      "273it [00:12, 23.46it/s]"
     ]
    },
    {
     "name": "stdout",
     "output_type": "stream",
     "text": [
      "(1, 450, 600, 3)\n",
      "(1, 450, 600, 3)\n",
      "(1, 450, 600, 3)\n",
      "(1, 450, 600, 3)\n",
      "(1, 450, 600, 3)\n",
      "(1, 450, 600, 3)\n"
     ]
    },
    {
     "name": "stderr",
     "output_type": "stream",
     "text": [
      "279it [00:12, 23.79it/s]"
     ]
    },
    {
     "name": "stdout",
     "output_type": "stream",
     "text": [
      "(1, 450, 600, 3)\n",
      "(1, 450, 600, 3)\n",
      "(1, 450, 600, 3)\n",
      "(1, 450, 600, 3)\n",
      "(1, 450, 600, 3)\n"
     ]
    },
    {
     "name": "stderr",
     "output_type": "stream",
     "text": [
      "\r",
      "282it [00:12, 22.03it/s]"
     ]
    },
    {
     "name": "stdout",
     "output_type": "stream",
     "text": [
      "(1, 450, 600, 3)\n",
      "(1, 450, 600, 3)\n",
      "(1, 450, 600, 3)\n",
      "(1, 450, 600, 3)\n"
     ]
    },
    {
     "name": "stderr",
     "output_type": "stream",
     "text": [
      "288it [00:13, 22.69it/s]"
     ]
    },
    {
     "name": "stdout",
     "output_type": "stream",
     "text": [
      "(1, 450, 600, 3)\n",
      "(1, 450, 600, 3)\n",
      "(1, 450, 600, 3)\n",
      "(1, 450, 600, 3)\n",
      "(1, 450, 600, 3)\n"
     ]
    },
    {
     "name": "stderr",
     "output_type": "stream",
     "text": [
      "\r",
      "291it [00:13, 22.33it/s]"
     ]
    },
    {
     "name": "stdout",
     "output_type": "stream",
     "text": [
      "(1, 450, 600, 3)\n",
      "(1, 450, 600, 3)\n",
      "(1, 450, 600, 3)\n",
      "(1, 450, 600, 3)\n",
      "(1, 450, 600, 3)\n"
     ]
    },
    {
     "name": "stderr",
     "output_type": "stream",
     "text": [
      "297it [00:13, 21.52it/s]"
     ]
    },
    {
     "name": "stdout",
     "output_type": "stream",
     "text": [
      "(1, 450, 600, 3)\n",
      "(1, 450, 600, 3)\n",
      "(1, 450, 600, 3)\n",
      "(1, 450, 600, 3)\n",
      "(1, 450, 600, 3)\n"
     ]
    },
    {
     "name": "stderr",
     "output_type": "stream",
     "text": [
      "303it [00:13, 21.03it/s]"
     ]
    },
    {
     "name": "stdout",
     "output_type": "stream",
     "text": [
      "(1, 450, 600, 3)\n",
      "(1, 450, 600, 3)\n",
      "(1, 450, 600, 3)\n",
      "(1, 450, 600, 3)\n",
      "(1, 450, 600, 3)\n"
     ]
    },
    {
     "name": "stderr",
     "output_type": "stream",
     "text": [
      "\r",
      "306it [00:14, 20.71it/s]"
     ]
    },
    {
     "name": "stdout",
     "output_type": "stream",
     "text": [
      "(1, 450, 600, 3)\n",
      "(1, 450, 600, 3)\n",
      "(1, 450, 600, 3)\n",
      "(1, 450, 600, 3)\n",
      "(1, 450, 600, 3)\n"
     ]
    },
    {
     "name": "stderr",
     "output_type": "stream",
     "text": [
      "312it [00:14, 21.85it/s]"
     ]
    },
    {
     "name": "stdout",
     "output_type": "stream",
     "text": [
      "(1, 450, 600, 3)\n",
      "(1, 450, 600, 3)\n",
      "(1, 450, 600, 3)\n",
      "(1, 450, 600, 3)\n",
      "(1, 450, 600, 3)\n"
     ]
    },
    {
     "name": "stderr",
     "output_type": "stream",
     "text": [
      "318it [00:14, 21.63it/s]"
     ]
    },
    {
     "name": "stdout",
     "output_type": "stream",
     "text": [
      "(1, 450, 600, 3)\n",
      "(1, 450, 600, 3)\n",
      "(1, 450, 600, 3)\n",
      "(1, 450, 600, 3)\n",
      "(1, 450, 600, 3)\n"
     ]
    },
    {
     "name": "stderr",
     "output_type": "stream",
     "text": [
      "324it [00:14, 22.16it/s]"
     ]
    },
    {
     "name": "stdout",
     "output_type": "stream",
     "text": [
      "(1, 450, 600, 3)\n",
      "(1, 450, 600, 3)\n",
      "(1, 450, 600, 3)\n",
      "(1, 450, 600, 3)\n",
      "(1, 450, 600, 3)\n"
     ]
    },
    {
     "name": "stderr",
     "output_type": "stream",
     "text": [
      "\r",
      "327it [00:14, 22.47it/s]"
     ]
    },
    {
     "name": "stdout",
     "output_type": "stream",
     "text": [
      "(1, 450, 600, 3)\n",
      "(1, 450, 600, 3)\n",
      "(1, 450, 600, 3)\n",
      "(1, 450, 600, 3)\n",
      "(1, 450, 600, 3)\n"
     ]
    },
    {
     "name": "stderr",
     "output_type": "stream",
     "text": [
      "333it [00:15, 23.72it/s]"
     ]
    },
    {
     "name": "stdout",
     "output_type": "stream",
     "text": [
      "(1, 450, 600, 3)\n",
      "(1, 450, 600, 3)\n",
      "(1, 450, 600, 3)\n",
      "(1, 450, 600, 3)\n",
      "(1, 450, 600, 3)\n"
     ]
    },
    {
     "name": "stderr",
     "output_type": "stream",
     "text": [
      "\r",
      "336it [00:15, 23.52it/s]"
     ]
    },
    {
     "name": "stdout",
     "output_type": "stream",
     "text": [
      "(1, 450, 600, 3)\n",
      "(1, 450, 600, 3)\n",
      "(1, 450, 600, 3)\n",
      "(1, 450, 600, 3)\n",
      "(1, 450, 600, 3)\n"
     ]
    },
    {
     "name": "stderr",
     "output_type": "stream",
     "text": [
      "342it [00:15, 23.17it/s]"
     ]
    },
    {
     "name": "stdout",
     "output_type": "stream",
     "text": [
      "(1, 450, 600, 3)\n",
      "(1, 450, 600, 3)\n",
      "(1, 450, 600, 3)\n",
      "(1, 450, 600, 3)\n",
      "(1, 450, 600, 3)\n"
     ]
    },
    {
     "name": "stderr",
     "output_type": "stream",
     "text": [
      "348it [00:15, 22.47it/s]"
     ]
    },
    {
     "name": "stdout",
     "output_type": "stream",
     "text": [
      "(1, 450, 600, 3)\n",
      "(1, 450, 600, 3)\n",
      "(1, 450, 600, 3)\n",
      "(1, 450, 600, 3)\n",
      "(1, 450, 600, 3)\n"
     ]
    },
    {
     "name": "stderr",
     "output_type": "stream",
     "text": [
      "354it [00:16, 22.91it/s]"
     ]
    },
    {
     "name": "stdout",
     "output_type": "stream",
     "text": [
      "(1, 450, 600, 3)\n",
      "(1, 450, 600, 3)\n",
      "(1, 450, 600, 3)\n",
      "(1, 450, 600, 3)\n",
      "(1, 450, 600, 3)\n"
     ]
    },
    {
     "name": "stderr",
     "output_type": "stream",
     "text": [
      "\r",
      "357it [00:16, 23.45it/s]"
     ]
    },
    {
     "name": "stdout",
     "output_type": "stream",
     "text": [
      "(1, 450, 600, 3)\n",
      "(1, 450, 600, 3)\n",
      "(1, 450, 600, 3)\n",
      "(1, 450, 600, 3)\n",
      "(1, 450, 600, 3)\n"
     ]
    },
    {
     "name": "stderr",
     "output_type": "stream",
     "text": [
      "363it [00:16, 23.36it/s]"
     ]
    },
    {
     "name": "stdout",
     "output_type": "stream",
     "text": [
      "(1, 450, 600, 3)\n",
      "(1, 450, 600, 3)\n",
      "(1, 450, 600, 3)\n",
      "(1, 450, 600, 3)\n",
      "(1, 450, 600, 3)\n"
     ]
    },
    {
     "name": "stderr",
     "output_type": "stream",
     "text": [
      "369it [00:16, 23.69it/s]"
     ]
    },
    {
     "name": "stdout",
     "output_type": "stream",
     "text": [
      "(1, 450, 600, 3)\n",
      "(1, 450, 600, 3)\n",
      "(1, 450, 600, 3)\n",
      "(1, 450, 600, 3)\n",
      "(1, 450, 600, 3)\n"
     ]
    },
    {
     "name": "stderr",
     "output_type": "stream",
     "text": [
      "\r",
      "372it [00:16, 22.96it/s]"
     ]
    },
    {
     "name": "stdout",
     "output_type": "stream",
     "text": [
      "(1, 450, 600, 3)\n",
      "(1, 450, 600, 3)\n",
      "(1, 450, 600, 3)\n",
      "(1, 450, 600, 3)\n",
      "(1, 450, 600, 3)\n"
     ]
    },
    {
     "name": "stderr",
     "output_type": "stream",
     "text": [
      "378it [00:17, 22.99it/s]"
     ]
    },
    {
     "name": "stdout",
     "output_type": "stream",
     "text": [
      "(1, 450, 600, 3)\n",
      "(1, 450, 600, 3)\n",
      "(1, 450, 600, 3)\n",
      "(1, 450, 600, 3)\n",
      "(1, 450, 600, 3)\n"
     ]
    },
    {
     "name": "stderr",
     "output_type": "stream",
     "text": [
      "384it [00:17, 23.01it/s]"
     ]
    },
    {
     "name": "stdout",
     "output_type": "stream",
     "text": [
      "(1, 450, 600, 3)\n",
      "(1, 450, 600, 3)\n",
      "(1, 450, 600, 3)\n",
      "(1, 450, 600, 3)\n",
      "(1, 450, 600, 3)\n"
     ]
    },
    {
     "name": "stderr",
     "output_type": "stream",
     "text": [
      "\r",
      "387it [00:17, 23.62it/s]"
     ]
    },
    {
     "name": "stdout",
     "output_type": "stream",
     "text": [
      "(1, 450, 600, 3)\n",
      "(1, 450, 600, 3)\n",
      "(1, 450, 600, 3)\n",
      "(1, 450, 600, 3)\n",
      "(1, 450, 600, 3)\n"
     ]
    },
    {
     "name": "stderr",
     "output_type": "stream",
     "text": [
      "393it [00:17, 23.19it/s]"
     ]
    },
    {
     "name": "stdout",
     "output_type": "stream",
     "text": [
      "(1, 450, 600, 3)\n",
      "(1, 450, 600, 3)\n",
      "(1, 450, 600, 3)\n",
      "(1, 450, 600, 3)\n",
      "(1, 450, 600, 3)\n"
     ]
    },
    {
     "name": "stderr",
     "output_type": "stream",
     "text": [
      "\r",
      "396it [00:17, 21.65it/s]"
     ]
    },
    {
     "name": "stdout",
     "output_type": "stream",
     "text": [
      "(1, 450, 600, 3)\n",
      "(1, 450, 600, 3)\n",
      "(1, 450, 600, 3)\n",
      "(1, 450, 600, 3)\n"
     ]
    },
    {
     "name": "stderr",
     "output_type": "stream",
     "text": [
      "402it [00:18, 21.04it/s]"
     ]
    },
    {
     "name": "stdout",
     "output_type": "stream",
     "text": [
      "(1, 450, 600, 3)\n",
      "(1, 450, 600, 3)\n",
      "(1, 450, 600, 3)\n",
      "(1, 450, 600, 3)\n",
      "(1, 450, 600, 3)\n"
     ]
    },
    {
     "name": "stderr",
     "output_type": "stream",
     "text": [
      "408it [00:18, 22.03it/s]"
     ]
    },
    {
     "name": "stdout",
     "output_type": "stream",
     "text": [
      "(1, 450, 600, 3)\n",
      "(1, 450, 600, 3)\n",
      "(1, 450, 600, 3)\n",
      "(1, 450, 600, 3)\n",
      "(1, 450, 600, 3)\n"
     ]
    },
    {
     "name": "stderr",
     "output_type": "stream",
     "text": [
      "\r",
      "411it [00:18, 22.33it/s]"
     ]
    },
    {
     "name": "stdout",
     "output_type": "stream",
     "text": [
      "(1, 450, 600, 3)\n",
      "(1, 450, 600, 3)\n",
      "(1, 450, 600, 3)\n",
      "(1, 450, 600, 3)\n",
      "(1, 450, 600, 3)\n"
     ]
    },
    {
     "name": "stderr",
     "output_type": "stream",
     "text": [
      "417it [00:18, 23.07it/s]"
     ]
    },
    {
     "name": "stdout",
     "output_type": "stream",
     "text": [
      "(1, 450, 600, 3)\n",
      "(1, 450, 600, 3)\n",
      "(1, 450, 600, 3)\n",
      "(1, 450, 600, 3)\n",
      "(1, 450, 600, 3)\n"
     ]
    },
    {
     "name": "stderr",
     "output_type": "stream",
     "text": [
      "423it [00:19, 23.45it/s]"
     ]
    },
    {
     "name": "stdout",
     "output_type": "stream",
     "text": [
      "(1, 450, 600, 3)\n",
      "(1, 450, 600, 3)\n",
      "(1, 450, 600, 3)\n",
      "(1, 450, 600, 3)\n",
      "(1, 450, 600, 3)\n"
     ]
    },
    {
     "name": "stderr",
     "output_type": "stream",
     "text": [
      "\r",
      "426it [00:19, 23.34it/s]"
     ]
    },
    {
     "name": "stdout",
     "output_type": "stream",
     "text": [
      "(1, 450, 600, 3)\n",
      "(1, 450, 600, 3)\n",
      "(1, 450, 600, 3)\n",
      "(1, 450, 600, 3)\n",
      "(1, 450, 600, 3)\n"
     ]
    },
    {
     "name": "stderr",
     "output_type": "stream",
     "text": [
      "432it [00:19, 22.45it/s]"
     ]
    },
    {
     "name": "stdout",
     "output_type": "stream",
     "text": [
      "(1, 450, 600, 3)\n",
      "(1, 450, 600, 3)\n",
      "(1, 450, 600, 3)\n",
      "(1, 450, 600, 3)\n",
      "(1, 450, 600, 3)\n"
     ]
    },
    {
     "name": "stderr",
     "output_type": "stream",
     "text": [
      "438it [00:19, 23.31it/s]"
     ]
    },
    {
     "name": "stdout",
     "output_type": "stream",
     "text": [
      "(1, 450, 600, 3)\n",
      "(1, 450, 600, 3)\n",
      "(1, 450, 600, 3)\n",
      "(1, 450, 600, 3)\n",
      "(1, 450, 600, 3)\n"
     ]
    },
    {
     "name": "stderr",
     "output_type": "stream",
     "text": [
      "\r",
      "441it [00:19, 23.21it/s]"
     ]
    },
    {
     "name": "stdout",
     "output_type": "stream",
     "text": [
      "(1, 450, 600, 3)\n",
      "(1, 450, 600, 3)\n",
      "(1, 450, 600, 3)\n",
      "(1, 450, 600, 3)\n",
      "(1, 450, 600, 3)\n",
      "(1, 450, 600, 3)\n"
     ]
    },
    {
     "name": "stderr",
     "output_type": "stream",
     "text": [
      "447it [00:20, 23.17it/s]"
     ]
    },
    {
     "name": "stdout",
     "output_type": "stream",
     "text": [
      "(1, 450, 600, 3)\n",
      "(1, 450, 600, 3)\n",
      "(1, 450, 600, 3)\n",
      "(1, 450, 600, 3)\n",
      "(1, 450, 600, 3)\n"
     ]
    },
    {
     "name": "stderr",
     "output_type": "stream",
     "text": [
      "453it [00:20, 22.60it/s]"
     ]
    },
    {
     "name": "stdout",
     "output_type": "stream",
     "text": [
      "(1, 450, 600, 3)\n",
      "(1, 450, 600, 3)\n",
      "(1, 450, 600, 3)\n",
      "(1, 450, 600, 3)\n",
      "(1, 450, 600, 3)\n"
     ]
    },
    {
     "name": "stderr",
     "output_type": "stream",
     "text": [
      "459it [00:20, 22.84it/s]"
     ]
    },
    {
     "name": "stdout",
     "output_type": "stream",
     "text": [
      "(1, 450, 600, 3)\n",
      "(1, 450, 600, 3)\n",
      "(1, 450, 600, 3)\n",
      "(1, 450, 600, 3)\n",
      "(1, 450, 600, 3)\n"
     ]
    },
    {
     "name": "stderr",
     "output_type": "stream",
     "text": [
      "\r",
      "462it [00:20, 22.91it/s]"
     ]
    },
    {
     "name": "stdout",
     "output_type": "stream",
     "text": [
      "(1, 450, 600, 3)\n",
      "(1, 450, 600, 3)\n",
      "(1, 450, 600, 3)\n",
      "(1, 450, 600, 3)\n",
      "(1, 450, 600, 3)\n"
     ]
    },
    {
     "name": "stderr",
     "output_type": "stream",
     "text": [
      "468it [00:21, 23.37it/s]"
     ]
    },
    {
     "name": "stdout",
     "output_type": "stream",
     "text": [
      "(1, 450, 600, 3)\n",
      "(1, 450, 600, 3)\n",
      "(1, 450, 600, 3)\n",
      "(1, 450, 600, 3)\n",
      "(1, 450, 600, 3)\n"
     ]
    },
    {
     "name": "stderr",
     "output_type": "stream",
     "text": [
      "\r",
      "471it [00:21, 22.25it/s]"
     ]
    },
    {
     "name": "stdout",
     "output_type": "stream",
     "text": [
      "(1, 450, 600, 3)\n",
      "(1, 450, 600, 3)\n",
      "(1, 450, 600, 3)\n",
      "(1, 450, 600, 3)\n"
     ]
    },
    {
     "name": "stderr",
     "output_type": "stream",
     "text": [
      "477it [00:21, 21.80it/s]"
     ]
    },
    {
     "name": "stdout",
     "output_type": "stream",
     "text": [
      "(1, 450, 600, 3)\n",
      "(1, 450, 600, 3)\n",
      "(1, 450, 600, 3)\n",
      "(1, 450, 600, 3)\n",
      "(1, 450, 600, 3)\n"
     ]
    },
    {
     "name": "stderr",
     "output_type": "stream",
     "text": [
      "483it [00:21, 22.45it/s]"
     ]
    },
    {
     "name": "stdout",
     "output_type": "stream",
     "text": [
      "(1, 450, 600, 3)\n",
      "(1, 450, 600, 3)\n",
      "(1, 450, 600, 3)\n",
      "(1, 450, 600, 3)\n",
      "(1, 450, 600, 3)\n"
     ]
    },
    {
     "name": "stderr",
     "output_type": "stream",
     "text": [
      "\r",
      "486it [00:21, 22.63it/s]"
     ]
    },
    {
     "name": "stdout",
     "output_type": "stream",
     "text": [
      "(1, 450, 600, 3)\n",
      "(1, 450, 600, 3)\n",
      "(1, 450, 600, 3)\n",
      "(1, 450, 600, 3)\n",
      "(1, 450, 600, 3)\n"
     ]
    },
    {
     "name": "stderr",
     "output_type": "stream",
     "text": [
      "492it [00:22, 21.67it/s]"
     ]
    },
    {
     "name": "stdout",
     "output_type": "stream",
     "text": [
      "(1, 450, 600, 3)\n",
      "(1, 450, 600, 3)\n",
      "(1, 450, 600, 3)\n",
      "(1, 450, 600, 3)\n",
      "(1, 450, 600, 3)\n"
     ]
    },
    {
     "name": "stderr",
     "output_type": "stream",
     "text": [
      "498it [00:22, 22.22it/s]"
     ]
    },
    {
     "name": "stdout",
     "output_type": "stream",
     "text": [
      "(1, 450, 600, 3)\n",
      "(1, 450, 600, 3)\n",
      "(1, 450, 600, 3)\n",
      "(1, 450, 600, 3)\n",
      "(1, 450, 600, 3)\n"
     ]
    },
    {
     "name": "stderr",
     "output_type": "stream",
     "text": [
      "\r",
      "501it [00:22, 21.50it/s]"
     ]
    },
    {
     "name": "stdout",
     "output_type": "stream",
     "text": [
      "(1, 450, 600, 3)\n",
      "(1, 450, 600, 3)\n",
      "(1, 450, 600, 3)\n",
      "(1, 450, 600, 3)\n",
      "(1, 450, 600, 3)\n"
     ]
    },
    {
     "name": "stderr",
     "output_type": "stream",
     "text": [
      "507it [00:22, 21.60it/s]"
     ]
    },
    {
     "name": "stdout",
     "output_type": "stream",
     "text": [
      "(1, 450, 600, 3)\n",
      "(1, 450, 600, 3)\n",
      "(1, 450, 600, 3)\n",
      "(1, 450, 600, 3)\n",
      "(1, 450, 600, 3)\n"
     ]
    },
    {
     "name": "stderr",
     "output_type": "stream",
     "text": [
      "\r",
      "510it [00:23, 22.00it/s]"
     ]
    },
    {
     "name": "stdout",
     "output_type": "stream",
     "text": [
      "(1, 450, 600, 3)\n",
      "(1, 450, 600, 3)\n",
      "(1, 450, 600, 3)\n",
      "(1, 450, 600, 3)\n",
      "(1, 450, 600, 3)\n"
     ]
    },
    {
     "name": "stderr",
     "output_type": "stream",
     "text": [
      "516it [00:23, 21.40it/s]"
     ]
    },
    {
     "name": "stdout",
     "output_type": "stream",
     "text": [
      "(1, 450, 600, 3)\n",
      "(1, 450, 600, 3)\n",
      "(1, 450, 600, 3)\n",
      "(1, 450, 600, 3)\n",
      "(1, 450, 600, 3)\n"
     ]
    },
    {
     "name": "stderr",
     "output_type": "stream",
     "text": [
      "522it [00:23, 22.20it/s]"
     ]
    },
    {
     "name": "stdout",
     "output_type": "stream",
     "text": [
      "(1, 450, 600, 3)\n",
      "(1, 450, 600, 3)\n",
      "(1, 450, 600, 3)\n",
      "(1, 450, 600, 3)\n",
      "(1, 450, 600, 3)\n"
     ]
    },
    {
     "name": "stderr",
     "output_type": "stream",
     "text": [
      "528it [00:23, 22.65it/s]"
     ]
    },
    {
     "name": "stdout",
     "output_type": "stream",
     "text": [
      "(1, 450, 600, 3)\n",
      "(1, 450, 600, 3)\n",
      "(1, 450, 600, 3)\n",
      "(1, 450, 600, 3)\n",
      "(1, 450, 600, 3)\n",
      "(1, 450, 600, 3)\n"
     ]
    },
    {
     "name": "stderr",
     "output_type": "stream",
     "text": [
      "534it [00:24, 22.87it/s]"
     ]
    },
    {
     "name": "stdout",
     "output_type": "stream",
     "text": [
      "(1, 450, 600, 3)\n",
      "(1, 450, 600, 3)\n",
      "(1, 450, 600, 3)\n",
      "(1, 450, 600, 3)\n",
      "(1, 450, 600, 3)\n"
     ]
    },
    {
     "name": "stderr",
     "output_type": "stream",
     "text": [
      "\r",
      "537it [00:24, 22.42it/s]"
     ]
    },
    {
     "name": "stdout",
     "output_type": "stream",
     "text": [
      "(1, 450, 600, 3)\n",
      "(1, 450, 600, 3)\n",
      "(1, 450, 600, 3)\n",
      "(1, 450, 600, 3)\n",
      "(1, 450, 600, 3)\n"
     ]
    },
    {
     "name": "stderr",
     "output_type": "stream",
     "text": [
      "543it [00:24, 22.24it/s]"
     ]
    },
    {
     "name": "stdout",
     "output_type": "stream",
     "text": [
      "(1, 450, 600, 3)\n",
      "(1, 450, 600, 3)\n",
      "(1, 450, 600, 3)\n",
      "(1, 450, 600, 3)\n",
      "(1, 450, 600, 3)\n"
     ]
    },
    {
     "name": "stderr",
     "output_type": "stream",
     "text": [
      "549it [00:24, 23.03it/s]"
     ]
    },
    {
     "name": "stdout",
     "output_type": "stream",
     "text": [
      "(1, 450, 600, 3)\n",
      "(1, 450, 600, 3)\n",
      "(1, 450, 600, 3)\n",
      "(1, 450, 600, 3)\n",
      "(1, 450, 600, 3)\n"
     ]
    },
    {
     "name": "stderr",
     "output_type": "stream",
     "text": [
      "\r",
      "552it [00:24, 23.00it/s]"
     ]
    },
    {
     "name": "stdout",
     "output_type": "stream",
     "text": [
      "(1, 450, 600, 3)\n",
      "(1, 450, 600, 3)\n",
      "(1, 450, 600, 3)\n",
      "(1, 450, 600, 3)\n",
      "(1, 450, 600, 3)\n"
     ]
    },
    {
     "name": "stderr",
     "output_type": "stream",
     "text": [
      "558it [00:25, 23.17it/s]"
     ]
    },
    {
     "name": "stdout",
     "output_type": "stream",
     "text": [
      "(1, 450, 600, 3)\n",
      "(1, 450, 600, 3)\n",
      "(1, 450, 600, 3)\n",
      "(1, 450, 600, 3)\n",
      "(1, 450, 600, 3)\n"
     ]
    },
    {
     "name": "stderr",
     "output_type": "stream",
     "text": [
      "\r",
      "561it [00:25, 22.58it/s]"
     ]
    },
    {
     "name": "stdout",
     "output_type": "stream",
     "text": [
      "(1, 450, 600, 3)\n",
      "(1, 450, 600, 3)\n",
      "(1, 450, 600, 3)\n",
      "(1, 450, 600, 3)\n"
     ]
    },
    {
     "name": "stderr",
     "output_type": "stream",
     "text": [
      "567it [00:25, 20.17it/s]"
     ]
    },
    {
     "name": "stdout",
     "output_type": "stream",
     "text": [
      "(1, 450, 600, 3)\n",
      "(1, 450, 600, 3)\n",
      "(1, 450, 600, 3)\n",
      "(1, 450, 600, 3)\n"
     ]
    },
    {
     "name": "stderr",
     "output_type": "stream",
     "text": [
      "\r",
      "570it [00:25, 19.72it/s]"
     ]
    },
    {
     "name": "stdout",
     "output_type": "stream",
     "text": [
      "(1, 450, 600, 3)\n",
      "(1, 450, 600, 3)\n",
      "(1, 450, 600, 3)\n",
      "(1, 450, 600, 3)\n"
     ]
    },
    {
     "name": "stderr",
     "output_type": "stream",
     "text": [
      "574it [00:25, 19.82it/s]"
     ]
    },
    {
     "name": "stdout",
     "output_type": "stream",
     "text": [
      "(1, 450, 600, 3)\n",
      "(1, 450, 600, 3)\n",
      "(1, 450, 600, 3)\n",
      "(1, 450, 600, 3)\n",
      "(1, 450, 600, 3)\n"
     ]
    },
    {
     "name": "stderr",
     "output_type": "stream",
     "text": [
      "580it [00:26, 19.65it/s]"
     ]
    },
    {
     "name": "stdout",
     "output_type": "stream",
     "text": [
      "(1, 450, 600, 3)\n",
      "(1, 450, 600, 3)\n",
      "(1, 450, 600, 3)\n",
      "(1, 450, 600, 3)\n"
     ]
    },
    {
     "name": "stderr",
     "output_type": "stream",
     "text": [
      "584it [00:26, 19.79it/s]"
     ]
    },
    {
     "name": "stdout",
     "output_type": "stream",
     "text": [
      "(1, 450, 600, 3)\n",
      "(1, 450, 600, 3)\n",
      "(1, 450, 600, 3)\n",
      "(1, 450, 600, 3)\n",
      "(1, 450, 600, 3)\n"
     ]
    },
    {
     "name": "stderr",
     "output_type": "stream",
     "text": [
      "589it [00:26, 21.42it/s]"
     ]
    },
    {
     "name": "stdout",
     "output_type": "stream",
     "text": [
      "(1, 450, 600, 3)\n",
      "(1, 450, 600, 3)\n",
      "(1, 450, 600, 3)\n",
      "(1, 450, 600, 3)\n",
      "(1, 450, 600, 3)\n",
      "(1, 450, 600, 3)\n"
     ]
    },
    {
     "name": "stderr",
     "output_type": "stream",
     "text": [
      "595it [00:26, 22.30it/s]"
     ]
    },
    {
     "name": "stdout",
     "output_type": "stream",
     "text": [
      "(1, 450, 600, 3)\n",
      "(1, 450, 600, 3)\n",
      "(1, 450, 600, 3)\n",
      "(1, 450, 600, 3)\n",
      "(1, 450, 600, 3)\n"
     ]
    },
    {
     "name": "stderr",
     "output_type": "stream",
     "text": [
      "\r",
      "598it [00:27, 22.00it/s]"
     ]
    },
    {
     "name": "stdout",
     "output_type": "stream",
     "text": [
      "(1, 450, 600, 3)\n",
      "(1, 450, 600, 3)\n",
      "(1, 450, 600, 3)\n",
      "(1, 450, 600, 3)\n"
     ]
    },
    {
     "name": "stderr",
     "output_type": "stream",
     "text": [
      "604it [00:27, 21.31it/s]"
     ]
    },
    {
     "name": "stdout",
     "output_type": "stream",
     "text": [
      "(1, 450, 600, 3)\n",
      "(1, 450, 600, 3)\n",
      "(1, 450, 600, 3)\n",
      "(1, 450, 600, 3)\n",
      "(1, 450, 600, 3)\n"
     ]
    },
    {
     "name": "stderr",
     "output_type": "stream",
     "text": [
      "\r",
      "607it [00:27, 21.29it/s]"
     ]
    },
    {
     "name": "stdout",
     "output_type": "stream",
     "text": [
      "(1, 450, 600, 3)\n",
      "(1, 450, 600, 3)\n",
      "(1, 450, 600, 3)\n",
      "(1, 450, 600, 3)\n",
      "(1, 450, 600, 3)\n"
     ]
    },
    {
     "name": "stderr",
     "output_type": "stream",
     "text": [
      "613it [00:27, 21.54it/s]"
     ]
    },
    {
     "name": "stdout",
     "output_type": "stream",
     "text": [
      "(1, 450, 600, 3)\n",
      "(1, 450, 600, 3)\n",
      "(1, 450, 600, 3)\n",
      "(1, 450, 600, 3)\n",
      "(1, 450, 600, 3)\n"
     ]
    },
    {
     "name": "stderr",
     "output_type": "stream",
     "text": [
      "619it [00:28, 21.76it/s]"
     ]
    },
    {
     "name": "stdout",
     "output_type": "stream",
     "text": [
      "(1, 450, 600, 3)\n",
      "(1, 450, 600, 3)\n",
      "(1, 450, 600, 3)\n",
      "(1, 450, 600, 3)\n",
      "(1, 450, 600, 3)\n"
     ]
    },
    {
     "name": "stderr",
     "output_type": "stream",
     "text": [
      "625it [00:28, 22.79it/s]"
     ]
    },
    {
     "name": "stdout",
     "output_type": "stream",
     "text": [
      "(1, 450, 600, 3)\n",
      "(1, 450, 600, 3)\n",
      "(1, 450, 600, 3)\n",
      "(1, 450, 600, 3)\n",
      "(1, 450, 600, 3)\n"
     ]
    },
    {
     "name": "stderr",
     "output_type": "stream",
     "text": [
      "\r",
      "628it [00:28, 22.38it/s]"
     ]
    },
    {
     "name": "stdout",
     "output_type": "stream",
     "text": [
      "(1, 450, 600, 3)\n",
      "(1, 450, 600, 3)\n",
      "(1, 450, 600, 3)\n",
      "(1, 450, 600, 3)\n",
      "(1, 450, 600, 3)\n"
     ]
    },
    {
     "name": "stderr",
     "output_type": "stream",
     "text": [
      "634it [00:28, 22.29it/s]"
     ]
    },
    {
     "name": "stdout",
     "output_type": "stream",
     "text": [
      "(1, 450, 600, 3)\n",
      "(1, 450, 600, 3)\n",
      "(1, 450, 600, 3)\n",
      "(1, 450, 600, 3)\n"
     ]
    },
    {
     "name": "stderr",
     "output_type": "stream",
     "text": [
      "\r",
      "637it [00:28, 21.54it/s]"
     ]
    },
    {
     "name": "stdout",
     "output_type": "stream",
     "text": [
      "(1, 450, 600, 3)\n",
      "(1, 450, 600, 3)\n",
      "(1, 450, 600, 3)\n",
      "(1, 450, 600, 3)\n"
     ]
    },
    {
     "name": "stderr",
     "output_type": "stream",
     "text": [
      "\r",
      "640it [00:29, 20.61it/s]"
     ]
    },
    {
     "name": "stdout",
     "output_type": "stream",
     "text": [
      "(1, 450, 600, 3)\n",
      "(1, 450, 600, 3)\n",
      "(1, 450, 600, 3)\n",
      "(1, 450, 600, 3)\n",
      "(1, 450, 600, 3)\n"
     ]
    },
    {
     "name": "stderr",
     "output_type": "stream",
     "text": [
      "646it [00:29, 20.71it/s]"
     ]
    },
    {
     "name": "stdout",
     "output_type": "stream",
     "text": [
      "(1, 450, 600, 3)\n",
      "(1, 450, 600, 3)\n",
      "(1, 450, 600, 3)\n",
      "(1, 450, 600, 3)\n",
      "(1, 450, 600, 3)\n"
     ]
    },
    {
     "name": "stderr",
     "output_type": "stream",
     "text": [
      "652it [00:29, 21.06it/s]"
     ]
    },
    {
     "name": "stdout",
     "output_type": "stream",
     "text": [
      "(1, 450, 600, 3)\n",
      "(1, 450, 600, 3)\n",
      "(1, 450, 600, 3)\n",
      "(1, 450, 600, 3)\n",
      "(1, 450, 600, 3)\n"
     ]
    },
    {
     "name": "stderr",
     "output_type": "stream",
     "text": [
      "\r",
      "655it [00:29, 21.55it/s]"
     ]
    },
    {
     "name": "stdout",
     "output_type": "stream",
     "text": [
      "(1, 450, 600, 3)\n",
      "(1, 450, 600, 3)\n",
      "(1, 450, 600, 3)\n",
      "(1, 450, 600, 3)\n"
     ]
    },
    {
     "name": "stderr",
     "output_type": "stream",
     "text": [
      "661it [00:30, 21.73it/s]"
     ]
    },
    {
     "name": "stdout",
     "output_type": "stream",
     "text": [
      "(1, 450, 600, 3)\n",
      "(1, 450, 600, 3)\n",
      "(1, 450, 600, 3)\n",
      "(1, 450, 600, 3)\n",
      "(1, 450, 600, 3)\n"
     ]
    },
    {
     "name": "stderr",
     "output_type": "stream",
     "text": [
      "667it [00:30, 22.81it/s]"
     ]
    },
    {
     "name": "stdout",
     "output_type": "stream",
     "text": [
      "(1, 450, 600, 3)\n",
      "(1, 450, 600, 3)\n",
      "(1, 450, 600, 3)\n",
      "(1, 450, 600, 3)\n",
      "(1, 450, 600, 3)\n"
     ]
    },
    {
     "name": "stderr",
     "output_type": "stream",
     "text": [
      "\r",
      "670it [00:30, 22.93it/s]"
     ]
    },
    {
     "name": "stdout",
     "output_type": "stream",
     "text": [
      "(1, 450, 600, 3)\n",
      "(1, 450, 600, 3)\n",
      "(1, 450, 600, 3)\n",
      "(1, 450, 600, 3)\n"
     ]
    },
    {
     "name": "stderr",
     "output_type": "stream",
     "text": [
      "\r",
      "673it [00:30, 21.49it/s]"
     ]
    },
    {
     "name": "stdout",
     "output_type": "stream",
     "text": [
      "(1, 450, 600, 3)\n",
      "(1, 450, 600, 3)\n",
      "(1, 450, 600, 3)\n",
      "(1, 450, 600, 3)\n",
      "(1, 450, 600, 3)\n"
     ]
    },
    {
     "name": "stderr",
     "output_type": "stream",
     "text": [
      "679it [00:30, 22.42it/s]"
     ]
    },
    {
     "name": "stdout",
     "output_type": "stream",
     "text": [
      "(1, 450, 600, 3)\n",
      "(1, 450, 600, 3)\n",
      "(1, 450, 600, 3)\n",
      "(1, 450, 600, 3)\n",
      "(1, 450, 600, 3)\n"
     ]
    },
    {
     "name": "stderr",
     "output_type": "stream",
     "text": [
      "685it [00:31, 21.43it/s]"
     ]
    },
    {
     "name": "stdout",
     "output_type": "stream",
     "text": [
      "(1, 450, 600, 3)\n",
      "(1, 450, 600, 3)\n",
      "(1, 450, 600, 3)\n",
      "(1, 450, 600, 3)\n"
     ]
    },
    {
     "name": "stderr",
     "output_type": "stream",
     "text": [
      "\r",
      "688it [00:31, 21.43it/s]"
     ]
    },
    {
     "name": "stdout",
     "output_type": "stream",
     "text": [
      "(1, 450, 600, 3)\n",
      "(1, 450, 600, 3)\n",
      "(1, 450, 600, 3)\n",
      "(1, 450, 600, 3)\n",
      "(1, 450, 600, 3)\n"
     ]
    },
    {
     "name": "stderr",
     "output_type": "stream",
     "text": [
      "694it [00:31, 22.24it/s]"
     ]
    },
    {
     "name": "stdout",
     "output_type": "stream",
     "text": [
      "(1, 450, 600, 3)\n",
      "(1, 450, 600, 3)\n",
      "(1, 450, 600, 3)\n",
      "(1, 450, 600, 3)\n",
      "(1, 450, 600, 3)\n"
     ]
    },
    {
     "name": "stderr",
     "output_type": "stream",
     "text": [
      "\r",
      "697it [00:31, 21.99it/s]"
     ]
    },
    {
     "name": "stdout",
     "output_type": "stream",
     "text": [
      "(1, 450, 600, 3)\n",
      "(1, 450, 600, 3)\n",
      "(1, 450, 600, 3)\n",
      "(1, 450, 600, 3)\n",
      "(1, 450, 600, 3)\n"
     ]
    },
    {
     "name": "stderr",
     "output_type": "stream",
     "text": [
      "703it [00:31, 20.51it/s]"
     ]
    },
    {
     "name": "stdout",
     "output_type": "stream",
     "text": [
      "(1, 450, 600, 3)\n",
      "(1, 450, 600, 3)\n",
      "(1, 450, 600, 3)\n",
      "(1, 450, 600, 3)\n",
      "(1, 450, 600, 3)\n"
     ]
    },
    {
     "name": "stderr",
     "output_type": "stream",
     "text": [
      "709it [00:32, 21.72it/s]"
     ]
    },
    {
     "name": "stdout",
     "output_type": "stream",
     "text": [
      "(1, 450, 600, 3)\n",
      "(1, 450, 600, 3)\n",
      "(1, 450, 600, 3)\n",
      "(1, 450, 600, 3)\n",
      "(1, 450, 600, 3)\n"
     ]
    },
    {
     "name": "stderr",
     "output_type": "stream",
     "text": [
      "\r",
      "712it [00:32, 21.63it/s]"
     ]
    },
    {
     "name": "stdout",
     "output_type": "stream",
     "text": [
      "(1, 450, 600, 3)\n",
      "(1, 450, 600, 3)\n",
      "(1, 450, 600, 3)\n",
      "(1, 450, 600, 3)\n"
     ]
    },
    {
     "name": "stderr",
     "output_type": "stream",
     "text": [
      "718it [00:32, 21.54it/s]"
     ]
    },
    {
     "name": "stdout",
     "output_type": "stream",
     "text": [
      "(1, 450, 600, 3)\n",
      "(1, 450, 600, 3)\n",
      "(1, 450, 600, 3)\n",
      "(1, 450, 600, 3)\n",
      "(1, 450, 600, 3)\n"
     ]
    },
    {
     "name": "stderr",
     "output_type": "stream",
     "text": [
      "724it [00:32, 22.52it/s]"
     ]
    },
    {
     "name": "stdout",
     "output_type": "stream",
     "text": [
      "(1, 450, 600, 3)\n",
      "(1, 450, 600, 3)\n",
      "(1, 450, 600, 3)\n",
      "(1, 450, 600, 3)\n",
      "(1, 450, 600, 3)\n"
     ]
    },
    {
     "name": "stderr",
     "output_type": "stream",
     "text": [
      "\r",
      "727it [00:33, 22.68it/s]"
     ]
    },
    {
     "name": "stdout",
     "output_type": "stream",
     "text": [
      "(1, 450, 600, 3)\n",
      "(1, 450, 600, 3)\n",
      "(1, 450, 600, 3)\n",
      "(1, 450, 600, 3)\n"
     ]
    },
    {
     "name": "stderr",
     "output_type": "stream",
     "text": [
      "\r",
      "730it [00:33, 21.78it/s]"
     ]
    },
    {
     "name": "stdout",
     "output_type": "stream",
     "text": [
      "(1, 450, 600, 3)\n",
      "(1, 450, 600, 3)\n",
      "(1, 450, 600, 3)\n",
      "(1, 450, 600, 3)\n",
      "(1, 450, 600, 3)\n"
     ]
    },
    {
     "name": "stderr",
     "output_type": "stream",
     "text": [
      "736it [00:33, 21.95it/s]"
     ]
    },
    {
     "name": "stdout",
     "output_type": "stream",
     "text": [
      "(1, 450, 600, 3)\n",
      "(1, 450, 600, 3)\n",
      "(1, 450, 600, 3)\n",
      "(1, 450, 600, 3)\n",
      "(1, 450, 600, 3)\n"
     ]
    },
    {
     "name": "stderr",
     "output_type": "stream",
     "text": [
      "742it [00:33, 21.51it/s]"
     ]
    },
    {
     "name": "stdout",
     "output_type": "stream",
     "text": [
      "(1, 450, 600, 3)\n",
      "(1, 450, 600, 3)\n",
      "(1, 450, 600, 3)\n",
      "(1, 450, 600, 3)\n"
     ]
    },
    {
     "name": "stderr",
     "output_type": "stream",
     "text": [
      "\r",
      "745it [00:33, 21.48it/s]"
     ]
    },
    {
     "name": "stdout",
     "output_type": "stream",
     "text": [
      "(1, 450, 600, 3)\n",
      "(1, 450, 600, 3)\n",
      "(1, 450, 600, 3)\n",
      "(1, 450, 600, 3)\n",
      "(1, 450, 600, 3)\n"
     ]
    },
    {
     "name": "stderr",
     "output_type": "stream",
     "text": [
      "751it [00:34, 20.87it/s]"
     ]
    },
    {
     "name": "stdout",
     "output_type": "stream",
     "text": [
      "(1, 450, 600, 3)\n",
      "(1, 450, 600, 3)\n",
      "(1, 450, 600, 3)\n",
      "(1, 450, 600, 3)\n"
     ]
    },
    {
     "name": "stderr",
     "output_type": "stream",
     "text": [
      "\r",
      "754it [00:34, 21.04it/s]"
     ]
    },
    {
     "name": "stdout",
     "output_type": "stream",
     "text": [
      "(1, 450, 600, 3)\n",
      "(1, 450, 600, 3)\n",
      "(1, 450, 600, 3)\n",
      "(1, 450, 600, 3)\n",
      "(1, 450, 600, 3)\n"
     ]
    },
    {
     "name": "stderr",
     "output_type": "stream",
     "text": [
      "760it [00:34, 20.37it/s]"
     ]
    },
    {
     "name": "stdout",
     "output_type": "stream",
     "text": [
      "(1, 450, 600, 3)\n",
      "(1, 450, 600, 3)\n",
      "(1, 450, 600, 3)\n",
      "(1, 450, 600, 3)\n"
     ]
    },
    {
     "name": "stderr",
     "output_type": "stream",
     "text": [
      "\r",
      "763it [00:34, 20.66it/s]"
     ]
    },
    {
     "name": "stdout",
     "output_type": "stream",
     "text": [
      "(1, 450, 600, 3)\n",
      "(1, 450, 600, 3)\n",
      "(1, 450, 600, 3)\n",
      "(1, 450, 600, 3)\n",
      "(1, 450, 600, 3)\n"
     ]
    },
    {
     "name": "stderr",
     "output_type": "stream",
     "text": [
      "769it [00:35, 20.41it/s]"
     ]
    },
    {
     "name": "stdout",
     "output_type": "stream",
     "text": [
      "(1, 450, 600, 3)\n",
      "(1, 450, 600, 3)\n",
      "(1, 450, 600, 3)\n",
      "(1, 450, 600, 3)\n"
     ]
    },
    {
     "name": "stderr",
     "output_type": "stream",
     "text": [
      "\r",
      "772it [00:35, 21.08it/s]"
     ]
    },
    {
     "name": "stdout",
     "output_type": "stream",
     "text": [
      "(1, 450, 600, 3)\n",
      "(1, 450, 600, 3)\n",
      "(1, 450, 600, 3)\n",
      "(1, 450, 600, 3)\n",
      "(1, 450, 600, 3)\n"
     ]
    },
    {
     "name": "stderr",
     "output_type": "stream",
     "text": [
      "778it [00:35, 21.67it/s]"
     ]
    },
    {
     "name": "stdout",
     "output_type": "stream",
     "text": [
      "(1, 450, 600, 3)\n",
      "(1, 450, 600, 3)\n",
      "(1, 450, 600, 3)\n",
      "(1, 450, 600, 3)\n",
      "(1, 450, 600, 3)\n"
     ]
    },
    {
     "name": "stderr",
     "output_type": "stream",
     "text": [
      "\r",
      "781it [00:35, 21.53it/s]"
     ]
    },
    {
     "name": "stdout",
     "output_type": "stream",
     "text": [
      "(1, 450, 600, 3)\n",
      "(1, 450, 600, 3)\n",
      "(1, 450, 600, 3)\n",
      "(1, 450, 600, 3)\n",
      "(1, 450, 600, 3)\n"
     ]
    },
    {
     "name": "stderr",
     "output_type": "stream",
     "text": [
      "787it [00:35, 21.55it/s]"
     ]
    },
    {
     "name": "stdout",
     "output_type": "stream",
     "text": [
      "(1, 450, 600, 3)\n",
      "(1, 450, 600, 3)\n",
      "(1, 450, 600, 3)\n",
      "(1, 450, 600, 3)\n",
      "(1, 450, 600, 3)\n"
     ]
    },
    {
     "name": "stderr",
     "output_type": "stream",
     "text": [
      "793it [00:36, 20.71it/s]"
     ]
    },
    {
     "name": "stdout",
     "output_type": "stream",
     "text": [
      "(1, 450, 600, 3)\n",
      "(1, 450, 600, 3)\n",
      "(1, 450, 600, 3)\n",
      "(1, 450, 600, 3)\n"
     ]
    },
    {
     "name": "stderr",
     "output_type": "stream",
     "text": [
      "\r",
      "796it [00:36, 20.80it/s]"
     ]
    },
    {
     "name": "stdout",
     "output_type": "stream",
     "text": [
      "(1, 450, 600, 3)\n",
      "(1, 450, 600, 3)\n",
      "(1, 450, 600, 3)\n",
      "(1, 450, 600, 3)\n"
     ]
    },
    {
     "name": "stderr",
     "output_type": "stream",
     "text": [
      "\r",
      "799it [00:36, 19.21it/s]"
     ]
    },
    {
     "name": "stdout",
     "output_type": "stream",
     "text": [
      "(1, 450, 600, 3)\n",
      "(1, 450, 600, 3)\n",
      "(1, 450, 600, 3)\n",
      "(1, 450, 600, 3)\n"
     ]
    },
    {
     "name": "stderr",
     "output_type": "stream",
     "text": [
      "803it [00:36, 18.64it/s]"
     ]
    },
    {
     "name": "stdout",
     "output_type": "stream",
     "text": [
      "(1, 450, 600, 3)\n",
      "(1, 450, 600, 3)\n",
      "(1, 450, 600, 3)\n"
     ]
    },
    {
     "name": "stderr",
     "output_type": "stream",
     "text": [
      "807it [00:36, 18.37it/s]"
     ]
    },
    {
     "name": "stdout",
     "output_type": "stream",
     "text": [
      "(1, 450, 600, 3)\n",
      "(1, 450, 600, 3)\n",
      "(1, 450, 600, 3)\n",
      "(1, 450, 600, 3)\n",
      "(1, 450, 600, 3)\n"
     ]
    },
    {
     "name": "stderr",
     "output_type": "stream",
     "text": [
      "813it [00:37, 20.59it/s]"
     ]
    },
    {
     "name": "stdout",
     "output_type": "stream",
     "text": [
      "(1, 450, 600, 3)\n",
      "(1, 450, 600, 3)\n",
      "(1, 450, 600, 3)\n",
      "(1, 450, 600, 3)\n",
      "(1, 450, 600, 3)\n"
     ]
    },
    {
     "name": "stderr",
     "output_type": "stream",
     "text": [
      "\r",
      "816it [00:37, 20.78it/s]"
     ]
    },
    {
     "name": "stdout",
     "output_type": "stream",
     "text": [
      "(1, 450, 600, 3)\n",
      "(1, 450, 600, 3)\n",
      "(1, 450, 600, 3)\n",
      "(1, 450, 600, 3)\n",
      "(1, 450, 600, 3)\n"
     ]
    },
    {
     "name": "stderr",
     "output_type": "stream",
     "text": [
      "822it [00:37, 21.45it/s]"
     ]
    },
    {
     "name": "stdout",
     "output_type": "stream",
     "text": [
      "(1, 450, 600, 3)\n",
      "(1, 450, 600, 3)\n",
      "(1, 450, 600, 3)\n",
      "(1, 450, 600, 3)\n",
      "(1, 450, 600, 3)\n"
     ]
    },
    {
     "name": "stderr",
     "output_type": "stream",
     "text": [
      "828it [00:37, 21.90it/s]"
     ]
    },
    {
     "name": "stdout",
     "output_type": "stream",
     "text": [
      "(1, 450, 600, 3)\n",
      "(1, 450, 600, 3)\n",
      "(1, 450, 600, 3)\n",
      "(1, 450, 600, 3)\n",
      "(1, 450, 600, 3)\n"
     ]
    },
    {
     "name": "stderr",
     "output_type": "stream",
     "text": [
      "834it [00:38, 22.63it/s]"
     ]
    },
    {
     "name": "stdout",
     "output_type": "stream",
     "text": [
      "(1, 450, 600, 3)\n",
      "(1, 450, 600, 3)\n",
      "(1, 450, 600, 3)\n",
      "(1, 450, 600, 3)\n",
      "(1, 450, 600, 3)\n"
     ]
    },
    {
     "name": "stderr",
     "output_type": "stream",
     "text": [
      "\r",
      "837it [00:38, 21.48it/s]"
     ]
    },
    {
     "name": "stdout",
     "output_type": "stream",
     "text": [
      "(1, 450, 600, 3)\n",
      "(1, 450, 600, 3)\n",
      "(1, 450, 600, 3)\n",
      "(1, 450, 600, 3)\n",
      "(1, 450, 600, 3)\n"
     ]
    },
    {
     "name": "stderr",
     "output_type": "stream",
     "text": [
      "843it [00:38, 21.76it/s]"
     ]
    },
    {
     "name": "stdout",
     "output_type": "stream",
     "text": [
      "(1, 450, 600, 3)\n",
      "(1, 450, 600, 3)\n",
      "(1, 450, 600, 3)\n",
      "(1, 450, 600, 3)\n",
      "(1, 450, 600, 3)\n"
     ]
    },
    {
     "name": "stderr",
     "output_type": "stream",
     "text": [
      "\r",
      "846it [00:38, 21.62it/s]"
     ]
    },
    {
     "name": "stdout",
     "output_type": "stream",
     "text": [
      "(1, 450, 600, 3)\n",
      "(1, 450, 600, 3)\n",
      "(1, 450, 600, 3)\n",
      "(1, 450, 600, 3)\n",
      "(1, 450, 600, 3)\n"
     ]
    },
    {
     "name": "stderr",
     "output_type": "stream",
     "text": [
      "852it [00:38, 22.01it/s]"
     ]
    },
    {
     "name": "stdout",
     "output_type": "stream",
     "text": [
      "(1, 450, 600, 3)\n",
      "(1, 450, 600, 3)\n",
      "(1, 450, 600, 3)\n",
      "(1, 450, 600, 3)\n",
      "(1, 450, 600, 3)\n",
      "(1, 450, 600, 3)\n"
     ]
    },
    {
     "name": "stderr",
     "output_type": "stream",
     "text": [
      "858it [00:39, 20.85it/s]"
     ]
    },
    {
     "name": "stdout",
     "output_type": "stream",
     "text": [
      "(1, 450, 600, 3)\n",
      "(1, 450, 600, 3)\n",
      "(1, 450, 600, 3)\n",
      "(1, 450, 600, 3)\n"
     ]
    },
    {
     "name": "stderr",
     "output_type": "stream",
     "text": [
      "\r",
      "861it [00:39, 20.81it/s]"
     ]
    },
    {
     "name": "stdout",
     "output_type": "stream",
     "text": [
      "(1, 450, 600, 3)\n",
      "(1, 450, 600, 3)\n",
      "(1, 450, 600, 3)\n",
      "(1, 450, 600, 3)\n",
      "(1, 450, 600, 3)\n"
     ]
    },
    {
     "name": "stderr",
     "output_type": "stream",
     "text": [
      "867it [00:39, 19.98it/s]"
     ]
    },
    {
     "name": "stdout",
     "output_type": "stream",
     "text": [
      "(1, 450, 600, 3)\n",
      "(1, 450, 600, 3)\n",
      "(1, 450, 600, 3)\n",
      "(1, 450, 600, 3)\n"
     ]
    },
    {
     "name": "stderr",
     "output_type": "stream",
     "text": [
      "\r",
      "870it [00:39, 19.07it/s]"
     ]
    },
    {
     "name": "stdout",
     "output_type": "stream",
     "text": [
      "(1, 450, 600, 3)\n",
      "(1, 450, 600, 3)\n",
      "(1, 450, 600, 3)\n",
      "(1, 450, 600, 3)\n"
     ]
    },
    {
     "name": "stderr",
     "output_type": "stream",
     "text": [
      "875it [00:40, 18.73it/s]"
     ]
    },
    {
     "name": "stdout",
     "output_type": "stream",
     "text": [
      "(1, 450, 600, 3)\n",
      "(1, 450, 600, 3)\n",
      "(1, 450, 600, 3)\n",
      "(1, 450, 600, 3)\n"
     ]
    },
    {
     "name": "stderr",
     "output_type": "stream",
     "text": [
      "880it [00:40, 19.36it/s]"
     ]
    },
    {
     "name": "stdout",
     "output_type": "stream",
     "text": [
      "(1, 450, 600, 3)\n",
      "(1, 450, 600, 3)\n",
      "(1, 450, 600, 3)\n",
      "(1, 450, 600, 3)\n",
      "(1, 450, 600, 3)\n"
     ]
    },
    {
     "name": "stderr",
     "output_type": "stream",
     "text": [
      "\r",
      "883it [00:40, 19.97it/s]"
     ]
    },
    {
     "name": "stdout",
     "output_type": "stream",
     "text": [
      "(1, 450, 600, 3)\n",
      "(1, 450, 600, 3)\n",
      "(1, 450, 600, 3)\n",
      "(1, 450, 600, 3)\n",
      "(1, 450, 600, 3)\n"
     ]
    },
    {
     "name": "stderr",
     "output_type": "stream",
     "text": [
      "889it [00:40, 20.88it/s]"
     ]
    },
    {
     "name": "stdout",
     "output_type": "stream",
     "text": [
      "(1, 450, 600, 3)\n",
      "(1, 450, 600, 3)\n",
      "(1, 450, 600, 3)\n",
      "(1, 450, 600, 3)\n",
      "(1, 450, 600, 3)\n"
     ]
    },
    {
     "name": "stderr",
     "output_type": "stream",
     "text": [
      "895it [00:41, 19.84it/s]"
     ]
    },
    {
     "name": "stdout",
     "output_type": "stream",
     "text": [
      "(1, 450, 600, 3)\n",
      "(1, 450, 600, 3)\n",
      "(1, 450, 600, 3)\n",
      "(1, 450, 600, 3)\n"
     ]
    },
    {
     "name": "stderr",
     "output_type": "stream",
     "text": [
      "\r",
      "898it [00:41, 19.85it/s]"
     ]
    },
    {
     "name": "stdout",
     "output_type": "stream",
     "text": [
      "(1, 450, 600, 3)\n",
      "(1, 450, 600, 3)\n",
      "(1, 450, 600, 3)\n",
      "(1, 450, 600, 3)\n",
      "(1, 450, 600, 3)\n"
     ]
    },
    {
     "name": "stderr",
     "output_type": "stream",
     "text": [
      "904it [00:41, 20.26it/s]"
     ]
    },
    {
     "name": "stdout",
     "output_type": "stream",
     "text": [
      "(1, 450, 600, 3)\n",
      "(1, 450, 600, 3)\n",
      "(1, 450, 600, 3)\n",
      "(1, 450, 600, 3)\n",
      "(1, 450, 600, 3)\n"
     ]
    },
    {
     "name": "stderr",
     "output_type": "stream",
     "text": [
      "\r",
      "907it [00:41, 20.51it/s]"
     ]
    },
    {
     "name": "stdout",
     "output_type": "stream",
     "text": [
      "(1, 450, 600, 3)\n",
      "(1, 450, 600, 3)\n",
      "(1, 450, 600, 3)\n",
      "(1, 450, 600, 3)\n",
      "(1, 450, 600, 3)\n"
     ]
    },
    {
     "name": "stderr",
     "output_type": "stream",
     "text": [
      "913it [00:42, 19.77it/s]"
     ]
    },
    {
     "name": "stdout",
     "output_type": "stream",
     "text": [
      "(1, 450, 600, 3)\n",
      "(1, 450, 600, 3)\n",
      "(1, 450, 600, 3)\n",
      "(1, 450, 600, 3)\n",
      "(1, 450, 600, 3)\n"
     ]
    },
    {
     "name": "stderr",
     "output_type": "stream",
     "text": [
      "917it [00:42, 18.69it/s]"
     ]
    },
    {
     "name": "stdout",
     "output_type": "stream",
     "text": [
      "(1, 450, 600, 3)\n",
      "(1, 450, 600, 3)\n",
      "(1, 450, 600, 3)\n",
      "(1, 450, 600, 3)\n",
      "(1, 450, 600, 3)\n"
     ]
    },
    {
     "name": "stderr",
     "output_type": "stream",
     "text": [
      "923it [00:42, 20.44it/s]"
     ]
    },
    {
     "name": "stdout",
     "output_type": "stream",
     "text": [
      "(1, 450, 600, 3)\n",
      "(1, 450, 600, 3)\n",
      "(1, 450, 600, 3)\n",
      "(1, 450, 600, 3)\n"
     ]
    },
    {
     "name": "stderr",
     "output_type": "stream",
     "text": [
      "\r",
      "926it [00:42, 20.87it/s]"
     ]
    },
    {
     "name": "stdout",
     "output_type": "stream",
     "text": [
      "(1, 450, 600, 3)\n",
      "(1, 450, 600, 3)\n",
      "(1, 450, 600, 3)\n",
      "(1, 450, 600, 3)\n",
      "(1, 450, 600, 3)\n"
     ]
    },
    {
     "name": "stderr",
     "output_type": "stream",
     "text": [
      "932it [00:42, 19.91it/s]"
     ]
    },
    {
     "name": "stdout",
     "output_type": "stream",
     "text": [
      "(1, 450, 600, 3)\n",
      "(1, 450, 600, 3)\n",
      "(1, 450, 600, 3)\n",
      "(1, 450, 600, 3)\n"
     ]
    },
    {
     "name": "stderr",
     "output_type": "stream",
     "text": [
      "\r",
      "934it [00:43, 19.84it/s]"
     ]
    },
    {
     "name": "stdout",
     "output_type": "stream",
     "text": [
      "(1, 450, 600, 3)\n",
      "(1, 450, 600, 3)\n",
      "(1, 450, 600, 3)\n",
      "(1, 450, 600, 3)\n"
     ]
    },
    {
     "name": "stderr",
     "output_type": "stream",
     "text": [
      "940it [00:43, 20.92it/s]"
     ]
    },
    {
     "name": "stdout",
     "output_type": "stream",
     "text": [
      "(1, 450, 600, 3)\n",
      "(1, 450, 600, 3)\n",
      "(1, 450, 600, 3)\n",
      "(1, 450, 600, 3)\n",
      "(1, 450, 600, 3)\n"
     ]
    },
    {
     "name": "stderr",
     "output_type": "stream",
     "text": [
      "946it [00:43, 21.43it/s]"
     ]
    },
    {
     "name": "stdout",
     "output_type": "stream",
     "text": [
      "(1, 450, 600, 3)\n",
      "(1, 450, 600, 3)\n",
      "(1, 450, 600, 3)\n",
      "(1, 450, 600, 3)\n",
      "(1, 450, 600, 3)\n"
     ]
    },
    {
     "name": "stderr",
     "output_type": "stream",
     "text": [
      "\r",
      "949it [00:43, 19.43it/s]"
     ]
    },
    {
     "name": "stdout",
     "output_type": "stream",
     "text": [
      "(1, 450, 600, 3)\n",
      "(1, 450, 600, 3)\n",
      "(1, 450, 600, 3)\n",
      "(1, 450, 600, 3)\n",
      "(1, 450, 600, 3)\n"
     ]
    },
    {
     "name": "stderr",
     "output_type": "stream",
     "text": [
      "955it [00:44, 20.67it/s]"
     ]
    },
    {
     "name": "stdout",
     "output_type": "stream",
     "text": [
      "(1, 450, 600, 3)\n",
      "(1, 450, 600, 3)\n",
      "(1, 450, 600, 3)\n",
      "(1, 450, 600, 3)\n",
      "(1, 450, 600, 3)\n"
     ]
    },
    {
     "name": "stderr",
     "output_type": "stream",
     "text": [
      "961it [00:44, 21.12it/s]"
     ]
    },
    {
     "name": "stdout",
     "output_type": "stream",
     "text": [
      "(1, 450, 600, 3)\n",
      "(1, 450, 600, 3)\n",
      "(1, 450, 600, 3)\n",
      "(1, 450, 600, 3)\n",
      "(1, 450, 600, 3)\n"
     ]
    },
    {
     "name": "stderr",
     "output_type": "stream",
     "text": [
      "\r",
      "964it [00:44, 21.63it/s]"
     ]
    },
    {
     "name": "stdout",
     "output_type": "stream",
     "text": [
      "(1, 450, 600, 3)\n",
      "(1, 450, 600, 3)\n",
      "(1, 450, 600, 3)\n",
      "(1, 450, 600, 3)\n"
     ]
    },
    {
     "name": "stderr",
     "output_type": "stream",
     "text": [
      "970it [00:44, 21.55it/s]"
     ]
    },
    {
     "name": "stdout",
     "output_type": "stream",
     "text": [
      "(1, 450, 600, 3)\n",
      "(1, 450, 600, 3)\n",
      "(1, 450, 600, 3)\n",
      "(1, 450, 600, 3)\n",
      "(1, 450, 600, 3)\n"
     ]
    },
    {
     "name": "stderr",
     "output_type": "stream",
     "text": [
      "\r",
      "973it [00:44, 21.36it/s]"
     ]
    },
    {
     "name": "stdout",
     "output_type": "stream",
     "text": [
      "(1, 450, 600, 3)\n",
      "(1, 450, 600, 3)\n",
      "(1, 450, 600, 3)\n",
      "(1, 450, 600, 3)\n",
      "(1, 450, 600, 3)\n"
     ]
    },
    {
     "name": "stderr",
     "output_type": "stream",
     "text": [
      "979it [00:45, 19.66it/s]"
     ]
    },
    {
     "name": "stdout",
     "output_type": "stream",
     "text": [
      "(1, 450, 600, 3)\n",
      "(1, 450, 600, 3)\n",
      "(1, 450, 600, 3)\n",
      "(1, 450, 600, 3)\n",
      "(1, 450, 600, 3)\n"
     ]
    },
    {
     "name": "stderr",
     "output_type": "stream",
     "text": [
      "985it [00:45, 20.87it/s]"
     ]
    },
    {
     "name": "stdout",
     "output_type": "stream",
     "text": [
      "(1, 450, 600, 3)\n",
      "(1, 450, 600, 3)\n",
      "(1, 450, 600, 3)\n",
      "(1, 450, 600, 3)\n",
      "(1, 450, 600, 3)\n"
     ]
    },
    {
     "name": "stderr",
     "output_type": "stream",
     "text": [
      "\r",
      "988it [00:45, 20.68it/s]"
     ]
    },
    {
     "name": "stdout",
     "output_type": "stream",
     "text": [
      "(1, 450, 600, 3)\n",
      "(1, 450, 600, 3)\n",
      "(1, 450, 600, 3)\n",
      "(1, 450, 600, 3)\n",
      "(1, 450, 600, 3)\n"
     ]
    },
    {
     "name": "stderr",
     "output_type": "stream",
     "text": [
      "994it [00:45, 20.16it/s]"
     ]
    },
    {
     "name": "stdout",
     "output_type": "stream",
     "text": [
      "(1, 450, 600, 3)\n",
      "(1, 450, 600, 3)\n",
      "(1, 450, 600, 3)\n",
      "(1, 450, 600, 3)\n"
     ]
    },
    {
     "name": "stderr",
     "output_type": "stream",
     "text": [
      "\r",
      "997it [00:46, 19.90it/s]"
     ]
    },
    {
     "name": "stdout",
     "output_type": "stream",
     "text": [
      "(1, 450, 600, 3)\n",
      "(1, 450, 600, 3)\n",
      "(1, 450, 600, 3)\n",
      "(1, 450, 600, 3)\n",
      "(1, 450, 600, 3)\n"
     ]
    },
    {
     "name": "stderr",
     "output_type": "stream",
     "text": [
      "1003it [00:46, 20.55it/s]"
     ]
    },
    {
     "name": "stdout",
     "output_type": "stream",
     "text": [
      "(1, 450, 600, 3)\n",
      "(1, 450, 600, 3)\n",
      "(1, 450, 600, 3)\n",
      "(1, 450, 600, 3)\n"
     ]
    },
    {
     "name": "stderr",
     "output_type": "stream",
     "text": [
      "1009it [00:46, 22.03it/s]"
     ]
    },
    {
     "name": "stdout",
     "output_type": "stream",
     "text": [
      "(1, 450, 600, 3)\n",
      "(1, 450, 600, 3)\n",
      "(1, 450, 600, 3)\n",
      "(1, 450, 600, 3)\n",
      "(1, 450, 600, 3)\n"
     ]
    },
    {
     "name": "stderr",
     "output_type": "stream",
     "text": [
      "\r",
      "1012it [00:46, 22.15it/s]"
     ]
    },
    {
     "name": "stdout",
     "output_type": "stream",
     "text": [
      "(1, 450, 600, 3)\n",
      "(1, 450, 600, 3)\n",
      "(1, 450, 600, 3)\n",
      "(1, 450, 600, 3)\n",
      "(1, 450, 600, 3)\n"
     ]
    },
    {
     "name": "stderr",
     "output_type": "stream",
     "text": [
      "1018it [00:47, 22.41it/s]"
     ]
    },
    {
     "name": "stdout",
     "output_type": "stream",
     "text": [
      "(1, 450, 600, 3)\n",
      "(1, 450, 600, 3)\n",
      "(1, 450, 600, 3)\n",
      "(1, 450, 600, 3)\n",
      "(1, 450, 600, 3)\n"
     ]
    },
    {
     "name": "stderr",
     "output_type": "stream",
     "text": [
      "\r",
      "1021it [00:47, 22.09it/s]"
     ]
    },
    {
     "name": "stdout",
     "output_type": "stream",
     "text": [
      "(1, 450, 600, 3)\n",
      "(1, 450, 600, 3)\n",
      "(1, 450, 600, 3)\n",
      "(1, 450, 600, 3)\n",
      "(1, 450, 600, 3)\n"
     ]
    },
    {
     "name": "stderr",
     "output_type": "stream",
     "text": [
      "1027it [00:47, 21.93it/s]"
     ]
    },
    {
     "name": "stdout",
     "output_type": "stream",
     "text": [
      "(1, 450, 600, 3)\n",
      "(1, 450, 600, 3)\n",
      "(1, 450, 600, 3)\n",
      "(1, 450, 600, 3)\n",
      "(1, 450, 600, 3)\n"
     ]
    },
    {
     "name": "stderr",
     "output_type": "stream",
     "text": [
      "1033it [00:47, 22.42it/s]"
     ]
    },
    {
     "name": "stdout",
     "output_type": "stream",
     "text": [
      "(1, 450, 600, 3)\n",
      "(1, 450, 600, 3)\n",
      "(1, 450, 600, 3)\n",
      "(1, 450, 600, 3)\n",
      "(1, 450, 600, 3)\n"
     ]
    },
    {
     "name": "stderr",
     "output_type": "stream",
     "text": [
      "1039it [00:48, 22.23it/s]"
     ]
    },
    {
     "name": "stdout",
     "output_type": "stream",
     "text": [
      "(1, 450, 600, 3)\n",
      "(1, 450, 600, 3)\n",
      "(1, 450, 600, 3)\n",
      "(1, 450, 600, 3)\n",
      "(1, 450, 600, 3)\n"
     ]
    },
    {
     "name": "stderr",
     "output_type": "stream",
     "text": [
      "\r",
      "1042it [00:48, 21.89it/s]"
     ]
    },
    {
     "name": "stdout",
     "output_type": "stream",
     "text": [
      "(1, 450, 600, 3)\n",
      "(1, 450, 600, 3)\n",
      "(1, 450, 600, 3)\n",
      "(1, 450, 600, 3)\n",
      "(1, 450, 600, 3)\n"
     ]
    },
    {
     "name": "stderr",
     "output_type": "stream",
     "text": [
      "1048it [00:48, 21.25it/s]"
     ]
    },
    {
     "name": "stdout",
     "output_type": "stream",
     "text": [
      "(1, 450, 600, 3)\n",
      "(1, 450, 600, 3)\n",
      "(1, 450, 600, 3)\n",
      "(1, 450, 600, 3)\n",
      "(1, 450, 600, 3)\n"
     ]
    },
    {
     "name": "stderr",
     "output_type": "stream",
     "text": [
      "\r",
      "1051it [00:48, 21.46it/s]"
     ]
    },
    {
     "name": "stdout",
     "output_type": "stream",
     "text": [
      "(1, 450, 600, 3)\n",
      "(1, 450, 600, 3)\n",
      "(1, 450, 600, 3)\n",
      "(1, 450, 600, 3)\n",
      "(1, 450, 600, 3)\n"
     ]
    },
    {
     "name": "stderr",
     "output_type": "stream",
     "text": [
      "1057it [00:48, 21.28it/s]"
     ]
    },
    {
     "name": "stdout",
     "output_type": "stream",
     "text": [
      "(1, 450, 600, 3)\n",
      "(1, 450, 600, 3)\n",
      "(1, 450, 600, 3)\n",
      "(1, 450, 600, 3)\n",
      "(1, 450, 600, 3)\n"
     ]
    },
    {
     "name": "stderr",
     "output_type": "stream",
     "text": [
      "1063it [00:49, 21.28it/s]"
     ]
    },
    {
     "name": "stdout",
     "output_type": "stream",
     "text": [
      "(1, 450, 600, 3)\n",
      "(1, 450, 600, 3)\n",
      "(1, 450, 600, 3)\n",
      "(1, 450, 600, 3)\n",
      "(1, 450, 600, 3)\n"
     ]
    },
    {
     "name": "stderr",
     "output_type": "stream",
     "text": [
      "1069it [00:49, 21.45it/s]"
     ]
    },
    {
     "name": "stdout",
     "output_type": "stream",
     "text": [
      "(1, 450, 600, 3)\n",
      "(1, 450, 600, 3)\n",
      "(1, 450, 600, 3)\n",
      "(1, 450, 600, 3)\n",
      "(1, 450, 600, 3)\n"
     ]
    },
    {
     "name": "stderr",
     "output_type": "stream",
     "text": [
      "\r",
      "1072it [00:49, 21.64it/s]"
     ]
    },
    {
     "name": "stdout",
     "output_type": "stream",
     "text": [
      "(1, 450, 600, 3)\n",
      "(1, 450, 600, 3)\n",
      "(1, 450, 600, 3)\n",
      "(1, 450, 600, 3)\n"
     ]
    },
    {
     "name": "stderr",
     "output_type": "stream",
     "text": [
      "1078it [00:49, 21.91it/s]"
     ]
    },
    {
     "name": "stdout",
     "output_type": "stream",
     "text": [
      "(1, 450, 600, 3)\n",
      "(1, 450, 600, 3)\n",
      "(1, 450, 600, 3)\n",
      "(1, 450, 600, 3)\n",
      "(1, 450, 600, 3)\n"
     ]
    },
    {
     "name": "stderr",
     "output_type": "stream",
     "text": [
      "\r",
      "1081it [00:49, 21.95it/s]"
     ]
    },
    {
     "name": "stdout",
     "output_type": "stream",
     "text": [
      "(1, 450, 600, 3)\n",
      "(1, 450, 600, 3)\n",
      "(1, 450, 600, 3)\n",
      "(1, 450, 600, 3)\n",
      "(1, 450, 600, 3)\n"
     ]
    },
    {
     "name": "stderr",
     "output_type": "stream",
     "text": [
      "1087it [00:50, 21.14it/s]"
     ]
    },
    {
     "name": "stdout",
     "output_type": "stream",
     "text": [
      "(1, 450, 600, 3)\n",
      "(1, 450, 600, 3)\n",
      "(1, 450, 600, 3)\n",
      "(1, 450, 600, 3)\n"
     ]
    },
    {
     "name": "stderr",
     "output_type": "stream",
     "text": [
      "\r",
      "1090it [00:50, 19.80it/s]"
     ]
    },
    {
     "name": "stdout",
     "output_type": "stream",
     "text": [
      "(1, 450, 600, 3)\n",
      "(1, 450, 600, 3)\n",
      "(1, 450, 600, 3)\n",
      "(1, 450, 600, 3)\n"
     ]
    },
    {
     "name": "stderr",
     "output_type": "stream",
     "text": [
      "1096it [00:50, 20.73it/s]"
     ]
    },
    {
     "name": "stdout",
     "output_type": "stream",
     "text": [
      "(1, 450, 600, 3)\n",
      "(1, 450, 600, 3)\n",
      "(1, 450, 600, 3)\n",
      "(1, 450, 600, 3)\n",
      "(1, 450, 600, 3)\n"
     ]
    },
    {
     "name": "stderr",
     "output_type": "stream",
     "text": [
      "\r",
      "1099it [00:50, 20.38it/s]"
     ]
    },
    {
     "name": "stdout",
     "output_type": "stream",
     "text": [
      "(1, 450, 600, 3)\n",
      "(1, 450, 600, 3)\n",
      "(1, 450, 600, 3)\n",
      "(1, 450, 600, 3)\n",
      "(1, 450, 600, 3)\n"
     ]
    },
    {
     "name": "stderr",
     "output_type": "stream",
     "text": [
      "1105it [00:51, 20.45it/s]"
     ]
    },
    {
     "name": "stdout",
     "output_type": "stream",
     "text": [
      "(1, 450, 600, 3)\n",
      "(1, 450, 600, 3)\n",
      "(1, 450, 600, 3)\n",
      "(1, 450, 600, 3)\n",
      "(1, 450, 600, 3)\n"
     ]
    },
    {
     "name": "stderr",
     "output_type": "stream",
     "text": [
      "\r",
      "1108it [00:51, 20.86it/s]"
     ]
    },
    {
     "name": "stdout",
     "output_type": "stream",
     "text": [
      "(1, 450, 600, 3)\n",
      "(1, 450, 600, 3)\n",
      "(1, 450, 600, 3)\n",
      "(1, 450, 600, 3)\n",
      "(1, 450, 600, 3)\n"
     ]
    },
    {
     "name": "stderr",
     "output_type": "stream",
     "text": [
      "1114it [00:51, 21.39it/s]"
     ]
    },
    {
     "name": "stdout",
     "output_type": "stream",
     "text": [
      "(1, 450, 600, 3)\n",
      "(1, 450, 600, 3)\n",
      "(1, 450, 600, 3)\n",
      "(1, 450, 600, 3)\n",
      "(1, 450, 600, 3)\n"
     ]
    },
    {
     "name": "stderr",
     "output_type": "stream",
     "text": [
      "1120it [00:51, 21.44it/s]"
     ]
    },
    {
     "name": "stdout",
     "output_type": "stream",
     "text": [
      "(1, 450, 600, 3)\n",
      "(1, 450, 600, 3)\n",
      "(1, 450, 600, 3)\n",
      "(1, 450, 600, 3)\n",
      "(1, 450, 600, 3)\n"
     ]
    },
    {
     "name": "stderr",
     "output_type": "stream",
     "text": [
      "\r",
      "1123it [00:52, 21.30it/s]"
     ]
    },
    {
     "name": "stdout",
     "output_type": "stream",
     "text": [
      "(1, 450, 600, 3)\n",
      "(1, 450, 600, 3)\n",
      "(1, 450, 600, 3)\n",
      "(1, 450, 600, 3)\n"
     ]
    },
    {
     "name": "stderr",
     "output_type": "stream",
     "text": [
      "1129it [00:52, 20.99it/s]"
     ]
    },
    {
     "name": "stdout",
     "output_type": "stream",
     "text": [
      "(1, 450, 600, 3)\n",
      "(1, 450, 600, 3)\n",
      "(1, 450, 600, 3)\n",
      "(1, 450, 600, 3)\n",
      "(1, 450, 600, 3)\n"
     ]
    },
    {
     "name": "stderr",
     "output_type": "stream",
     "text": [
      "\r",
      "1132it [00:52, 20.22it/s]"
     ]
    },
    {
     "name": "stdout",
     "output_type": "stream",
     "text": [
      "(1, 450, 600, 3)\n",
      "(1, 450, 600, 3)\n",
      "(1, 450, 600, 3)\n",
      "(1, 450, 600, 3)\n",
      "(1, 450, 600, 3)\n"
     ]
    },
    {
     "name": "stderr",
     "output_type": "stream",
     "text": [
      "1138it [00:52, 20.58it/s]"
     ]
    },
    {
     "name": "stdout",
     "output_type": "stream",
     "text": [
      "(1, 450, 600, 3)\n",
      "(1, 450, 600, 3)\n",
      "(1, 450, 600, 3)\n",
      "(1, 450, 600, 3)\n",
      "(1, 450, 600, 3)\n"
     ]
    },
    {
     "name": "stderr",
     "output_type": "stream",
     "text": [
      "1144it [00:53, 20.19it/s]"
     ]
    },
    {
     "name": "stdout",
     "output_type": "stream",
     "text": [
      "(1, 450, 600, 3)\n",
      "(1, 450, 600, 3)\n",
      "(1, 450, 600, 3)\n",
      "(1, 450, 600, 3)\n",
      "(1, 450, 600, 3)\n"
     ]
    },
    {
     "name": "stderr",
     "output_type": "stream",
     "text": [
      "\r",
      "1147it [00:53, 19.10it/s]"
     ]
    },
    {
     "name": "stdout",
     "output_type": "stream",
     "text": [
      "(1, 450, 600, 3)\n",
      "(1, 450, 600, 3)\n",
      "(1, 450, 600, 3)\n",
      "(1, 450, 600, 3)\n"
     ]
    },
    {
     "name": "stderr",
     "output_type": "stream",
     "text": [
      "1153it [00:53, 20.06it/s]"
     ]
    },
    {
     "name": "stdout",
     "output_type": "stream",
     "text": [
      "(1, 450, 600, 3)\n",
      "(1, 450, 600, 3)\n",
      "(1, 450, 600, 3)\n",
      "(1, 450, 600, 3)\n",
      "(1, 450, 600, 3)\n"
     ]
    },
    {
     "name": "stderr",
     "output_type": "stream",
     "text": [
      "1159it [00:53, 21.19it/s]"
     ]
    },
    {
     "name": "stdout",
     "output_type": "stream",
     "text": [
      "(1, 450, 600, 3)\n",
      "(1, 450, 600, 3)\n",
      "(1, 450, 600, 3)\n",
      "(1, 450, 600, 3)\n",
      "(1, 450, 600, 3)\n"
     ]
    },
    {
     "name": "stderr",
     "output_type": "stream",
     "text": [
      "\r",
      "1162it [00:53, 20.15it/s]"
     ]
    },
    {
     "name": "stdout",
     "output_type": "stream",
     "text": [
      "(1, 450, 600, 3)\n",
      "(1, 450, 600, 3)\n",
      "(1, 450, 600, 3)\n",
      "(1, 450, 600, 3)\n",
      "(1, 450, 600, 3)\n"
     ]
    },
    {
     "name": "stderr",
     "output_type": "stream",
     "text": [
      "1167it [00:54, 18.53it/s]"
     ]
    },
    {
     "name": "stdout",
     "output_type": "stream",
     "text": [
      "(1, 450, 600, 3)\n",
      "(1, 450, 600, 3)\n",
      "(1, 450, 600, 3)\n",
      "(1, 450, 600, 3)\n"
     ]
    },
    {
     "name": "stderr",
     "output_type": "stream",
     "text": [
      "1171it [00:54, 18.89it/s]"
     ]
    },
    {
     "name": "stdout",
     "output_type": "stream",
     "text": [
      "(1, 450, 600, 3)\n",
      "(1, 450, 600, 3)\n",
      "(1, 450, 600, 3)\n",
      "(1, 450, 600, 3)\n",
      "(1, 450, 600, 3)\n"
     ]
    },
    {
     "name": "stderr",
     "output_type": "stream",
     "text": [
      "1176it [00:54, 19.22it/s]"
     ]
    },
    {
     "name": "stdout",
     "output_type": "stream",
     "text": [
      "(1, 450, 600, 3)\n",
      "(1, 450, 600, 3)\n",
      "(1, 450, 600, 3)\n",
      "(1, 450, 600, 3)\n"
     ]
    },
    {
     "name": "stderr",
     "output_type": "stream",
     "text": [
      "1180it [00:54, 18.08it/s]"
     ]
    },
    {
     "name": "stdout",
     "output_type": "stream",
     "text": [
      "(1, 450, 600, 3)\n",
      "(1, 450, 600, 3)\n",
      "(1, 450, 600, 3)\n",
      "(1, 450, 600, 3)\n"
     ]
    },
    {
     "name": "stderr",
     "output_type": "stream",
     "text": [
      "1184it [00:55, 17.04it/s]"
     ]
    },
    {
     "name": "stdout",
     "output_type": "stream",
     "text": [
      "(1, 450, 600, 3)\n",
      "(1, 450, 600, 3)\n",
      "(1, 450, 600, 3)\n",
      "(1, 450, 600, 3)\n"
     ]
    },
    {
     "name": "stderr",
     "output_type": "stream",
     "text": [
      "1189it [00:55, 18.44it/s]"
     ]
    },
    {
     "name": "stdout",
     "output_type": "stream",
     "text": [
      "(1, 450, 600, 3)\n",
      "(1, 450, 600, 3)\n",
      "(1, 450, 600, 3)\n",
      "(1, 450, 600, 3)\n",
      "(1, 450, 600, 3)\n"
     ]
    },
    {
     "name": "stderr",
     "output_type": "stream",
     "text": [
      "\r",
      "1192it [00:55, 19.36it/s]"
     ]
    },
    {
     "name": "stdout",
     "output_type": "stream",
     "text": [
      "(1, 450, 600, 3)\n",
      "(1, 450, 600, 3)\n",
      "(1, 450, 600, 3)\n",
      "(1, 450, 600, 3)\n"
     ]
    },
    {
     "name": "stderr",
     "output_type": "stream",
     "text": [
      "1198it [00:55, 21.11it/s]"
     ]
    },
    {
     "name": "stdout",
     "output_type": "stream",
     "text": [
      "(1, 450, 600, 3)\n",
      "(1, 450, 600, 3)\n",
      "(1, 450, 600, 3)\n",
      "(1, 450, 600, 3)\n",
      "(1, 450, 600, 3)\n"
     ]
    },
    {
     "name": "stderr",
     "output_type": "stream",
     "text": [
      "\r",
      "1201it [00:55, 21.34it/s]"
     ]
    },
    {
     "name": "stdout",
     "output_type": "stream",
     "text": [
      "(1, 450, 600, 3)\n",
      "(1, 450, 600, 3)\n",
      "(1, 450, 600, 3)\n",
      "(1, 450, 600, 3)\n",
      "(1, 450, 600, 3)\n"
     ]
    },
    {
     "name": "stderr",
     "output_type": "stream",
     "text": [
      "1207it [00:56, 20.37it/s]"
     ]
    },
    {
     "name": "stdout",
     "output_type": "stream",
     "text": [
      "(1, 450, 600, 3)\n",
      "(1, 450, 600, 3)\n",
      "(1, 450, 600, 3)\n",
      "(1, 450, 600, 3)\n",
      "(1, 450, 600, 3)\n"
     ]
    },
    {
     "name": "stderr",
     "output_type": "stream",
     "text": [
      "1213it [00:56, 20.88it/s]"
     ]
    },
    {
     "name": "stdout",
     "output_type": "stream",
     "text": [
      "(1, 450, 600, 3)\n",
      "(1, 450, 600, 3)\n",
      "(1, 450, 600, 3)\n",
      "(1, 450, 600, 3)\n",
      "(1, 450, 600, 3)\n"
     ]
    },
    {
     "name": "stderr",
     "output_type": "stream",
     "text": [
      "\r",
      "1216it [00:56, 21.66it/s]"
     ]
    },
    {
     "name": "stdout",
     "output_type": "stream",
     "text": [
      "(1, 450, 600, 3)\n",
      "(1, 450, 600, 3)\n",
      "(1, 450, 600, 3)\n",
      "(1, 450, 600, 3)\n",
      "(1, 450, 600, 3)\n"
     ]
    },
    {
     "name": "stderr",
     "output_type": "stream",
     "text": [
      "1222it [00:56, 21.86it/s]"
     ]
    },
    {
     "name": "stdout",
     "output_type": "stream",
     "text": [
      "(1, 450, 600, 3)\n",
      "(1, 450, 600, 3)\n",
      "(1, 450, 600, 3)\n",
      "(1, 450, 600, 3)\n",
      "(1, 450, 600, 3)\n"
     ]
    },
    {
     "name": "stderr",
     "output_type": "stream",
     "text": [
      "1228it [00:57, 20.73it/s]"
     ]
    },
    {
     "name": "stdout",
     "output_type": "stream",
     "text": [
      "(1, 450, 600, 3)\n",
      "(1, 450, 600, 3)\n",
      "(1, 450, 600, 3)\n",
      "(1, 450, 600, 3)\n"
     ]
    },
    {
     "name": "stderr",
     "output_type": "stream",
     "text": [
      "\r",
      "1231it [00:57, 20.73it/s]"
     ]
    },
    {
     "name": "stdout",
     "output_type": "stream",
     "text": [
      "(1, 450, 600, 3)\n",
      "(1, 450, 600, 3)\n",
      "(1, 450, 600, 3)\n",
      "(1, 450, 600, 3)\n"
     ]
    },
    {
     "name": "stderr",
     "output_type": "stream",
     "text": [
      "\r",
      "1234it [00:57, 19.41it/s]"
     ]
    },
    {
     "name": "stdout",
     "output_type": "stream",
     "text": [
      "(1, 450, 600, 3)\n",
      "(1, 450, 600, 3)\n",
      "(1, 450, 600, 3)\n",
      "(1, 450, 600, 3)\n",
      "(1, 450, 600, 3)\n"
     ]
    },
    {
     "name": "stderr",
     "output_type": "stream",
     "text": [
      "1240it [00:57, 20.76it/s]"
     ]
    },
    {
     "name": "stdout",
     "output_type": "stream",
     "text": [
      "(1, 450, 600, 3)\n",
      "(1, 450, 600, 3)\n",
      "(1, 450, 600, 3)\n",
      "(1, 450, 600, 3)\n",
      "(1, 450, 600, 3)\n"
     ]
    },
    {
     "name": "stderr",
     "output_type": "stream",
     "text": [
      "1246it [00:58, 21.22it/s]"
     ]
    },
    {
     "name": "stdout",
     "output_type": "stream",
     "text": [
      "(1, 450, 600, 3)\n",
      "(1, 450, 600, 3)\n",
      "(1, 450, 600, 3)\n",
      "(1, 450, 600, 3)\n",
      "(1, 450, 600, 3)\n"
     ]
    },
    {
     "name": "stderr",
     "output_type": "stream",
     "text": [
      "\r",
      "1249it [00:58, 20.43it/s]"
     ]
    },
    {
     "name": "stdout",
     "output_type": "stream",
     "text": [
      "(1, 450, 600, 3)\n",
      "(1, 450, 600, 3)\n",
      "(1, 450, 600, 3)\n",
      "(1, 450, 600, 3)\n",
      "(1, 450, 600, 3)\n"
     ]
    },
    {
     "name": "stderr",
     "output_type": "stream",
     "text": [
      "1255it [00:58, 21.03it/s]"
     ]
    },
    {
     "name": "stdout",
     "output_type": "stream",
     "text": [
      "(1, 450, 600, 3)\n",
      "(1, 450, 600, 3)\n",
      "(1, 450, 600, 3)\n",
      "(1, 450, 600, 3)\n",
      "(1, 450, 600, 3)\n"
     ]
    },
    {
     "name": "stderr",
     "output_type": "stream",
     "text": [
      "1261it [00:58, 20.72it/s]"
     ]
    },
    {
     "name": "stdout",
     "output_type": "stream",
     "text": [
      "(1, 450, 600, 3)\n",
      "(1, 450, 600, 3)\n",
      "(1, 450, 600, 3)\n",
      "(1, 450, 600, 3)\n",
      "(1, 450, 600, 3)\n"
     ]
    },
    {
     "name": "stderr",
     "output_type": "stream",
     "text": [
      "\r",
      "1264it [00:59, 19.94it/s]"
     ]
    },
    {
     "name": "stdout",
     "output_type": "stream",
     "text": [
      "(1, 450, 600, 3)\n",
      "(1, 450, 600, 3)\n",
      "(1, 450, 600, 3)\n",
      "(1, 450, 600, 3)\n"
     ]
    },
    {
     "name": "stderr",
     "output_type": "stream",
     "text": [
      "1269it [00:59, 19.64it/s]"
     ]
    },
    {
     "name": "stdout",
     "output_type": "stream",
     "text": [
      "(1, 450, 600, 3)\n",
      "(1, 450, 600, 3)\n",
      "(1, 450, 600, 3)\n",
      "(1, 450, 600, 3)\n",
      "(1, 450, 600, 3)\n"
     ]
    },
    {
     "name": "stderr",
     "output_type": "stream",
     "text": [
      "1275it [00:59, 19.01it/s]"
     ]
    },
    {
     "name": "stdout",
     "output_type": "stream",
     "text": [
      "(1, 450, 600, 3)\n",
      "(1, 450, 600, 3)\n",
      "(1, 450, 600, 3)\n",
      "(1, 450, 600, 3)\n"
     ]
    },
    {
     "name": "stderr",
     "output_type": "stream",
     "text": [
      "1279it [00:59, 18.37it/s]"
     ]
    },
    {
     "name": "stdout",
     "output_type": "stream",
     "text": [
      "(1, 450, 600, 3)\n",
      "(1, 450, 600, 3)\n",
      "(1, 450, 600, 3)\n",
      "(1, 450, 600, 3)\n",
      "(1, 450, 600, 3)\n"
     ]
    },
    {
     "name": "stderr",
     "output_type": "stream",
     "text": [
      "\r",
      "1282it [00:59, 19.22it/s]"
     ]
    },
    {
     "name": "stdout",
     "output_type": "stream",
     "text": [
      "(1, 450, 600, 3)\n",
      "(1, 450, 600, 3)\n",
      "(1, 450, 600, 3)\n",
      "(1, 450, 600, 3)\n"
     ]
    },
    {
     "name": "stderr",
     "output_type": "stream",
     "text": [
      "1286it [01:00, 19.18it/s]"
     ]
    },
    {
     "name": "stdout",
     "output_type": "stream",
     "text": [
      "(1, 450, 600, 3)\n",
      "(1, 450, 600, 3)\n",
      "(1, 450, 600, 3)\n",
      "(1, 450, 600, 3)\n"
     ]
    },
    {
     "name": "stderr",
     "output_type": "stream",
     "text": [
      "1291it [01:00, 19.82it/s]"
     ]
    },
    {
     "name": "stdout",
     "output_type": "stream",
     "text": [
      "(1, 450, 600, 3)\n",
      "(1, 450, 600, 3)\n",
      "(1, 450, 600, 3)\n",
      "(1, 450, 600, 3)\n",
      "(1, 450, 600, 3)\n"
     ]
    },
    {
     "name": "stderr",
     "output_type": "stream",
     "text": [
      "1296it [01:00, 19.80it/s]"
     ]
    },
    {
     "name": "stdout",
     "output_type": "stream",
     "text": [
      "(1, 450, 600, 3)\n",
      "(1, 450, 600, 3)\n",
      "(1, 450, 600, 3)\n",
      "(1, 450, 600, 3)\n"
     ]
    },
    {
     "name": "stderr",
     "output_type": "stream",
     "text": [
      "1301it [01:00, 19.23it/s]"
     ]
    },
    {
     "name": "stdout",
     "output_type": "stream",
     "text": [
      "(1, 450, 600, 3)\n",
      "(1, 450, 600, 3)\n",
      "(1, 450, 600, 3)\n",
      "(1, 450, 600, 3)\n"
     ]
    },
    {
     "name": "stderr",
     "output_type": "stream",
     "text": [
      "\r",
      "1303it [01:01, 18.36it/s]"
     ]
    },
    {
     "name": "stdout",
     "output_type": "stream",
     "text": [
      "(1, 450, 600, 3)\n",
      "(1, 450, 600, 3)\n",
      "(1, 450, 600, 3)\n",
      "(1, 450, 600, 3)\n",
      "(1, 450, 600, 3)\n"
     ]
    },
    {
     "name": "stderr",
     "output_type": "stream",
     "text": [
      "1310it [01:01, 18.55it/s]"
     ]
    },
    {
     "name": "stdout",
     "output_type": "stream",
     "text": [
      "(1, 450, 600, 3)\n",
      "(1, 450, 600, 3)\n",
      "(1, 450, 600, 3)\n",
      "(1, 450, 600, 3)\n"
     ]
    },
    {
     "name": "stderr",
     "output_type": "stream",
     "text": [
      "1314it [01:01, 18.47it/s]"
     ]
    },
    {
     "name": "stdout",
     "output_type": "stream",
     "text": [
      "(1, 450, 600, 3)\n",
      "(1, 450, 600, 3)\n",
      "(1, 450, 600, 3)\n",
      "(1, 450, 600, 3)\n",
      "(1, 450, 600, 3)\n"
     ]
    },
    {
     "name": "stderr",
     "output_type": "stream",
     "text": [
      "1318it [01:01, 18.87it/s]"
     ]
    },
    {
     "name": "stdout",
     "output_type": "stream",
     "text": [
      "(1, 450, 600, 3)\n",
      "(1, 450, 600, 3)\n",
      "(1, 450, 600, 3)\n",
      "(1, 450, 600, 3)\n",
      "(1, 450, 600, 3)\n"
     ]
    },
    {
     "name": "stderr",
     "output_type": "stream",
     "text": [
      "1324it [01:02, 18.77it/s]"
     ]
    },
    {
     "name": "stdout",
     "output_type": "stream",
     "text": [
      "(1, 450, 600, 3)\n",
      "(1, 450, 600, 3)\n",
      "(1, 450, 600, 3)\n",
      "(1, 450, 600, 3)\n"
     ]
    },
    {
     "name": "stderr",
     "output_type": "stream",
     "text": [
      "\r",
      "1327it [01:02, 19.47it/s]"
     ]
    },
    {
     "name": "stdout",
     "output_type": "stream",
     "text": [
      "(1, 450, 600, 3)\n",
      "(1, 450, 600, 3)\n",
      "(1, 450, 600, 3)\n",
      "(1, 450, 600, 3)\n",
      "(1, 450, 600, 3)\n"
     ]
    },
    {
     "name": "stderr",
     "output_type": "stream",
     "text": [
      "1333it [01:02, 19.29it/s]"
     ]
    },
    {
     "name": "stdout",
     "output_type": "stream",
     "text": [
      "(1, 450, 600, 3)\n",
      "(1, 450, 600, 3)\n",
      "(1, 450, 600, 3)\n",
      "(1, 450, 600, 3)\n",
      "(1, 450, 600, 3)\n"
     ]
    },
    {
     "name": "stderr",
     "output_type": "stream",
     "text": [
      "1337it [01:02, 19.22it/s]"
     ]
    },
    {
     "name": "stdout",
     "output_type": "stream",
     "text": [
      "(1, 450, 600, 3)\n",
      "(1, 450, 600, 3)\n",
      "(1, 450, 600, 3)\n",
      "(1, 450, 600, 3)\n",
      "(1, 450, 600, 3)\n"
     ]
    },
    {
     "name": "stderr",
     "output_type": "stream",
     "text": [
      "1342it [01:03, 19.23it/s]"
     ]
    },
    {
     "name": "stdout",
     "output_type": "stream",
     "text": [
      "(1, 450, 600, 3)\n",
      "(1, 450, 600, 3)\n",
      "(1, 450, 600, 3)\n",
      "(1, 450, 600, 3)\n"
     ]
    },
    {
     "name": "stderr",
     "output_type": "stream",
     "text": [
      "1347it [01:03, 19.29it/s]"
     ]
    },
    {
     "name": "stdout",
     "output_type": "stream",
     "text": [
      "(1, 450, 600, 3)\n",
      "(1, 450, 600, 3)\n",
      "(1, 450, 600, 3)\n",
      "(1, 450, 600, 3)\n",
      "(1, 450, 600, 3)\n"
     ]
    },
    {
     "name": "stderr",
     "output_type": "stream",
     "text": [
      "1352it [01:03, 19.48it/s]"
     ]
    },
    {
     "name": "stdout",
     "output_type": "stream",
     "text": [
      "(1, 450, 600, 3)\n",
      "(1, 450, 600, 3)\n",
      "(1, 450, 600, 3)\n",
      "(1, 450, 600, 3)\n",
      "(1, 450, 600, 3)\n"
     ]
    },
    {
     "name": "stderr",
     "output_type": "stream",
     "text": [
      "1356it [01:03, 19.15it/s]"
     ]
    },
    {
     "name": "stdout",
     "output_type": "stream",
     "text": [
      "(1, 450, 600, 3)\n",
      "(1, 450, 600, 3)\n",
      "(1, 450, 600, 3)\n",
      "(1, 450, 600, 3)\n"
     ]
    },
    {
     "name": "stderr",
     "output_type": "stream",
     "text": [
      "1361it [01:04, 19.36it/s]"
     ]
    },
    {
     "name": "stdout",
     "output_type": "stream",
     "text": [
      "(1, 450, 600, 3)\n",
      "(1, 450, 600, 3)\n",
      "(1, 450, 600, 3)\n",
      "(1, 450, 600, 3)\n",
      "(1, 450, 600, 3)\n"
     ]
    },
    {
     "name": "stderr",
     "output_type": "stream",
     "text": [
      "1365it [01:04, 17.17it/s]"
     ]
    },
    {
     "name": "stdout",
     "output_type": "stream",
     "text": [
      "(1, 450, 600, 3)\n",
      "(1, 450, 600, 3)\n",
      "(1, 450, 600, 3)\n"
     ]
    },
    {
     "name": "stderr",
     "output_type": "stream",
     "text": [
      "\r",
      "1367it [01:04, 17.11it/s]"
     ]
    },
    {
     "name": "stdout",
     "output_type": "stream",
     "text": [
      "(1, 450, 600, 3)\n",
      "(1, 450, 600, 3)\n",
      "(1, 450, 600, 3)\n",
      "(1, 450, 600, 3)\n"
     ]
    },
    {
     "name": "stderr",
     "output_type": "stream",
     "text": [
      "1373it [01:04, 19.90it/s]"
     ]
    },
    {
     "name": "stdout",
     "output_type": "stream",
     "text": [
      "(1, 450, 600, 3)\n",
      "(1, 450, 600, 3)\n",
      "(1, 450, 600, 3)\n",
      "(1, 450, 600, 3)\n",
      "(1, 450, 600, 3)\n"
     ]
    },
    {
     "name": "stderr",
     "output_type": "stream",
     "text": [
      "\r",
      "1376it [01:04, 20.27it/s]"
     ]
    },
    {
     "name": "stdout",
     "output_type": "stream",
     "text": [
      "(1, 450, 600, 3)\n",
      "(1, 450, 600, 3)\n",
      "(1, 450, 600, 3)\n",
      "(1, 450, 600, 3)\n",
      "(1, 450, 600, 3)\n"
     ]
    },
    {
     "name": "stderr",
     "output_type": "stream",
     "text": [
      "1382it [01:05, 20.70it/s]"
     ]
    },
    {
     "name": "stdout",
     "output_type": "stream",
     "text": [
      "(1, 450, 600, 3)\n",
      "(1, 450, 600, 3)\n",
      "(1, 450, 600, 3)\n",
      "(1, 450, 600, 3)\n",
      "(1, 450, 600, 3)\n"
     ]
    },
    {
     "name": "stderr",
     "output_type": "stream",
     "text": [
      "1388it [01:05, 20.78it/s]"
     ]
    },
    {
     "name": "stdout",
     "output_type": "stream",
     "text": [
      "(1, 450, 600, 3)\n",
      "(1, 450, 600, 3)\n",
      "(1, 450, 600, 3)\n",
      "(1, 450, 600, 3)\n",
      "(1, 450, 600, 3)\n"
     ]
    },
    {
     "name": "stderr",
     "output_type": "stream",
     "text": [
      "1394it [01:05, 21.22it/s]"
     ]
    },
    {
     "name": "stdout",
     "output_type": "stream",
     "text": [
      "(1, 450, 600, 3)\n",
      "(1, 450, 600, 3)\n",
      "(1, 450, 600, 3)\n",
      "(1, 450, 600, 3)\n",
      "(1, 450, 600, 3)\n"
     ]
    },
    {
     "name": "stderr",
     "output_type": "stream",
     "text": [
      "\r",
      "1397it [01:05, 20.92it/s]"
     ]
    },
    {
     "name": "stdout",
     "output_type": "stream",
     "text": [
      "(1, 450, 600, 3)\n",
      "(1, 450, 600, 3)\n",
      "(1, 450, 600, 3)\n",
      "(1, 450, 600, 3)\n",
      "(1, 450, 600, 3)\n"
     ]
    },
    {
     "name": "stderr",
     "output_type": "stream",
     "text": [
      "1403it [01:06, 20.59it/s]"
     ]
    },
    {
     "name": "stdout",
     "output_type": "stream",
     "text": [
      "(1, 450, 600, 3)\n",
      "(1, 450, 600, 3)\n",
      "(1, 450, 600, 3)\n",
      "(1, 450, 600, 3)\n"
     ]
    },
    {
     "name": "stderr",
     "output_type": "stream",
     "text": [
      "\r",
      "1406it [01:06, 20.78it/s]"
     ]
    },
    {
     "name": "stdout",
     "output_type": "stream",
     "text": [
      "(1, 450, 600, 3)\n",
      "(1, 450, 600, 3)\n",
      "(1, 450, 600, 3)\n",
      "(1, 450, 600, 3)\n",
      "(1, 450, 600, 3)\n"
     ]
    },
    {
     "name": "stderr",
     "output_type": "stream",
     "text": [
      "\r",
      "1409it [01:06, 20.94it/s]"
     ]
    },
    {
     "name": "stdout",
     "output_type": "stream",
     "text": [
      "(1, 450, 600, 3)\n",
      "(1, 450, 600, 3)\n",
      "(1, 450, 600, 3)\n",
      "(1, 450, 600, 3)\n"
     ]
    },
    {
     "name": "stderr",
     "output_type": "stream",
     "text": [
      "1415it [01:06, 21.18it/s]"
     ]
    },
    {
     "name": "stdout",
     "output_type": "stream",
     "text": [
      "(1, 450, 600, 3)\n",
      "(1, 450, 600, 3)\n",
      "(1, 450, 600, 3)\n",
      "(1, 450, 600, 3)\n",
      "(1, 450, 600, 3)\n"
     ]
    },
    {
     "name": "stderr",
     "output_type": "stream",
     "text": [
      "\r",
      "1418it [01:06, 21.22it/s]"
     ]
    },
    {
     "name": "stdout",
     "output_type": "stream",
     "text": [
      "(1, 450, 600, 3)\n",
      "(1, 450, 600, 3)\n",
      "(1, 450, 600, 3)\n",
      "(1, 450, 600, 3)\n"
     ]
    },
    {
     "name": "stderr",
     "output_type": "stream",
     "text": [
      "1424it [01:07, 19.12it/s]"
     ]
    },
    {
     "name": "stdout",
     "output_type": "stream",
     "text": [
      "(1, 450, 600, 3)\n",
      "(1, 450, 600, 3)\n",
      "(1, 450, 600, 3)\n",
      "(1, 450, 600, 3)\n"
     ]
    },
    {
     "name": "stderr",
     "output_type": "stream",
     "text": [
      "1429it [01:07, 19.64it/s]"
     ]
    },
    {
     "name": "stdout",
     "output_type": "stream",
     "text": [
      "(1, 450, 600, 3)\n",
      "(1, 450, 600, 3)\n",
      "(1, 450, 600, 3)\n",
      "(1, 450, 600, 3)\n"
     ]
    },
    {
     "name": "stderr",
     "output_type": "stream",
     "text": [
      "1433it [01:07, 19.78it/s]"
     ]
    },
    {
     "name": "stdout",
     "output_type": "stream",
     "text": [
      "(1, 450, 600, 3)\n",
      "(1, 450, 600, 3)\n",
      "(1, 450, 600, 3)\n",
      "(1, 450, 600, 3)\n"
     ]
    },
    {
     "name": "stderr",
     "output_type": "stream",
     "text": [
      "1438it [01:07, 20.87it/s]"
     ]
    },
    {
     "name": "stdout",
     "output_type": "stream",
     "text": [
      "(1, 450, 600, 3)\n",
      "(1, 450, 600, 3)\n",
      "(1, 450, 600, 3)\n",
      "(1, 450, 600, 3)\n",
      "(1, 450, 600, 3)\n"
     ]
    },
    {
     "name": "stderr",
     "output_type": "stream",
     "text": [
      "\r",
      "1441it [01:08, 21.07it/s]"
     ]
    },
    {
     "name": "stdout",
     "output_type": "stream",
     "text": [
      "(1, 450, 600, 3)\n",
      "(1, 450, 600, 3)\n",
      "(1, 450, 600, 3)\n",
      "(1, 450, 600, 3)\n",
      "(1, 450, 600, 3)\n"
     ]
    },
    {
     "name": "stderr",
     "output_type": "stream",
     "text": [
      "1447it [01:08, 20.82it/s]"
     ]
    },
    {
     "name": "stdout",
     "output_type": "stream",
     "text": [
      "(1, 450, 600, 3)\n",
      "(1, 450, 600, 3)\n",
      "(1, 450, 600, 3)\n",
      "(1, 450, 600, 3)\n",
      "(1, 450, 600, 3)\n"
     ]
    },
    {
     "name": "stderr",
     "output_type": "stream",
     "text": [
      "\r",
      "1450it [01:08, 20.89it/s]"
     ]
    },
    {
     "name": "stdout",
     "output_type": "stream",
     "text": [
      "(1, 450, 600, 3)\n",
      "(1, 450, 600, 3)\n",
      "(1, 450, 600, 3)\n",
      "(1, 450, 600, 3)\n",
      "(1, 450, 600, 3)\n"
     ]
    },
    {
     "name": "stderr",
     "output_type": "stream",
     "text": [
      "1456it [01:08, 20.67it/s]"
     ]
    },
    {
     "name": "stdout",
     "output_type": "stream",
     "text": [
      "(1, 450, 600, 3)\n",
      "(1, 450, 600, 3)\n",
      "(1, 450, 600, 3)\n",
      "(1, 450, 600, 3)\n"
     ]
    },
    {
     "name": "stderr",
     "output_type": "stream",
     "text": [
      "\r",
      "1459it [01:08, 19.26it/s]"
     ]
    },
    {
     "name": "stdout",
     "output_type": "stream",
     "text": [
      "(1, 450, 600, 3)\n",
      "(1, 450, 600, 3)\n",
      "(1, 450, 600, 3)\n",
      "(1, 450, 600, 3)\n"
     ]
    },
    {
     "name": "stderr",
     "output_type": "stream",
     "text": [
      "1465it [01:09, 18.51it/s]"
     ]
    },
    {
     "name": "stdout",
     "output_type": "stream",
     "text": [
      "(1, 450, 600, 3)\n",
      "(1, 450, 600, 3)\n",
      "(1, 450, 600, 3)\n",
      "(1, 450, 600, 3)\n"
     ]
    },
    {
     "name": "stderr",
     "output_type": "stream",
     "text": [
      "1469it [01:09, 17.30it/s]"
     ]
    },
    {
     "name": "stdout",
     "output_type": "stream",
     "text": [
      "(1, 450, 600, 3)\n",
      "(1, 450, 600, 3)\n",
      "(1, 450, 600, 3)\n",
      "(1, 450, 600, 3)\n"
     ]
    },
    {
     "name": "stderr",
     "output_type": "stream",
     "text": [
      "1473it [01:09, 18.53it/s]"
     ]
    },
    {
     "name": "stdout",
     "output_type": "stream",
     "text": [
      "(1, 450, 600, 3)\n",
      "(1, 450, 600, 3)\n",
      "(1, 450, 600, 3)\n",
      "(1, 450, 600, 3)\n"
     ]
    },
    {
     "name": "stderr",
     "output_type": "stream",
     "text": [
      "1477it [01:09, 18.01it/s]"
     ]
    },
    {
     "name": "stdout",
     "output_type": "stream",
     "text": [
      "(1, 450, 600, 3)\n",
      "(1, 450, 600, 3)\n",
      "(1, 450, 600, 3)\n",
      "(1, 450, 600, 3)\n"
     ]
    },
    {
     "name": "stderr",
     "output_type": "stream",
     "text": [
      "1481it [01:10, 18.60it/s]"
     ]
    },
    {
     "name": "stdout",
     "output_type": "stream",
     "text": [
      "(1, 450, 600, 3)\n",
      "(1, 450, 600, 3)\n",
      "(1, 450, 600, 3)\n",
      "(1, 450, 600, 3)\n"
     ]
    },
    {
     "name": "stderr",
     "output_type": "stream",
     "text": [
      "\r",
      "1483it [01:10, 17.98it/s]"
     ]
    },
    {
     "name": "stdout",
     "output_type": "stream",
     "text": [
      "(1, 450, 600, 3)\n",
      "(1, 450, 600, 3)\n",
      "(1, 450, 600, 3)\n",
      "(1, 450, 600, 3)\n"
     ]
    },
    {
     "name": "stderr",
     "output_type": "stream",
     "text": [
      "1489it [01:10, 19.93it/s]"
     ]
    },
    {
     "name": "stdout",
     "output_type": "stream",
     "text": [
      "(1, 450, 600, 3)\n",
      "(1, 450, 600, 3)\n",
      "(1, 450, 600, 3)\n",
      "(1, 450, 600, 3)\n",
      "(1, 450, 600, 3)\n"
     ]
    },
    {
     "name": "stderr",
     "output_type": "stream",
     "text": [
      "\r",
      "1492it [01:10, 20.41it/s]"
     ]
    },
    {
     "name": "stdout",
     "output_type": "stream",
     "text": [
      "(1, 450, 600, 3)\n",
      "(1, 450, 600, 3)\n",
      "(1, 450, 600, 3)\n",
      "(1, 450, 600, 3)\n",
      "(1, 450, 600, 3)\n"
     ]
    },
    {
     "name": "stderr",
     "output_type": "stream",
     "text": [
      "1498it [01:11, 21.42it/s]"
     ]
    },
    {
     "name": "stdout",
     "output_type": "stream",
     "text": [
      "(1, 450, 600, 3)\n",
      "(1, 450, 600, 3)\n",
      "(1, 450, 600, 3)\n",
      "(1, 450, 600, 3)\n",
      "(1, 450, 600, 3)\n"
     ]
    },
    {
     "name": "stderr",
     "output_type": "stream",
     "text": [
      "\r",
      "1501it [01:11, 21.43it/s]"
     ]
    },
    {
     "name": "stdout",
     "output_type": "stream",
     "text": [
      "(1, 450, 600, 3)\n",
      "(1, 450, 600, 3)\n",
      "(1, 450, 600, 3)\n",
      "(1, 450, 600, 3)\n"
     ]
    },
    {
     "name": "stderr",
     "output_type": "stream",
     "text": [
      "1507it [01:11, 21.22it/s]"
     ]
    },
    {
     "name": "stdout",
     "output_type": "stream",
     "text": [
      "(1, 450, 600, 3)\n",
      "(1, 450, 600, 3)\n",
      "(1, 450, 600, 3)\n",
      "(1, 450, 600, 3)\n",
      "(1, 450, 600, 3)\n"
     ]
    },
    {
     "name": "stderr",
     "output_type": "stream",
     "text": [
      "1513it [01:11, 20.90it/s]"
     ]
    },
    {
     "name": "stdout",
     "output_type": "stream",
     "text": [
      "(1, 450, 600, 3)\n",
      "(1, 450, 600, 3)\n",
      "(1, 450, 600, 3)\n",
      "(1, 450, 600, 3)\n",
      "(1, 450, 600, 3)\n"
     ]
    },
    {
     "name": "stderr",
     "output_type": "stream",
     "text": [
      "1519it [01:11, 21.63it/s]"
     ]
    },
    {
     "name": "stdout",
     "output_type": "stream",
     "text": [
      "(1, 450, 600, 3)\n",
      "(1, 450, 600, 3)\n",
      "(1, 450, 600, 3)\n",
      "(1, 450, 600, 3)\n",
      "(1, 450, 600, 3)\n"
     ]
    },
    {
     "name": "stderr",
     "output_type": "stream",
     "text": [
      "\r",
      "1522it [01:12, 22.04it/s]"
     ]
    },
    {
     "name": "stdout",
     "output_type": "stream",
     "text": [
      "(1, 450, 600, 3)\n",
      "(1, 450, 600, 3)\n",
      "(1, 450, 600, 3)\n",
      "(1, 450, 600, 3)\n"
     ]
    },
    {
     "name": "stderr",
     "output_type": "stream",
     "text": [
      "\r",
      "1525it [01:12, 20.48it/s]"
     ]
    },
    {
     "name": "stdout",
     "output_type": "stream",
     "text": [
      "(1, 450, 600, 3)\n",
      "(1, 450, 600, 3)\n",
      "(1, 450, 600, 3)\n",
      "(1, 450, 600, 3)\n",
      "(1, 450, 600, 3)\n"
     ]
    },
    {
     "name": "stderr",
     "output_type": "stream",
     "text": [
      "1531it [01:12, 21.27it/s]"
     ]
    },
    {
     "name": "stdout",
     "output_type": "stream",
     "text": [
      "(1, 450, 600, 3)\n",
      "(1, 450, 600, 3)\n",
      "(1, 450, 600, 3)\n",
      "(1, 450, 600, 3)\n",
      "(1, 450, 600, 3)\n"
     ]
    },
    {
     "name": "stderr",
     "output_type": "stream",
     "text": [
      "\r",
      "1534it [01:12, 20.89it/s]"
     ]
    },
    {
     "name": "stdout",
     "output_type": "stream",
     "text": [
      "(1, 450, 600, 3)\n",
      "(1, 450, 600, 3)\n",
      "(1, 450, 600, 3)\n",
      "(1, 450, 600, 3)\n"
     ]
    },
    {
     "name": "stderr",
     "output_type": "stream",
     "text": [
      "1540it [01:12, 21.44it/s]"
     ]
    },
    {
     "name": "stdout",
     "output_type": "stream",
     "text": [
      "(1, 450, 600, 3)\n",
      "(1, 450, 600, 3)\n",
      "(1, 450, 600, 3)\n",
      "(1, 450, 600, 3)\n",
      "(1, 450, 600, 3)\n"
     ]
    },
    {
     "name": "stderr",
     "output_type": "stream",
     "text": [
      "1546it [01:13, 20.55it/s]"
     ]
    },
    {
     "name": "stdout",
     "output_type": "stream",
     "text": [
      "(1, 450, 600, 3)\n",
      "(1, 450, 600, 3)\n",
      "(1, 450, 600, 3)\n",
      "(1, 450, 600, 3)\n"
     ]
    },
    {
     "name": "stderr",
     "output_type": "stream",
     "text": [
      "\r",
      "1549it [01:13, 20.81it/s]"
     ]
    },
    {
     "name": "stdout",
     "output_type": "stream",
     "text": [
      "(1, 450, 600, 3)\n",
      "(1, 450, 600, 3)\n",
      "(1, 450, 600, 3)\n",
      "(1, 450, 600, 3)\n",
      "(1, 450, 600, 3)\n"
     ]
    },
    {
     "name": "stderr",
     "output_type": "stream",
     "text": [
      "1554it [01:13, 19.09it/s]"
     ]
    },
    {
     "name": "stdout",
     "output_type": "stream",
     "text": [
      "(1, 450, 600, 3)\n",
      "(1, 450, 600, 3)\n",
      "(1, 450, 600, 3)\n",
      "(1, 450, 600, 3)\n"
     ]
    },
    {
     "name": "stderr",
     "output_type": "stream",
     "text": [
      "\r",
      "1557it [01:13, 19.78it/s]"
     ]
    },
    {
     "name": "stdout",
     "output_type": "stream",
     "text": [
      "(1, 450, 600, 3)\n",
      "(1, 450, 600, 3)\n",
      "(1, 450, 600, 3)\n",
      "(1, 450, 600, 3)\n",
      "(1, 450, 600, 3)\n"
     ]
    },
    {
     "name": "stderr",
     "output_type": "stream",
     "text": [
      "1563it [01:14, 20.93it/s]"
     ]
    },
    {
     "name": "stdout",
     "output_type": "stream",
     "text": [
      "(1, 450, 600, 3)\n",
      "(1, 450, 600, 3)\n",
      "(1, 450, 600, 3)\n",
      "(1, 450, 600, 3)\n",
      "(1, 450, 600, 3)\n"
     ]
    },
    {
     "name": "stderr",
     "output_type": "stream",
     "text": [
      "\r",
      "1566it [01:14, 20.21it/s]"
     ]
    },
    {
     "name": "stdout",
     "output_type": "stream",
     "text": [
      "(1, 450, 600, 3)\n",
      "(1, 450, 600, 3)\n",
      "(1, 450, 600, 3)\n"
     ]
    },
    {
     "name": "stderr",
     "output_type": "stream",
     "text": [
      "1572it [01:14, 20.82it/s]"
     ]
    },
    {
     "name": "stdout",
     "output_type": "stream",
     "text": [
      "(1, 450, 600, 3)\n",
      "(1, 450, 600, 3)\n",
      "(1, 450, 600, 3)\n",
      "(1, 450, 600, 3)\n",
      "(1, 450, 600, 3)\n"
     ]
    },
    {
     "name": "stderr",
     "output_type": "stream",
     "text": [
      "1578it [01:14, 20.95it/s]"
     ]
    },
    {
     "name": "stdout",
     "output_type": "stream",
     "text": [
      "(1, 450, 600, 3)\n",
      "(1, 450, 600, 3)\n",
      "(1, 450, 600, 3)\n",
      "(1, 450, 600, 3)\n",
      "(1, 450, 600, 3)\n"
     ]
    },
    {
     "name": "stderr",
     "output_type": "stream",
     "text": [
      "\r",
      "1581it [01:14, 21.51it/s]"
     ]
    },
    {
     "name": "stdout",
     "output_type": "stream",
     "text": [
      "(1, 450, 600, 3)\n",
      "(1, 450, 600, 3)\n",
      "(1, 450, 600, 3)\n",
      "(1, 450, 600, 3)\n",
      "(1, 450, 600, 3)\n"
     ]
    },
    {
     "name": "stderr",
     "output_type": "stream",
     "text": [
      "1587it [01:15, 21.00it/s]"
     ]
    },
    {
     "name": "stdout",
     "output_type": "stream",
     "text": [
      "(1, 450, 600, 3)\n",
      "(1, 450, 600, 3)\n",
      "(1, 450, 600, 3)\n",
      "(1, 450, 600, 3)\n",
      "(1, 450, 600, 3)\n"
     ]
    },
    {
     "name": "stderr",
     "output_type": "stream",
     "text": [
      "\r",
      "1590it [01:15, 20.66it/s]"
     ]
    },
    {
     "name": "stdout",
     "output_type": "stream",
     "text": [
      "(1, 450, 600, 3)\n",
      "(1, 450, 600, 3)\n",
      "(1, 450, 600, 3)\n",
      "(1, 450, 600, 3)\n",
      "(1, 450, 600, 3)\n"
     ]
    },
    {
     "name": "stderr",
     "output_type": "stream",
     "text": [
      "1596it [01:15, 21.03it/s]"
     ]
    },
    {
     "name": "stdout",
     "output_type": "stream",
     "text": [
      "(1, 450, 600, 3)\n",
      "(1, 450, 600, 3)\n",
      "(1, 450, 600, 3)\n",
      "(1, 450, 600, 3)\n",
      "(1, 450, 600, 3)\n"
     ]
    },
    {
     "name": "stderr",
     "output_type": "stream",
     "text": [
      "\r",
      "1599it [01:15, 21.14it/s]"
     ]
    },
    {
     "name": "stdout",
     "output_type": "stream",
     "text": [
      "(1, 450, 600, 3)\n",
      "(1, 450, 600, 3)\n",
      "(1, 450, 600, 3)\n",
      "(1, 450, 600, 3)\n"
     ]
    },
    {
     "name": "stderr",
     "output_type": "stream",
     "text": [
      "1605it [01:16, 21.51it/s]"
     ]
    },
    {
     "name": "stdout",
     "output_type": "stream",
     "text": [
      "(1, 450, 600, 3)\n",
      "(1, 450, 600, 3)\n",
      "(1, 450, 600, 3)\n",
      "(1, 450, 600, 3)\n",
      "(1, 450, 600, 3)\n"
     ]
    },
    {
     "name": "stderr",
     "output_type": "stream",
     "text": [
      "1611it [01:16, 20.10it/s]"
     ]
    },
    {
     "name": "stdout",
     "output_type": "stream",
     "text": [
      "(1, 450, 600, 3)\n",
      "(1, 450, 600, 3)\n",
      "(1, 450, 600, 3)\n",
      "(1, 450, 600, 3)\n",
      "(1, 450, 600, 3)\n"
     ]
    },
    {
     "name": "stderr",
     "output_type": "stream",
     "text": [
      "\r",
      "1614it [01:16, 20.90it/s]"
     ]
    },
    {
     "name": "stdout",
     "output_type": "stream",
     "text": [
      "(1, 450, 600, 3)\n",
      "(1, 450, 600, 3)\n",
      "(1, 450, 600, 3)\n",
      "(1, 450, 600, 3)\n"
     ]
    },
    {
     "name": "stderr",
     "output_type": "stream",
     "text": [
      "1620it [01:16, 20.85it/s]"
     ]
    },
    {
     "name": "stdout",
     "output_type": "stream",
     "text": [
      "(1, 450, 600, 3)\n",
      "(1, 450, 600, 3)\n",
      "(1, 450, 600, 3)\n",
      "(1, 450, 600, 3)\n",
      "(1, 450, 600, 3)\n"
     ]
    },
    {
     "name": "stderr",
     "output_type": "stream",
     "text": [
      "1626it [01:17, 21.56it/s]"
     ]
    },
    {
     "name": "stdout",
     "output_type": "stream",
     "text": [
      "(1, 450, 600, 3)\n",
      "(1, 450, 600, 3)\n",
      "(1, 450, 600, 3)\n",
      "(1, 450, 600, 3)\n",
      "(1, 450, 600, 3)\n"
     ]
    },
    {
     "name": "stderr",
     "output_type": "stream",
     "text": [
      "\r",
      "1629it [01:17, 21.46it/s]"
     ]
    },
    {
     "name": "stdout",
     "output_type": "stream",
     "text": [
      "(1, 450, 600, 3)\n",
      "(1, 450, 600, 3)\n",
      "(1, 450, 600, 3)\n",
      "(1, 450, 600, 3)\n",
      "(1, 450, 600, 3)\n"
     ]
    },
    {
     "name": "stderr",
     "output_type": "stream",
     "text": [
      "1635it [01:17, 21.38it/s]"
     ]
    },
    {
     "name": "stdout",
     "output_type": "stream",
     "text": [
      "(1, 450, 600, 3)\n",
      "(1, 450, 600, 3)\n",
      "(1, 450, 600, 3)\n",
      "(1, 450, 600, 3)\n",
      "(1, 450, 600, 3)\n"
     ]
    },
    {
     "name": "stderr",
     "output_type": "stream",
     "text": [
      "\r",
      "1638it [01:17, 21.32it/s]"
     ]
    },
    {
     "name": "stdout",
     "output_type": "stream",
     "text": [
      "(1, 450, 600, 3)\n",
      "(1, 450, 600, 3)\n",
      "(1, 450, 600, 3)\n",
      "(1, 450, 600, 3)\n",
      "(1, 450, 600, 3)\n"
     ]
    },
    {
     "name": "stderr",
     "output_type": "stream",
     "text": [
      "1644it [01:18, 20.50it/s]"
     ]
    },
    {
     "name": "stdout",
     "output_type": "stream",
     "text": [
      "(1, 450, 600, 3)\n",
      "(1, 450, 600, 3)\n",
      "(1, 450, 600, 3)\n",
      "(1, 450, 600, 3)\n"
     ]
    },
    {
     "name": "stderr",
     "output_type": "stream",
     "text": [
      "\r",
      "1647it [01:18, 20.21it/s]"
     ]
    },
    {
     "name": "stdout",
     "output_type": "stream",
     "text": [
      "(1, 450, 600, 3)\n",
      "(1, 450, 600, 3)\n",
      "(1, 450, 600, 3)\n",
      "(1, 450, 600, 3)\n"
     ]
    },
    {
     "name": "stderr",
     "output_type": "stream",
     "text": [
      "1652it [01:18, 19.07it/s]"
     ]
    },
    {
     "name": "stdout",
     "output_type": "stream",
     "text": [
      "(1, 450, 600, 3)\n",
      "(1, 450, 600, 3)\n",
      "(1, 450, 600, 3)\n",
      "(1, 450, 600, 3)\n",
      "(1, 450, 600, 3)\n"
     ]
    },
    {
     "name": "stderr",
     "output_type": "stream",
     "text": [
      "1658it [01:18, 20.57it/s]"
     ]
    },
    {
     "name": "stdout",
     "output_type": "stream",
     "text": [
      "(1, 450, 600, 3)\n",
      "(1, 450, 600, 3)\n",
      "(1, 450, 600, 3)\n",
      "(1, 450, 600, 3)\n",
      "(1, 450, 600, 3)\n"
     ]
    },
    {
     "name": "stderr",
     "output_type": "stream",
     "text": [
      "\r",
      "1661it [01:18, 21.20it/s]"
     ]
    },
    {
     "name": "stdout",
     "output_type": "stream",
     "text": [
      "(1, 450, 600, 3)\n",
      "(1, 450, 600, 3)\n",
      "(1, 450, 600, 3)\n",
      "(1, 450, 600, 3)\n",
      "(1, 450, 600, 3)\n"
     ]
    },
    {
     "name": "stderr",
     "output_type": "stream",
     "text": [
      "1667it [01:19, 20.89it/s]"
     ]
    },
    {
     "name": "stdout",
     "output_type": "stream",
     "text": [
      "(1, 450, 600, 3)\n",
      "(1, 450, 600, 3)\n",
      "(1, 450, 600, 3)\n",
      "(1, 450, 600, 3)\n",
      "(1, 450, 600, 3)\n"
     ]
    },
    {
     "name": "stderr",
     "output_type": "stream",
     "text": [
      "1673it [01:19, 20.83it/s]"
     ]
    },
    {
     "name": "stdout",
     "output_type": "stream",
     "text": [
      "(1, 450, 600, 3)\n",
      "(1, 450, 600, 3)\n",
      "(1, 450, 600, 3)\n",
      "(1, 450, 600, 3)\n",
      "(1, 450, 600, 3)\n"
     ]
    },
    {
     "name": "stderr",
     "output_type": "stream",
     "text": [
      "1679it [01:19, 21.62it/s]"
     ]
    },
    {
     "name": "stdout",
     "output_type": "stream",
     "text": [
      "(1, 450, 600, 3)\n",
      "(1, 450, 600, 3)\n",
      "(1, 450, 600, 3)\n",
      "(1, 450, 600, 3)\n",
      "(1, 450, 600, 3)\n"
     ]
    },
    {
     "name": "stderr",
     "output_type": "stream",
     "text": [
      "\r",
      "1682it [01:19, 21.10it/s]"
     ]
    },
    {
     "name": "stdout",
     "output_type": "stream",
     "text": [
      "(1, 450, 600, 3)\n",
      "(1, 450, 600, 3)\n",
      "(1, 450, 600, 3)\n",
      "(1, 450, 600, 3)\n",
      "(1, 450, 600, 3)\n"
     ]
    },
    {
     "name": "stderr",
     "output_type": "stream",
     "text": [
      "1688it [01:20, 21.58it/s]"
     ]
    },
    {
     "name": "stdout",
     "output_type": "stream",
     "text": [
      "(1, 450, 600, 3)\n",
      "(1, 450, 600, 3)\n",
      "(1, 450, 600, 3)\n",
      "(1, 450, 600, 3)\n",
      "(1, 450, 600, 3)\n"
     ]
    },
    {
     "name": "stderr",
     "output_type": "stream",
     "text": [
      "\r",
      "1691it [01:20, 21.10it/s]"
     ]
    },
    {
     "name": "stdout",
     "output_type": "stream",
     "text": [
      "(1, 450, 600, 3)\n",
      "(1, 450, 600, 3)\n",
      "(1, 450, 600, 3)\n",
      "(1, 450, 600, 3)\n",
      "(1, 450, 600, 3)\n"
     ]
    },
    {
     "name": "stderr",
     "output_type": "stream",
     "text": [
      "1697it [01:20, 21.40it/s]"
     ]
    },
    {
     "name": "stdout",
     "output_type": "stream",
     "text": [
      "(1, 450, 600, 3)\n",
      "(1, 450, 600, 3)\n",
      "(1, 450, 600, 3)\n",
      "(1, 450, 600, 3)\n"
     ]
    },
    {
     "name": "stderr",
     "output_type": "stream",
     "text": [
      "\r",
      "1700it [01:20, 21.39it/s]"
     ]
    },
    {
     "name": "stdout",
     "output_type": "stream",
     "text": [
      "(1, 450, 600, 3)\n",
      "(1, 450, 600, 3)\n",
      "(1, 450, 600, 3)\n",
      "(1, 450, 600, 3)\n",
      "(1, 450, 600, 3)\n"
     ]
    },
    {
     "name": "stderr",
     "output_type": "stream",
     "text": [
      "1706it [01:20, 20.95it/s]"
     ]
    },
    {
     "name": "stdout",
     "output_type": "stream",
     "text": [
      "(1, 450, 600, 3)\n",
      "(1, 450, 600, 3)\n",
      "(1, 450, 600, 3)\n",
      "(1, 450, 600, 3)\n",
      "(1, 450, 600, 3)\n"
     ]
    },
    {
     "name": "stderr",
     "output_type": "stream",
     "text": [
      "1712it [01:21, 21.08it/s]"
     ]
    },
    {
     "name": "stdout",
     "output_type": "stream",
     "text": [
      "(1, 450, 600, 3)\n",
      "(1, 450, 600, 3)\n",
      "(1, 450, 600, 3)\n",
      "(1, 450, 600, 3)\n",
      "(1, 450, 600, 3)\n"
     ]
    },
    {
     "name": "stderr",
     "output_type": "stream",
     "text": [
      "\r",
      "1715it [01:21, 20.32it/s]"
     ]
    },
    {
     "name": "stdout",
     "output_type": "stream",
     "text": [
      "(1, 450, 600, 3)\n",
      "(1, 450, 600, 3)\n",
      "(1, 450, 600, 3)\n"
     ]
    },
    {
     "name": "stderr",
     "output_type": "stream",
     "text": [
      "\r",
      "1718it [01:21, 20.64it/s]"
     ]
    },
    {
     "name": "stdout",
     "output_type": "stream",
     "text": [
      "(1, 450, 600, 3)\n",
      "(1, 450, 600, 3)\n",
      "(1, 450, 600, 3)\n",
      "(1, 450, 600, 3)\n",
      "(1, 450, 600, 3)\n"
     ]
    },
    {
     "name": "stderr",
     "output_type": "stream",
     "text": [
      "1724it [01:21, 20.90it/s]"
     ]
    },
    {
     "name": "stdout",
     "output_type": "stream",
     "text": [
      "(1, 450, 600, 3)\n",
      "(1, 450, 600, 3)\n",
      "(1, 450, 600, 3)\n",
      "(1, 450, 600, 3)\n"
     ]
    },
    {
     "name": "stderr",
     "output_type": "stream",
     "text": [
      "\r",
      "1727it [01:21, 20.21it/s]"
     ]
    },
    {
     "name": "stdout",
     "output_type": "stream",
     "text": [
      "(1, 450, 600, 3)\n",
      "(1, 450, 600, 3)\n",
      "(1, 450, 600, 3)\n",
      "(1, 450, 600, 3)\n"
     ]
    },
    {
     "name": "stderr",
     "output_type": "stream",
     "text": [
      "1733it [01:22, 20.51it/s]"
     ]
    },
    {
     "name": "stdout",
     "output_type": "stream",
     "text": [
      "(1, 450, 600, 3)\n",
      "(1, 450, 600, 3)\n",
      "(1, 450, 600, 3)\n",
      "(1, 450, 600, 3)\n",
      "(1, 450, 600, 3)\n"
     ]
    },
    {
     "name": "stderr",
     "output_type": "stream",
     "text": [
      "\r",
      "1736it [01:22, 20.34it/s]"
     ]
    },
    {
     "name": "stdout",
     "output_type": "stream",
     "text": [
      "(1, 450, 600, 3)\n",
      "(1, 450, 600, 3)\n",
      "(1, 450, 600, 3)\n",
      "(1, 450, 600, 3)\n",
      "(1, 450, 600, 3)\n"
     ]
    },
    {
     "name": "stderr",
     "output_type": "stream",
     "text": [
      "1742it [01:22, 21.19it/s]"
     ]
    },
    {
     "name": "stdout",
     "output_type": "stream",
     "text": [
      "(1, 450, 600, 3)\n",
      "(1, 450, 600, 3)\n",
      "(1, 450, 600, 3)\n",
      "(1, 450, 600, 3)\n"
     ]
    },
    {
     "name": "stderr",
     "output_type": "stream",
     "text": [
      "1747it [01:23, 18.85it/s]"
     ]
    },
    {
     "name": "stdout",
     "output_type": "stream",
     "text": [
      "(1, 450, 600, 3)\n",
      "(1, 450, 600, 3)\n",
      "(1, 450, 600, 3)\n",
      "(1, 450, 600, 3)\n"
     ]
    },
    {
     "name": "stderr",
     "output_type": "stream",
     "text": [
      "\r",
      "1750it [01:23, 19.63it/s]"
     ]
    },
    {
     "name": "stdout",
     "output_type": "stream",
     "text": [
      "(1, 450, 600, 3)\n",
      "(1, 450, 600, 3)\n",
      "(1, 450, 600, 3)\n",
      "(1, 450, 600, 3)\n",
      "(1, 450, 600, 3)\n"
     ]
    },
    {
     "name": "stderr",
     "output_type": "stream",
     "text": [
      "1756it [01:23, 19.93it/s]"
     ]
    },
    {
     "name": "stdout",
     "output_type": "stream",
     "text": [
      "(1, 450, 600, 3)\n",
      "(1, 450, 600, 3)\n",
      "(1, 450, 600, 3)\n",
      "(1, 450, 600, 3)\n",
      "(1, 450, 600, 3)\n"
     ]
    },
    {
     "name": "stderr",
     "output_type": "stream",
     "text": [
      "1762it [01:23, 21.14it/s]"
     ]
    },
    {
     "name": "stdout",
     "output_type": "stream",
     "text": [
      "(1, 450, 600, 3)\n",
      "(1, 450, 600, 3)\n",
      "(1, 450, 600, 3)\n",
      "(1, 450, 600, 3)\n",
      "(1, 450, 600, 3)\n"
     ]
    },
    {
     "name": "stderr",
     "output_type": "stream",
     "text": [
      "\r",
      "1765it [01:23, 21.20it/s]"
     ]
    },
    {
     "name": "stdout",
     "output_type": "stream",
     "text": [
      "(1, 450, 600, 3)\n",
      "(1, 450, 600, 3)\n",
      "(1, 450, 600, 3)\n",
      "(1, 450, 600, 3)\n",
      "(1, 450, 600, 3)\n"
     ]
    },
    {
     "name": "stderr",
     "output_type": "stream",
     "text": [
      "1771it [01:24, 20.88it/s]"
     ]
    },
    {
     "name": "stdout",
     "output_type": "stream",
     "text": [
      "(1, 450, 600, 3)\n",
      "(1, 450, 600, 3)\n",
      "(1, 450, 600, 3)\n",
      "(1, 450, 600, 3)\n",
      "(1, 450, 600, 3)\n"
     ]
    },
    {
     "name": "stderr",
     "output_type": "stream",
     "text": [
      "\r",
      "1774it [01:24, 20.60it/s]"
     ]
    },
    {
     "name": "stdout",
     "output_type": "stream",
     "text": [
      "(1, 450, 600, 3)\n",
      "(1, 450, 600, 3)\n",
      "(1, 450, 600, 3)\n",
      "(1, 450, 600, 3)\n",
      "(1, 450, 600, 3)\n"
     ]
    },
    {
     "name": "stderr",
     "output_type": "stream",
     "text": [
      "1780it [01:24, 20.58it/s]"
     ]
    },
    {
     "name": "stdout",
     "output_type": "stream",
     "text": [
      "(1, 450, 600, 3)\n",
      "(1, 450, 600, 3)\n",
      "(1, 450, 600, 3)\n",
      "(1, 450, 600, 3)\n",
      "(1, 450, 600, 3)\n"
     ]
    },
    {
     "name": "stderr",
     "output_type": "stream",
     "text": [
      "1786it [01:24, 20.41it/s]"
     ]
    },
    {
     "name": "stdout",
     "output_type": "stream",
     "text": [
      "(1, 450, 600, 3)\n",
      "(1, 450, 600, 3)\n",
      "(1, 450, 600, 3)\n",
      "(1, 450, 600, 3)\n"
     ]
    },
    {
     "name": "stderr",
     "output_type": "stream",
     "text": [
      "\r",
      "1789it [01:25, 21.02it/s]"
     ]
    },
    {
     "name": "stdout",
     "output_type": "stream",
     "text": [
      "(1, 450, 600, 3)\n",
      "(1, 450, 600, 3)\n",
      "(1, 450, 600, 3)\n",
      "(1, 450, 600, 3)\n"
     ]
    },
    {
     "name": "stderr",
     "output_type": "stream",
     "text": [
      "\r",
      "1792it [01:25, 21.08it/s]"
     ]
    },
    {
     "name": "stdout",
     "output_type": "stream",
     "text": [
      "(1, 450, 600, 3)\n",
      "(1, 450, 600, 3)\n",
      "(1, 450, 600, 3)\n",
      "(1, 450, 600, 3)\n"
     ]
    },
    {
     "name": "stderr",
     "output_type": "stream",
     "text": [
      "1798it [01:25, 19.55it/s]"
     ]
    },
    {
     "name": "stdout",
     "output_type": "stream",
     "text": [
      "(1, 450, 600, 3)\n",
      "(1, 450, 600, 3)\n",
      "(1, 450, 600, 3)\n",
      "(1, 450, 600, 3)\n"
     ]
    },
    {
     "name": "stderr",
     "output_type": "stream",
     "text": [
      "1802it [01:25, 19.40it/s]"
     ]
    },
    {
     "name": "stdout",
     "output_type": "stream",
     "text": [
      "(1, 450, 600, 3)\n",
      "(1, 450, 600, 3)\n",
      "(1, 450, 600, 3)\n",
      "(1, 450, 600, 3)\n"
     ]
    },
    {
     "name": "stderr",
     "output_type": "stream",
     "text": [
      "\r",
      "1804it [01:25, 19.06it/s]"
     ]
    },
    {
     "name": "stdout",
     "output_type": "stream",
     "text": [
      "(1, 450, 600, 3)\n",
      "(1, 450, 600, 3)\n",
      "(1, 450, 600, 3)\n",
      "(1, 450, 600, 3)\n",
      "(1, 450, 600, 3)\n"
     ]
    },
    {
     "name": "stderr",
     "output_type": "stream",
     "text": [
      "1810it [01:26, 20.52it/s]"
     ]
    },
    {
     "name": "stdout",
     "output_type": "stream",
     "text": [
      "(1, 450, 600, 3)\n",
      "(1, 450, 600, 3)\n",
      "(1, 450, 600, 3)\n",
      "(1, 450, 600, 3)\n",
      "(1, 450, 600, 3)\n"
     ]
    },
    {
     "name": "stderr",
     "output_type": "stream",
     "text": [
      "1816it [01:26, 19.82it/s]"
     ]
    },
    {
     "name": "stdout",
     "output_type": "stream",
     "text": [
      "(1, 450, 600, 3)\n",
      "(1, 450, 600, 3)\n",
      "(1, 450, 600, 3)\n",
      "(1, 450, 600, 3)\n",
      "(1, 450, 600, 3)\n"
     ]
    },
    {
     "name": "stderr",
     "output_type": "stream",
     "text": [
      "\r",
      "1819it [01:26, 20.22it/s]"
     ]
    },
    {
     "name": "stdout",
     "output_type": "stream",
     "text": [
      "(1, 450, 600, 3)\n",
      "(1, 450, 600, 3)\n",
      "(1, 450, 600, 3)\n",
      "(1, 450, 600, 3)\n",
      "(1, 450, 600, 3)\n"
     ]
    },
    {
     "name": "stderr",
     "output_type": "stream",
     "text": [
      "1825it [01:26, 21.18it/s]"
     ]
    },
    {
     "name": "stdout",
     "output_type": "stream",
     "text": [
      "(1, 450, 600, 3)\n",
      "(1, 450, 600, 3)\n",
      "(1, 450, 600, 3)\n",
      "(1, 450, 600, 3)\n",
      "(1, 450, 600, 3)\n"
     ]
    },
    {
     "name": "stderr",
     "output_type": "stream",
     "text": [
      "1831it [01:27, 20.95it/s]"
     ]
    },
    {
     "name": "stdout",
     "output_type": "stream",
     "text": [
      "(1, 450, 600, 3)\n",
      "(1, 450, 600, 3)\n",
      "(1, 450, 600, 3)\n",
      "(1, 450, 600, 3)\n",
      "(1, 450, 600, 3)\n"
     ]
    },
    {
     "name": "stderr",
     "output_type": "stream",
     "text": [
      "\r",
      "1834it [01:27, 20.58it/s]"
     ]
    },
    {
     "name": "stdout",
     "output_type": "stream",
     "text": [
      "(1, 450, 600, 3)\n",
      "(1, 450, 600, 3)\n",
      "(1, 450, 600, 3)\n",
      "(1, 450, 600, 3)\n"
     ]
    },
    {
     "name": "stderr",
     "output_type": "stream",
     "text": [
      "1840it [01:27, 19.14it/s]"
     ]
    },
    {
     "name": "stdout",
     "output_type": "stream",
     "text": [
      "(1, 450, 600, 3)\n",
      "(1, 450, 600, 3)\n",
      "(1, 450, 600, 3)\n",
      "(1, 450, 600, 3)\n"
     ]
    },
    {
     "name": "stderr",
     "output_type": "stream",
     "text": [
      "\r",
      "1843it [01:27, 19.73it/s]"
     ]
    },
    {
     "name": "stdout",
     "output_type": "stream",
     "text": [
      "(1, 450, 600, 3)\n",
      "(1, 450, 600, 3)\n",
      "(1, 450, 600, 3)\n",
      "(1, 450, 600, 3)\n",
      "(1, 450, 600, 3)\n"
     ]
    },
    {
     "name": "stderr",
     "output_type": "stream",
     "text": [
      "1849it [01:28, 20.54it/s]"
     ]
    },
    {
     "name": "stdout",
     "output_type": "stream",
     "text": [
      "(1, 450, 600, 3)\n",
      "(1, 450, 600, 3)\n",
      "(1, 450, 600, 3)\n",
      "(1, 450, 600, 3)\n",
      "(1, 450, 600, 3)\n"
     ]
    },
    {
     "name": "stderr",
     "output_type": "stream",
     "text": [
      "1855it [01:28, 21.71it/s]"
     ]
    },
    {
     "name": "stdout",
     "output_type": "stream",
     "text": [
      "(1, 450, 600, 3)\n",
      "(1, 450, 600, 3)\n",
      "(1, 450, 600, 3)\n",
      "(1, 450, 600, 3)\n",
      "(1, 450, 600, 3)\n"
     ]
    },
    {
     "name": "stderr",
     "output_type": "stream",
     "text": [
      "\r",
      "1858it [01:28, 20.30it/s]"
     ]
    },
    {
     "name": "stdout",
     "output_type": "stream",
     "text": [
      "(1, 450, 600, 3)\n",
      "(1, 450, 600, 3)\n",
      "(1, 450, 600, 3)\n",
      "(1, 450, 600, 3)\n"
     ]
    },
    {
     "name": "stderr",
     "output_type": "stream",
     "text": [
      "\r",
      "1861it [01:28, 20.58it/s]"
     ]
    },
    {
     "name": "stdout",
     "output_type": "stream",
     "text": [
      "(1, 450, 600, 3)\n",
      "(1, 450, 600, 3)\n",
      "(1, 450, 600, 3)\n",
      "(1, 450, 600, 3)\n",
      "(1, 450, 600, 3)\n"
     ]
    },
    {
     "name": "stderr",
     "output_type": "stream",
     "text": [
      "1867it [01:28, 21.01it/s]"
     ]
    },
    {
     "name": "stdout",
     "output_type": "stream",
     "text": [
      "(1, 450, 600, 3)\n",
      "(1, 450, 600, 3)\n",
      "(1, 450, 600, 3)\n",
      "(1, 450, 600, 3)\n",
      "(1, 450, 600, 3)\n"
     ]
    },
    {
     "name": "stderr",
     "output_type": "stream",
     "text": [
      "1873it [01:29, 21.55it/s]"
     ]
    },
    {
     "name": "stdout",
     "output_type": "stream",
     "text": [
      "(1, 450, 600, 3)\n",
      "(1, 450, 600, 3)\n",
      "(1, 450, 600, 3)\n",
      "(1, 450, 600, 3)\n",
      "(1, 450, 600, 3)\n"
     ]
    },
    {
     "name": "stderr",
     "output_type": "stream",
     "text": [
      "\r",
      "1876it [01:29, 21.59it/s]"
     ]
    },
    {
     "name": "stdout",
     "output_type": "stream",
     "text": [
      "(1, 450, 600, 3)\n",
      "(1, 450, 600, 3)\n",
      "(1, 450, 600, 3)\n",
      "(1, 450, 600, 3)\n",
      "(1, 450, 600, 3)\n"
     ]
    },
    {
     "name": "stderr",
     "output_type": "stream",
     "text": [
      "1882it [01:29, 21.19it/s]"
     ]
    },
    {
     "name": "stdout",
     "output_type": "stream",
     "text": [
      "(1, 450, 600, 3)\n",
      "(1, 450, 600, 3)\n",
      "(1, 450, 600, 3)\n",
      "(1, 450, 600, 3)\n",
      "(1, 450, 600, 3)\n"
     ]
    },
    {
     "name": "stderr",
     "output_type": "stream",
     "text": [
      "1888it [01:29, 20.87it/s]"
     ]
    },
    {
     "name": "stdout",
     "output_type": "stream",
     "text": [
      "(1, 450, 600, 3)\n",
      "(1, 450, 600, 3)\n",
      "(1, 450, 600, 3)\n",
      "(1, 450, 600, 3)\n",
      "(1, 450, 600, 3)\n"
     ]
    },
    {
     "name": "stderr",
     "output_type": "stream",
     "text": [
      "\r",
      "1891it [01:29, 21.03it/s]"
     ]
    },
    {
     "name": "stdout",
     "output_type": "stream",
     "text": [
      "(1, 450, 600, 3)\n",
      "(1, 450, 600, 3)\n",
      "(1, 450, 600, 3)\n",
      "(1, 450, 600, 3)\n",
      "(1, 450, 600, 3)\n"
     ]
    },
    {
     "name": "stderr",
     "output_type": "stream",
     "text": [
      "1897it [01:30, 21.55it/s]"
     ]
    },
    {
     "name": "stdout",
     "output_type": "stream",
     "text": [
      "(1, 450, 600, 3)\n",
      "(1, 450, 600, 3)\n",
      "(1, 450, 600, 3)\n",
      "(1, 450, 600, 3)\n",
      "(1, 450, 600, 3)\n"
     ]
    },
    {
     "name": "stderr",
     "output_type": "stream",
     "text": [
      "1903it [01:30, 21.04it/s]"
     ]
    },
    {
     "name": "stdout",
     "output_type": "stream",
     "text": [
      "(1, 450, 600, 3)\n",
      "(1, 450, 600, 3)\n",
      "(1, 450, 600, 3)\n",
      "(1, 450, 600, 3)\n",
      "(1, 450, 600, 3)\n"
     ]
    },
    {
     "name": "stderr",
     "output_type": "stream",
     "text": [
      "\r",
      "1906it [01:30, 21.15it/s]"
     ]
    },
    {
     "name": "stdout",
     "output_type": "stream",
     "text": [
      "(1, 450, 600, 3)\n",
      "(1, 450, 600, 3)\n",
      "(1, 450, 600, 3)\n",
      "(1, 450, 600, 3)\n"
     ]
    },
    {
     "name": "stderr",
     "output_type": "stream",
     "text": [
      "1912it [01:30, 20.95it/s]"
     ]
    },
    {
     "name": "stdout",
     "output_type": "stream",
     "text": [
      "(1, 450, 600, 3)\n",
      "(1, 450, 600, 3)\n",
      "(1, 450, 600, 3)\n",
      "(1, 450, 600, 3)\n",
      "(1, 450, 600, 3)\n"
     ]
    },
    {
     "name": "stderr",
     "output_type": "stream",
     "text": [
      "\r",
      "1915it [01:31, 21.12it/s]"
     ]
    },
    {
     "name": "stdout",
     "output_type": "stream",
     "text": [
      "(1, 450, 600, 3)\n",
      "(1, 450, 600, 3)\n",
      "(1, 450, 600, 3)\n",
      "(1, 450, 600, 3)\n",
      "(1, 450, 600, 3)\n"
     ]
    },
    {
     "name": "stderr",
     "output_type": "stream",
     "text": [
      "1921it [01:31, 20.84it/s]"
     ]
    },
    {
     "name": "stdout",
     "output_type": "stream",
     "text": [
      "(1, 450, 600, 3)\n",
      "(1, 450, 600, 3)\n",
      "(1, 450, 600, 3)\n",
      "(1, 450, 600, 3)\n",
      "(1, 450, 600, 3)\n"
     ]
    },
    {
     "name": "stderr",
     "output_type": "stream",
     "text": [
      "\r",
      "1924it [01:31, 21.01it/s]"
     ]
    },
    {
     "name": "stdout",
     "output_type": "stream",
     "text": [
      "(1, 450, 600, 3)\n",
      "(1, 450, 600, 3)\n",
      "(1, 450, 600, 3)\n",
      "(1, 450, 600, 3)\n"
     ]
    },
    {
     "name": "stderr",
     "output_type": "stream",
     "text": [
      "1930it [01:31, 21.22it/s]"
     ]
    },
    {
     "name": "stdout",
     "output_type": "stream",
     "text": [
      "(1, 450, 600, 3)\n",
      "(1, 450, 600, 3)\n",
      "(1, 450, 600, 3)\n",
      "(1, 450, 600, 3)\n"
     ]
    },
    {
     "name": "stderr",
     "output_type": "stream",
     "text": [
      "\r",
      "1933it [01:31, 20.84it/s]"
     ]
    },
    {
     "name": "stdout",
     "output_type": "stream",
     "text": [
      "(1, 450, 600, 3)\n",
      "(1, 450, 600, 3)\n",
      "(1, 450, 600, 3)\n",
      "(1, 450, 600, 3)\n"
     ]
    },
    {
     "name": "stderr",
     "output_type": "stream",
     "text": [
      "1938it [01:32, 19.10it/s]"
     ]
    },
    {
     "name": "stdout",
     "output_type": "stream",
     "text": [
      "(1, 450, 600, 3)\n",
      "(1, 450, 600, 3)\n",
      "(1, 450, 600, 3)\n",
      "(1, 450, 600, 3)\n"
     ]
    },
    {
     "name": "stderr",
     "output_type": "stream",
     "text": [
      "\r",
      "1941it [01:32, 19.80it/s]"
     ]
    },
    {
     "name": "stdout",
     "output_type": "stream",
     "text": [
      "(1, 450, 600, 3)\n",
      "(1, 450, 600, 3)\n",
      "(1, 450, 600, 3)\n",
      "(1, 450, 600, 3)\n",
      "(1, 450, 600, 3)\n"
     ]
    },
    {
     "name": "stderr",
     "output_type": "stream",
     "text": [
      "1947it [01:32, 20.63it/s]"
     ]
    },
    {
     "name": "stdout",
     "output_type": "stream",
     "text": [
      "(1, 450, 600, 3)\n",
      "(1, 450, 600, 3)\n",
      "(1, 450, 600, 3)\n",
      "(1, 450, 600, 3)\n",
      "(1, 450, 600, 3)\n"
     ]
    },
    {
     "name": "stderr",
     "output_type": "stream",
     "text": [
      "1953it [01:32, 20.59it/s]"
     ]
    },
    {
     "name": "stdout",
     "output_type": "stream",
     "text": [
      "(1, 450, 600, 3)\n",
      "(1, 450, 600, 3)\n",
      "(1, 450, 600, 3)\n",
      "(1, 450, 600, 3)\n",
      "(1, 450, 600, 3)\n"
     ]
    },
    {
     "name": "stderr",
     "output_type": "stream",
     "text": [
      "\r",
      "1956it [01:33, 21.29it/s]"
     ]
    },
    {
     "name": "stdout",
     "output_type": "stream",
     "text": [
      "(1, 450, 600, 3)\n",
      "(1, 450, 600, 3)\n",
      "(1, 450, 600, 3)\n",
      "(1, 450, 600, 3)\n"
     ]
    },
    {
     "name": "stderr",
     "output_type": "stream",
     "text": [
      "1962it [01:33, 21.04it/s]"
     ]
    },
    {
     "name": "stdout",
     "output_type": "stream",
     "text": [
      "(1, 450, 600, 3)\n",
      "(1, 450, 600, 3)\n",
      "(1, 450, 600, 3)\n",
      "(1, 450, 600, 3)\n",
      "(1, 450, 600, 3)\n"
     ]
    },
    {
     "name": "stderr",
     "output_type": "stream",
     "text": [
      "\r",
      "1965it [01:33, 20.72it/s]"
     ]
    },
    {
     "name": "stdout",
     "output_type": "stream",
     "text": [
      "(1, 450, 600, 3)\n",
      "(1, 450, 600, 3)\n",
      "(1, 450, 600, 3)\n"
     ]
    },
    {
     "name": "stderr",
     "output_type": "stream",
     "text": [
      "\r",
      "1968it [01:33, 20.93it/s]"
     ]
    },
    {
     "name": "stdout",
     "output_type": "stream",
     "text": [
      "(1, 450, 600, 3)\n",
      "(1, 450, 600, 3)\n",
      "(1, 450, 600, 3)\n",
      "(1, 450, 600, 3)\n",
      "(1, 450, 600, 3)\n"
     ]
    },
    {
     "name": "stderr",
     "output_type": "stream",
     "text": [
      "1974it [01:33, 20.74it/s]"
     ]
    },
    {
     "name": "stdout",
     "output_type": "stream",
     "text": [
      "(1, 450, 600, 3)\n",
      "(1, 450, 600, 3)\n",
      "(1, 450, 600, 3)\n",
      "(1, 450, 600, 3)\n",
      "(1, 450, 600, 3)\n"
     ]
    },
    {
     "name": "stderr",
     "output_type": "stream",
     "text": [
      "1980it [01:34, 21.09it/s]"
     ]
    },
    {
     "name": "stdout",
     "output_type": "stream",
     "text": [
      "(1, 450, 600, 3)\n",
      "(1, 450, 600, 3)\n",
      "(1, 450, 600, 3)\n",
      "(1, 450, 600, 3)\n",
      "(1, 450, 600, 3)\n"
     ]
    },
    {
     "name": "stderr",
     "output_type": "stream",
     "text": [
      "\r",
      "1983it [01:34, 20.33it/s]"
     ]
    },
    {
     "name": "stdout",
     "output_type": "stream",
     "text": [
      "(1, 450, 600, 3)\n",
      "(1, 450, 600, 3)\n",
      "(1, 450, 600, 3)\n",
      "(1, 450, 600, 3)\n"
     ]
    },
    {
     "name": "stderr",
     "output_type": "stream",
     "text": [
      "1989it [01:34, 20.87it/s]"
     ]
    },
    {
     "name": "stdout",
     "output_type": "stream",
     "text": [
      "(1, 450, 600, 3)\n",
      "(1, 450, 600, 3)\n",
      "(1, 450, 600, 3)\n",
      "(1, 450, 600, 3)\n",
      "(1, 450, 600, 3)\n"
     ]
    },
    {
     "name": "stderr",
     "output_type": "stream",
     "text": [
      "\r",
      "1992it [01:34, 20.96it/s]"
     ]
    },
    {
     "name": "stdout",
     "output_type": "stream",
     "text": [
      "(1, 450, 600, 3)\n",
      "(1, 450, 600, 3)\n",
      "(1, 450, 600, 3)\n",
      "(1, 450, 600, 3)\n",
      "(1, 450, 600, 3)\n"
     ]
    },
    {
     "name": "stderr",
     "output_type": "stream",
     "text": [
      "1998it [01:35, 20.96it/s]"
     ]
    },
    {
     "name": "stdout",
     "output_type": "stream",
     "text": [
      "(1, 450, 600, 3)\n",
      "(1, 450, 600, 3)\n",
      "(1, 450, 600, 3)\n",
      "(1, 450, 600, 3)\n",
      "(1, 450, 600, 3)\n"
     ]
    },
    {
     "name": "stderr",
     "output_type": "stream",
     "text": [
      "2004it [01:35, 20.73it/s]"
     ]
    },
    {
     "name": "stdout",
     "output_type": "stream",
     "text": [
      "(1, 450, 600, 3)\n",
      "(1, 450, 600, 3)\n",
      "(1, 450, 600, 3)\n",
      "(1, 450, 600, 3)\n"
     ]
    },
    {
     "name": "stderr",
     "output_type": "stream",
     "text": [
      "\r",
      "2007it [01:35, 20.50it/s]"
     ]
    },
    {
     "name": "stdout",
     "output_type": "stream",
     "text": [
      "(1, 450, 600, 3)\n",
      "(1, 450, 600, 3)\n",
      "(1, 450, 600, 3)\n",
      "(1, 450, 600, 3)\n",
      "(1, 450, 600, 3)\n"
     ]
    },
    {
     "name": "stderr",
     "output_type": "stream",
     "text": [
      "2013it [01:35, 20.82it/s]"
     ]
    },
    {
     "name": "stdout",
     "output_type": "stream",
     "text": [
      "(1, 450, 600, 3)\n",
      "(1, 450, 600, 3)\n",
      "(1, 450, 600, 3)\n",
      "(1, 450, 600, 3)\n",
      "(1, 450, 600, 3)\n"
     ]
    },
    {
     "name": "stderr",
     "output_type": "stream",
     "text": [
      "\r",
      "2016it [01:35, 20.56it/s]"
     ]
    },
    {
     "name": "stdout",
     "output_type": "stream",
     "text": [
      "(1, 450, 600, 3)\n",
      "(1, 450, 600, 3)\n",
      "(1, 450, 600, 3)\n",
      "(1, 450, 600, 3)\n"
     ]
    },
    {
     "name": "stderr",
     "output_type": "stream",
     "text": [
      "2022it [01:36, 20.81it/s]"
     ]
    },
    {
     "name": "stdout",
     "output_type": "stream",
     "text": [
      "(1, 450, 600, 3)\n",
      "(1, 450, 600, 3)\n",
      "(1, 450, 600, 3)\n",
      "(1, 450, 600, 3)\n",
      "(1, 450, 600, 3)\n"
     ]
    },
    {
     "name": "stderr",
     "output_type": "stream",
     "text": [
      "\r",
      "2025it [01:36, 20.96it/s]"
     ]
    },
    {
     "name": "stdout",
     "output_type": "stream",
     "text": [
      "(1, 450, 600, 3)\n",
      "(1, 450, 600, 3)\n",
      "(1, 450, 600, 3)\n",
      "(1, 450, 600, 3)\n",
      "(1, 450, 600, 3)\n"
     ]
    },
    {
     "name": "stderr",
     "output_type": "stream",
     "text": [
      "2031it [01:36, 19.21it/s]"
     ]
    },
    {
     "name": "stdout",
     "output_type": "stream",
     "text": [
      "(1, 450, 600, 3)\n",
      "(1, 450, 600, 3)\n",
      "(1, 450, 600, 3)\n",
      "(1, 450, 600, 3)\n"
     ]
    },
    {
     "name": "stderr",
     "output_type": "stream",
     "text": [
      "2035it [01:36, 19.49it/s]"
     ]
    },
    {
     "name": "stdout",
     "output_type": "stream",
     "text": [
      "(1, 450, 600, 3)\n",
      "(1, 450, 600, 3)\n",
      "(1, 450, 600, 3)\n",
      "(1, 450, 600, 3)\n"
     ]
    },
    {
     "name": "stderr",
     "output_type": "stream",
     "text": [
      "2040it [01:37, 20.19it/s]"
     ]
    },
    {
     "name": "stdout",
     "output_type": "stream",
     "text": [
      "(1, 450, 600, 3)\n",
      "(1, 450, 600, 3)\n",
      "(1, 450, 600, 3)\n",
      "(1, 450, 600, 3)\n",
      "(1, 450, 600, 3)\n"
     ]
    },
    {
     "name": "stderr",
     "output_type": "stream",
     "text": [
      "\r",
      "2043it [01:37, 21.07it/s]"
     ]
    },
    {
     "name": "stdout",
     "output_type": "stream",
     "text": [
      "(1, 450, 600, 3)\n",
      "(1, 450, 600, 3)\n",
      "(1, 450, 600, 3)\n",
      "(1, 450, 600, 3)\n",
      "(1, 450, 600, 3)\n"
     ]
    },
    {
     "name": "stderr",
     "output_type": "stream",
     "text": [
      "2049it [01:37, 21.14it/s]"
     ]
    },
    {
     "name": "stdout",
     "output_type": "stream",
     "text": [
      "(1, 450, 600, 3)\n",
      "(1, 450, 600, 3)\n",
      "(1, 450, 600, 3)\n",
      "(1, 450, 600, 3)\n",
      "(1, 450, 600, 3)\n"
     ]
    },
    {
     "name": "stderr",
     "output_type": "stream",
     "text": [
      "2055it [01:37, 21.11it/s]"
     ]
    },
    {
     "name": "stdout",
     "output_type": "stream",
     "text": [
      "(1, 450, 600, 3)\n",
      "(1, 450, 600, 3)\n",
      "(1, 450, 600, 3)\n",
      "(1, 450, 600, 3)\n"
     ]
    },
    {
     "name": "stderr",
     "output_type": "stream",
     "text": [
      "\r",
      "2058it [01:38, 20.72it/s]"
     ]
    },
    {
     "name": "stdout",
     "output_type": "stream",
     "text": [
      "(1, 450, 600, 3)\n",
      "(1, 450, 600, 3)\n",
      "(1, 450, 600, 3)\n",
      "(1, 450, 600, 3)\n"
     ]
    },
    {
     "name": "stderr",
     "output_type": "stream",
     "text": [
      "\r",
      "2061it [01:38, 20.89it/s]"
     ]
    },
    {
     "name": "stdout",
     "output_type": "stream",
     "text": [
      "(1, 450, 600, 3)\n",
      "(1, 450, 600, 3)\n",
      "(1, 450, 600, 3)\n",
      "(1, 450, 600, 3)\n",
      "(1, 450, 600, 3)\n"
     ]
    },
    {
     "name": "stderr",
     "output_type": "stream",
     "text": [
      "2067it [01:38, 21.10it/s]"
     ]
    },
    {
     "name": "stdout",
     "output_type": "stream",
     "text": [
      "(1, 450, 600, 3)\n",
      "(1, 450, 600, 3)\n",
      "(1, 450, 600, 3)\n",
      "(1, 450, 600, 3)\n"
     ]
    },
    {
     "name": "stderr",
     "output_type": "stream",
     "text": [
      "\r",
      "2070it [01:38, 20.71it/s]"
     ]
    },
    {
     "name": "stdout",
     "output_type": "stream",
     "text": [
      "(1, 450, 600, 3)\n",
      "(1, 450, 600, 3)\n",
      "(1, 450, 600, 3)\n",
      "(1, 450, 600, 3)\n",
      "(1, 450, 600, 3)\n"
     ]
    },
    {
     "name": "stderr",
     "output_type": "stream",
     "text": [
      "2076it [01:38, 20.35it/s]"
     ]
    },
    {
     "name": "stdout",
     "output_type": "stream",
     "text": [
      "(1, 450, 600, 3)\n",
      "(1, 450, 600, 3)\n",
      "(1, 450, 600, 3)\n",
      "(1, 450, 600, 3)\n"
     ]
    },
    {
     "name": "stderr",
     "output_type": "stream",
     "text": [
      "\r",
      "2079it [01:39, 20.24it/s]"
     ]
    },
    {
     "name": "stdout",
     "output_type": "stream",
     "text": [
      "(1, 450, 600, 3)\n",
      "(1, 450, 600, 3)\n",
      "(1, 450, 600, 3)\n",
      "(1, 450, 600, 3)\n",
      "(1, 450, 600, 3)\n"
     ]
    },
    {
     "name": "stderr",
     "output_type": "stream",
     "text": [
      "2085it [01:39, 21.11it/s]"
     ]
    },
    {
     "name": "stdout",
     "output_type": "stream",
     "text": [
      "(1, 450, 600, 3)\n",
      "(1, 450, 600, 3)\n",
      "(1, 450, 600, 3)\n",
      "(1, 450, 600, 3)\n"
     ]
    },
    {
     "name": "stderr",
     "output_type": "stream",
     "text": [
      "\r",
      "2088it [01:39, 20.77it/s]"
     ]
    },
    {
     "name": "stdout",
     "output_type": "stream",
     "text": [
      "(1, 450, 600, 3)\n",
      "(1, 450, 600, 3)\n",
      "(1, 450, 600, 3)\n",
      "(1, 450, 600, 3)\n",
      "(1, 450, 600, 3)\n"
     ]
    },
    {
     "name": "stderr",
     "output_type": "stream",
     "text": [
      "2094it [01:39, 20.79it/s]"
     ]
    },
    {
     "name": "stdout",
     "output_type": "stream",
     "text": [
      "(1, 450, 600, 3)\n",
      "(1, 450, 600, 3)\n",
      "(1, 450, 600, 3)\n",
      "(1, 450, 600, 3)\n",
      "(1, 450, 600, 3)\n"
     ]
    },
    {
     "name": "stderr",
     "output_type": "stream",
     "text": [
      "\r",
      "2097it [01:39, 20.53it/s]"
     ]
    },
    {
     "name": "stdout",
     "output_type": "stream",
     "text": [
      "(1, 450, 600, 3)\n",
      "(1, 450, 600, 3)\n",
      "(1, 450, 600, 3)\n",
      "(1, 450, 600, 3)\n"
     ]
    },
    {
     "name": "stderr",
     "output_type": "stream",
     "text": [
      "2103it [01:40, 21.00it/s]"
     ]
    },
    {
     "name": "stdout",
     "output_type": "stream",
     "text": [
      "(1, 450, 600, 3)\n",
      "(1, 450, 600, 3)\n",
      "(1, 450, 600, 3)\n",
      "(1, 450, 600, 3)\n"
     ]
    },
    {
     "name": "stderr",
     "output_type": "stream",
     "text": [
      "\r",
      "2106it [01:40, 21.11it/s]"
     ]
    },
    {
     "name": "stdout",
     "output_type": "stream",
     "text": [
      "(1, 450, 600, 3)\n",
      "(1, 450, 600, 3)\n",
      "(1, 450, 600, 3)\n",
      "(1, 450, 600, 3)\n"
     ]
    },
    {
     "name": "stderr",
     "output_type": "stream",
     "text": [
      "2112it [01:40, 20.24it/s]"
     ]
    },
    {
     "name": "stdout",
     "output_type": "stream",
     "text": [
      "(1, 450, 600, 3)\n",
      "(1, 450, 600, 3)\n",
      "(1, 450, 600, 3)\n",
      "(1, 450, 600, 3)\n",
      "(1, 450, 600, 3)\n"
     ]
    },
    {
     "name": "stderr",
     "output_type": "stream",
     "text": [
      "\r",
      "2115it [01:40, 20.59it/s]"
     ]
    },
    {
     "name": "stdout",
     "output_type": "stream",
     "text": [
      "(1, 450, 600, 3)\n",
      "(1, 450, 600, 3)\n",
      "(1, 450, 600, 3)\n",
      "(1, 450, 600, 3)\n",
      "(1, 450, 600, 3)\n"
     ]
    },
    {
     "name": "stderr",
     "output_type": "stream",
     "text": [
      "2121it [01:41, 20.58it/s]"
     ]
    },
    {
     "name": "stdout",
     "output_type": "stream",
     "text": [
      "(1, 450, 600, 3)\n",
      "(1, 450, 600, 3)\n",
      "(1, 450, 600, 3)\n",
      "(1, 450, 600, 3)\n"
     ]
    },
    {
     "name": "stderr",
     "output_type": "stream",
     "text": [
      "\r",
      "2124it [01:41, 19.97it/s]"
     ]
    },
    {
     "name": "stdout",
     "output_type": "stream",
     "text": [
      "(1, 450, 600, 3)\n",
      "(1, 450, 600, 3)\n",
      "(1, 450, 600, 3)\n",
      "(1, 450, 600, 3)\n"
     ]
    },
    {
     "name": "stderr",
     "output_type": "stream",
     "text": [
      "2129it [01:41, 19.11it/s]"
     ]
    },
    {
     "name": "stdout",
     "output_type": "stream",
     "text": [
      "(1, 450, 600, 3)\n",
      "(1, 450, 600, 3)\n",
      "(1, 450, 600, 3)\n",
      "(1, 450, 600, 3)\n"
     ]
    },
    {
     "name": "stderr",
     "output_type": "stream",
     "text": [
      "2134it [01:41, 20.45it/s]"
     ]
    },
    {
     "name": "stdout",
     "output_type": "stream",
     "text": [
      "(1, 450, 600, 3)\n",
      "(1, 450, 600, 3)\n",
      "(1, 450, 600, 3)\n",
      "(1, 450, 600, 3)\n",
      "(1, 450, 600, 3)\n"
     ]
    },
    {
     "name": "stderr",
     "output_type": "stream",
     "text": [
      "\r",
      "2137it [01:41, 20.76it/s]"
     ]
    },
    {
     "name": "stdout",
     "output_type": "stream",
     "text": [
      "(1, 450, 600, 3)\n",
      "(1, 450, 600, 3)\n",
      "(1, 450, 600, 3)\n",
      "(1, 450, 600, 3)\n"
     ]
    },
    {
     "name": "stderr",
     "output_type": "stream",
     "text": [
      "2143it [01:42, 20.48it/s]"
     ]
    },
    {
     "name": "stdout",
     "output_type": "stream",
     "text": [
      "(1, 450, 600, 3)\n",
      "(1, 450, 600, 3)\n",
      "(1, 450, 600, 3)\n",
      "(1, 450, 600, 3)\n",
      "(1, 450, 600, 3)\n"
     ]
    },
    {
     "name": "stderr",
     "output_type": "stream",
     "text": [
      "\r",
      "2146it [01:42, 20.76it/s]"
     ]
    },
    {
     "name": "stdout",
     "output_type": "stream",
     "text": [
      "(1, 450, 600, 3)\n",
      "(1, 450, 600, 3)\n",
      "(1, 450, 600, 3)\n",
      "(1, 450, 600, 3)\n",
      "(1, 450, 600, 3)\n"
     ]
    },
    {
     "name": "stderr",
     "output_type": "stream",
     "text": [
      "2152it [01:42, 20.49it/s]"
     ]
    },
    {
     "name": "stdout",
     "output_type": "stream",
     "text": [
      "(1, 450, 600, 3)\n",
      "(1, 450, 600, 3)\n",
      "(1, 450, 600, 3)\n",
      "(1, 450, 600, 3)\n",
      "(1, 450, 600, 3)\n"
     ]
    },
    {
     "name": "stderr",
     "output_type": "stream",
     "text": [
      "2158it [01:42, 20.96it/s]"
     ]
    },
    {
     "name": "stdout",
     "output_type": "stream",
     "text": [
      "(1, 450, 600, 3)\n",
      "(1, 450, 600, 3)\n",
      "(1, 450, 600, 3)\n",
      "(1, 450, 600, 3)\n",
      "(1, 450, 600, 3)\n"
     ]
    },
    {
     "name": "stderr",
     "output_type": "stream",
     "text": [
      "\r",
      "2161it [01:43, 20.24it/s]"
     ]
    },
    {
     "name": "stdout",
     "output_type": "stream",
     "text": [
      "(1, 450, 600, 3)\n",
      "(1, 450, 600, 3)\n",
      "(1, 450, 600, 3)\n",
      "(1, 450, 600, 3)\n",
      "(1, 450, 600, 3)\n"
     ]
    },
    {
     "name": "stderr",
     "output_type": "stream",
     "text": [
      "2167it [01:43, 20.81it/s]"
     ]
    },
    {
     "name": "stdout",
     "output_type": "stream",
     "text": [
      "(1, 450, 600, 3)\n",
      "(1, 450, 600, 3)\n",
      "(1, 450, 600, 3)\n",
      "(1, 450, 600, 3)\n"
     ]
    },
    {
     "name": "stderr",
     "output_type": "stream",
     "text": [
      "\r",
      "2170it [01:43, 20.17it/s]"
     ]
    },
    {
     "name": "stdout",
     "output_type": "stream",
     "text": [
      "(1, 450, 600, 3)\n",
      "(1, 450, 600, 3)\n",
      "(1, 450, 600, 3)\n",
      "(1, 450, 600, 3)\n"
     ]
    },
    {
     "name": "stderr",
     "output_type": "stream",
     "text": [
      "2176it [01:43, 20.92it/s]"
     ]
    },
    {
     "name": "stdout",
     "output_type": "stream",
     "text": [
      "(1, 450, 600, 3)\n",
      "(1, 450, 600, 3)\n",
      "(1, 450, 600, 3)\n",
      "(1, 450, 600, 3)\n",
      "(1, 450, 600, 3)\n"
     ]
    },
    {
     "name": "stderr",
     "output_type": "stream",
     "text": [
      "\r",
      "2179it [01:43, 20.64it/s]"
     ]
    },
    {
     "name": "stdout",
     "output_type": "stream",
     "text": [
      "(1, 450, 600, 3)\n",
      "(1, 450, 600, 3)\n",
      "(1, 450, 600, 3)\n",
      "(1, 450, 600, 3)\n"
     ]
    },
    {
     "name": "stderr",
     "output_type": "stream",
     "text": [
      "2185it [01:44, 19.88it/s]"
     ]
    },
    {
     "name": "stdout",
     "output_type": "stream",
     "text": [
      "(1, 450, 600, 3)\n",
      "(1, 450, 600, 3)\n",
      "(1, 450, 600, 3)\n",
      "(1, 450, 600, 3)\n",
      "(1, 450, 600, 3)\n"
     ]
    },
    {
     "name": "stderr",
     "output_type": "stream",
     "text": [
      "\r",
      "2188it [01:44, 19.94it/s]"
     ]
    },
    {
     "name": "stdout",
     "output_type": "stream",
     "text": [
      "(1, 450, 600, 3)\n",
      "(1, 450, 600, 3)\n",
      "(1, 450, 600, 3)\n",
      "(1, 450, 600, 3)\n"
     ]
    },
    {
     "name": "stderr",
     "output_type": "stream",
     "text": [
      "2192it [01:44, 19.94it/s]"
     ]
    },
    {
     "name": "stdout",
     "output_type": "stream",
     "text": [
      "(1, 450, 600, 3)\n",
      "(1, 450, 600, 3)\n",
      "(1, 450, 600, 3)\n",
      "(1, 450, 600, 3)\n",
      "(1, 450, 600, 3)\n"
     ]
    },
    {
     "name": "stderr",
     "output_type": "stream",
     "text": [
      "2198it [01:44, 20.41it/s]"
     ]
    },
    {
     "name": "stdout",
     "output_type": "stream",
     "text": [
      "(1, 450, 600, 3)\n",
      "(1, 450, 600, 3)\n",
      "(1, 450, 600, 3)\n",
      "(1, 450, 600, 3)\n",
      "(1, 450, 600, 3)\n"
     ]
    },
    {
     "name": "stderr",
     "output_type": "stream",
     "text": [
      "2204it [01:45, 20.10it/s]"
     ]
    },
    {
     "name": "stdout",
     "output_type": "stream",
     "text": [
      "(1, 450, 600, 3)\n",
      "(1, 450, 600, 3)\n",
      "(1, 450, 600, 3)\n",
      "(1, 450, 600, 3)\n",
      "(1, 450, 600, 3)\n"
     ]
    },
    {
     "name": "stderr",
     "output_type": "stream",
     "text": [
      "\r",
      "2207it [01:45, 20.80it/s]"
     ]
    },
    {
     "name": "stdout",
     "output_type": "stream",
     "text": [
      "(1, 450, 600, 3)\n",
      "(1, 450, 600, 3)\n",
      "(1, 450, 600, 3)\n",
      "(1, 450, 600, 3)\n",
      "(1, 450, 600, 3)\n"
     ]
    },
    {
     "name": "stderr",
     "output_type": "stream",
     "text": [
      "2213it [01:45, 20.77it/s]"
     ]
    },
    {
     "name": "stdout",
     "output_type": "stream",
     "text": [
      "(1, 450, 600, 3)\n",
      "(1, 450, 600, 3)\n",
      "(1, 450, 600, 3)\n",
      "(1, 450, 600, 3)\n",
      "(1, 450, 600, 3)\n"
     ]
    },
    {
     "name": "stderr",
     "output_type": "stream",
     "text": [
      "2219it [01:45, 19.83it/s]"
     ]
    },
    {
     "name": "stdout",
     "output_type": "stream",
     "text": [
      "(1, 450, 600, 3)\n",
      "(1, 450, 600, 3)\n",
      "(1, 450, 600, 3)\n",
      "(1, 450, 600, 3)\n"
     ]
    },
    {
     "name": "stderr",
     "output_type": "stream",
     "text": [
      "\r",
      "2221it [01:46, 19.02it/s]"
     ]
    },
    {
     "name": "stdout",
     "output_type": "stream",
     "text": [
      "(1, 450, 600, 3)\n",
      "(1, 450, 600, 3)\n",
      "(1, 450, 600, 3)\n",
      "(1, 450, 600, 3)\n"
     ]
    },
    {
     "name": "stderr",
     "output_type": "stream",
     "text": [
      "2225it [01:46, 18.71it/s]"
     ]
    },
    {
     "name": "stdout",
     "output_type": "stream",
     "text": [
      "(1, 450, 600, 3)\n",
      "(1, 450, 600, 3)\n",
      "(1, 450, 600, 3)\n",
      "(1, 450, 600, 3)\n"
     ]
    },
    {
     "name": "stderr",
     "output_type": "stream",
     "text": [
      "2231it [01:46, 18.75it/s]"
     ]
    },
    {
     "name": "stdout",
     "output_type": "stream",
     "text": [
      "(1, 450, 600, 3)\n",
      "(1, 450, 600, 3)\n",
      "(1, 450, 600, 3)\n",
      "(1, 450, 600, 3)\n"
     ]
    },
    {
     "name": "stderr",
     "output_type": "stream",
     "text": [
      "\r",
      "2234it [01:46, 19.66it/s]"
     ]
    },
    {
     "name": "stdout",
     "output_type": "stream",
     "text": [
      "(1, 450, 600, 3)\n",
      "(1, 450, 600, 3)\n",
      "(1, 450, 600, 3)\n",
      "(1, 450, 600, 3)\n",
      "(1, 450, 600, 3)\n"
     ]
    },
    {
     "name": "stderr",
     "output_type": "stream",
     "text": [
      "2240it [01:47, 20.15it/s]"
     ]
    },
    {
     "name": "stdout",
     "output_type": "stream",
     "text": [
      "(1, 450, 600, 3)\n",
      "(1, 450, 600, 3)\n",
      "(1, 450, 600, 3)\n",
      "(1, 450, 600, 3)\n"
     ]
    },
    {
     "name": "stderr",
     "output_type": "stream",
     "text": [
      "\r",
      "2243it [01:47, 19.65it/s]"
     ]
    },
    {
     "name": "stdout",
     "output_type": "stream",
     "text": [
      "(1, 450, 600, 3)\n",
      "(1, 450, 600, 3)\n",
      "(1, 450, 600, 3)\n",
      "(1, 450, 600, 3)\n",
      "(1, 450, 600, 3)\n"
     ]
    },
    {
     "name": "stderr",
     "output_type": "stream",
     "text": [
      "2249it [01:47, 19.73it/s]"
     ]
    },
    {
     "name": "stdout",
     "output_type": "stream",
     "text": [
      "(1, 450, 600, 3)\n",
      "(1, 450, 600, 3)\n",
      "(1, 450, 600, 3)\n",
      "(1, 450, 600, 3)\n",
      "(1, 450, 600, 3)\n"
     ]
    },
    {
     "name": "stderr",
     "output_type": "stream",
     "text": [
      "2254it [01:47, 20.30it/s]"
     ]
    },
    {
     "name": "stdout",
     "output_type": "stream",
     "text": [
      "(1, 450, 600, 3)\n",
      "(1, 450, 600, 3)\n",
      "(1, 450, 600, 3)\n",
      "(1, 450, 600, 3)\n",
      "(1, 450, 600, 3)\n"
     ]
    },
    {
     "name": "stderr",
     "output_type": "stream",
     "text": [
      "\r",
      "2257it [01:47, 20.65it/s]"
     ]
    },
    {
     "name": "stdout",
     "output_type": "stream",
     "text": [
      "(1, 450, 600, 3)\n",
      "(1, 450, 600, 3)\n",
      "(1, 450, 600, 3)\n",
      "(1, 450, 600, 3)\n",
      "(1, 450, 600, 3)\n"
     ]
    },
    {
     "name": "stderr",
     "output_type": "stream",
     "text": [
      "2263it [01:48, 20.58it/s]"
     ]
    },
    {
     "name": "stdout",
     "output_type": "stream",
     "text": [
      "(1, 450, 600, 3)\n",
      "(1, 450, 600, 3)\n",
      "(1, 450, 600, 3)\n",
      "(1, 450, 600, 3)\n",
      "(1, 450, 600, 3)\n"
     ]
    },
    {
     "name": "stderr",
     "output_type": "stream",
     "text": [
      "2269it [01:48, 20.59it/s]"
     ]
    },
    {
     "name": "stdout",
     "output_type": "stream",
     "text": [
      "(1, 450, 600, 3)\n",
      "(1, 450, 600, 3)\n",
      "(1, 450, 600, 3)\n",
      "(1, 450, 600, 3)\n"
     ]
    },
    {
     "name": "stderr",
     "output_type": "stream",
     "text": [
      "\r",
      "2272it [01:48, 20.41it/s]"
     ]
    },
    {
     "name": "stdout",
     "output_type": "stream",
     "text": [
      "(1, 450, 600, 3)\n",
      "(1, 450, 600, 3)\n",
      "(1, 450, 600, 3)\n",
      "(1, 450, 600, 3)\n",
      "(1, 450, 600, 3)\n"
     ]
    },
    {
     "name": "stderr",
     "output_type": "stream",
     "text": [
      "2278it [01:48, 20.92it/s]"
     ]
    },
    {
     "name": "stdout",
     "output_type": "stream",
     "text": [
      "(1, 450, 600, 3)\n",
      "(1, 450, 600, 3)\n",
      "(1, 450, 600, 3)\n",
      "(1, 450, 600, 3)\n",
      "(1, 450, 600, 3)\n"
     ]
    },
    {
     "name": "stderr",
     "output_type": "stream",
     "text": [
      "\r",
      "2281it [01:49, 20.64it/s]"
     ]
    },
    {
     "name": "stdout",
     "output_type": "stream",
     "text": [
      "(1, 450, 600, 3)\n",
      "(1, 450, 600, 3)\n",
      "(1, 450, 600, 3)\n",
      "(1, 450, 600, 3)\n",
      "(1, 450, 600, 3)\n"
     ]
    },
    {
     "name": "stderr",
     "output_type": "stream",
     "text": [
      "2287it [01:49, 20.41it/s]"
     ]
    },
    {
     "name": "stdout",
     "output_type": "stream",
     "text": [
      "(1, 450, 600, 3)\n",
      "(1, 450, 600, 3)\n",
      "(1, 450, 600, 3)\n",
      "(1, 450, 600, 3)\n"
     ]
    },
    {
     "name": "stderr",
     "output_type": "stream",
     "text": [
      "\r",
      "2290it [01:49, 20.30it/s]"
     ]
    },
    {
     "name": "stdout",
     "output_type": "stream",
     "text": [
      "(1, 450, 600, 3)\n",
      "(1, 450, 600, 3)\n",
      "(1, 450, 600, 3)\n",
      "(1, 450, 600, 3)\n"
     ]
    },
    {
     "name": "stderr",
     "output_type": "stream",
     "text": [
      "2296it [01:49, 20.54it/s]"
     ]
    },
    {
     "name": "stdout",
     "output_type": "stream",
     "text": [
      "(1, 450, 600, 3)\n",
      "(1, 450, 600, 3)\n",
      "(1, 450, 600, 3)\n",
      "(1, 450, 600, 3)\n",
      "(1, 450, 600, 3)\n"
     ]
    },
    {
     "name": "stderr",
     "output_type": "stream",
     "text": [
      "\r",
      "2299it [01:49, 20.81it/s]"
     ]
    },
    {
     "name": "stdout",
     "output_type": "stream",
     "text": [
      "(1, 450, 600, 3)\n",
      "(1, 450, 600, 3)\n",
      "(1, 450, 600, 3)\n",
      "(1, 450, 600, 3)\n"
     ]
    },
    {
     "name": "stderr",
     "output_type": "stream",
     "text": [
      "2305it [01:50, 20.40it/s]"
     ]
    },
    {
     "name": "stdout",
     "output_type": "stream",
     "text": [
      "(1, 450, 600, 3)\n",
      "(1, 450, 600, 3)\n",
      "(1, 450, 600, 3)\n",
      "(1, 450, 600, 3)\n",
      "(1, 450, 600, 3)\n"
     ]
    },
    {
     "name": "stderr",
     "output_type": "stream",
     "text": [
      "\r",
      "2308it [01:50, 20.68it/s]"
     ]
    },
    {
     "name": "stdout",
     "output_type": "stream",
     "text": [
      "(1, 450, 600, 3)\n",
      "(1, 450, 600, 3)\n",
      "(1, 450, 600, 3)\n",
      "(1, 450, 600, 3)\n"
     ]
    },
    {
     "name": "stderr",
     "output_type": "stream",
     "text": [
      "\r",
      "2311it [01:50, 20.08it/s]"
     ]
    },
    {
     "name": "stdout",
     "output_type": "stream",
     "text": [
      "(1, 450, 600, 3)\n",
      "(1, 450, 600, 3)\n",
      "(1, 450, 600, 3)\n",
      "(1, 450, 600, 3)\n"
     ]
    },
    {
     "name": "stderr",
     "output_type": "stream",
     "text": [
      "2317it [01:50, 19.35it/s]"
     ]
    },
    {
     "name": "stdout",
     "output_type": "stream",
     "text": [
      "(1, 450, 600, 3)\n",
      "(1, 450, 600, 3)\n",
      "(1, 450, 600, 3)\n",
      "(1, 450, 600, 3)\n",
      "(1, 450, 600, 3)\n"
     ]
    },
    {
     "name": "stderr",
     "output_type": "stream",
     "text": [
      "2323it [01:51, 20.34it/s]"
     ]
    },
    {
     "name": "stdout",
     "output_type": "stream",
     "text": [
      "(1, 450, 600, 3)\n",
      "(1, 450, 600, 3)\n",
      "(1, 450, 600, 3)\n",
      "(1, 450, 600, 3)\n",
      "(1, 450, 600, 3)\n"
     ]
    },
    {
     "name": "stderr",
     "output_type": "stream",
     "text": [
      "\r",
      "2326it [01:51, 20.22it/s]"
     ]
    },
    {
     "name": "stdout",
     "output_type": "stream",
     "text": [
      "(1, 450, 600, 3)\n",
      "(1, 450, 600, 3)\n",
      "(1, 450, 600, 3)\n",
      "(1, 450, 600, 3)\n",
      "(1, 450, 600, 3)\n"
     ]
    },
    {
     "name": "stderr",
     "output_type": "stream",
     "text": [
      "2332it [01:51, 20.13it/s]"
     ]
    },
    {
     "name": "stdout",
     "output_type": "stream",
     "text": [
      "(1, 450, 600, 3)\n",
      "(1, 450, 600, 3)\n",
      "(1, 450, 600, 3)\n",
      "(1, 450, 600, 3)\n"
     ]
    },
    {
     "name": "stderr",
     "output_type": "stream",
     "text": [
      "\r",
      "2335it [01:51, 20.51it/s]"
     ]
    },
    {
     "name": "stdout",
     "output_type": "stream",
     "text": [
      "(1, 450, 600, 3)\n",
      "(1, 450, 600, 3)\n",
      "(1, 450, 600, 3)\n",
      "(1, 450, 600, 3)\n",
      "(1, 450, 600, 3)\n"
     ]
    },
    {
     "name": "stderr",
     "output_type": "stream",
     "text": [
      "2341it [01:51, 20.97it/s]"
     ]
    },
    {
     "name": "stdout",
     "output_type": "stream",
     "text": [
      "(1, 450, 600, 3)\n",
      "(1, 450, 600, 3)\n",
      "(1, 450, 600, 3)\n",
      "(1, 450, 600, 3)\n"
     ]
    },
    {
     "name": "stderr",
     "output_type": "stream",
     "text": [
      "\r",
      "2344it [01:52, 20.67it/s]"
     ]
    },
    {
     "name": "stdout",
     "output_type": "stream",
     "text": [
      "(1, 450, 600, 3)\n",
      "(1, 450, 600, 3)\n",
      "(1, 450, 600, 3)\n",
      "(1, 450, 600, 3)\n",
      "(1, 450, 600, 3)\n"
     ]
    },
    {
     "name": "stderr",
     "output_type": "stream",
     "text": [
      "2350it [01:52, 20.33it/s]"
     ]
    },
    {
     "name": "stdout",
     "output_type": "stream",
     "text": [
      "(1, 450, 600, 3)\n",
      "(1, 450, 600, 3)\n",
      "(1, 450, 600, 3)\n",
      "(1, 450, 600, 3)\n"
     ]
    },
    {
     "name": "stderr",
     "output_type": "stream",
     "text": [
      "2355it [01:52, 19.84it/s]"
     ]
    },
    {
     "name": "stdout",
     "output_type": "stream",
     "text": [
      "(1, 450, 600, 3)\n",
      "(1, 450, 600, 3)\n",
      "(1, 450, 600, 3)\n",
      "(1, 450, 600, 3)\n"
     ]
    },
    {
     "name": "stderr",
     "output_type": "stream",
     "text": [
      "2360it [01:52, 20.07it/s]"
     ]
    },
    {
     "name": "stdout",
     "output_type": "stream",
     "text": [
      "(1, 450, 600, 3)\n",
      "(1, 450, 600, 3)\n",
      "(1, 450, 600, 3)\n",
      "(1, 450, 600, 3)\n",
      "(1, 450, 600, 3)\n"
     ]
    },
    {
     "name": "stderr",
     "output_type": "stream",
     "text": [
      "\r",
      "2363it [01:53, 20.05it/s]"
     ]
    },
    {
     "name": "stdout",
     "output_type": "stream",
     "text": [
      "(1, 450, 600, 3)\n",
      "(1, 450, 600, 3)\n",
      "(1, 450, 600, 3)\n",
      "(1, 450, 600, 3)\n",
      "(1, 450, 600, 3)\n"
     ]
    },
    {
     "name": "stderr",
     "output_type": "stream",
     "text": [
      "\r",
      "2366it [01:53, 20.03it/s]"
     ]
    },
    {
     "name": "stdout",
     "output_type": "stream",
     "text": [
      "(1, 450, 600, 3)\n",
      "(1, 450, 600, 3)\n",
      "(1, 450, 600, 3)\n"
     ]
    },
    {
     "name": "stderr",
     "output_type": "stream",
     "text": [
      "2372it [01:53, 19.90it/s]"
     ]
    },
    {
     "name": "stdout",
     "output_type": "stream",
     "text": [
      "(1, 450, 600, 3)\n",
      "(1, 450, 600, 3)\n",
      "(1, 450, 600, 3)\n",
      "(1, 450, 600, 3)\n"
     ]
    },
    {
     "name": "stderr",
     "output_type": "stream",
     "text": [
      "\r",
      "2374it [01:53, 19.48it/s]"
     ]
    },
    {
     "name": "stdout",
     "output_type": "stream",
     "text": [
      "(1, 450, 600, 3)\n",
      "(1, 450, 600, 3)\n",
      "(1, 450, 600, 3)\n",
      "(1, 450, 600, 3)\n"
     ]
    },
    {
     "name": "stderr",
     "output_type": "stream",
     "text": [
      "2379it [01:53, 20.03it/s]"
     ]
    },
    {
     "name": "stdout",
     "output_type": "stream",
     "text": [
      "(1, 450, 600, 3)\n",
      "(1, 450, 600, 3)\n",
      "(1, 450, 600, 3)\n",
      "(1, 450, 600, 3)\n"
     ]
    },
    {
     "name": "stderr",
     "output_type": "stream",
     "text": [
      "2384it [01:54, 19.72it/s]"
     ]
    },
    {
     "name": "stdout",
     "output_type": "stream",
     "text": [
      "(1, 450, 600, 3)\n",
      "(1, 450, 600, 3)\n",
      "(1, 450, 600, 3)\n",
      "(1, 450, 600, 3)\n",
      "(1, 450, 600, 3)\n"
     ]
    },
    {
     "name": "stderr",
     "output_type": "stream",
     "text": [
      "\r",
      "2387it [01:54, 20.24it/s]"
     ]
    },
    {
     "name": "stdout",
     "output_type": "stream",
     "text": [
      "(1, 450, 600, 3)\n",
      "(1, 450, 600, 3)\n",
      "(1, 450, 600, 3)\n",
      "(1, 450, 600, 3)\n"
     ]
    },
    {
     "name": "stderr",
     "output_type": "stream",
     "text": [
      "2393it [01:54, 20.57it/s]"
     ]
    },
    {
     "name": "stdout",
     "output_type": "stream",
     "text": [
      "(1, 450, 600, 3)\n",
      "(1, 450, 600, 3)\n",
      "(1, 450, 600, 3)\n",
      "(1, 450, 600, 3)\n"
     ]
    },
    {
     "name": "stderr",
     "output_type": "stream",
     "text": [
      "\r",
      "2396it [01:54, 20.33it/s]"
     ]
    },
    {
     "name": "stdout",
     "output_type": "stream",
     "text": [
      "(1, 450, 600, 3)\n",
      "(1, 450, 600, 3)\n",
      "(1, 450, 600, 3)\n",
      "(1, 450, 600, 3)\n",
      "(1, 450, 600, 3)\n"
     ]
    },
    {
     "name": "stderr",
     "output_type": "stream",
     "text": [
      "2402it [01:55, 20.79it/s]"
     ]
    },
    {
     "name": "stdout",
     "output_type": "stream",
     "text": [
      "(1, 450, 600, 3)\n",
      "(1, 450, 600, 3)\n",
      "(1, 450, 600, 3)\n",
      "(1, 450, 600, 3)\n",
      "(1, 450, 600, 3)\n"
     ]
    },
    {
     "name": "stderr",
     "output_type": "stream",
     "text": [
      "\r",
      "2405it [01:55, 19.31it/s]"
     ]
    },
    {
     "name": "stdout",
     "output_type": "stream",
     "text": [
      "(1, 450, 600, 3)\n",
      "(1, 450, 600, 3)\n",
      "(1, 450, 600, 3)\n"
     ]
    },
    {
     "name": "stderr",
     "output_type": "stream",
     "text": [
      "2409it [01:55, 18.41it/s]"
     ]
    },
    {
     "name": "stdout",
     "output_type": "stream",
     "text": [
      "(1, 450, 600, 3)\n",
      "(1, 450, 600, 3)\n",
      "(1, 450, 600, 3)\n",
      "(1, 450, 600, 3)\n"
     ]
    },
    {
     "name": "stderr",
     "output_type": "stream",
     "text": [
      "2414it [01:55, 19.14it/s]"
     ]
    },
    {
     "name": "stdout",
     "output_type": "stream",
     "text": [
      "(1, 450, 600, 3)\n",
      "(1, 450, 600, 3)\n",
      "(1, 450, 600, 3)\n",
      "(1, 450, 600, 3)\n",
      "(1, 450, 600, 3)\n"
     ]
    },
    {
     "name": "stderr",
     "output_type": "stream",
     "text": [
      "\r",
      "2417it [01:55, 19.82it/s]"
     ]
    },
    {
     "name": "stdout",
     "output_type": "stream",
     "text": [
      "(1, 450, 600, 3)\n",
      "(1, 450, 600, 3)\n",
      "(1, 450, 600, 3)\n",
      "(1, 450, 600, 3)\n",
      "(1, 450, 600, 3)\n"
     ]
    },
    {
     "name": "stderr",
     "output_type": "stream",
     "text": [
      "2423it [01:56, 20.09it/s]"
     ]
    },
    {
     "name": "stdout",
     "output_type": "stream",
     "text": [
      "(1, 450, 600, 3)\n",
      "(1, 450, 600, 3)\n",
      "(1, 450, 600, 3)\n",
      "(1, 450, 600, 3)\n",
      "(1, 450, 600, 3)\n"
     ]
    },
    {
     "name": "stderr",
     "output_type": "stream",
     "text": [
      "2429it [01:56, 20.78it/s]"
     ]
    },
    {
     "name": "stdout",
     "output_type": "stream",
     "text": [
      "(1, 450, 600, 3)\n",
      "(1, 450, 600, 3)\n",
      "(1, 450, 600, 3)\n",
      "(1, 450, 600, 3)\n",
      "(1, 450, 600, 3)\n"
     ]
    },
    {
     "name": "stderr",
     "output_type": "stream",
     "text": [
      "\r",
      "2432it [01:56, 20.97it/s]"
     ]
    },
    {
     "name": "stdout",
     "output_type": "stream",
     "text": [
      "(1, 450, 600, 3)\n",
      "(1, 450, 600, 3)\n",
      "(1, 450, 600, 3)\n",
      "(1, 450, 600, 3)\n",
      "(1, 450, 600, 3)\n"
     ]
    },
    {
     "name": "stderr",
     "output_type": "stream",
     "text": [
      "2438it [01:56, 20.67it/s]"
     ]
    },
    {
     "name": "stdout",
     "output_type": "stream",
     "text": [
      "(1, 450, 600, 3)\n",
      "(1, 450, 600, 3)\n",
      "(1, 450, 600, 3)\n",
      "(1, 450, 600, 3)\n",
      "(1, 450, 600, 3)\n"
     ]
    },
    {
     "name": "stderr",
     "output_type": "stream",
     "text": [
      "2444it [01:57, 19.79it/s]"
     ]
    },
    {
     "name": "stdout",
     "output_type": "stream",
     "text": [
      "(1, 450, 600, 3)\n",
      "(1, 450, 600, 3)\n",
      "(1, 450, 600, 3)\n",
      "(1, 450, 600, 3)\n"
     ]
    },
    {
     "name": "stderr",
     "output_type": "stream",
     "text": [
      "\r",
      "2447it [01:57, 20.25it/s]"
     ]
    },
    {
     "name": "stdout",
     "output_type": "stream",
     "text": [
      "(1, 450, 600, 3)\n",
      "(1, 450, 600, 3)\n",
      "(1, 450, 600, 3)\n",
      "(1, 450, 600, 3)\n",
      "(1, 450, 600, 3)\n"
     ]
    },
    {
     "name": "stderr",
     "output_type": "stream",
     "text": [
      "\r",
      "2450it [01:57, 20.56it/s]"
     ]
    },
    {
     "name": "stdout",
     "output_type": "stream",
     "text": [
      "(1, 450, 600, 3)\n",
      "(1, 450, 600, 3)\n",
      "(1, 450, 600, 3)\n",
      "(1, 450, 600, 3)\n"
     ]
    },
    {
     "name": "stderr",
     "output_type": "stream",
     "text": [
      "2456it [01:57, 20.24it/s]"
     ]
    },
    {
     "name": "stdout",
     "output_type": "stream",
     "text": [
      "(1, 450, 600, 3)\n",
      "(1, 450, 600, 3)\n",
      "(1, 450, 600, 3)\n",
      "(1, 450, 600, 3)\n"
     ]
    },
    {
     "name": "stderr",
     "output_type": "stream",
     "text": [
      "\r",
      "2459it [01:57, 20.56it/s]"
     ]
    },
    {
     "name": "stdout",
     "output_type": "stream",
     "text": [
      "(1, 450, 600, 3)\n",
      "(1, 450, 600, 3)\n",
      "(1, 450, 600, 3)\n",
      "(1, 450, 600, 3)\n",
      "(1, 450, 600, 3)\n"
     ]
    },
    {
     "name": "stderr",
     "output_type": "stream",
     "text": [
      "2465it [01:58, 20.26it/s]"
     ]
    },
    {
     "name": "stdout",
     "output_type": "stream",
     "text": [
      "(1, 450, 600, 3)\n",
      "(1, 450, 600, 3)\n",
      "(1, 450, 600, 3)\n"
     ]
    },
    {
     "name": "stderr",
     "output_type": "stream",
     "text": [
      "\r",
      "2468it [01:58, 20.14it/s]"
     ]
    },
    {
     "name": "stdout",
     "output_type": "stream",
     "text": [
      "(1, 450, 600, 3)\n",
      "(1, 450, 600, 3)\n",
      "(1, 450, 600, 3)\n",
      "(1, 450, 600, 3)\n",
      "(1, 450, 600, 3)\n"
     ]
    },
    {
     "name": "stderr",
     "output_type": "stream",
     "text": [
      "2474it [01:58, 20.37it/s]"
     ]
    },
    {
     "name": "stdout",
     "output_type": "stream",
     "text": [
      "(1, 450, 600, 3)\n",
      "(1, 450, 600, 3)\n",
      "(1, 450, 600, 3)\n",
      "(1, 450, 600, 3)\n"
     ]
    },
    {
     "name": "stderr",
     "output_type": "stream",
     "text": [
      "\r",
      "2477it [01:58, 19.84it/s]"
     ]
    },
    {
     "name": "stdout",
     "output_type": "stream",
     "text": [
      "(1, 450, 600, 3)\n",
      "(1, 450, 600, 3)\n",
      "(1, 450, 600, 3)\n",
      "(1, 450, 600, 3)\n",
      "(1, 450, 600, 3)\n"
     ]
    },
    {
     "name": "stderr",
     "output_type": "stream",
     "text": [
      "2483it [01:59, 20.58it/s]"
     ]
    },
    {
     "name": "stdout",
     "output_type": "stream",
     "text": [
      "(1, 450, 600, 3)\n",
      "(1, 450, 600, 3)\n",
      "(1, 450, 600, 3)\n",
      "(1, 450, 600, 3)\n"
     ]
    },
    {
     "name": "stderr",
     "output_type": "stream",
     "text": [
      "\r",
      "2486it [01:59, 20.36it/s]"
     ]
    },
    {
     "name": "stdout",
     "output_type": "stream",
     "text": [
      "(1, 450, 600, 3)\n",
      "(1, 450, 600, 3)\n",
      "(1, 450, 600, 3)\n",
      "(1, 450, 600, 3)\n",
      "(1, 450, 600, 3)\n"
     ]
    },
    {
     "name": "stderr",
     "output_type": "stream",
     "text": [
      "2492it [01:59, 20.84it/s]"
     ]
    },
    {
     "name": "stdout",
     "output_type": "stream",
     "text": [
      "(1, 450, 600, 3)\n",
      "(1, 450, 600, 3)\n",
      "(1, 450, 600, 3)\n",
      "(1, 450, 600, 3)\n",
      "(1, 450, 600, 3)\n"
     ]
    },
    {
     "name": "stderr",
     "output_type": "stream",
     "text": [
      "\r",
      "2495it [01:59, 20.57it/s]"
     ]
    },
    {
     "name": "stdout",
     "output_type": "stream",
     "text": [
      "(1, 450, 600, 3)\n",
      "(1, 450, 600, 3)\n",
      "(1, 450, 600, 3)\n",
      "(1, 450, 600, 3)\n"
     ]
    },
    {
     "name": "stderr",
     "output_type": "stream",
     "text": [
      "2501it [01:59, 19.00it/s]"
     ]
    },
    {
     "name": "stdout",
     "output_type": "stream",
     "text": [
      "(1, 450, 600, 3)\n",
      "(1, 450, 600, 3)\n",
      "(1, 450, 600, 3)\n",
      "(1, 450, 600, 3)\n"
     ]
    },
    {
     "name": "stderr",
     "output_type": "stream",
     "text": [
      "2505it [02:00, 19.38it/s]"
     ]
    },
    {
     "name": "stdout",
     "output_type": "stream",
     "text": [
      "(1, 450, 600, 3)\n",
      "(1, 450, 600, 3)\n",
      "(1, 450, 600, 3)\n",
      "(1, 450, 600, 3)\n"
     ]
    },
    {
     "name": "stderr",
     "output_type": "stream",
     "text": [
      "\r",
      "2507it [02:00, 19.06it/s]"
     ]
    },
    {
     "name": "stdout",
     "output_type": "stream",
     "text": [
      "(1, 450, 600, 3)\n",
      "(1, 450, 600, 3)\n",
      "(1, 450, 600, 3)\n",
      "(1, 450, 600, 3)\n",
      "(1, 450, 600, 3)\n"
     ]
    },
    {
     "name": "stderr",
     "output_type": "stream",
     "text": [
      "2513it [02:00, 20.67it/s]"
     ]
    },
    {
     "name": "stdout",
     "output_type": "stream",
     "text": [
      "(1, 450, 600, 3)\n",
      "(1, 450, 600, 3)\n",
      "(1, 450, 600, 3)\n",
      "(1, 450, 600, 3)\n",
      "(1, 450, 600, 3)\n"
     ]
    },
    {
     "name": "stderr",
     "output_type": "stream",
     "text": [
      "2519it [02:00, 20.31it/s]"
     ]
    },
    {
     "name": "stdout",
     "output_type": "stream",
     "text": [
      "(1, 450, 600, 3)\n",
      "(1, 450, 600, 3)\n",
      "(1, 450, 600, 3)\n",
      "(1, 450, 600, 3)\n"
     ]
    },
    {
     "name": "stderr",
     "output_type": "stream",
     "text": [
      "\r",
      "2522it [02:01, 20.18it/s]"
     ]
    },
    {
     "name": "stdout",
     "output_type": "stream",
     "text": [
      "(1, 450, 600, 3)\n",
      "(1, 450, 600, 3)\n",
      "(1, 450, 600, 3)\n",
      "(1, 450, 600, 3)\n"
     ]
    },
    {
     "name": "stderr",
     "output_type": "stream",
     "text": [
      "2527it [02:01, 19.80it/s]"
     ]
    },
    {
     "name": "stdout",
     "output_type": "stream",
     "text": [
      "(1, 450, 600, 3)\n",
      "(1, 450, 600, 3)\n",
      "(1, 450, 600, 3)\n",
      "(1, 450, 600, 3)\n",
      "(1, 450, 600, 3)\n"
     ]
    },
    {
     "name": "stderr",
     "output_type": "stream",
     "text": [
      "\r",
      "2530it [02:01, 20.31it/s]"
     ]
    },
    {
     "name": "stdout",
     "output_type": "stream",
     "text": [
      "(1, 450, 600, 3)\n",
      "(1, 450, 600, 3)\n",
      "(1, 450, 600, 3)\n",
      "(1, 450, 600, 3)\n",
      "(1, 450, 600, 3)\n"
     ]
    },
    {
     "name": "stderr",
     "output_type": "stream",
     "text": [
      "2536it [02:01, 20.44it/s]"
     ]
    },
    {
     "name": "stdout",
     "output_type": "stream",
     "text": [
      "(1, 450, 600, 3)\n",
      "(1, 450, 600, 3)\n",
      "(1, 450, 600, 3)\n",
      "(1, 450, 600, 3)\n",
      "(1, 450, 600, 3)\n"
     ]
    },
    {
     "name": "stderr",
     "output_type": "stream",
     "text": [
      "2542it [02:01, 20.61it/s]"
     ]
    },
    {
     "name": "stdout",
     "output_type": "stream",
     "text": [
      "(1, 450, 600, 3)\n",
      "(1, 450, 600, 3)\n",
      "(1, 450, 600, 3)\n",
      "(1, 450, 600, 3)\n"
     ]
    },
    {
     "name": "stderr",
     "output_type": "stream",
     "text": [
      "\r",
      "2545it [02:02, 19.62it/s]"
     ]
    },
    {
     "name": "stdout",
     "output_type": "stream",
     "text": [
      "(1, 450, 600, 3)\n",
      "(1, 450, 600, 3)\n",
      "(1, 450, 600, 3)\n",
      "(1, 450, 600, 3)\n"
     ]
    },
    {
     "name": "stderr",
     "output_type": "stream",
     "text": [
      "2550it [02:02, 19.94it/s]"
     ]
    },
    {
     "name": "stdout",
     "output_type": "stream",
     "text": [
      "(1, 450, 600, 3)\n",
      "(1, 450, 600, 3)\n",
      "(1, 450, 600, 3)\n",
      "(1, 450, 600, 3)\n",
      "(1, 450, 600, 3)\n"
     ]
    },
    {
     "name": "stderr",
     "output_type": "stream",
     "text": [
      "\r",
      "2553it [02:02, 20.39it/s]"
     ]
    },
    {
     "name": "stdout",
     "output_type": "stream",
     "text": [
      "(1, 450, 600, 3)\n",
      "(1, 450, 600, 3)\n",
      "(1, 450, 600, 3)\n",
      "(1, 450, 600, 3)\n"
     ]
    },
    {
     "name": "stderr",
     "output_type": "stream",
     "text": [
      "2558it [02:02, 19.86it/s]"
     ]
    },
    {
     "name": "stdout",
     "output_type": "stream",
     "text": [
      "(1, 450, 600, 3)\n",
      "(1, 450, 600, 3)\n",
      "(1, 450, 600, 3)\n",
      "(1, 450, 600, 3)\n"
     ]
    },
    {
     "name": "stderr",
     "output_type": "stream",
     "text": [
      "\r",
      "2561it [02:02, 19.93it/s]"
     ]
    },
    {
     "name": "stdout",
     "output_type": "stream",
     "text": [
      "(1, 450, 600, 3)\n",
      "(1, 450, 600, 3)\n",
      "(1, 450, 600, 3)\n",
      "(1, 450, 600, 3)\n",
      "(1, 450, 600, 3)\n"
     ]
    },
    {
     "name": "stderr",
     "output_type": "stream",
     "text": [
      "2567it [02:03, 20.26it/s]"
     ]
    },
    {
     "name": "stdout",
     "output_type": "stream",
     "text": [
      "(1, 450, 600, 3)\n",
      "(1, 450, 600, 3)\n",
      "(1, 450, 600, 3)\n",
      "(1, 450, 600, 3)\n"
     ]
    },
    {
     "name": "stderr",
     "output_type": "stream",
     "text": [
      "2572it [02:03, 19.82it/s]"
     ]
    },
    {
     "name": "stdout",
     "output_type": "stream",
     "text": [
      "(1, 450, 600, 3)\n",
      "(1, 450, 600, 3)\n",
      "(1, 450, 600, 3)\n",
      "(1, 450, 600, 3)\n",
      "(1, 450, 600, 3)\n"
     ]
    },
    {
     "name": "stderr",
     "output_type": "stream",
     "text": [
      "\r",
      "2575it [02:03, 20.32it/s]"
     ]
    },
    {
     "name": "stdout",
     "output_type": "stream",
     "text": [
      "(1, 450, 600, 3)\n",
      "(1, 450, 600, 3)\n",
      "(1, 450, 600, 3)\n",
      "(1, 450, 600, 3)\n",
      "(1, 450, 600, 3)\n"
     ]
    },
    {
     "name": "stderr",
     "output_type": "stream",
     "text": [
      "2582it [02:04, 18.63it/s]"
     ]
    },
    {
     "name": "stdout",
     "output_type": "stream",
     "text": [
      "(1, 450, 600, 3)\n",
      "(1, 450, 600, 3)\n",
      "(1, 450, 600, 3)\n",
      "(1, 450, 600, 3)\n"
     ]
    },
    {
     "name": "stderr",
     "output_type": "stream",
     "text": [
      "2586it [02:04, 18.28it/s]"
     ]
    },
    {
     "name": "stdout",
     "output_type": "stream",
     "text": [
      "(1, 450, 600, 3)\n",
      "(1, 450, 600, 3)\n",
      "(1, 450, 600, 3)\n",
      "(1, 450, 600, 3)\n"
     ]
    },
    {
     "name": "stderr",
     "output_type": "stream",
     "text": [
      "2590it [02:04, 17.77it/s]"
     ]
    },
    {
     "name": "stdout",
     "output_type": "stream",
     "text": [
      "(1, 450, 600, 3)\n",
      "(1, 450, 600, 3)\n",
      "(1, 450, 600, 3)\n",
      "(1, 450, 600, 3)\n"
     ]
    },
    {
     "name": "stderr",
     "output_type": "stream",
     "text": [
      "2594it [02:04, 17.20it/s]"
     ]
    },
    {
     "name": "stdout",
     "output_type": "stream",
     "text": [
      "(1, 450, 600, 3)\n",
      "(1, 450, 600, 3)\n",
      "(1, 450, 600, 3)\n",
      "(1, 450, 600, 3)\n"
     ]
    },
    {
     "name": "stderr",
     "output_type": "stream",
     "text": [
      "2598it [02:04, 18.49it/s]"
     ]
    },
    {
     "name": "stdout",
     "output_type": "stream",
     "text": [
      "(1, 450, 600, 3)\n",
      "(1, 450, 600, 3)\n",
      "(1, 450, 600, 3)\n",
      "(1, 450, 600, 3)\n",
      "(1, 450, 600, 3)\n"
     ]
    },
    {
     "name": "stderr",
     "output_type": "stream",
     "text": [
      "2602it [02:05, 19.21it/s]"
     ]
    },
    {
     "name": "stdout",
     "output_type": "stream",
     "text": [
      "(1, 450, 600, 3)\n",
      "(1, 450, 600, 3)\n",
      "(1, 450, 600, 3)\n",
      "(1, 450, 600, 3)\n"
     ]
    },
    {
     "name": "stderr",
     "output_type": "stream",
     "text": [
      "2606it [02:05, 19.19it/s]"
     ]
    },
    {
     "name": "stdout",
     "output_type": "stream",
     "text": [
      "(1, 450, 600, 3)\n",
      "(1, 450, 600, 3)\n",
      "(1, 450, 600, 3)\n",
      "(1, 450, 600, 3)\n",
      "(1, 450, 600, 3)\n"
     ]
    },
    {
     "name": "stderr",
     "output_type": "stream",
     "text": [
      "2612it [02:05, 20.93it/s]"
     ]
    },
    {
     "name": "stdout",
     "output_type": "stream",
     "text": [
      "(1, 450, 600, 3)\n",
      "(1, 450, 600, 3)\n",
      "(1, 450, 600, 3)\n",
      "(1, 450, 600, 3)\n",
      "(1, 450, 600, 3)\n"
     ]
    },
    {
     "name": "stderr",
     "output_type": "stream",
     "text": [
      "\r",
      "2615it [02:05, 20.59it/s]"
     ]
    },
    {
     "name": "stdout",
     "output_type": "stream",
     "text": [
      "(1, 450, 600, 3)\n",
      "(1, 450, 600, 3)\n",
      "(1, 450, 600, 3)\n",
      "(1, 450, 600, 3)\n"
     ]
    },
    {
     "name": "stderr",
     "output_type": "stream",
     "text": [
      "\r",
      "2618it [02:05, 20.39it/s]"
     ]
    },
    {
     "name": "stdout",
     "output_type": "stream",
     "text": [
      "(1, 450, 600, 3)\n",
      "(1, 450, 600, 3)\n",
      "(1, 450, 600, 3)\n",
      "(1, 450, 600, 3)\n"
     ]
    },
    {
     "name": "stderr",
     "output_type": "stream",
     "text": [
      "2624it [02:06, 19.94it/s]"
     ]
    },
    {
     "name": "stdout",
     "output_type": "stream",
     "text": [
      "(1, 450, 600, 3)\n",
      "(1, 450, 600, 3)\n",
      "(1, 450, 600, 3)\n",
      "(1, 450, 600, 3)\n"
     ]
    },
    {
     "name": "stderr",
     "output_type": "stream",
     "text": [
      "2629it [02:06, 20.83it/s]"
     ]
    },
    {
     "name": "stdout",
     "output_type": "stream",
     "text": [
      "(1, 450, 600, 3)\n",
      "(1, 450, 600, 3)\n",
      "(1, 450, 600, 3)\n",
      "(1, 450, 600, 3)\n",
      "(1, 450, 600, 3)\n"
     ]
    },
    {
     "name": "stderr",
     "output_type": "stream",
     "text": [
      "\r",
      "2632it [02:06, 20.50it/s]"
     ]
    },
    {
     "name": "stdout",
     "output_type": "stream",
     "text": [
      "(1, 450, 600, 3)\n",
      "(1, 450, 600, 3)\n",
      "(1, 450, 600, 3)\n",
      "(1, 450, 600, 3)\n",
      "(1, 450, 600, 3)\n"
     ]
    },
    {
     "name": "stderr",
     "output_type": "stream",
     "text": [
      "2638it [02:06, 20.15it/s]"
     ]
    },
    {
     "name": "stdout",
     "output_type": "stream",
     "text": [
      "(1, 450, 600, 3)\n",
      "(1, 450, 600, 3)\n",
      "(1, 450, 600, 3)\n",
      "(1, 450, 600, 3)\n",
      "(1, 450, 600, 3)\n"
     ]
    },
    {
     "name": "stderr",
     "output_type": "stream",
     "text": [
      "2644it [02:07, 19.61it/s]"
     ]
    },
    {
     "name": "stdout",
     "output_type": "stream",
     "text": [
      "(1, 450, 600, 3)\n",
      "(1, 450, 600, 3)\n",
      "(1, 450, 600, 3)\n",
      "(1, 450, 600, 3)\n"
     ]
    },
    {
     "name": "stderr",
     "output_type": "stream",
     "text": [
      "\r",
      "2647it [02:07, 19.99it/s]"
     ]
    },
    {
     "name": "stdout",
     "output_type": "stream",
     "text": [
      "(1, 450, 600, 3)\n",
      "(1, 450, 600, 3)\n",
      "(1, 450, 600, 3)\n",
      "(1, 450, 600, 3)\n",
      "(1, 450, 600, 3)\n"
     ]
    },
    {
     "name": "stderr",
     "output_type": "stream",
     "text": [
      "2653it [02:07, 20.46it/s]"
     ]
    },
    {
     "name": "stdout",
     "output_type": "stream",
     "text": [
      "(1, 450, 600, 3)\n",
      "(1, 450, 600, 3)\n",
      "(1, 450, 600, 3)\n",
      "(1, 450, 600, 3)\n",
      "(1, 450, 600, 3)\n"
     ]
    },
    {
     "name": "stderr",
     "output_type": "stream",
     "text": [
      "\r",
      "2656it [02:07, 19.89it/s]"
     ]
    },
    {
     "name": "stdout",
     "output_type": "stream",
     "text": [
      "(1, 450, 600, 3)\n",
      "(1, 450, 600, 3)\n",
      "(1, 450, 600, 3)\n"
     ]
    },
    {
     "name": "stderr",
     "output_type": "stream",
     "text": [
      "2660it [02:07, 19.83it/s]"
     ]
    },
    {
     "name": "stdout",
     "output_type": "stream",
     "text": [
      "(1, 450, 600, 3)\n",
      "(1, 450, 600, 3)\n",
      "(1, 450, 600, 3)\n",
      "(1, 450, 600, 3)\n"
     ]
    },
    {
     "name": "stderr",
     "output_type": "stream",
     "text": [
      "2664it [02:08, 19.48it/s]"
     ]
    },
    {
     "name": "stdout",
     "output_type": "stream",
     "text": [
      "(1, 450, 600, 3)\n",
      "(1, 450, 600, 3)\n",
      "(1, 450, 600, 3)\n",
      "(1, 450, 600, 3)\n",
      "(1, 450, 600, 3)\n"
     ]
    },
    {
     "name": "stderr",
     "output_type": "stream",
     "text": [
      "2669it [02:08, 19.77it/s]"
     ]
    },
    {
     "name": "stdout",
     "output_type": "stream",
     "text": [
      "(1, 450, 600, 3)\n",
      "(1, 450, 600, 3)\n",
      "(1, 450, 600, 3)\n",
      "(1, 450, 600, 3)\n",
      "(1, 450, 600, 3)\n"
     ]
    },
    {
     "name": "stderr",
     "output_type": "stream",
     "text": [
      "2675it [02:08, 20.09it/s]"
     ]
    },
    {
     "name": "stdout",
     "output_type": "stream",
     "text": [
      "(1, 450, 600, 3)\n",
      "(1, 450, 600, 3)\n",
      "(1, 450, 600, 3)\n",
      "(1, 450, 600, 3)\n"
     ]
    },
    {
     "name": "stderr",
     "output_type": "stream",
     "text": [
      "\r",
      "2678it [02:08, 19.97it/s]"
     ]
    },
    {
     "name": "stdout",
     "output_type": "stream",
     "text": [
      "(1, 450, 600, 3)\n",
      "(1, 450, 600, 3)\n",
      "(1, 450, 600, 3)\n",
      "(1, 450, 600, 3)\n",
      "(1, 450, 600, 3)\n"
     ]
    },
    {
     "name": "stderr",
     "output_type": "stream",
     "text": [
      "\r",
      "2681it [02:09, 20.28it/s]"
     ]
    },
    {
     "name": "stdout",
     "output_type": "stream",
     "text": [
      "(1, 450, 600, 3)\n",
      "(1, 450, 600, 3)\n",
      "(1, 450, 600, 3)\n",
      "(1, 450, 600, 3)\n"
     ]
    },
    {
     "name": "stderr",
     "output_type": "stream",
     "text": [
      "2686it [02:09, 17.72it/s]"
     ]
    },
    {
     "name": "stdout",
     "output_type": "stream",
     "text": [
      "(1, 450, 600, 3)\n",
      "(1, 450, 600, 3)\n",
      "(1, 450, 600, 3)\n",
      "(1, 450, 600, 3)\n",
      "(1, 450, 600, 3)\n"
     ]
    },
    {
     "name": "stderr",
     "output_type": "stream",
     "text": [
      "2692it [02:09, 19.52it/s]"
     ]
    },
    {
     "name": "stdout",
     "output_type": "stream",
     "text": [
      "(1, 450, 600, 3)\n",
      "(1, 450, 600, 3)\n",
      "(1, 450, 600, 3)\n",
      "(1, 450, 600, 3)\n",
      "(1, 450, 600, 3)\n"
     ]
    },
    {
     "name": "stderr",
     "output_type": "stream",
     "text": [
      "2697it [02:09, 19.61it/s]"
     ]
    },
    {
     "name": "stdout",
     "output_type": "stream",
     "text": [
      "(1, 450, 600, 3)\n",
      "(1, 450, 600, 3)\n",
      "(1, 450, 600, 3)\n",
      "(1, 450, 600, 3)\n",
      "(1, 450, 600, 3)\n"
     ]
    },
    {
     "name": "stderr",
     "output_type": "stream",
     "text": [
      "2703it [02:10, 19.89it/s]"
     ]
    },
    {
     "name": "stdout",
     "output_type": "stream",
     "text": [
      "(1, 450, 600, 3)\n",
      "(1, 450, 600, 3)\n",
      "(1, 450, 600, 3)\n",
      "(1, 450, 600, 3)\n"
     ]
    },
    {
     "name": "stderr",
     "output_type": "stream",
     "text": [
      "2707it [02:10, 19.91it/s]"
     ]
    },
    {
     "name": "stdout",
     "output_type": "stream",
     "text": [
      "(1, 450, 600, 3)\n",
      "(1, 450, 600, 3)\n",
      "(1, 450, 600, 3)\n",
      "(1, 450, 600, 3)\n",
      "(1, 450, 600, 3)\n"
     ]
    },
    {
     "name": "stderr",
     "output_type": "stream",
     "text": [
      "\r",
      "2710it [02:10, 19.96it/s]"
     ]
    },
    {
     "name": "stdout",
     "output_type": "stream",
     "text": [
      "(1, 450, 600, 3)\n",
      "(1, 450, 600, 3)\n",
      "(1, 450, 600, 3)\n",
      "(1, 450, 600, 3)\n",
      "(1, 450, 600, 3)\n"
     ]
    },
    {
     "name": "stderr",
     "output_type": "stream",
     "text": [
      "2716it [02:10, 19.85it/s]"
     ]
    },
    {
     "name": "stdout",
     "output_type": "stream",
     "text": [
      "(1, 450, 600, 3)\n",
      "(1, 450, 600, 3)\n",
      "(1, 450, 600, 3)\n",
      "(1, 450, 600, 3)\n"
     ]
    },
    {
     "name": "stderr",
     "output_type": "stream",
     "text": [
      "2721it [02:11, 20.35it/s]"
     ]
    },
    {
     "name": "stdout",
     "output_type": "stream",
     "text": [
      "(1, 450, 600, 3)\n",
      "(1, 450, 600, 3)\n",
      "(1, 450, 600, 3)\n",
      "(1, 450, 600, 3)\n",
      "(1, 450, 600, 3)\n"
     ]
    },
    {
     "name": "stderr",
     "output_type": "stream",
     "text": [
      "\r",
      "2724it [02:11, 19.83it/s]"
     ]
    },
    {
     "name": "stdout",
     "output_type": "stream",
     "text": [
      "(1, 450, 600, 3)\n",
      "(1, 450, 600, 3)\n",
      "(1, 450, 600, 3)\n",
      "(1, 450, 600, 3)\n"
     ]
    },
    {
     "name": "stderr",
     "output_type": "stream",
     "text": [
      "2730it [02:11, 20.34it/s]"
     ]
    },
    {
     "name": "stdout",
     "output_type": "stream",
     "text": [
      "(1, 450, 600, 3)\n",
      "(1, 450, 600, 3)\n",
      "(1, 450, 600, 3)\n",
      "(1, 450, 600, 3)\n",
      "(1, 450, 600, 3)\n"
     ]
    },
    {
     "name": "stderr",
     "output_type": "stream",
     "text": [
      "\r",
      "2733it [02:11, 19.83it/s]"
     ]
    },
    {
     "name": "stdout",
     "output_type": "stream",
     "text": [
      "(1, 450, 600, 3)\n",
      "(1, 450, 600, 3)\n",
      "(1, 450, 600, 3)\n",
      "(1, 450, 600, 3)\n",
      "(1, 450, 600, 3)\n"
     ]
    },
    {
     "name": "stderr",
     "output_type": "stream",
     "text": [
      "2738it [02:11, 19.58it/s]"
     ]
    },
    {
     "name": "stdout",
     "output_type": "stream",
     "text": [
      "(1, 450, 600, 3)\n",
      "(1, 450, 600, 3)\n",
      "(1, 450, 600, 3)\n",
      "(1, 450, 600, 3)\n"
     ]
    },
    {
     "name": "stderr",
     "output_type": "stream",
     "text": [
      "2743it [02:12, 18.50it/s]"
     ]
    },
    {
     "name": "stdout",
     "output_type": "stream",
     "text": [
      "(1, 450, 600, 3)\n",
      "(1, 450, 600, 3)\n",
      "(1, 450, 600, 3)\n",
      "(1, 450, 600, 3)\n"
     ]
    },
    {
     "name": "stderr",
     "output_type": "stream",
     "text": [
      "\r",
      "2746it [02:12, 18.98it/s]"
     ]
    },
    {
     "name": "stdout",
     "output_type": "stream",
     "text": [
      "(1, 450, 600, 3)\n",
      "(1, 450, 600, 3)\n",
      "(1, 450, 600, 3)\n",
      "(1, 450, 600, 3)\n"
     ]
    },
    {
     "name": "stderr",
     "output_type": "stream",
     "text": [
      "2752it [02:12, 19.81it/s]"
     ]
    },
    {
     "name": "stdout",
     "output_type": "stream",
     "text": [
      "(1, 450, 600, 3)\n",
      "(1, 450, 600, 3)\n",
      "(1, 450, 600, 3)\n",
      "(1, 450, 600, 3)\n"
     ]
    },
    {
     "name": "stderr",
     "output_type": "stream",
     "text": [
      "2756it [02:12, 19.55it/s]"
     ]
    },
    {
     "name": "stdout",
     "output_type": "stream",
     "text": [
      "(1, 450, 600, 3)\n",
      "(1, 450, 600, 3)\n",
      "(1, 450, 600, 3)\n",
      "(1, 450, 600, 3)\n"
     ]
    },
    {
     "name": "stderr",
     "output_type": "stream",
     "text": [
      "2760it [02:13, 19.73it/s]"
     ]
    },
    {
     "name": "stdout",
     "output_type": "stream",
     "text": [
      "(1, 450, 600, 3)\n",
      "(1, 450, 600, 3)\n",
      "(1, 450, 600, 3)\n",
      "(1, 450, 600, 3)\n"
     ]
    },
    {
     "name": "stderr",
     "output_type": "stream",
     "text": [
      "\r",
      "2763it [02:13, 19.85it/s]"
     ]
    },
    {
     "name": "stdout",
     "output_type": "stream",
     "text": [
      "(1, 450, 600, 3)\n",
      "(1, 450, 600, 3)\n",
      "(1, 450, 600, 3)\n",
      "(1, 450, 600, 3)\n"
     ]
    },
    {
     "name": "stderr",
     "output_type": "stream",
     "text": [
      "2767it [02:13, 19.37it/s]"
     ]
    },
    {
     "name": "stdout",
     "output_type": "stream",
     "text": [
      "(1, 450, 600, 3)\n",
      "(1, 450, 600, 3)\n",
      "(1, 450, 600, 3)\n",
      "(1, 450, 600, 3)\n"
     ]
    },
    {
     "name": "stderr",
     "output_type": "stream",
     "text": [
      "\r",
      "2770it [02:13, 20.08it/s]"
     ]
    },
    {
     "name": "stdout",
     "output_type": "stream",
     "text": [
      "(1, 450, 600, 3)\n",
      "(1, 450, 600, 3)\n",
      "(1, 450, 600, 3)\n",
      "(1, 450, 600, 3)\n"
     ]
    },
    {
     "name": "stderr",
     "output_type": "stream",
     "text": [
      "2774it [02:13, 17.63it/s]"
     ]
    },
    {
     "name": "stdout",
     "output_type": "stream",
     "text": [
      "(1, 450, 600, 3)\n",
      "(1, 450, 600, 3)\n",
      "(1, 450, 600, 3)\n"
     ]
    },
    {
     "name": "stderr",
     "output_type": "stream",
     "text": [
      "2778it [02:14, 17.27it/s]"
     ]
    },
    {
     "name": "stdout",
     "output_type": "stream",
     "text": [
      "(1, 450, 600, 3)\n",
      "(1, 450, 600, 3)\n",
      "(1, 450, 600, 3)\n",
      "(1, 450, 600, 3)\n"
     ]
    },
    {
     "name": "stderr",
     "output_type": "stream",
     "text": [
      "2782it [02:14, 17.58it/s]"
     ]
    },
    {
     "name": "stdout",
     "output_type": "stream",
     "text": [
      "(1, 450, 600, 3)\n",
      "(1, 450, 600, 3)\n",
      "(1, 450, 600, 3)\n",
      "(1, 450, 600, 3)\n"
     ]
    },
    {
     "name": "stderr",
     "output_type": "stream",
     "text": [
      "2786it [02:14, 18.72it/s]"
     ]
    },
    {
     "name": "stdout",
     "output_type": "stream",
     "text": [
      "(1, 450, 600, 3)\n",
      "(1, 450, 600, 3)\n",
      "(1, 450, 600, 3)\n",
      "(1, 450, 600, 3)\n",
      "(1, 450, 600, 3)\n"
     ]
    },
    {
     "name": "stderr",
     "output_type": "stream",
     "text": [
      "2791it [02:14, 19.74it/s]"
     ]
    },
    {
     "name": "stdout",
     "output_type": "stream",
     "text": [
      "(1, 450, 600, 3)\n",
      "(1, 450, 600, 3)\n",
      "(1, 450, 600, 3)\n",
      "(1, 450, 600, 3)\n",
      "(1, 450, 600, 3)\n"
     ]
    },
    {
     "name": "stderr",
     "output_type": "stream",
     "text": [
      "2796it [02:15, 19.67it/s]"
     ]
    },
    {
     "name": "stdout",
     "output_type": "stream",
     "text": [
      "(1, 450, 600, 3)\n",
      "(1, 450, 600, 3)\n",
      "(1, 450, 600, 3)\n",
      "(1, 450, 600, 3)\n",
      "(1, 450, 600, 3)\n"
     ]
    },
    {
     "name": "stderr",
     "output_type": "stream",
     "text": [
      "\r",
      "2799it [02:15, 20.11it/s]"
     ]
    },
    {
     "name": "stdout",
     "output_type": "stream",
     "text": [
      "(1, 450, 600, 3)\n",
      "(1, 450, 600, 3)\n",
      "(1, 450, 600, 3)\n"
     ]
    },
    {
     "name": "stderr",
     "output_type": "stream",
     "text": [
      "2804it [02:15, 20.01it/s]"
     ]
    },
    {
     "name": "stdout",
     "output_type": "stream",
     "text": [
      "(1, 450, 600, 3)\n",
      "(1, 450, 600, 3)\n",
      "(1, 450, 600, 3)\n",
      "(1, 450, 600, 3)\n",
      "(1, 450, 600, 3)\n"
     ]
    },
    {
     "name": "stderr",
     "output_type": "stream",
     "text": [
      "2810it [02:15, 20.56it/s]"
     ]
    },
    {
     "name": "stdout",
     "output_type": "stream",
     "text": [
      "(1, 450, 600, 3)\n",
      "(1, 450, 600, 3)\n",
      "(1, 450, 600, 3)\n",
      "(1, 450, 600, 3)\n",
      "(1, 450, 600, 3)\n"
     ]
    },
    {
     "name": "stderr",
     "output_type": "stream",
     "text": [
      "\r",
      "2813it [02:15, 20.37it/s]"
     ]
    },
    {
     "name": "stdout",
     "output_type": "stream",
     "text": [
      "(1, 450, 600, 3)\n",
      "(1, 450, 600, 3)\n",
      "(1, 450, 600, 3)\n"
     ]
    },
    {
     "name": "stderr",
     "output_type": "stream",
     "text": [
      "\r",
      "2816it [02:15, 20.20it/s]"
     ]
    },
    {
     "name": "stdout",
     "output_type": "stream",
     "text": [
      "(1, 450, 600, 3)\n",
      "(1, 450, 600, 3)\n",
      "(1, 450, 600, 3)\n",
      "(1, 450, 600, 3)\n",
      "(1, 450, 600, 3)\n"
     ]
    },
    {
     "name": "stderr",
     "output_type": "stream",
     "text": [
      "2822it [02:16, 20.32it/s]"
     ]
    },
    {
     "name": "stdout",
     "output_type": "stream",
     "text": [
      "(1, 450, 600, 3)\n",
      "(1, 450, 600, 3)\n",
      "(1, 450, 600, 3)\n",
      "(1, 450, 600, 3)\n"
     ]
    },
    {
     "name": "stderr",
     "output_type": "stream",
     "text": [
      "2827it [02:16, 19.83it/s]"
     ]
    },
    {
     "name": "stdout",
     "output_type": "stream",
     "text": [
      "(1, 450, 600, 3)\n",
      "(1, 450, 600, 3)\n",
      "(1, 450, 600, 3)\n",
      "(1, 450, 600, 3)\n",
      "(1, 450, 600, 3)\n"
     ]
    },
    {
     "name": "stderr",
     "output_type": "stream",
     "text": [
      "2832it [02:16, 20.34it/s]"
     ]
    },
    {
     "name": "stdout",
     "output_type": "stream",
     "text": [
      "(1, 450, 600, 3)\n",
      "(1, 450, 600, 3)\n",
      "(1, 450, 600, 3)\n",
      "(1, 450, 600, 3)\n",
      "(1, 450, 600, 3)\n"
     ]
    },
    {
     "name": "stderr",
     "output_type": "stream",
     "text": [
      "2837it [02:17, 19.82it/s]"
     ]
    },
    {
     "name": "stdout",
     "output_type": "stream",
     "text": [
      "(1, 450, 600, 3)\n",
      "(1, 450, 600, 3)\n",
      "(1, 450, 600, 3)\n",
      "(1, 450, 600, 3)\n",
      "(1, 450, 600, 3)\n"
     ]
    },
    {
     "name": "stderr",
     "output_type": "stream",
     "text": [
      "2841it [02:17, 19.86it/s]"
     ]
    },
    {
     "name": "stdout",
     "output_type": "stream",
     "text": [
      "(1, 450, 600, 3)\n",
      "(1, 450, 600, 3)\n",
      "(1, 450, 600, 3)\n",
      "(1, 450, 600, 3)\n"
     ]
    },
    {
     "name": "stderr",
     "output_type": "stream",
     "text": [
      "\r",
      "2844it [02:17, 20.11it/s]"
     ]
    },
    {
     "name": "stdout",
     "output_type": "stream",
     "text": [
      "(1, 450, 600, 3)\n",
      "(1, 450, 600, 3)\n",
      "(1, 450, 600, 3)\n",
      "(1, 450, 600, 3)\n",
      "(1, 450, 600, 3)\n"
     ]
    },
    {
     "name": "stderr",
     "output_type": "stream",
     "text": [
      "2850it [02:17, 20.04it/s]"
     ]
    },
    {
     "name": "stdout",
     "output_type": "stream",
     "text": [
      "(1, 450, 600, 3)\n",
      "(1, 450, 600, 3)\n",
      "(1, 450, 600, 3)\n",
      "(1, 450, 600, 3)\n",
      "(1, 450, 600, 3)\n"
     ]
    },
    {
     "name": "stderr",
     "output_type": "stream",
     "text": [
      "2856it [02:17, 20.31it/s]"
     ]
    },
    {
     "name": "stdout",
     "output_type": "stream",
     "text": [
      "(1, 450, 600, 3)\n",
      "(1, 450, 600, 3)\n",
      "(1, 450, 600, 3)\n",
      "(1, 450, 600, 3)\n",
      "(1, 450, 600, 3)\n"
     ]
    },
    {
     "name": "stderr",
     "output_type": "stream",
     "text": [
      "\r",
      "2859it [02:18, 20.21it/s]"
     ]
    },
    {
     "name": "stdout",
     "output_type": "stream",
     "text": [
      "(1, 450, 600, 3)\n",
      "(1, 450, 600, 3)\n",
      "(1, 450, 600, 3)\n"
     ]
    },
    {
     "name": "stderr",
     "output_type": "stream",
     "text": [
      "\r",
      "2862it [02:18, 19.62it/s]"
     ]
    },
    {
     "name": "stdout",
     "output_type": "stream",
     "text": [
      "(1, 450, 600, 3)\n",
      "(1, 450, 600, 3)\n",
      "(1, 450, 600, 3)\n",
      "(1, 450, 600, 3)\n"
     ]
    },
    {
     "name": "stderr",
     "output_type": "stream",
     "text": [
      "2868it [02:18, 18.42it/s]"
     ]
    },
    {
     "name": "stdout",
     "output_type": "stream",
     "text": [
      "(1, 450, 600, 3)\n",
      "(1, 450, 600, 3)\n",
      "(1, 450, 600, 3)\n",
      "(1, 450, 600, 3)\n",
      "(1, 450, 600, 3)\n"
     ]
    },
    {
     "name": "stderr",
     "output_type": "stream",
     "text": [
      "2873it [02:18, 19.51it/s]"
     ]
    },
    {
     "name": "stdout",
     "output_type": "stream",
     "text": [
      "(1, 450, 600, 3)\n",
      "(1, 450, 600, 3)\n",
      "(1, 450, 600, 3)\n",
      "(1, 450, 600, 3)\n"
     ]
    },
    {
     "name": "stderr",
     "output_type": "stream",
     "text": [
      "2877it [02:19, 19.00it/s]"
     ]
    },
    {
     "name": "stdout",
     "output_type": "stream",
     "text": [
      "(1, 450, 600, 3)\n",
      "(1, 450, 600, 3)\n",
      "(1, 450, 600, 3)\n",
      "(1, 450, 600, 3)\n",
      "(1, 450, 600, 3)\n"
     ]
    },
    {
     "name": "stderr",
     "output_type": "stream",
     "text": [
      "2881it [02:19, 18.88it/s]"
     ]
    },
    {
     "name": "stdout",
     "output_type": "stream",
     "text": [
      "(1, 450, 600, 3)\n",
      "(1, 450, 600, 3)\n",
      "(1, 450, 600, 3)\n",
      "(1, 450, 600, 3)\n"
     ]
    },
    {
     "name": "stderr",
     "output_type": "stream",
     "text": [
      "2885it [02:19, 18.53it/s]"
     ]
    },
    {
     "name": "stdout",
     "output_type": "stream",
     "text": [
      "(1, 450, 600, 3)\n",
      "(1, 450, 600, 3)\n",
      "(1, 450, 600, 3)\n",
      "(1, 450, 600, 3)\n"
     ]
    },
    {
     "name": "stderr",
     "output_type": "stream",
     "text": [
      "2889it [02:19, 19.16it/s]"
     ]
    },
    {
     "name": "stdout",
     "output_type": "stream",
     "text": [
      "(1, 450, 600, 3)\n",
      "(1, 450, 600, 3)\n",
      "(1, 450, 600, 3)\n",
      "(1, 450, 600, 3)\n"
     ]
    },
    {
     "name": "stderr",
     "output_type": "stream",
     "text": [
      "2893it [02:19, 19.49it/s]"
     ]
    },
    {
     "name": "stdout",
     "output_type": "stream",
     "text": [
      "(1, 450, 600, 3)\n",
      "(1, 450, 600, 3)\n",
      "(1, 450, 600, 3)\n",
      "(1, 450, 600, 3)\n",
      "(1, 450, 600, 3)\n"
     ]
    },
    {
     "name": "stderr",
     "output_type": "stream",
     "text": [
      "2899it [02:20, 20.10it/s]"
     ]
    },
    {
     "name": "stdout",
     "output_type": "stream",
     "text": [
      "(1, 450, 600, 3)\n",
      "(1, 450, 600, 3)\n",
      "(1, 450, 600, 3)\n",
      "(1, 450, 600, 3)\n",
      "(1, 450, 600, 3)\n"
     ]
    },
    {
     "name": "stderr",
     "output_type": "stream",
     "text": [
      "\r",
      "2902it [02:20, 19.62it/s]"
     ]
    },
    {
     "name": "stdout",
     "output_type": "stream",
     "text": [
      "(1, 450, 600, 3)\n",
      "(1, 450, 600, 3)\n",
      "(1, 450, 600, 3)\n"
     ]
    },
    {
     "name": "stderr",
     "output_type": "stream",
     "text": [
      "2906it [02:20, 19.41it/s]"
     ]
    },
    {
     "name": "stdout",
     "output_type": "stream",
     "text": [
      "(1, 450, 600, 3)\n",
      "(1, 450, 600, 3)\n",
      "(1, 450, 600, 3)\n",
      "(1, 450, 600, 3)\n",
      "(1, 450, 600, 3)\n"
     ]
    },
    {
     "name": "stderr",
     "output_type": "stream",
     "text": [
      "2912it [02:20, 19.74it/s]"
     ]
    },
    {
     "name": "stdout",
     "output_type": "stream",
     "text": [
      "(1, 450, 600, 3)\n",
      "(1, 450, 600, 3)\n",
      "(1, 450, 600, 3)\n",
      "(1, 450, 600, 3)\n"
     ]
    },
    {
     "name": "stderr",
     "output_type": "stream",
     "text": [
      "2916it [02:21, 19.37it/s]"
     ]
    },
    {
     "name": "stdout",
     "output_type": "stream",
     "text": [
      "(1, 450, 600, 3)\n",
      "(1, 450, 600, 3)\n",
      "(1, 450, 600, 3)\n",
      "(1, 450, 600, 3)\n",
      "(1, 450, 600, 3)\n"
     ]
    },
    {
     "name": "stderr",
     "output_type": "stream",
     "text": [
      "2920it [02:21, 18.92it/s]"
     ]
    },
    {
     "name": "stdout",
     "output_type": "stream",
     "text": [
      "(1, 450, 600, 3)\n",
      "(1, 450, 600, 3)\n",
      "(1, 450, 600, 3)\n",
      "(1, 450, 600, 3)\n"
     ]
    },
    {
     "name": "stderr",
     "output_type": "stream",
     "text": [
      "2924it [02:21, 18.08it/s]"
     ]
    },
    {
     "name": "stdout",
     "output_type": "stream",
     "text": [
      "(1, 450, 600, 3)\n",
      "(1, 450, 600, 3)\n",
      "(1, 450, 600, 3)\n",
      "(1, 450, 600, 3)\n"
     ]
    },
    {
     "name": "stderr",
     "output_type": "stream",
     "text": [
      "2928it [02:21, 18.98it/s]"
     ]
    },
    {
     "name": "stdout",
     "output_type": "stream",
     "text": [
      "(1, 450, 600, 3)\n",
      "(1, 450, 600, 3)\n",
      "(1, 450, 600, 3)\n",
      "(1, 450, 600, 3)\n",
      "(1, 450, 600, 3)\n"
     ]
    },
    {
     "name": "stderr",
     "output_type": "stream",
     "text": [
      "2933it [02:22, 19.16it/s]"
     ]
    },
    {
     "name": "stdout",
     "output_type": "stream",
     "text": [
      "(1, 450, 600, 3)\n",
      "(1, 450, 600, 3)\n",
      "(1, 450, 600, 3)\n",
      "(1, 450, 600, 3)\n"
     ]
    },
    {
     "name": "stderr",
     "output_type": "stream",
     "text": [
      "2938it [02:22, 19.60it/s]"
     ]
    },
    {
     "name": "stdout",
     "output_type": "stream",
     "text": [
      "(1, 450, 600, 3)\n",
      "(1, 450, 600, 3)\n",
      "(1, 450, 600, 3)\n",
      "(1, 450, 600, 3)\n"
     ]
    },
    {
     "name": "stderr",
     "output_type": "stream",
     "text": [
      "\r",
      "2940it [02:22, 19.22it/s]"
     ]
    },
    {
     "name": "stdout",
     "output_type": "stream",
     "text": [
      "(1, 450, 600, 3)\n",
      "(1, 450, 600, 3)\n",
      "(1, 450, 600, 3)\n",
      "(1, 450, 600, 3)\n",
      "(1, 450, 600, 3)\n"
     ]
    },
    {
     "name": "stderr",
     "output_type": "stream",
     "text": [
      "2945it [02:22, 19.61it/s]"
     ]
    },
    {
     "name": "stdout",
     "output_type": "stream",
     "text": [
      "(1, 450, 600, 3)\n",
      "(1, 450, 600, 3)\n",
      "(1, 450, 600, 3)\n"
     ]
    },
    {
     "name": "stderr",
     "output_type": "stream",
     "text": [
      "2950it [02:22, 18.85it/s]"
     ]
    },
    {
     "name": "stdout",
     "output_type": "stream",
     "text": [
      "(1, 450, 600, 3)\n",
      "(1, 450, 600, 3)\n",
      "(1, 450, 600, 3)\n",
      "(1, 450, 600, 3)\n"
     ]
    },
    {
     "name": "stderr",
     "output_type": "stream",
     "text": [
      "\r",
      "2952it [02:23, 18.21it/s]"
     ]
    },
    {
     "name": "stdout",
     "output_type": "stream",
     "text": [
      "(1, 450, 600, 3)\n",
      "(1, 450, 600, 3)\n",
      "(1, 450, 600, 3)\n",
      "(1, 450, 600, 3)\n"
     ]
    },
    {
     "name": "stderr",
     "output_type": "stream",
     "text": [
      "2957it [02:23, 18.67it/s]"
     ]
    },
    {
     "name": "stdout",
     "output_type": "stream",
     "text": [
      "(1, 450, 600, 3)\n",
      "(1, 450, 600, 3)\n",
      "(1, 450, 600, 3)\n",
      "(1, 450, 600, 3)\n"
     ]
    },
    {
     "name": "stderr",
     "output_type": "stream",
     "text": [
      "2961it [02:23, 18.77it/s]"
     ]
    },
    {
     "name": "stdout",
     "output_type": "stream",
     "text": [
      "(1, 450, 600, 3)\n",
      "(1, 450, 600, 3)\n",
      "(1, 450, 600, 3)\n",
      "(1, 450, 600, 3)\n"
     ]
    },
    {
     "name": "stderr",
     "output_type": "stream",
     "text": [
      "2966it [02:23, 19.44it/s]"
     ]
    },
    {
     "name": "stdout",
     "output_type": "stream",
     "text": [
      "(1, 450, 600, 3)\n",
      "(1, 450, 600, 3)\n",
      "(1, 450, 600, 3)\n",
      "(1, 450, 600, 3)\n",
      "(1, 450, 600, 3)\n"
     ]
    },
    {
     "name": "stderr",
     "output_type": "stream",
     "text": [
      "2971it [02:24, 19.71it/s]"
     ]
    },
    {
     "name": "stdout",
     "output_type": "stream",
     "text": [
      "(1, 450, 600, 3)\n",
      "(1, 450, 600, 3)\n",
      "(1, 450, 600, 3)\n",
      "(1, 450, 600, 3)\n",
      "(1, 450, 600, 3)\n"
     ]
    },
    {
     "name": "stderr",
     "output_type": "stream",
     "text": [
      "\r",
      "2974it [02:24, 20.30it/s]"
     ]
    },
    {
     "name": "stdout",
     "output_type": "stream",
     "text": [
      "(1, 450, 600, 3)\n",
      "(1, 450, 600, 3)\n",
      "(1, 450, 600, 3)\n",
      "(1, 450, 600, 3)\n"
     ]
    },
    {
     "name": "stderr",
     "output_type": "stream",
     "text": [
      "2980it [02:24, 19.84it/s]"
     ]
    },
    {
     "name": "stdout",
     "output_type": "stream",
     "text": [
      "(1, 450, 600, 3)\n",
      "(1, 450, 600, 3)\n",
      "(1, 450, 600, 3)\n",
      "(1, 450, 600, 3)\n",
      "(1, 450, 600, 3)\n"
     ]
    },
    {
     "name": "stderr",
     "output_type": "stream",
     "text": [
      "2985it [02:24, 20.02it/s]"
     ]
    },
    {
     "name": "stdout",
     "output_type": "stream",
     "text": [
      "(1, 450, 600, 3)\n",
      "(1, 450, 600, 3)\n",
      "(1, 450, 600, 3)\n",
      "(1, 450, 600, 3)\n",
      "(1, 450, 600, 3)\n"
     ]
    },
    {
     "name": "stderr",
     "output_type": "stream",
     "text": [
      "\r",
      "2988it [02:24, 20.04it/s]"
     ]
    },
    {
     "name": "stdout",
     "output_type": "stream",
     "text": [
      "(1, 450, 600, 3)\n",
      "(1, 450, 600, 3)\n",
      "(1, 450, 600, 3)\n",
      "(1, 450, 600, 3)\n"
     ]
    },
    {
     "name": "stderr",
     "output_type": "stream",
     "text": [
      "2993it [02:25, 20.02it/s]"
     ]
    },
    {
     "name": "stdout",
     "output_type": "stream",
     "text": [
      "(1, 450, 600, 3)\n",
      "(1, 450, 600, 3)\n",
      "(1, 450, 600, 3)\n",
      "(1, 450, 600, 3)\n",
      "(1, 450, 600, 3)\n"
     ]
    },
    {
     "name": "stderr",
     "output_type": "stream",
     "text": [
      "2998it [02:25, 19.09it/s]"
     ]
    },
    {
     "name": "stdout",
     "output_type": "stream",
     "text": [
      "(1, 450, 600, 3)\n",
      "(1, 450, 600, 3)\n",
      "(1, 450, 600, 3)\n",
      "(1, 450, 600, 3)\n"
     ]
    },
    {
     "name": "stderr",
     "output_type": "stream",
     "text": [
      "3003it [02:25, 20.00it/s]"
     ]
    },
    {
     "name": "stdout",
     "output_type": "stream",
     "text": [
      "(1, 450, 600, 3)\n",
      "(1, 450, 600, 3)\n",
      "(1, 450, 600, 3)\n",
      "(1, 450, 600, 3)\n",
      "(1, 450, 600, 3)\n"
     ]
    },
    {
     "name": "stderr",
     "output_type": "stream",
     "text": [
      "3008it [02:25, 20.16it/s]"
     ]
    },
    {
     "name": "stdout",
     "output_type": "stream",
     "text": [
      "(1, 450, 600, 3)\n",
      "(1, 450, 600, 3)\n",
      "(1, 450, 600, 3)\n",
      "(1, 450, 600, 3)\n"
     ]
    },
    {
     "name": "stderr",
     "output_type": "stream",
     "text": [
      "\r",
      "3011it [02:26, 19.66it/s]"
     ]
    },
    {
     "name": "stdout",
     "output_type": "stream",
     "text": [
      "(1, 450, 600, 3)\n",
      "(1, 450, 600, 3)\n",
      "(1, 450, 600, 3)\n",
      "(1, 450, 600, 3)\n",
      "(1, 450, 600, 3)\n",
      "(1, 450, 600, 3)\n"
     ]
    },
    {
     "name": "stderr",
     "output_type": "stream",
     "text": [
      "3017it [02:26, 20.14it/s]"
     ]
    },
    {
     "name": "stdout",
     "output_type": "stream",
     "text": [
      "(1, 450, 600, 3)\n",
      "(1, 450, 600, 3)\n",
      "(1, 450, 600, 3)\n"
     ]
    },
    {
     "name": "stderr",
     "output_type": "stream",
     "text": [
      "\r",
      "3020it [02:26, 20.09it/s]"
     ]
    },
    {
     "name": "stdout",
     "output_type": "stream",
     "text": [
      "(1, 450, 600, 3)\n",
      "(1, 450, 600, 3)\n",
      "(1, 450, 600, 3)\n",
      "(1, 450, 600, 3)\n"
     ]
    },
    {
     "name": "stderr",
     "output_type": "stream",
     "text": [
      "3025it [02:26, 19.43it/s]"
     ]
    },
    {
     "name": "stdout",
     "output_type": "stream",
     "text": [
      "(1, 450, 600, 3)\n",
      "(1, 450, 600, 3)\n",
      "(1, 450, 600, 3)\n",
      "(1, 450, 600, 3)\n",
      "(1, 450, 600, 3)\n"
     ]
    },
    {
     "name": "stderr",
     "output_type": "stream",
     "text": [
      "\r",
      "3028it [02:26, 20.04it/s]"
     ]
    },
    {
     "name": "stdout",
     "output_type": "stream",
     "text": [
      "(1, 450, 600, 3)\n",
      "(1, 450, 600, 3)\n",
      "(1, 450, 600, 3)\n",
      "(1, 450, 600, 3)\n"
     ]
    },
    {
     "name": "stderr",
     "output_type": "stream",
     "text": [
      "3033it [02:27, 19.68it/s]"
     ]
    },
    {
     "name": "stdout",
     "output_type": "stream",
     "text": [
      "(1, 450, 600, 3)\n",
      "(1, 450, 600, 3)\n",
      "(1, 450, 600, 3)\n",
      "(1, 450, 600, 3)\n",
      "(1, 450, 600, 3)\n"
     ]
    },
    {
     "name": "stderr",
     "output_type": "stream",
     "text": [
      "\r",
      "3036it [02:27, 19.78it/s]"
     ]
    },
    {
     "name": "stdout",
     "output_type": "stream",
     "text": [
      "(1, 450, 600, 3)\n",
      "(1, 450, 600, 3)\n",
      "(1, 450, 600, 3)\n",
      "(1, 450, 600, 3)\n"
     ]
    },
    {
     "name": "stderr",
     "output_type": "stream",
     "text": [
      "3041it [02:27, 18.60it/s]"
     ]
    },
    {
     "name": "stdout",
     "output_type": "stream",
     "text": [
      "(1, 450, 600, 3)\n",
      "(1, 450, 600, 3)\n",
      "(1, 450, 600, 3)\n",
      "(1, 450, 600, 3)\n"
     ]
    },
    {
     "name": "stderr",
     "output_type": "stream",
     "text": [
      "3046it [02:27, 18.03it/s]"
     ]
    },
    {
     "name": "stdout",
     "output_type": "stream",
     "text": [
      "(1, 450, 600, 3)\n",
      "(1, 450, 600, 3)\n",
      "(1, 450, 600, 3)\n",
      "(1, 450, 600, 3)\n",
      "(1, 450, 600, 3)\n"
     ]
    },
    {
     "name": "stderr",
     "output_type": "stream",
     "text": [
      "3051it [02:28, 19.24it/s]"
     ]
    },
    {
     "name": "stdout",
     "output_type": "stream",
     "text": [
      "(1, 450, 600, 3)\n",
      "(1, 450, 600, 3)\n",
      "(1, 450, 600, 3)\n",
      "(1, 450, 600, 3)\n",
      "(1, 450, 600, 3)\n"
     ]
    },
    {
     "name": "stderr",
     "output_type": "stream",
     "text": [
      "3056it [02:28, 19.89it/s]"
     ]
    },
    {
     "name": "stdout",
     "output_type": "stream",
     "text": [
      "(1, 450, 600, 3)\n",
      "(1, 450, 600, 3)\n",
      "(1, 450, 600, 3)\n",
      "(1, 450, 600, 3)\n"
     ]
    },
    {
     "name": "stderr",
     "output_type": "stream",
     "text": [
      "3060it [02:28, 19.56it/s]"
     ]
    },
    {
     "name": "stdout",
     "output_type": "stream",
     "text": [
      "(1, 450, 600, 3)\n",
      "(1, 450, 600, 3)\n",
      "(1, 450, 600, 3)\n",
      "(1, 450, 600, 3)\n",
      "(1, 450, 600, 3)\n"
     ]
    },
    {
     "name": "stderr",
     "output_type": "stream",
     "text": [
      "3064it [02:28, 19.08it/s]"
     ]
    },
    {
     "name": "stdout",
     "output_type": "stream",
     "text": [
      "(1, 450, 600, 3)\n",
      "(1, 450, 600, 3)\n",
      "(1, 450, 600, 3)\n",
      "(1, 450, 600, 3)\n",
      "(1, 450, 600, 3)\n"
     ]
    },
    {
     "name": "stderr",
     "output_type": "stream",
     "text": [
      "3071it [02:29, 19.06it/s]"
     ]
    },
    {
     "name": "stdout",
     "output_type": "stream",
     "text": [
      "(1, 450, 600, 3)\n",
      "(1, 450, 600, 3)\n",
      "(1, 450, 600, 3)\n",
      "(1, 450, 600, 3)\n"
     ]
    },
    {
     "name": "stderr",
     "output_type": "stream",
     "text": [
      "3075it [02:29, 19.48it/s]"
     ]
    },
    {
     "name": "stdout",
     "output_type": "stream",
     "text": [
      "(1, 450, 600, 3)\n",
      "(1, 450, 600, 3)\n",
      "(1, 450, 600, 3)\n",
      "(1, 450, 600, 3)\n",
      "(1, 450, 600, 3)\n"
     ]
    },
    {
     "name": "stderr",
     "output_type": "stream",
     "text": [
      "3079it [02:29, 19.19it/s]"
     ]
    },
    {
     "name": "stdout",
     "output_type": "stream",
     "text": [
      "(1, 450, 600, 3)\n",
      "(1, 450, 600, 3)\n",
      "(1, 450, 600, 3)\n",
      "(1, 450, 600, 3)\n"
     ]
    },
    {
     "name": "stderr",
     "output_type": "stream",
     "text": [
      "3083it [02:29, 19.44it/s]"
     ]
    },
    {
     "name": "stdout",
     "output_type": "stream",
     "text": [
      "(1, 450, 600, 3)\n",
      "(1, 450, 600, 3)\n",
      "(1, 450, 600, 3)\n",
      "(1, 450, 600, 3)\n"
     ]
    },
    {
     "name": "stderr",
     "output_type": "stream",
     "text": [
      "3087it [02:29, 19.63it/s]"
     ]
    },
    {
     "name": "stdout",
     "output_type": "stream",
     "text": [
      "(1, 450, 600, 3)\n",
      "(1, 450, 600, 3)\n",
      "(1, 450, 600, 3)\n",
      "(1, 450, 600, 3)\n"
     ]
    },
    {
     "name": "stderr",
     "output_type": "stream",
     "text": [
      "3091it [02:30, 19.38it/s]"
     ]
    },
    {
     "name": "stdout",
     "output_type": "stream",
     "text": [
      "(1, 450, 600, 3)\n",
      "(1, 450, 600, 3)\n",
      "(1, 450, 600, 3)\n",
      "(1, 450, 600, 3)\n",
      "(1, 450, 600, 3)\n"
     ]
    },
    {
     "name": "stderr",
     "output_type": "stream",
     "text": [
      "3096it [02:30, 19.70it/s]"
     ]
    },
    {
     "name": "stdout",
     "output_type": "stream",
     "text": [
      "(1, 450, 600, 3)\n",
      "(1, 450, 600, 3)\n",
      "(1, 450, 600, 3)\n",
      "(1, 450, 600, 3)\n"
     ]
    },
    {
     "name": "stderr",
     "output_type": "stream",
     "text": [
      "3100it [02:30, 19.68it/s]"
     ]
    },
    {
     "name": "stdout",
     "output_type": "stream",
     "text": [
      "(1, 450, 600, 3)\n",
      "(1, 450, 600, 3)\n",
      "(1, 450, 600, 3)\n",
      "(1, 450, 600, 3)\n",
      "(1, 450, 600, 3)\n"
     ]
    },
    {
     "name": "stderr",
     "output_type": "stream",
     "text": [
      "3106it [02:30, 19.21it/s]"
     ]
    },
    {
     "name": "stdout",
     "output_type": "stream",
     "text": [
      "(1, 450, 600, 3)\n",
      "(1, 450, 600, 3)\n",
      "(1, 450, 600, 3)\n",
      "(1, 450, 600, 3)\n"
     ]
    },
    {
     "name": "stderr",
     "output_type": "stream",
     "text": [
      "\r",
      "3109it [02:31, 19.05it/s]"
     ]
    },
    {
     "name": "stdout",
     "output_type": "stream",
     "text": [
      "(1, 450, 600, 3)\n",
      "(1, 450, 600, 3)\n",
      "(1, 450, 600, 3)\n",
      "(1, 450, 600, 3)\n"
     ]
    },
    {
     "name": "stderr",
     "output_type": "stream",
     "text": [
      "3114it [02:31, 19.06it/s]"
     ]
    },
    {
     "name": "stdout",
     "output_type": "stream",
     "text": [
      "(1, 450, 600, 3)\n",
      "(1, 450, 600, 3)\n",
      "(1, 450, 600, 3)\n",
      "(1, 450, 600, 3)\n"
     ]
    },
    {
     "name": "stderr",
     "output_type": "stream",
     "text": [
      "\r",
      "3117it [02:31, 19.37it/s]"
     ]
    },
    {
     "name": "stdout",
     "output_type": "stream",
     "text": [
      "(1, 450, 600, 3)\n",
      "(1, 450, 600, 3)\n",
      "(1, 450, 600, 3)\n",
      "(1, 450, 600, 3)\n"
     ]
    },
    {
     "name": "stderr",
     "output_type": "stream",
     "text": [
      "3121it [02:31, 19.26it/s]"
     ]
    },
    {
     "name": "stdout",
     "output_type": "stream",
     "text": [
      "(1, 450, 600, 3)\n",
      "(1, 450, 600, 3)\n",
      "(1, 450, 600, 3)\n",
      "(1, 450, 600, 3)\n",
      "(1, 450, 600, 3)\n"
     ]
    },
    {
     "name": "stderr",
     "output_type": "stream",
     "text": [
      "3127it [02:31, 19.70it/s]"
     ]
    },
    {
     "name": "stdout",
     "output_type": "stream",
     "text": [
      "(1, 450, 600, 3)\n",
      "(1, 450, 600, 3)\n",
      "(1, 450, 600, 3)\n",
      "(1, 450, 600, 3)\n"
     ]
    },
    {
     "name": "stderr",
     "output_type": "stream",
     "text": [
      "\r",
      "3129it [02:32, 19.31it/s]"
     ]
    },
    {
     "name": "stdout",
     "output_type": "stream",
     "text": [
      "(1, 450, 600, 3)\n",
      "(1, 450, 600, 3)\n",
      "(1, 450, 600, 3)\n",
      "(1, 450, 600, 3)\n"
     ]
    },
    {
     "name": "stderr",
     "output_type": "stream",
     "text": [
      "3133it [02:32, 17.29it/s]"
     ]
    },
    {
     "name": "stdout",
     "output_type": "stream",
     "text": [
      "(1, 450, 600, 3)\n",
      "(1, 450, 600, 3)\n",
      "(1, 450, 600, 3)\n",
      "(1, 450, 600, 3)\n"
     ]
    },
    {
     "name": "stderr",
     "output_type": "stream",
     "text": [
      "3138it [02:32, 18.60it/s]"
     ]
    },
    {
     "name": "stdout",
     "output_type": "stream",
     "text": [
      "(1, 450, 600, 3)\n",
      "(1, 450, 600, 3)\n",
      "(1, 450, 600, 3)\n",
      "(1, 450, 600, 3)\n",
      "(1, 450, 600, 3)\n"
     ]
    },
    {
     "name": "stderr",
     "output_type": "stream",
     "text": [
      "3143it [02:32, 19.04it/s]"
     ]
    },
    {
     "name": "stdout",
     "output_type": "stream",
     "text": [
      "(1, 450, 600, 3)\n",
      "(1, 450, 600, 3)\n",
      "(1, 450, 600, 3)\n",
      "(1, 450, 600, 3)\n"
     ]
    },
    {
     "name": "stderr",
     "output_type": "stream",
     "text": [
      "3148it [02:33, 19.49it/s]"
     ]
    },
    {
     "name": "stdout",
     "output_type": "stream",
     "text": [
      "(1, 450, 600, 3)\n",
      "(1, 450, 600, 3)\n",
      "(1, 450, 600, 3)\n",
      "(1, 450, 600, 3)\n"
     ]
    },
    {
     "name": "stderr",
     "output_type": "stream",
     "text": [
      "3152it [02:33, 19.36it/s]"
     ]
    },
    {
     "name": "stdout",
     "output_type": "stream",
     "text": [
      "(1, 450, 600, 3)\n",
      "(1, 450, 600, 3)\n",
      "(1, 450, 600, 3)\n",
      "(1, 450, 600, 3)\n",
      "(1, 450, 600, 3)\n"
     ]
    },
    {
     "name": "stderr",
     "output_type": "stream",
     "text": [
      "3157it [02:33, 19.71it/s]"
     ]
    },
    {
     "name": "stdout",
     "output_type": "stream",
     "text": [
      "(1, 450, 600, 3)\n",
      "(1, 450, 600, 3)\n",
      "(1, 450, 600, 3)\n",
      "(1, 450, 600, 3)\n"
     ]
    },
    {
     "name": "stderr",
     "output_type": "stream",
     "text": [
      "\r",
      "3159it [02:33, 19.24it/s]"
     ]
    },
    {
     "name": "stdout",
     "output_type": "stream",
     "text": [
      "(1, 450, 600, 3)\n",
      "(1, 450, 600, 3)\n",
      "(1, 450, 600, 3)\n",
      "(1, 450, 600, 3)\n"
     ]
    },
    {
     "name": "stderr",
     "output_type": "stream",
     "text": [
      "3165it [02:33, 19.70it/s]"
     ]
    },
    {
     "name": "stdout",
     "output_type": "stream",
     "text": [
      "(1, 450, 600, 3)\n",
      "(1, 450, 600, 3)\n",
      "(1, 450, 600, 3)\n",
      "(1, 450, 600, 3)\n",
      "(1, 450, 600, 3)\n"
     ]
    },
    {
     "name": "stderr",
     "output_type": "stream",
     "text": [
      "3169it [02:34, 19.31it/s]"
     ]
    },
    {
     "name": "stdout",
     "output_type": "stream",
     "text": [
      "(1, 450, 600, 3)\n",
      "(1, 450, 600, 3)\n",
      "(1, 450, 600, 3)\n",
      "(1, 450, 600, 3)\n"
     ]
    },
    {
     "name": "stderr",
     "output_type": "stream",
     "text": [
      "3174it [02:34, 19.84it/s]"
     ]
    },
    {
     "name": "stdout",
     "output_type": "stream",
     "text": [
      "(1, 450, 600, 3)\n",
      "(1, 450, 600, 3)\n",
      "(1, 450, 600, 3)\n",
      "(1, 450, 600, 3)\n",
      "(1, 450, 600, 3)\n"
     ]
    },
    {
     "name": "stderr",
     "output_type": "stream",
     "text": [
      "3178it [02:34, 18.87it/s]"
     ]
    },
    {
     "name": "stdout",
     "output_type": "stream",
     "text": [
      "(1, 450, 600, 3)\n",
      "(1, 450, 600, 3)\n",
      "(1, 450, 600, 3)\n"
     ]
    },
    {
     "name": "stderr",
     "output_type": "stream",
     "text": [
      "\r",
      "3180it [02:34, 19.12it/s]"
     ]
    },
    {
     "name": "stdout",
     "output_type": "stream",
     "text": [
      "(1, 450, 600, 3)\n",
      "(1, 450, 600, 3)\n",
      "(1, 450, 600, 3)\n",
      "(1, 450, 600, 3)\n",
      "(1, 450, 600, 3)\n"
     ]
    },
    {
     "name": "stderr",
     "output_type": "stream",
     "text": [
      "3187it [02:35, 18.99it/s]"
     ]
    },
    {
     "name": "stdout",
     "output_type": "stream",
     "text": [
      "(1, 450, 600, 3)\n",
      "(1, 450, 600, 3)\n",
      "(1, 450, 600, 3)\n",
      "(1, 450, 600, 3)\n"
     ]
    },
    {
     "name": "stderr",
     "output_type": "stream",
     "text": [
      "3191it [02:35, 19.33it/s]"
     ]
    },
    {
     "name": "stdout",
     "output_type": "stream",
     "text": [
      "(1, 450, 600, 3)\n",
      "(1, 450, 600, 3)\n",
      "(1, 450, 600, 3)\n",
      "(1, 450, 600, 3)\n",
      "(1, 450, 600, 3)\n"
     ]
    },
    {
     "name": "stderr",
     "output_type": "stream",
     "text": [
      "3195it [02:35, 19.50it/s]"
     ]
    },
    {
     "name": "stdout",
     "output_type": "stream",
     "text": [
      "(1, 450, 600, 3)\n",
      "(1, 450, 600, 3)\n",
      "(1, 450, 600, 3)\n",
      "(1, 450, 600, 3)\n"
     ]
    },
    {
     "name": "stderr",
     "output_type": "stream",
     "text": [
      "3200it [02:35, 19.90it/s]"
     ]
    },
    {
     "name": "stdout",
     "output_type": "stream",
     "text": [
      "(1, 450, 600, 3)\n",
      "(1, 450, 600, 3)\n",
      "(1, 450, 600, 3)\n",
      "(1, 450, 600, 3)\n",
      "(1, 450, 600, 3)\n"
     ]
    },
    {
     "name": "stderr",
     "output_type": "stream",
     "text": [
      "3204it [02:35, 19.89it/s]"
     ]
    },
    {
     "name": "stdout",
     "output_type": "stream",
     "text": [
      "(1, 450, 600, 3)\n",
      "(1, 450, 600, 3)\n",
      "(1, 450, 600, 3)\n",
      "(1, 450, 600, 3)\n",
      "(1, 450, 600, 3)\n"
     ]
    },
    {
     "name": "stderr",
     "output_type": "stream",
     "text": [
      "3210it [02:36, 18.95it/s]"
     ]
    },
    {
     "name": "stdout",
     "output_type": "stream",
     "text": [
      "(1, 450, 600, 3)\n",
      "(1, 450, 600, 3)\n",
      "(1, 450, 600, 3)\n",
      "(1, 450, 600, 3)\n",
      "(1, 450, 600, 3)\n"
     ]
    },
    {
     "name": "stderr",
     "output_type": "stream",
     "text": [
      "3215it [02:36, 19.93it/s]"
     ]
    },
    {
     "name": "stdout",
     "output_type": "stream",
     "text": [
      "(1, 450, 600, 3)\n",
      "(1, 450, 600, 3)\n",
      "(1, 450, 600, 3)\n",
      "(1, 450, 600, 3)\n"
     ]
    },
    {
     "name": "stderr",
     "output_type": "stream",
     "text": [
      "3219it [02:36, 18.94it/s]"
     ]
    },
    {
     "name": "stdout",
     "output_type": "stream",
     "text": [
      "(1, 450, 600, 3)\n",
      "(1, 450, 600, 3)\n",
      "(1, 450, 600, 3)\n",
      "(1, 450, 600, 3)\n"
     ]
    },
    {
     "name": "stderr",
     "output_type": "stream",
     "text": [
      "\r",
      "3221it [02:36, 18.14it/s]"
     ]
    },
    {
     "name": "stdout",
     "output_type": "stream",
     "text": [
      "(1, 450, 600, 3)\n",
      "(1, 450, 600, 3)\n",
      "(1, 450, 600, 3)\n"
     ]
    },
    {
     "name": "stderr",
     "output_type": "stream",
     "text": [
      "3225it [02:37, 17.48it/s]"
     ]
    },
    {
     "name": "stdout",
     "output_type": "stream",
     "text": [
      "(1, 450, 600, 3)\n",
      "(1, 450, 600, 3)\n",
      "(1, 450, 600, 3)\n",
      "(1, 450, 600, 3)\n"
     ]
    },
    {
     "name": "stderr",
     "output_type": "stream",
     "text": [
      "3230it [02:37, 18.93it/s]"
     ]
    },
    {
     "name": "stdout",
     "output_type": "stream",
     "text": [
      "(1, 450, 600, 3)\n",
      "(1, 450, 600, 3)\n",
      "(1, 450, 600, 3)\n",
      "(1, 450, 600, 3)\n"
     ]
    },
    {
     "name": "stderr",
     "output_type": "stream",
     "text": [
      "3234it [02:37, 19.03it/s]"
     ]
    },
    {
     "name": "stdout",
     "output_type": "stream",
     "text": [
      "(1, 450, 600, 3)\n",
      "(1, 450, 600, 3)\n",
      "(1, 450, 600, 3)\n",
      "(1, 450, 600, 3)\n"
     ]
    },
    {
     "name": "stderr",
     "output_type": "stream",
     "text": [
      "\r",
      "3236it [02:37, 18.29it/s]"
     ]
    },
    {
     "name": "stdout",
     "output_type": "stream",
     "text": [
      "(1, 450, 600, 3)\n",
      "(1, 450, 600, 3)\n",
      "(1, 450, 600, 3)\n",
      "(1, 450, 600, 3)\n",
      "(1, 450, 600, 3)\n"
     ]
    },
    {
     "name": "stderr",
     "output_type": "stream",
     "text": [
      "3243it [02:38, 18.79it/s]"
     ]
    },
    {
     "name": "stdout",
     "output_type": "stream",
     "text": [
      "(1, 450, 600, 3)\n",
      "(1, 450, 600, 3)\n",
      "(1, 450, 600, 3)\n",
      "(1, 450, 600, 3)\n"
     ]
    },
    {
     "name": "stderr",
     "output_type": "stream",
     "text": [
      "\r",
      "3245it [02:38, 19.12it/s]"
     ]
    },
    {
     "name": "stdout",
     "output_type": "stream",
     "text": [
      "(1, 450, 600, 3)\n",
      "(1, 450, 600, 3)\n",
      "(1, 450, 600, 3)\n",
      "(1, 450, 600, 3)\n"
     ]
    },
    {
     "name": "stderr",
     "output_type": "stream",
     "text": [
      "3251it [02:38, 20.09it/s]"
     ]
    },
    {
     "name": "stdout",
     "output_type": "stream",
     "text": [
      "(1, 450, 600, 3)\n",
      "(1, 450, 600, 3)\n",
      "(1, 450, 600, 3)\n",
      "(1, 450, 600, 3)\n"
     ]
    },
    {
     "name": "stderr",
     "output_type": "stream",
     "text": [
      "\r",
      "3254it [02:38, 19.63it/s]"
     ]
    },
    {
     "name": "stdout",
     "output_type": "stream",
     "text": [
      "(1, 450, 600, 3)\n",
      "(1, 450, 600, 3)\n",
      "(1, 450, 600, 3)\n",
      "(1, 450, 600, 3)\n",
      "(1, 450, 600, 3)\n"
     ]
    },
    {
     "name": "stderr",
     "output_type": "stream",
     "text": [
      "3260it [02:38, 19.82it/s]"
     ]
    },
    {
     "name": "stdout",
     "output_type": "stream",
     "text": [
      "(1, 450, 600, 3)\n",
      "(1, 450, 600, 3)\n",
      "(1, 450, 600, 3)\n",
      "(1, 450, 600, 3)\n",
      "(1, 450, 600, 3)\n"
     ]
    },
    {
     "name": "stderr",
     "output_type": "stream",
     "text": [
      "3265it [02:39, 19.44it/s]"
     ]
    },
    {
     "name": "stdout",
     "output_type": "stream",
     "text": [
      "(1, 450, 600, 3)\n",
      "(1, 450, 600, 3)\n",
      "(1, 450, 600, 3)\n",
      "(1, 450, 600, 3)\n"
     ]
    },
    {
     "name": "stderr",
     "output_type": "stream",
     "text": [
      "3269it [02:39, 19.30it/s]"
     ]
    },
    {
     "name": "stdout",
     "output_type": "stream",
     "text": [
      "(1, 450, 600, 3)\n",
      "(1, 450, 600, 3)\n",
      "(1, 450, 600, 3)\n",
      "(1, 450, 600, 3)\n"
     ]
    },
    {
     "name": "stderr",
     "output_type": "stream",
     "text": [
      "\r",
      "3271it [02:39, 18.97it/s]"
     ]
    },
    {
     "name": "stdout",
     "output_type": "stream",
     "text": [
      "(1, 450, 600, 3)\n",
      "(1, 450, 600, 3)\n",
      "(1, 450, 600, 3)\n",
      "(1, 450, 600, 3)\n"
     ]
    },
    {
     "name": "stderr",
     "output_type": "stream",
     "text": [
      "3276it [02:39, 19.17it/s]"
     ]
    },
    {
     "name": "stdout",
     "output_type": "stream",
     "text": [
      "(1, 450, 600, 3)\n",
      "(1, 450, 600, 3)\n",
      "(1, 450, 600, 3)\n",
      "(1, 450, 600, 3)\n",
      "(1, 450, 600, 3)\n"
     ]
    },
    {
     "name": "stderr",
     "output_type": "stream",
     "text": [
      "3282it [02:40, 19.67it/s]"
     ]
    },
    {
     "name": "stdout",
     "output_type": "stream",
     "text": [
      "(1, 450, 600, 3)\n",
      "(1, 450, 600, 3)\n",
      "(1, 450, 600, 3)\n",
      "(1, 450, 600, 3)\n",
      "(1, 450, 600, 3)\n"
     ]
    },
    {
     "name": "stderr",
     "output_type": "stream",
     "text": [
      "3286it [02:40, 18.64it/s]"
     ]
    },
    {
     "name": "stdout",
     "output_type": "stream",
     "text": [
      "(1, 450, 600, 3)\n",
      "(1, 450, 600, 3)\n",
      "(1, 450, 600, 3)\n",
      "(1, 450, 600, 3)\n"
     ]
    },
    {
     "name": "stderr",
     "output_type": "stream",
     "text": [
      "3291it [02:40, 18.88it/s]"
     ]
    },
    {
     "name": "stdout",
     "output_type": "stream",
     "text": [
      "(1, 450, 600, 3)\n",
      "(1, 450, 600, 3)\n",
      "(1, 450, 600, 3)\n",
      "(1, 450, 600, 3)\n"
     ]
    },
    {
     "name": "stderr",
     "output_type": "stream",
     "text": [
      "\r",
      "3293it [02:40, 18.24it/s]"
     ]
    },
    {
     "name": "stdout",
     "output_type": "stream",
     "text": [
      "(1, 450, 600, 3)\n",
      "(1, 450, 600, 3)\n",
      "(1, 450, 600, 3)\n",
      "(1, 450, 600, 3)\n"
     ]
    },
    {
     "name": "stderr",
     "output_type": "stream",
     "text": [
      "3298it [02:40, 19.12it/s]"
     ]
    },
    {
     "name": "stdout",
     "output_type": "stream",
     "text": [
      "(1, 450, 600, 3)\n",
      "(1, 450, 600, 3)\n",
      "(1, 450, 600, 3)\n",
      "(1, 450, 600, 3)\n",
      "(1, 450, 600, 3)\n"
     ]
    },
    {
     "name": "stderr",
     "output_type": "stream",
     "text": [
      "3304it [02:41, 18.29it/s]"
     ]
    },
    {
     "name": "stdout",
     "output_type": "stream",
     "text": [
      "(1, 450, 600, 3)\n",
      "(1, 450, 600, 3)\n",
      "(1, 450, 600, 3)\n",
      "(1, 450, 600, 3)\n"
     ]
    },
    {
     "name": "stderr",
     "output_type": "stream",
     "text": [
      "\r",
      "3307it [02:41, 18.90it/s]"
     ]
    },
    {
     "name": "stdout",
     "output_type": "stream",
     "text": [
      "(1, 450, 600, 3)\n",
      "(1, 450, 600, 3)\n",
      "(1, 450, 600, 3)\n",
      "(1, 450, 600, 3)\n"
     ]
    },
    {
     "name": "stderr",
     "output_type": "stream",
     "text": [
      "3311it [02:41, 18.23it/s]"
     ]
    },
    {
     "name": "stdout",
     "output_type": "stream",
     "text": [
      "(1, 450, 600, 3)\n",
      "(1, 450, 600, 3)\n",
      "(1, 450, 600, 3)\n",
      "(1, 450, 600, 3)\n"
     ]
    },
    {
     "name": "stderr",
     "output_type": "stream",
     "text": [
      "3315it [02:41, 17.86it/s]"
     ]
    },
    {
     "name": "stdout",
     "output_type": "stream",
     "text": [
      "(1, 450, 600, 3)\n",
      "(1, 450, 600, 3)\n",
      "(1, 450, 600, 3)\n",
      "(1, 450, 600, 3)\n"
     ]
    },
    {
     "name": "stderr",
     "output_type": "stream",
     "text": [
      "\r",
      "3318it [02:42, 18.64it/s]"
     ]
    },
    {
     "name": "stdout",
     "output_type": "stream",
     "text": [
      "(1, 450, 600, 3)\n",
      "(1, 450, 600, 3)\n",
      "(1, 450, 600, 3)\n",
      "(1, 450, 600, 3)\n",
      "(1, 450, 600, 3)\n"
     ]
    },
    {
     "name": "stderr",
     "output_type": "stream",
     "text": [
      "3325it [02:42, 18.80it/s]"
     ]
    },
    {
     "name": "stdout",
     "output_type": "stream",
     "text": [
      "(1, 450, 600, 3)\n",
      "(1, 450, 600, 3)\n",
      "(1, 450, 600, 3)\n",
      "(1, 450, 600, 3)\n"
     ]
    },
    {
     "name": "stderr",
     "output_type": "stream",
     "text": [
      "\r",
      "3328it [02:42, 19.21it/s]"
     ]
    },
    {
     "name": "stdout",
     "output_type": "stream",
     "text": [
      "(1, 450, 600, 3)\n",
      "(1, 450, 600, 3)\n",
      "(1, 450, 600, 3)\n",
      "(1, 450, 600, 3)\n"
     ]
    },
    {
     "name": "stderr",
     "output_type": "stream",
     "text": [
      "3332it [02:42, 18.74it/s]"
     ]
    },
    {
     "name": "stdout",
     "output_type": "stream",
     "text": [
      "(1, 450, 600, 3)\n",
      "(1, 450, 600, 3)\n",
      "(1, 450, 600, 3)\n",
      "(1, 450, 600, 3)\n"
     ]
    },
    {
     "name": "stderr",
     "output_type": "stream",
     "text": [
      "3336it [02:42, 18.95it/s]"
     ]
    },
    {
     "name": "stdout",
     "output_type": "stream",
     "text": [
      "(1, 450, 600, 3)\n",
      "(1, 450, 600, 3)\n",
      "(1, 450, 600, 3)\n",
      "(1, 450, 600, 3)\n",
      "(1, 450, 600, 3)\n"
     ]
    },
    {
     "name": "stderr",
     "output_type": "stream",
     "text": [
      "3342it [02:43, 19.58it/s]"
     ]
    },
    {
     "name": "stdout",
     "output_type": "stream",
     "text": [
      "(1, 450, 600, 3)\n",
      "(1, 450, 600, 3)\n",
      "(1, 450, 600, 3)\n",
      "(1, 450, 600, 3)\n",
      "(1, 450, 600, 3)\n"
     ]
    },
    {
     "name": "stderr",
     "output_type": "stream",
     "text": [
      "3346it [02:43, 19.77it/s]"
     ]
    },
    {
     "name": "stdout",
     "output_type": "stream",
     "text": [
      "(1, 450, 600, 3)\n",
      "(1, 450, 600, 3)\n",
      "(1, 450, 600, 3)\n",
      "(1, 450, 600, 3)\n",
      "(1, 450, 600, 3)\n"
     ]
    },
    {
     "name": "stderr",
     "output_type": "stream",
     "text": [
      "3352it [02:43, 18.74it/s]"
     ]
    },
    {
     "name": "stdout",
     "output_type": "stream",
     "text": [
      "(1, 450, 600, 3)\n",
      "(1, 450, 600, 3)\n",
      "(1, 450, 600, 3)\n",
      "(1, 450, 600, 3)\n"
     ]
    },
    {
     "name": "stderr",
     "output_type": "stream",
     "text": [
      "3356it [02:44, 19.33it/s]"
     ]
    },
    {
     "name": "stdout",
     "output_type": "stream",
     "text": [
      "(1, 450, 600, 3)\n",
      "(1, 450, 600, 3)\n",
      "(1, 450, 600, 3)\n",
      "(1, 450, 600, 3)\n"
     ]
    },
    {
     "name": "stderr",
     "output_type": "stream",
     "text": [
      "\r",
      "3359it [02:44, 19.61it/s]"
     ]
    },
    {
     "name": "stdout",
     "output_type": "stream",
     "text": [
      "(1, 450, 600, 3)\n",
      "(1, 450, 600, 3)\n",
      "(1, 450, 600, 3)\n",
      "(1, 450, 600, 3)\n"
     ]
    },
    {
     "name": "stderr",
     "output_type": "stream",
     "text": [
      "3363it [02:44, 19.03it/s]"
     ]
    },
    {
     "name": "stdout",
     "output_type": "stream",
     "text": [
      "(1, 450, 600, 3)\n",
      "(1, 450, 600, 3)\n",
      "(1, 450, 600, 3)\n",
      "(1, 450, 600, 3)\n"
     ]
    },
    {
     "name": "stderr",
     "output_type": "stream",
     "text": [
      "\r",
      "3366it [02:44, 19.40it/s]"
     ]
    },
    {
     "name": "stdout",
     "output_type": "stream",
     "text": [
      "(1, 450, 600, 3)\n",
      "(1, 450, 600, 3)\n",
      "(1, 450, 600, 3)\n",
      "(1, 450, 600, 3)\n"
     ]
    },
    {
     "name": "stderr",
     "output_type": "stream",
     "text": [
      "3371it [02:44, 19.23it/s]"
     ]
    },
    {
     "name": "stdout",
     "output_type": "stream",
     "text": [
      "(1, 450, 600, 3)\n",
      "(1, 450, 600, 3)\n",
      "(1, 450, 600, 3)\n",
      "(1, 450, 600, 3)\n"
     ]
    },
    {
     "name": "stderr",
     "output_type": "stream",
     "text": [
      "3375it [02:44, 19.53it/s]"
     ]
    },
    {
     "name": "stdout",
     "output_type": "stream",
     "text": [
      "(1, 450, 600, 3)\n",
      "(1, 450, 600, 3)\n",
      "(1, 450, 600, 3)\n",
      "(1, 450, 600, 3)\n"
     ]
    },
    {
     "name": "stderr",
     "output_type": "stream",
     "text": [
      "3379it [02:45, 19.31it/s]"
     ]
    },
    {
     "name": "stdout",
     "output_type": "stream",
     "text": [
      "(1, 450, 600, 3)\n",
      "(1, 450, 600, 3)\n",
      "(1, 450, 600, 3)\n",
      "(1, 450, 600, 3)\n"
     ]
    },
    {
     "name": "stderr",
     "output_type": "stream",
     "text": [
      "3383it [02:45, 19.15it/s]"
     ]
    },
    {
     "name": "stdout",
     "output_type": "stream",
     "text": [
      "(1, 450, 600, 3)\n",
      "(1, 450, 600, 3)\n",
      "(1, 450, 600, 3)\n",
      "(1, 450, 600, 3)\n"
     ]
    },
    {
     "name": "stderr",
     "output_type": "stream",
     "text": [
      "3387it [02:45, 18.94it/s]"
     ]
    },
    {
     "name": "stdout",
     "output_type": "stream",
     "text": [
      "(1, 450, 600, 3)\n",
      "(1, 450, 600, 3)\n",
      "(1, 450, 600, 3)\n",
      "(1, 450, 600, 3)\n"
     ]
    },
    {
     "name": "stderr",
     "output_type": "stream",
     "text": [
      "3391it [02:45, 18.96it/s]"
     ]
    },
    {
     "name": "stdout",
     "output_type": "stream",
     "text": [
      "(1, 450, 600, 3)\n",
      "(1, 450, 600, 3)\n",
      "(1, 450, 600, 3)\n",
      "(1, 450, 600, 3)\n",
      "(1, 450, 600, 3)\n"
     ]
    },
    {
     "name": "stderr",
     "output_type": "stream",
     "text": [
      "3396it [02:46, 18.35it/s]"
     ]
    },
    {
     "name": "stdout",
     "output_type": "stream",
     "text": [
      "(1, 450, 600, 3)\n",
      "(1, 450, 600, 3)\n",
      "(1, 450, 600, 3)\n",
      "(1, 450, 600, 3)\n"
     ]
    },
    {
     "name": "stderr",
     "output_type": "stream",
     "text": [
      "3400it [02:46, 17.29it/s]"
     ]
    },
    {
     "name": "stdout",
     "output_type": "stream",
     "text": [
      "(1, 450, 600, 3)\n",
      "(1, 450, 600, 3)\n",
      "(1, 450, 600, 3)\n",
      "(1, 450, 600, 3)\n"
     ]
    },
    {
     "name": "stderr",
     "output_type": "stream",
     "text": [
      "3405it [02:46, 19.14it/s]"
     ]
    },
    {
     "name": "stdout",
     "output_type": "stream",
     "text": [
      "(1, 450, 600, 3)\n",
      "(1, 450, 600, 3)\n",
      "(1, 450, 600, 3)\n",
      "(1, 450, 600, 3)\n"
     ]
    },
    {
     "name": "stderr",
     "output_type": "stream",
     "text": [
      "3409it [02:46, 18.77it/s]"
     ]
    },
    {
     "name": "stdout",
     "output_type": "stream",
     "text": [
      "(1, 450, 600, 3)\n",
      "(1, 450, 600, 3)\n",
      "(1, 450, 600, 3)\n",
      "(1, 450, 600, 3)\n"
     ]
    },
    {
     "name": "stderr",
     "output_type": "stream",
     "text": [
      "3413it [02:47, 19.32it/s]"
     ]
    },
    {
     "name": "stdout",
     "output_type": "stream",
     "text": [
      "(1, 450, 600, 3)\n",
      "(1, 450, 600, 3)\n",
      "(1, 450, 600, 3)\n",
      "(1, 450, 600, 3)\n",
      "(1, 450, 600, 3)\n"
     ]
    },
    {
     "name": "stderr",
     "output_type": "stream",
     "text": [
      "3417it [02:47, 19.12it/s]"
     ]
    },
    {
     "name": "stdout",
     "output_type": "stream",
     "text": [
      "(1, 450, 600, 3)\n",
      "(1, 450, 600, 3)\n",
      "(1, 450, 600, 3)\n",
      "(1, 450, 600, 3)\n"
     ]
    },
    {
     "name": "stderr",
     "output_type": "stream",
     "text": [
      "3421it [02:47, 18.49it/s]"
     ]
    },
    {
     "name": "stdout",
     "output_type": "stream",
     "text": [
      "(1, 450, 600, 3)\n",
      "(1, 450, 600, 3)\n",
      "(1, 450, 600, 3)\n",
      "(1, 450, 600, 3)\n"
     ]
    },
    {
     "name": "stderr",
     "output_type": "stream",
     "text": [
      "3425it [02:47, 19.10it/s]"
     ]
    },
    {
     "name": "stdout",
     "output_type": "stream",
     "text": [
      "(1, 450, 600, 3)\n",
      "(1, 450, 600, 3)\n",
      "(1, 450, 600, 3)\n",
      "(1, 450, 600, 3)\n"
     ]
    },
    {
     "name": "stderr",
     "output_type": "stream",
     "text": [
      "3429it [02:47, 19.15it/s]"
     ]
    },
    {
     "name": "stdout",
     "output_type": "stream",
     "text": [
      "(1, 450, 600, 3)\n",
      "(1, 450, 600, 3)\n",
      "(1, 450, 600, 3)\n",
      "(1, 450, 600, 3)\n",
      "(1, 450, 600, 3)\n"
     ]
    },
    {
     "name": "stderr",
     "output_type": "stream",
     "text": [
      "3434it [02:48, 19.60it/s]"
     ]
    },
    {
     "name": "stdout",
     "output_type": "stream",
     "text": [
      "(1, 450, 600, 3)\n",
      "(1, 450, 600, 3)\n",
      "(1, 450, 600, 3)\n",
      "(1, 450, 600, 3)\n",
      "(1, 450, 600, 3)\n"
     ]
    },
    {
     "name": "stderr",
     "output_type": "stream",
     "text": [
      "3438it [02:48, 19.38it/s]"
     ]
    },
    {
     "name": "stdout",
     "output_type": "stream",
     "text": [
      "(1, 450, 600, 3)\n",
      "(1, 450, 600, 3)\n",
      "(1, 450, 600, 3)\n",
      "(1, 450, 600, 3)\n",
      "(1, 450, 600, 3)\n"
     ]
    },
    {
     "name": "stderr",
     "output_type": "stream",
     "text": [
      "3445it [02:48, 19.29it/s]"
     ]
    },
    {
     "name": "stdout",
     "output_type": "stream",
     "text": [
      "(1, 450, 600, 3)\n",
      "(1, 450, 600, 3)\n",
      "(1, 450, 600, 3)\n",
      "(1, 450, 600, 3)\n",
      "(1, 450, 600, 3)\n"
     ]
    },
    {
     "name": "stderr",
     "output_type": "stream",
     "text": [
      "3449it [02:48, 19.57it/s]"
     ]
    },
    {
     "name": "stdout",
     "output_type": "stream",
     "text": [
      "(1, 450, 600, 3)\n",
      "(1, 450, 600, 3)\n",
      "(1, 450, 600, 3)\n",
      "(1, 450, 600, 3)\n"
     ]
    },
    {
     "name": "stderr",
     "output_type": "stream",
     "text": [
      "3453it [02:49, 19.08it/s]"
     ]
    },
    {
     "name": "stdout",
     "output_type": "stream",
     "text": [
      "(1, 450, 600, 3)\n",
      "(1, 450, 600, 3)\n",
      "(1, 450, 600, 3)\n",
      "(1, 450, 600, 3)\n",
      "(1, 450, 600, 3)\n"
     ]
    },
    {
     "name": "stderr",
     "output_type": "stream",
     "text": [
      "3458it [02:49, 19.21it/s]"
     ]
    },
    {
     "name": "stdout",
     "output_type": "stream",
     "text": [
      "(1, 450, 600, 3)\n",
      "(1, 450, 600, 3)\n",
      "(1, 450, 600, 3)\n",
      "(1, 450, 600, 3)\n"
     ]
    },
    {
     "name": "stderr",
     "output_type": "stream",
     "text": [
      "3462it [02:49, 19.09it/s]"
     ]
    },
    {
     "name": "stdout",
     "output_type": "stream",
     "text": [
      "(1, 450, 600, 3)\n",
      "(1, 450, 600, 3)\n",
      "(1, 450, 600, 3)\n",
      "(1, 450, 600, 3)\n"
     ]
    },
    {
     "name": "stderr",
     "output_type": "stream",
     "text": [
      "3466it [02:49, 18.98it/s]"
     ]
    },
    {
     "name": "stdout",
     "output_type": "stream",
     "text": [
      "(1, 450, 600, 3)\n",
      "(1, 450, 600, 3)\n",
      "(1, 450, 600, 3)\n",
      "(1, 450, 600, 3)\n"
     ]
    },
    {
     "name": "stderr",
     "output_type": "stream",
     "text": [
      "3470it [02:49, 19.28it/s]"
     ]
    },
    {
     "name": "stdout",
     "output_type": "stream",
     "text": [
      "(1, 450, 600, 3)\n",
      "(1, 450, 600, 3)\n",
      "(1, 450, 600, 3)\n",
      "(1, 450, 600, 3)\n",
      "(1, 450, 600, 3)\n"
     ]
    },
    {
     "name": "stderr",
     "output_type": "stream",
     "text": [
      "3475it [02:50, 19.15it/s]"
     ]
    },
    {
     "name": "stdout",
     "output_type": "stream",
     "text": [
      "(1, 450, 600, 3)\n",
      "(1, 450, 600, 3)\n",
      "(1, 450, 600, 3)\n",
      "(1, 450, 600, 3)\n"
     ]
    },
    {
     "name": "stderr",
     "output_type": "stream",
     "text": [
      "3479it [02:50, 18.60it/s]"
     ]
    },
    {
     "name": "stdout",
     "output_type": "stream",
     "text": [
      "(1, 450, 600, 3)\n",
      "(1, 450, 600, 3)\n",
      "(1, 450, 600, 3)\n",
      "(1, 450, 600, 3)\n"
     ]
    },
    {
     "name": "stderr",
     "output_type": "stream",
     "text": [
      "3483it [02:50, 17.83it/s]"
     ]
    },
    {
     "name": "stdout",
     "output_type": "stream",
     "text": [
      "(1, 450, 600, 3)\n",
      "(1, 450, 600, 3)\n",
      "(1, 450, 600, 3)\n",
      "(1, 450, 600, 3)\n"
     ]
    },
    {
     "name": "stderr",
     "output_type": "stream",
     "text": [
      "3487it [02:50, 16.69it/s]"
     ]
    },
    {
     "name": "stdout",
     "output_type": "stream",
     "text": [
      "(1, 450, 600, 3)\n",
      "(1, 450, 600, 3)\n",
      "(1, 450, 600, 3)\n",
      "(1, 450, 600, 3)\n"
     ]
    },
    {
     "name": "stderr",
     "output_type": "stream",
     "text": [
      "3491it [02:51, 17.76it/s]"
     ]
    },
    {
     "name": "stdout",
     "output_type": "stream",
     "text": [
      "(1, 450, 600, 3)\n",
      "(1, 450, 600, 3)\n",
      "(1, 450, 600, 3)\n",
      "(1, 450, 600, 3)\n"
     ]
    },
    {
     "name": "stderr",
     "output_type": "stream",
     "text": [
      "3495it [02:51, 18.43it/s]"
     ]
    },
    {
     "name": "stdout",
     "output_type": "stream",
     "text": [
      "(1, 450, 600, 3)\n",
      "(1, 450, 600, 3)\n",
      "(1, 450, 600, 3)\n",
      "(1, 450, 600, 3)\n",
      "(1, 450, 600, 3)\n"
     ]
    },
    {
     "name": "stderr",
     "output_type": "stream",
     "text": [
      "3501it [02:51, 19.68it/s]"
     ]
    },
    {
     "name": "stdout",
     "output_type": "stream",
     "text": [
      "(1, 450, 600, 3)\n",
      "(1, 450, 600, 3)\n",
      "(1, 450, 600, 3)\n",
      "(1, 450, 600, 3)\n"
     ]
    },
    {
     "name": "stderr",
     "output_type": "stream",
     "text": [
      "3505it [02:51, 18.97it/s]"
     ]
    },
    {
     "name": "stdout",
     "output_type": "stream",
     "text": [
      "(1, 450, 600, 3)\n",
      "(1, 450, 600, 3)\n",
      "(1, 450, 600, 3)\n",
      "(1, 450, 600, 3)\n",
      "(1, 450, 600, 3)\n"
     ]
    },
    {
     "name": "stderr",
     "output_type": "stream",
     "text": [
      "3509it [02:52, 19.45it/s]"
     ]
    },
    {
     "name": "stdout",
     "output_type": "stream",
     "text": [
      "(1, 450, 600, 3)\n",
      "(1, 450, 600, 3)\n",
      "(1, 450, 600, 3)\n",
      "(1, 450, 600, 3)\n"
     ]
    },
    {
     "name": "stderr",
     "output_type": "stream",
     "text": [
      "3513it [02:52, 18.80it/s]"
     ]
    },
    {
     "name": "stdout",
     "output_type": "stream",
     "text": [
      "(1, 450, 600, 3)\n",
      "(1, 450, 600, 3)\n",
      "(1, 450, 600, 3)\n",
      "(1, 450, 600, 3)\n"
     ]
    },
    {
     "name": "stderr",
     "output_type": "stream",
     "text": [
      "3518it [02:52, 19.13it/s]"
     ]
    },
    {
     "name": "stdout",
     "output_type": "stream",
     "text": [
      "(1, 450, 600, 3)\n",
      "(1, 450, 600, 3)\n",
      "(1, 450, 600, 3)\n",
      "(1, 450, 600, 3)\n",
      "(1, 450, 600, 3)\n"
     ]
    },
    {
     "name": "stderr",
     "output_type": "stream",
     "text": [
      "3523it [02:52, 19.27it/s]"
     ]
    },
    {
     "name": "stdout",
     "output_type": "stream",
     "text": [
      "(1, 450, 600, 3)\n",
      "(1, 450, 600, 3)\n",
      "(1, 450, 600, 3)\n",
      "(1, 450, 600, 3)\n"
     ]
    },
    {
     "name": "stderr",
     "output_type": "stream",
     "text": [
      "3527it [02:53, 19.60it/s]"
     ]
    },
    {
     "name": "stdout",
     "output_type": "stream",
     "text": [
      "(1, 450, 600, 3)\n",
      "(1, 450, 600, 3)\n",
      "(1, 450, 600, 3)\n",
      "(1, 450, 600, 3)\n",
      "(1, 450, 600, 3)\n"
     ]
    },
    {
     "name": "stderr",
     "output_type": "stream",
     "text": [
      "3531it [02:53, 19.25it/s]"
     ]
    },
    {
     "name": "stdout",
     "output_type": "stream",
     "text": [
      "(1, 450, 600, 3)\n",
      "(1, 450, 600, 3)\n",
      "(1, 450, 600, 3)\n",
      "(1, 450, 600, 3)\n"
     ]
    },
    {
     "name": "stderr",
     "output_type": "stream",
     "text": [
      "3536it [02:53, 19.00it/s]"
     ]
    },
    {
     "name": "stdout",
     "output_type": "stream",
     "text": [
      "(1, 450, 600, 3)\n",
      "(1, 450, 600, 3)\n",
      "(1, 450, 600, 3)\n",
      "(1, 450, 600, 3)\n",
      "(1, 450, 600, 3)\n"
     ]
    },
    {
     "name": "stderr",
     "output_type": "stream",
     "text": [
      "3540it [02:53, 19.45it/s]"
     ]
    },
    {
     "name": "stdout",
     "output_type": "stream",
     "text": [
      "(1, 450, 600, 3)\n",
      "(1, 450, 600, 3)\n",
      "(1, 450, 600, 3)\n",
      "(1, 450, 600, 3)\n"
     ]
    },
    {
     "name": "stderr",
     "output_type": "stream",
     "text": [
      "3545it [02:53, 20.26it/s]"
     ]
    },
    {
     "name": "stdout",
     "output_type": "stream",
     "text": [
      "(1, 450, 600, 3)\n",
      "(1, 450, 600, 3)\n",
      "(1, 450, 600, 3)\n",
      "(1, 450, 600, 3)\n",
      "(1, 450, 600, 3)\n"
     ]
    },
    {
     "name": "stderr",
     "output_type": "stream",
     "text": [
      "3550it [02:54, 19.78it/s]"
     ]
    },
    {
     "name": "stdout",
     "output_type": "stream",
     "text": [
      "(1, 450, 600, 3)\n",
      "(1, 450, 600, 3)\n",
      "(1, 450, 600, 3)\n",
      "(1, 450, 600, 3)\n"
     ]
    },
    {
     "name": "stderr",
     "output_type": "stream",
     "text": [
      "\r",
      "3552it [02:54, 18.39it/s]"
     ]
    },
    {
     "name": "stdout",
     "output_type": "stream",
     "text": [
      "(1, 450, 600, 3)\n",
      "(1, 450, 600, 3)\n",
      "(1, 450, 600, 3)\n",
      "(1, 450, 600, 3)\n"
     ]
    },
    {
     "name": "stderr",
     "output_type": "stream",
     "text": [
      "3556it [02:54, 18.77it/s]"
     ]
    },
    {
     "name": "stdout",
     "output_type": "stream",
     "text": [
      "(1, 450, 600, 3)\n",
      "(1, 450, 600, 3)\n",
      "(1, 450, 600, 3)\n",
      "(1, 450, 600, 3)\n"
     ]
    },
    {
     "name": "stderr",
     "output_type": "stream",
     "text": [
      "3562it [02:54, 19.54it/s]"
     ]
    },
    {
     "name": "stdout",
     "output_type": "stream",
     "text": [
      "(1, 450, 600, 3)\n",
      "(1, 450, 600, 3)\n",
      "(1, 450, 600, 3)\n",
      "(1, 450, 600, 3)\n"
     ]
    },
    {
     "name": "stderr",
     "output_type": "stream",
     "text": [
      "3566it [02:55, 19.34it/s]"
     ]
    },
    {
     "name": "stdout",
     "output_type": "stream",
     "text": [
      "(1, 450, 600, 3)\n",
      "(1, 450, 600, 3)\n",
      "(1, 450, 600, 3)\n",
      "(1, 450, 600, 3)\n",
      "(1, 450, 600, 3)\n"
     ]
    },
    {
     "name": "stderr",
     "output_type": "stream",
     "text": [
      "3570it [02:55, 19.07it/s]"
     ]
    },
    {
     "name": "stdout",
     "output_type": "stream",
     "text": [
      "(1, 450, 600, 3)\n",
      "(1, 450, 600, 3)\n",
      "(1, 450, 600, 3)\n",
      "(1, 450, 600, 3)\n"
     ]
    },
    {
     "name": "stderr",
     "output_type": "stream",
     "text": [
      "3574it [02:55, 16.87it/s]"
     ]
    },
    {
     "name": "stdout",
     "output_type": "stream",
     "text": [
      "(1, 450, 600, 3)\n",
      "(1, 450, 600, 3)\n",
      "(1, 450, 600, 3)\n",
      "(1, 450, 600, 3)\n"
     ]
    },
    {
     "name": "stderr",
     "output_type": "stream",
     "text": [
      "3578it [02:55, 18.28it/s]"
     ]
    },
    {
     "name": "stdout",
     "output_type": "stream",
     "text": [
      "(1, 450, 600, 3)\n",
      "(1, 450, 600, 3)\n",
      "(1, 450, 600, 3)\n",
      "(1, 450, 600, 3)\n"
     ]
    },
    {
     "name": "stderr",
     "output_type": "stream",
     "text": [
      "3583it [02:55, 18.98it/s]"
     ]
    },
    {
     "name": "stdout",
     "output_type": "stream",
     "text": [
      "(1, 450, 600, 3)\n",
      "(1, 450, 600, 3)\n",
      "(1, 450, 600, 3)\n",
      "(1, 450, 600, 3)\n",
      "(1, 450, 600, 3)\n"
     ]
    },
    {
     "name": "stderr",
     "output_type": "stream",
     "text": [
      "3587it [02:56, 19.38it/s]"
     ]
    },
    {
     "name": "stdout",
     "output_type": "stream",
     "text": [
      "(1, 450, 600, 3)\n",
      "(1, 450, 600, 3)\n",
      "(1, 450, 600, 3)\n",
      "(1, 450, 600, 3)\n"
     ]
    },
    {
     "name": "stderr",
     "output_type": "stream",
     "text": [
      "3591it [02:56, 19.29it/s]"
     ]
    },
    {
     "name": "stdout",
     "output_type": "stream",
     "text": [
      "(1, 450, 600, 3)\n",
      "(1, 450, 600, 3)\n",
      "(1, 450, 600, 3)\n",
      "(1, 450, 600, 3)\n",
      "(1, 450, 600, 3)\n"
     ]
    },
    {
     "name": "stderr",
     "output_type": "stream",
     "text": [
      "3595it [02:56, 19.62it/s]"
     ]
    },
    {
     "name": "stdout",
     "output_type": "stream",
     "text": [
      "(1, 450, 600, 3)\n",
      "(1, 450, 600, 3)\n",
      "(1, 450, 600, 3)\n"
     ]
    },
    {
     "name": "stderr",
     "output_type": "stream",
     "text": [
      "3599it [02:56, 18.19it/s]"
     ]
    },
    {
     "name": "stdout",
     "output_type": "stream",
     "text": [
      "(1, 450, 600, 3)\n",
      "(1, 450, 600, 3)\n",
      "(1, 450, 600, 3)\n",
      "(1, 450, 600, 3)\n"
     ]
    },
    {
     "name": "stderr",
     "output_type": "stream",
     "text": [
      "3603it [02:57, 18.63it/s]"
     ]
    },
    {
     "name": "stdout",
     "output_type": "stream",
     "text": [
      "(1, 450, 600, 3)\n",
      "(1, 450, 600, 3)\n",
      "(1, 450, 600, 3)\n",
      "(1, 450, 600, 3)\n",
      "(1, 450, 600, 3)\n"
     ]
    },
    {
     "name": "stderr",
     "output_type": "stream",
     "text": [
      "3608it [02:57, 19.19it/s]"
     ]
    },
    {
     "name": "stdout",
     "output_type": "stream",
     "text": [
      "(1, 450, 600, 3)\n",
      "(1, 450, 600, 3)\n",
      "(1, 450, 600, 3)\n",
      "(1, 450, 600, 3)\n"
     ]
    },
    {
     "name": "stderr",
     "output_type": "stream",
     "text": [
      "3612it [02:57, 19.19it/s]"
     ]
    },
    {
     "name": "stdout",
     "output_type": "stream",
     "text": [
      "(1, 450, 600, 3)\n",
      "(1, 450, 600, 3)\n",
      "(1, 450, 600, 3)\n",
      "(1, 450, 600, 3)\n"
     ]
    },
    {
     "name": "stderr",
     "output_type": "stream",
     "text": [
      "3616it [02:57, 19.56it/s]"
     ]
    },
    {
     "name": "stdout",
     "output_type": "stream",
     "text": [
      "(1, 450, 600, 3)\n",
      "(1, 450, 600, 3)\n",
      "(1, 450, 600, 3)\n",
      "(1, 450, 600, 3)\n"
     ]
    },
    {
     "name": "stderr",
     "output_type": "stream",
     "text": [
      "3620it [02:57, 18.84it/s]"
     ]
    },
    {
     "name": "stdout",
     "output_type": "stream",
     "text": [
      "(1, 450, 600, 3)\n",
      "(1, 450, 600, 3)\n",
      "(1, 450, 600, 3)\n",
      "(1, 450, 600, 3)\n"
     ]
    },
    {
     "name": "stderr",
     "output_type": "stream",
     "text": [
      "3624it [02:58, 19.41it/s]"
     ]
    },
    {
     "name": "stdout",
     "output_type": "stream",
     "text": [
      "(1, 450, 600, 3)\n",
      "(1, 450, 600, 3)\n",
      "(1, 450, 600, 3)\n",
      "(1, 450, 600, 3)\n"
     ]
    },
    {
     "name": "stderr",
     "output_type": "stream",
     "text": [
      "\r",
      "3627it [02:58, 19.15it/s]"
     ]
    },
    {
     "name": "stdout",
     "output_type": "stream",
     "text": [
      "(1, 450, 600, 3)\n",
      "(1, 450, 600, 3)\n",
      "(1, 450, 600, 3)\n",
      "(1, 450, 600, 3)\n"
     ]
    },
    {
     "name": "stderr",
     "output_type": "stream",
     "text": [
      "3632it [02:58, 18.96it/s]"
     ]
    },
    {
     "name": "stdout",
     "output_type": "stream",
     "text": [
      "(1, 450, 600, 3)\n",
      "(1, 450, 600, 3)\n",
      "(1, 450, 600, 3)\n",
      "(1, 450, 600, 3)\n"
     ]
    },
    {
     "name": "stderr",
     "output_type": "stream",
     "text": [
      "3636it [02:58, 18.93it/s]"
     ]
    },
    {
     "name": "stdout",
     "output_type": "stream",
     "text": [
      "(1, 450, 600, 3)\n",
      "(1, 450, 600, 3)\n",
      "(1, 450, 600, 3)\n",
      "(1, 450, 600, 3)\n"
     ]
    },
    {
     "name": "stderr",
     "output_type": "stream",
     "text": [
      "3641it [02:59, 19.62it/s]"
     ]
    },
    {
     "name": "stdout",
     "output_type": "stream",
     "text": [
      "(1, 450, 600, 3)\n",
      "(1, 450, 600, 3)\n",
      "(1, 450, 600, 3)\n",
      "(1, 450, 600, 3)\n"
     ]
    },
    {
     "name": "stderr",
     "output_type": "stream",
     "text": [
      "3645it [02:59, 19.44it/s]"
     ]
    },
    {
     "name": "stdout",
     "output_type": "stream",
     "text": [
      "(1, 450, 600, 3)\n",
      "(1, 450, 600, 3)\n",
      "(1, 450, 600, 3)\n",
      "(1, 450, 600, 3)\n",
      "(1, 450, 600, 3)\n"
     ]
    },
    {
     "name": "stderr",
     "output_type": "stream",
     "text": [
      "3649it [02:59, 18.66it/s]"
     ]
    },
    {
     "name": "stdout",
     "output_type": "stream",
     "text": [
      "(1, 450, 600, 3)\n",
      "(1, 450, 600, 3)\n",
      "(1, 450, 600, 3)\n",
      "(1, 450, 600, 3)\n"
     ]
    },
    {
     "name": "stderr",
     "output_type": "stream",
     "text": [
      "3653it [02:59, 18.77it/s]"
     ]
    },
    {
     "name": "stdout",
     "output_type": "stream",
     "text": [
      "(1, 450, 600, 3)\n",
      "(1, 450, 600, 3)\n",
      "(1, 450, 600, 3)\n",
      "(1, 450, 600, 3)\n",
      "(1, 450, 600, 3)\n"
     ]
    },
    {
     "name": "stderr",
     "output_type": "stream",
     "text": [
      "3657it [02:59, 18.32it/s]"
     ]
    },
    {
     "name": "stdout",
     "output_type": "stream",
     "text": [
      "(1, 450, 600, 3)\n",
      "(1, 450, 600, 3)\n",
      "(1, 450, 600, 3)\n"
     ]
    },
    {
     "name": "stderr",
     "output_type": "stream",
     "text": [
      "3661it [03:00, 17.13it/s]"
     ]
    },
    {
     "name": "stdout",
     "output_type": "stream",
     "text": [
      "(1, 450, 600, 3)\n",
      "(1, 450, 600, 3)\n",
      "(1, 450, 600, 3)\n",
      "(1, 450, 600, 3)\n"
     ]
    },
    {
     "name": "stderr",
     "output_type": "stream",
     "text": [
      "\r",
      "3664it [03:00, 18.15it/s]"
     ]
    },
    {
     "name": "stdout",
     "output_type": "stream",
     "text": [
      "(1, 450, 600, 3)\n",
      "(1, 450, 600, 3)\n",
      "(1, 450, 600, 3)\n",
      "(1, 450, 600, 3)\n"
     ]
    },
    {
     "name": "stderr",
     "output_type": "stream",
     "text": [
      "3670it [03:00, 17.96it/s]"
     ]
    },
    {
     "name": "stdout",
     "output_type": "stream",
     "text": [
      "(1, 450, 600, 3)\n",
      "(1, 450, 600, 3)\n",
      "(1, 450, 600, 3)\n",
      "(1, 450, 600, 3)\n",
      "(1, 450, 600, 3)\n"
     ]
    },
    {
     "name": "stderr",
     "output_type": "stream",
     "text": [
      "3675it [03:00, 19.05it/s]"
     ]
    },
    {
     "name": "stdout",
     "output_type": "stream",
     "text": [
      "(1, 450, 600, 3)\n",
      "(1, 450, 600, 3)\n",
      "(1, 450, 600, 3)\n",
      "(1, 450, 600, 3)\n",
      "(1, 450, 600, 3)\n"
     ]
    },
    {
     "name": "stderr",
     "output_type": "stream",
     "text": [
      "3679it [03:01, 18.63it/s]"
     ]
    },
    {
     "name": "stdout",
     "output_type": "stream",
     "text": [
      "(1, 450, 600, 3)\n",
      "(1, 450, 600, 3)\n",
      "(1, 450, 600, 3)\n",
      "(1, 450, 600, 3)\n"
     ]
    },
    {
     "name": "stderr",
     "output_type": "stream",
     "text": [
      "3684it [03:01, 18.86it/s]"
     ]
    },
    {
     "name": "stdout",
     "output_type": "stream",
     "text": [
      "(1, 450, 600, 3)\n",
      "(1, 450, 600, 3)\n",
      "(1, 450, 600, 3)\n",
      "(1, 450, 600, 3)\n"
     ]
    },
    {
     "name": "stderr",
     "output_type": "stream",
     "text": [
      "\r",
      "3687it [03:01, 18.82it/s]"
     ]
    },
    {
     "name": "stdout",
     "output_type": "stream",
     "text": [
      "(1, 450, 600, 3)\n",
      "(1, 450, 600, 3)\n",
      "(1, 450, 600, 3)\n",
      "(1, 450, 600, 3)\n"
     ]
    },
    {
     "name": "stderr",
     "output_type": "stream",
     "text": [
      "3691it [03:01, 18.86it/s]"
     ]
    },
    {
     "name": "stdout",
     "output_type": "stream",
     "text": [
      "(1, 450, 600, 3)\n",
      "(1, 450, 600, 3)\n",
      "(1, 450, 600, 3)\n",
      "(1, 450, 600, 3)\n"
     ]
    },
    {
     "name": "stderr",
     "output_type": "stream",
     "text": [
      "3695it [03:01, 18.38it/s]"
     ]
    },
    {
     "name": "stdout",
     "output_type": "stream",
     "text": [
      "(1, 450, 600, 3)\n",
      "(1, 450, 600, 3)\n",
      "(1, 450, 600, 3)\n",
      "(1, 450, 600, 3)\n"
     ]
    },
    {
     "name": "stderr",
     "output_type": "stream",
     "text": [
      "3699it [03:02, 19.15it/s]"
     ]
    },
    {
     "name": "stdout",
     "output_type": "stream",
     "text": [
      "(1, 450, 600, 3)\n",
      "(1, 450, 600, 3)\n",
      "(1, 450, 600, 3)\n",
      "(1, 450, 600, 3)\n"
     ]
    },
    {
     "name": "stderr",
     "output_type": "stream",
     "text": [
      "3704it [03:02, 19.28it/s]"
     ]
    },
    {
     "name": "stdout",
     "output_type": "stream",
     "text": [
      "(1, 450, 600, 3)\n",
      "(1, 450, 600, 3)\n",
      "(1, 450, 600, 3)\n",
      "(1, 450, 600, 3)\n"
     ]
    },
    {
     "name": "stderr",
     "output_type": "stream",
     "text": [
      "3708it [03:02, 18.27it/s]"
     ]
    },
    {
     "name": "stdout",
     "output_type": "stream",
     "text": [
      "(1, 450, 600, 3)\n",
      "(1, 450, 600, 3)\n",
      "(1, 450, 600, 3)\n",
      "(1, 450, 600, 3)\n"
     ]
    },
    {
     "name": "stderr",
     "output_type": "stream",
     "text": [
      "3712it [03:02, 19.08it/s]"
     ]
    },
    {
     "name": "stdout",
     "output_type": "stream",
     "text": [
      "(1, 450, 600, 3)\n",
      "(1, 450, 600, 3)\n",
      "(1, 450, 600, 3)\n",
      "(1, 450, 600, 3)\n"
     ]
    },
    {
     "name": "stderr",
     "output_type": "stream",
     "text": [
      "3716it [03:03, 18.27it/s]"
     ]
    },
    {
     "name": "stdout",
     "output_type": "stream",
     "text": [
      "(1, 450, 600, 3)\n",
      "(1, 450, 600, 3)\n",
      "(1, 450, 600, 3)\n",
      "(1, 450, 600, 3)\n"
     ]
    },
    {
     "name": "stderr",
     "output_type": "stream",
     "text": [
      "\r",
      "3718it [03:03, 18.73it/s]"
     ]
    },
    {
     "name": "stdout",
     "output_type": "stream",
     "text": [
      "(1, 450, 600, 3)\n",
      "(1, 450, 600, 3)\n",
      "(1, 450, 600, 3)\n",
      "(1, 450, 600, 3)\n"
     ]
    },
    {
     "name": "stderr",
     "output_type": "stream",
     "text": [
      "3723it [03:03, 19.08it/s]"
     ]
    },
    {
     "name": "stdout",
     "output_type": "stream",
     "text": [
      "(1, 450, 600, 3)\n",
      "(1, 450, 600, 3)\n",
      "(1, 450, 600, 3)\n",
      "(1, 450, 600, 3)\n"
     ]
    },
    {
     "name": "stderr",
     "output_type": "stream",
     "text": [
      "3728it [03:03, 18.75it/s]"
     ]
    },
    {
     "name": "stdout",
     "output_type": "stream",
     "text": [
      "(1, 450, 600, 3)\n",
      "(1, 450, 600, 3)\n",
      "(1, 450, 600, 3)\n",
      "(1, 450, 600, 3)\n",
      "(1, 450, 600, 3)\n"
     ]
    },
    {
     "name": "stderr",
     "output_type": "stream",
     "text": [
      "\r",
      "3730it [03:03, 19.07it/s]"
     ]
    },
    {
     "name": "stdout",
     "output_type": "stream",
     "text": [
      "(1, 450, 600, 3)\n",
      "(1, 450, 600, 3)\n",
      "(1, 450, 600, 3)\n"
     ]
    },
    {
     "name": "stderr",
     "output_type": "stream",
     "text": [
      "3735it [03:04, 19.55it/s]"
     ]
    },
    {
     "name": "stdout",
     "output_type": "stream",
     "text": [
      "(1, 450, 600, 3)\n",
      "(1, 450, 600, 3)\n",
      "(1, 450, 600, 3)\n",
      "(1, 450, 600, 3)\n",
      "(1, 450, 600, 3)\n"
     ]
    },
    {
     "name": "stderr",
     "output_type": "stream",
     "text": [
      "3739it [03:04, 19.23it/s]"
     ]
    },
    {
     "name": "stdout",
     "output_type": "stream",
     "text": [
      "(1, 450, 600, 3)\n",
      "(1, 450, 600, 3)\n",
      "(1, 450, 600, 3)\n"
     ]
    },
    {
     "name": "stderr",
     "output_type": "stream",
     "text": [
      "3744it [03:04, 18.81it/s]"
     ]
    },
    {
     "name": "stdout",
     "output_type": "stream",
     "text": [
      "(1, 450, 600, 3)\n",
      "(1, 450, 600, 3)\n",
      "(1, 450, 600, 3)\n",
      "(1, 450, 600, 3)\n"
     ]
    },
    {
     "name": "stderr",
     "output_type": "stream",
     "text": [
      "\r",
      "3746it [03:04, 17.74it/s]"
     ]
    },
    {
     "name": "stdout",
     "output_type": "stream",
     "text": [
      "(1, 450, 600, 3)\n",
      "(1, 450, 600, 3)\n",
      "(1, 450, 600, 3)\n",
      "(1, 450, 600, 3)\n"
     ]
    },
    {
     "name": "stderr",
     "output_type": "stream",
     "text": [
      "3752it [03:05, 17.75it/s]"
     ]
    },
    {
     "name": "stdout",
     "output_type": "stream",
     "text": [
      "(1, 450, 600, 3)\n",
      "(1, 450, 600, 3)\n",
      "(1, 450, 600, 3)\n",
      "(1, 450, 600, 3)\n"
     ]
    },
    {
     "name": "stderr",
     "output_type": "stream",
     "text": [
      "3756it [03:05, 18.25it/s]"
     ]
    },
    {
     "name": "stdout",
     "output_type": "stream",
     "text": [
      "(1, 450, 600, 3)\n",
      "(1, 450, 600, 3)\n",
      "(1, 450, 600, 3)\n",
      "(1, 450, 600, 3)\n"
     ]
    },
    {
     "name": "stderr",
     "output_type": "stream",
     "text": [
      "3760it [03:05, 18.52it/s]"
     ]
    },
    {
     "name": "stdout",
     "output_type": "stream",
     "text": [
      "(1, 450, 600, 3)\n",
      "(1, 450, 600, 3)\n",
      "(1, 450, 600, 3)\n",
      "(1, 450, 600, 3)\n"
     ]
    },
    {
     "name": "stderr",
     "output_type": "stream",
     "text": [
      "3764it [03:05, 18.78it/s]"
     ]
    },
    {
     "name": "stdout",
     "output_type": "stream",
     "text": [
      "(1, 450, 600, 3)\n",
      "(1, 450, 600, 3)\n",
      "(1, 450, 600, 3)\n",
      "(1, 450, 600, 3)\n"
     ]
    },
    {
     "name": "stderr",
     "output_type": "stream",
     "text": [
      "3768it [03:05, 18.87it/s]"
     ]
    },
    {
     "name": "stdout",
     "output_type": "stream",
     "text": [
      "(1, 450, 600, 3)\n",
      "(1, 450, 600, 3)\n",
      "(1, 450, 600, 3)\n",
      "(1, 450, 600, 3)\n",
      "(1, 450, 600, 3)\n"
     ]
    },
    {
     "name": "stderr",
     "output_type": "stream",
     "text": [
      "3772it [03:06, 18.83it/s]"
     ]
    },
    {
     "name": "stdout",
     "output_type": "stream",
     "text": [
      "(1, 450, 600, 3)\n",
      "(1, 450, 600, 3)\n",
      "(1, 450, 600, 3)\n",
      "(1, 450, 600, 3)\n"
     ]
    },
    {
     "name": "stderr",
     "output_type": "stream",
     "text": [
      "3776it [03:06, 19.34it/s]"
     ]
    },
    {
     "name": "stdout",
     "output_type": "stream",
     "text": [
      "(1, 450, 600, 3)\n",
      "(1, 450, 600, 3)\n",
      "(1, 450, 600, 3)\n",
      "(1, 450, 600, 3)\n"
     ]
    },
    {
     "name": "stderr",
     "output_type": "stream",
     "text": [
      "3780it [03:06, 18.55it/s]"
     ]
    },
    {
     "name": "stdout",
     "output_type": "stream",
     "text": [
      "(1, 450, 600, 3)\n",
      "(1, 450, 600, 3)\n",
      "(1, 450, 600, 3)\n",
      "(1, 450, 600, 3)\n"
     ]
    },
    {
     "name": "stderr",
     "output_type": "stream",
     "text": [
      "3784it [03:06, 19.09it/s]"
     ]
    },
    {
     "name": "stdout",
     "output_type": "stream",
     "text": [
      "(1, 450, 600, 3)\n",
      "(1, 450, 600, 3)\n",
      "(1, 450, 600, 3)\n",
      "(1, 450, 600, 3)\n"
     ]
    },
    {
     "name": "stderr",
     "output_type": "stream",
     "text": [
      "3788it [03:06, 18.92it/s]"
     ]
    },
    {
     "name": "stdout",
     "output_type": "stream",
     "text": [
      "(1, 450, 600, 3)\n",
      "(1, 450, 600, 3)\n",
      "(1, 450, 600, 3)\n",
      "(1, 450, 600, 3)\n"
     ]
    },
    {
     "name": "stderr",
     "output_type": "stream",
     "text": [
      "3792it [03:07, 19.36it/s]"
     ]
    },
    {
     "name": "stdout",
     "output_type": "stream",
     "text": [
      "(1, 450, 600, 3)\n",
      "(1, 450, 600, 3)\n",
      "(1, 450, 600, 3)\n",
      "(1, 450, 600, 3)\n"
     ]
    },
    {
     "name": "stderr",
     "output_type": "stream",
     "text": [
      "3798it [03:07, 19.43it/s]"
     ]
    },
    {
     "name": "stdout",
     "output_type": "stream",
     "text": [
      "(1, 450, 600, 3)\n",
      "(1, 450, 600, 3)\n",
      "(1, 450, 600, 3)\n",
      "(1, 450, 600, 3)\n",
      "(1, 450, 600, 3)\n"
     ]
    },
    {
     "name": "stderr",
     "output_type": "stream",
     "text": [
      "3802it [03:07, 18.26it/s]"
     ]
    },
    {
     "name": "stdout",
     "output_type": "stream",
     "text": [
      "(1, 450, 600, 3)\n",
      "(1, 450, 600, 3)\n",
      "(1, 450, 600, 3)\n",
      "(1, 450, 600, 3)\n"
     ]
    },
    {
     "name": "stderr",
     "output_type": "stream",
     "text": [
      "\r",
      "3804it [03:07, 18.63it/s]"
     ]
    },
    {
     "name": "stdout",
     "output_type": "stream",
     "text": [
      "(1, 450, 600, 3)\n",
      "(1, 450, 600, 3)\n",
      "(1, 450, 600, 3)\n",
      "(1, 450, 600, 3)\n"
     ]
    },
    {
     "name": "stderr",
     "output_type": "stream",
     "text": [
      "3809it [03:08, 18.56it/s]"
     ]
    },
    {
     "name": "stdout",
     "output_type": "stream",
     "text": [
      "(1, 450, 600, 3)\n",
      "(1, 450, 600, 3)\n",
      "(1, 450, 600, 3)\n",
      "(1, 450, 600, 3)\n"
     ]
    },
    {
     "name": "stderr",
     "output_type": "stream",
     "text": [
      "3814it [03:08, 19.00it/s]"
     ]
    },
    {
     "name": "stdout",
     "output_type": "stream",
     "text": [
      "(1, 450, 600, 3)\n",
      "(1, 450, 600, 3)\n",
      "(1, 450, 600, 3)\n",
      "(1, 450, 600, 3)\n",
      "(1, 450, 600, 3)\n"
     ]
    },
    {
     "name": "stderr",
     "output_type": "stream",
     "text": [
      "3819it [03:08, 18.42it/s]"
     ]
    },
    {
     "name": "stdout",
     "output_type": "stream",
     "text": [
      "(1, 450, 600, 3)\n",
      "(1, 450, 600, 3)\n",
      "(1, 450, 600, 3)\n",
      "(1, 450, 600, 3)\n"
     ]
    },
    {
     "name": "stderr",
     "output_type": "stream",
     "text": [
      "\r",
      "3821it [03:08, 18.35it/s]"
     ]
    },
    {
     "name": "stdout",
     "output_type": "stream",
     "text": [
      "(1, 450, 600, 3)\n",
      "(1, 450, 600, 3)\n",
      "(1, 450, 600, 3)\n",
      "(1, 450, 600, 3)\n"
     ]
    },
    {
     "name": "stderr",
     "output_type": "stream",
     "text": [
      "3826it [03:08, 18.73it/s]"
     ]
    },
    {
     "name": "stdout",
     "output_type": "stream",
     "text": [
      "(1, 450, 600, 3)\n",
      "(1, 450, 600, 3)\n",
      "(1, 450, 600, 3)\n",
      "(1, 450, 600, 3)\n"
     ]
    },
    {
     "name": "stderr",
     "output_type": "stream",
     "text": [
      "3830it [03:09, 18.44it/s]"
     ]
    },
    {
     "name": "stdout",
     "output_type": "stream",
     "text": [
      "(1, 450, 600, 3)\n",
      "(1, 450, 600, 3)\n",
      "(1, 450, 600, 3)\n",
      "(1, 450, 600, 3)\n"
     ]
    },
    {
     "name": "stderr",
     "output_type": "stream",
     "text": [
      "3834it [03:09, 16.97it/s]"
     ]
    },
    {
     "name": "stdout",
     "output_type": "stream",
     "text": [
      "(1, 450, 600, 3)\n",
      "(1, 450, 600, 3)\n",
      "(1, 450, 600, 3)\n",
      "(1, 450, 600, 3)\n"
     ]
    },
    {
     "name": "stderr",
     "output_type": "stream",
     "text": [
      "3838it [03:09, 18.35it/s]"
     ]
    },
    {
     "name": "stdout",
     "output_type": "stream",
     "text": [
      "(1, 450, 600, 3)\n",
      "(1, 450, 600, 3)\n",
      "(1, 450, 600, 3)\n",
      "(1, 450, 600, 3)\n"
     ]
    },
    {
     "name": "stderr",
     "output_type": "stream",
     "text": [
      "3842it [03:09, 19.07it/s]"
     ]
    },
    {
     "name": "stdout",
     "output_type": "stream",
     "text": [
      "(1, 450, 600, 3)\n",
      "(1, 450, 600, 3)\n",
      "(1, 450, 600, 3)\n",
      "(1, 450, 600, 3)\n"
     ]
    },
    {
     "name": "stderr",
     "output_type": "stream",
     "text": [
      "3846it [03:10, 18.44it/s]"
     ]
    },
    {
     "name": "stdout",
     "output_type": "stream",
     "text": [
      "(1, 450, 600, 3)\n",
      "(1, 450, 600, 3)\n",
      "(1, 450, 600, 3)\n",
      "(1, 450, 600, 3)\n"
     ]
    },
    {
     "name": "stderr",
     "output_type": "stream",
     "text": [
      "3850it [03:10, 18.55it/s]"
     ]
    },
    {
     "name": "stdout",
     "output_type": "stream",
     "text": [
      "(1, 450, 600, 3)\n",
      "(1, 450, 600, 3)\n",
      "(1, 450, 600, 3)\n",
      "(1, 450, 600, 3)\n"
     ]
    },
    {
     "name": "stderr",
     "output_type": "stream",
     "text": [
      "3854it [03:10, 18.42it/s]"
     ]
    },
    {
     "name": "stdout",
     "output_type": "stream",
     "text": [
      "(1, 450, 600, 3)\n",
      "(1, 450, 600, 3)\n",
      "(1, 450, 600, 3)\n",
      "(1, 450, 600, 3)\n"
     ]
    },
    {
     "name": "stderr",
     "output_type": "stream",
     "text": [
      "3858it [03:10, 19.12it/s]"
     ]
    },
    {
     "name": "stdout",
     "output_type": "stream",
     "text": [
      "(1, 450, 600, 3)\n",
      "(1, 450, 600, 3)\n",
      "(1, 450, 600, 3)\n",
      "(1, 450, 600, 3)\n",
      "(1, 450, 600, 3)\n"
     ]
    },
    {
     "name": "stderr",
     "output_type": "stream",
     "text": [
      "3864it [03:10, 19.05it/s]"
     ]
    },
    {
     "name": "stdout",
     "output_type": "stream",
     "text": [
      "(1, 450, 600, 3)\n",
      "(1, 450, 600, 3)\n",
      "(1, 450, 600, 3)\n",
      "(1, 450, 600, 3)\n"
     ]
    },
    {
     "name": "stderr",
     "output_type": "stream",
     "text": [
      "3868it [03:11, 18.94it/s]"
     ]
    },
    {
     "name": "stdout",
     "output_type": "stream",
     "text": [
      "(1, 450, 600, 3)\n",
      "(1, 450, 600, 3)\n",
      "(1, 450, 600, 3)\n",
      "(1, 450, 600, 3)\n"
     ]
    },
    {
     "name": "stderr",
     "output_type": "stream",
     "text": [
      "3872it [03:11, 19.01it/s]"
     ]
    },
    {
     "name": "stdout",
     "output_type": "stream",
     "text": [
      "(1, 450, 600, 3)\n",
      "(1, 450, 600, 3)\n",
      "(1, 450, 600, 3)\n",
      "(1, 450, 600, 3)\n"
     ]
    },
    {
     "name": "stderr",
     "output_type": "stream",
     "text": [
      "3876it [03:11, 18.16it/s]"
     ]
    },
    {
     "name": "stdout",
     "output_type": "stream",
     "text": [
      "(1, 450, 600, 3)\n",
      "(1, 450, 600, 3)\n",
      "(1, 450, 600, 3)\n",
      "(1, 450, 600, 3)\n"
     ]
    },
    {
     "name": "stderr",
     "output_type": "stream",
     "text": [
      "\r",
      "3878it [03:11, 18.62it/s]"
     ]
    },
    {
     "name": "stdout",
     "output_type": "stream",
     "text": [
      "(1, 450, 600, 3)\n",
      "(1, 450, 600, 3)\n",
      "(1, 450, 600, 3)\n",
      "(1, 450, 600, 3)\n",
      "(1, 450, 600, 3)\n"
     ]
    },
    {
     "name": "stderr",
     "output_type": "stream",
     "text": [
      "3885it [03:12, 19.65it/s]"
     ]
    },
    {
     "name": "stdout",
     "output_type": "stream",
     "text": [
      "(1, 450, 600, 3)\n",
      "(1, 450, 600, 3)\n",
      "(1, 450, 600, 3)\n",
      "(1, 450, 600, 3)\n"
     ]
    },
    {
     "name": "stderr",
     "output_type": "stream",
     "text": [
      "3889it [03:12, 18.81it/s]"
     ]
    },
    {
     "name": "stdout",
     "output_type": "stream",
     "text": [
      "(1, 450, 600, 3)\n",
      "(1, 450, 600, 3)\n",
      "(1, 450, 600, 3)\n",
      "(1, 450, 600, 3)\n"
     ]
    },
    {
     "name": "stderr",
     "output_type": "stream",
     "text": [
      "3893it [03:12, 18.80it/s]"
     ]
    },
    {
     "name": "stdout",
     "output_type": "stream",
     "text": [
      "(1, 450, 600, 3)\n",
      "(1, 450, 600, 3)\n",
      "(1, 450, 600, 3)\n",
      "(1, 450, 600, 3)\n"
     ]
    },
    {
     "name": "stderr",
     "output_type": "stream",
     "text": [
      "3897it [03:12, 18.92it/s]"
     ]
    },
    {
     "name": "stdout",
     "output_type": "stream",
     "text": [
      "(1, 450, 600, 3)\n",
      "(1, 450, 600, 3)\n",
      "(1, 450, 600, 3)\n",
      "(1, 450, 600, 3)\n"
     ]
    },
    {
     "name": "stderr",
     "output_type": "stream",
     "text": [
      "3901it [03:12, 18.89it/s]"
     ]
    },
    {
     "name": "stdout",
     "output_type": "stream",
     "text": [
      "(1, 450, 600, 3)\n",
      "(1, 450, 600, 3)\n",
      "(1, 450, 600, 3)\n",
      "(1, 450, 600, 3)\n"
     ]
    },
    {
     "name": "stderr",
     "output_type": "stream",
     "text": [
      "3905it [03:13, 18.51it/s]"
     ]
    },
    {
     "name": "stdout",
     "output_type": "stream",
     "text": [
      "(1, 450, 600, 3)\n",
      "(1, 450, 600, 3)\n",
      "(1, 450, 600, 3)\n",
      "(1, 450, 600, 3)\n"
     ]
    },
    {
     "name": "stderr",
     "output_type": "stream",
     "text": [
      "3909it [03:13, 18.84it/s]"
     ]
    },
    {
     "name": "stdout",
     "output_type": "stream",
     "text": [
      "(1, 450, 600, 3)\n",
      "(1, 450, 600, 3)\n",
      "(1, 450, 600, 3)\n",
      "(1, 450, 600, 3)\n"
     ]
    },
    {
     "name": "stderr",
     "output_type": "stream",
     "text": [
      "\r",
      "3911it [03:13, 18.60it/s]"
     ]
    },
    {
     "name": "stdout",
     "output_type": "stream",
     "text": [
      "(1, 450, 600, 3)\n",
      "(1, 450, 600, 3)\n",
      "(1, 450, 600, 3)\n",
      "(1, 450, 600, 3)\n"
     ]
    },
    {
     "name": "stderr",
     "output_type": "stream",
     "text": [
      "3915it [03:13, 18.04it/s]"
     ]
    },
    {
     "name": "stdout",
     "output_type": "stream",
     "text": [
      "(1, 450, 600, 3)\n",
      "(1, 450, 600, 3)\n",
      "(1, 450, 600, 3)\n"
     ]
    },
    {
     "name": "stderr",
     "output_type": "stream",
     "text": [
      "3919it [03:13, 17.10it/s]"
     ]
    },
    {
     "name": "stdout",
     "output_type": "stream",
     "text": [
      "(1, 450, 600, 3)\n",
      "(1, 450, 600, 3)\n",
      "(1, 450, 600, 3)\n",
      "(1, 450, 600, 3)\n"
     ]
    },
    {
     "name": "stderr",
     "output_type": "stream",
     "text": [
      "3923it [03:14, 17.25it/s]"
     ]
    },
    {
     "name": "stdout",
     "output_type": "stream",
     "text": [
      "(1, 450, 600, 3)\n",
      "(1, 450, 600, 3)\n",
      "(1, 450, 600, 3)\n",
      "(1, 450, 600, 3)\n"
     ]
    },
    {
     "name": "stderr",
     "output_type": "stream",
     "text": [
      "3928it [03:14, 18.65it/s]"
     ]
    },
    {
     "name": "stdout",
     "output_type": "stream",
     "text": [
      "(1, 450, 600, 3)\n",
      "(1, 450, 600, 3)\n",
      "(1, 450, 600, 3)\n",
      "(1, 450, 600, 3)\n",
      "(1, 450, 600, 3)\n"
     ]
    },
    {
     "name": "stderr",
     "output_type": "stream",
     "text": [
      "3932it [03:14, 19.23it/s]"
     ]
    },
    {
     "name": "stdout",
     "output_type": "stream",
     "text": [
      "(1, 450, 600, 3)\n",
      "(1, 450, 600, 3)\n",
      "(1, 450, 600, 3)\n",
      "(1, 450, 600, 3)\n"
     ]
    },
    {
     "name": "stderr",
     "output_type": "stream",
     "text": [
      "3936it [03:14, 18.65it/s]"
     ]
    },
    {
     "name": "stdout",
     "output_type": "stream",
     "text": [
      "(1, 450, 600, 3)\n",
      "(1, 450, 600, 3)\n",
      "(1, 450, 600, 3)\n",
      "(1, 450, 600, 3)\n"
     ]
    },
    {
     "name": "stderr",
     "output_type": "stream",
     "text": [
      "3940it [03:15, 17.74it/s]"
     ]
    },
    {
     "name": "stdout",
     "output_type": "stream",
     "text": [
      "(1, 450, 600, 3)\n",
      "(1, 450, 600, 3)\n",
      "(1, 450, 600, 3)\n",
      "(1, 450, 600, 3)\n"
     ]
    },
    {
     "name": "stderr",
     "output_type": "stream",
     "text": [
      "3944it [03:15, 18.25it/s]"
     ]
    },
    {
     "name": "stdout",
     "output_type": "stream",
     "text": [
      "(1, 450, 600, 3)\n",
      "(1, 450, 600, 3)\n",
      "(1, 450, 600, 3)\n",
      "(1, 450, 600, 3)\n",
      "(1, 450, 600, 3)\n"
     ]
    },
    {
     "name": "stderr",
     "output_type": "stream",
     "text": [
      "3949it [03:15, 19.44it/s]"
     ]
    },
    {
     "name": "stdout",
     "output_type": "stream",
     "text": [
      "(1, 450, 600, 3)\n",
      "(1, 450, 600, 3)\n",
      "(1, 450, 600, 3)\n",
      "(1, 450, 600, 3)\n"
     ]
    },
    {
     "name": "stderr",
     "output_type": "stream",
     "text": [
      "3953it [03:15, 18.52it/s]"
     ]
    },
    {
     "name": "stdout",
     "output_type": "stream",
     "text": [
      "(1, 450, 600, 3)\n",
      "(1, 450, 600, 3)\n",
      "(1, 450, 600, 3)\n",
      "(1, 450, 600, 3)\n",
      "(1, 450, 600, 3)\n"
     ]
    },
    {
     "name": "stderr",
     "output_type": "stream",
     "text": [
      "3959it [03:16, 18.10it/s]"
     ]
    },
    {
     "name": "stdout",
     "output_type": "stream",
     "text": [
      "(1, 450, 600, 3)\n",
      "(1, 450, 600, 3)\n",
      "(1, 450, 600, 3)\n",
      "(1, 450, 600, 3)\n"
     ]
    },
    {
     "name": "stderr",
     "output_type": "stream",
     "text": [
      "3963it [03:16, 18.10it/s]"
     ]
    },
    {
     "name": "stdout",
     "output_type": "stream",
     "text": [
      "(1, 450, 600, 3)\n",
      "(1, 450, 600, 3)\n",
      "(1, 450, 600, 3)\n",
      "(1, 450, 600, 3)\n"
     ]
    },
    {
     "name": "stderr",
     "output_type": "stream",
     "text": [
      "3967it [03:16, 18.96it/s]"
     ]
    },
    {
     "name": "stdout",
     "output_type": "stream",
     "text": [
      "(1, 450, 600, 3)\n",
      "(1, 450, 600, 3)\n",
      "(1, 450, 600, 3)\n",
      "(1, 450, 600, 3)\n"
     ]
    },
    {
     "name": "stderr",
     "output_type": "stream",
     "text": [
      "3971it [03:16, 18.65it/s]"
     ]
    },
    {
     "name": "stdout",
     "output_type": "stream",
     "text": [
      "(1, 450, 600, 3)\n",
      "(1, 450, 600, 3)\n",
      "(1, 450, 600, 3)\n",
      "(1, 450, 600, 3)\n"
     ]
    },
    {
     "name": "stderr",
     "output_type": "stream",
     "text": [
      "3975it [03:16, 19.15it/s]"
     ]
    },
    {
     "name": "stdout",
     "output_type": "stream",
     "text": [
      "(1, 450, 600, 3)\n",
      "(1, 450, 600, 3)\n",
      "(1, 450, 600, 3)\n",
      "(1, 450, 600, 3)\n"
     ]
    },
    {
     "name": "stderr",
     "output_type": "stream",
     "text": [
      "3979it [03:17, 18.70it/s]"
     ]
    },
    {
     "name": "stdout",
     "output_type": "stream",
     "text": [
      "(1, 450, 600, 3)\n",
      "(1, 450, 600, 3)\n",
      "(1, 450, 600, 3)\n",
      "(1, 450, 600, 3)\n",
      "(1, 450, 600, 3)\n"
     ]
    },
    {
     "name": "stderr",
     "output_type": "stream",
     "text": [
      "3983it [03:17, 18.29it/s]"
     ]
    },
    {
     "name": "stdout",
     "output_type": "stream",
     "text": [
      "(1, 450, 600, 3)\n",
      "(1, 450, 600, 3)\n",
      "(1, 450, 600, 3)\n",
      "(1, 450, 600, 3)\n"
     ]
    },
    {
     "name": "stderr",
     "output_type": "stream",
     "text": [
      "3987it [03:17, 19.04it/s]"
     ]
    },
    {
     "name": "stdout",
     "output_type": "stream",
     "text": [
      "(1, 450, 600, 3)\n",
      "(1, 450, 600, 3)\n",
      "(1, 450, 600, 3)\n",
      "(1, 450, 600, 3)\n"
     ]
    },
    {
     "name": "stderr",
     "output_type": "stream",
     "text": [
      "3992it [03:17, 18.89it/s]"
     ]
    },
    {
     "name": "stdout",
     "output_type": "stream",
     "text": [
      "(1, 450, 600, 3)\n",
      "(1, 450, 600, 3)\n",
      "(1, 450, 600, 3)\n",
      "(1, 450, 600, 3)\n",
      "(1, 450, 600, 3)\n"
     ]
    },
    {
     "name": "stderr",
     "output_type": "stream",
     "text": [
      "3996it [03:18, 19.04it/s]"
     ]
    },
    {
     "name": "stdout",
     "output_type": "stream",
     "text": [
      "(1, 450, 600, 3)\n",
      "(1, 450, 600, 3)\n",
      "(1, 450, 600, 3)\n",
      "(1, 450, 600, 3)\n"
     ]
    },
    {
     "name": "stderr",
     "output_type": "stream",
     "text": [
      "4000it [03:18, 19.00it/s]"
     ]
    },
    {
     "name": "stdout",
     "output_type": "stream",
     "text": [
      "(1, 450, 600, 3)\n",
      "(1, 450, 600, 3)\n",
      "(1, 450, 600, 3)\n",
      "(1, 450, 600, 3)\n"
     ]
    },
    {
     "name": "stderr",
     "output_type": "stream",
     "text": [
      "4004it [03:18, 17.63it/s]"
     ]
    },
    {
     "name": "stdout",
     "output_type": "stream",
     "text": [
      "(1, 450, 600, 3)\n",
      "(1, 450, 600, 3)\n",
      "(1, 450, 600, 3)\n",
      "(1, 450, 600, 3)\n"
     ]
    },
    {
     "name": "stderr",
     "output_type": "stream",
     "text": [
      "4008it [03:18, 17.40it/s]"
     ]
    },
    {
     "name": "stdout",
     "output_type": "stream",
     "text": [
      "(1, 450, 600, 3)\n",
      "(1, 450, 600, 3)\n",
      "(1, 450, 600, 3)\n",
      "(1, 450, 600, 3)\n",
      "(1, 450, 600, 3)\n"
     ]
    },
    {
     "name": "stderr",
     "output_type": "stream",
     "text": [
      "4014it [03:19, 17.08it/s]"
     ]
    },
    {
     "name": "stdout",
     "output_type": "stream",
     "text": [
      "(1, 450, 600, 3)\n",
      "(1, 450, 600, 3)\n",
      "(1, 450, 600, 3)\n",
      "(1, 450, 600, 3)\n"
     ]
    },
    {
     "name": "stderr",
     "output_type": "stream",
     "text": [
      "4018it [03:19, 17.91it/s]"
     ]
    },
    {
     "name": "stdout",
     "output_type": "stream",
     "text": [
      "(1, 450, 600, 3)\n",
      "(1, 450, 600, 3)\n",
      "(1, 450, 600, 3)\n",
      "(1, 450, 600, 3)\n"
     ]
    },
    {
     "name": "stderr",
     "output_type": "stream",
     "text": [
      "4022it [03:19, 18.47it/s]"
     ]
    },
    {
     "name": "stdout",
     "output_type": "stream",
     "text": [
      "(1, 450, 600, 3)\n",
      "(1, 450, 600, 3)\n",
      "(1, 450, 600, 3)\n",
      "(1, 450, 600, 3)\n"
     ]
    },
    {
     "name": "stderr",
     "output_type": "stream",
     "text": [
      "\r",
      "4024it [03:19, 18.84it/s]"
     ]
    },
    {
     "name": "stdout",
     "output_type": "stream",
     "text": [
      "(1, 450, 600, 3)\n",
      "(1, 450, 600, 3)\n",
      "(1, 450, 600, 3)\n",
      "(1, 450, 600, 3)\n",
      "(1, 450, 600, 3)\n"
     ]
    },
    {
     "name": "stderr",
     "output_type": "stream",
     "text": [
      "4031it [03:19, 19.37it/s]"
     ]
    },
    {
     "name": "stdout",
     "output_type": "stream",
     "text": [
      "(1, 450, 600, 3)\n",
      "(1, 450, 600, 3)\n",
      "(1, 450, 600, 3)\n",
      "(1, 450, 600, 3)\n"
     ]
    },
    {
     "name": "stderr",
     "output_type": "stream",
     "text": [
      "4035it [03:20, 19.10it/s]"
     ]
    },
    {
     "name": "stdout",
     "output_type": "stream",
     "text": [
      "(1, 450, 600, 3)\n",
      "(1, 450, 600, 3)\n",
      "(1, 450, 600, 3)\n",
      "(1, 450, 600, 3)\n"
     ]
    },
    {
     "name": "stderr",
     "output_type": "stream",
     "text": [
      "4039it [03:20, 18.54it/s]"
     ]
    },
    {
     "name": "stdout",
     "output_type": "stream",
     "text": [
      "(1, 450, 600, 3)\n",
      "(1, 450, 600, 3)\n",
      "(1, 450, 600, 3)\n",
      "(1, 450, 600, 3)\n"
     ]
    },
    {
     "name": "stderr",
     "output_type": "stream",
     "text": [
      "4043it [03:20, 18.35it/s]"
     ]
    },
    {
     "name": "stdout",
     "output_type": "stream",
     "text": [
      "(1, 450, 600, 3)\n",
      "(1, 450, 600, 3)\n",
      "(1, 450, 600, 3)\n",
      "(1, 450, 600, 3)\n"
     ]
    },
    {
     "name": "stderr",
     "output_type": "stream",
     "text": [
      "4047it [03:20, 18.74it/s]"
     ]
    },
    {
     "name": "stdout",
     "output_type": "stream",
     "text": [
      "(1, 450, 600, 3)\n",
      "(1, 450, 600, 3)\n",
      "(1, 450, 600, 3)\n",
      "(1, 450, 600, 3)\n"
     ]
    },
    {
     "name": "stderr",
     "output_type": "stream",
     "text": [
      "4051it [03:21, 18.95it/s]"
     ]
    },
    {
     "name": "stdout",
     "output_type": "stream",
     "text": [
      "(1, 450, 600, 3)\n",
      "(1, 450, 600, 3)\n",
      "(1, 450, 600, 3)\n",
      "(1, 450, 600, 3)\n",
      "(1, 450, 600, 3)\n"
     ]
    },
    {
     "name": "stderr",
     "output_type": "stream",
     "text": [
      "4055it [03:21, 18.00it/s]"
     ]
    },
    {
     "name": "stdout",
     "output_type": "stream",
     "text": [
      "(1, 450, 600, 3)\n",
      "(1, 450, 600, 3)\n",
      "(1, 450, 600, 3)\n",
      "(1, 450, 600, 3)\n"
     ]
    },
    {
     "name": "stderr",
     "output_type": "stream",
     "text": [
      "4059it [03:21, 18.93it/s]"
     ]
    },
    {
     "name": "stdout",
     "output_type": "stream",
     "text": [
      "(1, 450, 600, 3)\n",
      "(1, 450, 600, 3)\n",
      "(1, 450, 600, 3)\n",
      "(1, 450, 600, 3)\n"
     ]
    },
    {
     "name": "stderr",
     "output_type": "stream",
     "text": [
      "4063it [03:21, 18.38it/s]"
     ]
    },
    {
     "name": "stdout",
     "output_type": "stream",
     "text": [
      "(1, 450, 600, 3)\n",
      "(1, 450, 600, 3)\n",
      "(1, 450, 600, 3)\n",
      "(1, 450, 600, 3)\n"
     ]
    },
    {
     "name": "stderr",
     "output_type": "stream",
     "text": [
      "4067it [03:21, 19.15it/s]"
     ]
    },
    {
     "name": "stdout",
     "output_type": "stream",
     "text": [
      "(1, 450, 600, 3)\n",
      "(1, 450, 600, 3)\n",
      "(1, 450, 600, 3)\n",
      "(1, 450, 600, 3)\n"
     ]
    },
    {
     "name": "stderr",
     "output_type": "stream",
     "text": [
      "4071it [03:22, 19.03it/s]"
     ]
    },
    {
     "name": "stdout",
     "output_type": "stream",
     "text": [
      "(1, 450, 600, 3)\n",
      "(1, 450, 600, 3)\n",
      "(1, 450, 600, 3)\n",
      "(1, 450, 600, 3)\n"
     ]
    },
    {
     "name": "stderr",
     "output_type": "stream",
     "text": [
      "4076it [03:22, 19.57it/s]"
     ]
    },
    {
     "name": "stdout",
     "output_type": "stream",
     "text": [
      "(1, 450, 600, 3)\n",
      "(1, 450, 600, 3)\n",
      "(1, 450, 600, 3)\n",
      "(1, 450, 600, 3)\n"
     ]
    },
    {
     "name": "stderr",
     "output_type": "stream",
     "text": [
      "4080it [03:22, 19.41it/s]"
     ]
    },
    {
     "name": "stdout",
     "output_type": "stream",
     "text": [
      "(1, 450, 600, 3)\n",
      "(1, 450, 600, 3)\n",
      "(1, 450, 600, 3)\n",
      "(1, 450, 600, 3)\n",
      "(1, 450, 600, 3)\n"
     ]
    },
    {
     "name": "stderr",
     "output_type": "stream",
     "text": [
      "4084it [03:22, 18.78it/s]"
     ]
    },
    {
     "name": "stdout",
     "output_type": "stream",
     "text": [
      "(1, 450, 600, 3)\n",
      "(1, 450, 600, 3)\n",
      "(1, 450, 600, 3)\n",
      "(1, 450, 600, 3)\n"
     ]
    },
    {
     "name": "stderr",
     "output_type": "stream",
     "text": [
      "4088it [03:23, 18.74it/s]"
     ]
    },
    {
     "name": "stdout",
     "output_type": "stream",
     "text": [
      "(1, 450, 600, 3)\n",
      "(1, 450, 600, 3)\n",
      "(1, 450, 600, 3)\n",
      "(1, 450, 600, 3)\n"
     ]
    },
    {
     "name": "stderr",
     "output_type": "stream",
     "text": [
      "\r",
      "4090it [03:23, 17.15it/s]"
     ]
    },
    {
     "name": "stdout",
     "output_type": "stream",
     "text": [
      "(1, 450, 600, 3)\n",
      "(1, 450, 600, 3)\n",
      "(1, 450, 600, 3)\n"
     ]
    },
    {
     "name": "stderr",
     "output_type": "stream",
     "text": [
      "4096it [03:23, 17.34it/s]"
     ]
    },
    {
     "name": "stdout",
     "output_type": "stream",
     "text": [
      "(1, 450, 600, 3)\n",
      "(1, 450, 600, 3)\n",
      "(1, 450, 600, 3)\n",
      "(1, 450, 600, 3)\n"
     ]
    },
    {
     "name": "stderr",
     "output_type": "stream",
     "text": [
      "\r",
      "4099it [03:23, 17.90it/s]"
     ]
    },
    {
     "name": "stdout",
     "output_type": "stream",
     "text": [
      "(1, 450, 600, 3)\n",
      "(1, 450, 600, 3)\n",
      "(1, 450, 600, 3)\n",
      "(1, 450, 600, 3)\n"
     ]
    },
    {
     "name": "stderr",
     "output_type": "stream",
     "text": [
      "4103it [03:23, 18.50it/s]"
     ]
    },
    {
     "name": "stdout",
     "output_type": "stream",
     "text": [
      "(1, 450, 600, 3)\n",
      "(1, 450, 600, 3)\n",
      "(1, 450, 600, 3)\n",
      "(1, 450, 600, 3)\n"
     ]
    },
    {
     "name": "stderr",
     "output_type": "stream",
     "text": [
      "4107it [03:24, 18.20it/s]"
     ]
    },
    {
     "name": "stdout",
     "output_type": "stream",
     "text": [
      "(1, 450, 600, 3)\n",
      "(1, 450, 600, 3)\n",
      "(1, 450, 600, 3)\n",
      "(1, 450, 600, 3)\n"
     ]
    },
    {
     "name": "stderr",
     "output_type": "stream",
     "text": [
      "4111it [03:24, 17.71it/s]"
     ]
    },
    {
     "name": "stdout",
     "output_type": "stream",
     "text": [
      "(1, 450, 600, 3)\n",
      "(1, 450, 600, 3)\n",
      "(1, 450, 600, 3)\n"
     ]
    },
    {
     "name": "stderr",
     "output_type": "stream",
     "text": [
      "4115it [03:24, 18.29it/s]"
     ]
    },
    {
     "name": "stdout",
     "output_type": "stream",
     "text": [
      "(1, 450, 600, 3)\n",
      "(1, 450, 600, 3)\n",
      "(1, 450, 600, 3)\n",
      "(1, 450, 600, 3)\n"
     ]
    },
    {
     "name": "stderr",
     "output_type": "stream",
     "text": [
      "\r",
      "4118it [03:24, 18.90it/s]"
     ]
    },
    {
     "name": "stdout",
     "output_type": "stream",
     "text": [
      "(1, 450, 600, 3)\n",
      "(1, 450, 600, 3)\n",
      "(1, 450, 600, 3)\n",
      "(1, 450, 600, 3)\n"
     ]
    },
    {
     "name": "stderr",
     "output_type": "stream",
     "text": [
      "4122it [03:24, 19.01it/s]"
     ]
    },
    {
     "name": "stdout",
     "output_type": "stream",
     "text": [
      "(1, 450, 600, 3)\n",
      "(1, 450, 600, 3)\n",
      "(1, 450, 600, 3)\n",
      "(1, 450, 600, 3)\n",
      "(1, 450, 600, 3)\n"
     ]
    },
    {
     "name": "stderr",
     "output_type": "stream",
     "text": [
      "4127it [03:25, 19.04it/s]"
     ]
    },
    {
     "name": "stdout",
     "output_type": "stream",
     "text": [
      "(1, 450, 600, 3)\n",
      "(1, 450, 600, 3)\n",
      "(1, 450, 600, 3)\n",
      "(1, 450, 600, 3)\n"
     ]
    },
    {
     "name": "stderr",
     "output_type": "stream",
     "text": [
      "4131it [03:25, 18.94it/s]"
     ]
    },
    {
     "name": "stdout",
     "output_type": "stream",
     "text": [
      "(1, 450, 600, 3)\n",
      "(1, 450, 600, 3)\n",
      "(1, 450, 600, 3)\n",
      "(1, 450, 600, 3)\n"
     ]
    },
    {
     "name": "stderr",
     "output_type": "stream",
     "text": [
      "4135it [03:25, 18.81it/s]"
     ]
    },
    {
     "name": "stdout",
     "output_type": "stream",
     "text": [
      "(1, 450, 600, 3)\n",
      "(1, 450, 600, 3)\n",
      "(1, 450, 600, 3)\n",
      "(1, 450, 600, 3)\n"
     ]
    },
    {
     "name": "stderr",
     "output_type": "stream",
     "text": [
      "4139it [03:25, 18.41it/s]"
     ]
    },
    {
     "name": "stdout",
     "output_type": "stream",
     "text": [
      "(1, 450, 600, 3)\n",
      "(1, 450, 600, 3)\n",
      "(1, 450, 600, 3)\n",
      "(1, 450, 600, 3)\n"
     ]
    },
    {
     "name": "stderr",
     "output_type": "stream",
     "text": [
      "4144it [03:26, 18.75it/s]"
     ]
    },
    {
     "name": "stdout",
     "output_type": "stream",
     "text": [
      "(1, 450, 600, 3)\n",
      "(1, 450, 600, 3)\n",
      "(1, 450, 600, 3)\n",
      "(1, 450, 600, 3)\n"
     ]
    },
    {
     "name": "stderr",
     "output_type": "stream",
     "text": [
      "4148it [03:26, 18.39it/s]"
     ]
    },
    {
     "name": "stdout",
     "output_type": "stream",
     "text": [
      "(1, 450, 600, 3)\n",
      "(1, 450, 600, 3)\n",
      "(1, 450, 600, 3)\n",
      "(1, 450, 600, 3)\n"
     ]
    },
    {
     "name": "stderr",
     "output_type": "stream",
     "text": [
      "4152it [03:26, 18.96it/s]"
     ]
    },
    {
     "name": "stdout",
     "output_type": "stream",
     "text": [
      "(1, 450, 600, 3)\n",
      "(1, 450, 600, 3)\n",
      "(1, 450, 600, 3)\n",
      "(1, 450, 600, 3)\n"
     ]
    },
    {
     "name": "stderr",
     "output_type": "stream",
     "text": [
      "4156it [03:26, 17.73it/s]"
     ]
    },
    {
     "name": "stdout",
     "output_type": "stream",
     "text": [
      "(1, 450, 600, 3)\n",
      "(1, 450, 600, 3)\n",
      "(1, 450, 600, 3)\n",
      "(1, 450, 600, 3)\n"
     ]
    },
    {
     "name": "stderr",
     "output_type": "stream",
     "text": [
      "4160it [03:26, 18.59it/s]"
     ]
    },
    {
     "name": "stdout",
     "output_type": "stream",
     "text": [
      "(1, 450, 600, 3)\n",
      "(1, 450, 600, 3)\n",
      "(1, 450, 600, 3)\n",
      "(1, 450, 600, 3)\n",
      "(1, 450, 600, 3)\n"
     ]
    },
    {
     "name": "stderr",
     "output_type": "stream",
     "text": [
      "4164it [03:27, 18.46it/s]"
     ]
    },
    {
     "name": "stdout",
     "output_type": "stream",
     "text": [
      "(1, 450, 600, 3)\n",
      "(1, 450, 600, 3)\n",
      "(1, 450, 600, 3)\n",
      "(1, 450, 600, 3)\n"
     ]
    },
    {
     "name": "stderr",
     "output_type": "stream",
     "text": [
      "4168it [03:27, 18.72it/s]"
     ]
    },
    {
     "name": "stdout",
     "output_type": "stream",
     "text": [
      "(1, 450, 600, 3)\n",
      "(1, 450, 600, 3)\n",
      "(1, 450, 600, 3)\n",
      "(1, 450, 600, 3)\n"
     ]
    },
    {
     "name": "stderr",
     "output_type": "stream",
     "text": [
      "4172it [03:27, 18.82it/s]"
     ]
    },
    {
     "name": "stdout",
     "output_type": "stream",
     "text": [
      "(1, 450, 600, 3)\n",
      "(1, 450, 600, 3)\n",
      "(1, 450, 600, 3)\n",
      "(1, 450, 600, 3)\n",
      "(1, 450, 600, 3)\n"
     ]
    },
    {
     "name": "stderr",
     "output_type": "stream",
     "text": [
      "4176it [03:27, 17.13it/s]"
     ]
    },
    {
     "name": "stdout",
     "output_type": "stream",
     "text": [
      "(1, 450, 600, 3)\n",
      "(1, 450, 600, 3)\n",
      "(1, 450, 600, 3)\n",
      "(1, 450, 600, 3)\n"
     ]
    },
    {
     "name": "stderr",
     "output_type": "stream",
     "text": [
      "4181it [03:28, 18.07it/s]"
     ]
    },
    {
     "name": "stdout",
     "output_type": "stream",
     "text": [
      "(1, 450, 600, 3)\n",
      "(1, 450, 600, 3)\n",
      "(1, 450, 600, 3)\n",
      "(1, 450, 600, 3)\n"
     ]
    },
    {
     "name": "stderr",
     "output_type": "stream",
     "text": [
      "4185it [03:28, 18.59it/s]"
     ]
    },
    {
     "name": "stdout",
     "output_type": "stream",
     "text": [
      "(1, 450, 600, 3)\n",
      "(1, 450, 600, 3)\n",
      "(1, 450, 600, 3)\n",
      "(1, 450, 600, 3)\n"
     ]
    },
    {
     "name": "stderr",
     "output_type": "stream",
     "text": [
      "4189it [03:28, 18.89it/s]"
     ]
    },
    {
     "name": "stdout",
     "output_type": "stream",
     "text": [
      "(1, 450, 600, 3)\n",
      "(1, 450, 600, 3)\n",
      "(1, 450, 600, 3)\n",
      "(1, 450, 600, 3)\n"
     ]
    },
    {
     "name": "stderr",
     "output_type": "stream",
     "text": [
      "4193it [03:28, 18.53it/s]"
     ]
    },
    {
     "name": "stdout",
     "output_type": "stream",
     "text": [
      "(1, 450, 600, 3)\n",
      "(1, 450, 600, 3)\n",
      "(1, 450, 600, 3)\n",
      "(1, 450, 600, 3)\n"
     ]
    },
    {
     "name": "stderr",
     "output_type": "stream",
     "text": [
      "4197it [03:28, 18.72it/s]"
     ]
    },
    {
     "name": "stdout",
     "output_type": "stream",
     "text": [
      "(1, 450, 600, 3)\n",
      "(1, 450, 600, 3)\n",
      "(1, 450, 600, 3)\n",
      "(1, 450, 600, 3)\n"
     ]
    },
    {
     "name": "stderr",
     "output_type": "stream",
     "text": [
      "\r",
      "4199it [03:29, 18.55it/s]"
     ]
    },
    {
     "name": "stdout",
     "output_type": "stream",
     "text": [
      "(1, 450, 600, 3)\n",
      "(1, 450, 600, 3)\n",
      "(1, 450, 600, 3)\n",
      "(1, 450, 600, 3)\n"
     ]
    },
    {
     "name": "stderr",
     "output_type": "stream",
     "text": [
      "4206it [03:29, 18.66it/s]"
     ]
    },
    {
     "name": "stdout",
     "output_type": "stream",
     "text": [
      "(1, 450, 600, 3)\n",
      "(1, 450, 600, 3)\n",
      "(1, 450, 600, 3)\n",
      "(1, 450, 600, 3)\n",
      "(1, 450, 600, 3)\n"
     ]
    },
    {
     "name": "stderr",
     "output_type": "stream",
     "text": [
      "4210it [03:29, 18.42it/s]"
     ]
    },
    {
     "name": "stdout",
     "output_type": "stream",
     "text": [
      "(1, 450, 600, 3)\n",
      "(1, 450, 600, 3)\n",
      "(1, 450, 600, 3)\n",
      "(1, 450, 600, 3)\n"
     ]
    },
    {
     "name": "stderr",
     "output_type": "stream",
     "text": [
      "4214it [03:29, 19.07it/s]"
     ]
    },
    {
     "name": "stdout",
     "output_type": "stream",
     "text": [
      "(1, 450, 600, 3)\n",
      "(1, 450, 600, 3)\n",
      "(1, 450, 600, 3)\n",
      "(1, 450, 600, 3)\n"
     ]
    },
    {
     "name": "stderr",
     "output_type": "stream",
     "text": [
      "4218it [03:30, 18.35it/s]"
     ]
    },
    {
     "name": "stdout",
     "output_type": "stream",
     "text": [
      "(1, 450, 600, 3)\n",
      "(1, 450, 600, 3)\n",
      "(1, 450, 600, 3)\n",
      "(1, 450, 600, 3)\n"
     ]
    },
    {
     "name": "stderr",
     "output_type": "stream",
     "text": [
      "4222it [03:30, 18.63it/s]"
     ]
    },
    {
     "name": "stdout",
     "output_type": "stream",
     "text": [
      "(1, 450, 600, 3)\n",
      "(1, 450, 600, 3)\n",
      "(1, 450, 600, 3)\n",
      "(1, 450, 600, 3)\n"
     ]
    },
    {
     "name": "stderr",
     "output_type": "stream",
     "text": [
      "4226it [03:30, 18.64it/s]"
     ]
    },
    {
     "name": "stdout",
     "output_type": "stream",
     "text": [
      "(1, 450, 600, 3)\n",
      "(1, 450, 600, 3)\n",
      "(1, 450, 600, 3)\n",
      "(1, 450, 600, 3)\n"
     ]
    },
    {
     "name": "stderr",
     "output_type": "stream",
     "text": [
      "4230it [03:30, 17.40it/s]"
     ]
    },
    {
     "name": "stdout",
     "output_type": "stream",
     "text": [
      "(1, 450, 600, 3)\n",
      "(1, 450, 600, 3)\n",
      "(1, 450, 600, 3)\n",
      "(1, 450, 600, 3)\n"
     ]
    },
    {
     "name": "stderr",
     "output_type": "stream",
     "text": [
      "4234it [03:30, 18.52it/s]"
     ]
    },
    {
     "name": "stdout",
     "output_type": "stream",
     "text": [
      "(1, 450, 600, 3)\n",
      "(1, 450, 600, 3)\n",
      "(1, 450, 600, 3)\n",
      "(1, 450, 600, 3)\n"
     ]
    },
    {
     "name": "stderr",
     "output_type": "stream",
     "text": [
      "4238it [03:31, 18.26it/s]"
     ]
    },
    {
     "name": "stdout",
     "output_type": "stream",
     "text": [
      "(1, 450, 600, 3)\n",
      "(1, 450, 600, 3)\n",
      "(1, 450, 600, 3)\n",
      "(1, 450, 600, 3)\n"
     ]
    },
    {
     "name": "stderr",
     "output_type": "stream",
     "text": [
      "4242it [03:31, 18.27it/s]"
     ]
    },
    {
     "name": "stdout",
     "output_type": "stream",
     "text": [
      "(1, 450, 600, 3)\n",
      "(1, 450, 600, 3)\n",
      "(1, 450, 600, 3)\n",
      "(1, 450, 600, 3)\n"
     ]
    },
    {
     "name": "stderr",
     "output_type": "stream",
     "text": [
      "4246it [03:31, 18.56it/s]"
     ]
    },
    {
     "name": "stdout",
     "output_type": "stream",
     "text": [
      "(1, 450, 600, 3)\n",
      "(1, 450, 600, 3)\n",
      "(1, 450, 600, 3)\n",
      "(1, 450, 600, 3)\n"
     ]
    },
    {
     "name": "stderr",
     "output_type": "stream",
     "text": [
      "4250it [03:31, 18.01it/s]"
     ]
    },
    {
     "name": "stdout",
     "output_type": "stream",
     "text": [
      "(1, 450, 600, 3)\n",
      "(1, 450, 600, 3)\n",
      "(1, 450, 600, 3)\n",
      "(1, 450, 600, 3)\n"
     ]
    },
    {
     "name": "stderr",
     "output_type": "stream",
     "text": [
      "4254it [03:32, 18.97it/s]"
     ]
    },
    {
     "name": "stdout",
     "output_type": "stream",
     "text": [
      "(1, 450, 600, 3)\n",
      "(1, 450, 600, 3)\n",
      "(1, 450, 600, 3)\n",
      "(1, 450, 600, 3)\n"
     ]
    },
    {
     "name": "stderr",
     "output_type": "stream",
     "text": [
      "4258it [03:32, 18.05it/s]"
     ]
    },
    {
     "name": "stdout",
     "output_type": "stream",
     "text": [
      "(1, 450, 600, 3)\n",
      "(1, 450, 600, 3)\n",
      "(1, 450, 600, 3)\n",
      "(1, 450, 600, 3)\n"
     ]
    },
    {
     "name": "stderr",
     "output_type": "stream",
     "text": [
      "4262it [03:32, 16.95it/s]"
     ]
    },
    {
     "name": "stdout",
     "output_type": "stream",
     "text": [
      "(1, 450, 600, 3)\n",
      "(1, 450, 600, 3)\n",
      "(1, 450, 600, 3)\n"
     ]
    },
    {
     "name": "stderr",
     "output_type": "stream",
     "text": [
      "4266it [03:32, 17.40it/s]"
     ]
    },
    {
     "name": "stdout",
     "output_type": "stream",
     "text": [
      "(1, 450, 600, 3)\n",
      "(1, 450, 600, 3)\n",
      "(1, 450, 600, 3)\n",
      "(1, 450, 600, 3)\n"
     ]
    },
    {
     "name": "stderr",
     "output_type": "stream",
     "text": [
      "4270it [03:32, 17.80it/s]"
     ]
    },
    {
     "name": "stdout",
     "output_type": "stream",
     "text": [
      "(1, 450, 600, 3)\n",
      "(1, 450, 600, 3)\n",
      "(1, 450, 600, 3)\n",
      "(1, 450, 600, 3)\n"
     ]
    },
    {
     "name": "stderr",
     "output_type": "stream",
     "text": [
      "\r",
      "4273it [03:33, 18.60it/s]"
     ]
    },
    {
     "name": "stdout",
     "output_type": "stream",
     "text": [
      "(1, 450, 600, 3)\n",
      "(1, 450, 600, 3)\n",
      "(1, 450, 600, 3)\n",
      "(1, 450, 600, 3)\n"
     ]
    },
    {
     "name": "stderr",
     "output_type": "stream",
     "text": [
      "4277it [03:33, 18.40it/s]"
     ]
    },
    {
     "name": "stdout",
     "output_type": "stream",
     "text": [
      "(1, 450, 600, 3)\n",
      "(1, 450, 600, 3)\n",
      "(1, 450, 600, 3)\n",
      "(1, 450, 600, 3)\n"
     ]
    },
    {
     "name": "stderr",
     "output_type": "stream",
     "text": [
      "4281it [03:33, 19.07it/s]"
     ]
    },
    {
     "name": "stdout",
     "output_type": "stream",
     "text": [
      "(1, 450, 600, 3)\n",
      "(1, 450, 600, 3)\n",
      "(1, 450, 600, 3)\n",
      "(1, 450, 600, 3)\n"
     ]
    },
    {
     "name": "stderr",
     "output_type": "stream",
     "text": [
      "4285it [03:33, 18.61it/s]"
     ]
    },
    {
     "name": "stdout",
     "output_type": "stream",
     "text": [
      "(1, 450, 600, 3)\n",
      "(1, 450, 600, 3)\n",
      "(1, 450, 600, 3)\n",
      "(1, 450, 600, 3)\n"
     ]
    },
    {
     "name": "stderr",
     "output_type": "stream",
     "text": [
      "4289it [03:34, 18.38it/s]"
     ]
    },
    {
     "name": "stdout",
     "output_type": "stream",
     "text": [
      "(1, 450, 600, 3)\n",
      "(1, 450, 600, 3)\n",
      "(1, 450, 600, 3)\n",
      "(1, 450, 600, 3)\n"
     ]
    },
    {
     "name": "stderr",
     "output_type": "stream",
     "text": [
      "\r",
      "4292it [03:34, 18.54it/s]"
     ]
    },
    {
     "name": "stdout",
     "output_type": "stream",
     "text": [
      "(1, 450, 600, 3)\n",
      "(1, 450, 600, 3)\n",
      "(1, 450, 600, 3)\n",
      "(1, 450, 600, 3)\n"
     ]
    },
    {
     "name": "stderr",
     "output_type": "stream",
     "text": [
      "4298it [03:34, 18.91it/s]"
     ]
    },
    {
     "name": "stdout",
     "output_type": "stream",
     "text": [
      "(1, 450, 600, 3)\n",
      "(1, 450, 600, 3)\n",
      "(1, 450, 600, 3)\n",
      "(1, 450, 600, 3)\n",
      "(1, 450, 600, 3)\n"
     ]
    },
    {
     "name": "stderr",
     "output_type": "stream",
     "text": [
      "4302it [03:34, 18.54it/s]"
     ]
    },
    {
     "name": "stdout",
     "output_type": "stream",
     "text": [
      "(1, 450, 600, 3)\n",
      "(1, 450, 600, 3)\n",
      "(1, 450, 600, 3)\n",
      "(1, 450, 600, 3)\n"
     ]
    },
    {
     "name": "stderr",
     "output_type": "stream",
     "text": [
      "4306it [03:34, 18.49it/s]"
     ]
    },
    {
     "name": "stdout",
     "output_type": "stream",
     "text": [
      "(1, 450, 600, 3)\n",
      "(1, 450, 600, 3)\n",
      "(1, 450, 600, 3)\n",
      "(1, 450, 600, 3)\n"
     ]
    },
    {
     "name": "stderr",
     "output_type": "stream",
     "text": [
      "4310it [03:35, 18.66it/s]"
     ]
    },
    {
     "name": "stdout",
     "output_type": "stream",
     "text": [
      "(1, 450, 600, 3)\n",
      "(1, 450, 600, 3)\n",
      "(1, 450, 600, 3)\n",
      "(1, 450, 600, 3)\n"
     ]
    },
    {
     "name": "stderr",
     "output_type": "stream",
     "text": [
      "4314it [03:35, 17.65it/s]"
     ]
    },
    {
     "name": "stdout",
     "output_type": "stream",
     "text": [
      "(1, 450, 600, 3)\n",
      "(1, 450, 600, 3)\n",
      "(1, 450, 600, 3)\n",
      "(1, 450, 600, 3)\n"
     ]
    },
    {
     "name": "stderr",
     "output_type": "stream",
     "text": [
      "4318it [03:35, 18.62it/s]"
     ]
    },
    {
     "name": "stdout",
     "output_type": "stream",
     "text": [
      "(1, 450, 600, 3)\n",
      "(1, 450, 600, 3)\n",
      "(1, 450, 600, 3)\n",
      "(1, 450, 600, 3)\n"
     ]
    },
    {
     "name": "stderr",
     "output_type": "stream",
     "text": [
      "4322it [03:35, 18.79it/s]"
     ]
    },
    {
     "name": "stdout",
     "output_type": "stream",
     "text": [
      "(1, 450, 600, 3)\n",
      "(1, 450, 600, 3)\n",
      "(1, 450, 600, 3)\n",
      "(1, 450, 600, 3)\n"
     ]
    },
    {
     "name": "stderr",
     "output_type": "stream",
     "text": [
      "4326it [03:36, 18.82it/s]"
     ]
    },
    {
     "name": "stdout",
     "output_type": "stream",
     "text": [
      "(1, 450, 600, 3)\n",
      "(1, 450, 600, 3)\n",
      "(1, 450, 600, 3)\n",
      "(1, 450, 600, 3)\n"
     ]
    },
    {
     "name": "stderr",
     "output_type": "stream",
     "text": [
      "4330it [03:36, 18.39it/s]"
     ]
    },
    {
     "name": "stdout",
     "output_type": "stream",
     "text": [
      "(1, 450, 600, 3)\n",
      "(1, 450, 600, 3)\n",
      "(1, 450, 600, 3)\n",
      "(1, 450, 600, 3)\n"
     ]
    },
    {
     "name": "stderr",
     "output_type": "stream",
     "text": [
      "4334it [03:36, 18.32it/s]"
     ]
    },
    {
     "name": "stdout",
     "output_type": "stream",
     "text": [
      "(1, 450, 600, 3)\n",
      "(1, 450, 600, 3)\n",
      "(1, 450, 600, 3)\n",
      "(1, 450, 600, 3)\n"
     ]
    },
    {
     "name": "stderr",
     "output_type": "stream",
     "text": [
      "4338it [03:36, 18.54it/s]"
     ]
    },
    {
     "name": "stdout",
     "output_type": "stream",
     "text": [
      "(1, 450, 600, 3)\n",
      "(1, 450, 600, 3)\n",
      "(1, 450, 600, 3)\n",
      "(1, 450, 600, 3)\n"
     ]
    },
    {
     "name": "stderr",
     "output_type": "stream",
     "text": [
      "4342it [03:36, 18.81it/s]"
     ]
    },
    {
     "name": "stdout",
     "output_type": "stream",
     "text": [
      "(1, 450, 600, 3)\n",
      "(1, 450, 600, 3)\n",
      "(1, 450, 600, 3)\n",
      "(1, 450, 600, 3)\n"
     ]
    },
    {
     "name": "stderr",
     "output_type": "stream",
     "text": [
      "4346it [03:37, 17.16it/s]"
     ]
    },
    {
     "name": "stdout",
     "output_type": "stream",
     "text": [
      "(1, 450, 600, 3)\n",
      "(1, 450, 600, 3)\n",
      "(1, 450, 600, 3)\n",
      "(1, 450, 600, 3)\n"
     ]
    },
    {
     "name": "stderr",
     "output_type": "stream",
     "text": [
      "4350it [03:37, 16.69it/s]"
     ]
    },
    {
     "name": "stdout",
     "output_type": "stream",
     "text": [
      "(1, 450, 600, 3)\n",
      "(1, 450, 600, 3)\n",
      "(1, 450, 600, 3)\n",
      "(1, 450, 600, 3)\n"
     ]
    },
    {
     "name": "stderr",
     "output_type": "stream",
     "text": [
      "4354it [03:37, 17.73it/s]"
     ]
    },
    {
     "name": "stdout",
     "output_type": "stream",
     "text": [
      "(1, 450, 600, 3)\n",
      "(1, 450, 600, 3)\n",
      "(1, 450, 600, 3)\n",
      "(1, 450, 600, 3)\n"
     ]
    },
    {
     "name": "stderr",
     "output_type": "stream",
     "text": [
      "4358it [03:37, 17.95it/s]"
     ]
    },
    {
     "name": "stdout",
     "output_type": "stream",
     "text": [
      "(1, 450, 600, 3)\n",
      "(1, 450, 600, 3)\n",
      "(1, 450, 600, 3)\n",
      "(1, 450, 600, 3)\n"
     ]
    },
    {
     "name": "stderr",
     "output_type": "stream",
     "text": [
      "4362it [03:38, 18.57it/s]"
     ]
    },
    {
     "name": "stdout",
     "output_type": "stream",
     "text": [
      "(1, 450, 600, 3)\n",
      "(1, 450, 600, 3)\n",
      "(1, 450, 600, 3)\n",
      "(1, 450, 600, 3)\n",
      "(1, 450, 600, 3)\n"
     ]
    },
    {
     "name": "stderr",
     "output_type": "stream",
     "text": [
      "4368it [03:38, 18.29it/s]"
     ]
    },
    {
     "name": "stdout",
     "output_type": "stream",
     "text": [
      "(1, 450, 600, 3)\n",
      "(1, 450, 600, 3)\n",
      "(1, 450, 600, 3)\n",
      "(1, 450, 600, 3)\n"
     ]
    },
    {
     "name": "stderr",
     "output_type": "stream",
     "text": [
      "\r",
      "4371it [03:38, 18.93it/s]"
     ]
    },
    {
     "name": "stdout",
     "output_type": "stream",
     "text": [
      "(1, 450, 600, 3)\n",
      "(1, 450, 600, 3)\n",
      "(1, 450, 600, 3)\n",
      "(1, 450, 600, 3)\n"
     ]
    },
    {
     "name": "stderr",
     "output_type": "stream",
     "text": [
      "4376it [03:38, 18.04it/s]"
     ]
    },
    {
     "name": "stdout",
     "output_type": "stream",
     "text": [
      "(1, 450, 600, 3)\n",
      "(1, 450, 600, 3)\n",
      "(1, 450, 600, 3)\n",
      "(1, 450, 600, 3)\n"
     ]
    },
    {
     "name": "stderr",
     "output_type": "stream",
     "text": [
      "4380it [03:38, 18.42it/s]"
     ]
    },
    {
     "name": "stdout",
     "output_type": "stream",
     "text": [
      "(1, 450, 600, 3)\n",
      "(1, 450, 600, 3)\n",
      "(1, 450, 600, 3)\n",
      "(1, 450, 600, 3)\n"
     ]
    },
    {
     "name": "stderr",
     "output_type": "stream",
     "text": [
      "4384it [03:39, 19.15it/s]"
     ]
    },
    {
     "name": "stdout",
     "output_type": "stream",
     "text": [
      "(1, 450, 600, 3)\n",
      "(1, 450, 600, 3)\n",
      "(1, 450, 600, 3)\n",
      "(1, 450, 600, 3)\n"
     ]
    },
    {
     "name": "stderr",
     "output_type": "stream",
     "text": [
      "4388it [03:39, 17.94it/s]"
     ]
    },
    {
     "name": "stdout",
     "output_type": "stream",
     "text": [
      "(1, 450, 600, 3)\n",
      "(1, 450, 600, 3)\n",
      "(1, 450, 600, 3)\n",
      "(1, 450, 600, 3)\n",
      "(1, 450, 600, 3)\n"
     ]
    },
    {
     "name": "stderr",
     "output_type": "stream",
     "text": [
      "\r",
      "4391it [03:39, 18.28it/s]"
     ]
    },
    {
     "name": "stdout",
     "output_type": "stream",
     "text": [
      "(1, 450, 600, 3)\n",
      "(1, 450, 600, 3)\n",
      "(1, 450, 600, 3)\n"
     ]
    },
    {
     "name": "stderr",
     "output_type": "stream",
     "text": [
      "4396it [03:39, 18.23it/s]"
     ]
    },
    {
     "name": "stdout",
     "output_type": "stream",
     "text": [
      "(1, 450, 600, 3)\n",
      "(1, 450, 600, 3)\n",
      "(1, 450, 600, 3)\n",
      "(1, 450, 600, 3)\n"
     ]
    },
    {
     "name": "stderr",
     "output_type": "stream",
     "text": [
      "4400it [03:40, 18.68it/s]"
     ]
    },
    {
     "name": "stdout",
     "output_type": "stream",
     "text": [
      "(1, 450, 600, 3)\n",
      "(1, 450, 600, 3)\n",
      "(1, 450, 600, 3)\n",
      "(1, 450, 600, 3)\n",
      "(1, 450, 600, 3)\n"
     ]
    },
    {
     "name": "stderr",
     "output_type": "stream",
     "text": [
      "\r",
      "4403it [03:40, 18.70it/s]"
     ]
    },
    {
     "name": "stdout",
     "output_type": "stream",
     "text": [
      "(1, 450, 600, 3)\n",
      "(1, 450, 600, 3)\n",
      "(1, 450, 600, 3)\n",
      "(1, 450, 600, 3)\n"
     ]
    },
    {
     "name": "stderr",
     "output_type": "stream",
     "text": [
      "4409it [03:40, 18.60it/s]"
     ]
    },
    {
     "name": "stdout",
     "output_type": "stream",
     "text": [
      "(1, 450, 600, 3)\n",
      "(1, 450, 600, 3)\n",
      "(1, 450, 600, 3)\n",
      "(1, 450, 600, 3)\n"
     ]
    },
    {
     "name": "stderr",
     "output_type": "stream",
     "text": [
      "4413it [03:40, 18.20it/s]"
     ]
    },
    {
     "name": "stdout",
     "output_type": "stream",
     "text": [
      "(1, 450, 600, 3)\n",
      "(1, 450, 600, 3)\n",
      "(1, 450, 600, 3)\n",
      "(1, 450, 600, 3)\n"
     ]
    },
    {
     "name": "stderr",
     "output_type": "stream",
     "text": [
      "4417it [03:41, 18.69it/s]"
     ]
    },
    {
     "name": "stdout",
     "output_type": "stream",
     "text": [
      "(1, 450, 600, 3)\n",
      "(1, 450, 600, 3)\n",
      "(1, 450, 600, 3)\n",
      "(1, 450, 600, 3)\n",
      "(1, 450, 600, 3)\n"
     ]
    },
    {
     "name": "stderr",
     "output_type": "stream",
     "text": [
      "4421it [03:41, 18.45it/s]"
     ]
    },
    {
     "name": "stdout",
     "output_type": "stream",
     "text": [
      "(1, 450, 600, 3)\n",
      "(1, 450, 600, 3)\n",
      "(1, 450, 600, 3)\n",
      "(1, 450, 600, 3)\n"
     ]
    },
    {
     "name": "stderr",
     "output_type": "stream",
     "text": [
      "4425it [03:41, 17.82it/s]"
     ]
    },
    {
     "name": "stdout",
     "output_type": "stream",
     "text": [
      "(1, 450, 600, 3)\n",
      "(1, 450, 600, 3)\n",
      "(1, 450, 600, 3)\n",
      "(1, 450, 600, 3)\n"
     ]
    },
    {
     "name": "stderr",
     "output_type": "stream",
     "text": [
      "4429it [03:41, 16.66it/s]"
     ]
    },
    {
     "name": "stdout",
     "output_type": "stream",
     "text": [
      "(1, 450, 600, 3)\n",
      "(1, 450, 600, 3)\n",
      "(1, 450, 600, 3)\n"
     ]
    },
    {
     "name": "stderr",
     "output_type": "stream",
     "text": [
      "4433it [03:41, 16.79it/s]"
     ]
    },
    {
     "name": "stdout",
     "output_type": "stream",
     "text": [
      "(1, 450, 600, 3)\n",
      "(1, 450, 600, 3)\n",
      "(1, 450, 600, 3)\n",
      "(1, 450, 600, 3)\n"
     ]
    },
    {
     "name": "stderr",
     "output_type": "stream",
     "text": [
      "4437it [03:42, 18.28it/s]"
     ]
    },
    {
     "name": "stdout",
     "output_type": "stream",
     "text": [
      "(1, 450, 600, 3)\n",
      "(1, 450, 600, 3)\n",
      "(1, 450, 600, 3)\n",
      "(1, 450, 600, 3)\n",
      "(1, 450, 600, 3)\n"
     ]
    },
    {
     "name": "stderr",
     "output_type": "stream",
     "text": [
      "4441it [03:42, 17.75it/s]"
     ]
    },
    {
     "name": "stdout",
     "output_type": "stream",
     "text": [
      "(1, 450, 600, 3)\n",
      "(1, 450, 600, 3)\n",
      "(1, 450, 600, 3)\n",
      "(1, 450, 600, 3)\n"
     ]
    },
    {
     "name": "stderr",
     "output_type": "stream",
     "text": [
      "4445it [03:42, 17.95it/s]"
     ]
    },
    {
     "name": "stdout",
     "output_type": "stream",
     "text": [
      "(1, 450, 600, 3)\n",
      "(1, 450, 600, 3)\n",
      "(1, 450, 600, 3)\n",
      "(1, 450, 600, 3)\n"
     ]
    },
    {
     "name": "stderr",
     "output_type": "stream",
     "text": [
      "4450it [03:42, 18.71it/s]"
     ]
    },
    {
     "name": "stdout",
     "output_type": "stream",
     "text": [
      "(1, 450, 600, 3)\n",
      "(1, 450, 600, 3)\n",
      "(1, 450, 600, 3)\n",
      "(1, 450, 600, 3)\n"
     ]
    },
    {
     "name": "stderr",
     "output_type": "stream",
     "text": [
      "4454it [03:43, 18.45it/s]"
     ]
    },
    {
     "name": "stdout",
     "output_type": "stream",
     "text": [
      "(1, 450, 600, 3)\n",
      "(1, 450, 600, 3)\n",
      "(1, 450, 600, 3)\n",
      "(1, 450, 600, 3)\n",
      "(1, 450, 600, 3)\n"
     ]
    },
    {
     "name": "stderr",
     "output_type": "stream",
     "text": [
      "4459it [03:43, 18.44it/s]"
     ]
    },
    {
     "name": "stdout",
     "output_type": "stream",
     "text": [
      "(1, 450, 600, 3)\n",
      "(1, 450, 600, 3)\n",
      "(1, 450, 600, 3)\n",
      "(1, 450, 600, 3)\n"
     ]
    },
    {
     "name": "stderr",
     "output_type": "stream",
     "text": [
      "4463it [03:43, 18.32it/s]"
     ]
    },
    {
     "name": "stdout",
     "output_type": "stream",
     "text": [
      "(1, 450, 600, 3)\n",
      "(1, 450, 600, 3)\n",
      "(1, 450, 600, 3)\n",
      "(1, 450, 600, 3)\n"
     ]
    },
    {
     "name": "stderr",
     "output_type": "stream",
     "text": [
      "4467it [03:43, 18.27it/s]"
     ]
    },
    {
     "name": "stdout",
     "output_type": "stream",
     "text": [
      "(1, 450, 600, 3)\n",
      "(1, 450, 600, 3)\n",
      "(1, 450, 600, 3)\n",
      "(1, 450, 600, 3)\n"
     ]
    },
    {
     "name": "stderr",
     "output_type": "stream",
     "text": [
      "4471it [03:44, 18.01it/s]"
     ]
    },
    {
     "name": "stdout",
     "output_type": "stream",
     "text": [
      "(1, 450, 600, 3)\n",
      "(1, 450, 600, 3)\n",
      "(1, 450, 600, 3)\n",
      "(1, 450, 600, 3)\n"
     ]
    },
    {
     "name": "stderr",
     "output_type": "stream",
     "text": [
      "\r",
      "4474it [03:44, 18.73it/s]"
     ]
    },
    {
     "name": "stdout",
     "output_type": "stream",
     "text": [
      "(1, 450, 600, 3)\n",
      "(1, 450, 600, 3)\n",
      "(1, 450, 600, 3)\n",
      "(1, 450, 600, 3)\n"
     ]
    },
    {
     "name": "stderr",
     "output_type": "stream",
     "text": [
      "4478it [03:44, 18.16it/s]"
     ]
    },
    {
     "name": "stdout",
     "output_type": "stream",
     "text": [
      "(1, 450, 600, 3)\n",
      "(1, 450, 600, 3)\n",
      "(1, 450, 600, 3)\n",
      "(1, 450, 600, 3)\n"
     ]
    },
    {
     "name": "stderr",
     "output_type": "stream",
     "text": [
      "4482it [03:44, 18.63it/s]"
     ]
    },
    {
     "name": "stdout",
     "output_type": "stream",
     "text": [
      "(1, 450, 600, 3)\n",
      "(1, 450, 600, 3)\n",
      "(1, 450, 600, 3)\n",
      "(1, 450, 600, 3)\n"
     ]
    },
    {
     "name": "stderr",
     "output_type": "stream",
     "text": [
      "4486it [03:44, 18.08it/s]"
     ]
    },
    {
     "name": "stdout",
     "output_type": "stream",
     "text": [
      "(1, 450, 600, 3)\n",
      "(1, 450, 600, 3)\n",
      "(1, 450, 600, 3)\n",
      "(1, 450, 600, 3)\n"
     ]
    },
    {
     "name": "stderr",
     "output_type": "stream",
     "text": [
      "4490it [03:45, 18.49it/s]"
     ]
    },
    {
     "name": "stdout",
     "output_type": "stream",
     "text": [
      "(1, 450, 600, 3)\n",
      "(1, 450, 600, 3)\n",
      "(1, 450, 600, 3)\n",
      "(1, 450, 600, 3)\n"
     ]
    },
    {
     "name": "stderr",
     "output_type": "stream",
     "text": [
      "4494it [03:45, 18.26it/s]"
     ]
    },
    {
     "name": "stdout",
     "output_type": "stream",
     "text": [
      "(1, 450, 600, 3)\n",
      "(1, 450, 600, 3)\n",
      "(1, 450, 600, 3)\n",
      "(1, 450, 600, 3)\n"
     ]
    },
    {
     "name": "stderr",
     "output_type": "stream",
     "text": [
      "4498it [03:45, 18.63it/s]"
     ]
    },
    {
     "name": "stdout",
     "output_type": "stream",
     "text": [
      "(1, 450, 600, 3)\n",
      "(1, 450, 600, 3)\n",
      "(1, 450, 600, 3)\n",
      "(1, 450, 600, 3)\n"
     ]
    },
    {
     "name": "stderr",
     "output_type": "stream",
     "text": [
      "4502it [03:45, 18.73it/s]"
     ]
    },
    {
     "name": "stdout",
     "output_type": "stream",
     "text": [
      "(1, 450, 600, 3)\n",
      "(1, 450, 600, 3)\n",
      "(1, 450, 600, 3)\n",
      "(1, 450, 600, 3)\n"
     ]
    },
    {
     "name": "stderr",
     "output_type": "stream",
     "text": [
      "4506it [03:45, 18.77it/s]"
     ]
    },
    {
     "name": "stdout",
     "output_type": "stream",
     "text": [
      "(1, 450, 600, 3)\n",
      "(1, 450, 600, 3)\n",
      "(1, 450, 600, 3)\n",
      "(1, 450, 600, 3)\n"
     ]
    },
    {
     "name": "stderr",
     "output_type": "stream",
     "text": [
      "4510it [03:46, 18.65it/s]"
     ]
    },
    {
     "name": "stdout",
     "output_type": "stream",
     "text": [
      "(1, 450, 600, 3)\n",
      "(1, 450, 600, 3)\n",
      "(1, 450, 600, 3)\n",
      "(1, 450, 600, 3)\n"
     ]
    },
    {
     "name": "stderr",
     "output_type": "stream",
     "text": [
      "4514it [03:46, 16.39it/s]"
     ]
    },
    {
     "name": "stdout",
     "output_type": "stream",
     "text": [
      "(1, 450, 600, 3)\n",
      "(1, 450, 600, 3)\n",
      "(1, 450, 600, 3)\n"
     ]
    },
    {
     "name": "stderr",
     "output_type": "stream",
     "text": [
      "4518it [03:46, 16.28it/s]"
     ]
    },
    {
     "name": "stdout",
     "output_type": "stream",
     "text": [
      "(1, 450, 600, 3)\n",
      "(1, 450, 600, 3)\n",
      "(1, 450, 600, 3)\n",
      "(1, 450, 600, 3)\n"
     ]
    },
    {
     "name": "stderr",
     "output_type": "stream",
     "text": [
      "4522it [03:46, 17.50it/s]"
     ]
    },
    {
     "name": "stdout",
     "output_type": "stream",
     "text": [
      "(1, 450, 600, 3)\n",
      "(1, 450, 600, 3)\n",
      "(1, 450, 600, 3)\n",
      "(1, 450, 600, 3)\n"
     ]
    },
    {
     "name": "stderr",
     "output_type": "stream",
     "text": [
      "4526it [03:47, 18.24it/s]"
     ]
    },
    {
     "name": "stdout",
     "output_type": "stream",
     "text": [
      "(1, 450, 600, 3)\n",
      "(1, 450, 600, 3)\n",
      "(1, 450, 600, 3)\n",
      "(1, 450, 600, 3)\n"
     ]
    },
    {
     "name": "stderr",
     "output_type": "stream",
     "text": [
      "4530it [03:47, 18.58it/s]"
     ]
    },
    {
     "name": "stdout",
     "output_type": "stream",
     "text": [
      "(1, 450, 600, 3)\n",
      "(1, 450, 600, 3)\n",
      "(1, 450, 600, 3)\n",
      "(1, 450, 600, 3)\n"
     ]
    },
    {
     "name": "stderr",
     "output_type": "stream",
     "text": [
      "4534it [03:47, 18.41it/s]"
     ]
    },
    {
     "name": "stdout",
     "output_type": "stream",
     "text": [
      "(1, 450, 600, 3)\n",
      "(1, 450, 600, 3)\n",
      "(1, 450, 600, 3)\n",
      "(1, 450, 600, 3)\n"
     ]
    },
    {
     "name": "stderr",
     "output_type": "stream",
     "text": [
      "4538it [03:47, 18.61it/s]"
     ]
    },
    {
     "name": "stdout",
     "output_type": "stream",
     "text": [
      "(1, 450, 600, 3)\n",
      "(1, 450, 600, 3)\n",
      "(1, 450, 600, 3)\n",
      "(1, 450, 600, 3)\n"
     ]
    },
    {
     "name": "stderr",
     "output_type": "stream",
     "text": [
      "\r",
      "4540it [03:47, 18.50it/s]"
     ]
    },
    {
     "name": "stdout",
     "output_type": "stream",
     "text": [
      "(1, 450, 600, 3)\n",
      "(1, 450, 600, 3)\n",
      "(1, 450, 600, 3)\n",
      "(1, 450, 600, 3)\n"
     ]
    },
    {
     "name": "stderr",
     "output_type": "stream",
     "text": [
      "4546it [03:48, 18.92it/s]"
     ]
    },
    {
     "name": "stdout",
     "output_type": "stream",
     "text": [
      "(1, 450, 600, 3)\n",
      "(1, 450, 600, 3)\n",
      "(1, 450, 600, 3)\n",
      "(1, 450, 600, 3)\n"
     ]
    },
    {
     "name": "stderr",
     "output_type": "stream",
     "text": [
      "4550it [03:48, 18.69it/s]"
     ]
    },
    {
     "name": "stdout",
     "output_type": "stream",
     "text": [
      "(1, 450, 600, 3)\n",
      "(1, 450, 600, 3)\n",
      "(1, 450, 600, 3)\n",
      "(1, 450, 600, 3)\n"
     ]
    },
    {
     "name": "stderr",
     "output_type": "stream",
     "text": [
      "4554it [03:48, 19.32it/s]"
     ]
    },
    {
     "name": "stdout",
     "output_type": "stream",
     "text": [
      "(1, 450, 600, 3)\n",
      "(1, 450, 600, 3)\n",
      "(1, 450, 600, 3)\n",
      "(1, 450, 600, 3)\n"
     ]
    },
    {
     "name": "stderr",
     "output_type": "stream",
     "text": [
      "4558it [03:48, 18.74it/s]"
     ]
    },
    {
     "name": "stdout",
     "output_type": "stream",
     "text": [
      "(1, 450, 600, 3)\n",
      "(1, 450, 600, 3)\n",
      "(1, 450, 600, 3)\n",
      "(1, 450, 600, 3)\n"
     ]
    },
    {
     "name": "stderr",
     "output_type": "stream",
     "text": [
      "4562it [03:49, 18.08it/s]"
     ]
    },
    {
     "name": "stdout",
     "output_type": "stream",
     "text": [
      "(1, 450, 600, 3)\n",
      "(1, 450, 600, 3)\n",
      "(1, 450, 600, 3)\n",
      "(1, 450, 600, 3)\n"
     ]
    },
    {
     "name": "stderr",
     "output_type": "stream",
     "text": [
      "4566it [03:49, 18.15it/s]"
     ]
    },
    {
     "name": "stdout",
     "output_type": "stream",
     "text": [
      "(1, 450, 600, 3)\n",
      "(1, 450, 600, 3)\n",
      "(1, 450, 600, 3)\n",
      "(1, 450, 600, 3)\n"
     ]
    },
    {
     "name": "stderr",
     "output_type": "stream",
     "text": [
      "4570it [03:49, 17.69it/s]"
     ]
    },
    {
     "name": "stdout",
     "output_type": "stream",
     "text": [
      "(1, 450, 600, 3)\n",
      "(1, 450, 600, 3)\n",
      "(1, 450, 600, 3)\n",
      "(1, 450, 600, 3)\n"
     ]
    },
    {
     "name": "stderr",
     "output_type": "stream",
     "text": [
      "\r",
      "4573it [03:49, 18.50it/s]"
     ]
    },
    {
     "name": "stdout",
     "output_type": "stream",
     "text": [
      "(1, 450, 600, 3)\n",
      "(1, 450, 600, 3)\n",
      "(1, 450, 600, 3)\n",
      "(1, 450, 600, 3)\n"
     ]
    },
    {
     "name": "stderr",
     "output_type": "stream",
     "text": [
      "4577it [03:49, 18.37it/s]"
     ]
    },
    {
     "name": "stdout",
     "output_type": "stream",
     "text": [
      "(1, 450, 600, 3)\n",
      "(1, 450, 600, 3)\n",
      "(1, 450, 600, 3)\n",
      "(1, 450, 600, 3)\n"
     ]
    },
    {
     "name": "stderr",
     "output_type": "stream",
     "text": [
      "4581it [03:50, 18.38it/s]"
     ]
    },
    {
     "name": "stdout",
     "output_type": "stream",
     "text": [
      "(1, 450, 600, 3)\n",
      "(1, 450, 600, 3)\n",
      "(1, 450, 600, 3)\n",
      "(1, 450, 600, 3)\n"
     ]
    },
    {
     "name": "stderr",
     "output_type": "stream",
     "text": [
      "4586it [03:50, 18.49it/s]"
     ]
    },
    {
     "name": "stdout",
     "output_type": "stream",
     "text": [
      "(1, 450, 600, 3)\n",
      "(1, 450, 600, 3)\n",
      "(1, 450, 600, 3)\n",
      "(1, 450, 600, 3)\n"
     ]
    },
    {
     "name": "stderr",
     "output_type": "stream",
     "text": [
      "4590it [03:50, 17.98it/s]"
     ]
    },
    {
     "name": "stdout",
     "output_type": "stream",
     "text": [
      "(1, 450, 600, 3)\n",
      "(1, 450, 600, 3)\n",
      "(1, 450, 600, 3)\n",
      "(1, 450, 600, 3)\n"
     ]
    },
    {
     "name": "stderr",
     "output_type": "stream",
     "text": [
      "4594it [03:50, 18.27it/s]"
     ]
    },
    {
     "name": "stdout",
     "output_type": "stream",
     "text": [
      "(1, 450, 600, 3)\n",
      "(1, 450, 600, 3)\n",
      "(1, 450, 600, 3)\n",
      "(1, 450, 600, 3)\n"
     ]
    },
    {
     "name": "stderr",
     "output_type": "stream",
     "text": [
      "\r",
      "4596it [03:50, 17.71it/s]"
     ]
    },
    {
     "name": "stdout",
     "output_type": "stream",
     "text": [
      "(1, 450, 600, 3)\n",
      "(1, 450, 600, 3)\n",
      "(1, 450, 600, 3)\n"
     ]
    },
    {
     "name": "stderr",
     "output_type": "stream",
     "text": [
      "4600it [03:51, 16.55it/s]"
     ]
    },
    {
     "name": "stdout",
     "output_type": "stream",
     "text": [
      "(1, 450, 600, 3)\n",
      "(1, 450, 600, 3)\n",
      "(1, 450, 600, 3)\n",
      "(1, 450, 600, 3)\n"
     ]
    },
    {
     "name": "stderr",
     "output_type": "stream",
     "text": [
      "4604it [03:51, 17.77it/s]"
     ]
    },
    {
     "name": "stdout",
     "output_type": "stream",
     "text": [
      "(1, 450, 600, 3)\n",
      "(1, 450, 600, 3)\n",
      "(1, 450, 600, 3)\n",
      "(1, 450, 600, 3)\n"
     ]
    },
    {
     "name": "stderr",
     "output_type": "stream",
     "text": [
      "4608it [03:51, 17.94it/s]"
     ]
    },
    {
     "name": "stdout",
     "output_type": "stream",
     "text": [
      "(1, 450, 600, 3)\n",
      "(1, 450, 600, 3)\n",
      "(1, 450, 600, 3)\n",
      "(1, 450, 600, 3)\n"
     ]
    },
    {
     "name": "stderr",
     "output_type": "stream",
     "text": [
      "4612it [03:51, 18.40it/s]"
     ]
    },
    {
     "name": "stdout",
     "output_type": "stream",
     "text": [
      "(1, 450, 600, 3)\n",
      "(1, 450, 600, 3)\n",
      "(1, 450, 600, 3)\n",
      "(1, 450, 600, 3)\n"
     ]
    },
    {
     "name": "stderr",
     "output_type": "stream",
     "text": [
      "4616it [03:52, 18.29it/s]"
     ]
    },
    {
     "name": "stdout",
     "output_type": "stream",
     "text": [
      "(1, 450, 600, 3)\n",
      "(1, 450, 600, 3)\n",
      "(1, 450, 600, 3)\n",
      "(1, 450, 600, 3)\n"
     ]
    },
    {
     "name": "stderr",
     "output_type": "stream",
     "text": [
      "4620it [03:52, 18.42it/s]"
     ]
    },
    {
     "name": "stdout",
     "output_type": "stream",
     "text": [
      "(1, 450, 600, 3)\n",
      "(1, 450, 600, 3)\n",
      "(1, 450, 600, 3)\n",
      "(1, 450, 600, 3)\n"
     ]
    },
    {
     "name": "stderr",
     "output_type": "stream",
     "text": [
      "4624it [03:52, 17.78it/s]"
     ]
    },
    {
     "name": "stdout",
     "output_type": "stream",
     "text": [
      "(1, 450, 600, 3)\n",
      "(1, 450, 600, 3)\n",
      "(1, 450, 600, 3)\n",
      "(1, 450, 600, 3)\n"
     ]
    },
    {
     "name": "stderr",
     "output_type": "stream",
     "text": [
      "4628it [03:52, 18.45it/s]"
     ]
    },
    {
     "name": "stdout",
     "output_type": "stream",
     "text": [
      "(1, 450, 600, 3)\n",
      "(1, 450, 600, 3)\n",
      "(1, 450, 600, 3)\n",
      "(1, 450, 600, 3)\n"
     ]
    },
    {
     "name": "stderr",
     "output_type": "stream",
     "text": [
      "4632it [03:52, 18.45it/s]"
     ]
    },
    {
     "name": "stdout",
     "output_type": "stream",
     "text": [
      "(1, 450, 600, 3)\n",
      "(1, 450, 600, 3)\n",
      "(1, 450, 600, 3)\n",
      "(1, 450, 600, 3)\n"
     ]
    },
    {
     "name": "stderr",
     "output_type": "stream",
     "text": [
      "4636it [03:53, 18.30it/s]"
     ]
    },
    {
     "name": "stdout",
     "output_type": "stream",
     "text": [
      "(1, 450, 600, 3)\n",
      "(1, 450, 600, 3)\n",
      "(1, 450, 600, 3)\n",
      "(1, 450, 600, 3)\n"
     ]
    },
    {
     "name": "stderr",
     "output_type": "stream",
     "text": [
      "4640it [03:53, 17.91it/s]"
     ]
    },
    {
     "name": "stdout",
     "output_type": "stream",
     "text": [
      "(1, 450, 600, 3)\n",
      "(1, 450, 600, 3)\n",
      "(1, 450, 600, 3)\n",
      "(1, 450, 600, 3)\n"
     ]
    },
    {
     "name": "stderr",
     "output_type": "stream",
     "text": [
      "4644it [03:53, 17.69it/s]"
     ]
    },
    {
     "name": "stdout",
     "output_type": "stream",
     "text": [
      "(1, 450, 600, 3)\n",
      "(1, 450, 600, 3)\n",
      "(1, 450, 600, 3)\n",
      "(1, 450, 600, 3)\n"
     ]
    },
    {
     "name": "stderr",
     "output_type": "stream",
     "text": [
      "4649it [03:53, 18.13it/s]"
     ]
    },
    {
     "name": "stdout",
     "output_type": "stream",
     "text": [
      "(1, 450, 600, 3)\n",
      "(1, 450, 600, 3)\n",
      "(1, 450, 600, 3)\n",
      "(1, 450, 600, 3)\n"
     ]
    },
    {
     "name": "stderr",
     "output_type": "stream",
     "text": [
      "4653it [03:54, 18.60it/s]"
     ]
    },
    {
     "name": "stdout",
     "output_type": "stream",
     "text": [
      "(1, 450, 600, 3)\n",
      "(1, 450, 600, 3)\n",
      "(1, 450, 600, 3)\n",
      "(1, 450, 600, 3)\n",
      "(1, 450, 600, 3)\n"
     ]
    },
    {
     "name": "stderr",
     "output_type": "stream",
     "text": [
      "4657it [03:54, 18.42it/s]"
     ]
    },
    {
     "name": "stdout",
     "output_type": "stream",
     "text": [
      "(1, 450, 600, 3)\n",
      "(1, 450, 600, 3)\n",
      "(1, 450, 600, 3)\n",
      "(1, 450, 600, 3)\n"
     ]
    },
    {
     "name": "stderr",
     "output_type": "stream",
     "text": [
      "4661it [03:54, 17.47it/s]"
     ]
    },
    {
     "name": "stdout",
     "output_type": "stream",
     "text": [
      "(1, 450, 600, 3)\n",
      "(1, 450, 600, 3)\n",
      "(1, 450, 600, 3)\n",
      "(1, 450, 600, 3)\n"
     ]
    },
    {
     "name": "stderr",
     "output_type": "stream",
     "text": [
      "4665it [03:54, 17.84it/s]"
     ]
    },
    {
     "name": "stdout",
     "output_type": "stream",
     "text": [
      "(1, 450, 600, 3)\n",
      "(1, 450, 600, 3)\n",
      "(1, 450, 600, 3)\n",
      "(1, 450, 600, 3)\n"
     ]
    },
    {
     "name": "stderr",
     "output_type": "stream",
     "text": [
      "\r",
      "4668it [03:54, 17.77it/s]"
     ]
    },
    {
     "name": "stdout",
     "output_type": "stream",
     "text": [
      "(1, 450, 600, 3)\n",
      "(1, 450, 600, 3)\n",
      "(1, 450, 600, 3)\n",
      "(1, 450, 600, 3)\n"
     ]
    },
    {
     "name": "stderr",
     "output_type": "stream",
     "text": [
      "4674it [03:55, 18.18it/s]"
     ]
    },
    {
     "name": "stdout",
     "output_type": "stream",
     "text": [
      "(1, 450, 600, 3)\n",
      "(1, 450, 600, 3)\n",
      "(1, 450, 600, 3)\n",
      "(1, 450, 600, 3)\n"
     ]
    },
    {
     "name": "stderr",
     "output_type": "stream",
     "text": [
      "\r",
      "4676it [03:55, 18.13it/s]"
     ]
    },
    {
     "name": "stdout",
     "output_type": "stream",
     "text": [
      "(1, 450, 600, 3)\n",
      "(1, 450, 600, 3)\n",
      "(1, 450, 600, 3)\n",
      "(1, 450, 600, 3)\n"
     ]
    },
    {
     "name": "stderr",
     "output_type": "stream",
     "text": [
      "4680it [03:55, 16.56it/s]"
     ]
    },
    {
     "name": "stdout",
     "output_type": "stream",
     "text": [
      "(1, 450, 600, 3)\n",
      "(1, 450, 600, 3)\n",
      "(1, 450, 600, 3)\n",
      "(1, 450, 600, 3)\n"
     ]
    },
    {
     "name": "stderr",
     "output_type": "stream",
     "text": [
      "4686it [03:55, 17.34it/s]"
     ]
    },
    {
     "name": "stdout",
     "output_type": "stream",
     "text": [
      "(1, 450, 600, 3)\n",
      "(1, 450, 600, 3)\n",
      "(1, 450, 600, 3)\n",
      "(1, 450, 600, 3)\n"
     ]
    },
    {
     "name": "stderr",
     "output_type": "stream",
     "text": [
      "\r",
      "4688it [03:56, 17.49it/s]"
     ]
    },
    {
     "name": "stdout",
     "output_type": "stream",
     "text": [
      "(1, 450, 600, 3)\n",
      "(1, 450, 600, 3)\n",
      "(1, 450, 600, 3)\n",
      "(1, 450, 600, 3)\n"
     ]
    },
    {
     "name": "stderr",
     "output_type": "stream",
     "text": [
      "4693it [03:56, 18.03it/s]"
     ]
    },
    {
     "name": "stdout",
     "output_type": "stream",
     "text": [
      "(1, 450, 600, 3)\n",
      "(1, 450, 600, 3)\n",
      "(1, 450, 600, 3)\n",
      "(1, 450, 600, 3)\n"
     ]
    },
    {
     "name": "stderr",
     "output_type": "stream",
     "text": [
      "4697it [03:56, 18.43it/s]"
     ]
    },
    {
     "name": "stdout",
     "output_type": "stream",
     "text": [
      "(1, 450, 600, 3)\n",
      "(1, 450, 600, 3)\n",
      "(1, 450, 600, 3)\n",
      "(1, 450, 600, 3)\n"
     ]
    },
    {
     "name": "stderr",
     "output_type": "stream",
     "text": [
      "4701it [03:56, 19.14it/s]"
     ]
    },
    {
     "name": "stdout",
     "output_type": "stream",
     "text": [
      "(1, 450, 600, 3)\n",
      "(1, 450, 600, 3)\n",
      "(1, 450, 600, 3)\n",
      "(1, 450, 600, 3)\n"
     ]
    },
    {
     "name": "stderr",
     "output_type": "stream",
     "text": [
      "4705it [03:56, 18.13it/s]"
     ]
    },
    {
     "name": "stdout",
     "output_type": "stream",
     "text": [
      "(1, 450, 600, 3)\n",
      "(1, 450, 600, 3)\n",
      "(1, 450, 600, 3)\n",
      "(1, 450, 600, 3)\n"
     ]
    },
    {
     "name": "stderr",
     "output_type": "stream",
     "text": [
      "4709it [03:57, 17.99it/s]"
     ]
    },
    {
     "name": "stdout",
     "output_type": "stream",
     "text": [
      "(1, 450, 600, 3)\n",
      "(1, 450, 600, 3)\n",
      "(1, 450, 600, 3)\n",
      "(1, 450, 600, 3)\n"
     ]
    },
    {
     "name": "stderr",
     "output_type": "stream",
     "text": [
      "4713it [03:57, 17.83it/s]"
     ]
    },
    {
     "name": "stdout",
     "output_type": "stream",
     "text": [
      "(1, 450, 600, 3)\n",
      "(1, 450, 600, 3)\n",
      "(1, 450, 600, 3)\n",
      "(1, 450, 600, 3)\n"
     ]
    },
    {
     "name": "stderr",
     "output_type": "stream",
     "text": [
      "4717it [03:57, 18.16it/s]"
     ]
    },
    {
     "name": "stdout",
     "output_type": "stream",
     "text": [
      "(1, 450, 600, 3)\n",
      "(1, 450, 600, 3)\n",
      "(1, 450, 600, 3)\n",
      "(1, 450, 600, 3)\n",
      "(1, 450, 600, 3)\n"
     ]
    },
    {
     "name": "stderr",
     "output_type": "stream",
     "text": [
      "4722it [03:57, 17.89it/s]"
     ]
    },
    {
     "name": "stdout",
     "output_type": "stream",
     "text": [
      "(1, 450, 600, 3)\n",
      "(1, 450, 600, 3)\n",
      "(1, 450, 600, 3)\n",
      "(1, 450, 600, 3)\n"
     ]
    },
    {
     "name": "stderr",
     "output_type": "stream",
     "text": [
      "4726it [03:58, 18.17it/s]"
     ]
    },
    {
     "name": "stdout",
     "output_type": "stream",
     "text": [
      "(1, 450, 600, 3)\n",
      "(1, 450, 600, 3)\n",
      "(1, 450, 600, 3)\n"
     ]
    },
    {
     "name": "stderr",
     "output_type": "stream",
     "text": [
      "4730it [03:58, 17.70it/s]"
     ]
    },
    {
     "name": "stdout",
     "output_type": "stream",
     "text": [
      "(1, 450, 600, 3)\n",
      "(1, 450, 600, 3)\n",
      "(1, 450, 600, 3)\n",
      "(1, 450, 600, 3)\n"
     ]
    },
    {
     "name": "stderr",
     "output_type": "stream",
     "text": [
      "4734it [03:58, 17.91it/s]"
     ]
    },
    {
     "name": "stdout",
     "output_type": "stream",
     "text": [
      "(1, 450, 600, 3)\n",
      "(1, 450, 600, 3)\n",
      "(1, 450, 600, 3)\n",
      "(1, 450, 600, 3)\n"
     ]
    },
    {
     "name": "stderr",
     "output_type": "stream",
     "text": [
      "\r",
      "4736it [03:58, 18.02it/s]"
     ]
    },
    {
     "name": "stdout",
     "output_type": "stream",
     "text": [
      "(1, 450, 600, 3)\n",
      "(1, 450, 600, 3)\n",
      "(1, 450, 600, 3)\n",
      "(1, 450, 600, 3)\n"
     ]
    },
    {
     "name": "stderr",
     "output_type": "stream",
     "text": [
      "4741it [03:58, 18.39it/s]"
     ]
    },
    {
     "name": "stdout",
     "output_type": "stream",
     "text": [
      "(1, 450, 600, 3)\n",
      "(1, 450, 600, 3)\n",
      "(1, 450, 600, 3)\n",
      "(1, 450, 600, 3)\n"
     ]
    },
    {
     "name": "stderr",
     "output_type": "stream",
     "text": [
      "4745it [03:59, 17.97it/s]"
     ]
    },
    {
     "name": "stdout",
     "output_type": "stream",
     "text": [
      "(1, 450, 600, 3)\n",
      "(1, 450, 600, 3)\n",
      "(1, 450, 600, 3)\n",
      "(1, 450, 600, 3)\n"
     ]
    },
    {
     "name": "stderr",
     "output_type": "stream",
     "text": [
      "4749it [03:59, 18.07it/s]"
     ]
    },
    {
     "name": "stdout",
     "output_type": "stream",
     "text": [
      "(1, 450, 600, 3)\n",
      "(1, 450, 600, 3)\n",
      "(1, 450, 600, 3)\n",
      "(1, 450, 600, 3)\n"
     ]
    },
    {
     "name": "stderr",
     "output_type": "stream",
     "text": [
      "4753it [03:59, 18.61it/s]"
     ]
    },
    {
     "name": "stdout",
     "output_type": "stream",
     "text": [
      "(1, 450, 600, 3)\n",
      "(1, 450, 600, 3)\n",
      "(1, 450, 600, 3)\n",
      "(1, 450, 600, 3)\n"
     ]
    },
    {
     "name": "stderr",
     "output_type": "stream",
     "text": [
      "4757it [03:59, 18.93it/s]"
     ]
    },
    {
     "name": "stdout",
     "output_type": "stream",
     "text": [
      "(1, 450, 600, 3)\n",
      "(1, 450, 600, 3)\n",
      "(1, 450, 600, 3)\n",
      "(1, 450, 600, 3)\n"
     ]
    },
    {
     "name": "stderr",
     "output_type": "stream",
     "text": [
      "4761it [04:00, 17.10it/s]"
     ]
    },
    {
     "name": "stdout",
     "output_type": "stream",
     "text": [
      "(1, 450, 600, 3)\n",
      "(1, 450, 600, 3)\n",
      "(1, 450, 600, 3)\n",
      "(1, 450, 600, 3)\n"
     ]
    },
    {
     "name": "stderr",
     "output_type": "stream",
     "text": [
      "4765it [04:00, 16.20it/s]"
     ]
    },
    {
     "name": "stdout",
     "output_type": "stream",
     "text": [
      "(1, 450, 600, 3)\n",
      "(1, 450, 600, 3)\n",
      "(1, 450, 600, 3)\n",
      "(1, 450, 600, 3)\n"
     ]
    },
    {
     "name": "stderr",
     "output_type": "stream",
     "text": [
      "4769it [04:00, 17.60it/s]"
     ]
    },
    {
     "name": "stdout",
     "output_type": "stream",
     "text": [
      "(1, 450, 600, 3)\n",
      "(1, 450, 600, 3)\n",
      "(1, 450, 600, 3)\n",
      "(1, 450, 600, 3)\n"
     ]
    },
    {
     "name": "stderr",
     "output_type": "stream",
     "text": [
      "4773it [04:00, 17.90it/s]"
     ]
    },
    {
     "name": "stdout",
     "output_type": "stream",
     "text": [
      "(1, 450, 600, 3)\n",
      "(1, 450, 600, 3)\n",
      "(1, 450, 600, 3)\n",
      "(1, 450, 600, 3)\n"
     ]
    },
    {
     "name": "stderr",
     "output_type": "stream",
     "text": [
      "4777it [04:01, 18.02it/s]"
     ]
    },
    {
     "name": "stdout",
     "output_type": "stream",
     "text": [
      "(1, 450, 600, 3)\n",
      "(1, 450, 600, 3)\n",
      "(1, 450, 600, 3)\n",
      "(1, 450, 600, 3)\n"
     ]
    },
    {
     "name": "stderr",
     "output_type": "stream",
     "text": [
      "4781it [04:01, 18.10it/s]"
     ]
    },
    {
     "name": "stdout",
     "output_type": "stream",
     "text": [
      "(1, 450, 600, 3)\n",
      "(1, 450, 600, 3)\n",
      "(1, 450, 600, 3)\n",
      "(1, 450, 600, 3)\n"
     ]
    },
    {
     "name": "stderr",
     "output_type": "stream",
     "text": [
      "4785it [04:01, 17.22it/s]"
     ]
    },
    {
     "name": "stdout",
     "output_type": "stream",
     "text": [
      "(1, 450, 600, 3)\n",
      "(1, 450, 600, 3)\n",
      "(1, 450, 600, 3)\n",
      "(1, 450, 600, 3)\n"
     ]
    },
    {
     "name": "stderr",
     "output_type": "stream",
     "text": [
      "4789it [04:01, 17.70it/s]"
     ]
    },
    {
     "name": "stdout",
     "output_type": "stream",
     "text": [
      "(1, 450, 600, 3)\n",
      "(1, 450, 600, 3)\n",
      "(1, 450, 600, 3)\n"
     ]
    },
    {
     "name": "stderr",
     "output_type": "stream",
     "text": [
      "4793it [04:01, 18.29it/s]"
     ]
    },
    {
     "name": "stdout",
     "output_type": "stream",
     "text": [
      "(1, 450, 600, 3)\n",
      "(1, 450, 600, 3)\n",
      "(1, 450, 600, 3)\n",
      "(1, 450, 600, 3)\n"
     ]
    },
    {
     "name": "stderr",
     "output_type": "stream",
     "text": [
      "\r",
      "4795it [04:02, 17.77it/s]"
     ]
    },
    {
     "name": "stdout",
     "output_type": "stream",
     "text": [
      "(1, 450, 600, 3)\n",
      "(1, 450, 600, 3)\n",
      "(1, 450, 600, 3)\n"
     ]
    },
    {
     "name": "stderr",
     "output_type": "stream",
     "text": [
      "4799it [04:02, 17.96it/s]"
     ]
    },
    {
     "name": "stdout",
     "output_type": "stream",
     "text": [
      "(1, 450, 600, 3)\n",
      "(1, 450, 600, 3)\n",
      "(1, 450, 600, 3)\n",
      "(1, 450, 600, 3)\n"
     ]
    },
    {
     "name": "stderr",
     "output_type": "stream",
     "text": [
      "4803it [04:02, 18.07it/s]"
     ]
    },
    {
     "name": "stdout",
     "output_type": "stream",
     "text": [
      "(1, 450, 600, 3)\n",
      "(1, 450, 600, 3)\n",
      "(1, 450, 600, 3)\n",
      "(1, 450, 600, 3)\n"
     ]
    },
    {
     "name": "stderr",
     "output_type": "stream",
     "text": [
      "4808it [04:02, 18.75it/s]"
     ]
    },
    {
     "name": "stdout",
     "output_type": "stream",
     "text": [
      "(1, 450, 600, 3)\n",
      "(1, 450, 600, 3)\n",
      "(1, 450, 600, 3)\n",
      "(1, 450, 600, 3)\n"
     ]
    },
    {
     "name": "stderr",
     "output_type": "stream",
     "text": [
      "4812it [04:02, 18.49it/s]"
     ]
    },
    {
     "name": "stdout",
     "output_type": "stream",
     "text": [
      "(1, 450, 600, 3)\n",
      "(1, 450, 600, 3)\n",
      "(1, 450, 600, 3)\n",
      "(1, 450, 600, 3)\n"
     ]
    },
    {
     "name": "stderr",
     "output_type": "stream",
     "text": [
      "4816it [04:03, 18.34it/s]"
     ]
    },
    {
     "name": "stdout",
     "output_type": "stream",
     "text": [
      "(1, 450, 600, 3)\n",
      "(1, 450, 600, 3)\n",
      "(1, 450, 600, 3)\n",
      "(1, 450, 600, 3)\n"
     ]
    },
    {
     "name": "stderr",
     "output_type": "stream",
     "text": [
      "4820it [04:03, 17.78it/s]"
     ]
    },
    {
     "name": "stdout",
     "output_type": "stream",
     "text": [
      "(1, 450, 600, 3)\n",
      "(1, 450, 600, 3)\n",
      "(1, 450, 600, 3)\n",
      "(1, 450, 600, 3)\n"
     ]
    },
    {
     "name": "stderr",
     "output_type": "stream",
     "text": [
      "4824it [04:03, 17.96it/s]"
     ]
    },
    {
     "name": "stdout",
     "output_type": "stream",
     "text": [
      "(1, 450, 600, 3)\n",
      "(1, 450, 600, 3)\n",
      "(1, 450, 600, 3)\n",
      "(1, 450, 600, 3)\n"
     ]
    },
    {
     "name": "stderr",
     "output_type": "stream",
     "text": [
      "4828it [04:03, 18.56it/s]"
     ]
    },
    {
     "name": "stdout",
     "output_type": "stream",
     "text": [
      "(1, 450, 600, 3)\n",
      "(1, 450, 600, 3)\n",
      "(1, 450, 600, 3)\n",
      "(1, 450, 600, 3)\n",
      "(1, 450, 600, 3)\n"
     ]
    },
    {
     "name": "stderr",
     "output_type": "stream",
     "text": [
      "4832it [04:04, 17.89it/s]"
     ]
    },
    {
     "name": "stdout",
     "output_type": "stream",
     "text": [
      "(1, 450, 600, 3)\n",
      "(1, 450, 600, 3)\n",
      "(1, 450, 600, 3)\n"
     ]
    },
    {
     "name": "stderr",
     "output_type": "stream",
     "text": [
      "4836it [04:04, 17.89it/s]"
     ]
    },
    {
     "name": "stdout",
     "output_type": "stream",
     "text": [
      "(1, 450, 600, 3)\n",
      "(1, 450, 600, 3)\n",
      "(1, 450, 600, 3)\n",
      "(1, 450, 600, 3)\n"
     ]
    },
    {
     "name": "stderr",
     "output_type": "stream",
     "text": [
      "\r",
      "4838it [04:04, 17.98it/s]"
     ]
    },
    {
     "name": "stdout",
     "output_type": "stream",
     "text": [
      "(1, 450, 600, 3)\n",
      "(1, 450, 600, 3)\n",
      "(1, 450, 600, 3)\n",
      "(1, 450, 600, 3)\n"
     ]
    },
    {
     "name": "stderr",
     "output_type": "stream",
     "text": [
      "4844it [04:04, 17.39it/s]"
     ]
    },
    {
     "name": "stdout",
     "output_type": "stream",
     "text": [
      "(1, 450, 600, 3)\n",
      "(1, 450, 600, 3)\n",
      "(1, 450, 600, 3)\n",
      "(1, 450, 600, 3)\n"
     ]
    },
    {
     "name": "stderr",
     "output_type": "stream",
     "text": [
      "\r",
      "4846it [04:04, 16.35it/s]"
     ]
    },
    {
     "name": "stdout",
     "output_type": "stream",
     "text": [
      "(1, 450, 600, 3)\n",
      "(1, 450, 600, 3)\n",
      "(1, 450, 600, 3)\n",
      "(1, 450, 600, 3)\n"
     ]
    },
    {
     "name": "stderr",
     "output_type": "stream",
     "text": [
      "4852it [04:05, 17.17it/s]"
     ]
    },
    {
     "name": "stdout",
     "output_type": "stream",
     "text": [
      "(1, 450, 600, 3)\n",
      "(1, 450, 600, 3)\n",
      "(1, 450, 600, 3)\n",
      "(1, 450, 600, 3)\n"
     ]
    },
    {
     "name": "stderr",
     "output_type": "stream",
     "text": [
      "4856it [04:05, 18.14it/s]"
     ]
    },
    {
     "name": "stdout",
     "output_type": "stream",
     "text": [
      "(1, 450, 600, 3)\n",
      "(1, 450, 600, 3)\n",
      "(1, 450, 600, 3)\n",
      "(1, 450, 600, 3)\n",
      "(1, 450, 600, 3)\n"
     ]
    },
    {
     "name": "stderr",
     "output_type": "stream",
     "text": [
      "4860it [04:05, 18.59it/s]"
     ]
    },
    {
     "name": "stdout",
     "output_type": "stream",
     "text": [
      "(1, 450, 600, 3)\n",
      "(1, 450, 600, 3)\n",
      "(1, 450, 600, 3)\n",
      "(1, 450, 600, 3)\n"
     ]
    },
    {
     "name": "stderr",
     "output_type": "stream",
     "text": [
      "4864it [04:05, 18.88it/s]"
     ]
    },
    {
     "name": "stdout",
     "output_type": "stream",
     "text": [
      "(1, 450, 600, 3)\n",
      "(1, 450, 600, 3)\n",
      "(1, 450, 600, 3)\n",
      "(1, 450, 600, 3)\n"
     ]
    },
    {
     "name": "stderr",
     "output_type": "stream",
     "text": [
      "4868it [04:06, 17.96it/s]"
     ]
    },
    {
     "name": "stdout",
     "output_type": "stream",
     "text": [
      "(1, 450, 600, 3)\n",
      "(1, 450, 600, 3)\n",
      "(1, 450, 600, 3)\n",
      "(1, 450, 600, 3)\n"
     ]
    },
    {
     "name": "stderr",
     "output_type": "stream",
     "text": [
      "4872it [04:06, 17.57it/s]"
     ]
    },
    {
     "name": "stdout",
     "output_type": "stream",
     "text": [
      "(1, 450, 600, 3)\n",
      "(1, 450, 600, 3)\n",
      "(1, 450, 600, 3)\n",
      "(1, 450, 600, 3)\n"
     ]
    },
    {
     "name": "stderr",
     "output_type": "stream",
     "text": [
      "4876it [04:06, 17.39it/s]"
     ]
    },
    {
     "name": "stdout",
     "output_type": "stream",
     "text": [
      "(1, 450, 600, 3)\n",
      "(1, 450, 600, 3)\n",
      "(1, 450, 600, 3)\n",
      "(1, 450, 600, 3)\n"
     ]
    },
    {
     "name": "stderr",
     "output_type": "stream",
     "text": [
      "4881it [04:06, 18.31it/s]"
     ]
    },
    {
     "name": "stdout",
     "output_type": "stream",
     "text": [
      "(1, 450, 600, 3)\n",
      "(1, 450, 600, 3)\n",
      "(1, 450, 600, 3)\n",
      "(1, 450, 600, 3)\n"
     ]
    },
    {
     "name": "stderr",
     "output_type": "stream",
     "text": [
      "4885it [04:07, 17.36it/s]"
     ]
    },
    {
     "name": "stdout",
     "output_type": "stream",
     "text": [
      "(1, 450, 600, 3)\n",
      "(1, 450, 600, 3)\n",
      "(1, 450, 600, 3)\n",
      "(1, 450, 600, 3)\n"
     ]
    },
    {
     "name": "stderr",
     "output_type": "stream",
     "text": [
      "4889it [04:07, 18.20it/s]"
     ]
    },
    {
     "name": "stdout",
     "output_type": "stream",
     "text": [
      "(1, 450, 600, 3)\n",
      "(1, 450, 600, 3)\n",
      "(1, 450, 600, 3)\n",
      "(1, 450, 600, 3)\n"
     ]
    },
    {
     "name": "stderr",
     "output_type": "stream",
     "text": [
      "4893it [04:07, 17.40it/s]"
     ]
    },
    {
     "name": "stdout",
     "output_type": "stream",
     "text": [
      "(1, 450, 600, 3)\n",
      "(1, 450, 600, 3)\n",
      "(1, 450, 600, 3)\n",
      "(1, 450, 600, 3)\n"
     ]
    },
    {
     "name": "stderr",
     "output_type": "stream",
     "text": [
      "4897it [04:07, 17.78it/s]"
     ]
    },
    {
     "name": "stdout",
     "output_type": "stream",
     "text": [
      "(1, 450, 600, 3)\n",
      "(1, 450, 600, 3)\n",
      "(1, 450, 600, 3)\n",
      "(1, 450, 600, 3)\n"
     ]
    },
    {
     "name": "stderr",
     "output_type": "stream",
     "text": [
      "4901it [04:07, 18.46it/s]"
     ]
    },
    {
     "name": "stdout",
     "output_type": "stream",
     "text": [
      "(1, 450, 600, 3)\n",
      "(1, 450, 600, 3)\n",
      "(1, 450, 600, 3)\n",
      "(1, 450, 600, 3)\n"
     ]
    },
    {
     "name": "stderr",
     "output_type": "stream",
     "text": [
      "4905it [04:08, 18.72it/s]"
     ]
    },
    {
     "name": "stdout",
     "output_type": "stream",
     "text": [
      "(1, 450, 600, 3)\n",
      "(1, 450, 600, 3)\n",
      "(1, 450, 600, 3)\n",
      "(1, 450, 600, 3)\n"
     ]
    },
    {
     "name": "stderr",
     "output_type": "stream",
     "text": [
      "4909it [04:08, 18.43it/s]"
     ]
    },
    {
     "name": "stdout",
     "output_type": "stream",
     "text": [
      "(1, 450, 600, 3)\n",
      "(1, 450, 600, 3)\n",
      "(1, 450, 600, 3)\n",
      "(1, 450, 600, 3)\n"
     ]
    },
    {
     "name": "stderr",
     "output_type": "stream",
     "text": [
      "4913it [04:08, 18.26it/s]"
     ]
    },
    {
     "name": "stdout",
     "output_type": "stream",
     "text": [
      "(1, 450, 600, 3)\n",
      "(1, 450, 600, 3)\n",
      "(1, 450, 600, 3)\n",
      "(1, 450, 600, 3)\n"
     ]
    },
    {
     "name": "stderr",
     "output_type": "stream",
     "text": [
      "4917it [04:08, 18.71it/s]"
     ]
    },
    {
     "name": "stdout",
     "output_type": "stream",
     "text": [
      "(1, 450, 600, 3)\n",
      "(1, 450, 600, 3)\n",
      "(1, 450, 600, 3)\n",
      "(1, 450, 600, 3)\n"
     ]
    },
    {
     "name": "stderr",
     "output_type": "stream",
     "text": [
      "4921it [04:09, 17.92it/s]"
     ]
    },
    {
     "name": "stdout",
     "output_type": "stream",
     "text": [
      "(1, 450, 600, 3)\n",
      "(1, 450, 600, 3)\n",
      "(1, 450, 600, 3)\n",
      "(1, 450, 600, 3)\n"
     ]
    },
    {
     "name": "stderr",
     "output_type": "stream",
     "text": [
      "4925it [04:09, 18.51it/s]"
     ]
    },
    {
     "name": "stdout",
     "output_type": "stream",
     "text": [
      "(1, 450, 600, 3)\n",
      "(1, 450, 600, 3)\n",
      "(1, 450, 600, 3)\n",
      "(1, 450, 600, 3)\n"
     ]
    },
    {
     "name": "stderr",
     "output_type": "stream",
     "text": [
      "\r",
      "4927it [04:09, 17.46it/s]"
     ]
    },
    {
     "name": "stdout",
     "output_type": "stream",
     "text": [
      "(1, 450, 600, 3)\n",
      "(1, 450, 600, 3)\n",
      "(1, 450, 600, 3)\n",
      "(1, 450, 600, 3)\n"
     ]
    },
    {
     "name": "stderr",
     "output_type": "stream",
     "text": [
      "4933it [04:09, 16.78it/s]"
     ]
    },
    {
     "name": "stdout",
     "output_type": "stream",
     "text": [
      "(1, 450, 600, 3)\n",
      "(1, 450, 600, 3)\n",
      "(1, 450, 600, 3)\n",
      "(1, 450, 600, 3)\n"
     ]
    },
    {
     "name": "stderr",
     "output_type": "stream",
     "text": [
      "4937it [04:09, 17.81it/s]"
     ]
    },
    {
     "name": "stdout",
     "output_type": "stream",
     "text": [
      "(1, 450, 600, 3)\n",
      "(1, 450, 600, 3)\n",
      "(1, 450, 600, 3)\n",
      "(1, 450, 600, 3)\n"
     ]
    },
    {
     "name": "stderr",
     "output_type": "stream",
     "text": [
      "4941it [04:10, 18.09it/s]"
     ]
    },
    {
     "name": "stdout",
     "output_type": "stream",
     "text": [
      "(1, 450, 600, 3)\n",
      "(1, 450, 600, 3)\n",
      "(1, 450, 600, 3)\n",
      "(1, 450, 600, 3)\n"
     ]
    },
    {
     "name": "stderr",
     "output_type": "stream",
     "text": [
      "4945it [04:10, 17.63it/s]"
     ]
    },
    {
     "name": "stdout",
     "output_type": "stream",
     "text": [
      "(1, 450, 600, 3)\n",
      "(1, 450, 600, 3)\n",
      "(1, 450, 600, 3)\n",
      "(1, 450, 600, 3)\n"
     ]
    },
    {
     "name": "stderr",
     "output_type": "stream",
     "text": [
      "\r",
      "4947it [04:10, 17.32it/s]"
     ]
    },
    {
     "name": "stdout",
     "output_type": "stream",
     "text": [
      "(1, 450, 600, 3)\n",
      "(1, 450, 600, 3)\n",
      "(1, 450, 600, 3)\n",
      "(1, 450, 600, 3)\n"
     ]
    },
    {
     "name": "stderr",
     "output_type": "stream",
     "text": [
      "4951it [04:10, 17.43it/s]"
     ]
    },
    {
     "name": "stdout",
     "output_type": "stream",
     "text": [
      "(1, 450, 600, 3)\n",
      "(1, 450, 600, 3)\n",
      "(1, 450, 600, 3)\n"
     ]
    },
    {
     "name": "stderr",
     "output_type": "stream",
     "text": [
      "4955it [04:10, 17.75it/s]"
     ]
    },
    {
     "name": "stdout",
     "output_type": "stream",
     "text": [
      "(1, 450, 600, 3)\n",
      "(1, 450, 600, 3)\n",
      "(1, 450, 600, 3)\n",
      "(1, 450, 600, 3)\n"
     ]
    },
    {
     "name": "stderr",
     "output_type": "stream",
     "text": [
      "4959it [04:11, 18.27it/s]"
     ]
    },
    {
     "name": "stdout",
     "output_type": "stream",
     "text": [
      "(1, 450, 600, 3)\n",
      "(1, 450, 600, 3)\n",
      "(1, 450, 600, 3)\n",
      "(1, 450, 600, 3)\n"
     ]
    },
    {
     "name": "stderr",
     "output_type": "stream",
     "text": [
      "4963it [04:11, 18.20it/s]"
     ]
    },
    {
     "name": "stdout",
     "output_type": "stream",
     "text": [
      "(1, 450, 600, 3)\n",
      "(1, 450, 600, 3)\n",
      "(1, 450, 600, 3)\n",
      "(1, 450, 600, 3)\n"
     ]
    },
    {
     "name": "stderr",
     "output_type": "stream",
     "text": [
      "4967it [04:11, 17.67it/s]"
     ]
    },
    {
     "name": "stdout",
     "output_type": "stream",
     "text": [
      "(1, 450, 600, 3)\n",
      "(1, 450, 600, 3)\n",
      "(1, 450, 600, 3)\n",
      "(1, 450, 600, 3)\n"
     ]
    },
    {
     "name": "stderr",
     "output_type": "stream",
     "text": [
      "4971it [04:11, 17.45it/s]"
     ]
    },
    {
     "name": "stdout",
     "output_type": "stream",
     "text": [
      "(1, 450, 600, 3)\n",
      "(1, 450, 600, 3)\n",
      "(1, 450, 600, 3)\n",
      "(1, 450, 600, 3)\n"
     ]
    },
    {
     "name": "stderr",
     "output_type": "stream",
     "text": [
      "4975it [04:12, 17.45it/s]"
     ]
    },
    {
     "name": "stdout",
     "output_type": "stream",
     "text": [
      "(1, 450, 600, 3)\n",
      "(1, 450, 600, 3)\n",
      "(1, 450, 600, 3)\n",
      "(1, 450, 600, 3)\n"
     ]
    },
    {
     "name": "stderr",
     "output_type": "stream",
     "text": [
      "4979it [04:12, 17.64it/s]"
     ]
    },
    {
     "name": "stdout",
     "output_type": "stream",
     "text": [
      "(1, 450, 600, 3)\n",
      "(1, 450, 600, 3)\n",
      "(1, 450, 600, 3)\n",
      "(1, 450, 600, 3)\n"
     ]
    },
    {
     "name": "stderr",
     "output_type": "stream",
     "text": [
      "4983it [04:12, 17.86it/s]"
     ]
    },
    {
     "name": "stdout",
     "output_type": "stream",
     "text": [
      "(1, 450, 600, 3)\n",
      "(1, 450, 600, 3)\n",
      "(1, 450, 600, 3)\n",
      "(1, 450, 600, 3)\n"
     ]
    },
    {
     "name": "stderr",
     "output_type": "stream",
     "text": [
      "4987it [04:12, 17.99it/s]"
     ]
    },
    {
     "name": "stdout",
     "output_type": "stream",
     "text": [
      "(1, 450, 600, 3)\n",
      "(1, 450, 600, 3)\n",
      "(1, 450, 600, 3)\n",
      "(1, 450, 600, 3)\n"
     ]
    },
    {
     "name": "stderr",
     "output_type": "stream",
     "text": [
      "4991it [04:12, 18.06it/s]"
     ]
    },
    {
     "name": "stdout",
     "output_type": "stream",
     "text": [
      "(1, 450, 600, 3)\n",
      "(1, 450, 600, 3)\n",
      "(1, 450, 600, 3)\n",
      "(1, 450, 600, 3)\n"
     ]
    },
    {
     "name": "stderr",
     "output_type": "stream",
     "text": [
      "4995it [04:13, 17.30it/s]"
     ]
    },
    {
     "name": "stdout",
     "output_type": "stream",
     "text": [
      "(1, 450, 600, 3)\n",
      "(1, 450, 600, 3)\n",
      "(1, 450, 600, 3)\n",
      "(1, 450, 600, 3)\n"
     ]
    },
    {
     "name": "stderr",
     "output_type": "stream",
     "text": [
      "4999it [04:13, 17.69it/s]"
     ]
    },
    {
     "name": "stdout",
     "output_type": "stream",
     "text": [
      "(1, 450, 600, 3)\n",
      "(1, 450, 600, 3)\n",
      "(1, 450, 600, 3)\n",
      "(1, 450, 600, 3)\n"
     ]
    },
    {
     "name": "stderr",
     "output_type": "stream",
     "text": [
      "5003it [04:13, 17.94it/s]"
     ]
    },
    {
     "name": "stdout",
     "output_type": "stream",
     "text": [
      "(1, 450, 600, 3)\n",
      "(1, 450, 600, 3)\n",
      "(1, 450, 600, 3)\n",
      "(1, 450, 600, 3)\n"
     ]
    },
    {
     "name": "stderr",
     "output_type": "stream",
     "text": [
      "5007it [04:13, 17.59it/s]"
     ]
    },
    {
     "name": "stdout",
     "output_type": "stream",
     "text": [
      "(1, 450, 600, 3)\n",
      "(1, 450, 600, 3)\n",
      "(1, 450, 600, 3)\n",
      "(1, 450, 600, 3)\n"
     ]
    },
    {
     "name": "stderr",
     "output_type": "stream",
     "text": [
      "5011it [04:14, 15.88it/s]"
     ]
    },
    {
     "name": "stdout",
     "output_type": "stream",
     "text": [
      "(1, 450, 600, 3)\n",
      "(1, 450, 600, 3)\n",
      "(1, 450, 600, 3)\n"
     ]
    },
    {
     "name": "stderr",
     "output_type": "stream",
     "text": [
      "5015it [04:14, 16.66it/s]"
     ]
    },
    {
     "name": "stdout",
     "output_type": "stream",
     "text": [
      "(1, 450, 600, 3)\n",
      "(1, 450, 600, 3)\n",
      "(1, 450, 600, 3)\n",
      "(1, 450, 600, 3)\n"
     ]
    },
    {
     "name": "stderr",
     "output_type": "stream",
     "text": [
      "5019it [04:14, 16.39it/s]"
     ]
    },
    {
     "name": "stdout",
     "output_type": "stream",
     "text": [
      "(1, 450, 600, 3)\n",
      "(1, 450, 600, 3)\n",
      "(1, 450, 600, 3)\n",
      "(1, 450, 600, 3)\n"
     ]
    },
    {
     "name": "stderr",
     "output_type": "stream",
     "text": [
      "5023it [04:14, 17.58it/s]"
     ]
    },
    {
     "name": "stdout",
     "output_type": "stream",
     "text": [
      "(1, 450, 600, 3)\n",
      "(1, 450, 600, 3)\n",
      "(1, 450, 600, 3)\n",
      "(1, 450, 600, 3)\n"
     ]
    },
    {
     "name": "stderr",
     "output_type": "stream",
     "text": [
      "5027it [04:15, 17.86it/s]"
     ]
    },
    {
     "name": "stdout",
     "output_type": "stream",
     "text": [
      "(1, 450, 600, 3)\n",
      "(1, 450, 600, 3)\n",
      "(1, 450, 600, 3)\n",
      "(1, 450, 600, 3)\n"
     ]
    },
    {
     "name": "stderr",
     "output_type": "stream",
     "text": [
      "5031it [04:15, 17.66it/s]"
     ]
    },
    {
     "name": "stdout",
     "output_type": "stream",
     "text": [
      "(1, 450, 600, 3)\n",
      "(1, 450, 600, 3)\n",
      "(1, 450, 600, 3)\n",
      "(1, 450, 600, 3)\n"
     ]
    },
    {
     "name": "stderr",
     "output_type": "stream",
     "text": [
      "\r",
      "5033it [04:15, 17.34it/s]"
     ]
    },
    {
     "name": "stdout",
     "output_type": "stream",
     "text": [
      "(1, 450, 600, 3)\n",
      "(1, 450, 600, 3)\n",
      "(1, 450, 600, 3)\n",
      "(1, 450, 600, 3)\n"
     ]
    },
    {
     "name": "stderr",
     "output_type": "stream",
     "text": [
      "5037it [04:15, 16.58it/s]"
     ]
    },
    {
     "name": "stdout",
     "output_type": "stream",
     "text": [
      "(1, 450, 600, 3)\n",
      "(1, 450, 600, 3)\n",
      "(1, 450, 600, 3)\n"
     ]
    },
    {
     "name": "stderr",
     "output_type": "stream",
     "text": [
      "5041it [04:15, 16.73it/s]"
     ]
    },
    {
     "name": "stdout",
     "output_type": "stream",
     "text": [
      "(1, 450, 600, 3)\n",
      "(1, 450, 600, 3)\n",
      "(1, 450, 600, 3)\n",
      "(1, 450, 600, 3)\n"
     ]
    },
    {
     "name": "stderr",
     "output_type": "stream",
     "text": [
      "5045it [04:16, 17.50it/s]"
     ]
    },
    {
     "name": "stdout",
     "output_type": "stream",
     "text": [
      "(1, 450, 600, 3)\n",
      "(1, 450, 600, 3)\n",
      "(1, 450, 600, 3)\n",
      "(1, 450, 600, 3)\n"
     ]
    },
    {
     "name": "stderr",
     "output_type": "stream",
     "text": [
      "5049it [04:16, 18.09it/s]"
     ]
    },
    {
     "name": "stdout",
     "output_type": "stream",
     "text": [
      "(1, 450, 600, 3)\n",
      "(1, 450, 600, 3)\n",
      "(1, 450, 600, 3)\n",
      "(1, 450, 600, 3)\n"
     ]
    },
    {
     "name": "stderr",
     "output_type": "stream",
     "text": [
      "5053it [04:16, 17.43it/s]"
     ]
    },
    {
     "name": "stdout",
     "output_type": "stream",
     "text": [
      "(1, 450, 600, 3)\n",
      "(1, 450, 600, 3)\n",
      "(1, 450, 600, 3)\n",
      "(1, 450, 600, 3)\n"
     ]
    },
    {
     "name": "stderr",
     "output_type": "stream",
     "text": [
      "5057it [04:16, 17.36it/s]"
     ]
    },
    {
     "name": "stdout",
     "output_type": "stream",
     "text": [
      "(1, 450, 600, 3)\n",
      "(1, 450, 600, 3)\n",
      "(1, 450, 600, 3)\n",
      "(1, 450, 600, 3)\n"
     ]
    },
    {
     "name": "stderr",
     "output_type": "stream",
     "text": [
      "5061it [04:17, 15.22it/s]"
     ]
    },
    {
     "name": "stdout",
     "output_type": "stream",
     "text": [
      "(1, 450, 600, 3)\n",
      "(1, 450, 600, 3)\n",
      "(1, 450, 600, 3)\n"
     ]
    },
    {
     "name": "stderr",
     "output_type": "stream",
     "text": [
      "5065it [04:17, 15.50it/s]"
     ]
    },
    {
     "name": "stdout",
     "output_type": "stream",
     "text": [
      "(1, 450, 600, 3)\n",
      "(1, 450, 600, 3)\n",
      "(1, 450, 600, 3)\n",
      "(1, 450, 600, 3)\n"
     ]
    },
    {
     "name": "stderr",
     "output_type": "stream",
     "text": [
      "5069it [04:17, 16.19it/s]"
     ]
    },
    {
     "name": "stdout",
     "output_type": "stream",
     "text": [
      "(1, 450, 600, 3)\n",
      "(1, 450, 600, 3)\n",
      "(1, 450, 600, 3)\n",
      "(1, 450, 600, 3)\n"
     ]
    },
    {
     "name": "stderr",
     "output_type": "stream",
     "text": [
      "5073it [04:17, 16.71it/s]"
     ]
    },
    {
     "name": "stdout",
     "output_type": "stream",
     "text": [
      "(1, 450, 600, 3)\n",
      "(1, 450, 600, 3)\n",
      "(1, 450, 600, 3)\n",
      "(1, 450, 600, 3)\n"
     ]
    },
    {
     "name": "stderr",
     "output_type": "stream",
     "text": [
      "5077it [04:18, 16.31it/s]"
     ]
    },
    {
     "name": "stdout",
     "output_type": "stream",
     "text": [
      "(1, 450, 600, 3)\n",
      "(1, 450, 600, 3)\n",
      "(1, 450, 600, 3)\n",
      "(1, 450, 600, 3)\n"
     ]
    },
    {
     "name": "stderr",
     "output_type": "stream",
     "text": [
      "\r",
      "5079it [04:18, 15.92it/s]"
     ]
    },
    {
     "name": "stdout",
     "output_type": "stream",
     "text": [
      "(1, 450, 600, 3)\n",
      "(1, 450, 600, 3)\n",
      "(1, 450, 600, 3)\n",
      "(1, 450, 600, 3)\n"
     ]
    },
    {
     "name": "stderr",
     "output_type": "stream",
     "text": [
      "5085it [04:18, 16.36it/s]"
     ]
    },
    {
     "name": "stdout",
     "output_type": "stream",
     "text": [
      "(1, 450, 600, 3)\n",
      "(1, 450, 600, 3)\n",
      "(1, 450, 600, 3)\n",
      "(1, 450, 600, 3)\n"
     ]
    },
    {
     "name": "stderr",
     "output_type": "stream",
     "text": [
      "\r",
      "5087it [04:18, 16.05it/s]"
     ]
    },
    {
     "name": "stdout",
     "output_type": "stream",
     "text": [
      "(1, 450, 600, 3)\n",
      "(1, 450, 600, 3)\n",
      "(1, 450, 600, 3)\n"
     ]
    },
    {
     "name": "stderr",
     "output_type": "stream",
     "text": [
      "5091it [04:18, 15.90it/s]"
     ]
    },
    {
     "name": "stdout",
     "output_type": "stream",
     "text": [
      "(1, 450, 600, 3)\n",
      "(1, 450, 600, 3)\n",
      "(1, 450, 600, 3)\n",
      "(1, 450, 600, 3)\n"
     ]
    },
    {
     "name": "stderr",
     "output_type": "stream",
     "text": [
      "5095it [04:19, 16.87it/s]"
     ]
    },
    {
     "name": "stdout",
     "output_type": "stream",
     "text": [
      "(1, 450, 600, 3)\n",
      "(1, 450, 600, 3)\n",
      "(1, 450, 600, 3)\n",
      "(1, 450, 600, 3)\n"
     ]
    },
    {
     "name": "stderr",
     "output_type": "stream",
     "text": [
      "5099it [04:19, 17.07it/s]"
     ]
    },
    {
     "name": "stdout",
     "output_type": "stream",
     "text": [
      "(1, 450, 600, 3)\n",
      "(1, 450, 600, 3)\n",
      "(1, 450, 600, 3)\n",
      "(1, 450, 600, 3)\n"
     ]
    },
    {
     "name": "stderr",
     "output_type": "stream",
     "text": [
      "5103it [04:19, 16.99it/s]"
     ]
    },
    {
     "name": "stdout",
     "output_type": "stream",
     "text": [
      "(1, 450, 600, 3)\n",
      "(1, 450, 600, 3)\n",
      "(1, 450, 600, 3)\n",
      "(1, 450, 600, 3)\n"
     ]
    },
    {
     "name": "stderr",
     "output_type": "stream",
     "text": [
      "5107it [04:19, 17.38it/s]"
     ]
    },
    {
     "name": "stdout",
     "output_type": "stream",
     "text": [
      "(1, 450, 600, 3)\n",
      "(1, 450, 600, 3)\n",
      "(1, 450, 600, 3)\n"
     ]
    },
    {
     "name": "stderr",
     "output_type": "stream",
     "text": [
      "5111it [04:20, 17.23it/s]"
     ]
    },
    {
     "name": "stdout",
     "output_type": "stream",
     "text": [
      "(1, 450, 600, 3)\n",
      "(1, 450, 600, 3)\n",
      "(1, 450, 600, 3)\n",
      "(1, 450, 600, 3)\n"
     ]
    },
    {
     "name": "stderr",
     "output_type": "stream",
     "text": [
      "\r",
      "5113it [04:20, 16.49it/s]"
     ]
    },
    {
     "name": "stdout",
     "output_type": "stream",
     "text": [
      "(1, 450, 600, 3)\n",
      "(1, 450, 600, 3)\n",
      "(1, 450, 600, 3)\n"
     ]
    },
    {
     "name": "stderr",
     "output_type": "stream",
     "text": [
      "5117it [04:20, 16.39it/s]"
     ]
    },
    {
     "name": "stdout",
     "output_type": "stream",
     "text": [
      "(1, 450, 600, 3)\n",
      "(1, 450, 600, 3)\n",
      "(1, 450, 600, 3)\n",
      "(1, 450, 600, 3)\n"
     ]
    },
    {
     "name": "stderr",
     "output_type": "stream",
     "text": [
      "5121it [04:20, 17.30it/s]"
     ]
    },
    {
     "name": "stdout",
     "output_type": "stream",
     "text": [
      "(1, 450, 600, 3)\n",
      "(1, 450, 600, 3)\n",
      "(1, 450, 600, 3)\n"
     ]
    },
    {
     "name": "stderr",
     "output_type": "stream",
     "text": [
      "5125it [04:20, 17.16it/s]"
     ]
    },
    {
     "name": "stdout",
     "output_type": "stream",
     "text": [
      "(1, 450, 600, 3)\n",
      "(1, 450, 600, 3)\n",
      "(1, 450, 600, 3)\n",
      "(1, 450, 600, 3)\n"
     ]
    },
    {
     "name": "stderr",
     "output_type": "stream",
     "text": [
      "\r",
      "5127it [04:21, 16.96it/s]"
     ]
    },
    {
     "name": "stdout",
     "output_type": "stream",
     "text": [
      "(1, 450, 600, 3)\n",
      "(1, 450, 600, 3)\n",
      "(1, 450, 600, 3)\n",
      "(1, 450, 600, 3)\n"
     ]
    },
    {
     "name": "stderr",
     "output_type": "stream",
     "text": [
      "5133it [04:21, 17.23it/s]"
     ]
    },
    {
     "name": "stdout",
     "output_type": "stream",
     "text": [
      "(1, 450, 600, 3)\n",
      "(1, 450, 600, 3)\n",
      "(1, 450, 600, 3)\n",
      "(1, 450, 600, 3)\n"
     ]
    },
    {
     "name": "stderr",
     "output_type": "stream",
     "text": [
      "\r",
      "5135it [04:21, 17.49it/s]"
     ]
    },
    {
     "name": "stdout",
     "output_type": "stream",
     "text": [
      "(1, 450, 600, 3)\n",
      "(1, 450, 600, 3)\n",
      "(1, 450, 600, 3)\n",
      "(1, 450, 600, 3)\n"
     ]
    },
    {
     "name": "stderr",
     "output_type": "stream",
     "text": [
      "5141it [04:21, 17.62it/s]"
     ]
    },
    {
     "name": "stdout",
     "output_type": "stream",
     "text": [
      "(1, 450, 600, 3)\n",
      "(1, 450, 600, 3)\n",
      "(1, 450, 600, 3)\n",
      "(1, 450, 600, 3)\n",
      "(1, 450, 600, 3)\n"
     ]
    },
    {
     "name": "stderr",
     "output_type": "stream",
     "text": [
      "5145it [04:22, 17.21it/s]"
     ]
    },
    {
     "name": "stdout",
     "output_type": "stream",
     "text": [
      "(1, 450, 600, 3)\n",
      "(1, 450, 600, 3)\n",
      "(1, 450, 600, 3)\n",
      "(1, 450, 600, 3)\n"
     ]
    },
    {
     "name": "stderr",
     "output_type": "stream",
     "text": [
      "5149it [04:22, 17.12it/s]"
     ]
    },
    {
     "name": "stdout",
     "output_type": "stream",
     "text": [
      "(1, 450, 600, 3)\n",
      "(1, 450, 600, 3)\n",
      "(1, 450, 600, 3)\n",
      "(1, 450, 600, 3)\n"
     ]
    },
    {
     "name": "stderr",
     "output_type": "stream",
     "text": [
      "5153it [04:22, 17.50it/s]"
     ]
    },
    {
     "name": "stdout",
     "output_type": "stream",
     "text": [
      "(1, 450, 600, 3)\n",
      "(1, 450, 600, 3)\n",
      "(1, 450, 600, 3)\n",
      "(1, 450, 600, 3)\n"
     ]
    },
    {
     "name": "stderr",
     "output_type": "stream",
     "text": [
      "5157it [04:22, 17.40it/s]"
     ]
    },
    {
     "name": "stdout",
     "output_type": "stream",
     "text": [
      "(1, 450, 600, 3)\n",
      "(1, 450, 600, 3)\n",
      "(1, 450, 600, 3)\n",
      "(1, 450, 600, 3)\n"
     ]
    },
    {
     "name": "stderr",
     "output_type": "stream",
     "text": [
      "5161it [04:23, 17.18it/s]"
     ]
    },
    {
     "name": "stdout",
     "output_type": "stream",
     "text": [
      "(1, 450, 600, 3)\n",
      "(1, 450, 600, 3)\n",
      "(1, 450, 600, 3)\n",
      "(1, 450, 600, 3)\n"
     ]
    },
    {
     "name": "stderr",
     "output_type": "stream",
     "text": [
      "5165it [04:23, 15.92it/s]"
     ]
    },
    {
     "name": "stdout",
     "output_type": "stream",
     "text": [
      "(1, 450, 600, 3)\n",
      "(1, 450, 600, 3)\n",
      "(1, 450, 600, 3)\n"
     ]
    },
    {
     "name": "stderr",
     "output_type": "stream",
     "text": [
      "5169it [04:23, 15.95it/s]"
     ]
    },
    {
     "name": "stdout",
     "output_type": "stream",
     "text": [
      "(1, 450, 600, 3)\n",
      "(1, 450, 600, 3)\n",
      "(1, 450, 600, 3)\n",
      "(1, 450, 600, 3)\n"
     ]
    },
    {
     "name": "stderr",
     "output_type": "stream",
     "text": [
      "5173it [04:23, 16.51it/s]"
     ]
    },
    {
     "name": "stdout",
     "output_type": "stream",
     "text": [
      "(1, 450, 600, 3)\n",
      "(1, 450, 600, 3)\n",
      "(1, 450, 600, 3)\n",
      "(1, 450, 600, 3)\n"
     ]
    },
    {
     "name": "stderr",
     "output_type": "stream",
     "text": [
      "5177it [04:24, 17.35it/s]"
     ]
    },
    {
     "name": "stdout",
     "output_type": "stream",
     "text": [
      "(1, 450, 600, 3)\n",
      "(1, 450, 600, 3)\n",
      "(1, 450, 600, 3)\n",
      "(1, 450, 600, 3)\n"
     ]
    },
    {
     "name": "stderr",
     "output_type": "stream",
     "text": [
      "5181it [04:24, 17.28it/s]"
     ]
    },
    {
     "name": "stdout",
     "output_type": "stream",
     "text": [
      "(1, 450, 600, 3)\n",
      "(1, 450, 600, 3)\n",
      "(1, 450, 600, 3)\n",
      "(1, 450, 600, 3)\n"
     ]
    },
    {
     "name": "stderr",
     "output_type": "stream",
     "text": [
      "5185it [04:24, 18.02it/s]"
     ]
    },
    {
     "name": "stdout",
     "output_type": "stream",
     "text": [
      "(1, 450, 600, 3)\n",
      "(1, 450, 600, 3)\n",
      "(1, 450, 600, 3)\n",
      "(1, 450, 600, 3)\n"
     ]
    },
    {
     "name": "stderr",
     "output_type": "stream",
     "text": [
      "5189it [04:24, 17.77it/s]"
     ]
    },
    {
     "name": "stdout",
     "output_type": "stream",
     "text": [
      "(1, 450, 600, 3)\n",
      "(1, 450, 600, 3)\n",
      "(1, 450, 600, 3)\n",
      "(1, 450, 600, 3)\n"
     ]
    },
    {
     "name": "stderr",
     "output_type": "stream",
     "text": [
      "5193it [04:24, 17.83it/s]"
     ]
    },
    {
     "name": "stdout",
     "output_type": "stream",
     "text": [
      "(1, 450, 600, 3)\n",
      "(1, 450, 600, 3)\n",
      "(1, 450, 600, 3)\n",
      "(1, 450, 600, 3)\n"
     ]
    },
    {
     "name": "stderr",
     "output_type": "stream",
     "text": [
      "5197it [04:25, 17.74it/s]"
     ]
    },
    {
     "name": "stdout",
     "output_type": "stream",
     "text": [
      "(1, 450, 600, 3)\n",
      "(1, 450, 600, 3)\n",
      "(1, 450, 600, 3)\n",
      "(1, 450, 600, 3)\n"
     ]
    },
    {
     "name": "stderr",
     "output_type": "stream",
     "text": [
      "5201it [04:25, 17.76it/s]"
     ]
    },
    {
     "name": "stdout",
     "output_type": "stream",
     "text": [
      "(1, 450, 600, 3)\n",
      "(1, 450, 600, 3)\n",
      "(1, 450, 600, 3)\n",
      "(1, 450, 600, 3)\n"
     ]
    },
    {
     "name": "stderr",
     "output_type": "stream",
     "text": [
      "5205it [04:25, 17.93it/s]"
     ]
    },
    {
     "name": "stdout",
     "output_type": "stream",
     "text": [
      "(1, 450, 600, 3)\n",
      "(1, 450, 600, 3)\n",
      "(1, 450, 600, 3)\n",
      "(1, 450, 600, 3)\n"
     ]
    },
    {
     "name": "stderr",
     "output_type": "stream",
     "text": [
      "5209it [04:25, 17.72it/s]"
     ]
    },
    {
     "name": "stdout",
     "output_type": "stream",
     "text": [
      "(1, 450, 600, 3)\n",
      "(1, 450, 600, 3)\n",
      "(1, 450, 600, 3)\n",
      "(1, 450, 600, 3)\n"
     ]
    },
    {
     "name": "stderr",
     "output_type": "stream",
     "text": [
      "5213it [04:26, 17.44it/s]"
     ]
    },
    {
     "name": "stdout",
     "output_type": "stream",
     "text": [
      "(1, 450, 600, 3)\n",
      "(1, 450, 600, 3)\n",
      "(1, 450, 600, 3)\n",
      "(1, 450, 600, 3)\n"
     ]
    },
    {
     "name": "stderr",
     "output_type": "stream",
     "text": [
      "5217it [04:26, 17.80it/s]"
     ]
    },
    {
     "name": "stdout",
     "output_type": "stream",
     "text": [
      "(1, 450, 600, 3)\n",
      "(1, 450, 600, 3)\n",
      "(1, 450, 600, 3)\n",
      "(1, 450, 600, 3)\n"
     ]
    },
    {
     "name": "stderr",
     "output_type": "stream",
     "text": [
      "5221it [04:26, 17.91it/s]"
     ]
    },
    {
     "name": "stdout",
     "output_type": "stream",
     "text": [
      "(1, 450, 600, 3)\n",
      "(1, 450, 600, 3)\n",
      "(1, 450, 600, 3)\n",
      "(1, 450, 600, 3)\n"
     ]
    },
    {
     "name": "stderr",
     "output_type": "stream",
     "text": [
      "5225it [04:26, 17.74it/s]"
     ]
    },
    {
     "name": "stdout",
     "output_type": "stream",
     "text": [
      "(1, 450, 600, 3)\n",
      "(1, 450, 600, 3)\n",
      "(1, 450, 600, 3)\n",
      "(1, 450, 600, 3)\n"
     ]
    },
    {
     "name": "stderr",
     "output_type": "stream",
     "text": [
      "5229it [04:26, 17.84it/s]"
     ]
    },
    {
     "name": "stdout",
     "output_type": "stream",
     "text": [
      "(1, 450, 600, 3)\n",
      "(1, 450, 600, 3)\n",
      "(1, 450, 600, 3)\n",
      "(1, 450, 600, 3)\n"
     ]
    },
    {
     "name": "stderr",
     "output_type": "stream",
     "text": [
      "5233it [04:27, 17.75it/s]"
     ]
    },
    {
     "name": "stdout",
     "output_type": "stream",
     "text": [
      "(1, 450, 600, 3)\n",
      "(1, 450, 600, 3)\n",
      "(1, 450, 600, 3)\n",
      "(1, 450, 600, 3)\n"
     ]
    },
    {
     "name": "stderr",
     "output_type": "stream",
     "text": [
      "5237it [04:27, 17.42it/s]"
     ]
    },
    {
     "name": "stdout",
     "output_type": "stream",
     "text": [
      "(1, 450, 600, 3)\n",
      "(1, 450, 600, 3)\n",
      "(1, 450, 600, 3)\n",
      "(1, 450, 600, 3)\n"
     ]
    },
    {
     "name": "stderr",
     "output_type": "stream",
     "text": [
      "5241it [04:27, 17.91it/s]"
     ]
    },
    {
     "name": "stdout",
     "output_type": "stream",
     "text": [
      "(1, 450, 600, 3)\n",
      "(1, 450, 600, 3)\n",
      "(1, 450, 600, 3)\n",
      "(1, 450, 600, 3)\n"
     ]
    },
    {
     "name": "stderr",
     "output_type": "stream",
     "text": [
      "\r",
      "5243it [04:27, 17.68it/s]"
     ]
    },
    {
     "name": "stdout",
     "output_type": "stream",
     "text": [
      "(1, 450, 600, 3)\n",
      "(1, 450, 600, 3)\n",
      "(1, 450, 600, 3)\n",
      "(1, 450, 600, 3)\n"
     ]
    },
    {
     "name": "stderr",
     "output_type": "stream",
     "text": [
      "5249it [04:28, 16.33it/s]"
     ]
    },
    {
     "name": "stdout",
     "output_type": "stream",
     "text": [
      "(1, 450, 600, 3)\n",
      "(1, 450, 600, 3)\n",
      "(1, 450, 600, 3)\n",
      "(1, 450, 600, 3)\n"
     ]
    },
    {
     "name": "stderr",
     "output_type": "stream",
     "text": [
      "5253it [04:28, 16.96it/s]"
     ]
    },
    {
     "name": "stdout",
     "output_type": "stream",
     "text": [
      "(1, 450, 600, 3)\n",
      "(1, 450, 600, 3)\n",
      "(1, 450, 600, 3)\n",
      "(1, 450, 600, 3)\n"
     ]
    },
    {
     "name": "stderr",
     "output_type": "stream",
     "text": [
      "5257it [04:28, 17.53it/s]"
     ]
    },
    {
     "name": "stdout",
     "output_type": "stream",
     "text": [
      "(1, 450, 600, 3)\n",
      "(1, 450, 600, 3)\n",
      "(1, 450, 600, 3)\n",
      "(1, 450, 600, 3)\n"
     ]
    },
    {
     "name": "stderr",
     "output_type": "stream",
     "text": [
      "5261it [04:28, 17.57it/s]"
     ]
    },
    {
     "name": "stdout",
     "output_type": "stream",
     "text": [
      "(1, 450, 600, 3)\n",
      "(1, 450, 600, 3)\n",
      "(1, 450, 600, 3)\n",
      "(1, 450, 600, 3)\n"
     ]
    },
    {
     "name": "stderr",
     "output_type": "stream",
     "text": [
      "5265it [04:29, 17.53it/s]"
     ]
    },
    {
     "name": "stdout",
     "output_type": "stream",
     "text": [
      "(1, 450, 600, 3)\n",
      "(1, 450, 600, 3)\n",
      "(1, 450, 600, 3)\n",
      "(1, 450, 600, 3)\n"
     ]
    },
    {
     "name": "stderr",
     "output_type": "stream",
     "text": [
      "\r",
      "5267it [04:29, 17.24it/s]"
     ]
    },
    {
     "name": "stdout",
     "output_type": "stream",
     "text": [
      "(1, 450, 600, 3)\n",
      "(1, 450, 600, 3)\n",
      "(1, 450, 600, 3)\n",
      "(1, 450, 600, 3)\n"
     ]
    },
    {
     "name": "stderr",
     "output_type": "stream",
     "text": [
      "5273it [04:29, 17.27it/s]"
     ]
    },
    {
     "name": "stdout",
     "output_type": "stream",
     "text": [
      "(1, 450, 600, 3)\n",
      "(1, 450, 600, 3)\n",
      "(1, 450, 600, 3)\n",
      "(1, 450, 600, 3)\n"
     ]
    },
    {
     "name": "stderr",
     "output_type": "stream",
     "text": [
      "5277it [04:29, 17.71it/s]"
     ]
    },
    {
     "name": "stdout",
     "output_type": "stream",
     "text": [
      "(1, 450, 600, 3)\n",
      "(1, 450, 600, 3)\n",
      "(1, 450, 600, 3)\n",
      "(1, 450, 600, 3)\n"
     ]
    },
    {
     "name": "stderr",
     "output_type": "stream",
     "text": [
      "5281it [04:29, 17.81it/s]"
     ]
    },
    {
     "name": "stdout",
     "output_type": "stream",
     "text": [
      "(1, 450, 600, 3)\n",
      "(1, 450, 600, 3)\n",
      "(1, 450, 600, 3)\n",
      "(1, 450, 600, 3)\n"
     ]
    },
    {
     "name": "stderr",
     "output_type": "stream",
     "text": [
      "\r",
      "5283it [04:30, 17.65it/s]"
     ]
    },
    {
     "name": "stdout",
     "output_type": "stream",
     "text": [
      "(1, 450, 600, 3)\n",
      "(1, 450, 600, 3)\n",
      "(1, 450, 600, 3)\n",
      "(1, 450, 600, 3)\n"
     ]
    },
    {
     "name": "stderr",
     "output_type": "stream",
     "text": [
      "5287it [04:30, 17.58it/s]"
     ]
    },
    {
     "name": "stdout",
     "output_type": "stream",
     "text": [
      "(1, 450, 600, 3)\n",
      "(1, 450, 600, 3)\n",
      "(1, 450, 600, 3)\n",
      "(1, 450, 600, 3)\n"
     ]
    },
    {
     "name": "stderr",
     "output_type": "stream",
     "text": [
      "5293it [04:30, 17.60it/s]"
     ]
    },
    {
     "name": "stdout",
     "output_type": "stream",
     "text": [
      "(1, 450, 600, 3)\n",
      "(1, 450, 600, 3)\n",
      "(1, 450, 600, 3)\n",
      "(1, 450, 600, 3)\n"
     ]
    },
    {
     "name": "stderr",
     "output_type": "stream",
     "text": [
      "5297it [04:30, 17.49it/s]"
     ]
    },
    {
     "name": "stdout",
     "output_type": "stream",
     "text": [
      "(1, 450, 600, 3)\n",
      "(1, 450, 600, 3)\n",
      "(1, 450, 600, 3)\n",
      "(1, 450, 600, 3)\n"
     ]
    },
    {
     "name": "stderr",
     "output_type": "stream",
     "text": [
      "5301it [04:31, 17.80it/s]"
     ]
    },
    {
     "name": "stdout",
     "output_type": "stream",
     "text": [
      "(1, 450, 600, 3)\n",
      "(1, 450, 600, 3)\n",
      "(1, 450, 600, 3)\n",
      "(1, 450, 600, 3)\n"
     ]
    },
    {
     "name": "stderr",
     "output_type": "stream",
     "text": [
      "5305it [04:31, 17.79it/s]"
     ]
    },
    {
     "name": "stdout",
     "output_type": "stream",
     "text": [
      "(1, 450, 600, 3)\n",
      "(1, 450, 600, 3)\n",
      "(1, 450, 600, 3)\n",
      "(1, 450, 600, 3)\n"
     ]
    },
    {
     "name": "stderr",
     "output_type": "stream",
     "text": [
      "5309it [04:31, 17.67it/s]"
     ]
    },
    {
     "name": "stdout",
     "output_type": "stream",
     "text": [
      "(1, 450, 600, 3)\n",
      "(1, 450, 600, 3)\n",
      "(1, 450, 600, 3)\n",
      "(1, 450, 600, 3)\n"
     ]
    },
    {
     "name": "stderr",
     "output_type": "stream",
     "text": [
      "5313it [04:31, 17.38it/s]"
     ]
    },
    {
     "name": "stdout",
     "output_type": "stream",
     "text": [
      "(1, 450, 600, 3)\n",
      "(1, 450, 600, 3)\n",
      "(1, 450, 600, 3)\n",
      "(1, 450, 600, 3)\n"
     ]
    },
    {
     "name": "stderr",
     "output_type": "stream",
     "text": [
      "5317it [04:31, 17.22it/s]"
     ]
    },
    {
     "name": "stdout",
     "output_type": "stream",
     "text": [
      "(1, 450, 600, 3)\n",
      "(1, 450, 600, 3)\n",
      "(1, 450, 600, 3)\n",
      "(1, 450, 600, 3)\n"
     ]
    },
    {
     "name": "stderr",
     "output_type": "stream",
     "text": [
      "5321it [04:32, 16.65it/s]"
     ]
    },
    {
     "name": "stdout",
     "output_type": "stream",
     "text": [
      "(1, 450, 600, 3)\n",
      "(1, 450, 600, 3)\n",
      "(1, 450, 600, 3)\n",
      "(1, 450, 600, 3)\n"
     ]
    },
    {
     "name": "stderr",
     "output_type": "stream",
     "text": [
      "\r",
      "5323it [04:32, 16.66it/s]"
     ]
    },
    {
     "name": "stdout",
     "output_type": "stream",
     "text": [
      "(1, 450, 600, 3)\n",
      "(1, 450, 600, 3)\n",
      "(1, 450, 600, 3)\n",
      "(1, 450, 600, 3)\n"
     ]
    },
    {
     "name": "stderr",
     "output_type": "stream",
     "text": [
      "5327it [04:32, 15.58it/s]"
     ]
    },
    {
     "name": "stdout",
     "output_type": "stream",
     "text": [
      "(1, 450, 600, 3)\n",
      "(1, 450, 600, 3)\n",
      "(1, 450, 600, 3)\n",
      "(1, 450, 600, 3)\n"
     ]
    },
    {
     "name": "stderr",
     "output_type": "stream",
     "text": [
      "5331it [04:32, 16.79it/s]"
     ]
    },
    {
     "name": "stdout",
     "output_type": "stream",
     "text": [
      "(1, 450, 600, 3)\n",
      "(1, 450, 600, 3)\n",
      "(1, 450, 600, 3)\n",
      "(1, 450, 600, 3)\n"
     ]
    },
    {
     "name": "stderr",
     "output_type": "stream",
     "text": [
      "5337it [04:33, 17.06it/s]"
     ]
    },
    {
     "name": "stdout",
     "output_type": "stream",
     "text": [
      "(1, 450, 600, 3)\n",
      "(1, 450, 600, 3)\n",
      "(1, 450, 600, 3)\n",
      "(1, 450, 600, 3)\n"
     ]
    },
    {
     "name": "stderr",
     "output_type": "stream",
     "text": [
      "5341it [04:33, 17.68it/s]"
     ]
    },
    {
     "name": "stdout",
     "output_type": "stream",
     "text": [
      "(1, 450, 600, 3)\n",
      "(1, 450, 600, 3)\n",
      "(1, 450, 600, 3)\n",
      "(1, 450, 600, 3)\n"
     ]
    },
    {
     "name": "stderr",
     "output_type": "stream",
     "text": [
      "5345it [04:33, 17.37it/s]"
     ]
    },
    {
     "name": "stdout",
     "output_type": "stream",
     "text": [
      "(1, 450, 600, 3)\n",
      "(1, 450, 600, 3)\n",
      "(1, 450, 600, 3)\n",
      "(1, 450, 600, 3)\n"
     ]
    },
    {
     "name": "stderr",
     "output_type": "stream",
     "text": [
      "5349it [04:33, 17.41it/s]"
     ]
    },
    {
     "name": "stdout",
     "output_type": "stream",
     "text": [
      "(1, 450, 600, 3)\n",
      "(1, 450, 600, 3)\n",
      "(1, 450, 600, 3)\n",
      "(1, 450, 600, 3)\n"
     ]
    },
    {
     "name": "stderr",
     "output_type": "stream",
     "text": [
      "5353it [04:34, 17.60it/s]"
     ]
    },
    {
     "name": "stdout",
     "output_type": "stream",
     "text": [
      "(1, 450, 600, 3)\n",
      "(1, 450, 600, 3)\n",
      "(1, 450, 600, 3)\n",
      "(1, 450, 600, 3)\n"
     ]
    },
    {
     "name": "stderr",
     "output_type": "stream",
     "text": [
      "\r",
      "5355it [04:34, 17.55it/s]"
     ]
    },
    {
     "name": "stdout",
     "output_type": "stream",
     "text": [
      "(1, 450, 600, 3)\n",
      "(1, 450, 600, 3)\n",
      "(1, 450, 600, 3)\n",
      "(1, 450, 600, 3)\n"
     ]
    },
    {
     "name": "stderr",
     "output_type": "stream",
     "text": [
      "5361it [04:34, 17.48it/s]"
     ]
    },
    {
     "name": "stdout",
     "output_type": "stream",
     "text": [
      "(1, 450, 600, 3)\n",
      "(1, 450, 600, 3)\n",
      "(1, 450, 600, 3)\n",
      "(1, 450, 600, 3)\n"
     ]
    },
    {
     "name": "stderr",
     "output_type": "stream",
     "text": [
      "5365it [04:34, 17.16it/s]"
     ]
    },
    {
     "name": "stdout",
     "output_type": "stream",
     "text": [
      "(1, 450, 600, 3)\n",
      "(1, 450, 600, 3)\n",
      "(1, 450, 600, 3)\n",
      "(1, 450, 600, 3)\n"
     ]
    },
    {
     "name": "stderr",
     "output_type": "stream",
     "text": [
      "5369it [04:35, 17.62it/s]"
     ]
    },
    {
     "name": "stdout",
     "output_type": "stream",
     "text": [
      "(1, 450, 600, 3)\n",
      "(1, 450, 600, 3)\n",
      "(1, 450, 600, 3)\n",
      "(1, 450, 600, 3)\n"
     ]
    },
    {
     "name": "stderr",
     "output_type": "stream",
     "text": [
      "5373it [04:35, 18.05it/s]"
     ]
    },
    {
     "name": "stdout",
     "output_type": "stream",
     "text": [
      "(1, 450, 600, 3)\n",
      "(1, 450, 600, 3)\n",
      "(1, 450, 600, 3)\n",
      "(1, 450, 600, 3)\n"
     ]
    },
    {
     "name": "stderr",
     "output_type": "stream",
     "text": [
      "5377it [04:35, 17.19it/s]"
     ]
    },
    {
     "name": "stdout",
     "output_type": "stream",
     "text": [
      "(1, 450, 600, 3)\n",
      "(1, 450, 600, 3)\n",
      "(1, 450, 600, 3)\n",
      "(1, 450, 600, 3)\n"
     ]
    },
    {
     "name": "stderr",
     "output_type": "stream",
     "text": [
      "5381it [04:35, 17.89it/s]"
     ]
    },
    {
     "name": "stdout",
     "output_type": "stream",
     "text": [
      "(1, 450, 600, 3)\n",
      "(1, 450, 600, 3)\n",
      "(1, 450, 600, 3)\n",
      "(1, 450, 600, 3)\n"
     ]
    },
    {
     "name": "stderr",
     "output_type": "stream",
     "text": [
      "5385it [04:35, 17.77it/s]"
     ]
    },
    {
     "name": "stdout",
     "output_type": "stream",
     "text": [
      "(1, 450, 600, 3)\n",
      "(1, 450, 600, 3)\n",
      "(1, 450, 600, 3)\n",
      "(1, 450, 600, 3)\n"
     ]
    },
    {
     "name": "stderr",
     "output_type": "stream",
     "text": [
      "5389it [04:36, 17.58it/s]"
     ]
    },
    {
     "name": "stdout",
     "output_type": "stream",
     "text": [
      "(1, 450, 600, 3)\n",
      "(1, 450, 600, 3)\n",
      "(1, 450, 600, 3)\n",
      "(1, 450, 600, 3)\n"
     ]
    },
    {
     "name": "stderr",
     "output_type": "stream",
     "text": [
      "5393it [04:36, 17.24it/s]"
     ]
    },
    {
     "name": "stdout",
     "output_type": "stream",
     "text": [
      "(1, 450, 600, 3)\n",
      "(1, 450, 600, 3)\n",
      "(1, 450, 600, 3)\n",
      "(1, 450, 600, 3)\n"
     ]
    },
    {
     "name": "stderr",
     "output_type": "stream",
     "text": [
      "5397it [04:36, 17.48it/s]"
     ]
    },
    {
     "name": "stdout",
     "output_type": "stream",
     "text": [
      "(1, 450, 600, 3)\n",
      "(1, 450, 600, 3)\n",
      "(1, 450, 600, 3)\n",
      "(1, 450, 600, 3)\n"
     ]
    },
    {
     "name": "stderr",
     "output_type": "stream",
     "text": [
      "5401it [04:36, 17.13it/s]"
     ]
    },
    {
     "name": "stdout",
     "output_type": "stream",
     "text": [
      "(1, 450, 600, 3)\n",
      "(1, 450, 600, 3)\n",
      "(1, 450, 600, 3)\n",
      "(1, 450, 600, 3)\n"
     ]
    },
    {
     "name": "stderr",
     "output_type": "stream",
     "text": [
      "\r",
      "5403it [04:36, 17.36it/s]"
     ]
    },
    {
     "name": "stdout",
     "output_type": "stream",
     "text": [
      "(1, 450, 600, 3)\n",
      "(1, 450, 600, 3)\n",
      "(1, 450, 600, 3)\n",
      "(1, 450, 600, 3)\n"
     ]
    },
    {
     "name": "stderr",
     "output_type": "stream",
     "text": [
      "5407it [04:37, 16.15it/s]"
     ]
    },
    {
     "name": "stdout",
     "output_type": "stream",
     "text": [
      "(1, 450, 600, 3)\n",
      "(1, 450, 600, 3)\n",
      "(1, 450, 600, 3)\n"
     ]
    },
    {
     "name": "stderr",
     "output_type": "stream",
     "text": [
      "5411it [04:37, 16.04it/s]"
     ]
    },
    {
     "name": "stdout",
     "output_type": "stream",
     "text": [
      "(1, 450, 600, 3)\n",
      "(1, 450, 600, 3)\n",
      "(1, 450, 600, 3)\n",
      "(1, 450, 600, 3)\n"
     ]
    },
    {
     "name": "stderr",
     "output_type": "stream",
     "text": [
      "5415it [04:37, 17.18it/s]"
     ]
    },
    {
     "name": "stdout",
     "output_type": "stream",
     "text": [
      "(1, 450, 600, 3)\n",
      "(1, 450, 600, 3)\n",
      "(1, 450, 600, 3)\n",
      "(1, 450, 600, 3)\n"
     ]
    },
    {
     "name": "stderr",
     "output_type": "stream",
     "text": [
      "5419it [04:37, 17.21it/s]"
     ]
    },
    {
     "name": "stdout",
     "output_type": "stream",
     "text": [
      "(1, 450, 600, 3)\n",
      "(1, 450, 600, 3)\n",
      "(1, 450, 600, 3)\n",
      "(1, 450, 600, 3)\n"
     ]
    },
    {
     "name": "stderr",
     "output_type": "stream",
     "text": [
      "5423it [04:38, 18.01it/s]"
     ]
    },
    {
     "name": "stdout",
     "output_type": "stream",
     "text": [
      "(1, 450, 600, 3)\n",
      "(1, 450, 600, 3)\n",
      "(1, 450, 600, 3)\n",
      "(1, 450, 600, 3)\n"
     ]
    },
    {
     "name": "stderr",
     "output_type": "stream",
     "text": [
      "5427it [04:38, 17.17it/s]"
     ]
    },
    {
     "name": "stdout",
     "output_type": "stream",
     "text": [
      "(1, 450, 600, 3)\n",
      "(1, 450, 600, 3)\n",
      "(1, 450, 600, 3)\n",
      "(1, 450, 600, 3)\n"
     ]
    },
    {
     "name": "stderr",
     "output_type": "stream",
     "text": [
      "5431it [04:38, 17.55it/s]"
     ]
    },
    {
     "name": "stdout",
     "output_type": "stream",
     "text": [
      "(1, 450, 600, 3)\n",
      "(1, 450, 600, 3)\n",
      "(1, 450, 600, 3)\n",
      "(1, 450, 600, 3)\n"
     ]
    },
    {
     "name": "stderr",
     "output_type": "stream",
     "text": [
      "5435it [04:38, 17.37it/s]"
     ]
    },
    {
     "name": "stdout",
     "output_type": "stream",
     "text": [
      "(1, 450, 600, 3)\n",
      "(1, 450, 600, 3)\n",
      "(1, 450, 600, 3)\n",
      "(1, 450, 600, 3)\n"
     ]
    },
    {
     "name": "stderr",
     "output_type": "stream",
     "text": [
      "5439it [04:39, 17.86it/s]"
     ]
    },
    {
     "name": "stdout",
     "output_type": "stream",
     "text": [
      "(1, 450, 600, 3)\n",
      "(1, 450, 600, 3)\n",
      "(1, 450, 600, 3)\n",
      "(1, 450, 600, 3)\n"
     ]
    },
    {
     "name": "stderr",
     "output_type": "stream",
     "text": [
      "5443it [04:39, 17.55it/s]"
     ]
    },
    {
     "name": "stdout",
     "output_type": "stream",
     "text": [
      "(1, 450, 600, 3)\n",
      "(1, 450, 600, 3)\n",
      "(1, 450, 600, 3)\n",
      "(1, 450, 600, 3)\n"
     ]
    },
    {
     "name": "stderr",
     "output_type": "stream",
     "text": [
      "5447it [04:39, 17.40it/s]"
     ]
    },
    {
     "name": "stdout",
     "output_type": "stream",
     "text": [
      "(1, 450, 600, 3)\n",
      "(1, 450, 600, 3)\n",
      "(1, 450, 600, 3)\n",
      "(1, 450, 600, 3)\n"
     ]
    },
    {
     "name": "stderr",
     "output_type": "stream",
     "text": [
      "5451it [04:39, 17.79it/s]"
     ]
    },
    {
     "name": "stdout",
     "output_type": "stream",
     "text": [
      "(1, 450, 600, 3)\n",
      "(1, 450, 600, 3)\n",
      "(1, 450, 600, 3)\n",
      "(1, 450, 600, 3)\n"
     ]
    },
    {
     "name": "stderr",
     "output_type": "stream",
     "text": [
      "5455it [04:40, 17.05it/s]"
     ]
    },
    {
     "name": "stdout",
     "output_type": "stream",
     "text": [
      "(1, 450, 600, 3)\n",
      "(1, 450, 600, 3)\n",
      "(1, 450, 600, 3)\n",
      "(1, 450, 600, 3)\n"
     ]
    },
    {
     "name": "stderr",
     "output_type": "stream",
     "text": [
      "5460it [04:40, 17.40it/s]"
     ]
    },
    {
     "name": "stdout",
     "output_type": "stream",
     "text": [
      "(1, 450, 600, 3)\n",
      "(1, 450, 600, 3)\n",
      "(1, 450, 600, 3)\n",
      "(1, 450, 600, 3)\n"
     ]
    },
    {
     "name": "stderr",
     "output_type": "stream",
     "text": [
      "\r",
      "5462it [04:40, 17.30it/s]"
     ]
    },
    {
     "name": "stdout",
     "output_type": "stream",
     "text": [
      "(1, 450, 600, 3)\n",
      "(1, 450, 600, 3)\n",
      "(1, 450, 600, 3)\n",
      "(1, 450, 600, 3)\n"
     ]
    },
    {
     "name": "stderr",
     "output_type": "stream",
     "text": [
      "5468it [04:40, 17.37it/s]"
     ]
    },
    {
     "name": "stdout",
     "output_type": "stream",
     "text": [
      "(1, 450, 600, 3)\n",
      "(1, 450, 600, 3)\n",
      "(1, 450, 600, 3)\n",
      "(1, 450, 600, 3)\n"
     ]
    },
    {
     "name": "stderr",
     "output_type": "stream",
     "text": [
      "5472it [04:40, 17.21it/s]"
     ]
    },
    {
     "name": "stdout",
     "output_type": "stream",
     "text": [
      "(1, 450, 600, 3)\n",
      "(1, 450, 600, 3)\n",
      "(1, 450, 600, 3)\n",
      "(1, 450, 600, 3)\n"
     ]
    },
    {
     "name": "stderr",
     "output_type": "stream",
     "text": [
      "5476it [04:41, 17.53it/s]"
     ]
    },
    {
     "name": "stdout",
     "output_type": "stream",
     "text": [
      "(1, 450, 600, 3)\n",
      "(1, 450, 600, 3)\n",
      "(1, 450, 600, 3)\n",
      "(1, 450, 600, 3)\n"
     ]
    },
    {
     "name": "stderr",
     "output_type": "stream",
     "text": [
      "\r",
      "5478it [04:41, 17.48it/s]"
     ]
    },
    {
     "name": "stdout",
     "output_type": "stream",
     "text": [
      "(1, 450, 600, 3)\n",
      "(1, 450, 600, 3)\n",
      "(1, 450, 600, 3)\n",
      "(1, 450, 600, 3)\n"
     ]
    },
    {
     "name": "stderr",
     "output_type": "stream",
     "text": [
      "5484it [04:41, 17.26it/s]"
     ]
    },
    {
     "name": "stdout",
     "output_type": "stream",
     "text": [
      "(1, 450, 600, 3)\n",
      "(1, 450, 600, 3)\n",
      "(1, 450, 600, 3)\n",
      "(1, 450, 600, 3)\n"
     ]
    },
    {
     "name": "stderr",
     "output_type": "stream",
     "text": [
      "\r",
      "5486it [04:41, 16.16it/s]"
     ]
    },
    {
     "name": "stdout",
     "output_type": "stream",
     "text": [
      "(1, 450, 600, 3)\n",
      "(1, 450, 600, 3)\n",
      "(1, 450, 600, 3)\n"
     ]
    },
    {
     "name": "stderr",
     "output_type": "stream",
     "text": [
      "5490it [04:42, 15.95it/s]"
     ]
    },
    {
     "name": "stdout",
     "output_type": "stream",
     "text": [
      "(1, 450, 600, 3)\n",
      "(1, 450, 600, 3)\n",
      "(1, 450, 600, 3)\n",
      "(1, 450, 600, 3)\n"
     ]
    },
    {
     "name": "stderr",
     "output_type": "stream",
     "text": [
      "5494it [04:42, 16.43it/s]"
     ]
    },
    {
     "name": "stdout",
     "output_type": "stream",
     "text": [
      "(1, 450, 600, 3)\n",
      "(1, 450, 600, 3)\n",
      "(1, 450, 600, 3)\n",
      "(1, 450, 600, 3)\n"
     ]
    },
    {
     "name": "stderr",
     "output_type": "stream",
     "text": [
      "5498it [04:42, 16.79it/s]"
     ]
    },
    {
     "name": "stdout",
     "output_type": "stream",
     "text": [
      "(1, 450, 600, 3)\n",
      "(1, 450, 600, 3)\n",
      "(1, 450, 600, 3)\n",
      "(1, 450, 600, 3)\n"
     ]
    },
    {
     "name": "stderr",
     "output_type": "stream",
     "text": [
      "5502it [04:42, 17.53it/s]"
     ]
    },
    {
     "name": "stdout",
     "output_type": "stream",
     "text": [
      "(1, 450, 600, 3)\n",
      "(1, 450, 600, 3)\n",
      "(1, 450, 600, 3)\n",
      "(1, 450, 600, 3)\n"
     ]
    },
    {
     "name": "stderr",
     "output_type": "stream",
     "text": [
      "5506it [04:42, 18.19it/s]"
     ]
    },
    {
     "name": "stdout",
     "output_type": "stream",
     "text": [
      "(1, 450, 600, 3)\n",
      "(1, 450, 600, 3)\n",
      "(1, 450, 600, 3)\n",
      "(1, 450, 600, 3)\n"
     ]
    },
    {
     "name": "stderr",
     "output_type": "stream",
     "text": [
      "5510it [04:43, 17.95it/s]"
     ]
    },
    {
     "name": "stdout",
     "output_type": "stream",
     "text": [
      "(1, 450, 600, 3)\n",
      "(1, 450, 600, 3)\n",
      "(1, 450, 600, 3)\n",
      "(1, 450, 600, 3)\n"
     ]
    },
    {
     "name": "stderr",
     "output_type": "stream",
     "text": [
      "5514it [04:43, 17.51it/s]"
     ]
    },
    {
     "name": "stdout",
     "output_type": "stream",
     "text": [
      "(1, 450, 600, 3)\n",
      "(1, 450, 600, 3)\n",
      "(1, 450, 600, 3)\n",
      "(1, 450, 600, 3)\n"
     ]
    },
    {
     "name": "stderr",
     "output_type": "stream",
     "text": [
      "5518it [04:43, 17.56it/s]"
     ]
    },
    {
     "name": "stdout",
     "output_type": "stream",
     "text": [
      "(1, 450, 600, 3)\n",
      "(1, 450, 600, 3)\n",
      "(1, 450, 600, 3)\n",
      "(1, 450, 600, 3)\n"
     ]
    },
    {
     "name": "stderr",
     "output_type": "stream",
     "text": [
      "5522it [04:43, 17.84it/s]"
     ]
    },
    {
     "name": "stdout",
     "output_type": "stream",
     "text": [
      "(1, 450, 600, 3)\n",
      "(1, 450, 600, 3)\n",
      "(1, 450, 600, 3)\n",
      "(1, 450, 600, 3)\n"
     ]
    },
    {
     "name": "stderr",
     "output_type": "stream",
     "text": [
      "5526it [04:44, 17.97it/s]"
     ]
    },
    {
     "name": "stdout",
     "output_type": "stream",
     "text": [
      "(1, 450, 600, 3)\n",
      "(1, 450, 600, 3)\n",
      "(1, 450, 600, 3)\n",
      "(1, 450, 600, 3)\n"
     ]
    },
    {
     "name": "stderr",
     "output_type": "stream",
     "text": [
      "5530it [04:44, 17.18it/s]"
     ]
    },
    {
     "name": "stdout",
     "output_type": "stream",
     "text": [
      "(1, 450, 600, 3)\n",
      "(1, 450, 600, 3)\n",
      "(1, 450, 600, 3)\n",
      "(1, 450, 600, 3)\n"
     ]
    },
    {
     "name": "stderr",
     "output_type": "stream",
     "text": [
      "5534it [04:44, 16.92it/s]"
     ]
    },
    {
     "name": "stdout",
     "output_type": "stream",
     "text": [
      "(1, 450, 600, 3)\n",
      "(1, 450, 600, 3)\n",
      "(1, 450, 600, 3)\n",
      "(1, 450, 600, 3)\n"
     ]
    },
    {
     "name": "stderr",
     "output_type": "stream",
     "text": [
      "5538it [04:44, 16.69it/s]"
     ]
    },
    {
     "name": "stdout",
     "output_type": "stream",
     "text": [
      "(1, 450, 600, 3)\n",
      "(1, 450, 600, 3)\n",
      "(1, 450, 600, 3)\n",
      "(1, 450, 600, 3)\n"
     ]
    },
    {
     "name": "stderr",
     "output_type": "stream",
     "text": [
      "5542it [04:45, 17.15it/s]"
     ]
    },
    {
     "name": "stdout",
     "output_type": "stream",
     "text": [
      "(1, 450, 600, 3)\n",
      "(1, 450, 600, 3)\n",
      "(1, 450, 600, 3)\n",
      "(1, 450, 600, 3)\n"
     ]
    },
    {
     "name": "stderr",
     "output_type": "stream",
     "text": [
      "5546it [04:45, 17.62it/s]"
     ]
    },
    {
     "name": "stdout",
     "output_type": "stream",
     "text": [
      "(1, 450, 600, 3)\n",
      "(1, 450, 600, 3)\n",
      "(1, 450, 600, 3)\n",
      "(1, 450, 600, 3)\n"
     ]
    },
    {
     "name": "stderr",
     "output_type": "stream",
     "text": [
      "5550it [04:45, 17.09it/s]"
     ]
    },
    {
     "name": "stdout",
     "output_type": "stream",
     "text": [
      "(1, 450, 600, 3)\n",
      "(1, 450, 600, 3)\n",
      "(1, 450, 600, 3)\n",
      "(1, 450, 600, 3)\n"
     ]
    },
    {
     "name": "stderr",
     "output_type": "stream",
     "text": [
      "5554it [04:45, 17.13it/s]"
     ]
    },
    {
     "name": "stdout",
     "output_type": "stream",
     "text": [
      "(1, 450, 600, 3)\n",
      "(1, 450, 600, 3)\n",
      "(1, 450, 600, 3)\n",
      "(1, 450, 600, 3)\n"
     ]
    },
    {
     "name": "stderr",
     "output_type": "stream",
     "text": [
      "5558it [04:46, 16.77it/s]"
     ]
    },
    {
     "name": "stdout",
     "output_type": "stream",
     "text": [
      "(1, 450, 600, 3)\n",
      "(1, 450, 600, 3)\n",
      "(1, 450, 600, 3)\n",
      "(1, 450, 600, 3)\n"
     ]
    },
    {
     "name": "stderr",
     "output_type": "stream",
     "text": [
      "5562it [04:46, 17.17it/s]"
     ]
    },
    {
     "name": "stdout",
     "output_type": "stream",
     "text": [
      "(1, 450, 600, 3)\n",
      "(1, 450, 600, 3)\n",
      "(1, 450, 600, 3)\n",
      "(1, 450, 600, 3)\n"
     ]
    },
    {
     "name": "stderr",
     "output_type": "stream",
     "text": [
      "5566it [04:46, 15.29it/s]"
     ]
    },
    {
     "name": "stdout",
     "output_type": "stream",
     "text": [
      "(1, 450, 600, 3)\n",
      "(1, 450, 600, 3)\n",
      "(1, 450, 600, 3)\n"
     ]
    },
    {
     "name": "stderr",
     "output_type": "stream",
     "text": [
      "5570it [04:46, 15.99it/s]"
     ]
    },
    {
     "name": "stdout",
     "output_type": "stream",
     "text": [
      "(1, 450, 600, 3)\n",
      "(1, 450, 600, 3)\n",
      "(1, 450, 600, 3)\n",
      "(1, 450, 600, 3)\n"
     ]
    },
    {
     "name": "stderr",
     "output_type": "stream",
     "text": [
      "5574it [04:47, 16.78it/s]"
     ]
    },
    {
     "name": "stdout",
     "output_type": "stream",
     "text": [
      "(1, 450, 600, 3)\n",
      "(1, 450, 600, 3)\n",
      "(1, 450, 600, 3)\n",
      "(1, 450, 600, 3)\n"
     ]
    },
    {
     "name": "stderr",
     "output_type": "stream",
     "text": [
      "5578it [04:47, 17.33it/s]"
     ]
    },
    {
     "name": "stdout",
     "output_type": "stream",
     "text": [
      "(1, 450, 600, 3)\n",
      "(1, 450, 600, 3)\n",
      "(1, 450, 600, 3)\n",
      "(1, 450, 600, 3)\n"
     ]
    },
    {
     "name": "stderr",
     "output_type": "stream",
     "text": [
      "\r",
      "5580it [04:47, 17.36it/s]"
     ]
    },
    {
     "name": "stdout",
     "output_type": "stream",
     "text": [
      "(1, 450, 600, 3)\n",
      "(1, 450, 600, 3)\n",
      "(1, 450, 600, 3)\n",
      "(1, 450, 600, 3)\n"
     ]
    },
    {
     "name": "stderr",
     "output_type": "stream",
     "text": [
      "5586it [04:47, 17.31it/s]"
     ]
    },
    {
     "name": "stdout",
     "output_type": "stream",
     "text": [
      "(1, 450, 600, 3)\n",
      "(1, 450, 600, 3)\n",
      "(1, 450, 600, 3)\n",
      "(1, 450, 600, 3)\n"
     ]
    },
    {
     "name": "stderr",
     "output_type": "stream",
     "text": [
      "5590it [04:47, 16.99it/s]"
     ]
    },
    {
     "name": "stdout",
     "output_type": "stream",
     "text": [
      "(1, 450, 600, 3)\n",
      "(1, 450, 600, 3)\n",
      "(1, 450, 600, 3)\n",
      "(1, 450, 600, 3)\n"
     ]
    },
    {
     "name": "stderr",
     "output_type": "stream",
     "text": [
      "5594it [04:48, 17.23it/s]"
     ]
    },
    {
     "name": "stdout",
     "output_type": "stream",
     "text": [
      "(1, 450, 600, 3)\n",
      "(1, 450, 600, 3)\n",
      "(1, 450, 600, 3)\n",
      "(1, 450, 600, 3)\n"
     ]
    },
    {
     "name": "stderr",
     "output_type": "stream",
     "text": [
      "5598it [04:48, 17.54it/s]"
     ]
    },
    {
     "name": "stdout",
     "output_type": "stream",
     "text": [
      "(1, 450, 600, 3)\n",
      "(1, 450, 600, 3)\n",
      "(1, 450, 600, 3)\n",
      "(1, 450, 600, 3)\n"
     ]
    },
    {
     "name": "stderr",
     "output_type": "stream",
     "text": [
      "5602it [04:48, 17.55it/s]"
     ]
    },
    {
     "name": "stdout",
     "output_type": "stream",
     "text": [
      "(1, 450, 600, 3)\n",
      "(1, 450, 600, 3)\n",
      "(1, 450, 600, 3)\n",
      "(1, 450, 600, 3)\n"
     ]
    },
    {
     "name": "stderr",
     "output_type": "stream",
     "text": [
      "5606it [04:48, 17.17it/s]"
     ]
    },
    {
     "name": "stdout",
     "output_type": "stream",
     "text": [
      "(1, 450, 600, 3)\n",
      "(1, 450, 600, 3)\n",
      "(1, 450, 600, 3)\n",
      "(1, 450, 600, 3)\n"
     ]
    },
    {
     "name": "stderr",
     "output_type": "stream",
     "text": [
      "5610it [04:49, 17.54it/s]"
     ]
    },
    {
     "name": "stdout",
     "output_type": "stream",
     "text": [
      "(1, 450, 600, 3)\n",
      "(1, 450, 600, 3)\n",
      "(1, 450, 600, 3)\n",
      "(1, 450, 600, 3)\n"
     ]
    },
    {
     "name": "stderr",
     "output_type": "stream",
     "text": [
      "5614it [04:49, 17.37it/s]"
     ]
    },
    {
     "name": "stdout",
     "output_type": "stream",
     "text": [
      "(1, 450, 600, 3)\n",
      "(1, 450, 600, 3)\n",
      "(1, 450, 600, 3)\n",
      "(1, 450, 600, 3)\n"
     ]
    },
    {
     "name": "stderr",
     "output_type": "stream",
     "text": [
      "5618it [04:49, 17.57it/s]"
     ]
    },
    {
     "name": "stdout",
     "output_type": "stream",
     "text": [
      "(1, 450, 600, 3)\n",
      "(1, 450, 600, 3)\n",
      "(1, 450, 600, 3)\n",
      "(1, 450, 600, 3)\n"
     ]
    },
    {
     "name": "stderr",
     "output_type": "stream",
     "text": [
      "5622it [04:49, 17.34it/s]"
     ]
    },
    {
     "name": "stdout",
     "output_type": "stream",
     "text": [
      "(1, 450, 600, 3)\n",
      "(1, 450, 600, 3)\n",
      "(1, 450, 600, 3)\n",
      "(1, 450, 600, 3)\n"
     ]
    },
    {
     "name": "stderr",
     "output_type": "stream",
     "text": [
      "5626it [04:49, 17.52it/s]"
     ]
    },
    {
     "name": "stdout",
     "output_type": "stream",
     "text": [
      "(1, 450, 600, 3)\n",
      "(1, 450, 600, 3)\n",
      "(1, 450, 600, 3)\n",
      "(1, 450, 600, 3)\n"
     ]
    },
    {
     "name": "stderr",
     "output_type": "stream",
     "text": [
      "5630it [04:50, 17.05it/s]"
     ]
    },
    {
     "name": "stdout",
     "output_type": "stream",
     "text": [
      "(1, 450, 600, 3)\n",
      "(1, 450, 600, 3)\n",
      "(1, 450, 600, 3)\n",
      "(1, 450, 600, 3)\n"
     ]
    },
    {
     "name": "stderr",
     "output_type": "stream",
     "text": [
      "\r",
      "5632it [04:50, 16.91it/s]"
     ]
    },
    {
     "name": "stdout",
     "output_type": "stream",
     "text": [
      "(1, 450, 600, 3)\n",
      "(1, 450, 600, 3)\n",
      "(1, 450, 600, 3)\n",
      "(1, 450, 600, 3)\n"
     ]
    },
    {
     "name": "stderr",
     "output_type": "stream",
     "text": [
      "5638it [04:50, 17.16it/s]"
     ]
    },
    {
     "name": "stdout",
     "output_type": "stream",
     "text": [
      "(1, 450, 600, 3)\n",
      "(1, 450, 600, 3)\n",
      "(1, 450, 600, 3)\n",
      "(1, 450, 600, 3)\n"
     ]
    },
    {
     "name": "stderr",
     "output_type": "stream",
     "text": [
      "5642it [04:50, 17.49it/s]"
     ]
    },
    {
     "name": "stdout",
     "output_type": "stream",
     "text": [
      "(1, 450, 600, 3)\n",
      "(1, 450, 600, 3)\n",
      "(1, 450, 600, 3)\n",
      "(1, 450, 600, 3)\n"
     ]
    },
    {
     "name": "stderr",
     "output_type": "stream",
     "text": [
      "\r",
      "5644it [04:51, 15.81it/s]"
     ]
    },
    {
     "name": "stdout",
     "output_type": "stream",
     "text": [
      "(1, 450, 600, 3)\n",
      "(1, 450, 600, 3)\n",
      "(1, 450, 600, 3)\n"
     ]
    },
    {
     "name": "stderr",
     "output_type": "stream",
     "text": [
      "5648it [04:51, 15.76it/s]"
     ]
    },
    {
     "name": "stdout",
     "output_type": "stream",
     "text": [
      "(1, 450, 600, 3)\n",
      "(1, 450, 600, 3)\n",
      "(1, 450, 600, 3)\n",
      "(1, 450, 600, 3)\n"
     ]
    },
    {
     "name": "stderr",
     "output_type": "stream",
     "text": [
      "5652it [04:51, 16.49it/s]"
     ]
    },
    {
     "name": "stdout",
     "output_type": "stream",
     "text": [
      "(1, 450, 600, 3)\n",
      "(1, 450, 600, 3)\n",
      "(1, 450, 600, 3)\n",
      "(1, 450, 600, 3)\n"
     ]
    },
    {
     "name": "stderr",
     "output_type": "stream",
     "text": [
      "5656it [04:51, 17.26it/s]"
     ]
    },
    {
     "name": "stdout",
     "output_type": "stream",
     "text": [
      "(1, 450, 600, 3)\n",
      "(1, 450, 600, 3)\n",
      "(1, 450, 600, 3)\n",
      "(1, 450, 600, 3)\n"
     ]
    },
    {
     "name": "stderr",
     "output_type": "stream",
     "text": [
      "5660it [04:52, 17.42it/s]"
     ]
    },
    {
     "name": "stdout",
     "output_type": "stream",
     "text": [
      "(1, 450, 600, 3)\n",
      "(1, 450, 600, 3)\n",
      "(1, 450, 600, 3)\n",
      "(1, 450, 600, 3)\n"
     ]
    },
    {
     "name": "stderr",
     "output_type": "stream",
     "text": [
      "5664it [04:52, 17.10it/s]"
     ]
    },
    {
     "name": "stdout",
     "output_type": "stream",
     "text": [
      "(1, 450, 600, 3)\n",
      "(1, 450, 600, 3)\n",
      "(1, 450, 600, 3)\n",
      "(1, 450, 600, 3)\n"
     ]
    },
    {
     "name": "stderr",
     "output_type": "stream",
     "text": [
      "5668it [04:52, 16.87it/s]"
     ]
    },
    {
     "name": "stdout",
     "output_type": "stream",
     "text": [
      "(1, 450, 600, 3)\n",
      "(1, 450, 600, 3)\n",
      "(1, 450, 600, 3)\n",
      "(1, 450, 600, 3)\n"
     ]
    },
    {
     "name": "stderr",
     "output_type": "stream",
     "text": [
      "5672it [04:52, 17.40it/s]"
     ]
    },
    {
     "name": "stdout",
     "output_type": "stream",
     "text": [
      "(1, 450, 600, 3)\n",
      "(1, 450, 600, 3)\n",
      "(1, 450, 600, 3)\n",
      "(1, 450, 600, 3)\n"
     ]
    },
    {
     "name": "stderr",
     "output_type": "stream",
     "text": [
      "5676it [04:52, 17.59it/s]"
     ]
    },
    {
     "name": "stdout",
     "output_type": "stream",
     "text": [
      "(1, 450, 600, 3)\n",
      "(1, 450, 600, 3)\n",
      "(1, 450, 600, 3)\n",
      "(1, 450, 600, 3)\n"
     ]
    },
    {
     "name": "stderr",
     "output_type": "stream",
     "text": [
      "5680it [04:53, 16.86it/s]"
     ]
    },
    {
     "name": "stdout",
     "output_type": "stream",
     "text": [
      "(1, 450, 600, 3)\n",
      "(1, 450, 600, 3)\n",
      "(1, 450, 600, 3)\n",
      "(1, 450, 600, 3)\n"
     ]
    },
    {
     "name": "stderr",
     "output_type": "stream",
     "text": [
      "5684it [04:53, 17.19it/s]"
     ]
    },
    {
     "name": "stdout",
     "output_type": "stream",
     "text": [
      "(1, 450, 600, 3)\n",
      "(1, 450, 600, 3)\n",
      "(1, 450, 600, 3)\n",
      "(1, 450, 600, 3)\n"
     ]
    },
    {
     "name": "stderr",
     "output_type": "stream",
     "text": [
      "5688it [04:53, 16.87it/s]"
     ]
    },
    {
     "name": "stdout",
     "output_type": "stream",
     "text": [
      "(1, 450, 600, 3)\n",
      "(1, 450, 600, 3)\n",
      "(1, 450, 600, 3)\n",
      "(1, 450, 600, 3)\n"
     ]
    },
    {
     "name": "stderr",
     "output_type": "stream",
     "text": [
      "5692it [04:53, 16.99it/s]"
     ]
    },
    {
     "name": "stdout",
     "output_type": "stream",
     "text": [
      "(1, 450, 600, 3)\n",
      "(1, 450, 600, 3)\n",
      "(1, 450, 600, 3)\n",
      "(1, 450, 600, 3)\n"
     ]
    },
    {
     "name": "stderr",
     "output_type": "stream",
     "text": [
      "5696it [04:54, 17.26it/s]"
     ]
    },
    {
     "name": "stdout",
     "output_type": "stream",
     "text": [
      "(1, 450, 600, 3)\n",
      "(1, 450, 600, 3)\n",
      "(1, 450, 600, 3)\n",
      "(1, 450, 600, 3)\n"
     ]
    },
    {
     "name": "stderr",
     "output_type": "stream",
     "text": [
      "5700it [04:54, 17.15it/s]"
     ]
    },
    {
     "name": "stdout",
     "output_type": "stream",
     "text": [
      "(1, 450, 600, 3)\n",
      "(1, 450, 600, 3)\n",
      "(1, 450, 600, 3)\n",
      "(1, 450, 600, 3)\n"
     ]
    },
    {
     "name": "stderr",
     "output_type": "stream",
     "text": [
      "5704it [04:54, 17.45it/s]"
     ]
    },
    {
     "name": "stdout",
     "output_type": "stream",
     "text": [
      "(1, 450, 600, 3)\n",
      "(1, 450, 600, 3)\n",
      "(1, 450, 600, 3)\n",
      "(1, 450, 600, 3)\n"
     ]
    },
    {
     "name": "stderr",
     "output_type": "stream",
     "text": [
      "5708it [04:54, 17.39it/s]"
     ]
    },
    {
     "name": "stdout",
     "output_type": "stream",
     "text": [
      "(1, 450, 600, 3)\n",
      "(1, 450, 600, 3)\n",
      "(1, 450, 600, 3)\n",
      "(1, 450, 600, 3)\n"
     ]
    },
    {
     "name": "stderr",
     "output_type": "stream",
     "text": [
      "5712it [04:55, 17.29it/s]"
     ]
    },
    {
     "name": "stdout",
     "output_type": "stream",
     "text": [
      "(1, 450, 600, 3)\n",
      "(1, 450, 600, 3)\n",
      "(1, 450, 600, 3)\n",
      "(1, 450, 600, 3)\n"
     ]
    },
    {
     "name": "stderr",
     "output_type": "stream",
     "text": [
      "5716it [04:55, 16.85it/s]"
     ]
    },
    {
     "name": "stdout",
     "output_type": "stream",
     "text": [
      "(1, 450, 600, 3)\n",
      "(1, 450, 600, 3)\n",
      "(1, 450, 600, 3)\n"
     ]
    },
    {
     "name": "stderr",
     "output_type": "stream",
     "text": [
      "\r",
      "5718it [04:55, 15.88it/s]"
     ]
    },
    {
     "name": "stdout",
     "output_type": "stream",
     "text": [
      "(1, 450, 600, 3)\n",
      "(1, 450, 600, 3)\n",
      "(1, 450, 600, 3)\n",
      "(1, 450, 600, 3)\n"
     ]
    },
    {
     "name": "stderr",
     "output_type": "stream",
     "text": [
      "5722it [04:55, 15.02it/s]"
     ]
    },
    {
     "name": "stdout",
     "output_type": "stream",
     "text": [
      "(1, 450, 600, 3)\n",
      "(1, 450, 600, 3)\n",
      "(1, 450, 600, 3)\n"
     ]
    },
    {
     "name": "stderr",
     "output_type": "stream",
     "text": [
      "5726it [04:56, 15.51it/s]"
     ]
    },
    {
     "name": "stdout",
     "output_type": "stream",
     "text": [
      "(1, 450, 600, 3)\n",
      "(1, 450, 600, 3)\n",
      "(1, 450, 600, 3)\n",
      "(1, 450, 600, 3)\n"
     ]
    },
    {
     "name": "stderr",
     "output_type": "stream",
     "text": [
      "5730it [04:56, 16.33it/s]"
     ]
    },
    {
     "name": "stdout",
     "output_type": "stream",
     "text": [
      "(1, 450, 600, 3)\n",
      "(1, 450, 600, 3)\n",
      "(1, 450, 600, 3)\n",
      "(1, 450, 600, 3)\n"
     ]
    },
    {
     "name": "stderr",
     "output_type": "stream",
     "text": [
      "5734it [04:56, 16.71it/s]"
     ]
    },
    {
     "name": "stdout",
     "output_type": "stream",
     "text": [
      "(1, 450, 600, 3)\n",
      "(1, 450, 600, 3)\n",
      "(1, 450, 600, 3)\n",
      "(1, 450, 600, 3)\n"
     ]
    },
    {
     "name": "stderr",
     "output_type": "stream",
     "text": [
      "5738it [04:56, 17.35it/s]"
     ]
    },
    {
     "name": "stdout",
     "output_type": "stream",
     "text": [
      "(1, 450, 600, 3)\n",
      "(1, 450, 600, 3)\n",
      "(1, 450, 600, 3)\n",
      "(1, 450, 600, 3)\n"
     ]
    },
    {
     "name": "stderr",
     "output_type": "stream",
     "text": [
      "5742it [04:56, 17.46it/s]"
     ]
    },
    {
     "name": "stdout",
     "output_type": "stream",
     "text": [
      "(1, 450, 600, 3)\n",
      "(1, 450, 600, 3)\n",
      "(1, 450, 600, 3)\n",
      "(1, 450, 600, 3)\n"
     ]
    },
    {
     "name": "stderr",
     "output_type": "stream",
     "text": [
      "5746it [04:57, 17.32it/s]"
     ]
    },
    {
     "name": "stdout",
     "output_type": "stream",
     "text": [
      "(1, 450, 600, 3)\n",
      "(1, 450, 600, 3)\n",
      "(1, 450, 600, 3)\n",
      "(1, 450, 600, 3)\n"
     ]
    },
    {
     "name": "stderr",
     "output_type": "stream",
     "text": [
      "5750it [04:57, 17.14it/s]"
     ]
    },
    {
     "name": "stdout",
     "output_type": "stream",
     "text": [
      "(1, 450, 600, 3)\n",
      "(1, 450, 600, 3)\n",
      "(1, 450, 600, 3)\n",
      "(1, 450, 600, 3)\n"
     ]
    },
    {
     "name": "stderr",
     "output_type": "stream",
     "text": [
      "5754it [04:57, 17.12it/s]"
     ]
    },
    {
     "name": "stdout",
     "output_type": "stream",
     "text": [
      "(1, 450, 600, 3)\n",
      "(1, 450, 600, 3)\n",
      "(1, 450, 600, 3)\n",
      "(1, 450, 600, 3)\n"
     ]
    },
    {
     "name": "stderr",
     "output_type": "stream",
     "text": [
      "5758it [04:57, 17.19it/s]"
     ]
    },
    {
     "name": "stdout",
     "output_type": "stream",
     "text": [
      "(1, 450, 600, 3)\n",
      "(1, 450, 600, 3)\n",
      "(1, 450, 600, 3)\n",
      "(1, 450, 600, 3)\n"
     ]
    },
    {
     "name": "stderr",
     "output_type": "stream",
     "text": [
      "5762it [04:58, 17.52it/s]"
     ]
    },
    {
     "name": "stdout",
     "output_type": "stream",
     "text": [
      "(1, 450, 600, 3)\n",
      "(1, 450, 600, 3)\n",
      "(1, 450, 600, 3)\n",
      "(1, 450, 600, 3)\n"
     ]
    },
    {
     "name": "stderr",
     "output_type": "stream",
     "text": [
      "5766it [04:58, 17.33it/s]"
     ]
    },
    {
     "name": "stdout",
     "output_type": "stream",
     "text": [
      "(1, 450, 600, 3)\n",
      "(1, 450, 600, 3)\n",
      "(1, 450, 600, 3)\n",
      "(1, 450, 600, 3)\n"
     ]
    },
    {
     "name": "stderr",
     "output_type": "stream",
     "text": [
      "5770it [04:58, 16.89it/s]"
     ]
    },
    {
     "name": "stdout",
     "output_type": "stream",
     "text": [
      "(1, 450, 600, 3)\n",
      "(1, 450, 600, 3)\n",
      "(1, 450, 600, 3)\n",
      "(1, 450, 600, 3)\n"
     ]
    },
    {
     "name": "stderr",
     "output_type": "stream",
     "text": [
      "5774it [04:58, 16.54it/s]"
     ]
    },
    {
     "name": "stdout",
     "output_type": "stream",
     "text": [
      "(1, 450, 600, 3)\n",
      "(1, 450, 600, 3)\n",
      "(1, 450, 600, 3)\n"
     ]
    },
    {
     "name": "stderr",
     "output_type": "stream",
     "text": [
      "5778it [04:59, 17.02it/s]"
     ]
    },
    {
     "name": "stdout",
     "output_type": "stream",
     "text": [
      "(1, 450, 600, 3)\n",
      "(1, 450, 600, 3)\n",
      "(1, 450, 600, 3)\n",
      "(1, 450, 600, 3)\n"
     ]
    },
    {
     "name": "stderr",
     "output_type": "stream",
     "text": [
      "5782it [04:59, 17.27it/s]"
     ]
    },
    {
     "name": "stdout",
     "output_type": "stream",
     "text": [
      "(1, 450, 600, 3)\n",
      "(1, 450, 600, 3)\n",
      "(1, 450, 600, 3)\n",
      "(1, 450, 600, 3)\n"
     ]
    },
    {
     "name": "stderr",
     "output_type": "stream",
     "text": [
      "5786it [04:59, 17.09it/s]"
     ]
    },
    {
     "name": "stdout",
     "output_type": "stream",
     "text": [
      "(1, 450, 600, 3)\n",
      "(1, 450, 600, 3)\n",
      "(1, 450, 600, 3)\n",
      "(1, 450, 600, 3)\n"
     ]
    },
    {
     "name": "stderr",
     "output_type": "stream",
     "text": [
      "5790it [04:59, 17.33it/s]"
     ]
    },
    {
     "name": "stdout",
     "output_type": "stream",
     "text": [
      "(1, 450, 600, 3)\n",
      "(1, 450, 600, 3)\n",
      "(1, 450, 600, 3)\n",
      "(1, 450, 600, 3)\n"
     ]
    },
    {
     "name": "stderr",
     "output_type": "stream",
     "text": [
      "5794it [04:59, 16.71it/s]"
     ]
    },
    {
     "name": "stdout",
     "output_type": "stream",
     "text": [
      "(1, 450, 600, 3)\n",
      "(1, 450, 600, 3)\n",
      "(1, 450, 600, 3)\n",
      "(1, 450, 600, 3)\n"
     ]
    },
    {
     "name": "stderr",
     "output_type": "stream",
     "text": [
      "\r",
      "5796it [05:00, 16.78it/s]"
     ]
    },
    {
     "name": "stdout",
     "output_type": "stream",
     "text": [
      "(1, 450, 600, 3)\n",
      "(1, 450, 600, 3)\n",
      "(1, 450, 600, 3)\n",
      "(1, 450, 600, 3)\n"
     ]
    },
    {
     "name": "stderr",
     "output_type": "stream",
     "text": [
      "5800it [05:00, 15.20it/s]"
     ]
    },
    {
     "name": "stdout",
     "output_type": "stream",
     "text": [
      "(1, 450, 600, 3)\n",
      "(1, 450, 600, 3)\n",
      "(1, 450, 600, 3)\n"
     ]
    },
    {
     "name": "stderr",
     "output_type": "stream",
     "text": [
      "5804it [05:00, 16.13it/s]"
     ]
    },
    {
     "name": "stdout",
     "output_type": "stream",
     "text": [
      "(1, 450, 600, 3)\n",
      "(1, 450, 600, 3)\n",
      "(1, 450, 600, 3)\n",
      "(1, 450, 600, 3)\n"
     ]
    },
    {
     "name": "stderr",
     "output_type": "stream",
     "text": [
      "5808it [05:00, 16.51it/s]"
     ]
    },
    {
     "name": "stdout",
     "output_type": "stream",
     "text": [
      "(1, 450, 600, 3)\n",
      "(1, 450, 600, 3)\n",
      "(1, 450, 600, 3)\n",
      "(1, 450, 600, 3)\n"
     ]
    },
    {
     "name": "stderr",
     "output_type": "stream",
     "text": [
      "5812it [05:01, 16.84it/s]"
     ]
    },
    {
     "name": "stdout",
     "output_type": "stream",
     "text": [
      "(1, 450, 600, 3)\n",
      "(1, 450, 600, 3)\n",
      "(1, 450, 600, 3)\n",
      "(1, 450, 600, 3)\n"
     ]
    },
    {
     "name": "stderr",
     "output_type": "stream",
     "text": [
      "5816it [05:01, 16.53it/s]"
     ]
    },
    {
     "name": "stdout",
     "output_type": "stream",
     "text": [
      "(1, 450, 600, 3)\n",
      "(1, 450, 600, 3)\n",
      "(1, 450, 600, 3)\n",
      "(1, 450, 600, 3)\n"
     ]
    },
    {
     "name": "stderr",
     "output_type": "stream",
     "text": [
      "5820it [05:01, 16.30it/s]"
     ]
    },
    {
     "name": "stdout",
     "output_type": "stream",
     "text": [
      "(1, 450, 600, 3)\n",
      "(1, 450, 600, 3)\n",
      "(1, 450, 600, 3)\n",
      "(1, 450, 600, 3)\n"
     ]
    },
    {
     "name": "stderr",
     "output_type": "stream",
     "text": [
      "\r",
      "5822it [05:01, 16.05it/s]"
     ]
    },
    {
     "name": "stdout",
     "output_type": "stream",
     "text": [
      "(1, 450, 600, 3)\n",
      "(1, 450, 600, 3)\n"
     ]
    },
    {
     "name": "stderr",
     "output_type": "stream",
     "text": [
      "5826it [05:01, 15.15it/s]"
     ]
    },
    {
     "name": "stdout",
     "output_type": "stream",
     "text": [
      "(1, 450, 600, 3)\n",
      "(1, 450, 600, 3)\n",
      "(1, 450, 600, 3)\n"
     ]
    },
    {
     "name": "stderr",
     "output_type": "stream",
     "text": [
      "\r",
      "5828it [05:02, 14.65it/s]"
     ]
    },
    {
     "name": "stdout",
     "output_type": "stream",
     "text": [
      "(1, 450, 600, 3)\n",
      "(1, 450, 600, 3)\n",
      "(1, 450, 600, 3)\n",
      "(1, 450, 600, 3)\n"
     ]
    },
    {
     "name": "stderr",
     "output_type": "stream",
     "text": [
      "5832it [05:02, 14.96it/s]"
     ]
    },
    {
     "name": "stdout",
     "output_type": "stream",
     "text": [
      "(1, 450, 600, 3)\n",
      "(1, 450, 600, 3)\n",
      "(1, 450, 600, 3)\n",
      "(1, 450, 600, 3)\n"
     ]
    },
    {
     "name": "stderr",
     "output_type": "stream",
     "text": [
      "5836it [05:02, 15.61it/s]"
     ]
    },
    {
     "name": "stdout",
     "output_type": "stream",
     "text": [
      "(1, 450, 600, 3)\n",
      "(1, 450, 600, 3)\n",
      "(1, 450, 600, 3)\n",
      "(1, 450, 600, 3)\n"
     ]
    },
    {
     "name": "stderr",
     "output_type": "stream",
     "text": [
      "5842it [05:03, 16.41it/s]"
     ]
    },
    {
     "name": "stdout",
     "output_type": "stream",
     "text": [
      "(1, 450, 600, 3)\n",
      "(1, 450, 600, 3)\n",
      "(1, 450, 600, 3)\n",
      "(1, 450, 600, 3)\n"
     ]
    },
    {
     "name": "stderr",
     "output_type": "stream",
     "text": [
      "\r",
      "5844it [05:03, 16.73it/s]"
     ]
    },
    {
     "name": "stdout",
     "output_type": "stream",
     "text": [
      "(1, 450, 600, 3)\n",
      "(1, 450, 600, 3)\n",
      "(1, 450, 600, 3)\n",
      "(1, 450, 600, 3)\n"
     ]
    },
    {
     "name": "stderr",
     "output_type": "stream",
     "text": [
      "5848it [05:03, 15.81it/s]"
     ]
    },
    {
     "name": "stdout",
     "output_type": "stream",
     "text": [
      "(1, 450, 600, 3)\n",
      "(1, 450, 600, 3)\n",
      "(1, 450, 600, 3)\n",
      "(1, 450, 600, 3)\n"
     ]
    },
    {
     "name": "stderr",
     "output_type": "stream",
     "text": [
      "5854it [05:03, 16.96it/s]"
     ]
    },
    {
     "name": "stdout",
     "output_type": "stream",
     "text": [
      "(1, 450, 600, 3)\n",
      "(1, 450, 600, 3)\n",
      "(1, 450, 600, 3)\n",
      "(1, 450, 600, 3)\n"
     ]
    },
    {
     "name": "stderr",
     "output_type": "stream",
     "text": [
      "\r",
      "5856it [05:03, 16.93it/s]"
     ]
    },
    {
     "name": "stdout",
     "output_type": "stream",
     "text": [
      "(1, 450, 600, 3)\n",
      "(1, 450, 600, 3)\n",
      "(1, 450, 600, 3)\n",
      "(1, 450, 600, 3)\n"
     ]
    },
    {
     "name": "stderr",
     "output_type": "stream",
     "text": [
      "5862it [05:04, 16.90it/s]"
     ]
    },
    {
     "name": "stdout",
     "output_type": "stream",
     "text": [
      "(1, 450, 600, 3)\n",
      "(1, 450, 600, 3)\n",
      "(1, 450, 600, 3)\n",
      "(1, 450, 600, 3)\n"
     ]
    },
    {
     "name": "stderr",
     "output_type": "stream",
     "text": [
      "\r",
      "5864it [05:04, 16.03it/s]"
     ]
    },
    {
     "name": "stdout",
     "output_type": "stream",
     "text": [
      "(1, 450, 600, 3)\n",
      "(1, 450, 600, 3)\n",
      "(1, 450, 600, 3)\n",
      "(1, 450, 600, 3)\n"
     ]
    },
    {
     "name": "stderr",
     "output_type": "stream",
     "text": [
      "5868it [05:04, 15.76it/s]"
     ]
    },
    {
     "name": "stdout",
     "output_type": "stream",
     "text": [
      "(1, 450, 600, 3)\n",
      "(1, 450, 600, 3)\n",
      "(1, 450, 600, 3)\n",
      "(1, 450, 600, 3)\n"
     ]
    },
    {
     "name": "stderr",
     "output_type": "stream",
     "text": [
      "5872it [05:04, 14.94it/s]"
     ]
    },
    {
     "name": "stdout",
     "output_type": "stream",
     "text": [
      "(1, 450, 600, 3)\n",
      "(1, 450, 600, 3)\n",
      "(1, 450, 600, 3)\n"
     ]
    },
    {
     "name": "stderr",
     "output_type": "stream",
     "text": [
      "5876it [05:05, 14.81it/s]"
     ]
    },
    {
     "name": "stdout",
     "output_type": "stream",
     "text": [
      "(1, 450, 600, 3)\n",
      "(1, 450, 600, 3)\n",
      "(1, 450, 600, 3)\n"
     ]
    },
    {
     "name": "stderr",
     "output_type": "stream",
     "text": [
      "\r",
      "5878it [05:05, 15.12it/s]"
     ]
    },
    {
     "name": "stdout",
     "output_type": "stream",
     "text": [
      "(1, 450, 600, 3)\n",
      "(1, 450, 600, 3)\n",
      "(1, 450, 600, 3)\n",
      "(1, 450, 600, 3)\n"
     ]
    },
    {
     "name": "stderr",
     "output_type": "stream",
     "text": [
      "5884it [05:05, 16.31it/s]"
     ]
    },
    {
     "name": "stdout",
     "output_type": "stream",
     "text": [
      "(1, 450, 600, 3)\n",
      "(1, 450, 600, 3)\n",
      "(1, 450, 600, 3)\n",
      "(1, 450, 600, 3)\n"
     ]
    },
    {
     "name": "stderr",
     "output_type": "stream",
     "text": [
      "\r",
      "5886it [05:05, 16.70it/s]"
     ]
    },
    {
     "name": "stdout",
     "output_type": "stream",
     "text": [
      "(1, 450, 600, 3)\n",
      "(1, 450, 600, 3)\n",
      "(1, 450, 600, 3)\n",
      "(1, 450, 600, 3)\n"
     ]
    },
    {
     "name": "stderr",
     "output_type": "stream",
     "text": [
      "5892it [05:06, 17.04it/s]"
     ]
    },
    {
     "name": "stdout",
     "output_type": "stream",
     "text": [
      "(1, 450, 600, 3)\n",
      "(1, 450, 600, 3)\n",
      "(1, 450, 600, 3)\n",
      "(1, 450, 600, 3)\n"
     ]
    },
    {
     "name": "stderr",
     "output_type": "stream",
     "text": [
      "5896it [05:06, 17.41it/s]"
     ]
    },
    {
     "name": "stdout",
     "output_type": "stream",
     "text": [
      "(1, 450, 600, 3)\n",
      "(1, 450, 600, 3)\n",
      "(1, 450, 600, 3)\n",
      "(1, 450, 600, 3)\n"
     ]
    },
    {
     "name": "stderr",
     "output_type": "stream",
     "text": [
      "5900it [05:06, 16.95it/s]"
     ]
    },
    {
     "name": "stdout",
     "output_type": "stream",
     "text": [
      "(1, 450, 600, 3)\n",
      "(1, 450, 600, 3)\n",
      "(1, 450, 600, 3)\n",
      "(1, 450, 600, 3)\n"
     ]
    },
    {
     "name": "stderr",
     "output_type": "stream",
     "text": [
      "5904it [05:06, 17.23it/s]"
     ]
    },
    {
     "name": "stdout",
     "output_type": "stream",
     "text": [
      "(1, 450, 600, 3)\n",
      "(1, 450, 600, 3)\n",
      "(1, 450, 600, 3)\n",
      "(1, 450, 600, 3)\n"
     ]
    },
    {
     "name": "stderr",
     "output_type": "stream",
     "text": [
      "\r",
      "5906it [05:06, 15.84it/s]"
     ]
    },
    {
     "name": "stdout",
     "output_type": "stream",
     "text": [
      "(1, 450, 600, 3)\n",
      "(1, 450, 600, 3)\n",
      "(1, 450, 600, 3)\n",
      "(1, 450, 600, 3)\n"
     ]
    },
    {
     "name": "stderr",
     "output_type": "stream",
     "text": [
      "5910it [05:07, 15.52it/s]"
     ]
    },
    {
     "name": "stdout",
     "output_type": "stream",
     "text": [
      "(1, 450, 600, 3)\n",
      "(1, 450, 600, 3)\n",
      "(1, 450, 600, 3)\n",
      "(1, 450, 600, 3)\n"
     ]
    },
    {
     "name": "stderr",
     "output_type": "stream",
     "text": [
      "5914it [05:07, 15.71it/s]"
     ]
    },
    {
     "name": "stdout",
     "output_type": "stream",
     "text": [
      "(1, 450, 600, 3)\n",
      "(1, 450, 600, 3)\n",
      "(1, 450, 600, 3)\n",
      "(1, 450, 600, 3)\n"
     ]
    },
    {
     "name": "stderr",
     "output_type": "stream",
     "text": [
      "5918it [05:07, 16.00it/s]"
     ]
    },
    {
     "name": "stdout",
     "output_type": "stream",
     "text": [
      "(1, 450, 600, 3)\n",
      "(1, 450, 600, 3)\n",
      "(1, 450, 600, 3)\n"
     ]
    },
    {
     "name": "stderr",
     "output_type": "stream",
     "text": [
      "5922it [05:07, 15.62it/s]"
     ]
    },
    {
     "name": "stdout",
     "output_type": "stream",
     "text": [
      "(1, 450, 600, 3)\n",
      "(1, 450, 600, 3)\n",
      "(1, 450, 600, 3)\n",
      "(1, 450, 600, 3)\n"
     ]
    },
    {
     "name": "stderr",
     "output_type": "stream",
     "text": [
      "5926it [05:08, 15.19it/s]"
     ]
    },
    {
     "name": "stdout",
     "output_type": "stream",
     "text": [
      "(1, 450, 600, 3)\n",
      "(1, 450, 600, 3)\n",
      "(1, 450, 600, 3)\n"
     ]
    },
    {
     "name": "stderr",
     "output_type": "stream",
     "text": [
      "\r",
      "5928it [05:08, 14.74it/s]"
     ]
    },
    {
     "name": "stdout",
     "output_type": "stream",
     "text": [
      "(1, 450, 600, 3)\n",
      "(1, 450, 600, 3)\n",
      "(1, 450, 600, 3)\n"
     ]
    },
    {
     "name": "stderr",
     "output_type": "stream",
     "text": [
      "5932it [05:08, 14.52it/s]"
     ]
    },
    {
     "name": "stdout",
     "output_type": "stream",
     "text": [
      "(1, 450, 600, 3)\n",
      "(1, 450, 600, 3)\n",
      "(1, 450, 600, 3)\n"
     ]
    },
    {
     "name": "stderr",
     "output_type": "stream",
     "text": [
      "\r",
      "5934it [05:08, 14.60it/s]"
     ]
    },
    {
     "name": "stdout",
     "output_type": "stream",
     "text": [
      "(1, 450, 600, 3)\n",
      "(1, 450, 600, 3)\n",
      "(1, 450, 600, 3)\n"
     ]
    },
    {
     "name": "stderr",
     "output_type": "stream",
     "text": [
      "5938it [05:09, 15.63it/s]"
     ]
    },
    {
     "name": "stdout",
     "output_type": "stream",
     "text": [
      "(1, 450, 600, 3)\n",
      "(1, 450, 600, 3)\n",
      "(1, 450, 600, 3)\n",
      "(1, 450, 600, 3)\n"
     ]
    },
    {
     "name": "stderr",
     "output_type": "stream",
     "text": [
      "5942it [05:09, 15.87it/s]"
     ]
    },
    {
     "name": "stdout",
     "output_type": "stream",
     "text": [
      "(1, 450, 600, 3)\n",
      "(1, 450, 600, 3)\n",
      "(1, 450, 600, 3)\n",
      "(1, 450, 600, 3)\n"
     ]
    },
    {
     "name": "stderr",
     "output_type": "stream",
     "text": [
      "5946it [05:09, 14.64it/s]"
     ]
    },
    {
     "name": "stdout",
     "output_type": "stream",
     "text": [
      "(1, 450, 600, 3)\n",
      "(1, 450, 600, 3)\n",
      "(1, 450, 600, 3)\n"
     ]
    },
    {
     "name": "stderr",
     "output_type": "stream",
     "text": [
      "\r",
      "5948it [05:09, 14.64it/s]"
     ]
    },
    {
     "name": "stdout",
     "output_type": "stream",
     "text": [
      "(1, 450, 600, 3)\n",
      "(1, 450, 600, 3)\n",
      "(1, 450, 600, 3)\n",
      "(1, 450, 600, 3)\n"
     ]
    },
    {
     "name": "stderr",
     "output_type": "stream",
     "text": [
      "5954it [05:10, 15.81it/s]"
     ]
    },
    {
     "name": "stdout",
     "output_type": "stream",
     "text": [
      "(1, 450, 600, 3)\n",
      "(1, 450, 600, 3)\n",
      "(1, 450, 600, 3)\n",
      "(1, 450, 600, 3)\n"
     ]
    },
    {
     "name": "stderr",
     "output_type": "stream",
     "text": [
      "5958it [05:10, 16.94it/s]"
     ]
    },
    {
     "name": "stdout",
     "output_type": "stream",
     "text": [
      "(1, 450, 600, 3)\n",
      "(1, 450, 600, 3)\n",
      "(1, 450, 600, 3)\n",
      "(1, 450, 600, 3)\n"
     ]
    },
    {
     "name": "stderr",
     "output_type": "stream",
     "text": [
      "5962it [05:10, 17.09it/s]"
     ]
    },
    {
     "name": "stdout",
     "output_type": "stream",
     "text": [
      "(1, 450, 600, 3)\n",
      "(1, 450, 600, 3)\n",
      "(1, 450, 600, 3)\n",
      "(1, 450, 600, 3)\n"
     ]
    },
    {
     "name": "stderr",
     "output_type": "stream",
     "text": [
      "5966it [05:10, 17.44it/s]"
     ]
    },
    {
     "name": "stdout",
     "output_type": "stream",
     "text": [
      "(1, 450, 600, 3)\n",
      "(1, 450, 600, 3)\n",
      "(1, 450, 600, 3)\n",
      "(1, 450, 600, 3)\n"
     ]
    },
    {
     "name": "stderr",
     "output_type": "stream",
     "text": [
      "5970it [05:11, 16.97it/s]"
     ]
    },
    {
     "name": "stdout",
     "output_type": "stream",
     "text": [
      "(1, 450, 600, 3)\n",
      "(1, 450, 600, 3)\n",
      "(1, 450, 600, 3)\n",
      "(1, 450, 600, 3)\n"
     ]
    },
    {
     "name": "stderr",
     "output_type": "stream",
     "text": [
      "5974it [05:11, 17.12it/s]"
     ]
    },
    {
     "name": "stdout",
     "output_type": "stream",
     "text": [
      "(1, 450, 600, 3)\n",
      "(1, 450, 600, 3)\n",
      "(1, 450, 600, 3)\n",
      "(1, 450, 600, 3)\n"
     ]
    },
    {
     "name": "stderr",
     "output_type": "stream",
     "text": [
      "\r",
      "5976it [05:11, 16.98it/s]"
     ]
    },
    {
     "name": "stdout",
     "output_type": "stream",
     "text": [
      "(1, 450, 600, 3)\n",
      "(1, 450, 600, 3)\n",
      "(1, 450, 600, 3)\n",
      "(1, 450, 600, 3)\n"
     ]
    },
    {
     "name": "stderr",
     "output_type": "stream",
     "text": [
      "5980it [05:11, 17.25it/s]"
     ]
    },
    {
     "name": "stdout",
     "output_type": "stream",
     "text": [
      "(1, 450, 600, 3)\n",
      "(1, 450, 600, 3)\n",
      "(1, 450, 600, 3)\n"
     ]
    },
    {
     "name": "stderr",
     "output_type": "stream",
     "text": [
      "5984it [05:11, 17.36it/s]"
     ]
    },
    {
     "name": "stdout",
     "output_type": "stream",
     "text": [
      "(1, 450, 600, 3)\n",
      "(1, 450, 600, 3)\n",
      "(1, 450, 600, 3)\n",
      "(1, 450, 600, 3)\n"
     ]
    },
    {
     "name": "stderr",
     "output_type": "stream",
     "text": [
      "5988it [05:12, 17.33it/s]"
     ]
    },
    {
     "name": "stdout",
     "output_type": "stream",
     "text": [
      "(1, 450, 600, 3)\n",
      "(1, 450, 600, 3)\n",
      "(1, 450, 600, 3)\n",
      "(1, 450, 600, 3)\n"
     ]
    },
    {
     "name": "stderr",
     "output_type": "stream",
     "text": [
      "5992it [05:12, 17.29it/s]"
     ]
    },
    {
     "name": "stdout",
     "output_type": "stream",
     "text": [
      "(1, 450, 600, 3)\n",
      "(1, 450, 600, 3)\n",
      "(1, 450, 600, 3)\n",
      "(1, 450, 600, 3)\n"
     ]
    },
    {
     "name": "stderr",
     "output_type": "stream",
     "text": [
      "5996it [05:12, 16.52it/s]"
     ]
    },
    {
     "name": "stdout",
     "output_type": "stream",
     "text": [
      "(1, 450, 600, 3)\n",
      "(1, 450, 600, 3)\n",
      "(1, 450, 600, 3)\n",
      "(1, 450, 600, 3)\n"
     ]
    },
    {
     "name": "stderr",
     "output_type": "stream",
     "text": [
      "6000it [05:12, 16.87it/s]"
     ]
    },
    {
     "name": "stdout",
     "output_type": "stream",
     "text": [
      "(1, 450, 600, 3)\n",
      "(1, 450, 600, 3)\n",
      "(1, 450, 600, 3)\n",
      "(1, 450, 600, 3)\n"
     ]
    },
    {
     "name": "stderr",
     "output_type": "stream",
     "text": [
      "6004it [05:13, 16.90it/s]"
     ]
    },
    {
     "name": "stdout",
     "output_type": "stream",
     "text": [
      "(1, 450, 600, 3)\n",
      "(1, 450, 600, 3)\n",
      "(1, 450, 600, 3)\n",
      "(1, 450, 600, 3)\n"
     ]
    },
    {
     "name": "stderr",
     "output_type": "stream",
     "text": [
      "6008it [05:13, 17.03it/s]"
     ]
    },
    {
     "name": "stdout",
     "output_type": "stream",
     "text": [
      "(1, 450, 600, 3)\n",
      "(1, 450, 600, 3)\n",
      "(1, 450, 600, 3)\n",
      "(1, 450, 600, 3)\n"
     ]
    },
    {
     "name": "stderr",
     "output_type": "stream",
     "text": [
      "6012it [05:13, 17.59it/s]"
     ]
    },
    {
     "name": "stdout",
     "output_type": "stream",
     "text": [
      "(1, 450, 600, 3)\n",
      "(1, 450, 600, 3)\n",
      "(1, 450, 600, 3)\n",
      "(1, 450, 600, 3)\n"
     ]
    },
    {
     "name": "stderr",
     "output_type": "stream",
     "text": [
      "6016it [05:13, 16.91it/s]"
     ]
    },
    {
     "name": "stdout",
     "output_type": "stream",
     "text": [
      "(1, 450, 600, 3)\n",
      "(1, 450, 600, 3)\n",
      "(1, 450, 600, 3)\n",
      "(1, 450, 600, 3)\n"
     ]
    },
    {
     "name": "stderr",
     "output_type": "stream",
     "text": [
      "6020it [05:13, 16.37it/s]"
     ]
    },
    {
     "name": "stdout",
     "output_type": "stream",
     "text": [
      "(1, 450, 600, 3)\n",
      "(1, 450, 600, 3)\n",
      "(1, 450, 600, 3)\n",
      "(1, 450, 600, 3)\n"
     ]
    },
    {
     "name": "stderr",
     "output_type": "stream",
     "text": [
      "6024it [05:14, 15.42it/s]"
     ]
    },
    {
     "name": "stdout",
     "output_type": "stream",
     "text": [
      "(1, 450, 600, 3)\n",
      "(1, 450, 600, 3)\n",
      "(1, 450, 600, 3)\n"
     ]
    },
    {
     "name": "stderr",
     "output_type": "stream",
     "text": [
      "6028it [05:14, 16.04it/s]"
     ]
    },
    {
     "name": "stdout",
     "output_type": "stream",
     "text": [
      "(1, 450, 600, 3)\n",
      "(1, 450, 600, 3)\n",
      "(1, 450, 600, 3)\n",
      "(1, 450, 600, 3)\n"
     ]
    },
    {
     "name": "stderr",
     "output_type": "stream",
     "text": [
      "\r",
      "6030it [05:14, 16.17it/s]"
     ]
    },
    {
     "name": "stdout",
     "output_type": "stream",
     "text": [
      "(1, 450, 600, 3)\n",
      "(1, 450, 600, 3)\n",
      "(1, 450, 600, 3)\n",
      "(1, 450, 600, 3)\n"
     ]
    },
    {
     "name": "stderr",
     "output_type": "stream",
     "text": [
      "6036it [05:14, 16.72it/s]"
     ]
    },
    {
     "name": "stdout",
     "output_type": "stream",
     "text": [
      "(1, 450, 600, 3)\n",
      "(1, 450, 600, 3)\n",
      "(1, 450, 600, 3)\n",
      "(1, 450, 600, 3)\n"
     ]
    },
    {
     "name": "stderr",
     "output_type": "stream",
     "text": [
      "6040it [05:15, 17.39it/s]"
     ]
    },
    {
     "name": "stdout",
     "output_type": "stream",
     "text": [
      "(1, 450, 600, 3)\n",
      "(1, 450, 600, 3)\n",
      "(1, 450, 600, 3)\n",
      "(1, 450, 600, 3)\n"
     ]
    },
    {
     "name": "stderr",
     "output_type": "stream",
     "text": [
      "6044it [05:15, 17.42it/s]"
     ]
    },
    {
     "name": "stdout",
     "output_type": "stream",
     "text": [
      "(1, 450, 600, 3)\n",
      "(1, 450, 600, 3)\n",
      "(1, 450, 600, 3)\n",
      "(1, 450, 600, 3)\n"
     ]
    },
    {
     "name": "stderr",
     "output_type": "stream",
     "text": [
      "6048it [05:15, 17.66it/s]"
     ]
    },
    {
     "name": "stdout",
     "output_type": "stream",
     "text": [
      "(1, 450, 600, 3)\n",
      "(1, 450, 600, 3)\n",
      "(1, 450, 600, 3)\n",
      "(1, 450, 600, 3)\n"
     ]
    },
    {
     "name": "stderr",
     "output_type": "stream",
     "text": [
      "6052it [05:15, 17.38it/s]"
     ]
    },
    {
     "name": "stdout",
     "output_type": "stream",
     "text": [
      "(1, 450, 600, 3)\n",
      "(1, 450, 600, 3)\n",
      "(1, 450, 600, 3)\n",
      "(1, 450, 600, 3)\n"
     ]
    },
    {
     "name": "stderr",
     "output_type": "stream",
     "text": [
      "\r",
      "6054it [05:15, 17.16it/s]"
     ]
    },
    {
     "name": "stdout",
     "output_type": "stream",
     "text": [
      "(1, 450, 600, 3)\n",
      "(1, 450, 600, 3)\n",
      "(1, 450, 600, 3)\n",
      "(1, 450, 600, 3)\n"
     ]
    },
    {
     "name": "stderr",
     "output_type": "stream",
     "text": [
      "6060it [05:16, 17.31it/s]"
     ]
    },
    {
     "name": "stdout",
     "output_type": "stream",
     "text": [
      "(1, 450, 600, 3)\n",
      "(1, 450, 600, 3)\n",
      "(1, 450, 600, 3)\n",
      "(1, 450, 600, 3)\n"
     ]
    },
    {
     "name": "stderr",
     "output_type": "stream",
     "text": [
      "\r",
      "6062it [05:16, 17.09it/s]"
     ]
    },
    {
     "name": "stdout",
     "output_type": "stream",
     "text": [
      "(1, 450, 600, 3)\n",
      "(1, 450, 600, 3)\n",
      "(1, 450, 600, 3)\n",
      "(1, 450, 600, 3)\n"
     ]
    },
    {
     "name": "stderr",
     "output_type": "stream",
     "text": [
      "6068it [05:16, 17.15it/s]"
     ]
    },
    {
     "name": "stdout",
     "output_type": "stream",
     "text": [
      "(1, 450, 600, 3)\n",
      "(1, 450, 600, 3)\n",
      "(1, 450, 600, 3)\n",
      "(1, 450, 600, 3)\n"
     ]
    },
    {
     "name": "stderr",
     "output_type": "stream",
     "text": [
      "6072it [05:17, 16.86it/s]"
     ]
    },
    {
     "name": "stdout",
     "output_type": "stream",
     "text": [
      "(1, 450, 600, 3)\n",
      "(1, 450, 600, 3)\n",
      "(1, 450, 600, 3)\n",
      "(1, 450, 600, 3)\n"
     ]
    },
    {
     "name": "stderr",
     "output_type": "stream",
     "text": [
      "6076it [05:17, 17.11it/s]"
     ]
    },
    {
     "name": "stdout",
     "output_type": "stream",
     "text": [
      "(1, 450, 600, 3)\n",
      "(1, 450, 600, 3)\n",
      "(1, 450, 600, 3)\n",
      "(1, 450, 600, 3)\n"
     ]
    },
    {
     "name": "stderr",
     "output_type": "stream",
     "text": [
      "6080it [05:17, 17.15it/s]"
     ]
    },
    {
     "name": "stdout",
     "output_type": "stream",
     "text": [
      "(1, 450, 600, 3)\n",
      "(1, 450, 600, 3)\n",
      "(1, 450, 600, 3)\n",
      "(1, 450, 600, 3)\n"
     ]
    },
    {
     "name": "stderr",
     "output_type": "stream",
     "text": [
      "\r",
      "6082it [05:17, 16.06it/s]"
     ]
    },
    {
     "name": "stdout",
     "output_type": "stream",
     "text": [
      "(1, 450, 600, 3)\n",
      "(1, 450, 600, 3)\n",
      "(1, 450, 600, 3)\n",
      "(1, 450, 600, 3)\n"
     ]
    },
    {
     "name": "stderr",
     "output_type": "stream",
     "text": [
      "6086it [05:17, 17.13it/s]"
     ]
    },
    {
     "name": "stdout",
     "output_type": "stream",
     "text": [
      "(1, 450, 600, 3)\n",
      "(1, 450, 600, 3)\n",
      "(1, 450, 600, 3)\n",
      "(1, 450, 600, 3)\n"
     ]
    },
    {
     "name": "stderr",
     "output_type": "stream",
     "text": [
      "6092it [05:18, 16.94it/s]"
     ]
    },
    {
     "name": "stdout",
     "output_type": "stream",
     "text": [
      "(1, 450, 600, 3)\n",
      "(1, 450, 600, 3)\n",
      "(1, 450, 600, 3)\n",
      "(1, 450, 600, 3)\n"
     ]
    },
    {
     "name": "stderr",
     "output_type": "stream",
     "text": [
      "\r",
      "6094it [05:18, 17.29it/s]"
     ]
    },
    {
     "name": "stdout",
     "output_type": "stream",
     "text": [
      "(1, 450, 600, 3)\n",
      "(1, 450, 600, 3)\n",
      "(1, 450, 600, 3)\n"
     ]
    },
    {
     "name": "stderr",
     "output_type": "stream",
     "text": [
      "6098it [05:18, 16.40it/s]"
     ]
    },
    {
     "name": "stdout",
     "output_type": "stream",
     "text": [
      "(1, 450, 600, 3)\n",
      "(1, 450, 600, 3)\n",
      "(1, 450, 600, 3)\n",
      "(1, 450, 600, 3)\n"
     ]
    },
    {
     "name": "stderr",
     "output_type": "stream",
     "text": [
      "6102it [05:18, 15.75it/s]"
     ]
    },
    {
     "name": "stdout",
     "output_type": "stream",
     "text": [
      "(1, 450, 600, 3)\n",
      "(1, 450, 600, 3)\n",
      "(1, 450, 600, 3)\n"
     ]
    },
    {
     "name": "stderr",
     "output_type": "stream",
     "text": [
      "6106it [05:19, 15.91it/s]"
     ]
    },
    {
     "name": "stdout",
     "output_type": "stream",
     "text": [
      "(1, 450, 600, 3)\n",
      "(1, 450, 600, 3)\n",
      "(1, 450, 600, 3)\n",
      "(1, 450, 600, 3)\n"
     ]
    },
    {
     "name": "stderr",
     "output_type": "stream",
     "text": [
      "6110it [05:19, 17.01it/s]"
     ]
    },
    {
     "name": "stdout",
     "output_type": "stream",
     "text": [
      "(1, 450, 600, 3)\n",
      "(1, 450, 600, 3)\n",
      "(1, 450, 600, 3)\n",
      "(1, 450, 600, 3)\n"
     ]
    },
    {
     "name": "stderr",
     "output_type": "stream",
     "text": [
      "\r",
      "6112it [05:19, 16.91it/s]"
     ]
    },
    {
     "name": "stdout",
     "output_type": "stream",
     "text": [
      "(1, 450, 600, 3)\n",
      "(1, 450, 600, 3)\n",
      "(1, 450, 600, 3)\n",
      "(1, 450, 600, 3)\n"
     ]
    },
    {
     "name": "stderr",
     "output_type": "stream",
     "text": [
      "6118it [05:19, 16.89it/s]"
     ]
    },
    {
     "name": "stdout",
     "output_type": "stream",
     "text": [
      "(1, 450, 600, 3)\n",
      "(1, 450, 600, 3)\n",
      "(1, 450, 600, 3)\n",
      "(1, 450, 600, 3)\n"
     ]
    },
    {
     "name": "stderr",
     "output_type": "stream",
     "text": [
      "6122it [05:20, 17.07it/s]"
     ]
    },
    {
     "name": "stdout",
     "output_type": "stream",
     "text": [
      "(1, 450, 600, 3)\n",
      "(1, 450, 600, 3)\n",
      "(1, 450, 600, 3)\n",
      "(1, 450, 600, 3)\n"
     ]
    },
    {
     "name": "stderr",
     "output_type": "stream",
     "text": [
      "6126it [05:20, 17.76it/s]"
     ]
    },
    {
     "name": "stdout",
     "output_type": "stream",
     "text": [
      "(1, 450, 600, 3)\n",
      "(1, 450, 600, 3)\n",
      "(1, 450, 600, 3)\n",
      "(1, 450, 600, 3)\n"
     ]
    },
    {
     "name": "stderr",
     "output_type": "stream",
     "text": [
      "6130it [05:20, 17.18it/s]"
     ]
    },
    {
     "name": "stdout",
     "output_type": "stream",
     "text": [
      "(1, 450, 600, 3)\n",
      "(1, 450, 600, 3)\n",
      "(1, 450, 600, 3)\n",
      "(1, 450, 600, 3)\n"
     ]
    },
    {
     "name": "stderr",
     "output_type": "stream",
     "text": [
      "6134it [05:20, 17.66it/s]"
     ]
    },
    {
     "name": "stdout",
     "output_type": "stream",
     "text": [
      "(1, 450, 600, 3)\n",
      "(1, 450, 600, 3)\n",
      "(1, 450, 600, 3)\n",
      "(1, 450, 600, 3)\n"
     ]
    },
    {
     "name": "stderr",
     "output_type": "stream",
     "text": [
      "\r",
      "6136it [05:20, 17.36it/s]"
     ]
    },
    {
     "name": "stdout",
     "output_type": "stream",
     "text": [
      "(1, 450, 600, 3)\n",
      "(1, 450, 600, 3)\n",
      "(1, 450, 600, 3)\n",
      "(1, 450, 600, 3)\n"
     ]
    },
    {
     "name": "stderr",
     "output_type": "stream",
     "text": [
      "6142it [05:21, 17.21it/s]"
     ]
    },
    {
     "name": "stdout",
     "output_type": "stream",
     "text": [
      "(1, 450, 600, 3)\n",
      "(1, 450, 600, 3)\n",
      "(1, 450, 600, 3)\n",
      "(1, 450, 600, 3)\n"
     ]
    },
    {
     "name": "stderr",
     "output_type": "stream",
     "text": [
      "6146it [05:21, 17.69it/s]"
     ]
    },
    {
     "name": "stdout",
     "output_type": "stream",
     "text": [
      "(1, 450, 600, 3)\n",
      "(1, 450, 600, 3)\n",
      "(1, 450, 600, 3)\n",
      "(1, 450, 600, 3)\n"
     ]
    },
    {
     "name": "stderr",
     "output_type": "stream",
     "text": [
      "\r",
      "6148it [05:21, 17.84it/s]"
     ]
    },
    {
     "name": "stdout",
     "output_type": "stream",
     "text": [
      "(1, 450, 600, 3)\n",
      "(1, 450, 600, 3)\n",
      "(1, 450, 600, 3)\n"
     ]
    },
    {
     "name": "stderr",
     "output_type": "stream",
     "text": [
      "6152it [05:21, 17.02it/s]"
     ]
    },
    {
     "name": "stdout",
     "output_type": "stream",
     "text": [
      "(1, 450, 600, 3)\n",
      "(1, 450, 600, 3)\n",
      "(1, 450, 600, 3)\n",
      "(1, 450, 600, 3)\n"
     ]
    },
    {
     "name": "stderr",
     "output_type": "stream",
     "text": [
      "6156it [05:21, 17.16it/s]"
     ]
    },
    {
     "name": "stdout",
     "output_type": "stream",
     "text": [
      "(1, 450, 600, 3)\n",
      "(1, 450, 600, 3)\n",
      "(1, 450, 600, 3)\n",
      "(1, 450, 600, 3)\n"
     ]
    },
    {
     "name": "stderr",
     "output_type": "stream",
     "text": [
      "6160it [05:22, 17.01it/s]"
     ]
    },
    {
     "name": "stdout",
     "output_type": "stream",
     "text": [
      "(1, 450, 600, 3)\n",
      "(1, 450, 600, 3)\n",
      "(1, 450, 600, 3)\n"
     ]
    },
    {
     "name": "stderr",
     "output_type": "stream",
     "text": [
      "6164it [05:22, 17.61it/s]"
     ]
    },
    {
     "name": "stdout",
     "output_type": "stream",
     "text": [
      "(1, 450, 600, 3)\n",
      "(1, 450, 600, 3)\n",
      "(1, 450, 600, 3)\n",
      "(1, 450, 600, 3)\n"
     ]
    },
    {
     "name": "stderr",
     "output_type": "stream",
     "text": [
      "\r",
      "6166it [05:22, 16.88it/s]"
     ]
    },
    {
     "name": "stdout",
     "output_type": "stream",
     "text": [
      "(1, 450, 600, 3)\n",
      "(1, 450, 600, 3)\n",
      "(1, 450, 600, 3)\n"
     ]
    },
    {
     "name": "stderr",
     "output_type": "stream",
     "text": [
      "6170it [05:22, 16.77it/s]"
     ]
    },
    {
     "name": "stdout",
     "output_type": "stream",
     "text": [
      "(1, 450, 600, 3)\n",
      "(1, 450, 600, 3)\n",
      "(1, 450, 600, 3)\n",
      "(1, 450, 600, 3)\n"
     ]
    },
    {
     "name": "stderr",
     "output_type": "stream",
     "text": [
      "6174it [05:23, 17.02it/s]"
     ]
    },
    {
     "name": "stdout",
     "output_type": "stream",
     "text": [
      "(1, 450, 600, 3)\n",
      "(1, 450, 600, 3)\n",
      "(1, 450, 600, 3)\n",
      "(1, 450, 600, 3)\n"
     ]
    },
    {
     "name": "stderr",
     "output_type": "stream",
     "text": [
      "6178it [05:23, 17.25it/s]"
     ]
    },
    {
     "name": "stdout",
     "output_type": "stream",
     "text": [
      "(1, 450, 600, 3)\n",
      "(1, 450, 600, 3)\n",
      "(1, 450, 600, 3)\n",
      "(1, 450, 600, 3)\n"
     ]
    },
    {
     "name": "stderr",
     "output_type": "stream",
     "text": [
      "6182it [05:23, 15.86it/s]"
     ]
    },
    {
     "name": "stdout",
     "output_type": "stream",
     "text": [
      "(1, 450, 600, 3)\n",
      "(1, 450, 600, 3)\n",
      "(1, 450, 600, 3)\n"
     ]
    },
    {
     "name": "stderr",
     "output_type": "stream",
     "text": [
      "6186it [05:23, 16.39it/s]"
     ]
    },
    {
     "name": "stdout",
     "output_type": "stream",
     "text": [
      "(1, 450, 600, 3)\n",
      "(1, 450, 600, 3)\n",
      "(1, 450, 600, 3)\n",
      "(1, 450, 600, 3)\n"
     ]
    },
    {
     "name": "stderr",
     "output_type": "stream",
     "text": [
      "6190it [05:24, 16.25it/s]"
     ]
    },
    {
     "name": "stdout",
     "output_type": "stream",
     "text": [
      "(1, 450, 600, 3)\n",
      "(1, 450, 600, 3)\n",
      "(1, 450, 600, 3)\n",
      "(1, 450, 600, 3)\n"
     ]
    },
    {
     "name": "stderr",
     "output_type": "stream",
     "text": [
      "\r",
      "6192it [05:24, 15.98it/s]"
     ]
    },
    {
     "name": "stdout",
     "output_type": "stream",
     "text": [
      "(1, 450, 600, 3)\n",
      "(1, 450, 600, 3)\n",
      "(1, 450, 600, 3)\n"
     ]
    },
    {
     "name": "stderr",
     "output_type": "stream",
     "text": [
      "6196it [05:24, 16.61it/s]"
     ]
    },
    {
     "name": "stdout",
     "output_type": "stream",
     "text": [
      "(1, 450, 600, 3)\n",
      "(1, 450, 600, 3)\n",
      "(1, 450, 600, 3)\n",
      "(1, 450, 600, 3)\n"
     ]
    },
    {
     "name": "stderr",
     "output_type": "stream",
     "text": [
      "6200it [05:24, 16.93it/s]"
     ]
    },
    {
     "name": "stdout",
     "output_type": "stream",
     "text": [
      "(1, 450, 600, 3)\n",
      "(1, 450, 600, 3)\n",
      "(1, 450, 600, 3)\n",
      "(1, 450, 600, 3)\n"
     ]
    },
    {
     "name": "stderr",
     "output_type": "stream",
     "text": [
      "6204it [05:24, 17.55it/s]"
     ]
    },
    {
     "name": "stdout",
     "output_type": "stream",
     "text": [
      "(1, 450, 600, 3)\n",
      "(1, 450, 600, 3)\n",
      "(1, 450, 600, 3)\n",
      "(1, 450, 600, 3)\n"
     ]
    },
    {
     "name": "stderr",
     "output_type": "stream",
     "text": [
      "6208it [05:25, 17.19it/s]"
     ]
    },
    {
     "name": "stdout",
     "output_type": "stream",
     "text": [
      "(1, 450, 600, 3)\n",
      "(1, 450, 600, 3)\n",
      "(1, 450, 600, 3)\n",
      "(1, 450, 600, 3)\n"
     ]
    },
    {
     "name": "stderr",
     "output_type": "stream",
     "text": [
      "6212it [05:25, 16.52it/s]"
     ]
    },
    {
     "name": "stdout",
     "output_type": "stream",
     "text": [
      "(1, 450, 600, 3)\n",
      "(1, 450, 600, 3)\n",
      "(1, 450, 600, 3)\n",
      "(1, 450, 600, 3)\n"
     ]
    },
    {
     "name": "stderr",
     "output_type": "stream",
     "text": [
      "6216it [05:25, 16.56it/s]"
     ]
    },
    {
     "name": "stdout",
     "output_type": "stream",
     "text": [
      "(1, 450, 600, 3)\n",
      "(1, 450, 600, 3)\n",
      "(1, 450, 600, 3)\n",
      "(1, 450, 600, 3)\n"
     ]
    },
    {
     "name": "stderr",
     "output_type": "stream",
     "text": [
      "6220it [05:25, 16.60it/s]"
     ]
    },
    {
     "name": "stdout",
     "output_type": "stream",
     "text": [
      "(1, 450, 600, 3)\n",
      "(1, 450, 600, 3)\n",
      "(1, 450, 600, 3)\n",
      "(1, 450, 600, 3)\n"
     ]
    },
    {
     "name": "stderr",
     "output_type": "stream",
     "text": [
      "6224it [05:26, 16.85it/s]"
     ]
    },
    {
     "name": "stdout",
     "output_type": "stream",
     "text": [
      "(1, 450, 600, 3)\n",
      "(1, 450, 600, 3)\n",
      "(1, 450, 600, 3)\n",
      "(1, 450, 600, 3)\n"
     ]
    },
    {
     "name": "stderr",
     "output_type": "stream",
     "text": [
      "6228it [05:26, 17.79it/s]"
     ]
    },
    {
     "name": "stdout",
     "output_type": "stream",
     "text": [
      "(1, 450, 600, 3)\n",
      "(1, 450, 600, 3)\n",
      "(1, 450, 600, 3)\n",
      "(1, 450, 600, 3)\n"
     ]
    },
    {
     "name": "stderr",
     "output_type": "stream",
     "text": [
      "6232it [05:26, 17.18it/s]"
     ]
    },
    {
     "name": "stdout",
     "output_type": "stream",
     "text": [
      "(1, 450, 600, 3)\n",
      "(1, 450, 600, 3)\n",
      "(1, 450, 600, 3)\n",
      "(1, 450, 600, 3)\n"
     ]
    },
    {
     "name": "stderr",
     "output_type": "stream",
     "text": [
      "6236it [05:26, 16.96it/s]"
     ]
    },
    {
     "name": "stdout",
     "output_type": "stream",
     "text": [
      "(1, 450, 600, 3)\n",
      "(1, 450, 600, 3)\n",
      "(1, 450, 600, 3)\n",
      "(1, 450, 600, 3)\n"
     ]
    },
    {
     "name": "stderr",
     "output_type": "stream",
     "text": [
      "6240it [05:26, 17.23it/s]"
     ]
    },
    {
     "name": "stdout",
     "output_type": "stream",
     "text": [
      "(1, 450, 600, 3)\n",
      "(1, 450, 600, 3)\n",
      "(1, 450, 600, 3)\n",
      "(1, 450, 600, 3)\n"
     ]
    },
    {
     "name": "stderr",
     "output_type": "stream",
     "text": [
      "6244it [05:27, 17.02it/s]"
     ]
    },
    {
     "name": "stdout",
     "output_type": "stream",
     "text": [
      "(1, 450, 600, 3)\n",
      "(1, 450, 600, 3)\n",
      "(1, 450, 600, 3)\n",
      "(1, 450, 600, 3)\n"
     ]
    },
    {
     "name": "stderr",
     "output_type": "stream",
     "text": [
      "6248it [05:27, 17.05it/s]"
     ]
    },
    {
     "name": "stdout",
     "output_type": "stream",
     "text": [
      "(1, 450, 600, 3)\n",
      "(1, 450, 600, 3)\n",
      "(1, 450, 600, 3)\n",
      "(1, 450, 600, 3)\n"
     ]
    },
    {
     "name": "stderr",
     "output_type": "stream",
     "text": [
      "6252it [05:27, 16.85it/s]"
     ]
    },
    {
     "name": "stdout",
     "output_type": "stream",
     "text": [
      "(1, 450, 600, 3)\n",
      "(1, 450, 600, 3)\n",
      "(1, 450, 600, 3)\n",
      "(1, 450, 600, 3)\n"
     ]
    },
    {
     "name": "stderr",
     "output_type": "stream",
     "text": [
      "6256it [05:27, 17.19it/s]"
     ]
    },
    {
     "name": "stdout",
     "output_type": "stream",
     "text": [
      "(1, 450, 600, 3)\n",
      "(1, 450, 600, 3)\n",
      "(1, 450, 600, 3)\n",
      "(1, 450, 600, 3)\n"
     ]
    },
    {
     "name": "stderr",
     "output_type": "stream",
     "text": [
      "\r",
      "6258it [05:28, 16.20it/s]"
     ]
    },
    {
     "name": "stdout",
     "output_type": "stream",
     "text": [
      "(1, 450, 600, 3)\n",
      "(1, 450, 600, 3)\n"
     ]
    },
    {
     "name": "stderr",
     "output_type": "stream",
     "text": [
      "6262it [05:28, 16.27it/s]"
     ]
    },
    {
     "name": "stdout",
     "output_type": "stream",
     "text": [
      "(1, 450, 600, 3)\n",
      "(1, 450, 600, 3)\n",
      "(1, 450, 600, 3)\n",
      "(1, 450, 600, 3)\n"
     ]
    },
    {
     "name": "stderr",
     "output_type": "stream",
     "text": [
      "6266it [05:28, 17.33it/s]"
     ]
    },
    {
     "name": "stdout",
     "output_type": "stream",
     "text": [
      "(1, 450, 600, 3)\n",
      "(1, 450, 600, 3)\n",
      "(1, 450, 600, 3)\n",
      "(1, 450, 600, 3)\n"
     ]
    },
    {
     "name": "stderr",
     "output_type": "stream",
     "text": [
      "6270it [05:28, 17.29it/s]"
     ]
    },
    {
     "name": "stdout",
     "output_type": "stream",
     "text": [
      "(1, 450, 600, 3)\n",
      "(1, 450, 600, 3)\n",
      "(1, 450, 600, 3)\n",
      "(1, 450, 600, 3)\n"
     ]
    },
    {
     "name": "stderr",
     "output_type": "stream",
     "text": [
      "6274it [05:28, 16.84it/s]"
     ]
    },
    {
     "name": "stdout",
     "output_type": "stream",
     "text": [
      "(1, 450, 600, 3)\n",
      "(1, 450, 600, 3)\n",
      "(1, 450, 600, 3)\n",
      "(1, 450, 600, 3)\n"
     ]
    },
    {
     "name": "stderr",
     "output_type": "stream",
     "text": [
      "6278it [05:29, 16.88it/s]"
     ]
    },
    {
     "name": "stdout",
     "output_type": "stream",
     "text": [
      "(1, 450, 600, 3)\n",
      "(1, 450, 600, 3)\n",
      "(1, 450, 600, 3)\n",
      "(1, 450, 600, 3)\n"
     ]
    },
    {
     "name": "stderr",
     "output_type": "stream",
     "text": [
      "6282it [05:29, 16.77it/s]"
     ]
    },
    {
     "name": "stdout",
     "output_type": "stream",
     "text": [
      "(1, 450, 600, 3)\n",
      "(1, 450, 600, 3)\n",
      "(1, 450, 600, 3)\n",
      "(1, 450, 600, 3)\n"
     ]
    },
    {
     "name": "stderr",
     "output_type": "stream",
     "text": [
      "6286it [05:29, 16.99it/s]"
     ]
    },
    {
     "name": "stdout",
     "output_type": "stream",
     "text": [
      "(1, 450, 600, 3)\n",
      "(1, 450, 600, 3)\n",
      "(1, 450, 600, 3)\n",
      "(1, 450, 600, 3)\n"
     ]
    },
    {
     "name": "stderr",
     "output_type": "stream",
     "text": [
      "6290it [05:29, 17.15it/s]"
     ]
    },
    {
     "name": "stdout",
     "output_type": "stream",
     "text": [
      "(1, 450, 600, 3)\n",
      "(1, 450, 600, 3)\n",
      "(1, 450, 600, 3)\n",
      "(1, 450, 600, 3)\n"
     ]
    },
    {
     "name": "stderr",
     "output_type": "stream",
     "text": [
      "6294it [05:30, 16.88it/s]"
     ]
    },
    {
     "name": "stdout",
     "output_type": "stream",
     "text": [
      "(1, 450, 600, 3)\n",
      "(1, 450, 600, 3)\n",
      "(1, 450, 600, 3)\n",
      "(1, 450, 600, 3)\n"
     ]
    },
    {
     "name": "stderr",
     "output_type": "stream",
     "text": [
      "6298it [05:30, 17.10it/s]"
     ]
    },
    {
     "name": "stdout",
     "output_type": "stream",
     "text": [
      "(1, 450, 600, 3)\n",
      "(1, 450, 600, 3)\n",
      "(1, 450, 600, 3)\n",
      "(1, 450, 600, 3)\n"
     ]
    },
    {
     "name": "stderr",
     "output_type": "stream",
     "text": [
      "6302it [05:30, 16.75it/s]"
     ]
    },
    {
     "name": "stdout",
     "output_type": "stream",
     "text": [
      "(1, 450, 600, 3)\n",
      "(1, 450, 600, 3)\n",
      "(1, 450, 600, 3)\n",
      "(1, 450, 600, 3)\n"
     ]
    },
    {
     "name": "stderr",
     "output_type": "stream",
     "text": [
      "6306it [05:30, 17.01it/s]"
     ]
    },
    {
     "name": "stdout",
     "output_type": "stream",
     "text": [
      "(1, 450, 600, 3)\n",
      "(1, 450, 600, 3)\n",
      "(1, 450, 600, 3)\n",
      "(1, 450, 600, 3)\n"
     ]
    },
    {
     "name": "stderr",
     "output_type": "stream",
     "text": [
      "6310it [05:31, 17.58it/s]"
     ]
    },
    {
     "name": "stdout",
     "output_type": "stream",
     "text": [
      "(1, 450, 600, 3)\n",
      "(1, 450, 600, 3)\n",
      "(1, 450, 600, 3)\n",
      "(1, 450, 600, 3)\n"
     ]
    },
    {
     "name": "stderr",
     "output_type": "stream",
     "text": [
      "6314it [05:31, 17.43it/s]"
     ]
    },
    {
     "name": "stdout",
     "output_type": "stream",
     "text": [
      "(1, 450, 600, 3)\n",
      "(1, 450, 600, 3)\n",
      "(1, 450, 600, 3)\n",
      "(1, 450, 600, 3)\n"
     ]
    },
    {
     "name": "stderr",
     "output_type": "stream",
     "text": [
      "6318it [05:31, 17.34it/s]"
     ]
    },
    {
     "name": "stdout",
     "output_type": "stream",
     "text": [
      "(1, 450, 600, 3)\n",
      "(1, 450, 600, 3)\n",
      "(1, 450, 600, 3)\n",
      "(1, 450, 600, 3)\n"
     ]
    },
    {
     "name": "stderr",
     "output_type": "stream",
     "text": [
      "6322it [05:31, 17.44it/s]"
     ]
    },
    {
     "name": "stdout",
     "output_type": "stream",
     "text": [
      "(1, 450, 600, 3)\n",
      "(1, 450, 600, 3)\n",
      "(1, 450, 600, 3)\n",
      "(1, 450, 600, 3)\n"
     ]
    },
    {
     "name": "stderr",
     "output_type": "stream",
     "text": [
      "6326it [05:32, 17.35it/s]"
     ]
    },
    {
     "name": "stdout",
     "output_type": "stream",
     "text": [
      "(1, 450, 600, 3)\n",
      "(1, 450, 600, 3)\n",
      "(1, 450, 600, 3)\n",
      "(1, 450, 600, 3)\n"
     ]
    },
    {
     "name": "stderr",
     "output_type": "stream",
     "text": [
      "6330it [05:32, 16.98it/s]"
     ]
    },
    {
     "name": "stdout",
     "output_type": "stream",
     "text": [
      "(1, 450, 600, 3)\n",
      "(1, 450, 600, 3)\n",
      "(1, 450, 600, 3)\n",
      "(1, 450, 600, 3)\n"
     ]
    },
    {
     "name": "stderr",
     "output_type": "stream",
     "text": [
      "6334it [05:32, 16.83it/s]"
     ]
    },
    {
     "name": "stdout",
     "output_type": "stream",
     "text": [
      "(1, 450, 600, 3)\n",
      "(1, 450, 600, 3)\n",
      "(1, 450, 600, 3)\n",
      "(1, 450, 600, 3)\n"
     ]
    },
    {
     "name": "stderr",
     "output_type": "stream",
     "text": [
      "6338it [05:32, 15.31it/s]"
     ]
    },
    {
     "name": "stdout",
     "output_type": "stream",
     "text": [
      "(1, 450, 600, 3)\n",
      "(1, 450, 600, 3)\n",
      "(1, 450, 600, 3)\n"
     ]
    },
    {
     "name": "stderr",
     "output_type": "stream",
     "text": [
      "6342it [05:33, 16.36it/s]"
     ]
    },
    {
     "name": "stdout",
     "output_type": "stream",
     "text": [
      "(1, 450, 600, 3)\n",
      "(1, 450, 600, 3)\n",
      "(1, 450, 600, 3)\n",
      "(1, 450, 600, 3)\n"
     ]
    },
    {
     "name": "stderr",
     "output_type": "stream",
     "text": [
      "6346it [05:33, 16.31it/s]"
     ]
    },
    {
     "name": "stdout",
     "output_type": "stream",
     "text": [
      "(1, 450, 600, 3)\n",
      "(1, 450, 600, 3)\n",
      "(1, 450, 600, 3)\n",
      "(1, 450, 600, 3)\n"
     ]
    },
    {
     "name": "stderr",
     "output_type": "stream",
     "text": [
      "6350it [05:33, 16.74it/s]"
     ]
    },
    {
     "name": "stdout",
     "output_type": "stream",
     "text": [
      "(1, 450, 600, 3)\n",
      "(1, 450, 600, 3)\n",
      "(1, 450, 600, 3)\n",
      "(1, 450, 600, 3)\n"
     ]
    },
    {
     "name": "stderr",
     "output_type": "stream",
     "text": [
      "\r",
      "6352it [05:33, 16.31it/s]"
     ]
    },
    {
     "name": "stdout",
     "output_type": "stream",
     "text": [
      "(1, 450, 600, 3)\n",
      "(1, 450, 600, 3)\n",
      "(1, 450, 600, 3)\n",
      "(1, 450, 600, 3)\n"
     ]
    },
    {
     "name": "stderr",
     "output_type": "stream",
     "text": [
      "6358it [05:33, 16.75it/s]"
     ]
    },
    {
     "name": "stdout",
     "output_type": "stream",
     "text": [
      "(1, 450, 600, 3)\n",
      "(1, 450, 600, 3)\n",
      "(1, 450, 600, 3)\n",
      "(1, 450, 600, 3)\n"
     ]
    },
    {
     "name": "stderr",
     "output_type": "stream",
     "text": [
      "6362it [05:34, 17.45it/s]"
     ]
    },
    {
     "name": "stdout",
     "output_type": "stream",
     "text": [
      "(1, 450, 600, 3)\n",
      "(1, 450, 600, 3)\n",
      "(1, 450, 600, 3)\n",
      "(1, 450, 600, 3)\n"
     ]
    },
    {
     "name": "stderr",
     "output_type": "stream",
     "text": [
      "6366it [05:34, 17.25it/s]"
     ]
    },
    {
     "name": "stdout",
     "output_type": "stream",
     "text": [
      "(1, 450, 600, 3)\n",
      "(1, 450, 600, 3)\n",
      "(1, 450, 600, 3)\n",
      "(1, 450, 600, 3)\n"
     ]
    },
    {
     "name": "stderr",
     "output_type": "stream",
     "text": [
      "\r",
      "6368it [05:34, 17.11it/s]"
     ]
    },
    {
     "name": "stdout",
     "output_type": "stream",
     "text": [
      "(1, 450, 600, 3)\n",
      "(1, 450, 600, 3)\n",
      "(1, 450, 600, 3)\n",
      "(1, 450, 600, 3)\n"
     ]
    },
    {
     "name": "stderr",
     "output_type": "stream",
     "text": [
      "6374it [05:34, 16.74it/s]"
     ]
    },
    {
     "name": "stdout",
     "output_type": "stream",
     "text": [
      "(1, 450, 600, 3)\n",
      "(1, 450, 600, 3)\n",
      "(1, 450, 600, 3)\n",
      "(1, 450, 600, 3)\n"
     ]
    },
    {
     "name": "stderr",
     "output_type": "stream",
     "text": [
      "\r",
      "6376it [05:35, 17.11it/s]"
     ]
    },
    {
     "name": "stdout",
     "output_type": "stream",
     "text": [
      "(1, 450, 600, 3)\n",
      "(1, 450, 600, 3)\n",
      "(1, 450, 600, 3)\n",
      "(1, 450, 600, 3)\n"
     ]
    },
    {
     "name": "stderr",
     "output_type": "stream",
     "text": [
      "6382it [05:35, 17.21it/s]"
     ]
    },
    {
     "name": "stdout",
     "output_type": "stream",
     "text": [
      "(1, 450, 600, 3)\n",
      "(1, 450, 600, 3)\n",
      "(1, 450, 600, 3)\n",
      "(1, 450, 600, 3)\n"
     ]
    },
    {
     "name": "stderr",
     "output_type": "stream",
     "text": [
      "\r",
      "6384it [05:35, 17.04it/s]"
     ]
    },
    {
     "name": "stdout",
     "output_type": "stream",
     "text": [
      "(1, 450, 600, 3)\n",
      "(1, 450, 600, 3)\n",
      "(1, 450, 600, 3)\n"
     ]
    },
    {
     "name": "stderr",
     "output_type": "stream",
     "text": [
      "6388it [05:35, 16.39it/s]"
     ]
    },
    {
     "name": "stdout",
     "output_type": "stream",
     "text": [
      "(1, 450, 600, 3)\n",
      "(1, 450, 600, 3)\n",
      "(1, 450, 600, 3)\n",
      "(1, 450, 600, 3)\n"
     ]
    },
    {
     "name": "stderr",
     "output_type": "stream",
     "text": [
      "6392it [05:35, 16.68it/s]"
     ]
    },
    {
     "name": "stdout",
     "output_type": "stream",
     "text": [
      "(1, 450, 600, 3)\n",
      "(1, 450, 600, 3)\n",
      "(1, 450, 600, 3)\n",
      "(1, 450, 600, 3)\n"
     ]
    },
    {
     "name": "stderr",
     "output_type": "stream",
     "text": [
      "6396it [05:36, 16.66it/s]"
     ]
    },
    {
     "name": "stdout",
     "output_type": "stream",
     "text": [
      "(1, 450, 600, 3)\n",
      "(1, 450, 600, 3)\n",
      "(1, 450, 600, 3)\n",
      "(1, 450, 600, 3)\n"
     ]
    },
    {
     "name": "stderr",
     "output_type": "stream",
     "text": [
      "6400it [05:36, 16.95it/s]"
     ]
    },
    {
     "name": "stdout",
     "output_type": "stream",
     "text": [
      "(1, 450, 600, 3)\n",
      "(1, 450, 600, 3)\n",
      "(1, 450, 600, 3)\n",
      "(1, 450, 600, 3)\n"
     ]
    },
    {
     "name": "stderr",
     "output_type": "stream",
     "text": [
      "6404it [05:36, 17.42it/s]"
     ]
    },
    {
     "name": "stdout",
     "output_type": "stream",
     "text": [
      "(1, 450, 600, 3)\n",
      "(1, 450, 600, 3)\n",
      "(1, 450, 600, 3)\n",
      "(1, 450, 600, 3)\n"
     ]
    },
    {
     "name": "stderr",
     "output_type": "stream",
     "text": [
      "6408it [05:36, 17.27it/s]"
     ]
    },
    {
     "name": "stdout",
     "output_type": "stream",
     "text": [
      "(1, 450, 600, 3)\n",
      "(1, 450, 600, 3)\n",
      "(1, 450, 600, 3)\n",
      "(1, 450, 600, 3)\n"
     ]
    },
    {
     "name": "stderr",
     "output_type": "stream",
     "text": [
      "6412it [05:37, 16.94it/s]"
     ]
    },
    {
     "name": "stdout",
     "output_type": "stream",
     "text": [
      "(1, 450, 600, 3)\n",
      "(1, 450, 600, 3)\n",
      "(1, 450, 600, 3)\n",
      "(1, 450, 600, 3)\n"
     ]
    },
    {
     "name": "stderr",
     "output_type": "stream",
     "text": [
      "6416it [05:37, 15.35it/s]"
     ]
    },
    {
     "name": "stdout",
     "output_type": "stream",
     "text": [
      "(1, 450, 600, 3)\n",
      "(1, 450, 600, 3)\n",
      "(1, 450, 600, 3)\n"
     ]
    },
    {
     "name": "stderr",
     "output_type": "stream",
     "text": [
      "6420it [05:37, 16.30it/s]"
     ]
    },
    {
     "name": "stdout",
     "output_type": "stream",
     "text": [
      "(1, 450, 600, 3)\n",
      "(1, 450, 600, 3)\n",
      "(1, 450, 600, 3)\n",
      "(1, 450, 600, 3)\n"
     ]
    },
    {
     "name": "stderr",
     "output_type": "stream",
     "text": [
      "6424it [05:37, 17.21it/s]"
     ]
    },
    {
     "name": "stdout",
     "output_type": "stream",
     "text": [
      "(1, 450, 600, 3)\n",
      "(1, 450, 600, 3)\n",
      "(1, 450, 600, 3)\n",
      "(1, 450, 600, 3)\n"
     ]
    },
    {
     "name": "stderr",
     "output_type": "stream",
     "text": [
      "6428it [05:38, 17.24it/s]"
     ]
    },
    {
     "name": "stdout",
     "output_type": "stream",
     "text": [
      "(1, 450, 600, 3)\n",
      "(1, 450, 600, 3)\n",
      "(1, 450, 600, 3)\n",
      "(1, 450, 600, 3)\n"
     ]
    },
    {
     "name": "stderr",
     "output_type": "stream",
     "text": [
      "6432it [05:38, 17.37it/s]"
     ]
    },
    {
     "name": "stdout",
     "output_type": "stream",
     "text": [
      "(1, 450, 600, 3)\n",
      "(1, 450, 600, 3)\n",
      "(1, 450, 600, 3)\n",
      "(1, 450, 600, 3)\n"
     ]
    },
    {
     "name": "stderr",
     "output_type": "stream",
     "text": [
      "\r",
      "6434it [05:38, 16.74it/s]"
     ]
    },
    {
     "name": "stdout",
     "output_type": "stream",
     "text": [
      "(1, 450, 600, 3)\n",
      "(1, 450, 600, 3)\n",
      "(1, 450, 600, 3)\n",
      "(1, 450, 600, 3)\n"
     ]
    },
    {
     "name": "stderr",
     "output_type": "stream",
     "text": [
      "6440it [05:38, 17.11it/s]"
     ]
    },
    {
     "name": "stdout",
     "output_type": "stream",
     "text": [
      "(1, 450, 600, 3)\n",
      "(1, 450, 600, 3)\n",
      "(1, 450, 600, 3)\n",
      "(1, 450, 600, 3)\n"
     ]
    },
    {
     "name": "stderr",
     "output_type": "stream",
     "text": [
      "\r",
      "6442it [05:38, 16.55it/s]"
     ]
    },
    {
     "name": "stdout",
     "output_type": "stream",
     "text": [
      "(1, 450, 600, 3)\n",
      "(1, 450, 600, 3)\n",
      "(1, 450, 600, 3)\n"
     ]
    },
    {
     "name": "stderr",
     "output_type": "stream",
     "text": [
      "6446it [05:39, 14.97it/s]"
     ]
    },
    {
     "name": "stdout",
     "output_type": "stream",
     "text": [
      "(1, 450, 600, 3)\n",
      "(1, 450, 600, 3)\n",
      "(1, 450, 600, 3)\n"
     ]
    },
    {
     "name": "stderr",
     "output_type": "stream",
     "text": [
      "\r",
      "6448it [05:39, 14.44it/s]"
     ]
    },
    {
     "name": "stdout",
     "output_type": "stream",
     "text": [
      "(1, 450, 600, 3)\n",
      "(1, 450, 600, 3)\n",
      "(1, 450, 600, 3)\n"
     ]
    },
    {
     "name": "stderr",
     "output_type": "stream",
     "text": [
      "6452it [05:39, 15.59it/s]"
     ]
    },
    {
     "name": "stdout",
     "output_type": "stream",
     "text": [
      "(1, 450, 600, 3)\n",
      "(1, 450, 600, 3)\n",
      "(1, 450, 600, 3)\n",
      "(1, 450, 600, 3)\n"
     ]
    },
    {
     "name": "stderr",
     "output_type": "stream",
     "text": [
      "6456it [05:39, 16.14it/s]"
     ]
    },
    {
     "name": "stdout",
     "output_type": "stream",
     "text": [
      "(1, 450, 600, 3)\n",
      "(1, 450, 600, 3)\n",
      "(1, 450, 600, 3)\n",
      "(1, 450, 600, 3)\n"
     ]
    },
    {
     "name": "stderr",
     "output_type": "stream",
     "text": [
      "6460it [05:40, 17.13it/s]"
     ]
    },
    {
     "name": "stdout",
     "output_type": "stream",
     "text": [
      "(1, 450, 600, 3)\n",
      "(1, 450, 600, 3)\n",
      "(1, 450, 600, 3)\n",
      "(1, 450, 600, 3)\n"
     ]
    },
    {
     "name": "stderr",
     "output_type": "stream",
     "text": [
      "6464it [05:40, 17.31it/s]"
     ]
    },
    {
     "name": "stdout",
     "output_type": "stream",
     "text": [
      "(1, 450, 600, 3)\n",
      "(1, 450, 600, 3)\n",
      "(1, 450, 600, 3)\n",
      "(1, 450, 600, 3)\n"
     ]
    },
    {
     "name": "stderr",
     "output_type": "stream",
     "text": [
      "6468it [05:40, 16.41it/s]"
     ]
    },
    {
     "name": "stdout",
     "output_type": "stream",
     "text": [
      "(1, 450, 600, 3)\n",
      "(1, 450, 600, 3)\n",
      "(1, 450, 600, 3)\n",
      "(1, 450, 600, 3)\n"
     ]
    },
    {
     "name": "stderr",
     "output_type": "stream",
     "text": [
      "6472it [05:40, 16.95it/s]"
     ]
    },
    {
     "name": "stdout",
     "output_type": "stream",
     "text": [
      "(1, 450, 600, 3)\n",
      "(1, 450, 600, 3)\n",
      "(1, 450, 600, 3)\n",
      "(1, 450, 600, 3)\n"
     ]
    },
    {
     "name": "stderr",
     "output_type": "stream",
     "text": [
      "6476it [05:41, 17.25it/s]"
     ]
    },
    {
     "name": "stdout",
     "output_type": "stream",
     "text": [
      "(1, 450, 600, 3)\n",
      "(1, 450, 600, 3)\n",
      "(1, 450, 600, 3)\n",
      "(1, 450, 600, 3)\n"
     ]
    },
    {
     "name": "stderr",
     "output_type": "stream",
     "text": [
      "6480it [05:41, 17.04it/s]"
     ]
    },
    {
     "name": "stdout",
     "output_type": "stream",
     "text": [
      "(1, 450, 600, 3)\n",
      "(1, 450, 600, 3)\n",
      "(1, 450, 600, 3)\n",
      "(1, 450, 600, 3)\n"
     ]
    },
    {
     "name": "stderr",
     "output_type": "stream",
     "text": [
      "6484it [05:41, 16.55it/s]"
     ]
    },
    {
     "name": "stdout",
     "output_type": "stream",
     "text": [
      "(1, 450, 600, 3)\n",
      "(1, 450, 600, 3)\n",
      "(1, 450, 600, 3)\n",
      "(1, 450, 600, 3)\n"
     ]
    },
    {
     "name": "stderr",
     "output_type": "stream",
     "text": [
      "6488it [05:41, 16.59it/s]"
     ]
    },
    {
     "name": "stdout",
     "output_type": "stream",
     "text": [
      "(1, 450, 600, 3)\n",
      "(1, 450, 600, 3)\n",
      "(1, 450, 600, 3)\n",
      "(1, 450, 600, 3)\n"
     ]
    },
    {
     "name": "stderr",
     "output_type": "stream",
     "text": [
      "6492it [05:42, 15.62it/s]"
     ]
    },
    {
     "name": "stdout",
     "output_type": "stream",
     "text": [
      "(1, 450, 600, 3)\n",
      "(1, 450, 600, 3)\n",
      "(1, 450, 600, 3)\n",
      "(1, 450, 600, 3)\n"
     ]
    },
    {
     "name": "stderr",
     "output_type": "stream",
     "text": [
      "6496it [05:42, 16.16it/s]"
     ]
    },
    {
     "name": "stdout",
     "output_type": "stream",
     "text": [
      "(1, 450, 600, 3)\n",
      "(1, 450, 600, 3)\n",
      "(1, 450, 600, 3)\n",
      "(1, 450, 600, 3)\n"
     ]
    },
    {
     "name": "stderr",
     "output_type": "stream",
     "text": [
      "6500it [05:42, 15.72it/s]"
     ]
    },
    {
     "name": "stdout",
     "output_type": "stream",
     "text": [
      "(1, 450, 600, 3)\n",
      "(1, 450, 600, 3)\n",
      "(1, 450, 600, 3)\n",
      "(1, 450, 600, 3)\n"
     ]
    },
    {
     "name": "stderr",
     "output_type": "stream",
     "text": [
      "6504it [05:42, 16.06it/s]"
     ]
    },
    {
     "name": "stdout",
     "output_type": "stream",
     "text": [
      "(1, 450, 600, 3)\n",
      "(1, 450, 600, 3)\n",
      "(1, 450, 600, 3)\n",
      "(1, 450, 600, 3)\n"
     ]
    },
    {
     "name": "stderr",
     "output_type": "stream",
     "text": [
      "6508it [05:43, 16.27it/s]"
     ]
    },
    {
     "name": "stdout",
     "output_type": "stream",
     "text": [
      "(1, 450, 600, 3)\n",
      "(1, 450, 600, 3)\n",
      "(1, 450, 600, 3)\n"
     ]
    },
    {
     "name": "stderr",
     "output_type": "stream",
     "text": [
      "\r",
      "6510it [05:43, 16.39it/s]"
     ]
    },
    {
     "name": "stdout",
     "output_type": "stream",
     "text": [
      "(1, 450, 600, 3)\n",
      "(1, 450, 600, 3)\n",
      "(1, 450, 600, 3)\n",
      "(1, 450, 600, 3)\n"
     ]
    },
    {
     "name": "stderr",
     "output_type": "stream",
     "text": [
      "6514it [05:43, 16.52it/s]"
     ]
    },
    {
     "name": "stdout",
     "output_type": "stream",
     "text": [
      "(1, 450, 600, 3)\n",
      "(1, 450, 600, 3)\n",
      "(1, 450, 600, 3)\n",
      "(1, 450, 600, 3)\n"
     ]
    },
    {
     "name": "stderr",
     "output_type": "stream",
     "text": [
      "6518it [05:43, 15.91it/s]"
     ]
    },
    {
     "name": "stdout",
     "output_type": "stream",
     "text": [
      "(1, 450, 600, 3)\n",
      "(1, 450, 600, 3)\n",
      "(1, 450, 600, 3)\n",
      "(1, 450, 600, 3)\n"
     ]
    },
    {
     "name": "stderr",
     "output_type": "stream",
     "text": [
      "6524it [05:44, 16.29it/s]"
     ]
    },
    {
     "name": "stdout",
     "output_type": "stream",
     "text": [
      "(1, 450, 600, 3)\n",
      "(1, 450, 600, 3)\n",
      "(1, 450, 600, 3)\n",
      "(1, 450, 600, 3)\n"
     ]
    },
    {
     "name": "stderr",
     "output_type": "stream",
     "text": [
      "6528it [05:44, 17.10it/s]"
     ]
    },
    {
     "name": "stdout",
     "output_type": "stream",
     "text": [
      "(1, 450, 600, 3)\n",
      "(1, 450, 600, 3)\n",
      "(1, 450, 600, 3)\n",
      "(1, 450, 600, 3)\n"
     ]
    },
    {
     "name": "stderr",
     "output_type": "stream",
     "text": [
      "\r",
      "6530it [05:44, 17.35it/s]"
     ]
    },
    {
     "name": "stdout",
     "output_type": "stream",
     "text": [
      "(1, 450, 600, 3)\n",
      "(1, 450, 600, 3)\n",
      "(1, 450, 600, 3)\n",
      "(1, 450, 600, 3)\n"
     ]
    },
    {
     "name": "stderr",
     "output_type": "stream",
     "text": [
      "6534it [05:44, 16.53it/s]"
     ]
    },
    {
     "name": "stdout",
     "output_type": "stream",
     "text": [
      "(1, 450, 600, 3)\n",
      "(1, 450, 600, 3)\n",
      "(1, 450, 600, 3)\n",
      "(1, 450, 600, 3)\n"
     ]
    },
    {
     "name": "stderr",
     "output_type": "stream",
     "text": [
      "6538it [05:44, 16.04it/s]"
     ]
    },
    {
     "name": "stdout",
     "output_type": "stream",
     "text": [
      "(1, 450, 600, 3)\n",
      "(1, 450, 600, 3)\n",
      "(1, 450, 600, 3)\n"
     ]
    },
    {
     "name": "stderr",
     "output_type": "stream",
     "text": [
      "6542it [05:45, 15.80it/s]"
     ]
    },
    {
     "name": "stdout",
     "output_type": "stream",
     "text": [
      "(1, 450, 600, 3)\n",
      "(1, 450, 600, 3)\n",
      "(1, 450, 600, 3)\n",
      "(1, 450, 600, 3)\n"
     ]
    },
    {
     "name": "stderr",
     "output_type": "stream",
     "text": [
      "6546it [05:45, 15.31it/s]"
     ]
    },
    {
     "name": "stdout",
     "output_type": "stream",
     "text": [
      "(1, 450, 600, 3)\n",
      "(1, 450, 600, 3)\n",
      "(1, 450, 600, 3)\n",
      "(1, 450, 600, 3)\n"
     ]
    },
    {
     "name": "stderr",
     "output_type": "stream",
     "text": [
      "6550it [05:45, 15.92it/s]"
     ]
    },
    {
     "name": "stdout",
     "output_type": "stream",
     "text": [
      "(1, 450, 600, 3)\n",
      "(1, 450, 600, 3)\n",
      "(1, 450, 600, 3)\n",
      "(1, 450, 600, 3)\n"
     ]
    },
    {
     "name": "stderr",
     "output_type": "stream",
     "text": [
      "6554it [05:45, 16.37it/s]"
     ]
    },
    {
     "name": "stdout",
     "output_type": "stream",
     "text": [
      "(1, 450, 600, 3)\n",
      "(1, 450, 600, 3)\n",
      "(1, 450, 600, 3)\n",
      "(1, 450, 600, 3)\n"
     ]
    },
    {
     "name": "stderr",
     "output_type": "stream",
     "text": [
      "6558it [05:46, 17.17it/s]"
     ]
    },
    {
     "name": "stdout",
     "output_type": "stream",
     "text": [
      "(1, 450, 600, 3)\n",
      "(1, 450, 600, 3)\n",
      "(1, 450, 600, 3)\n"
     ]
    },
    {
     "name": "stderr",
     "output_type": "stream",
     "text": [
      "\r",
      "6560it [05:46, 16.61it/s]"
     ]
    },
    {
     "name": "stdout",
     "output_type": "stream",
     "text": [
      "(1, 450, 600, 3)\n",
      "(1, 450, 600, 3)\n",
      "(1, 450, 600, 3)\n"
     ]
    },
    {
     "name": "stderr",
     "output_type": "stream",
     "text": [
      "6564it [05:46, 15.55it/s]"
     ]
    },
    {
     "name": "stdout",
     "output_type": "stream",
     "text": [
      "(1, 450, 600, 3)\n",
      "(1, 450, 600, 3)\n",
      "(1, 450, 600, 3)\n"
     ]
    },
    {
     "name": "stderr",
     "output_type": "stream",
     "text": [
      "\r",
      "6566it [05:46, 14.81it/s]"
     ]
    },
    {
     "name": "stdout",
     "output_type": "stream",
     "text": [
      "(1, 450, 600, 3)\n",
      "(1, 450, 600, 3)\n",
      "(1, 450, 600, 3)\n",
      "(1, 450, 600, 3)\n"
     ]
    },
    {
     "name": "stderr",
     "output_type": "stream",
     "text": [
      "6570it [05:46, 15.71it/s]"
     ]
    },
    {
     "name": "stdout",
     "output_type": "stream",
     "text": [
      "(1, 450, 600, 3)\n",
      "(1, 450, 600, 3)\n",
      "(1, 450, 600, 3)\n"
     ]
    },
    {
     "name": "stderr",
     "output_type": "stream",
     "text": [
      "6574it [05:47, 16.87it/s]"
     ]
    },
    {
     "name": "stdout",
     "output_type": "stream",
     "text": [
      "(1, 450, 600, 3)\n",
      "(1, 450, 600, 3)\n",
      "(1, 450, 600, 3)\n",
      "(1, 450, 600, 3)\n"
     ]
    },
    {
     "name": "stderr",
     "output_type": "stream",
     "text": [
      "6578it [05:47, 16.72it/s]"
     ]
    },
    {
     "name": "stdout",
     "output_type": "stream",
     "text": [
      "(1, 450, 600, 3)\n",
      "(1, 450, 600, 3)\n",
      "(1, 450, 600, 3)\n",
      "(1, 450, 600, 3)\n"
     ]
    },
    {
     "name": "stderr",
     "output_type": "stream",
     "text": [
      "6582it [05:47, 17.10it/s]"
     ]
    },
    {
     "name": "stdout",
     "output_type": "stream",
     "text": [
      "(1, 450, 600, 3)\n",
      "(1, 450, 600, 3)\n",
      "(1, 450, 600, 3)\n",
      "(1, 450, 600, 3)\n"
     ]
    },
    {
     "name": "stderr",
     "output_type": "stream",
     "text": [
      "6586it [05:47, 16.58it/s]"
     ]
    },
    {
     "name": "stdout",
     "output_type": "stream",
     "text": [
      "(1, 450, 600, 3)\n",
      "(1, 450, 600, 3)\n",
      "(1, 450, 600, 3)\n",
      "(1, 450, 600, 3)\n"
     ]
    },
    {
     "name": "stderr",
     "output_type": "stream",
     "text": [
      "6590it [05:48, 16.75it/s]"
     ]
    },
    {
     "name": "stdout",
     "output_type": "stream",
     "text": [
      "(1, 450, 600, 3)\n",
      "(1, 450, 600, 3)\n",
      "(1, 450, 600, 3)\n",
      "(1, 450, 600, 3)\n"
     ]
    },
    {
     "name": "stderr",
     "output_type": "stream",
     "text": [
      "6594it [05:48, 16.83it/s]"
     ]
    },
    {
     "name": "stdout",
     "output_type": "stream",
     "text": [
      "(1, 450, 600, 3)\n",
      "(1, 450, 600, 3)\n",
      "(1, 450, 600, 3)\n",
      "(1, 450, 600, 3)\n"
     ]
    },
    {
     "name": "stderr",
     "output_type": "stream",
     "text": [
      "6598it [05:48, 17.18it/s]"
     ]
    },
    {
     "name": "stdout",
     "output_type": "stream",
     "text": [
      "(1, 450, 600, 3)\n",
      "(1, 450, 600, 3)\n",
      "(1, 450, 600, 3)\n",
      "(1, 450, 600, 3)\n"
     ]
    },
    {
     "name": "stderr",
     "output_type": "stream",
     "text": [
      "6602it [05:48, 16.21it/s]"
     ]
    },
    {
     "name": "stdout",
     "output_type": "stream",
     "text": [
      "(1, 450, 600, 3)\n",
      "(1, 450, 600, 3)\n",
      "(1, 450, 600, 3)\n",
      "(1, 450, 600, 3)\n"
     ]
    },
    {
     "name": "stderr",
     "output_type": "stream",
     "text": [
      "6606it [05:49, 15.42it/s]"
     ]
    },
    {
     "name": "stdout",
     "output_type": "stream",
     "text": [
      "(1, 450, 600, 3)\n",
      "(1, 450, 600, 3)\n",
      "(1, 450, 600, 3)\n"
     ]
    },
    {
     "name": "stderr",
     "output_type": "stream",
     "text": [
      "\r",
      "6608it [05:49, 15.06it/s]"
     ]
    },
    {
     "name": "stdout",
     "output_type": "stream",
     "text": [
      "(1, 450, 600, 3)\n",
      "(1, 450, 600, 3)\n",
      "(1, 450, 600, 3)\n"
     ]
    },
    {
     "name": "stderr",
     "output_type": "stream",
     "text": [
      "6612it [05:49, 14.88it/s]"
     ]
    },
    {
     "name": "stdout",
     "output_type": "stream",
     "text": [
      "(1, 450, 600, 3)\n",
      "(1, 450, 600, 3)\n",
      "(1, 450, 600, 3)\n"
     ]
    },
    {
     "name": "stderr",
     "output_type": "stream",
     "text": [
      "\r",
      "6614it [05:49, 14.70it/s]"
     ]
    },
    {
     "name": "stdout",
     "output_type": "stream",
     "text": [
      "(1, 450, 600, 3)\n",
      "(1, 450, 600, 3)\n",
      "(1, 450, 600, 3)\n",
      "(1, 450, 600, 3)\n"
     ]
    },
    {
     "name": "stderr",
     "output_type": "stream",
     "text": [
      "6618it [05:49, 14.71it/s]"
     ]
    },
    {
     "name": "stdout",
     "output_type": "stream",
     "text": [
      "(1, 450, 600, 3)\n",
      "(1, 450, 600, 3)\n",
      "(1, 450, 600, 3)\n",
      "(1, 450, 600, 3)\n"
     ]
    },
    {
     "name": "stderr",
     "output_type": "stream",
     "text": [
      "6622it [05:50, 15.15it/s]"
     ]
    },
    {
     "name": "stdout",
     "output_type": "stream",
     "text": [
      "(1, 450, 600, 3)\n",
      "(1, 450, 600, 3)\n",
      "(1, 450, 600, 3)\n",
      "(1, 450, 600, 3)\n"
     ]
    },
    {
     "name": "stderr",
     "output_type": "stream",
     "text": [
      "6626it [05:50, 14.60it/s]"
     ]
    },
    {
     "name": "stdout",
     "output_type": "stream",
     "text": [
      "(1, 450, 600, 3)\n",
      "(1, 450, 600, 3)\n",
      "(1, 450, 600, 3)\n"
     ]
    },
    {
     "name": "stderr",
     "output_type": "stream",
     "text": [
      "6630it [05:50, 15.58it/s]"
     ]
    },
    {
     "name": "stdout",
     "output_type": "stream",
     "text": [
      "(1, 450, 600, 3)\n",
      "(1, 450, 600, 3)\n",
      "(1, 450, 600, 3)\n",
      "(1, 450, 600, 3)\n"
     ]
    },
    {
     "name": "stderr",
     "output_type": "stream",
     "text": [
      "6634it [05:50, 16.12it/s]"
     ]
    },
    {
     "name": "stdout",
     "output_type": "stream",
     "text": [
      "(1, 450, 600, 3)\n",
      "(1, 450, 600, 3)\n",
      "(1, 450, 600, 3)\n",
      "(1, 450, 600, 3)\n"
     ]
    },
    {
     "name": "stderr",
     "output_type": "stream",
     "text": [
      "6638it [05:51, 15.17it/s]"
     ]
    },
    {
     "name": "stdout",
     "output_type": "stream",
     "text": [
      "(1, 450, 600, 3)\n",
      "(1, 450, 600, 3)\n",
      "(1, 450, 600, 3)\n"
     ]
    },
    {
     "name": "stderr",
     "output_type": "stream",
     "text": [
      "\r",
      "6640it [05:51, 15.23it/s]"
     ]
    },
    {
     "name": "stdout",
     "output_type": "stream",
     "text": [
      "(1, 450, 600, 3)\n",
      "(1, 450, 600, 3)\n",
      "(1, 450, 600, 3)\n",
      "(1, 450, 600, 3)\n"
     ]
    },
    {
     "name": "stderr",
     "output_type": "stream",
     "text": [
      "6644it [05:51, 15.42it/s]"
     ]
    },
    {
     "name": "stdout",
     "output_type": "stream",
     "text": [
      "(1, 450, 600, 3)\n",
      "(1, 450, 600, 3)\n",
      "(1, 450, 600, 3)\n"
     ]
    },
    {
     "name": "stderr",
     "output_type": "stream",
     "text": [
      "6648it [05:51, 15.40it/s]"
     ]
    },
    {
     "name": "stdout",
     "output_type": "stream",
     "text": [
      "(1, 450, 600, 3)\n",
      "(1, 450, 600, 3)\n",
      "(1, 450, 600, 3)\n",
      "(1, 450, 600, 3)\n"
     ]
    },
    {
     "name": "stderr",
     "output_type": "stream",
     "text": [
      "6652it [05:52, 15.91it/s]"
     ]
    },
    {
     "name": "stdout",
     "output_type": "stream",
     "text": [
      "(1, 450, 600, 3)\n",
      "(1, 450, 600, 3)\n",
      "(1, 450, 600, 3)\n",
      "(1, 450, 600, 3)\n"
     ]
    },
    {
     "name": "stderr",
     "output_type": "stream",
     "text": [
      "6656it [05:52, 15.88it/s]"
     ]
    },
    {
     "name": "stdout",
     "output_type": "stream",
     "text": [
      "(1, 450, 600, 3)\n",
      "(1, 450, 600, 3)\n",
      "(1, 450, 600, 3)\n",
      "(1, 450, 600, 3)\n"
     ]
    },
    {
     "name": "stderr",
     "output_type": "stream",
     "text": [
      "6660it [05:52, 16.28it/s]"
     ]
    },
    {
     "name": "stdout",
     "output_type": "stream",
     "text": [
      "(1, 450, 600, 3)\n",
      "(1, 450, 600, 3)\n",
      "(1, 450, 600, 3)\n",
      "(1, 450, 600, 3)\n"
     ]
    },
    {
     "name": "stderr",
     "output_type": "stream",
     "text": [
      "6664it [05:52, 16.48it/s]"
     ]
    },
    {
     "name": "stdout",
     "output_type": "stream",
     "text": [
      "(1, 450, 600, 3)\n",
      "(1, 450, 600, 3)\n",
      "(1, 450, 600, 3)\n",
      "(1, 450, 600, 3)\n"
     ]
    },
    {
     "name": "stderr",
     "output_type": "stream",
     "text": [
      "6668it [05:53, 16.70it/s]"
     ]
    },
    {
     "name": "stdout",
     "output_type": "stream",
     "text": [
      "(1, 450, 600, 3)\n",
      "(1, 450, 600, 3)\n",
      "(1, 450, 600, 3)\n",
      "(1, 450, 600, 3)\n"
     ]
    },
    {
     "name": "stderr",
     "output_type": "stream",
     "text": [
      "6672it [05:53, 16.69it/s]"
     ]
    },
    {
     "name": "stdout",
     "output_type": "stream",
     "text": [
      "(1, 450, 600, 3)\n",
      "(1, 450, 600, 3)\n",
      "(1, 450, 600, 3)\n",
      "(1, 450, 600, 3)\n"
     ]
    },
    {
     "name": "stderr",
     "output_type": "stream",
     "text": [
      "6676it [05:53, 16.68it/s]"
     ]
    },
    {
     "name": "stdout",
     "output_type": "stream",
     "text": [
      "(1, 450, 600, 3)\n",
      "(1, 450, 600, 3)\n",
      "(1, 450, 600, 3)\n",
      "(1, 450, 600, 3)\n"
     ]
    },
    {
     "name": "stderr",
     "output_type": "stream",
     "text": [
      "6680it [05:53, 16.61it/s]"
     ]
    },
    {
     "name": "stdout",
     "output_type": "stream",
     "text": [
      "(1, 450, 600, 3)\n",
      "(1, 450, 600, 3)\n",
      "(1, 450, 600, 3)\n",
      "(1, 450, 600, 3)\n"
     ]
    },
    {
     "name": "stderr",
     "output_type": "stream",
     "text": [
      "6684it [05:53, 16.86it/s]"
     ]
    },
    {
     "name": "stdout",
     "output_type": "stream",
     "text": [
      "(1, 450, 600, 3)\n",
      "(1, 450, 600, 3)\n",
      "(1, 450, 600, 3)\n",
      "(1, 450, 600, 3)\n"
     ]
    },
    {
     "name": "stderr",
     "output_type": "stream",
     "text": [
      "6688it [05:54, 16.32it/s]"
     ]
    },
    {
     "name": "stdout",
     "output_type": "stream",
     "text": [
      "(1, 450, 600, 3)\n",
      "(1, 450, 600, 3)\n",
      "(1, 450, 600, 3)\n",
      "(1, 450, 600, 3)\n"
     ]
    },
    {
     "name": "stderr",
     "output_type": "stream",
     "text": [
      "6692it [05:54, 16.83it/s]"
     ]
    },
    {
     "name": "stdout",
     "output_type": "stream",
     "text": [
      "(1, 450, 600, 3)\n",
      "(1, 450, 600, 3)\n",
      "(1, 450, 600, 3)\n",
      "(1, 450, 600, 3)\n"
     ]
    },
    {
     "name": "stderr",
     "output_type": "stream",
     "text": [
      "6696it [05:54, 16.58it/s]"
     ]
    },
    {
     "name": "stdout",
     "output_type": "stream",
     "text": [
      "(1, 450, 600, 3)\n",
      "(1, 450, 600, 3)\n",
      "(1, 450, 600, 3)\n",
      "(1, 450, 600, 3)\n"
     ]
    },
    {
     "name": "stderr",
     "output_type": "stream",
     "text": [
      "6700it [05:54, 16.57it/s]"
     ]
    },
    {
     "name": "stdout",
     "output_type": "stream",
     "text": [
      "(1, 450, 600, 3)\n",
      "(1, 450, 600, 3)\n",
      "(1, 450, 600, 3)\n",
      "(1, 450, 600, 3)\n"
     ]
    },
    {
     "name": "stderr",
     "output_type": "stream",
     "text": [
      "6704it [05:55, 16.93it/s]"
     ]
    },
    {
     "name": "stdout",
     "output_type": "stream",
     "text": [
      "(1, 450, 600, 3)\n",
      "(1, 450, 600, 3)\n",
      "(1, 450, 600, 3)\n",
      "(1, 450, 600, 3)\n"
     ]
    },
    {
     "name": "stderr",
     "output_type": "stream",
     "text": [
      "6708it [05:55, 16.18it/s]"
     ]
    },
    {
     "name": "stdout",
     "output_type": "stream",
     "text": [
      "(1, 450, 600, 3)\n",
      "(1, 450, 600, 3)\n",
      "(1, 450, 600, 3)\n",
      "(1, 450, 600, 3)\n"
     ]
    },
    {
     "name": "stderr",
     "output_type": "stream",
     "text": [
      "6712it [05:55, 16.53it/s]"
     ]
    },
    {
     "name": "stdout",
     "output_type": "stream",
     "text": [
      "(1, 450, 600, 3)\n",
      "(1, 450, 600, 3)\n",
      "(1, 450, 600, 3)\n",
      "(1, 450, 600, 3)\n"
     ]
    },
    {
     "name": "stderr",
     "output_type": "stream",
     "text": [
      "6716it [05:55, 15.23it/s]"
     ]
    },
    {
     "name": "stdout",
     "output_type": "stream",
     "text": [
      "(1, 450, 600, 3)\n",
      "(1, 450, 600, 3)\n",
      "(1, 450, 600, 3)\n",
      "(1, 450, 600, 3)\n"
     ]
    },
    {
     "name": "stderr",
     "output_type": "stream",
     "text": [
      "6720it [05:56, 16.30it/s]"
     ]
    },
    {
     "name": "stdout",
     "output_type": "stream",
     "text": [
      "(1, 450, 600, 3)\n",
      "(1, 450, 600, 3)\n",
      "(1, 450, 600, 3)\n",
      "(1, 450, 600, 3)\n"
     ]
    },
    {
     "name": "stderr",
     "output_type": "stream",
     "text": [
      "6724it [05:56, 16.49it/s]"
     ]
    },
    {
     "name": "stdout",
     "output_type": "stream",
     "text": [
      "(1, 450, 600, 3)\n",
      "(1, 450, 600, 3)\n",
      "(1, 450, 600, 3)\n",
      "(1, 450, 600, 3)\n"
     ]
    },
    {
     "name": "stderr",
     "output_type": "stream",
     "text": [
      "6728it [05:56, 16.87it/s]"
     ]
    },
    {
     "name": "stdout",
     "output_type": "stream",
     "text": [
      "(1, 450, 600, 3)\n",
      "(1, 450, 600, 3)\n",
      "(1, 450, 600, 3)\n",
      "(1, 450, 600, 3)\n"
     ]
    },
    {
     "name": "stderr",
     "output_type": "stream",
     "text": [
      "6732it [05:56, 16.75it/s]"
     ]
    },
    {
     "name": "stdout",
     "output_type": "stream",
     "text": [
      "(1, 450, 600, 3)\n",
      "(1, 450, 600, 3)\n",
      "(1, 450, 600, 3)\n",
      "(1, 450, 600, 3)\n"
     ]
    },
    {
     "name": "stderr",
     "output_type": "stream",
     "text": [
      "6736it [05:57, 17.15it/s]"
     ]
    },
    {
     "name": "stdout",
     "output_type": "stream",
     "text": [
      "(1, 450, 600, 3)\n",
      "(1, 450, 600, 3)\n",
      "(1, 450, 600, 3)\n",
      "(1, 450, 600, 3)\n"
     ]
    },
    {
     "name": "stderr",
     "output_type": "stream",
     "text": [
      "6740it [05:57, 16.32it/s]"
     ]
    },
    {
     "name": "stdout",
     "output_type": "stream",
     "text": [
      "(1, 450, 600, 3)\n",
      "(1, 450, 600, 3)\n",
      "(1, 450, 600, 3)\n",
      "(1, 450, 600, 3)\n"
     ]
    },
    {
     "name": "stderr",
     "output_type": "stream",
     "text": [
      "6744it [05:57, 16.79it/s]"
     ]
    },
    {
     "name": "stdout",
     "output_type": "stream",
     "text": [
      "(1, 450, 600, 3)\n",
      "(1, 450, 600, 3)\n",
      "(1, 450, 600, 3)\n",
      "(1, 450, 600, 3)\n"
     ]
    },
    {
     "name": "stderr",
     "output_type": "stream",
     "text": [
      "\r",
      "6746it [05:57, 15.22it/s]"
     ]
    },
    {
     "name": "stdout",
     "output_type": "stream",
     "text": [
      "(1, 450, 600, 3)\n",
      "(1, 450, 600, 3)\n",
      "(1, 450, 600, 3)\n"
     ]
    },
    {
     "name": "stderr",
     "output_type": "stream",
     "text": [
      "6750it [05:58, 15.93it/s]"
     ]
    },
    {
     "name": "stdout",
     "output_type": "stream",
     "text": [
      "(1, 450, 600, 3)\n",
      "(1, 450, 600, 3)\n",
      "(1, 450, 600, 3)\n"
     ]
    },
    {
     "name": "stderr",
     "output_type": "stream",
     "text": [
      "6754it [05:58, 15.50it/s]"
     ]
    },
    {
     "name": "stdout",
     "output_type": "stream",
     "text": [
      "(1, 450, 600, 3)\n",
      "(1, 450, 600, 3)\n",
      "(1, 450, 600, 3)\n",
      "(1, 450, 600, 3)\n"
     ]
    },
    {
     "name": "stderr",
     "output_type": "stream",
     "text": [
      "6758it [05:58, 15.33it/s]"
     ]
    },
    {
     "name": "stdout",
     "output_type": "stream",
     "text": [
      "(1, 450, 600, 3)\n",
      "(1, 450, 600, 3)\n",
      "(1, 450, 600, 3)\n",
      "(1, 450, 600, 3)\n"
     ]
    },
    {
     "name": "stderr",
     "output_type": "stream",
     "text": [
      "6762it [05:58, 15.61it/s]"
     ]
    },
    {
     "name": "stdout",
     "output_type": "stream",
     "text": [
      "(1, 450, 600, 3)\n",
      "(1, 450, 600, 3)\n",
      "(1, 450, 600, 3)\n",
      "(1, 450, 600, 3)\n"
     ]
    },
    {
     "name": "stderr",
     "output_type": "stream",
     "text": [
      "6766it [05:59, 16.39it/s]"
     ]
    },
    {
     "name": "stdout",
     "output_type": "stream",
     "text": [
      "(1, 450, 600, 3)\n",
      "(1, 450, 600, 3)\n",
      "(1, 450, 600, 3)\n"
     ]
    },
    {
     "name": "stderr",
     "output_type": "stream",
     "text": [
      "\r",
      "6768it [05:59, 16.50it/s]"
     ]
    },
    {
     "name": "stdout",
     "output_type": "stream",
     "text": [
      "(1, 450, 600, 3)\n",
      "(1, 450, 600, 3)\n",
      "(1, 450, 600, 3)\n",
      "(1, 450, 600, 3)\n"
     ]
    },
    {
     "name": "stderr",
     "output_type": "stream",
     "text": [
      "6774it [05:59, 17.04it/s]"
     ]
    },
    {
     "name": "stdout",
     "output_type": "stream",
     "text": [
      "(1, 450, 600, 3)\n",
      "(1, 450, 600, 3)\n",
      "(1, 450, 600, 3)\n",
      "(1, 450, 600, 3)\n"
     ]
    },
    {
     "name": "stderr",
     "output_type": "stream",
     "text": [
      "6778it [05:59, 16.85it/s]"
     ]
    },
    {
     "name": "stdout",
     "output_type": "stream",
     "text": [
      "(1, 450, 600, 3)\n",
      "(1, 450, 600, 3)\n",
      "(1, 450, 600, 3)\n",
      "(1, 450, 600, 3)\n"
     ]
    },
    {
     "name": "stderr",
     "output_type": "stream",
     "text": [
      "6782it [05:59, 16.87it/s]"
     ]
    },
    {
     "name": "stdout",
     "output_type": "stream",
     "text": [
      "(1, 450, 600, 3)\n",
      "(1, 450, 600, 3)\n",
      "(1, 450, 600, 3)\n",
      "(1, 450, 600, 3)\n"
     ]
    },
    {
     "name": "stderr",
     "output_type": "stream",
     "text": [
      "6786it [06:00, 16.49it/s]"
     ]
    },
    {
     "name": "stdout",
     "output_type": "stream",
     "text": [
      "(1, 450, 600, 3)\n",
      "(1, 450, 600, 3)\n",
      "(1, 450, 600, 3)\n",
      "(1, 450, 600, 3)\n"
     ]
    },
    {
     "name": "stderr",
     "output_type": "stream",
     "text": [
      "\r",
      "6788it [06:00, 16.12it/s]"
     ]
    },
    {
     "name": "stdout",
     "output_type": "stream",
     "text": [
      "(1, 450, 600, 3)\n",
      "(1, 450, 600, 3)\n",
      "(1, 450, 600, 3)\n"
     ]
    },
    {
     "name": "stderr",
     "output_type": "stream",
     "text": [
      "6792it [06:00, 15.38it/s]"
     ]
    },
    {
     "name": "stdout",
     "output_type": "stream",
     "text": [
      "(1, 450, 600, 3)\n",
      "(1, 450, 600, 3)\n",
      "(1, 450, 600, 3)\n"
     ]
    },
    {
     "name": "stderr",
     "output_type": "stream",
     "text": [
      "\r",
      "6794it [06:00, 15.03it/s]"
     ]
    },
    {
     "name": "stdout",
     "output_type": "stream",
     "text": [
      "(1, 450, 600, 3)\n",
      "(1, 450, 600, 3)\n",
      "(1, 450, 600, 3)\n"
     ]
    },
    {
     "name": "stderr",
     "output_type": "stream",
     "text": [
      "6798it [06:01, 15.55it/s]"
     ]
    },
    {
     "name": "stdout",
     "output_type": "stream",
     "text": [
      "(1, 450, 600, 3)\n",
      "(1, 450, 600, 3)\n",
      "(1, 450, 600, 3)\n",
      "(1, 450, 600, 3)\n"
     ]
    },
    {
     "name": "stderr",
     "output_type": "stream",
     "text": [
      "6802it [06:01, 16.11it/s]"
     ]
    },
    {
     "name": "stdout",
     "output_type": "stream",
     "text": [
      "(1, 450, 600, 3)\n",
      "(1, 450, 600, 3)\n",
      "(1, 450, 600, 3)\n",
      "(1, 450, 600, 3)\n"
     ]
    },
    {
     "name": "stderr",
     "output_type": "stream",
     "text": [
      "6806it [06:01, 16.27it/s]"
     ]
    },
    {
     "name": "stdout",
     "output_type": "stream",
     "text": [
      "(1, 450, 600, 3)\n",
      "(1, 450, 600, 3)\n",
      "(1, 450, 600, 3)\n",
      "(1, 450, 600, 3)\n"
     ]
    },
    {
     "name": "stderr",
     "output_type": "stream",
     "text": [
      "6810it [06:01, 16.47it/s]"
     ]
    },
    {
     "name": "stdout",
     "output_type": "stream",
     "text": [
      "(1, 450, 600, 3)\n",
      "(1, 450, 600, 3)\n",
      "(1, 450, 600, 3)\n",
      "(1, 450, 600, 3)\n"
     ]
    },
    {
     "name": "stderr",
     "output_type": "stream",
     "text": [
      "6814it [06:01, 16.56it/s]"
     ]
    },
    {
     "name": "stdout",
     "output_type": "stream",
     "text": [
      "(1, 450, 600, 3)\n",
      "(1, 450, 600, 3)\n",
      "(1, 450, 600, 3)\n",
      "(1, 450, 600, 3)\n"
     ]
    },
    {
     "name": "stderr",
     "output_type": "stream",
     "text": [
      "6818it [06:02, 16.63it/s]"
     ]
    },
    {
     "name": "stdout",
     "output_type": "stream",
     "text": [
      "(1, 450, 600, 3)\n",
      "(1, 450, 600, 3)\n",
      "(1, 450, 600, 3)\n",
      "(1, 450, 600, 3)\n"
     ]
    },
    {
     "name": "stderr",
     "output_type": "stream",
     "text": [
      "6822it [06:02, 16.37it/s]"
     ]
    },
    {
     "name": "stdout",
     "output_type": "stream",
     "text": [
      "(1, 450, 600, 3)\n",
      "(1, 450, 600, 3)\n",
      "(1, 450, 600, 3)\n",
      "(1, 450, 600, 3)\n"
     ]
    },
    {
     "name": "stderr",
     "output_type": "stream",
     "text": [
      "6826it [06:02, 16.40it/s]"
     ]
    },
    {
     "name": "stdout",
     "output_type": "stream",
     "text": [
      "(1, 450, 600, 3)\n",
      "(1, 450, 600, 3)\n",
      "(1, 450, 600, 3)\n",
      "(1, 450, 600, 3)\n"
     ]
    },
    {
     "name": "stderr",
     "output_type": "stream",
     "text": [
      "6830it [06:02, 16.13it/s]"
     ]
    },
    {
     "name": "stdout",
     "output_type": "stream",
     "text": [
      "(1, 450, 600, 3)\n",
      "(1, 450, 600, 3)\n",
      "(1, 450, 600, 3)\n",
      "(1, 450, 600, 3)\n"
     ]
    },
    {
     "name": "stderr",
     "output_type": "stream",
     "text": [
      "6834it [06:03, 16.40it/s]"
     ]
    },
    {
     "name": "stdout",
     "output_type": "stream",
     "text": [
      "(1, 450, 600, 3)\n",
      "(1, 450, 600, 3)\n",
      "(1, 450, 600, 3)\n",
      "(1, 450, 600, 3)\n"
     ]
    },
    {
     "name": "stderr",
     "output_type": "stream",
     "text": [
      "\r",
      "6836it [06:03, 16.46it/s]"
     ]
    },
    {
     "name": "stdout",
     "output_type": "stream",
     "text": [
      "(1, 450, 600, 3)\n",
      "(1, 450, 600, 3)\n",
      "(1, 450, 600, 3)\n"
     ]
    },
    {
     "name": "stderr",
     "output_type": "stream",
     "text": [
      "6840it [06:03, 16.02it/s]"
     ]
    },
    {
     "name": "stdout",
     "output_type": "stream",
     "text": [
      "(1, 450, 600, 3)\n",
      "(1, 450, 600, 3)\n",
      "(1, 450, 600, 3)\n",
      "(1, 450, 600, 3)\n"
     ]
    },
    {
     "name": "stderr",
     "output_type": "stream",
     "text": [
      "6844it [06:03, 16.34it/s]"
     ]
    },
    {
     "name": "stdout",
     "output_type": "stream",
     "text": [
      "(1, 450, 600, 3)\n",
      "(1, 450, 600, 3)\n",
      "(1, 450, 600, 3)\n",
      "(1, 450, 600, 3)\n"
     ]
    },
    {
     "name": "stderr",
     "output_type": "stream",
     "text": [
      "6848it [06:04, 16.35it/s]"
     ]
    },
    {
     "name": "stdout",
     "output_type": "stream",
     "text": [
      "(1, 450, 600, 3)\n",
      "(1, 450, 600, 3)\n",
      "(1, 450, 600, 3)\n"
     ]
    },
    {
     "name": "stderr",
     "output_type": "stream",
     "text": [
      "6852it [06:04, 16.69it/s]"
     ]
    },
    {
     "name": "stdout",
     "output_type": "stream",
     "text": [
      "(1, 450, 600, 3)\n",
      "(1, 450, 600, 3)\n",
      "(1, 450, 600, 3)\n",
      "(1, 450, 600, 3)\n"
     ]
    },
    {
     "name": "stderr",
     "output_type": "stream",
     "text": [
      "6856it [06:04, 16.58it/s]"
     ]
    },
    {
     "name": "stdout",
     "output_type": "stream",
     "text": [
      "(1, 450, 600, 3)\n",
      "(1, 450, 600, 3)\n",
      "(1, 450, 600, 3)\n",
      "(1, 450, 600, 3)\n"
     ]
    },
    {
     "name": "stderr",
     "output_type": "stream",
     "text": [
      "6860it [06:04, 16.19it/s]"
     ]
    },
    {
     "name": "stdout",
     "output_type": "stream",
     "text": [
      "(1, 450, 600, 3)\n",
      "(1, 450, 600, 3)\n",
      "(1, 450, 600, 3)\n",
      "(1, 450, 600, 3)\n"
     ]
    },
    {
     "name": "stderr",
     "output_type": "stream",
     "text": [
      "6864it [06:05, 15.26it/s]"
     ]
    },
    {
     "name": "stdout",
     "output_type": "stream",
     "text": [
      "(1, 450, 600, 3)\n",
      "(1, 450, 600, 3)\n",
      "(1, 450, 600, 3)\n"
     ]
    },
    {
     "name": "stderr",
     "output_type": "stream",
     "text": [
      "\r",
      "6866it [06:05, 14.93it/s]"
     ]
    },
    {
     "name": "stdout",
     "output_type": "stream",
     "text": [
      "(1, 450, 600, 3)\n",
      "(1, 450, 600, 3)\n",
      "(1, 450, 600, 3)\n",
      "(1, 450, 600, 3)\n"
     ]
    },
    {
     "name": "stderr",
     "output_type": "stream",
     "text": [
      "6870it [06:05, 15.72it/s]"
     ]
    },
    {
     "name": "stdout",
     "output_type": "stream",
     "text": [
      "(1, 450, 600, 3)\n",
      "(1, 450, 600, 3)\n",
      "(1, 450, 600, 3)\n",
      "(1, 450, 600, 3)\n"
     ]
    },
    {
     "name": "stderr",
     "output_type": "stream",
     "text": [
      "6874it [06:05, 16.12it/s]"
     ]
    },
    {
     "name": "stdout",
     "output_type": "stream",
     "text": [
      "(1, 450, 600, 3)\n",
      "(1, 450, 600, 3)\n",
      "(1, 450, 600, 3)\n",
      "(1, 450, 600, 3)\n"
     ]
    },
    {
     "name": "stderr",
     "output_type": "stream",
     "text": [
      "6880it [06:06, 16.65it/s]"
     ]
    },
    {
     "name": "stdout",
     "output_type": "stream",
     "text": [
      "(1, 450, 600, 3)\n",
      "(1, 450, 600, 3)\n",
      "(1, 450, 600, 3)\n",
      "(1, 450, 600, 3)\n"
     ]
    },
    {
     "name": "stderr",
     "output_type": "stream",
     "text": [
      "\r",
      "6882it [06:06, 16.61it/s]"
     ]
    },
    {
     "name": "stdout",
     "output_type": "stream",
     "text": [
      "(1, 450, 600, 3)\n",
      "(1, 450, 600, 3)\n",
      "(1, 450, 600, 3)\n",
      "(1, 450, 600, 3)\n"
     ]
    },
    {
     "name": "stderr",
     "output_type": "stream",
     "text": [
      "6886it [06:06, 16.60it/s]"
     ]
    },
    {
     "name": "stdout",
     "output_type": "stream",
     "text": [
      "(1, 450, 600, 3)\n",
      "(1, 450, 600, 3)\n",
      "(1, 450, 600, 3)\n",
      "(1, 450, 600, 3)\n"
     ]
    },
    {
     "name": "stderr",
     "output_type": "stream",
     "text": [
      "6890it [06:06, 16.81it/s]"
     ]
    },
    {
     "name": "stdout",
     "output_type": "stream",
     "text": [
      "(1, 450, 600, 3)\n",
      "(1, 450, 600, 3)\n",
      "(1, 450, 600, 3)\n",
      "(1, 450, 600, 3)\n"
     ]
    },
    {
     "name": "stderr",
     "output_type": "stream",
     "text": [
      "6896it [06:07, 16.82it/s]"
     ]
    },
    {
     "name": "stdout",
     "output_type": "stream",
     "text": [
      "(1, 450, 600, 3)\n",
      "(1, 450, 600, 3)\n",
      "(1, 450, 600, 3)\n",
      "(1, 450, 600, 3)\n"
     ]
    },
    {
     "name": "stderr",
     "output_type": "stream",
     "text": [
      "6900it [06:07, 16.99it/s]"
     ]
    },
    {
     "name": "stdout",
     "output_type": "stream",
     "text": [
      "(1, 450, 600, 3)\n",
      "(1, 450, 600, 3)\n",
      "(1, 450, 600, 3)\n",
      "(1, 450, 600, 3)\n"
     ]
    },
    {
     "name": "stderr",
     "output_type": "stream",
     "text": [
      "\r",
      "6902it [06:07, 16.42it/s]"
     ]
    },
    {
     "name": "stdout",
     "output_type": "stream",
     "text": [
      "(1, 450, 600, 3)\n",
      "(1, 450, 600, 3)\n",
      "(1, 450, 600, 3)\n",
      "(1, 450, 600, 3)\n"
     ]
    },
    {
     "name": "stderr",
     "output_type": "stream",
     "text": [
      "6908it [06:07, 16.63it/s]"
     ]
    },
    {
     "name": "stdout",
     "output_type": "stream",
     "text": [
      "(1, 450, 600, 3)\n",
      "(1, 450, 600, 3)\n",
      "(1, 450, 600, 3)\n",
      "(1, 450, 600, 3)\n"
     ]
    },
    {
     "name": "stderr",
     "output_type": "stream",
     "text": [
      "6912it [06:07, 16.78it/s]"
     ]
    },
    {
     "name": "stdout",
     "output_type": "stream",
     "text": [
      "(1, 450, 600, 3)\n",
      "(1, 450, 600, 3)\n",
      "(1, 450, 600, 3)\n",
      "(1, 450, 600, 3)\n"
     ]
    },
    {
     "name": "stderr",
     "output_type": "stream",
     "text": [
      "\r",
      "6914it [06:08, 16.74it/s]"
     ]
    },
    {
     "name": "stdout",
     "output_type": "stream",
     "text": [
      "(1, 450, 600, 3)\n",
      "(1, 450, 600, 3)\n",
      "(1, 450, 600, 3)\n",
      "(1, 450, 600, 3)\n"
     ]
    },
    {
     "name": "stderr",
     "output_type": "stream",
     "text": [
      "6918it [06:08, 16.18it/s]"
     ]
    },
    {
     "name": "stdout",
     "output_type": "stream",
     "text": [
      "(1, 450, 600, 3)\n",
      "(1, 450, 600, 3)\n",
      "(1, 450, 600, 3)\n",
      "(1, 450, 600, 3)\n"
     ]
    },
    {
     "name": "stderr",
     "output_type": "stream",
     "text": [
      "6924it [06:08, 16.79it/s]"
     ]
    },
    {
     "name": "stdout",
     "output_type": "stream",
     "text": [
      "(1, 450, 600, 3)\n",
      "(1, 450, 600, 3)\n",
      "(1, 450, 600, 3)\n",
      "(1, 450, 600, 3)\n"
     ]
    },
    {
     "name": "stderr",
     "output_type": "stream",
     "text": [
      "\r",
      "6926it [06:08, 16.75it/s]"
     ]
    },
    {
     "name": "stdout",
     "output_type": "stream",
     "text": [
      "(1, 450, 600, 3)\n",
      "(1, 450, 600, 3)\n",
      "(1, 450, 600, 3)\n"
     ]
    },
    {
     "name": "stderr",
     "output_type": "stream",
     "text": [
      "6930it [06:09, 16.71it/s]"
     ]
    },
    {
     "name": "stdout",
     "output_type": "stream",
     "text": [
      "(1, 450, 600, 3)\n",
      "(1, 450, 600, 3)\n",
      "(1, 450, 600, 3)\n",
      "(1, 450, 600, 3)\n"
     ]
    },
    {
     "name": "stderr",
     "output_type": "stream",
     "text": [
      "6934it [06:09, 16.97it/s]"
     ]
    },
    {
     "name": "stdout",
     "output_type": "stream",
     "text": [
      "(1, 450, 600, 3)\n",
      "(1, 450, 600, 3)\n",
      "(1, 450, 600, 3)\n",
      "(1, 450, 600, 3)\n"
     ]
    },
    {
     "name": "stderr",
     "output_type": "stream",
     "text": [
      "6938it [06:09, 16.40it/s]"
     ]
    },
    {
     "name": "stdout",
     "output_type": "stream",
     "text": [
      "(1, 450, 600, 3)\n",
      "(1, 450, 600, 3)\n",
      "(1, 450, 600, 3)\n",
      "(1, 450, 600, 3)\n"
     ]
    },
    {
     "name": "stderr",
     "output_type": "stream",
     "text": [
      "6942it [06:09, 14.92it/s]"
     ]
    },
    {
     "name": "stdout",
     "output_type": "stream",
     "text": [
      "(1, 450, 600, 3)\n",
      "(1, 450, 600, 3)\n",
      "(1, 450, 600, 3)\n"
     ]
    },
    {
     "name": "stderr",
     "output_type": "stream",
     "text": [
      "6946it [06:10, 15.50it/s]"
     ]
    },
    {
     "name": "stdout",
     "output_type": "stream",
     "text": [
      "(1, 450, 600, 3)\n",
      "(1, 450, 600, 3)\n",
      "(1, 450, 600, 3)\n",
      "(1, 450, 600, 3)\n"
     ]
    },
    {
     "name": "stderr",
     "output_type": "stream",
     "text": [
      "6950it [06:10, 16.08it/s]"
     ]
    },
    {
     "name": "stdout",
     "output_type": "stream",
     "text": [
      "(1, 450, 600, 3)\n",
      "(1, 450, 600, 3)\n",
      "(1, 450, 600, 3)\n",
      "(1, 450, 600, 3)\n"
     ]
    },
    {
     "name": "stderr",
     "output_type": "stream",
     "text": [
      "\r",
      "6952it [06:10, 15.86it/s]"
     ]
    },
    {
     "name": "stdout",
     "output_type": "stream",
     "text": [
      "(1, 450, 600, 3)\n",
      "(1, 450, 600, 3)\n",
      "(1, 450, 600, 3)\n"
     ]
    },
    {
     "name": "stderr",
     "output_type": "stream",
     "text": [
      "6956it [06:10, 16.26it/s]"
     ]
    },
    {
     "name": "stdout",
     "output_type": "stream",
     "text": [
      "(1, 450, 600, 3)\n",
      "(1, 450, 600, 3)\n",
      "(1, 450, 600, 3)\n",
      "(1, 450, 600, 3)\n"
     ]
    },
    {
     "name": "stderr",
     "output_type": "stream",
     "text": [
      "6960it [06:10, 16.19it/s]"
     ]
    },
    {
     "name": "stdout",
     "output_type": "stream",
     "text": [
      "(1, 450, 600, 3)\n",
      "(1, 450, 600, 3)\n",
      "(1, 450, 600, 3)\n",
      "(1, 450, 600, 3)\n"
     ]
    },
    {
     "name": "stderr",
     "output_type": "stream",
     "text": [
      "6964it [06:11, 16.43it/s]"
     ]
    },
    {
     "name": "stdout",
     "output_type": "stream",
     "text": [
      "(1, 450, 600, 3)\n",
      "(1, 450, 600, 3)\n",
      "(1, 450, 600, 3)\n",
      "(1, 450, 600, 3)\n"
     ]
    },
    {
     "name": "stderr",
     "output_type": "stream",
     "text": [
      "6968it [06:11, 16.27it/s]"
     ]
    },
    {
     "name": "stdout",
     "output_type": "stream",
     "text": [
      "(1, 450, 600, 3)\n",
      "(1, 450, 600, 3)\n",
      "(1, 450, 600, 3)\n",
      "(1, 450, 600, 3)\n"
     ]
    },
    {
     "name": "stderr",
     "output_type": "stream",
     "text": [
      "6972it [06:11, 16.47it/s]"
     ]
    },
    {
     "name": "stdout",
     "output_type": "stream",
     "text": [
      "(1, 450, 600, 3)\n",
      "(1, 450, 600, 3)\n",
      "(1, 450, 600, 3)\n",
      "(1, 450, 600, 3)\n"
     ]
    },
    {
     "name": "stderr",
     "output_type": "stream",
     "text": [
      "6976it [06:11, 16.29it/s]"
     ]
    },
    {
     "name": "stdout",
     "output_type": "stream",
     "text": [
      "(1, 450, 600, 3)\n",
      "(1, 450, 600, 3)\n",
      "(1, 450, 600, 3)\n",
      "(1, 450, 600, 3)\n"
     ]
    },
    {
     "name": "stderr",
     "output_type": "stream",
     "text": [
      "6980it [06:12, 16.90it/s]"
     ]
    },
    {
     "name": "stdout",
     "output_type": "stream",
     "text": [
      "(1, 450, 600, 3)\n",
      "(1, 450, 600, 3)\n",
      "(1, 450, 600, 3)\n",
      "(1, 450, 600, 3)\n"
     ]
    },
    {
     "name": "stderr",
     "output_type": "stream",
     "text": [
      "6984it [06:12, 16.53it/s]"
     ]
    },
    {
     "name": "stdout",
     "output_type": "stream",
     "text": [
      "(1, 450, 600, 3)\n",
      "(1, 450, 600, 3)\n",
      "(1, 450, 600, 3)\n",
      "(1, 450, 600, 3)\n"
     ]
    },
    {
     "name": "stderr",
     "output_type": "stream",
     "text": [
      "\r",
      "6986it [06:12, 16.59it/s]"
     ]
    },
    {
     "name": "stdout",
     "output_type": "stream",
     "text": [
      "(1, 450, 600, 3)\n",
      "(1, 450, 600, 3)\n",
      "(1, 450, 600, 3)\n"
     ]
    },
    {
     "name": "stderr",
     "output_type": "stream",
     "text": [
      "6990it [06:12, 16.60it/s]"
     ]
    },
    {
     "name": "stdout",
     "output_type": "stream",
     "text": [
      "(1, 450, 600, 3)\n",
      "(1, 450, 600, 3)\n",
      "(1, 450, 600, 3)\n",
      "(1, 450, 600, 3)\n"
     ]
    },
    {
     "name": "stderr",
     "output_type": "stream",
     "text": [
      "6994it [06:12, 16.07it/s]"
     ]
    },
    {
     "name": "stdout",
     "output_type": "stream",
     "text": [
      "(1, 450, 600, 3)\n",
      "(1, 450, 600, 3)\n",
      "(1, 450, 600, 3)\n",
      "(1, 450, 600, 3)\n"
     ]
    },
    {
     "name": "stderr",
     "output_type": "stream",
     "text": [
      "6998it [06:13, 15.98it/s]"
     ]
    },
    {
     "name": "stdout",
     "output_type": "stream",
     "text": [
      "(1, 450, 600, 3)\n",
      "(1, 450, 600, 3)\n",
      "(1, 450, 600, 3)\n",
      "(1, 450, 600, 3)\n"
     ]
    },
    {
     "name": "stderr",
     "output_type": "stream",
     "text": [
      "7002it [06:13, 15.68it/s]"
     ]
    },
    {
     "name": "stdout",
     "output_type": "stream",
     "text": [
      "(1, 450, 600, 3)\n",
      "(1, 450, 600, 3)\n",
      "(1, 450, 600, 3)\n",
      "(1, 450, 600, 3)\n"
     ]
    },
    {
     "name": "stderr",
     "output_type": "stream",
     "text": [
      "7006it [06:13, 16.13it/s]"
     ]
    },
    {
     "name": "stdout",
     "output_type": "stream",
     "text": [
      "(1, 450, 600, 3)\n",
      "(1, 450, 600, 3)\n",
      "(1, 450, 600, 3)\n",
      "(1, 450, 600, 3)\n"
     ]
    },
    {
     "name": "stderr",
     "output_type": "stream",
     "text": [
      "7010it [06:14, 15.67it/s]"
     ]
    },
    {
     "name": "stdout",
     "output_type": "stream",
     "text": [
      "(1, 450, 600, 3)\n",
      "(1, 450, 600, 3)\n"
     ]
    },
    {
     "name": "stderr",
     "output_type": "stream",
     "text": [
      "\r",
      "7012it [06:14, 14.98it/s]"
     ]
    },
    {
     "name": "stdout",
     "output_type": "stream",
     "text": [
      "(1, 450, 600, 3)\n",
      "(1, 450, 600, 3)\n",
      "(1, 450, 600, 3)\n"
     ]
    },
    {
     "name": "stderr",
     "output_type": "stream",
     "text": [
      "7016it [06:14, 14.23it/s]"
     ]
    },
    {
     "name": "stdout",
     "output_type": "stream",
     "text": [
      "(1, 450, 600, 3)\n",
      "(1, 450, 600, 3)\n",
      "(1, 450, 600, 3)\n",
      "(1, 450, 600, 3)\n"
     ]
    },
    {
     "name": "stderr",
     "output_type": "stream",
     "text": [
      "7020it [06:14, 15.15it/s]"
     ]
    },
    {
     "name": "stdout",
     "output_type": "stream",
     "text": [
      "(1, 450, 600, 3)\n",
      "(1, 450, 600, 3)\n",
      "(1, 450, 600, 3)\n",
      "(1, 450, 600, 3)\n"
     ]
    },
    {
     "name": "stderr",
     "output_type": "stream",
     "text": [
      "7024it [06:14, 15.22it/s]"
     ]
    },
    {
     "name": "stdout",
     "output_type": "stream",
     "text": [
      "(1, 450, 600, 3)\n",
      "(1, 450, 600, 3)\n",
      "(1, 450, 600, 3)\n",
      "(1, 450, 600, 3)\n"
     ]
    },
    {
     "name": "stderr",
     "output_type": "stream",
     "text": [
      "7028it [06:15, 15.43it/s]"
     ]
    },
    {
     "name": "stdout",
     "output_type": "stream",
     "text": [
      "(1, 450, 600, 3)\n",
      "(1, 450, 600, 3)\n",
      "(1, 450, 600, 3)\n",
      "(1, 450, 600, 3)\n"
     ]
    },
    {
     "name": "stderr",
     "output_type": "stream",
     "text": [
      "7032it [06:15, 14.69it/s]"
     ]
    },
    {
     "name": "stdout",
     "output_type": "stream",
     "text": [
      "(1, 450, 600, 3)\n",
      "(1, 450, 600, 3)\n",
      "(1, 450, 600, 3)\n"
     ]
    },
    {
     "name": "stderr",
     "output_type": "stream",
     "text": [
      "\r",
      "7034it [06:15, 14.87it/s]"
     ]
    },
    {
     "name": "stdout",
     "output_type": "stream",
     "text": [
      "(1, 450, 600, 3)\n",
      "(1, 450, 600, 3)\n",
      "(1, 450, 600, 3)\n"
     ]
    },
    {
     "name": "stderr",
     "output_type": "stream",
     "text": [
      "7038it [06:15, 14.75it/s]"
     ]
    },
    {
     "name": "stdout",
     "output_type": "stream",
     "text": [
      "(1, 450, 600, 3)\n",
      "(1, 450, 600, 3)\n",
      "(1, 450, 600, 3)\n",
      "(1, 450, 600, 3)\n"
     ]
    },
    {
     "name": "stderr",
     "output_type": "stream",
     "text": [
      "7042it [06:16, 15.69it/s]"
     ]
    },
    {
     "name": "stdout",
     "output_type": "stream",
     "text": [
      "(1, 450, 600, 3)\n",
      "(1, 450, 600, 3)\n",
      "(1, 450, 600, 3)\n",
      "(1, 450, 600, 3)\n"
     ]
    },
    {
     "name": "stderr",
     "output_type": "stream",
     "text": [
      "7046it [06:16, 15.10it/s]"
     ]
    },
    {
     "name": "stdout",
     "output_type": "stream",
     "text": [
      "(1, 450, 600, 3)\n",
      "(1, 450, 600, 3)\n",
      "(1, 450, 600, 3)\n"
     ]
    },
    {
     "name": "stderr",
     "output_type": "stream",
     "text": [
      "\r",
      "7048it [06:16, 14.94it/s]"
     ]
    },
    {
     "name": "stdout",
     "output_type": "stream",
     "text": [
      "(1, 450, 600, 3)\n",
      "(1, 450, 600, 3)\n",
      "(1, 450, 600, 3)\n",
      "(1, 450, 600, 3)\n"
     ]
    },
    {
     "name": "stderr",
     "output_type": "stream",
     "text": [
      "7052it [06:16, 15.62it/s]"
     ]
    },
    {
     "name": "stdout",
     "output_type": "stream",
     "text": [
      "(1, 450, 600, 3)\n",
      "(1, 450, 600, 3)\n",
      "(1, 450, 600, 3)\n",
      "(1, 450, 600, 3)\n"
     ]
    },
    {
     "name": "stderr",
     "output_type": "stream",
     "text": [
      "7056it [06:17, 15.19it/s]"
     ]
    },
    {
     "name": "stdout",
     "output_type": "stream",
     "text": [
      "(1, 450, 600, 3)\n",
      "(1, 450, 600, 3)\n",
      "(1, 450, 600, 3)\n"
     ]
    },
    {
     "name": "stderr",
     "output_type": "stream",
     "text": [
      "7060it [06:17, 15.31it/s]"
     ]
    },
    {
     "name": "stdout",
     "output_type": "stream",
     "text": [
      "(1, 450, 600, 3)\n",
      "(1, 450, 600, 3)\n",
      "(1, 450, 600, 3)\n",
      "(1, 450, 600, 3)\n"
     ]
    },
    {
     "name": "stderr",
     "output_type": "stream",
     "text": [
      "7064it [06:17, 15.67it/s]"
     ]
    },
    {
     "name": "stdout",
     "output_type": "stream",
     "text": [
      "(1, 450, 600, 3)\n",
      "(1, 450, 600, 3)\n",
      "(1, 450, 600, 3)\n",
      "(1, 450, 600, 3)\n"
     ]
    },
    {
     "name": "stderr",
     "output_type": "stream",
     "text": [
      "7068it [06:17, 15.35it/s]"
     ]
    },
    {
     "name": "stdout",
     "output_type": "stream",
     "text": [
      "(1, 450, 600, 3)\n",
      "(1, 450, 600, 3)\n",
      "(1, 450, 600, 3)\n"
     ]
    },
    {
     "name": "stderr",
     "output_type": "stream",
     "text": [
      "\r",
      "7070it [06:18, 14.78it/s]"
     ]
    },
    {
     "name": "stdout",
     "output_type": "stream",
     "text": [
      "(1, 450, 600, 3)\n",
      "(1, 450, 600, 3)\n",
      "(1, 450, 600, 3)\n",
      "(1, 450, 600, 3)\n"
     ]
    },
    {
     "name": "stderr",
     "output_type": "stream",
     "text": [
      "7074it [06:18, 15.71it/s]"
     ]
    },
    {
     "name": "stdout",
     "output_type": "stream",
     "text": [
      "(1, 450, 600, 3)\n",
      "(1, 450, 600, 3)\n",
      "(1, 450, 600, 3)\n"
     ]
    },
    {
     "name": "stderr",
     "output_type": "stream",
     "text": [
      "7078it [06:18, 14.15it/s]"
     ]
    },
    {
     "name": "stdout",
     "output_type": "stream",
     "text": [
      "(1, 450, 600, 3)\n",
      "(1, 450, 600, 3)\n",
      "(1, 450, 600, 3)\n"
     ]
    },
    {
     "name": "stderr",
     "output_type": "stream",
     "text": [
      "\r",
      "7080it [06:18, 14.73it/s]"
     ]
    },
    {
     "name": "stdout",
     "output_type": "stream",
     "text": [
      "(1, 450, 600, 3)\n",
      "(1, 450, 600, 3)\n",
      "(1, 450, 600, 3)\n",
      "(1, 450, 600, 3)\n"
     ]
    },
    {
     "name": "stderr",
     "output_type": "stream",
     "text": [
      "7084it [06:18, 14.32it/s]"
     ]
    },
    {
     "name": "stdout",
     "output_type": "stream",
     "text": [
      "(1, 450, 600, 3)\n",
      "(1, 450, 600, 3)\n"
     ]
    },
    {
     "name": "stderr",
     "output_type": "stream",
     "text": [
      "\r",
      "7086it [06:19, 14.39it/s]"
     ]
    },
    {
     "name": "stdout",
     "output_type": "stream",
     "text": [
      "(1, 450, 600, 3)\n",
      "(1, 450, 600, 3)\n",
      "(1, 450, 600, 3)\n",
      "(1, 450, 600, 3)\n"
     ]
    },
    {
     "name": "stderr",
     "output_type": "stream",
     "text": [
      "7092it [06:19, 15.95it/s]"
     ]
    },
    {
     "name": "stdout",
     "output_type": "stream",
     "text": [
      "(1, 450, 600, 3)\n",
      "(1, 450, 600, 3)\n",
      "(1, 450, 600, 3)\n",
      "(1, 450, 600, 3)\n"
     ]
    },
    {
     "name": "stderr",
     "output_type": "stream",
     "text": [
      "7096it [06:19, 16.20it/s]"
     ]
    },
    {
     "name": "stdout",
     "output_type": "stream",
     "text": [
      "(1, 450, 600, 3)\n",
      "(1, 450, 600, 3)\n",
      "(1, 450, 600, 3)\n",
      "(1, 450, 600, 3)\n"
     ]
    },
    {
     "name": "stderr",
     "output_type": "stream",
     "text": [
      "7100it [06:19, 16.09it/s]"
     ]
    },
    {
     "name": "stdout",
     "output_type": "stream",
     "text": [
      "(1, 450, 600, 3)\n",
      "(1, 450, 600, 3)\n",
      "(1, 450, 600, 3)\n",
      "(1, 450, 600, 3)\n"
     ]
    },
    {
     "name": "stderr",
     "output_type": "stream",
     "text": [
      "\r",
      "7102it [06:20, 16.22it/s]"
     ]
    },
    {
     "name": "stdout",
     "output_type": "stream",
     "text": [
      "(1, 450, 600, 3)\n",
      "(1, 450, 600, 3)\n",
      "(1, 450, 600, 3)\n",
      "(1, 450, 600, 3)\n"
     ]
    },
    {
     "name": "stderr",
     "output_type": "stream",
     "text": [
      "7108it [06:20, 16.24it/s]"
     ]
    },
    {
     "name": "stdout",
     "output_type": "stream",
     "text": [
      "(1, 450, 600, 3)\n",
      "(1, 450, 600, 3)\n",
      "(1, 450, 600, 3)\n",
      "(1, 450, 600, 3)\n"
     ]
    },
    {
     "name": "stderr",
     "output_type": "stream",
     "text": [
      "7112it [06:20, 16.70it/s]"
     ]
    },
    {
     "name": "stdout",
     "output_type": "stream",
     "text": [
      "(1, 450, 600, 3)\n",
      "(1, 450, 600, 3)\n",
      "(1, 450, 600, 3)\n",
      "(1, 450, 600, 3)\n"
     ]
    },
    {
     "name": "stderr",
     "output_type": "stream",
     "text": [
      "7116it [06:20, 16.15it/s]"
     ]
    },
    {
     "name": "stdout",
     "output_type": "stream",
     "text": [
      "(1, 450, 600, 3)\n",
      "(1, 450, 600, 3)\n",
      "(1, 450, 600, 3)\n",
      "(1, 450, 600, 3)\n"
     ]
    },
    {
     "name": "stderr",
     "output_type": "stream",
     "text": [
      "\r",
      "7118it [06:21, 16.27it/s]"
     ]
    },
    {
     "name": "stdout",
     "output_type": "stream",
     "text": [
      "(1, 450, 600, 3)\n",
      "(1, 450, 600, 3)\n",
      "(1, 450, 600, 3)\n"
     ]
    },
    {
     "name": "stderr",
     "output_type": "stream",
     "text": [
      "7122it [06:21, 16.21it/s]"
     ]
    },
    {
     "name": "stdout",
     "output_type": "stream",
     "text": [
      "(1, 450, 600, 3)\n",
      "(1, 450, 600, 3)\n",
      "(1, 450, 600, 3)\n",
      "(1, 450, 600, 3)\n"
     ]
    },
    {
     "name": "stderr",
     "output_type": "stream",
     "text": [
      "7126it [06:21, 15.93it/s]"
     ]
    },
    {
     "name": "stdout",
     "output_type": "stream",
     "text": [
      "(1, 450, 600, 3)\n",
      "(1, 450, 600, 3)\n",
      "(1, 450, 600, 3)\n",
      "(1, 450, 600, 3)\n"
     ]
    },
    {
     "name": "stderr",
     "output_type": "stream",
     "text": [
      "7130it [06:21, 16.41it/s]"
     ]
    },
    {
     "name": "stdout",
     "output_type": "stream",
     "text": [
      "(1, 450, 600, 3)\n",
      "(1, 450, 600, 3)\n",
      "(1, 450, 600, 3)\n",
      "(1, 450, 600, 3)\n"
     ]
    },
    {
     "name": "stderr",
     "output_type": "stream",
     "text": [
      "7134it [06:22, 16.34it/s]"
     ]
    },
    {
     "name": "stdout",
     "output_type": "stream",
     "text": [
      "(1, 450, 600, 3)\n",
      "(1, 450, 600, 3)\n",
      "(1, 450, 600, 3)\n",
      "(1, 450, 600, 3)\n"
     ]
    },
    {
     "name": "stderr",
     "output_type": "stream",
     "text": [
      "7138it [06:22, 16.35it/s]"
     ]
    },
    {
     "name": "stdout",
     "output_type": "stream",
     "text": [
      "(1, 450, 600, 3)\n",
      "(1, 450, 600, 3)\n",
      "(1, 450, 600, 3)\n",
      "(1, 450, 600, 3)\n"
     ]
    },
    {
     "name": "stderr",
     "output_type": "stream",
     "text": [
      "7142it [06:22, 15.80it/s]"
     ]
    },
    {
     "name": "stdout",
     "output_type": "stream",
     "text": [
      "(1, 450, 600, 3)\n",
      "(1, 450, 600, 3)\n",
      "(1, 450, 600, 3)\n",
      "(1, 450, 600, 3)\n"
     ]
    },
    {
     "name": "stderr",
     "output_type": "stream",
     "text": [
      "7146it [06:22, 16.24it/s]"
     ]
    },
    {
     "name": "stdout",
     "output_type": "stream",
     "text": [
      "(1, 450, 600, 3)\n",
      "(1, 450, 600, 3)\n",
      "(1, 450, 600, 3)\n",
      "(1, 450, 600, 3)\n"
     ]
    },
    {
     "name": "stderr",
     "output_type": "stream",
     "text": [
      "7150it [06:23, 16.43it/s]"
     ]
    },
    {
     "name": "stdout",
     "output_type": "stream",
     "text": [
      "(1, 450, 600, 3)\n",
      "(1, 450, 600, 3)\n",
      "(1, 450, 600, 3)\n"
     ]
    },
    {
     "name": "stderr",
     "output_type": "stream",
     "text": [
      "7154it [06:23, 16.53it/s]"
     ]
    },
    {
     "name": "stdout",
     "output_type": "stream",
     "text": [
      "(1, 450, 600, 3)\n",
      "(1, 450, 600, 3)\n",
      "(1, 450, 600, 3)\n",
      "(1, 450, 600, 3)\n"
     ]
    },
    {
     "name": "stderr",
     "output_type": "stream",
     "text": [
      "\r",
      "7156it [06:23, 16.13it/s]"
     ]
    },
    {
     "name": "stdout",
     "output_type": "stream",
     "text": [
      "(1, 450, 600, 3)\n",
      "(1, 450, 600, 3)\n",
      "(1, 450, 600, 3)\n"
     ]
    },
    {
     "name": "stderr",
     "output_type": "stream",
     "text": [
      "7160it [06:23, 15.04it/s]"
     ]
    },
    {
     "name": "stdout",
     "output_type": "stream",
     "text": [
      "(1, 450, 600, 3)\n",
      "(1, 450, 600, 3)\n",
      "(1, 450, 600, 3)\n",
      "(1, 450, 600, 3)\n"
     ]
    },
    {
     "name": "stderr",
     "output_type": "stream",
     "text": [
      "7164it [06:23, 15.61it/s]"
     ]
    },
    {
     "name": "stdout",
     "output_type": "stream",
     "text": [
      "(1, 450, 600, 3)\n",
      "(1, 450, 600, 3)\n",
      "(1, 450, 600, 3)\n",
      "(1, 450, 600, 3)\n"
     ]
    },
    {
     "name": "stderr",
     "output_type": "stream",
     "text": [
      "7168it [06:24, 15.66it/s]"
     ]
    },
    {
     "name": "stdout",
     "output_type": "stream",
     "text": [
      "(1, 450, 600, 3)\n",
      "(1, 450, 600, 3)\n",
      "(1, 450, 600, 3)\n",
      "(1, 450, 600, 3)\n"
     ]
    },
    {
     "name": "stderr",
     "output_type": "stream",
     "text": [
      "7172it [06:24, 16.26it/s]"
     ]
    },
    {
     "name": "stdout",
     "output_type": "stream",
     "text": [
      "(1, 450, 600, 3)\n",
      "(1, 450, 600, 3)\n",
      "(1, 450, 600, 3)\n",
      "(1, 450, 600, 3)\n"
     ]
    },
    {
     "name": "stderr",
     "output_type": "stream",
     "text": [
      "7176it [06:24, 16.32it/s]"
     ]
    },
    {
     "name": "stdout",
     "output_type": "stream",
     "text": [
      "(1, 450, 600, 3)\n",
      "(1, 450, 600, 3)\n",
      "(1, 450, 600, 3)\n",
      "(1, 450, 600, 3)\n"
     ]
    },
    {
     "name": "stderr",
     "output_type": "stream",
     "text": [
      "7180it [06:24, 16.76it/s]"
     ]
    },
    {
     "name": "stdout",
     "output_type": "stream",
     "text": [
      "(1, 450, 600, 3)\n",
      "(1, 450, 600, 3)\n",
      "(1, 450, 600, 3)\n",
      "(1, 450, 600, 3)\n"
     ]
    },
    {
     "name": "stderr",
     "output_type": "stream",
     "text": [
      "7184it [06:25, 16.38it/s]"
     ]
    },
    {
     "name": "stdout",
     "output_type": "stream",
     "text": [
      "(1, 450, 600, 3)\n",
      "(1, 450, 600, 3)\n",
      "(1, 450, 600, 3)\n",
      "(1, 450, 600, 3)\n"
     ]
    },
    {
     "name": "stderr",
     "output_type": "stream",
     "text": [
      "7188it [06:25, 16.28it/s]"
     ]
    },
    {
     "name": "stdout",
     "output_type": "stream",
     "text": [
      "(1, 450, 600, 3)\n",
      "(1, 450, 600, 3)\n",
      "(1, 450, 600, 3)\n",
      "(1, 450, 600, 3)\n"
     ]
    },
    {
     "name": "stderr",
     "output_type": "stream",
     "text": [
      "7192it [06:25, 15.78it/s]"
     ]
    },
    {
     "name": "stdout",
     "output_type": "stream",
     "text": [
      "(1, 450, 600, 3)\n",
      "(1, 450, 600, 3)\n",
      "(1, 450, 600, 3)\n",
      "(1, 450, 600, 3)\n"
     ]
    },
    {
     "name": "stderr",
     "output_type": "stream",
     "text": [
      "7196it [06:25, 16.22it/s]"
     ]
    },
    {
     "name": "stdout",
     "output_type": "stream",
     "text": [
      "(1, 450, 600, 3)\n",
      "(1, 450, 600, 3)\n",
      "(1, 450, 600, 3)\n",
      "(1, 450, 600, 3)\n"
     ]
    },
    {
     "name": "stderr",
     "output_type": "stream",
     "text": [
      "7200it [06:26, 16.55it/s]"
     ]
    },
    {
     "name": "stdout",
     "output_type": "stream",
     "text": [
      "(1, 450, 600, 3)\n",
      "(1, 450, 600, 3)\n",
      "(1, 450, 600, 3)\n",
      "(1, 450, 600, 3)\n"
     ]
    },
    {
     "name": "stderr",
     "output_type": "stream",
     "text": [
      "7204it [06:26, 15.98it/s]"
     ]
    },
    {
     "name": "stdout",
     "output_type": "stream",
     "text": [
      "(1, 450, 600, 3)\n",
      "(1, 450, 600, 3)\n",
      "(1, 450, 600, 3)\n",
      "(1, 450, 600, 3)\n"
     ]
    },
    {
     "name": "stderr",
     "output_type": "stream",
     "text": [
      "7208it [06:26, 15.93it/s]"
     ]
    },
    {
     "name": "stdout",
     "output_type": "stream",
     "text": [
      "(1, 450, 600, 3)\n",
      "(1, 450, 600, 3)\n",
      "(1, 450, 600, 3)\n",
      "(1, 450, 600, 3)\n"
     ]
    },
    {
     "name": "stderr",
     "output_type": "stream",
     "text": [
      "7212it [06:26, 15.68it/s]"
     ]
    },
    {
     "name": "stdout",
     "output_type": "stream",
     "text": [
      "(1, 450, 600, 3)\n",
      "(1, 450, 600, 3)\n",
      "(1, 450, 600, 3)\n",
      "(1, 450, 600, 3)\n"
     ]
    },
    {
     "name": "stderr",
     "output_type": "stream",
     "text": [
      "7216it [06:27, 16.21it/s]"
     ]
    },
    {
     "name": "stdout",
     "output_type": "stream",
     "text": [
      "(1, 450, 600, 3)\n",
      "(1, 450, 600, 3)\n",
      "(1, 450, 600, 3)\n",
      "(1, 450, 600, 3)\n"
     ]
    },
    {
     "name": "stderr",
     "output_type": "stream",
     "text": [
      "7220it [06:27, 15.96it/s]"
     ]
    },
    {
     "name": "stdout",
     "output_type": "stream",
     "text": [
      "(1, 450, 600, 3)\n",
      "(1, 450, 600, 3)\n",
      "(1, 450, 600, 3)\n",
      "(1, 450, 600, 3)\n"
     ]
    },
    {
     "name": "stderr",
     "output_type": "stream",
     "text": [
      "7224it [06:27, 15.52it/s]"
     ]
    },
    {
     "name": "stdout",
     "output_type": "stream",
     "text": [
      "(1, 450, 600, 3)\n",
      "(1, 450, 600, 3)\n",
      "(1, 450, 600, 3)\n",
      "(1, 450, 600, 3)\n"
     ]
    },
    {
     "name": "stderr",
     "output_type": "stream",
     "text": [
      "7228it [06:27, 15.98it/s]"
     ]
    },
    {
     "name": "stdout",
     "output_type": "stream",
     "text": [
      "(1, 450, 600, 3)\n",
      "(1, 450, 600, 3)\n",
      "(1, 450, 600, 3)\n",
      "(1, 450, 600, 3)\n"
     ]
    },
    {
     "name": "stderr",
     "output_type": "stream",
     "text": [
      "7232it [06:28, 15.01it/s]"
     ]
    },
    {
     "name": "stdout",
     "output_type": "stream",
     "text": [
      "(1, 450, 600, 3)\n",
      "(1, 450, 600, 3)\n",
      "(1, 450, 600, 3)\n"
     ]
    },
    {
     "name": "stderr",
     "output_type": "stream",
     "text": [
      "\r",
      "7234it [06:28, 14.66it/s]"
     ]
    },
    {
     "name": "stdout",
     "output_type": "stream",
     "text": [
      "(1, 450, 600, 3)\n",
      "(1, 450, 600, 3)\n",
      "(1, 450, 600, 3)\n",
      "(1, 450, 600, 3)\n"
     ]
    },
    {
     "name": "stderr",
     "output_type": "stream",
     "text": [
      "7240it [06:28, 15.57it/s]"
     ]
    },
    {
     "name": "stdout",
     "output_type": "stream",
     "text": [
      "(1, 450, 600, 3)\n",
      "(1, 450, 600, 3)\n",
      "(1, 450, 600, 3)\n",
      "(1, 450, 600, 3)\n"
     ]
    },
    {
     "name": "stderr",
     "output_type": "stream",
     "text": [
      "7244it [06:28, 15.98it/s]"
     ]
    },
    {
     "name": "stdout",
     "output_type": "stream",
     "text": [
      "(1, 450, 600, 3)\n",
      "(1, 450, 600, 3)\n",
      "(1, 450, 600, 3)\n",
      "(1, 450, 600, 3)\n"
     ]
    },
    {
     "name": "stderr",
     "output_type": "stream",
     "text": [
      "\r",
      "7246it [06:29, 16.15it/s]"
     ]
    },
    {
     "name": "stdout",
     "output_type": "stream",
     "text": [
      "(1, 450, 600, 3)\n",
      "(1, 450, 600, 3)\n",
      "(1, 450, 600, 3)\n",
      "(1, 450, 600, 3)\n"
     ]
    },
    {
     "name": "stderr",
     "output_type": "stream",
     "text": [
      "7252it [06:29, 15.84it/s]"
     ]
    },
    {
     "name": "stdout",
     "output_type": "stream",
     "text": [
      "(1, 450, 600, 3)\n",
      "(1, 450, 600, 3)\n",
      "(1, 450, 600, 3)\n",
      "(1, 450, 600, 3)\n"
     ]
    },
    {
     "name": "stderr",
     "output_type": "stream",
     "text": [
      "7256it [06:29, 15.94it/s]"
     ]
    },
    {
     "name": "stdout",
     "output_type": "stream",
     "text": [
      "(1, 450, 600, 3)\n",
      "(1, 450, 600, 3)\n",
      "(1, 450, 600, 3)\n",
      "(1, 450, 600, 3)\n"
     ]
    },
    {
     "name": "stderr",
     "output_type": "stream",
     "text": [
      "7260it [06:29, 16.46it/s]"
     ]
    },
    {
     "name": "stdout",
     "output_type": "stream",
     "text": [
      "(1, 450, 600, 3)\n",
      "(1, 450, 600, 3)\n",
      "(1, 450, 600, 3)\n",
      "(1, 450, 600, 3)\n"
     ]
    },
    {
     "name": "stderr",
     "output_type": "stream",
     "text": [
      "\r",
      "7262it [06:30, 16.46it/s]"
     ]
    },
    {
     "name": "stdout",
     "output_type": "stream",
     "text": [
      "(1, 450, 600, 3)\n",
      "(1, 450, 600, 3)\n",
      "(1, 450, 600, 3)\n",
      "(1, 450, 600, 3)\n"
     ]
    },
    {
     "name": "stderr",
     "output_type": "stream",
     "text": [
      "7268it [06:30, 15.99it/s]"
     ]
    },
    {
     "name": "stdout",
     "output_type": "stream",
     "text": [
      "(1, 450, 600, 3)\n",
      "(1, 450, 600, 3)\n",
      "(1, 450, 600, 3)\n",
      "(1, 450, 600, 3)\n"
     ]
    },
    {
     "name": "stderr",
     "output_type": "stream",
     "text": [
      "\r",
      "7270it [06:30, 15.91it/s]"
     ]
    },
    {
     "name": "stdout",
     "output_type": "stream",
     "text": [
      "(1, 450, 600, 3)\n",
      "(1, 450, 600, 3)\n",
      "(1, 450, 600, 3)\n",
      "(1, 450, 600, 3)\n"
     ]
    },
    {
     "name": "stderr",
     "output_type": "stream",
     "text": [
      "7274it [06:30, 15.93it/s]"
     ]
    },
    {
     "name": "stdout",
     "output_type": "stream",
     "text": [
      "(1, 450, 600, 3)\n",
      "(1, 450, 600, 3)\n",
      "(1, 450, 600, 3)\n",
      "(1, 450, 600, 3)\n"
     ]
    },
    {
     "name": "stderr",
     "output_type": "stream",
     "text": [
      "7280it [06:31, 15.69it/s]"
     ]
    },
    {
     "name": "stdout",
     "output_type": "stream",
     "text": [
      "(1, 450, 600, 3)\n",
      "(1, 450, 600, 3)\n",
      "(1, 450, 600, 3)\n",
      "(1, 450, 600, 3)\n"
     ]
    },
    {
     "name": "stderr",
     "output_type": "stream",
     "text": [
      "7284it [06:31, 16.24it/s]"
     ]
    },
    {
     "name": "stdout",
     "output_type": "stream",
     "text": [
      "(1, 450, 600, 3)\n",
      "(1, 450, 600, 3)\n",
      "(1, 450, 600, 3)\n",
      "(1, 450, 600, 3)\n"
     ]
    },
    {
     "name": "stderr",
     "output_type": "stream",
     "text": [
      "\r",
      "7286it [06:31, 16.15it/s]"
     ]
    },
    {
     "name": "stdout",
     "output_type": "stream",
     "text": [
      "(1, 450, 600, 3)\n",
      "(1, 450, 600, 3)\n",
      "(1, 450, 600, 3)\n",
      "(1, 450, 600, 3)\n"
     ]
    },
    {
     "name": "stderr",
     "output_type": "stream",
     "text": [
      "7292it [06:31, 16.08it/s]"
     ]
    },
    {
     "name": "stdout",
     "output_type": "stream",
     "text": [
      "(1, 450, 600, 3)\n",
      "(1, 450, 600, 3)\n",
      "(1, 450, 600, 3)\n",
      "(1, 450, 600, 3)\n"
     ]
    },
    {
     "name": "stderr",
     "output_type": "stream",
     "text": [
      "\r",
      "7294it [06:32, 16.28it/s]"
     ]
    },
    {
     "name": "stdout",
     "output_type": "stream",
     "text": [
      "(1, 450, 600, 3)\n",
      "(1, 450, 600, 3)\n",
      "(1, 450, 600, 3)\n",
      "(1, 450, 600, 3)\n"
     ]
    },
    {
     "name": "stderr",
     "output_type": "stream",
     "text": [
      "7300it [06:32, 16.25it/s]"
     ]
    },
    {
     "name": "stdout",
     "output_type": "stream",
     "text": [
      "(1, 450, 600, 3)\n",
      "(1, 450, 600, 3)\n",
      "(1, 450, 600, 3)\n",
      "(1, 450, 600, 3)\n"
     ]
    },
    {
     "name": "stderr",
     "output_type": "stream",
     "text": [
      "\r",
      "7302it [06:32, 15.95it/s]"
     ]
    },
    {
     "name": "stdout",
     "output_type": "stream",
     "text": [
      "(1, 450, 600, 3)\n",
      "(1, 450, 600, 3)\n",
      "(1, 450, 600, 3)\n"
     ]
    },
    {
     "name": "stderr",
     "output_type": "stream",
     "text": [
      "7306it [06:32, 14.49it/s]"
     ]
    },
    {
     "name": "stdout",
     "output_type": "stream",
     "text": [
      "(1, 450, 600, 3)\n",
      "(1, 450, 600, 3)\n",
      "(1, 450, 600, 3)\n"
     ]
    },
    {
     "name": "stderr",
     "output_type": "stream",
     "text": [
      "7310it [06:33, 15.51it/s]"
     ]
    },
    {
     "name": "stdout",
     "output_type": "stream",
     "text": [
      "(1, 450, 600, 3)\n",
      "(1, 450, 600, 3)\n",
      "(1, 450, 600, 3)\n",
      "(1, 450, 600, 3)\n"
     ]
    },
    {
     "name": "stderr",
     "output_type": "stream",
     "text": [
      "7314it [06:33, 15.72it/s]"
     ]
    },
    {
     "name": "stdout",
     "output_type": "stream",
     "text": [
      "(1, 450, 600, 3)\n",
      "(1, 450, 600, 3)\n",
      "(1, 450, 600, 3)\n",
      "(1, 450, 600, 3)\n"
     ]
    },
    {
     "name": "stderr",
     "output_type": "stream",
     "text": [
      "\r",
      "7316it [06:33, 15.95it/s]"
     ]
    },
    {
     "name": "stdout",
     "output_type": "stream",
     "text": [
      "(1, 450, 600, 3)\n",
      "(1, 450, 600, 3)\n",
      "(1, 450, 600, 3)\n",
      "(1, 450, 600, 3)\n"
     ]
    },
    {
     "name": "stderr",
     "output_type": "stream",
     "text": [
      "7320it [06:33, 15.60it/s]"
     ]
    },
    {
     "name": "stdout",
     "output_type": "stream",
     "text": [
      "(1, 450, 600, 3)\n",
      "(1, 450, 600, 3)\n",
      "(1, 450, 600, 3)\n",
      "(1, 450, 600, 3)\n"
     ]
    },
    {
     "name": "stderr",
     "output_type": "stream",
     "text": [
      "7324it [06:34, 15.74it/s]"
     ]
    },
    {
     "name": "stdout",
     "output_type": "stream",
     "text": [
      "(1, 450, 600, 3)\n",
      "(1, 450, 600, 3)\n",
      "(1, 450, 600, 3)\n"
     ]
    },
    {
     "name": "stderr",
     "output_type": "stream",
     "text": [
      "7328it [06:34, 15.72it/s]"
     ]
    },
    {
     "name": "stdout",
     "output_type": "stream",
     "text": [
      "(1, 450, 600, 3)\n",
      "(1, 450, 600, 3)\n",
      "(1, 450, 600, 3)\n",
      "(1, 450, 600, 3)\n"
     ]
    },
    {
     "name": "stderr",
     "output_type": "stream",
     "text": [
      "7332it [06:34, 16.29it/s]"
     ]
    },
    {
     "name": "stdout",
     "output_type": "stream",
     "text": [
      "(1, 450, 600, 3)\n",
      "(1, 450, 600, 3)\n",
      "(1, 450, 600, 3)\n",
      "(1, 450, 600, 3)\n"
     ]
    },
    {
     "name": "stderr",
     "output_type": "stream",
     "text": [
      "7336it [06:34, 15.96it/s]"
     ]
    },
    {
     "name": "stdout",
     "output_type": "stream",
     "text": [
      "(1, 450, 600, 3)\n",
      "(1, 450, 600, 3)\n",
      "(1, 450, 600, 3)\n",
      "(1, 450, 600, 3)\n"
     ]
    },
    {
     "name": "stderr",
     "output_type": "stream",
     "text": [
      "7340it [06:35, 16.25it/s]"
     ]
    },
    {
     "name": "stdout",
     "output_type": "stream",
     "text": [
      "(1, 450, 600, 3)\n",
      "(1, 450, 600, 3)\n",
      "(1, 450, 600, 3)\n",
      "(1, 450, 600, 3)\n"
     ]
    },
    {
     "name": "stderr",
     "output_type": "stream",
     "text": [
      "7344it [06:35, 15.78it/s]"
     ]
    },
    {
     "name": "stdout",
     "output_type": "stream",
     "text": [
      "(1, 450, 600, 3)\n",
      "(1, 450, 600, 3)\n",
      "(1, 450, 600, 3)\n",
      "(1, 450, 600, 3)\n"
     ]
    },
    {
     "name": "stderr",
     "output_type": "stream",
     "text": [
      "7348it [06:35, 15.87it/s]"
     ]
    },
    {
     "name": "stdout",
     "output_type": "stream",
     "text": [
      "(1, 450, 600, 3)\n",
      "(1, 450, 600, 3)\n",
      "(1, 450, 600, 3)\n",
      "(1, 450, 600, 3)\n"
     ]
    },
    {
     "name": "stderr",
     "output_type": "stream",
     "text": [
      "7352it [06:35, 16.15it/s]"
     ]
    },
    {
     "name": "stdout",
     "output_type": "stream",
     "text": [
      "(1, 450, 600, 3)\n",
      "(1, 450, 600, 3)\n",
      "(1, 450, 600, 3)\n",
      "(1, 450, 600, 3)\n"
     ]
    },
    {
     "name": "stderr",
     "output_type": "stream",
     "text": [
      "7356it [06:36, 16.06it/s]"
     ]
    },
    {
     "name": "stdout",
     "output_type": "stream",
     "text": [
      "(1, 450, 600, 3)\n",
      "(1, 450, 600, 3)\n",
      "(1, 450, 600, 3)\n"
     ]
    },
    {
     "name": "stderr",
     "output_type": "stream",
     "text": [
      "7360it [06:36, 16.42it/s]"
     ]
    },
    {
     "name": "stdout",
     "output_type": "stream",
     "text": [
      "(1, 450, 600, 3)\n",
      "(1, 450, 600, 3)\n",
      "(1, 450, 600, 3)\n",
      "(1, 450, 600, 3)\n"
     ]
    },
    {
     "name": "stderr",
     "output_type": "stream",
     "text": [
      "\r",
      "7362it [06:36, 16.22it/s]"
     ]
    },
    {
     "name": "stdout",
     "output_type": "stream",
     "text": [
      "(1, 450, 600, 3)\n",
      "(1, 450, 600, 3)\n",
      "(1, 450, 600, 3)\n",
      "(1, 450, 600, 3)\n"
     ]
    },
    {
     "name": "stderr",
     "output_type": "stream",
     "text": [
      "7368it [06:36, 15.86it/s]"
     ]
    },
    {
     "name": "stdout",
     "output_type": "stream",
     "text": [
      "(1, 450, 600, 3)\n",
      "(1, 450, 600, 3)\n",
      "(1, 450, 600, 3)\n",
      "(1, 450, 600, 3)\n"
     ]
    },
    {
     "name": "stderr",
     "output_type": "stream",
     "text": [
      "7372it [06:37, 16.08it/s]"
     ]
    },
    {
     "name": "stdout",
     "output_type": "stream",
     "text": [
      "(1, 450, 600, 3)\n",
      "(1, 450, 600, 3)\n",
      "(1, 450, 600, 3)\n",
      "(1, 450, 600, 3)\n"
     ]
    },
    {
     "name": "stderr",
     "output_type": "stream",
     "text": [
      "\r",
      "7374it [06:37, 16.01it/s]"
     ]
    },
    {
     "name": "stdout",
     "output_type": "stream",
     "text": [
      "(1, 450, 600, 3)\n",
      "(1, 450, 600, 3)\n",
      "(1, 450, 600, 3)\n",
      "(1, 450, 600, 3)\n"
     ]
    },
    {
     "name": "stderr",
     "output_type": "stream",
     "text": [
      "7378it [06:37, 14.91it/s]"
     ]
    },
    {
     "name": "stdout",
     "output_type": "stream",
     "text": [
      "(1, 450, 600, 3)\n",
      "(1, 450, 600, 3)\n",
      "(1, 450, 600, 3)\n"
     ]
    },
    {
     "name": "stderr",
     "output_type": "stream",
     "text": [
      "7382it [06:37, 14.97it/s]"
     ]
    },
    {
     "name": "stdout",
     "output_type": "stream",
     "text": [
      "(1, 450, 600, 3)\n",
      "(1, 450, 600, 3)\n",
      "(1, 450, 600, 3)\n",
      "(1, 450, 600, 3)\n"
     ]
    },
    {
     "name": "stderr",
     "output_type": "stream",
     "text": [
      "7386it [06:37, 15.20it/s]"
     ]
    },
    {
     "name": "stdout",
     "output_type": "stream",
     "text": [
      "(1, 450, 600, 3)\n",
      "(1, 450, 600, 3)\n",
      "(1, 450, 600, 3)\n",
      "(1, 450, 600, 3)\n"
     ]
    },
    {
     "name": "stderr",
     "output_type": "stream",
     "text": [
      "7390it [06:38, 15.54it/s]"
     ]
    },
    {
     "name": "stdout",
     "output_type": "stream",
     "text": [
      "(1, 450, 600, 3)\n",
      "(1, 450, 600, 3)\n",
      "(1, 450, 600, 3)\n",
      "(1, 450, 600, 3)\n"
     ]
    },
    {
     "name": "stderr",
     "output_type": "stream",
     "text": [
      "7394it [06:38, 16.30it/s]"
     ]
    },
    {
     "name": "stdout",
     "output_type": "stream",
     "text": [
      "(1, 450, 600, 3)\n",
      "(1, 450, 600, 3)\n",
      "(1, 450, 600, 3)\n",
      "(1, 450, 600, 3)\n"
     ]
    },
    {
     "name": "stderr",
     "output_type": "stream",
     "text": [
      "7398it [06:38, 15.27it/s]"
     ]
    },
    {
     "name": "stdout",
     "output_type": "stream",
     "text": [
      "(1, 450, 600, 3)\n",
      "(1, 450, 600, 3)\n",
      "(1, 450, 600, 3)\n"
     ]
    },
    {
     "name": "stderr",
     "output_type": "stream",
     "text": [
      "\r",
      "7400it [06:38, 15.25it/s]"
     ]
    },
    {
     "name": "stdout",
     "output_type": "stream",
     "text": [
      "(1, 450, 600, 3)\n",
      "(1, 450, 600, 3)\n",
      "(1, 450, 600, 3)\n",
      "(1, 450, 600, 3)\n"
     ]
    },
    {
     "name": "stderr",
     "output_type": "stream",
     "text": [
      "7404it [06:39, 15.75it/s]"
     ]
    },
    {
     "name": "stdout",
     "output_type": "stream",
     "text": [
      "(1, 450, 600, 3)\n",
      "(1, 450, 600, 3)\n",
      "(1, 450, 600, 3)\n"
     ]
    },
    {
     "name": "stderr",
     "output_type": "stream",
     "text": [
      "7408it [06:39, 15.89it/s]"
     ]
    },
    {
     "name": "stdout",
     "output_type": "stream",
     "text": [
      "(1, 450, 600, 3)\n",
      "(1, 450, 600, 3)\n",
      "(1, 450, 600, 3)\n",
      "(1, 450, 600, 3)\n"
     ]
    },
    {
     "name": "stderr",
     "output_type": "stream",
     "text": [
      "7412it [06:39, 15.50it/s]"
     ]
    },
    {
     "name": "stdout",
     "output_type": "stream",
     "text": [
      "(1, 450, 600, 3)\n",
      "(1, 450, 600, 3)\n",
      "(1, 450, 600, 3)\n",
      "(1, 450, 600, 3)\n"
     ]
    },
    {
     "name": "stderr",
     "output_type": "stream",
     "text": [
      "7416it [06:39, 15.79it/s]"
     ]
    },
    {
     "name": "stdout",
     "output_type": "stream",
     "text": [
      "(1, 450, 600, 3)\n",
      "(1, 450, 600, 3)\n",
      "(1, 450, 600, 3)\n",
      "(1, 450, 600, 3)\n"
     ]
    },
    {
     "name": "stderr",
     "output_type": "stream",
     "text": [
      "7420it [06:40, 16.11it/s]"
     ]
    },
    {
     "name": "stdout",
     "output_type": "stream",
     "text": [
      "(1, 450, 600, 3)\n",
      "(1, 450, 600, 3)\n",
      "(1, 450, 600, 3)\n",
      "(1, 450, 600, 3)\n"
     ]
    },
    {
     "name": "stderr",
     "output_type": "stream",
     "text": [
      "7424it [06:40, 16.14it/s]"
     ]
    },
    {
     "name": "stdout",
     "output_type": "stream",
     "text": [
      "(1, 450, 600, 3)\n",
      "(1, 450, 600, 3)\n",
      "(1, 450, 600, 3)\n",
      "(1, 450, 600, 3)\n"
     ]
    },
    {
     "name": "stderr",
     "output_type": "stream",
     "text": [
      "7428it [06:40, 16.03it/s]"
     ]
    },
    {
     "name": "stdout",
     "output_type": "stream",
     "text": [
      "(1, 450, 600, 3)\n",
      "(1, 450, 600, 3)\n",
      "(1, 450, 600, 3)\n",
      "(1, 450, 600, 3)\n"
     ]
    },
    {
     "name": "stderr",
     "output_type": "stream",
     "text": [
      "7432it [06:40, 15.69it/s]"
     ]
    },
    {
     "name": "stdout",
     "output_type": "stream",
     "text": [
      "(1, 450, 600, 3)\n",
      "(1, 450, 600, 3)\n",
      "(1, 450, 600, 3)\n",
      "(1, 450, 600, 3)\n"
     ]
    },
    {
     "name": "stderr",
     "output_type": "stream",
     "text": [
      "7436it [06:41, 16.08it/s]"
     ]
    },
    {
     "name": "stdout",
     "output_type": "stream",
     "text": [
      "(1, 450, 600, 3)\n",
      "(1, 450, 600, 3)\n",
      "(1, 450, 600, 3)\n",
      "(1, 450, 600, 3)\n"
     ]
    },
    {
     "name": "stderr",
     "output_type": "stream",
     "text": [
      "7440it [06:41, 16.15it/s]"
     ]
    },
    {
     "name": "stdout",
     "output_type": "stream",
     "text": [
      "(1, 450, 600, 3)\n",
      "(1, 450, 600, 3)\n",
      "(1, 450, 600, 3)\n",
      "(1, 450, 600, 3)\n"
     ]
    },
    {
     "name": "stderr",
     "output_type": "stream",
     "text": [
      "7444it [06:41, 15.80it/s]"
     ]
    },
    {
     "name": "stdout",
     "output_type": "stream",
     "text": [
      "(1, 450, 600, 3)\n",
      "(1, 450, 600, 3)\n",
      "(1, 450, 600, 3)\n",
      "(1, 450, 600, 3)\n"
     ]
    },
    {
     "name": "stderr",
     "output_type": "stream",
     "text": [
      "7448it [06:41, 15.93it/s]"
     ]
    },
    {
     "name": "stdout",
     "output_type": "stream",
     "text": [
      "(1, 450, 600, 3)\n",
      "(1, 450, 600, 3)\n",
      "(1, 450, 600, 3)\n",
      "(1, 450, 600, 3)\n"
     ]
    },
    {
     "name": "stderr",
     "output_type": "stream",
     "text": [
      "7452it [06:42, 14.50it/s]"
     ]
    },
    {
     "name": "stdout",
     "output_type": "stream",
     "text": [
      "(1, 450, 600, 3)\n",
      "(1, 450, 600, 3)\n",
      "(1, 450, 600, 3)\n"
     ]
    },
    {
     "name": "stderr",
     "output_type": "stream",
     "text": [
      "7456it [06:42, 15.11it/s]"
     ]
    },
    {
     "name": "stdout",
     "output_type": "stream",
     "text": [
      "(1, 450, 600, 3)\n",
      "(1, 450, 600, 3)\n",
      "(1, 450, 600, 3)\n",
      "(1, 450, 600, 3)\n"
     ]
    },
    {
     "name": "stderr",
     "output_type": "stream",
     "text": [
      "7460it [06:42, 15.96it/s]"
     ]
    },
    {
     "name": "stdout",
     "output_type": "stream",
     "text": [
      "(1, 450, 600, 3)\n",
      "(1, 450, 600, 3)\n",
      "(1, 450, 600, 3)\n",
      "(1, 450, 600, 3)\n"
     ]
    },
    {
     "name": "stderr",
     "output_type": "stream",
     "text": [
      "7464it [06:42, 15.82it/s]"
     ]
    },
    {
     "name": "stdout",
     "output_type": "stream",
     "text": [
      "(1, 450, 600, 3)\n",
      "(1, 450, 600, 3)\n",
      "(1, 450, 600, 3)\n",
      "(1, 450, 600, 3)\n"
     ]
    },
    {
     "name": "stderr",
     "output_type": "stream",
     "text": [
      "\r",
      "7466it [06:43, 16.01it/s]"
     ]
    },
    {
     "name": "stdout",
     "output_type": "stream",
     "text": [
      "(1, 450, 600, 3)\n",
      "(1, 450, 600, 3)\n",
      "(1, 450, 600, 3)\n",
      "(1, 450, 600, 3)\n"
     ]
    },
    {
     "name": "stderr",
     "output_type": "stream",
     "text": [
      "7470it [06:43, 15.99it/s]"
     ]
    },
    {
     "name": "stdout",
     "output_type": "stream",
     "text": [
      "(1, 450, 600, 3)\n",
      "(1, 450, 600, 3)\n",
      "(1, 450, 600, 3)\n",
      "(1, 450, 600, 3)\n"
     ]
    },
    {
     "name": "stderr",
     "output_type": "stream",
     "text": [
      "7476it [06:43, 16.31it/s]"
     ]
    },
    {
     "name": "stdout",
     "output_type": "stream",
     "text": [
      "(1, 450, 600, 3)\n",
      "(1, 450, 600, 3)\n",
      "(1, 450, 600, 3)\n",
      "(1, 450, 600, 3)\n"
     ]
    },
    {
     "name": "stderr",
     "output_type": "stream",
     "text": [
      "7480it [06:43, 16.24it/s]"
     ]
    },
    {
     "name": "stdout",
     "output_type": "stream",
     "text": [
      "(1, 450, 600, 3)\n",
      "(1, 450, 600, 3)\n",
      "(1, 450, 600, 3)\n",
      "(1, 450, 600, 3)\n"
     ]
    },
    {
     "name": "stderr",
     "output_type": "stream",
     "text": [
      "\r",
      "7482it [06:44, 16.08it/s]"
     ]
    },
    {
     "name": "stdout",
     "output_type": "stream",
     "text": [
      "(1, 450, 600, 3)\n",
      "(1, 450, 600, 3)\n",
      "(1, 450, 600, 3)\n",
      "(1, 450, 600, 3)\n"
     ]
    },
    {
     "name": "stderr",
     "output_type": "stream",
     "text": [
      "7486it [06:44, 15.88it/s]"
     ]
    },
    {
     "name": "stdout",
     "output_type": "stream",
     "text": [
      "(1, 450, 600, 3)\n",
      "(1, 450, 600, 3)\n",
      "(1, 450, 600, 3)\n",
      "(1, 450, 600, 3)\n"
     ]
    },
    {
     "name": "stderr",
     "output_type": "stream",
     "text": [
      "7492it [06:44, 16.25it/s]"
     ]
    },
    {
     "name": "stdout",
     "output_type": "stream",
     "text": [
      "(1, 450, 600, 3)\n",
      "(1, 450, 600, 3)\n",
      "(1, 450, 600, 3)\n",
      "(1, 450, 600, 3)\n"
     ]
    },
    {
     "name": "stderr",
     "output_type": "stream",
     "text": [
      "7496it [06:44, 16.09it/s]"
     ]
    },
    {
     "name": "stdout",
     "output_type": "stream",
     "text": [
      "(1, 450, 600, 3)\n",
      "(1, 450, 600, 3)\n",
      "(1, 450, 600, 3)\n",
      "(1, 450, 600, 3)\n"
     ]
    },
    {
     "name": "stderr",
     "output_type": "stream",
     "text": [
      "\r",
      "7498it [06:45, 16.21it/s]"
     ]
    },
    {
     "name": "stdout",
     "output_type": "stream",
     "text": [
      "(1, 450, 600, 3)\n",
      "(1, 450, 600, 3)\n",
      "(1, 450, 600, 3)\n",
      "(1, 450, 600, 3)\n"
     ]
    },
    {
     "name": "stderr",
     "output_type": "stream",
     "text": [
      "7504it [06:45, 16.32it/s]"
     ]
    },
    {
     "name": "stdout",
     "output_type": "stream",
     "text": [
      "(1, 450, 600, 3)\n",
      "(1, 450, 600, 3)\n",
      "(1, 450, 600, 3)\n",
      "(1, 450, 600, 3)\n"
     ]
    },
    {
     "name": "stderr",
     "output_type": "stream",
     "text": [
      "7508it [06:45, 15.86it/s]"
     ]
    },
    {
     "name": "stdout",
     "output_type": "stream",
     "text": [
      "(1, 450, 600, 3)\n",
      "(1, 450, 600, 3)\n",
      "(1, 450, 600, 3)\n",
      "(1, 450, 600, 3)\n"
     ]
    },
    {
     "name": "stderr",
     "output_type": "stream",
     "text": [
      "7512it [06:45, 16.10it/s]"
     ]
    },
    {
     "name": "stdout",
     "output_type": "stream",
     "text": [
      "(1, 450, 600, 3)\n",
      "(1, 450, 600, 3)\n",
      "(1, 450, 600, 3)\n",
      "(1, 450, 600, 3)\n"
     ]
    },
    {
     "name": "stderr",
     "output_type": "stream",
     "text": [
      "7516it [06:46, 15.90it/s]"
     ]
    },
    {
     "name": "stdout",
     "output_type": "stream",
     "text": [
      "(1, 450, 600, 3)\n",
      "(1, 450, 600, 3)\n",
      "(1, 450, 600, 3)\n",
      "(1, 450, 600, 3)\n"
     ]
    },
    {
     "name": "stderr",
     "output_type": "stream",
     "text": [
      "\r",
      "7518it [06:46, 16.09it/s]"
     ]
    },
    {
     "name": "stdout",
     "output_type": "stream",
     "text": [
      "(1, 450, 600, 3)\n",
      "(1, 450, 600, 3)\n",
      "(1, 450, 600, 3)\n",
      "(1, 450, 600, 3)\n"
     ]
    },
    {
     "name": "stderr",
     "output_type": "stream",
     "text": [
      "7522it [06:46, 15.60it/s]"
     ]
    },
    {
     "name": "stdout",
     "output_type": "stream",
     "text": [
      "(1, 450, 600, 3)\n",
      "(1, 450, 600, 3)\n",
      "(1, 450, 600, 3)\n"
     ]
    },
    {
     "name": "stderr",
     "output_type": "stream",
     "text": [
      "7526it [06:46, 14.35it/s]"
     ]
    },
    {
     "name": "stdout",
     "output_type": "stream",
     "text": [
      "(1, 450, 600, 3)\n",
      "(1, 450, 600, 3)\n",
      "(1, 450, 600, 3)\n"
     ]
    },
    {
     "name": "stderr",
     "output_type": "stream",
     "text": [
      "\r",
      "7528it [06:46, 14.63it/s]"
     ]
    },
    {
     "name": "stdout",
     "output_type": "stream",
     "text": [
      "(1, 450, 600, 3)\n",
      "(1, 450, 600, 3)\n",
      "(1, 450, 600, 3)\n",
      "(1, 450, 600, 3)\n"
     ]
    },
    {
     "name": "stderr",
     "output_type": "stream",
     "text": [
      "7534it [06:47, 15.88it/s]"
     ]
    },
    {
     "name": "stdout",
     "output_type": "stream",
     "text": [
      "(1, 450, 600, 3)\n",
      "(1, 450, 600, 3)\n",
      "(1, 450, 600, 3)\n",
      "(1, 450, 600, 3)\n"
     ]
    },
    {
     "name": "stderr",
     "output_type": "stream",
     "text": [
      "7538it [06:47, 15.95it/s]"
     ]
    },
    {
     "name": "stdout",
     "output_type": "stream",
     "text": [
      "(1, 450, 600, 3)\n",
      "(1, 450, 600, 3)\n",
      "(1, 450, 600, 3)\n",
      "(1, 450, 600, 3)\n"
     ]
    },
    {
     "name": "stderr",
     "output_type": "stream",
     "text": [
      "7542it [06:47, 16.07it/s]"
     ]
    },
    {
     "name": "stdout",
     "output_type": "stream",
     "text": [
      "(1, 450, 600, 3)\n",
      "(1, 450, 600, 3)\n",
      "(1, 450, 600, 3)\n",
      "(1, 450, 600, 3)\n"
     ]
    },
    {
     "name": "stderr",
     "output_type": "stream",
     "text": [
      "\r",
      "7544it [06:47, 16.18it/s]"
     ]
    },
    {
     "name": "stdout",
     "output_type": "stream",
     "text": [
      "(1, 450, 600, 3)\n",
      "(1, 450, 600, 3)\n",
      "(1, 450, 600, 3)\n",
      "(1, 450, 600, 3)\n"
     ]
    },
    {
     "name": "stderr",
     "output_type": "stream",
     "text": [
      "7548it [06:48, 15.77it/s]"
     ]
    },
    {
     "name": "stdout",
     "output_type": "stream",
     "text": [
      "(1, 450, 600, 3)\n",
      "(1, 450, 600, 3)\n",
      "(1, 450, 600, 3)\n",
      "(1, 450, 600, 3)\n"
     ]
    },
    {
     "name": "stderr",
     "output_type": "stream",
     "text": [
      "7552it [06:48, 15.48it/s]"
     ]
    },
    {
     "name": "stdout",
     "output_type": "stream",
     "text": [
      "(1, 450, 600, 3)\n",
      "(1, 450, 600, 3)\n",
      "(1, 450, 600, 3)\n",
      "(1, 450, 600, 3)\n"
     ]
    },
    {
     "name": "stderr",
     "output_type": "stream",
     "text": [
      "7558it [06:48, 15.95it/s]"
     ]
    },
    {
     "name": "stdout",
     "output_type": "stream",
     "text": [
      "(1, 450, 600, 3)\n",
      "(1, 450, 600, 3)\n",
      "(1, 450, 600, 3)\n",
      "(1, 450, 600, 3)\n"
     ]
    },
    {
     "name": "stderr",
     "output_type": "stream",
     "text": [
      "\r",
      "7560it [06:48, 16.13it/s]"
     ]
    },
    {
     "name": "stdout",
     "output_type": "stream",
     "text": [
      "(1, 450, 600, 3)\n",
      "(1, 450, 600, 3)\n",
      "(1, 450, 600, 3)\n",
      "(1, 450, 600, 3)\n"
     ]
    },
    {
     "name": "stderr",
     "output_type": "stream",
     "text": [
      "7564it [06:49, 15.99it/s]"
     ]
    },
    {
     "name": "stdout",
     "output_type": "stream",
     "text": [
      "(1, 450, 600, 3)\n",
      "(1, 450, 600, 3)\n",
      "(1, 450, 600, 3)\n"
     ]
    },
    {
     "name": "stderr",
     "output_type": "stream",
     "text": [
      "\r",
      "7566it [06:49, 15.74it/s]"
     ]
    },
    {
     "name": "stdout",
     "output_type": "stream",
     "text": [
      "(1, 450, 600, 3)\n",
      "(1, 450, 600, 3)\n",
      "(1, 450, 600, 3)\n"
     ]
    },
    {
     "name": "stderr",
     "output_type": "stream",
     "text": [
      "7572it [06:49, 16.08it/s]"
     ]
    },
    {
     "name": "stdout",
     "output_type": "stream",
     "text": [
      "(1, 450, 600, 3)\n",
      "(1, 450, 600, 3)\n",
      "(1, 450, 600, 3)\n",
      "(1, 450, 600, 3)\n"
     ]
    },
    {
     "name": "stderr",
     "output_type": "stream",
     "text": [
      "\r",
      "7574it [06:49, 16.24it/s]"
     ]
    },
    {
     "name": "stdout",
     "output_type": "stream",
     "text": [
      "(1, 450, 600, 3)\n",
      "(1, 450, 600, 3)\n",
      "(1, 450, 600, 3)\n",
      "(1, 450, 600, 3)\n"
     ]
    },
    {
     "name": "stderr",
     "output_type": "stream",
     "text": [
      "7578it [06:50, 15.61it/s]"
     ]
    },
    {
     "name": "stdout",
     "output_type": "stream",
     "text": [
      "(1, 450, 600, 3)\n",
      "(1, 450, 600, 3)\n"
     ]
    },
    {
     "name": "stderr",
     "output_type": "stream",
     "text": [
      "7582it [06:50, 15.88it/s]"
     ]
    },
    {
     "name": "stdout",
     "output_type": "stream",
     "text": [
      "(1, 450, 600, 3)\n",
      "(1, 450, 600, 3)\n",
      "(1, 450, 600, 3)\n",
      "(1, 450, 600, 3)\n"
     ]
    },
    {
     "name": "stderr",
     "output_type": "stream",
     "text": [
      "\r",
      "7584it [06:50, 15.15it/s]"
     ]
    },
    {
     "name": "stdout",
     "output_type": "stream",
     "text": [
      "(1, 450, 600, 3)\n",
      "(1, 450, 600, 3)\n",
      "(1, 450, 600, 3)\n",
      "(1, 450, 600, 3)\n"
     ]
    },
    {
     "name": "stderr",
     "output_type": "stream",
     "text": [
      "7590it [06:50, 15.93it/s]"
     ]
    },
    {
     "name": "stdout",
     "output_type": "stream",
     "text": [
      "(1, 450, 600, 3)\n",
      "(1, 450, 600, 3)\n",
      "(1, 450, 600, 3)\n",
      "(1, 450, 600, 3)\n"
     ]
    },
    {
     "name": "stderr",
     "output_type": "stream",
     "text": [
      "\r",
      "7592it [06:51, 15.90it/s]"
     ]
    },
    {
     "name": "stdout",
     "output_type": "stream",
     "text": [
      "(1, 450, 600, 3)\n",
      "(1, 450, 600, 3)\n",
      "(1, 450, 600, 3)\n",
      "(1, 450, 600, 3)\n"
     ]
    },
    {
     "name": "stderr",
     "output_type": "stream",
     "text": [
      "7596it [06:51, 14.90it/s]"
     ]
    },
    {
     "name": "stdout",
     "output_type": "stream",
     "text": [
      "(1, 450, 600, 3)\n",
      "(1, 450, 600, 3)\n",
      "(1, 450, 600, 3)\n"
     ]
    },
    {
     "name": "stderr",
     "output_type": "stream",
     "text": [
      "7600it [06:51, 14.59it/s]"
     ]
    },
    {
     "name": "stdout",
     "output_type": "stream",
     "text": [
      "(1, 450, 600, 3)\n",
      "(1, 450, 600, 3)\n",
      "(1, 450, 600, 3)\n",
      "(1, 450, 600, 3)\n"
     ]
    },
    {
     "name": "stderr",
     "output_type": "stream",
     "text": [
      "7604it [06:51, 15.45it/s]"
     ]
    },
    {
     "name": "stdout",
     "output_type": "stream",
     "text": [
      "(1, 450, 600, 3)\n",
      "(1, 450, 600, 3)\n",
      "(1, 450, 600, 3)\n",
      "(1, 450, 600, 3)\n"
     ]
    },
    {
     "name": "stderr",
     "output_type": "stream",
     "text": [
      "7608it [06:52, 15.98it/s]"
     ]
    },
    {
     "name": "stdout",
     "output_type": "stream",
     "text": [
      "(1, 450, 600, 3)\n",
      "(1, 450, 600, 3)\n",
      "(1, 450, 600, 3)\n",
      "(1, 450, 600, 3)\n"
     ]
    },
    {
     "name": "stderr",
     "output_type": "stream",
     "text": [
      "7612it [06:52, 16.04it/s]"
     ]
    },
    {
     "name": "stdout",
     "output_type": "stream",
     "text": [
      "(1, 450, 600, 3)\n",
      "(1, 450, 600, 3)\n",
      "(1, 450, 600, 3)\n",
      "(1, 450, 600, 3)\n"
     ]
    },
    {
     "name": "stderr",
     "output_type": "stream",
     "text": [
      "7616it [06:52, 15.43it/s]"
     ]
    },
    {
     "name": "stdout",
     "output_type": "stream",
     "text": [
      "(1, 450, 600, 3)\n",
      "(1, 450, 600, 3)\n",
      "(1, 450, 600, 3)\n",
      "(1, 450, 600, 3)\n"
     ]
    },
    {
     "name": "stderr",
     "output_type": "stream",
     "text": [
      "7620it [06:52, 16.16it/s]"
     ]
    },
    {
     "name": "stdout",
     "output_type": "stream",
     "text": [
      "(1, 450, 600, 3)\n",
      "(1, 450, 600, 3)\n",
      "(1, 450, 600, 3)\n",
      "(1, 450, 600, 3)\n"
     ]
    },
    {
     "name": "stderr",
     "output_type": "stream",
     "text": [
      "7624it [06:53, 16.39it/s]"
     ]
    },
    {
     "name": "stdout",
     "output_type": "stream",
     "text": [
      "(1, 450, 600, 3)\n",
      "(1, 450, 600, 3)\n",
      "(1, 450, 600, 3)\n",
      "(1, 450, 600, 3)\n"
     ]
    },
    {
     "name": "stderr",
     "output_type": "stream",
     "text": [
      "7628it [06:53, 16.24it/s]"
     ]
    },
    {
     "name": "stdout",
     "output_type": "stream",
     "text": [
      "(1, 450, 600, 3)\n",
      "(1, 450, 600, 3)\n",
      "(1, 450, 600, 3)\n",
      "(1, 450, 600, 3)\n"
     ]
    },
    {
     "name": "stderr",
     "output_type": "stream",
     "text": [
      "7632it [06:53, 15.93it/s]"
     ]
    },
    {
     "name": "stdout",
     "output_type": "stream",
     "text": [
      "(1, 450, 600, 3)\n",
      "(1, 450, 600, 3)\n",
      "(1, 450, 600, 3)\n",
      "(1, 450, 600, 3)\n"
     ]
    },
    {
     "name": "stderr",
     "output_type": "stream",
     "text": [
      "7636it [06:53, 16.13it/s]"
     ]
    },
    {
     "name": "stdout",
     "output_type": "stream",
     "text": [
      "(1, 450, 600, 3)\n",
      "(1, 450, 600, 3)\n",
      "(1, 450, 600, 3)\n",
      "(1, 450, 600, 3)\n"
     ]
    },
    {
     "name": "stderr",
     "output_type": "stream",
     "text": [
      "7640it [06:54, 16.26it/s]"
     ]
    },
    {
     "name": "stdout",
     "output_type": "stream",
     "text": [
      "(1, 450, 600, 3)\n",
      "(1, 450, 600, 3)\n",
      "(1, 450, 600, 3)\n",
      "(1, 450, 600, 3)\n"
     ]
    },
    {
     "name": "stderr",
     "output_type": "stream",
     "text": [
      "7644it [06:54, 16.45it/s]"
     ]
    },
    {
     "name": "stdout",
     "output_type": "stream",
     "text": [
      "(1, 450, 600, 3)\n",
      "(1, 450, 600, 3)\n",
      "(1, 450, 600, 3)\n",
      "(1, 450, 600, 3)\n"
     ]
    },
    {
     "name": "stderr",
     "output_type": "stream",
     "text": [
      "7648it [06:54, 16.22it/s]"
     ]
    },
    {
     "name": "stdout",
     "output_type": "stream",
     "text": [
      "(1, 450, 600, 3)\n",
      "(1, 450, 600, 3)\n",
      "(1, 450, 600, 3)\n",
      "(1, 450, 600, 3)\n"
     ]
    },
    {
     "name": "stderr",
     "output_type": "stream",
     "text": [
      "7652it [06:54, 15.69it/s]"
     ]
    },
    {
     "name": "stdout",
     "output_type": "stream",
     "text": [
      "(1, 450, 600, 3)\n",
      "(1, 450, 600, 3)\n",
      "(1, 450, 600, 3)\n",
      "(1, 450, 600, 3)\n"
     ]
    },
    {
     "name": "stderr",
     "output_type": "stream",
     "text": [
      "7656it [06:55, 15.88it/s]"
     ]
    },
    {
     "name": "stdout",
     "output_type": "stream",
     "text": [
      "(1, 450, 600, 3)\n",
      "(1, 450, 600, 3)\n",
      "(1, 450, 600, 3)\n"
     ]
    },
    {
     "name": "stderr",
     "output_type": "stream",
     "text": [
      "\r",
      "7658it [06:55, 15.84it/s]"
     ]
    },
    {
     "name": "stdout",
     "output_type": "stream",
     "text": [
      "(1, 450, 600, 3)\n",
      "(1, 450, 600, 3)\n",
      "(1, 450, 600, 3)\n",
      "(1, 450, 600, 3)\n"
     ]
    },
    {
     "name": "stderr",
     "output_type": "stream",
     "text": [
      "7662it [06:55, 15.72it/s]"
     ]
    },
    {
     "name": "stdout",
     "output_type": "stream",
     "text": [
      "(1, 450, 600, 3)\n",
      "(1, 450, 600, 3)\n",
      "(1, 450, 600, 3)\n",
      "(1, 450, 600, 3)\n"
     ]
    },
    {
     "name": "stderr",
     "output_type": "stream",
     "text": [
      "7666it [06:55, 15.77it/s]"
     ]
    },
    {
     "name": "stdout",
     "output_type": "stream",
     "text": [
      "(1, 450, 600, 3)\n",
      "(1, 450, 600, 3)\n",
      "(1, 450, 600, 3)\n"
     ]
    },
    {
     "name": "stderr",
     "output_type": "stream",
     "text": [
      "\r",
      "7668it [06:55, 15.24it/s]"
     ]
    },
    {
     "name": "stdout",
     "output_type": "stream",
     "text": [
      "(1, 450, 600, 3)\n",
      "(1, 450, 600, 3)\n",
      "(1, 450, 600, 3)\n"
     ]
    },
    {
     "name": "stderr",
     "output_type": "stream",
     "text": [
      "7672it [06:56, 14.49it/s]"
     ]
    },
    {
     "name": "stdout",
     "output_type": "stream",
     "text": [
      "(1, 450, 600, 3)\n",
      "(1, 450, 600, 3)\n",
      "(1, 450, 600, 3)\n",
      "(1, 450, 600, 3)\n"
     ]
    },
    {
     "name": "stderr",
     "output_type": "stream",
     "text": [
      "7678it [06:56, 15.75it/s]"
     ]
    },
    {
     "name": "stdout",
     "output_type": "stream",
     "text": [
      "(1, 450, 600, 3)\n",
      "(1, 450, 600, 3)\n",
      "(1, 450, 600, 3)\n",
      "(1, 450, 600, 3)\n"
     ]
    },
    {
     "name": "stderr",
     "output_type": "stream",
     "text": [
      "7682it [06:56, 15.89it/s]"
     ]
    },
    {
     "name": "stdout",
     "output_type": "stream",
     "text": [
      "(1, 450, 600, 3)\n",
      "(1, 450, 600, 3)\n",
      "(1, 450, 600, 3)\n",
      "(1, 450, 600, 3)\n"
     ]
    },
    {
     "name": "stderr",
     "output_type": "stream",
     "text": [
      "7686it [06:56, 16.54it/s]"
     ]
    },
    {
     "name": "stdout",
     "output_type": "stream",
     "text": [
      "(1, 450, 600, 3)\n",
      "(1, 450, 600, 3)\n",
      "(1, 450, 600, 3)\n",
      "(1, 450, 600, 3)\n"
     ]
    },
    {
     "name": "stderr",
     "output_type": "stream",
     "text": [
      "\r",
      "7688it [06:57, 15.80it/s]"
     ]
    },
    {
     "name": "stdout",
     "output_type": "stream",
     "text": [
      "(1, 450, 600, 3)\n",
      "(1, 450, 600, 3)\n",
      "(1, 450, 600, 3)\n",
      "(1, 450, 600, 3)\n"
     ]
    },
    {
     "name": "stderr",
     "output_type": "stream",
     "text": [
      "7694it [06:57, 15.99it/s]"
     ]
    },
    {
     "name": "stdout",
     "output_type": "stream",
     "text": [
      "(1, 450, 600, 3)\n",
      "(1, 450, 600, 3)\n",
      "(1, 450, 600, 3)\n",
      "(1, 450, 600, 3)\n"
     ]
    },
    {
     "name": "stderr",
     "output_type": "stream",
     "text": [
      "7698it [06:57, 16.06it/s]"
     ]
    },
    {
     "name": "stdout",
     "output_type": "stream",
     "text": [
      "(1, 450, 600, 3)\n",
      "(1, 450, 600, 3)\n",
      "(1, 450, 600, 3)\n",
      "(1, 450, 600, 3)\n"
     ]
    },
    {
     "name": "stderr",
     "output_type": "stream",
     "text": [
      "7702it [06:58, 16.06it/s]"
     ]
    },
    {
     "name": "stdout",
     "output_type": "stream",
     "text": [
      "(1, 450, 600, 3)\n",
      "(1, 450, 600, 3)\n",
      "(1, 450, 600, 3)\n",
      "(1, 450, 600, 3)\n"
     ]
    },
    {
     "name": "stderr",
     "output_type": "stream",
     "text": [
      "\r",
      "7704it [06:58, 16.37it/s]"
     ]
    },
    {
     "name": "stdout",
     "output_type": "stream",
     "text": [
      "(1, 450, 600, 3)\n",
      "(1, 450, 600, 3)\n",
      "(1, 450, 600, 3)\n",
      "(1, 450, 600, 3)\n"
     ]
    },
    {
     "name": "stderr",
     "output_type": "stream",
     "text": [
      "7708it [06:58, 16.00it/s]"
     ]
    },
    {
     "name": "stdout",
     "output_type": "stream",
     "text": [
      "(1, 450, 600, 3)\n",
      "(1, 450, 600, 3)\n",
      "(1, 450, 600, 3)\n",
      "(1, 450, 600, 3)\n"
     ]
    },
    {
     "name": "stderr",
     "output_type": "stream",
     "text": [
      "7712it [06:58, 15.82it/s]"
     ]
    },
    {
     "name": "stdout",
     "output_type": "stream",
     "text": [
      "(1, 450, 600, 3)\n",
      "(1, 450, 600, 3)\n",
      "(1, 450, 600, 3)\n",
      "(1, 450, 600, 3)\n"
     ]
    },
    {
     "name": "stderr",
     "output_type": "stream",
     "text": [
      "7718it [06:59, 16.27it/s]"
     ]
    },
    {
     "name": "stdout",
     "output_type": "stream",
     "text": [
      "(1, 450, 600, 3)\n",
      "(1, 450, 600, 3)\n",
      "(1, 450, 600, 3)\n",
      "(1, 450, 600, 3)\n"
     ]
    },
    {
     "name": "stderr",
     "output_type": "stream",
     "text": [
      "\r",
      "7720it [06:59, 16.14it/s]"
     ]
    },
    {
     "name": "stdout",
     "output_type": "stream",
     "text": [
      "(1, 450, 600, 3)\n",
      "(1, 450, 600, 3)\n",
      "(1, 450, 600, 3)\n",
      "(1, 450, 600, 3)\n"
     ]
    },
    {
     "name": "stderr",
     "output_type": "stream",
     "text": [
      "7724it [06:59, 15.99it/s]"
     ]
    },
    {
     "name": "stdout",
     "output_type": "stream",
     "text": [
      "(1, 450, 600, 3)\n",
      "(1, 450, 600, 3)\n",
      "(1, 450, 600, 3)\n",
      "(1, 450, 600, 3)\n"
     ]
    },
    {
     "name": "stderr",
     "output_type": "stream",
     "text": [
      "7730it [06:59, 16.14it/s]"
     ]
    },
    {
     "name": "stdout",
     "output_type": "stream",
     "text": [
      "(1, 450, 600, 3)\n",
      "(1, 450, 600, 3)\n",
      "(1, 450, 600, 3)\n",
      "(1, 450, 600, 3)\n"
     ]
    },
    {
     "name": "stderr",
     "output_type": "stream",
     "text": [
      "7734it [07:00, 16.18it/s]"
     ]
    },
    {
     "name": "stdout",
     "output_type": "stream",
     "text": [
      "(1, 450, 600, 3)\n",
      "(1, 450, 600, 3)\n",
      "(1, 450, 600, 3)\n",
      "(1, 450, 600, 3)\n"
     ]
    },
    {
     "name": "stderr",
     "output_type": "stream",
     "text": [
      "\r",
      "7736it [07:00, 15.90it/s]"
     ]
    },
    {
     "name": "stdout",
     "output_type": "stream",
     "text": [
      "(1, 450, 600, 3)\n",
      "(1, 450, 600, 3)\n",
      "(1, 450, 600, 3)\n",
      "(1, 450, 600, 3)\n"
     ]
    },
    {
     "name": "stderr",
     "output_type": "stream",
     "text": [
      "7740it [07:00, 16.03it/s]"
     ]
    },
    {
     "name": "stdout",
     "output_type": "stream",
     "text": [
      "(1, 450, 600, 3)\n",
      "(1, 450, 600, 3)\n",
      "(1, 450, 600, 3)\n"
     ]
    },
    {
     "name": "stderr",
     "output_type": "stream",
     "text": [
      "7744it [07:00, 14.76it/s]"
     ]
    },
    {
     "name": "stdout",
     "output_type": "stream",
     "text": [
      "(1, 450, 600, 3)\n",
      "(1, 450, 600, 3)\n",
      "(1, 450, 600, 3)\n"
     ]
    },
    {
     "name": "stderr",
     "output_type": "stream",
     "text": [
      "7748it [07:00, 15.25it/s]"
     ]
    },
    {
     "name": "stdout",
     "output_type": "stream",
     "text": [
      "(1, 450, 600, 3)\n",
      "(1, 450, 600, 3)\n",
      "(1, 450, 600, 3)\n",
      "(1, 450, 600, 3)\n"
     ]
    },
    {
     "name": "stderr",
     "output_type": "stream",
     "text": [
      "7752it [07:01, 15.79it/s]"
     ]
    },
    {
     "name": "stdout",
     "output_type": "stream",
     "text": [
      "(1, 450, 600, 3)\n",
      "(1, 450, 600, 3)\n",
      "(1, 450, 600, 3)\n",
      "(1, 450, 600, 3)\n"
     ]
    },
    {
     "name": "stderr",
     "output_type": "stream",
     "text": [
      "7756it [07:01, 15.87it/s]"
     ]
    },
    {
     "name": "stdout",
     "output_type": "stream",
     "text": [
      "(1, 450, 600, 3)\n",
      "(1, 450, 600, 3)\n",
      "(1, 450, 600, 3)\n",
      "(1, 450, 600, 3)\n"
     ]
    },
    {
     "name": "stderr",
     "output_type": "stream",
     "text": [
      "\r",
      "7758it [07:01, 16.07it/s]"
     ]
    },
    {
     "name": "stdout",
     "output_type": "stream",
     "text": [
      "(1, 450, 600, 3)\n",
      "(1, 450, 600, 3)\n",
      "(1, 450, 600, 3)\n",
      "(1, 450, 600, 3)\n"
     ]
    },
    {
     "name": "stderr",
     "output_type": "stream",
     "text": [
      "7762it [07:01, 16.15it/s]"
     ]
    },
    {
     "name": "stdout",
     "output_type": "stream",
     "text": [
      "(1, 450, 600, 3)\n",
      "(1, 450, 600, 3)\n",
      "(1, 450, 600, 3)\n"
     ]
    },
    {
     "name": "stderr",
     "output_type": "stream",
     "text": [
      "7766it [07:02, 16.31it/s]"
     ]
    },
    {
     "name": "stdout",
     "output_type": "stream",
     "text": [
      "(1, 450, 600, 3)\n",
      "(1, 450, 600, 3)\n",
      "(1, 450, 600, 3)\n",
      "(1, 450, 600, 3)\n"
     ]
    },
    {
     "name": "stderr",
     "output_type": "stream",
     "text": [
      "7770it [07:02, 15.51it/s]"
     ]
    },
    {
     "name": "stdout",
     "output_type": "stream",
     "text": [
      "(1, 450, 600, 3)\n",
      "(1, 450, 600, 3)\n",
      "(1, 450, 600, 3)\n",
      "(1, 450, 600, 3)\n"
     ]
    },
    {
     "name": "stderr",
     "output_type": "stream",
     "text": [
      "7774it [07:02, 15.44it/s]"
     ]
    },
    {
     "name": "stdout",
     "output_type": "stream",
     "text": [
      "(1, 450, 600, 3)\n",
      "(1, 450, 600, 3)\n",
      "(1, 450, 600, 3)\n",
      "(1, 450, 600, 3)\n"
     ]
    },
    {
     "name": "stderr",
     "output_type": "stream",
     "text": [
      "7778it [07:02, 15.74it/s]"
     ]
    },
    {
     "name": "stdout",
     "output_type": "stream",
     "text": [
      "(1, 450, 600, 3)\n",
      "(1, 450, 600, 3)\n",
      "(1, 450, 600, 3)\n"
     ]
    },
    {
     "name": "stderr",
     "output_type": "stream",
     "text": [
      "7782it [07:03, 16.23it/s]"
     ]
    },
    {
     "name": "stdout",
     "output_type": "stream",
     "text": [
      "(1, 450, 600, 3)\n",
      "(1, 450, 600, 3)\n",
      "(1, 450, 600, 3)\n",
      "(1, 450, 600, 3)\n"
     ]
    },
    {
     "name": "stderr",
     "output_type": "stream",
     "text": [
      "\r",
      "7784it [07:03, 15.96it/s]"
     ]
    },
    {
     "name": "stdout",
     "output_type": "stream",
     "text": [
      "(1, 450, 600, 3)\n",
      "(1, 450, 600, 3)\n",
      "(1, 450, 600, 3)\n"
     ]
    },
    {
     "name": "stderr",
     "output_type": "stream",
     "text": [
      "7788it [07:03, 15.89it/s]"
     ]
    },
    {
     "name": "stdout",
     "output_type": "stream",
     "text": [
      "(1, 450, 600, 3)\n",
      "(1, 450, 600, 3)\n",
      "(1, 450, 600, 3)\n",
      "(1, 450, 600, 3)\n"
     ]
    },
    {
     "name": "stderr",
     "output_type": "stream",
     "text": [
      "7792it [07:03, 16.23it/s]"
     ]
    },
    {
     "name": "stdout",
     "output_type": "stream",
     "text": [
      "(1, 450, 600, 3)\n",
      "(1, 450, 600, 3)\n",
      "(1, 450, 600, 3)\n",
      "(1, 450, 600, 3)\n"
     ]
    },
    {
     "name": "stderr",
     "output_type": "stream",
     "text": [
      "7796it [07:03, 16.34it/s]"
     ]
    },
    {
     "name": "stdout",
     "output_type": "stream",
     "text": [
      "(1, 450, 600, 3)\n",
      "(1, 450, 600, 3)\n",
      "(1, 450, 600, 3)\n",
      "(1, 450, 600, 3)\n"
     ]
    },
    {
     "name": "stderr",
     "output_type": "stream",
     "text": [
      "7800it [07:04, 15.83it/s]"
     ]
    },
    {
     "name": "stdout",
     "output_type": "stream",
     "text": [
      "(1, 450, 600, 3)\n",
      "(1, 450, 600, 3)\n",
      "(1, 450, 600, 3)\n",
      "(1, 450, 600, 3)\n"
     ]
    },
    {
     "name": "stderr",
     "output_type": "stream",
     "text": [
      "\r",
      "7802it [07:04, 15.61it/s]"
     ]
    },
    {
     "name": "stdout",
     "output_type": "stream",
     "text": [
      "(1, 450, 600, 3)\n",
      "(1, 450, 600, 3)\n",
      "(1, 450, 600, 3)\n"
     ]
    },
    {
     "name": "stderr",
     "output_type": "stream",
     "text": [
      "7808it [07:04, 16.02it/s]"
     ]
    },
    {
     "name": "stdout",
     "output_type": "stream",
     "text": [
      "(1, 450, 600, 3)\n",
      "(1, 450, 600, 3)\n",
      "(1, 450, 600, 3)\n",
      "(1, 450, 600, 3)\n"
     ]
    },
    {
     "name": "stderr",
     "output_type": "stream",
     "text": [
      "7812it [07:04, 16.02it/s]"
     ]
    },
    {
     "name": "stdout",
     "output_type": "stream",
     "text": [
      "(1, 450, 600, 3)\n",
      "(1, 450, 600, 3)\n",
      "(1, 450, 600, 3)\n",
      "(1, 450, 600, 3)\n"
     ]
    },
    {
     "name": "stderr",
     "output_type": "stream",
     "text": [
      "\r",
      "7814it [07:05, 15.44it/s]"
     ]
    },
    {
     "name": "stdout",
     "output_type": "stream",
     "text": [
      "(1, 450, 600, 3)\n",
      "(1, 450, 600, 3)\n",
      "(1, 450, 600, 3)\n"
     ]
    },
    {
     "name": "stderr",
     "output_type": "stream",
     "text": [
      "7818it [07:05, 14.51it/s]"
     ]
    },
    {
     "name": "stdout",
     "output_type": "stream",
     "text": [
      "(1, 450, 600, 3)\n",
      "(1, 450, 600, 3)\n",
      "(1, 450, 600, 3)\n",
      "(1, 450, 600, 3)\n"
     ]
    },
    {
     "name": "stderr",
     "output_type": "stream",
     "text": [
      "7822it [07:05, 15.29it/s]"
     ]
    },
    {
     "name": "stdout",
     "output_type": "stream",
     "text": [
      "(1, 450, 600, 3)\n",
      "(1, 450, 600, 3)\n",
      "(1, 450, 600, 3)\n",
      "(1, 450, 600, 3)\n"
     ]
    },
    {
     "name": "stderr",
     "output_type": "stream",
     "text": [
      "7826it [07:05, 15.70it/s]"
     ]
    },
    {
     "name": "stdout",
     "output_type": "stream",
     "text": [
      "(1, 450, 600, 3)\n",
      "(1, 450, 600, 3)\n",
      "(1, 450, 600, 3)\n"
     ]
    },
    {
     "name": "stderr",
     "output_type": "stream",
     "text": [
      "\r",
      "7828it [07:06, 15.94it/s]"
     ]
    },
    {
     "name": "stdout",
     "output_type": "stream",
     "text": [
      "(1, 450, 600, 3)\n",
      "(1, 450, 600, 3)\n",
      "(1, 450, 600, 3)\n",
      "(1, 450, 600, 3)\n"
     ]
    },
    {
     "name": "stderr",
     "output_type": "stream",
     "text": [
      "7832it [07:06, 15.89it/s]"
     ]
    },
    {
     "name": "stdout",
     "output_type": "stream",
     "text": [
      "(1, 450, 600, 3)\n",
      "(1, 450, 600, 3)\n",
      "(1, 450, 600, 3)\n",
      "(1, 450, 600, 3)\n"
     ]
    },
    {
     "name": "stderr",
     "output_type": "stream",
     "text": [
      "7838it [07:06, 15.68it/s]"
     ]
    },
    {
     "name": "stdout",
     "output_type": "stream",
     "text": [
      "(1, 450, 600, 3)\n",
      "(1, 450, 600, 3)\n",
      "(1, 450, 600, 3)\n",
      "(1, 450, 600, 3)\n"
     ]
    },
    {
     "name": "stderr",
     "output_type": "stream",
     "text": [
      "7842it [07:06, 16.35it/s]"
     ]
    },
    {
     "name": "stdout",
     "output_type": "stream",
     "text": [
      "(1, 450, 600, 3)\n",
      "(1, 450, 600, 3)\n",
      "(1, 450, 600, 3)\n",
      "(1, 450, 600, 3)\n"
     ]
    },
    {
     "name": "stderr",
     "output_type": "stream",
     "text": [
      "\r",
      "7844it [07:07, 16.39it/s]"
     ]
    },
    {
     "name": "stdout",
     "output_type": "stream",
     "text": [
      "(1, 450, 600, 3)\n",
      "(1, 450, 600, 3)\n",
      "(1, 450, 600, 3)\n",
      "(1, 450, 600, 3)\n"
     ]
    },
    {
     "name": "stderr",
     "output_type": "stream",
     "text": [
      "7850it [07:07, 16.03it/s]"
     ]
    },
    {
     "name": "stdout",
     "output_type": "stream",
     "text": [
      "(1, 450, 600, 3)\n",
      "(1, 450, 600, 3)\n",
      "(1, 450, 600, 3)\n",
      "(1, 450, 600, 3)\n"
     ]
    },
    {
     "name": "stderr",
     "output_type": "stream",
     "text": [
      "\r",
      "7852it [07:07, 15.66it/s]"
     ]
    },
    {
     "name": "stdout",
     "output_type": "stream",
     "text": [
      "(1, 450, 600, 3)\n",
      "(1, 450, 600, 3)\n",
      "(1, 450, 600, 3)\n",
      "(1, 450, 600, 3)\n"
     ]
    },
    {
     "name": "stderr",
     "output_type": "stream",
     "text": [
      "7856it [07:07, 15.75it/s]"
     ]
    },
    {
     "name": "stdout",
     "output_type": "stream",
     "text": [
      "(1, 450, 600, 3)\n",
      "(1, 450, 600, 3)\n",
      "(1, 450, 600, 3)\n",
      "(1, 450, 600, 3)\n"
     ]
    },
    {
     "name": "stderr",
     "output_type": "stream",
     "text": [
      "7862it [07:08, 16.00it/s]"
     ]
    },
    {
     "name": "stdout",
     "output_type": "stream",
     "text": [
      "(1, 450, 600, 3)\n",
      "(1, 450, 600, 3)\n",
      "(1, 450, 600, 3)\n",
      "(1, 450, 600, 3)\n"
     ]
    },
    {
     "name": "stderr",
     "output_type": "stream",
     "text": [
      "7866it [07:08, 15.99it/s]"
     ]
    },
    {
     "name": "stdout",
     "output_type": "stream",
     "text": [
      "(1, 450, 600, 3)\n",
      "(1, 450, 600, 3)\n",
      "(1, 450, 600, 3)\n",
      "(1, 450, 600, 3)\n"
     ]
    },
    {
     "name": "stderr",
     "output_type": "stream",
     "text": [
      "\r",
      "7868it [07:08, 15.97it/s]"
     ]
    },
    {
     "name": "stdout",
     "output_type": "stream",
     "text": [
      "(1, 450, 600, 3)\n",
      "(1, 450, 600, 3)\n",
      "(1, 450, 600, 3)\n",
      "(1, 450, 600, 3)\n"
     ]
    },
    {
     "name": "stderr",
     "output_type": "stream",
     "text": [
      "7874it [07:08, 15.72it/s]"
     ]
    },
    {
     "name": "stdout",
     "output_type": "stream",
     "text": [
      "(1, 450, 600, 3)\n",
      "(1, 450, 600, 3)\n",
      "(1, 450, 600, 3)\n",
      "(1, 450, 600, 3)\n"
     ]
    },
    {
     "name": "stderr",
     "output_type": "stream",
     "text": [
      "\r",
      "7876it [07:09, 15.61it/s]"
     ]
    },
    {
     "name": "stdout",
     "output_type": "stream",
     "text": [
      "(1, 450, 600, 3)\n",
      "(1, 450, 600, 3)\n",
      "(1, 450, 600, 3)\n",
      "(1, 450, 600, 3)\n"
     ]
    },
    {
     "name": "stderr",
     "output_type": "stream",
     "text": [
      "7882it [07:09, 15.66it/s]"
     ]
    },
    {
     "name": "stdout",
     "output_type": "stream",
     "text": [
      "(1, 450, 600, 3)\n",
      "(1, 450, 600, 3)\n",
      "(1, 450, 600, 3)\n",
      "(1, 450, 600, 3)\n"
     ]
    },
    {
     "name": "stderr",
     "output_type": "stream",
     "text": [
      "\r",
      "7884it [07:09, 15.75it/s]"
     ]
    },
    {
     "name": "stdout",
     "output_type": "stream",
     "text": [
      "(1, 450, 600, 3)\n",
      "(1, 450, 600, 3)\n",
      "(1, 450, 600, 3)\n"
     ]
    },
    {
     "name": "stderr",
     "output_type": "stream",
     "text": [
      "7888it [07:09, 14.16it/s]"
     ]
    },
    {
     "name": "stdout",
     "output_type": "stream",
     "text": [
      "(1, 450, 600, 3)\n",
      "(1, 450, 600, 3)\n",
      "(1, 450, 600, 3)\n"
     ]
    },
    {
     "name": "stderr",
     "output_type": "stream",
     "text": [
      "\r",
      "7890it [07:10, 14.61it/s]"
     ]
    },
    {
     "name": "stdout",
     "output_type": "stream",
     "text": [
      "(1, 450, 600, 3)\n",
      "(1, 450, 600, 3)\n",
      "(1, 450, 600, 3)\n",
      "(1, 450, 600, 3)\n"
     ]
    },
    {
     "name": "stderr",
     "output_type": "stream",
     "text": [
      "7894it [07:10, 14.89it/s]"
     ]
    },
    {
     "name": "stdout",
     "output_type": "stream",
     "text": [
      "(1, 450, 600, 3)\n",
      "(1, 450, 600, 3)\n",
      "(1, 450, 600, 3)\n",
      "(1, 450, 600, 3)\n"
     ]
    },
    {
     "name": "stderr",
     "output_type": "stream",
     "text": [
      "7898it [07:10, 15.77it/s]"
     ]
    },
    {
     "name": "stdout",
     "output_type": "stream",
     "text": [
      "(1, 450, 600, 3)\n",
      "(1, 450, 600, 3)\n",
      "(1, 450, 600, 3)\n",
      "(1, 450, 600, 3)\n"
     ]
    },
    {
     "name": "stderr",
     "output_type": "stream",
     "text": [
      "7904it [07:10, 16.09it/s]"
     ]
    },
    {
     "name": "stdout",
     "output_type": "stream",
     "text": [
      "(1, 450, 600, 3)\n",
      "(1, 450, 600, 3)\n",
      "(1, 450, 600, 3)\n",
      "(1, 450, 600, 3)\n"
     ]
    },
    {
     "name": "stderr",
     "output_type": "stream",
     "text": [
      "\r",
      "7906it [07:11, 16.06it/s]"
     ]
    },
    {
     "name": "stdout",
     "output_type": "stream",
     "text": [
      "(1, 450, 600, 3)\n",
      "(1, 450, 600, 3)\n",
      "(1, 450, 600, 3)\n",
      "(1, 450, 600, 3)\n"
     ]
    },
    {
     "name": "stderr",
     "output_type": "stream",
     "text": [
      "7910it [07:11, 15.72it/s]"
     ]
    },
    {
     "name": "stdout",
     "output_type": "stream",
     "text": [
      "(1, 450, 600, 3)\n",
      "(1, 450, 600, 3)\n",
      "(1, 450, 600, 3)\n",
      "(1, 450, 600, 3)\n"
     ]
    },
    {
     "name": "stderr",
     "output_type": "stream",
     "text": [
      "7914it [07:11, 15.85it/s]"
     ]
    },
    {
     "name": "stdout",
     "output_type": "stream",
     "text": [
      "(1, 450, 600, 3)\n",
      "(1, 450, 600, 3)\n",
      "(1, 450, 600, 3)\n"
     ]
    },
    {
     "name": "stderr",
     "output_type": "stream",
     "text": [
      "\r",
      "7916it [07:11, 15.47it/s]"
     ]
    },
    {
     "name": "stdout",
     "output_type": "stream",
     "text": [
      "(1, 450, 600, 3)\n",
      "(1, 450, 600, 3)\n",
      "(1, 450, 600, 3)\n"
     ]
    },
    {
     "name": "stderr",
     "output_type": "stream",
     "text": [
      "7920it [07:11, 16.00it/s]"
     ]
    },
    {
     "name": "stdout",
     "output_type": "stream",
     "text": [
      "(1, 450, 600, 3)\n",
      "(1, 450, 600, 3)\n",
      "(1, 450, 600, 3)\n"
     ]
    },
    {
     "name": "stderr",
     "output_type": "stream",
     "text": [
      "7924it [07:12, 15.75it/s]"
     ]
    },
    {
     "name": "stdout",
     "output_type": "stream",
     "text": [
      "(1, 450, 600, 3)\n",
      "(1, 450, 600, 3)\n",
      "(1, 450, 600, 3)\n"
     ]
    },
    {
     "name": "stderr",
     "output_type": "stream",
     "text": [
      "7928it [07:12, 15.84it/s]"
     ]
    },
    {
     "name": "stdout",
     "output_type": "stream",
     "text": [
      "(1, 450, 600, 3)\n",
      "(1, 450, 600, 3)\n",
      "(1, 450, 600, 3)\n",
      "(1, 450, 600, 3)\n"
     ]
    },
    {
     "name": "stderr",
     "output_type": "stream",
     "text": [
      "7932it [07:12, 15.72it/s]"
     ]
    },
    {
     "name": "stdout",
     "output_type": "stream",
     "text": [
      "(1, 450, 600, 3)\n",
      "(1, 450, 600, 3)\n",
      "(1, 450, 600, 3)\n",
      "(1, 450, 600, 3)\n"
     ]
    },
    {
     "name": "stderr",
     "output_type": "stream",
     "text": [
      "\r",
      "7934it [07:12, 15.92it/s]"
     ]
    },
    {
     "name": "stdout",
     "output_type": "stream",
     "text": [
      "(1, 450, 600, 3)\n",
      "(1, 450, 600, 3)\n",
      "(1, 450, 600, 3)\n",
      "(1, 450, 600, 3)\n"
     ]
    },
    {
     "name": "stderr",
     "output_type": "stream",
     "text": [
      "7938it [07:13, 15.56it/s]"
     ]
    },
    {
     "name": "stdout",
     "output_type": "stream",
     "text": [
      "(1, 450, 600, 3)\n",
      "(1, 450, 600, 3)\n",
      "(1, 450, 600, 3)\n",
      "(1, 450, 600, 3)\n"
     ]
    },
    {
     "name": "stderr",
     "output_type": "stream",
     "text": [
      "7942it [07:13, 15.43it/s]"
     ]
    },
    {
     "name": "stdout",
     "output_type": "stream",
     "text": [
      "(1, 450, 600, 3)\n",
      "(1, 450, 600, 3)\n",
      "(1, 450, 600, 3)\n",
      "(1, 450, 600, 3)\n"
     ]
    },
    {
     "name": "stderr",
     "output_type": "stream",
     "text": [
      "7948it [07:13, 16.15it/s]"
     ]
    },
    {
     "name": "stdout",
     "output_type": "stream",
     "text": [
      "(1, 450, 600, 3)\n",
      "(1, 450, 600, 3)\n",
      "(1, 450, 600, 3)\n",
      "(1, 450, 600, 3)\n"
     ]
    },
    {
     "name": "stderr",
     "output_type": "stream",
     "text": [
      "7952it [07:13, 15.81it/s]"
     ]
    },
    {
     "name": "stdout",
     "output_type": "stream",
     "text": [
      "(1, 450, 600, 3)\n",
      "(1, 450, 600, 3)\n",
      "(1, 450, 600, 3)\n",
      "(1, 450, 600, 3)\n"
     ]
    },
    {
     "name": "stderr",
     "output_type": "stream",
     "text": [
      "\r",
      "7954it [07:14, 16.23it/s]"
     ]
    },
    {
     "name": "stdout",
     "output_type": "stream",
     "text": [
      "(1, 450, 600, 3)\n",
      "(1, 450, 600, 3)\n",
      "(1, 450, 600, 3)\n"
     ]
    },
    {
     "name": "stderr",
     "output_type": "stream",
     "text": [
      "7958it [07:14, 14.45it/s]"
     ]
    },
    {
     "name": "stdout",
     "output_type": "stream",
     "text": [
      "(1, 450, 600, 3)\n",
      "(1, 450, 600, 3)\n",
      "(1, 450, 600, 3)\n"
     ]
    },
    {
     "name": "stderr",
     "output_type": "stream",
     "text": [
      "\r",
      "7960it [07:14, 13.61it/s]"
     ]
    },
    {
     "name": "stdout",
     "output_type": "stream",
     "text": [
      "(1, 450, 600, 3)\n",
      "(1, 450, 600, 3)\n",
      "(1, 450, 600, 3)\n"
     ]
    },
    {
     "name": "stderr",
     "output_type": "stream",
     "text": [
      "7964it [07:14, 14.61it/s]"
     ]
    },
    {
     "name": "stdout",
     "output_type": "stream",
     "text": [
      "(1, 450, 600, 3)\n",
      "(1, 450, 600, 3)\n",
      "(1, 450, 600, 3)\n",
      "(1, 450, 600, 3)\n"
     ]
    },
    {
     "name": "stderr",
     "output_type": "stream",
     "text": [
      "7968it [07:15, 15.25it/s]"
     ]
    },
    {
     "name": "stdout",
     "output_type": "stream",
     "text": [
      "(1, 450, 600, 3)\n",
      "(1, 450, 600, 3)\n",
      "(1, 450, 600, 3)\n",
      "(1, 450, 600, 3)\n"
     ]
    },
    {
     "name": "stderr",
     "output_type": "stream",
     "text": [
      "7972it [07:15, 15.02it/s]"
     ]
    },
    {
     "name": "stdout",
     "output_type": "stream",
     "text": [
      "(1, 450, 600, 3)\n",
      "(1, 450, 600, 3)\n",
      "(1, 450, 600, 3)\n"
     ]
    },
    {
     "name": "stderr",
     "output_type": "stream",
     "text": [
      "\r",
      "7974it [07:15, 15.37it/s]"
     ]
    },
    {
     "name": "stdout",
     "output_type": "stream",
     "text": [
      "(1, 450, 600, 3)\n",
      "(1, 450, 600, 3)\n",
      "(1, 450, 600, 3)\n",
      "(1, 450, 600, 3)\n"
     ]
    },
    {
     "name": "stderr",
     "output_type": "stream",
     "text": [
      "7978it [07:15, 15.52it/s]"
     ]
    },
    {
     "name": "stdout",
     "output_type": "stream",
     "text": [
      "(1, 450, 600, 3)\n",
      "(1, 450, 600, 3)\n",
      "(1, 450, 600, 3)\n",
      "(1, 450, 600, 3)\n"
     ]
    },
    {
     "name": "stderr",
     "output_type": "stream",
     "text": [
      "7982it [07:15, 15.54it/s]"
     ]
    },
    {
     "name": "stdout",
     "output_type": "stream",
     "text": [
      "(1, 450, 600, 3)\n",
      "(1, 450, 600, 3)\n",
      "(1, 450, 600, 3)\n"
     ]
    },
    {
     "name": "stderr",
     "output_type": "stream",
     "text": [
      "7986it [07:16, 15.51it/s]"
     ]
    },
    {
     "name": "stdout",
     "output_type": "stream",
     "text": [
      "(1, 450, 600, 3)\n",
      "(1, 450, 600, 3)\n",
      "(1, 450, 600, 3)\n",
      "(1, 450, 600, 3)\n"
     ]
    },
    {
     "name": "stderr",
     "output_type": "stream",
     "text": [
      "\r",
      "7988it [07:16, 15.42it/s]"
     ]
    },
    {
     "name": "stdout",
     "output_type": "stream",
     "text": [
      "(1, 450, 600, 3)\n",
      "(1, 450, 600, 3)\n",
      "(1, 450, 600, 3)\n"
     ]
    },
    {
     "name": "stderr",
     "output_type": "stream",
     "text": [
      "7994it [07:16, 15.53it/s]"
     ]
    },
    {
     "name": "stdout",
     "output_type": "stream",
     "text": [
      "(1, 450, 600, 3)\n",
      "(1, 450, 600, 3)\n",
      "(1, 450, 600, 3)\n",
      "(1, 450, 600, 3)\n"
     ]
    },
    {
     "name": "stderr",
     "output_type": "stream",
     "text": [
      "\r",
      "7996it [07:16, 15.31it/s]"
     ]
    },
    {
     "name": "stdout",
     "output_type": "stream",
     "text": [
      "(1, 450, 600, 3)\n",
      "(1, 450, 600, 3)\n",
      "(1, 450, 600, 3)\n",
      "(1, 450, 600, 3)\n"
     ]
    },
    {
     "name": "stderr",
     "output_type": "stream",
     "text": [
      "8000it [07:17, 15.20it/s]"
     ]
    },
    {
     "name": "stdout",
     "output_type": "stream",
     "text": [
      "(1, 450, 600, 3)\n",
      "(1, 450, 600, 3)\n",
      "(1, 450, 600, 3)\n"
     ]
    },
    {
     "name": "stderr",
     "output_type": "stream",
     "text": [
      "8004it [07:17, 15.52it/s]"
     ]
    },
    {
     "name": "stdout",
     "output_type": "stream",
     "text": [
      "(1, 450, 600, 3)\n",
      "(1, 450, 600, 3)\n",
      "(1, 450, 600, 3)\n",
      "(1, 450, 600, 3)\n"
     ]
    },
    {
     "name": "stderr",
     "output_type": "stream",
     "text": [
      "8008it [07:17, 15.80it/s]"
     ]
    },
    {
     "name": "stdout",
     "output_type": "stream",
     "text": [
      "(1, 450, 600, 3)\n",
      "(1, 450, 600, 3)\n",
      "(1, 450, 600, 3)\n"
     ]
    },
    {
     "name": "stderr",
     "output_type": "stream",
     "text": [
      "\r",
      "8010it [07:17, 15.80it/s]"
     ]
    },
    {
     "name": "stdout",
     "output_type": "stream",
     "text": [
      "(1, 450, 600, 3)\n",
      "(1, 450, 600, 3)\n",
      "(1, 450, 600, 3)\n",
      "(1, 450, 600, 3)\n"
     ]
    },
    {
     "name": "stderr",
     "output_type": "stream",
     "text": [
      "8014it [07:18, 15.10it/s]"
     ]
    },
    {
     "name": "stdout",
     "output_type": "stream",
     "text": [
      "(1, 450, 600, 3)\n",
      "(1, 450, 600, 3)\n",
      "(1, 450, 600, 3)\n"
     ]
    },
    {
     "name": "stderr",
     "output_type": "stream",
     "text": [
      "8018it [07:18, 15.59it/s]"
     ]
    },
    {
     "name": "stdout",
     "output_type": "stream",
     "text": [
      "(1, 450, 600, 3)\n",
      "(1, 450, 600, 3)\n",
      "(1, 450, 600, 3)\n",
      "(1, 450, 600, 3)\n"
     ]
    },
    {
     "name": "stderr",
     "output_type": "stream",
     "text": [
      "8022it [07:18, 15.21it/s]"
     ]
    },
    {
     "name": "stdout",
     "output_type": "stream",
     "text": [
      "(1, 450, 600, 3)\n",
      "(1, 450, 600, 3)\n",
      "(1, 450, 600, 3)\n",
      "(1, 450, 600, 3)\n"
     ]
    },
    {
     "name": "stderr",
     "output_type": "stream",
     "text": [
      "8026it [07:18, 15.63it/s]"
     ]
    },
    {
     "name": "stdout",
     "output_type": "stream",
     "text": [
      "(1, 450, 600, 3)\n",
      "(1, 450, 600, 3)\n",
      "(1, 450, 600, 3)\n",
      "(1, 450, 600, 3)\n"
     ]
    },
    {
     "name": "stderr",
     "output_type": "stream",
     "text": [
      "\r",
      "8028it [07:18, 14.63it/s]"
     ]
    },
    {
     "name": "stdout",
     "output_type": "stream",
     "text": [
      "(1, 450, 600, 3)\n",
      "(1, 450, 600, 3)\n"
     ]
    },
    {
     "name": "stderr",
     "output_type": "stream",
     "text": [
      "8032it [07:19, 14.72it/s]"
     ]
    },
    {
     "name": "stdout",
     "output_type": "stream",
     "text": [
      "(1, 450, 600, 3)\n",
      "(1, 450, 600, 3)\n",
      "(1, 450, 600, 3)\n",
      "(1, 450, 600, 3)\n"
     ]
    },
    {
     "name": "stderr",
     "output_type": "stream",
     "text": [
      "8036it [07:19, 14.93it/s]"
     ]
    },
    {
     "name": "stdout",
     "output_type": "stream",
     "text": [
      "(1, 450, 600, 3)\n",
      "(1, 450, 600, 3)\n",
      "(1, 450, 600, 3)\n",
      "(1, 450, 600, 3)\n"
     ]
    },
    {
     "name": "stderr",
     "output_type": "stream",
     "text": [
      "8040it [07:19, 15.22it/s]"
     ]
    },
    {
     "name": "stdout",
     "output_type": "stream",
     "text": [
      "(1, 450, 600, 3)\n",
      "(1, 450, 600, 3)\n",
      "(1, 450, 600, 3)\n",
      "(1, 450, 600, 3)\n"
     ]
    },
    {
     "name": "stderr",
     "output_type": "stream",
     "text": [
      "8044it [07:19, 15.76it/s]"
     ]
    },
    {
     "name": "stdout",
     "output_type": "stream",
     "text": [
      "(1, 450, 600, 3)\n",
      "(1, 450, 600, 3)\n",
      "(1, 450, 600, 3)\n",
      "(1, 450, 600, 3)\n"
     ]
    },
    {
     "name": "stderr",
     "output_type": "stream",
     "text": [
      "8048it [07:20, 15.83it/s]"
     ]
    },
    {
     "name": "stdout",
     "output_type": "stream",
     "text": [
      "(1, 450, 600, 3)\n",
      "(1, 450, 600, 3)\n",
      "(1, 450, 600, 3)\n",
      "(1, 450, 600, 3)\n"
     ]
    },
    {
     "name": "stderr",
     "output_type": "stream",
     "text": [
      "8052it [07:20, 15.03it/s]"
     ]
    },
    {
     "name": "stdout",
     "output_type": "stream",
     "text": [
      "(1, 450, 600, 3)\n",
      "(1, 450, 600, 3)\n",
      "(1, 450, 600, 3)\n",
      "(1, 450, 600, 3)\n"
     ]
    },
    {
     "name": "stderr",
     "output_type": "stream",
     "text": [
      "8056it [07:20, 15.68it/s]"
     ]
    },
    {
     "name": "stdout",
     "output_type": "stream",
     "text": [
      "(1, 450, 600, 3)\n",
      "(1, 450, 600, 3)\n",
      "(1, 450, 600, 3)\n",
      "(1, 450, 600, 3)\n"
     ]
    },
    {
     "name": "stderr",
     "output_type": "stream",
     "text": [
      "8060it [07:21, 15.50it/s]"
     ]
    },
    {
     "name": "stdout",
     "output_type": "stream",
     "text": [
      "(1, 450, 600, 3)\n",
      "(1, 450, 600, 3)\n",
      "(1, 450, 600, 3)\n",
      "(1, 450, 600, 3)\n"
     ]
    },
    {
     "name": "stderr",
     "output_type": "stream",
     "text": [
      "8064it [07:21, 15.83it/s]"
     ]
    },
    {
     "name": "stdout",
     "output_type": "stream",
     "text": [
      "(1, 450, 600, 3)\n",
      "(1, 450, 600, 3)\n",
      "(1, 450, 600, 3)\n",
      "(1, 450, 600, 3)\n"
     ]
    },
    {
     "name": "stderr",
     "output_type": "stream",
     "text": [
      "\r",
      "8066it [07:21, 15.67it/s]"
     ]
    },
    {
     "name": "stdout",
     "output_type": "stream",
     "text": [
      "(1, 450, 600, 3)\n",
      "(1, 450, 600, 3)\n",
      "(1, 450, 600, 3)\n"
     ]
    },
    {
     "name": "stderr",
     "output_type": "stream",
     "text": [
      "8070it [07:21, 15.82it/s]"
     ]
    },
    {
     "name": "stdout",
     "output_type": "stream",
     "text": [
      "(1, 450, 600, 3)\n",
      "(1, 450, 600, 3)\n",
      "(1, 450, 600, 3)\n",
      "(1, 450, 600, 3)\n"
     ]
    },
    {
     "name": "stderr",
     "output_type": "stream",
     "text": [
      "8074it [07:21, 15.46it/s]"
     ]
    },
    {
     "name": "stdout",
     "output_type": "stream",
     "text": [
      "(1, 450, 600, 3)\n",
      "(1, 450, 600, 3)\n",
      "(1, 450, 600, 3)\n",
      "(1, 450, 600, 3)\n"
     ]
    },
    {
     "name": "stderr",
     "output_type": "stream",
     "text": [
      "8080it [07:22, 15.86it/s]"
     ]
    },
    {
     "name": "stdout",
     "output_type": "stream",
     "text": [
      "(1, 450, 600, 3)\n",
      "(1, 450, 600, 3)\n",
      "(1, 450, 600, 3)\n",
      "(1, 450, 600, 3)\n"
     ]
    },
    {
     "name": "stderr",
     "output_type": "stream",
     "text": [
      "\r",
      "8082it [07:22, 15.86it/s]"
     ]
    },
    {
     "name": "stdout",
     "output_type": "stream",
     "text": [
      "(1, 450, 600, 3)\n",
      "(1, 450, 600, 3)\n",
      "(1, 450, 600, 3)\n",
      "(1, 450, 600, 3)\n"
     ]
    },
    {
     "name": "stderr",
     "output_type": "stream",
     "text": [
      "8088it [07:22, 16.03it/s]"
     ]
    },
    {
     "name": "stdout",
     "output_type": "stream",
     "text": [
      "(1, 450, 600, 3)\n",
      "(1, 450, 600, 3)\n",
      "(1, 450, 600, 3)\n",
      "(1, 450, 600, 3)\n"
     ]
    },
    {
     "name": "stderr",
     "output_type": "stream",
     "text": [
      "\r",
      "8090it [07:22, 16.20it/s]"
     ]
    },
    {
     "name": "stdout",
     "output_type": "stream",
     "text": [
      "(1, 450, 600, 3)\n",
      "(1, 450, 600, 3)\n",
      "(1, 450, 600, 3)\n",
      "(1, 450, 600, 3)\n"
     ]
    },
    {
     "name": "stderr",
     "output_type": "stream",
     "text": [
      "8096it [07:23, 16.39it/s]"
     ]
    },
    {
     "name": "stdout",
     "output_type": "stream",
     "text": [
      "(1, 450, 600, 3)\n",
      "(1, 450, 600, 3)\n",
      "(1, 450, 600, 3)\n",
      "(1, 450, 600, 3)\n"
     ]
    },
    {
     "name": "stderr",
     "output_type": "stream",
     "text": [
      "\r",
      "8098it [07:23, 15.50it/s]"
     ]
    },
    {
     "name": "stdout",
     "output_type": "stream",
     "text": [
      "(1, 450, 600, 3)\n",
      "(1, 450, 600, 3)\n",
      "(1, 450, 600, 3)\n"
     ]
    },
    {
     "name": "stderr",
     "output_type": "stream",
     "text": [
      "8102it [07:23, 14.09it/s]"
     ]
    },
    {
     "name": "stdout",
     "output_type": "stream",
     "text": [
      "(1, 450, 600, 3)\n",
      "(1, 450, 600, 3)\n",
      "(1, 450, 600, 3)\n"
     ]
    },
    {
     "name": "stderr",
     "output_type": "stream",
     "text": [
      "\r",
      "8104it [07:23, 14.74it/s]"
     ]
    },
    {
     "name": "stdout",
     "output_type": "stream",
     "text": [
      "(1, 450, 600, 3)\n",
      "(1, 450, 600, 3)\n",
      "(1, 450, 600, 3)\n",
      "(1, 450, 600, 3)\n"
     ]
    },
    {
     "name": "stderr",
     "output_type": "stream",
     "text": [
      "8108it [07:24, 15.09it/s]"
     ]
    },
    {
     "name": "stdout",
     "output_type": "stream",
     "text": [
      "(1, 450, 600, 3)\n",
      "(1, 450, 600, 3)\n",
      "(1, 450, 600, 3)\n"
     ]
    },
    {
     "name": "stderr",
     "output_type": "stream",
     "text": [
      "8112it [07:24, 15.27it/s]"
     ]
    },
    {
     "name": "stdout",
     "output_type": "stream",
     "text": [
      "(1, 450, 600, 3)\n",
      "(1, 450, 600, 3)\n",
      "(1, 450, 600, 3)\n",
      "(1, 450, 600, 3)\n"
     ]
    },
    {
     "name": "stderr",
     "output_type": "stream",
     "text": [
      "8116it [07:24, 15.84it/s]"
     ]
    },
    {
     "name": "stdout",
     "output_type": "stream",
     "text": [
      "(1, 450, 600, 3)\n",
      "(1, 450, 600, 3)\n",
      "(1, 450, 600, 3)\n",
      "(1, 450, 600, 3)\n"
     ]
    },
    {
     "name": "stderr",
     "output_type": "stream",
     "text": [
      "8120it [07:24, 16.12it/s]"
     ]
    },
    {
     "name": "stdout",
     "output_type": "stream",
     "text": [
      "(1, 450, 600, 3)\n",
      "(1, 450, 600, 3)\n",
      "(1, 450, 600, 3)\n",
      "(1, 450, 600, 3)\n"
     ]
    },
    {
     "name": "stderr",
     "output_type": "stream",
     "text": [
      "8124it [07:25, 15.77it/s]"
     ]
    },
    {
     "name": "stdout",
     "output_type": "stream",
     "text": [
      "(1, 450, 600, 3)\n",
      "(1, 450, 600, 3)\n",
      "(1, 450, 600, 3)\n",
      "(1, 450, 600, 3)\n"
     ]
    },
    {
     "name": "stderr",
     "output_type": "stream",
     "text": [
      "8128it [07:25, 15.69it/s]"
     ]
    },
    {
     "name": "stdout",
     "output_type": "stream",
     "text": [
      "(1, 450, 600, 3)\n",
      "(1, 450, 600, 3)\n",
      "(1, 450, 600, 3)\n"
     ]
    },
    {
     "name": "stderr",
     "output_type": "stream",
     "text": [
      "\r",
      "8130it [07:25, 15.19it/s]"
     ]
    },
    {
     "name": "stdout",
     "output_type": "stream",
     "text": [
      "(1, 450, 600, 3)\n",
      "(1, 450, 600, 3)\n",
      "(1, 450, 600, 3)\n",
      "(1, 450, 600, 3)\n"
     ]
    },
    {
     "name": "stderr",
     "output_type": "stream",
     "text": [
      "8136it [07:25, 16.21it/s]"
     ]
    },
    {
     "name": "stdout",
     "output_type": "stream",
     "text": [
      "(1, 450, 600, 3)\n",
      "(1, 450, 600, 3)\n",
      "(1, 450, 600, 3)\n",
      "(1, 450, 600, 3)\n"
     ]
    },
    {
     "name": "stderr",
     "output_type": "stream",
     "text": [
      "\r",
      "8138it [07:26, 15.73it/s]"
     ]
    },
    {
     "name": "stdout",
     "output_type": "stream",
     "text": [
      "(1, 450, 600, 3)\n",
      "(1, 450, 600, 3)\n",
      "(1, 450, 600, 3)\n",
      "(1, 450, 600, 3)\n"
     ]
    },
    {
     "name": "stderr",
     "output_type": "stream",
     "text": [
      "8142it [07:26, 15.43it/s]"
     ]
    },
    {
     "name": "stdout",
     "output_type": "stream",
     "text": [
      "(1, 450, 600, 3)\n",
      "(1, 450, 600, 3)\n",
      "(1, 450, 600, 3)\n",
      "(1, 450, 600, 3)\n"
     ]
    },
    {
     "name": "stderr",
     "output_type": "stream",
     "text": [
      "8146it [07:26, 14.58it/s]"
     ]
    },
    {
     "name": "stdout",
     "output_type": "stream",
     "text": [
      "(1, 450, 600, 3)\n",
      "(1, 450, 600, 3)\n",
      "(1, 450, 600, 3)\n",
      "(1, 450, 600, 3)\n"
     ]
    },
    {
     "name": "stderr",
     "output_type": "stream",
     "text": [
      "8152it [07:26, 15.52it/s]"
     ]
    },
    {
     "name": "stdout",
     "output_type": "stream",
     "text": [
      "(1, 450, 600, 3)\n",
      "(1, 450, 600, 3)\n",
      "(1, 450, 600, 3)\n",
      "(1, 450, 600, 3)\n"
     ]
    },
    {
     "name": "stderr",
     "output_type": "stream",
     "text": [
      "8156it [07:27, 15.72it/s]"
     ]
    },
    {
     "name": "stdout",
     "output_type": "stream",
     "text": [
      "(1, 450, 600, 3)\n",
      "(1, 450, 600, 3)\n",
      "(1, 450, 600, 3)\n",
      "(1, 450, 600, 3)\n"
     ]
    },
    {
     "name": "stderr",
     "output_type": "stream",
     "text": [
      "\r",
      "8158it [07:27, 15.65it/s]"
     ]
    },
    {
     "name": "stdout",
     "output_type": "stream",
     "text": [
      "(1, 450, 600, 3)\n",
      "(1, 450, 600, 3)\n",
      "(1, 450, 600, 3)\n",
      "(1, 450, 600, 3)\n"
     ]
    },
    {
     "name": "stderr",
     "output_type": "stream",
     "text": [
      "8164it [07:27, 16.06it/s]"
     ]
    },
    {
     "name": "stdout",
     "output_type": "stream",
     "text": [
      "(1, 450, 600, 3)\n",
      "(1, 450, 600, 3)\n",
      "(1, 450, 600, 3)\n",
      "(1, 450, 600, 3)\n"
     ]
    },
    {
     "name": "stderr",
     "output_type": "stream",
     "text": [
      "\r",
      "8166it [07:27, 15.89it/s]"
     ]
    },
    {
     "name": "stdout",
     "output_type": "stream",
     "text": [
      "(1, 450, 600, 3)\n",
      "(1, 450, 600, 3)\n",
      "(1, 450, 600, 3)\n",
      "(1, 450, 600, 3)\n"
     ]
    },
    {
     "name": "stderr",
     "output_type": "stream",
     "text": [
      "8170it [07:28, 15.62it/s]"
     ]
    },
    {
     "name": "stdout",
     "output_type": "stream",
     "text": [
      "(1, 450, 600, 3)\n",
      "(1, 450, 600, 3)\n",
      "(1, 450, 600, 3)\n"
     ]
    },
    {
     "name": "stderr",
     "output_type": "stream",
     "text": [
      "8174it [07:28, 14.51it/s]"
     ]
    },
    {
     "name": "stdout",
     "output_type": "stream",
     "text": [
      "(1, 450, 600, 3)\n",
      "(1, 450, 600, 3)\n",
      "(1, 450, 600, 3)\n"
     ]
    },
    {
     "name": "stderr",
     "output_type": "stream",
     "text": [
      "\r",
      "8176it [07:28, 14.87it/s]"
     ]
    },
    {
     "name": "stdout",
     "output_type": "stream",
     "text": [
      "(1, 450, 600, 3)\n",
      "(1, 450, 600, 3)\n",
      "(1, 450, 600, 3)\n",
      "(1, 450, 600, 3)\n"
     ]
    },
    {
     "name": "stderr",
     "output_type": "stream",
     "text": [
      "8180it [07:28, 15.31it/s]"
     ]
    },
    {
     "name": "stdout",
     "output_type": "stream",
     "text": [
      "(1, 450, 600, 3)\n",
      "(1, 450, 600, 3)\n",
      "(1, 450, 600, 3)\n",
      "(1, 450, 600, 3)\n"
     ]
    },
    {
     "name": "stderr",
     "output_type": "stream",
     "text": [
      "8184it [07:29, 15.42it/s]"
     ]
    },
    {
     "name": "stdout",
     "output_type": "stream",
     "text": [
      "(1, 450, 600, 3)\n",
      "(1, 450, 600, 3)\n",
      "(1, 450, 600, 3)\n",
      "(1, 450, 600, 3)\n"
     ]
    },
    {
     "name": "stderr",
     "output_type": "stream",
     "text": [
      "8190it [07:29, 15.96it/s]"
     ]
    },
    {
     "name": "stdout",
     "output_type": "stream",
     "text": [
      "(1, 450, 600, 3)\n",
      "(1, 450, 600, 3)\n",
      "(1, 450, 600, 3)\n",
      "(1, 450, 600, 3)\n"
     ]
    },
    {
     "name": "stderr",
     "output_type": "stream",
     "text": [
      "\r",
      "8192it [07:29, 15.56it/s]"
     ]
    },
    {
     "name": "stdout",
     "output_type": "stream",
     "text": [
      "(1, 450, 600, 3)\n",
      "(1, 450, 600, 3)\n",
      "(1, 450, 600, 3)\n",
      "(1, 450, 600, 3)\n"
     ]
    },
    {
     "name": "stderr",
     "output_type": "stream",
     "text": [
      "8198it [07:29, 15.79it/s]"
     ]
    },
    {
     "name": "stdout",
     "output_type": "stream",
     "text": [
      "(1, 450, 600, 3)\n",
      "(1, 450, 600, 3)\n",
      "(1, 450, 600, 3)\n",
      "(1, 450, 600, 3)\n"
     ]
    },
    {
     "name": "stderr",
     "output_type": "stream",
     "text": [
      "\r",
      "8200it [07:30, 15.46it/s]"
     ]
    },
    {
     "name": "stdout",
     "output_type": "stream",
     "text": [
      "(1, 450, 600, 3)\n",
      "(1, 450, 600, 3)\n",
      "(1, 450, 600, 3)\n",
      "(1, 450, 600, 3)\n"
     ]
    },
    {
     "name": "stderr",
     "output_type": "stream",
     "text": [
      "8204it [07:30, 16.15it/s]"
     ]
    },
    {
     "name": "stdout",
     "output_type": "stream",
     "text": [
      "(1, 450, 600, 3)\n",
      "(1, 450, 600, 3)\n",
      "(1, 450, 600, 3)\n",
      "(1, 450, 600, 3)\n"
     ]
    },
    {
     "name": "stderr",
     "output_type": "stream",
     "text": [
      "8208it [07:30, 15.61it/s]"
     ]
    },
    {
     "name": "stdout",
     "output_type": "stream",
     "text": [
      "(1, 450, 600, 3)\n",
      "(1, 450, 600, 3)\n",
      "(1, 450, 600, 3)\n",
      "(1, 450, 600, 3)\n"
     ]
    },
    {
     "name": "stderr",
     "output_type": "stream",
     "text": [
      "8212it [07:30, 15.80it/s]"
     ]
    },
    {
     "name": "stdout",
     "output_type": "stream",
     "text": [
      "(1, 450, 600, 3)\n",
      "(1, 450, 600, 3)\n",
      "(1, 450, 600, 3)\n",
      "(1, 450, 600, 3)\n"
     ]
    },
    {
     "name": "stderr",
     "output_type": "stream",
     "text": [
      "8216it [07:31, 15.92it/s]"
     ]
    },
    {
     "name": "stdout",
     "output_type": "stream",
     "text": [
      "(1, 450, 600, 3)\n",
      "(1, 450, 600, 3)\n",
      "(1, 450, 600, 3)\n",
      "(1, 450, 600, 3)\n"
     ]
    },
    {
     "name": "stderr",
     "output_type": "stream",
     "text": [
      "8220it [07:31, 15.96it/s]"
     ]
    },
    {
     "name": "stdout",
     "output_type": "stream",
     "text": [
      "(1, 450, 600, 3)\n",
      "(1, 450, 600, 3)\n",
      "(1, 450, 600, 3)\n"
     ]
    },
    {
     "name": "stderr",
     "output_type": "stream",
     "text": [
      "8224it [07:31, 16.04it/s]"
     ]
    },
    {
     "name": "stdout",
     "output_type": "stream",
     "text": [
      "(1, 450, 600, 3)\n",
      "(1, 450, 600, 3)\n",
      "(1, 450, 600, 3)\n",
      "(1, 450, 600, 3)\n"
     ]
    },
    {
     "name": "stderr",
     "output_type": "stream",
     "text": [
      "8228it [07:31, 16.02it/s]"
     ]
    },
    {
     "name": "stdout",
     "output_type": "stream",
     "text": [
      "(1, 450, 600, 3)\n",
      "(1, 450, 600, 3)\n",
      "(1, 450, 600, 3)\n",
      "(1, 450, 600, 3)\n"
     ]
    },
    {
     "name": "stderr",
     "output_type": "stream",
     "text": [
      "8232it [07:32, 15.72it/s]"
     ]
    },
    {
     "name": "stdout",
     "output_type": "stream",
     "text": [
      "(1, 450, 600, 3)\n",
      "(1, 450, 600, 3)\n",
      "(1, 450, 600, 3)\n",
      "(1, 450, 600, 3)\n"
     ]
    },
    {
     "name": "stderr",
     "output_type": "stream",
     "text": [
      "8236it [07:32, 15.80it/s]"
     ]
    },
    {
     "name": "stdout",
     "output_type": "stream",
     "text": [
      "(1, 450, 600, 3)\n",
      "(1, 450, 600, 3)\n",
      "(1, 450, 600, 3)\n",
      "(1, 450, 600, 3)\n"
     ]
    },
    {
     "name": "stderr",
     "output_type": "stream",
     "text": [
      "\r",
      "8238it [07:32, 15.99it/s]"
     ]
    },
    {
     "name": "stdout",
     "output_type": "stream",
     "text": [
      "(1, 450, 600, 3)\n",
      "(1, 450, 600, 3)\n",
      "(1, 450, 600, 3)\n"
     ]
    },
    {
     "name": "stderr",
     "output_type": "stream",
     "text": [
      "8242it [07:32, 16.16it/s]"
     ]
    },
    {
     "name": "stdout",
     "output_type": "stream",
     "text": [
      "(1, 450, 600, 3)\n",
      "(1, 450, 600, 3)\n",
      "(1, 450, 600, 3)\n"
     ]
    },
    {
     "name": "stderr",
     "output_type": "stream",
     "text": [
      "8246it [07:33, 14.22it/s]"
     ]
    },
    {
     "name": "stdout",
     "output_type": "stream",
     "text": [
      "(1, 450, 600, 3)\n",
      "(1, 450, 600, 3)\n",
      "(1, 450, 600, 3)\n"
     ]
    },
    {
     "name": "stderr",
     "output_type": "stream",
     "text": [
      "\r",
      "8248it [07:33, 14.61it/s]"
     ]
    },
    {
     "name": "stdout",
     "output_type": "stream",
     "text": [
      "(1, 450, 600, 3)\n",
      "(1, 450, 600, 3)\n",
      "(1, 450, 600, 3)\n",
      "(1, 450, 600, 3)\n"
     ]
    },
    {
     "name": "stderr",
     "output_type": "stream",
     "text": [
      "8252it [07:33, 14.65it/s]"
     ]
    },
    {
     "name": "stdout",
     "output_type": "stream",
     "text": [
      "(1, 450, 600, 3)\n",
      "(1, 450, 600, 3)\n",
      "(1, 450, 600, 3)\n"
     ]
    },
    {
     "name": "stderr",
     "output_type": "stream",
     "text": [
      "8256it [07:33, 14.92it/s]"
     ]
    },
    {
     "name": "stdout",
     "output_type": "stream",
     "text": [
      "(1, 450, 600, 3)\n",
      "(1, 450, 600, 3)\n",
      "(1, 450, 600, 3)\n",
      "(1, 450, 600, 3)\n"
     ]
    },
    {
     "name": "stderr",
     "output_type": "stream",
     "text": [
      "8260it [07:33, 15.64it/s]"
     ]
    },
    {
     "name": "stdout",
     "output_type": "stream",
     "text": [
      "(1, 450, 600, 3)\n",
      "(1, 450, 600, 3)\n",
      "(1, 450, 600, 3)\n",
      "(1, 450, 600, 3)\n"
     ]
    },
    {
     "name": "stderr",
     "output_type": "stream",
     "text": [
      "8264it [07:34, 15.84it/s]"
     ]
    },
    {
     "name": "stdout",
     "output_type": "stream",
     "text": [
      "(1, 450, 600, 3)\n",
      "(1, 450, 600, 3)\n",
      "(1, 450, 600, 3)\n",
      "(1, 450, 600, 3)\n"
     ]
    },
    {
     "name": "stderr",
     "output_type": "stream",
     "text": [
      "8268it [07:34, 15.22it/s]"
     ]
    },
    {
     "name": "stdout",
     "output_type": "stream",
     "text": [
      "(1, 450, 600, 3)\n",
      "(1, 450, 600, 3)\n",
      "(1, 450, 600, 3)\n"
     ]
    },
    {
     "name": "stderr",
     "output_type": "stream",
     "text": [
      "\r",
      "8270it [07:34, 15.02it/s]"
     ]
    },
    {
     "name": "stdout",
     "output_type": "stream",
     "text": [
      "(1, 450, 600, 3)\n",
      "(1, 450, 600, 3)\n",
      "(1, 450, 600, 3)\n",
      "(1, 450, 600, 3)\n"
     ]
    },
    {
     "name": "stderr",
     "output_type": "stream",
     "text": [
      "8276it [07:34, 15.83it/s]"
     ]
    },
    {
     "name": "stdout",
     "output_type": "stream",
     "text": [
      "(1, 450, 600, 3)\n",
      "(1, 450, 600, 3)\n",
      "(1, 450, 600, 3)\n",
      "(1, 450, 600, 3)\n"
     ]
    },
    {
     "name": "stderr",
     "output_type": "stream",
     "text": [
      "\r",
      "8278it [07:35, 16.03it/s]"
     ]
    },
    {
     "name": "stdout",
     "output_type": "stream",
     "text": [
      "(1, 450, 600, 3)\n",
      "(1, 450, 600, 3)\n",
      "(1, 450, 600, 3)\n",
      "(1, 450, 600, 3)\n"
     ]
    },
    {
     "name": "stderr",
     "output_type": "stream",
     "text": [
      "8282it [07:35, 15.86it/s]"
     ]
    },
    {
     "name": "stdout",
     "output_type": "stream",
     "text": [
      "(1, 450, 600, 3)\n",
      "(1, 450, 600, 3)\n",
      "(1, 450, 600, 3)\n"
     ]
    },
    {
     "name": "stderr",
     "output_type": "stream",
     "text": [
      "8286it [07:35, 15.50it/s]"
     ]
    },
    {
     "name": "stdout",
     "output_type": "stream",
     "text": [
      "(1, 450, 600, 3)\n",
      "(1, 450, 600, 3)\n",
      "(1, 450, 600, 3)\n"
     ]
    },
    {
     "name": "stderr",
     "output_type": "stream",
     "text": [
      "\r",
      "8288it [07:35, 15.33it/s]"
     ]
    },
    {
     "name": "stdout",
     "output_type": "stream",
     "text": [
      "(1, 450, 600, 3)\n",
      "(1, 450, 600, 3)\n",
      "(1, 450, 600, 3)\n",
      "(1, 450, 600, 3)\n"
     ]
    },
    {
     "name": "stderr",
     "output_type": "stream",
     "text": [
      "8292it [07:35, 15.52it/s]"
     ]
    },
    {
     "name": "stdout",
     "output_type": "stream",
     "text": [
      "(1, 450, 600, 3)\n",
      "(1, 450, 600, 3)\n",
      "(1, 450, 600, 3)\n",
      "(1, 450, 600, 3)\n"
     ]
    },
    {
     "name": "stderr",
     "output_type": "stream",
     "text": [
      "8296it [07:36, 15.66it/s]"
     ]
    },
    {
     "name": "stdout",
     "output_type": "stream",
     "text": [
      "(1, 450, 600, 3)\n",
      "(1, 450, 600, 3)\n",
      "(1, 450, 600, 3)\n",
      "(1, 450, 600, 3)\n"
     ]
    },
    {
     "name": "stderr",
     "output_type": "stream",
     "text": [
      "8300it [07:36, 15.27it/s]"
     ]
    },
    {
     "name": "stdout",
     "output_type": "stream",
     "text": [
      "(1, 450, 600, 3)\n",
      "(1, 450, 600, 3)\n",
      "(1, 450, 600, 3)\n",
      "(1, 450, 600, 3)\n"
     ]
    },
    {
     "name": "stderr",
     "output_type": "stream",
     "text": [
      "8304it [07:36, 15.49it/s]"
     ]
    },
    {
     "name": "stdout",
     "output_type": "stream",
     "text": [
      "(1, 450, 600, 3)\n",
      "(1, 450, 600, 3)\n",
      "(1, 450, 600, 3)\n",
      "(1, 450, 600, 3)\n"
     ]
    },
    {
     "name": "stderr",
     "output_type": "stream",
     "text": [
      "8308it [07:37, 15.40it/s]"
     ]
    },
    {
     "name": "stdout",
     "output_type": "stream",
     "text": [
      "(1, 450, 600, 3)\n",
      "(1, 450, 600, 3)\n"
     ]
    },
    {
     "name": "stderr",
     "output_type": "stream",
     "text": [
      "\r",
      "8310it [07:37, 14.95it/s]"
     ]
    },
    {
     "name": "stdout",
     "output_type": "stream",
     "text": [
      "(1, 450, 600, 3)\n",
      "(1, 450, 600, 3)\n",
      "(1, 450, 600, 3)\n",
      "(1, 450, 600, 3)\n"
     ]
    },
    {
     "name": "stderr",
     "output_type": "stream",
     "text": [
      "8314it [07:37, 14.51it/s]"
     ]
    },
    {
     "name": "stdout",
     "output_type": "stream",
     "text": [
      "(1, 450, 600, 3)\n",
      "(1, 450, 600, 3)\n",
      "(1, 450, 600, 3)\n"
     ]
    },
    {
     "name": "stderr",
     "output_type": "stream",
     "text": [
      "8318it [07:37, 14.57it/s]"
     ]
    },
    {
     "name": "stdout",
     "output_type": "stream",
     "text": [
      "(1, 450, 600, 3)\n",
      "(1, 450, 600, 3)\n",
      "(1, 450, 600, 3)\n",
      "(1, 450, 600, 3)\n"
     ]
    },
    {
     "name": "stderr",
     "output_type": "stream",
     "text": [
      "8322it [07:38, 14.94it/s]"
     ]
    },
    {
     "name": "stdout",
     "output_type": "stream",
     "text": [
      "(1, 450, 600, 3)\n",
      "(1, 450, 600, 3)\n",
      "(1, 450, 600, 3)\n"
     ]
    },
    {
     "name": "stderr",
     "output_type": "stream",
     "text": [
      "\r",
      "8324it [07:38, 15.17it/s]"
     ]
    },
    {
     "name": "stdout",
     "output_type": "stream",
     "text": [
      "(1, 450, 600, 3)\n",
      "(1, 450, 600, 3)\n",
      "(1, 450, 600, 3)\n",
      "(1, 450, 600, 3)\n"
     ]
    },
    {
     "name": "stderr",
     "output_type": "stream",
     "text": [
      "8328it [07:38, 15.60it/s]"
     ]
    },
    {
     "name": "stdout",
     "output_type": "stream",
     "text": [
      "(1, 450, 600, 3)\n",
      "(1, 450, 600, 3)\n",
      "(1, 450, 600, 3)\n",
      "(1, 450, 600, 3)\n"
     ]
    },
    {
     "name": "stderr",
     "output_type": "stream",
     "text": [
      "8332it [07:38, 15.17it/s]"
     ]
    },
    {
     "name": "stdout",
     "output_type": "stream",
     "text": [
      "(1, 450, 600, 3)\n",
      "(1, 450, 600, 3)\n",
      "(1, 450, 600, 3)\n"
     ]
    },
    {
     "name": "stderr",
     "output_type": "stream",
     "text": [
      "8336it [07:38, 15.21it/s]"
     ]
    },
    {
     "name": "stdout",
     "output_type": "stream",
     "text": [
      "(1, 450, 600, 3)\n",
      "(1, 450, 600, 3)\n",
      "(1, 450, 600, 3)\n",
      "(1, 450, 600, 3)\n"
     ]
    },
    {
     "name": "stderr",
     "output_type": "stream",
     "text": [
      "8340it [07:39, 15.18it/s]"
     ]
    },
    {
     "name": "stdout",
     "output_type": "stream",
     "text": [
      "(1, 450, 600, 3)\n",
      "(1, 450, 600, 3)\n",
      "(1, 450, 600, 3)\n",
      "(1, 450, 600, 3)\n"
     ]
    },
    {
     "name": "stderr",
     "output_type": "stream",
     "text": [
      "8344it [07:39, 15.23it/s]"
     ]
    },
    {
     "name": "stdout",
     "output_type": "stream",
     "text": [
      "(1, 450, 600, 3)\n",
      "(1, 450, 600, 3)\n",
      "(1, 450, 600, 3)\n",
      "(1, 450, 600, 3)\n"
     ]
    },
    {
     "name": "stderr",
     "output_type": "stream",
     "text": [
      "8348it [07:39, 14.96it/s]"
     ]
    },
    {
     "name": "stdout",
     "output_type": "stream",
     "text": [
      "(1, 450, 600, 3)\n",
      "(1, 450, 600, 3)\n",
      "(1, 450, 600, 3)\n",
      "(1, 450, 600, 3)\n"
     ]
    },
    {
     "name": "stderr",
     "output_type": "stream",
     "text": [
      "8352it [07:39, 15.30it/s]"
     ]
    },
    {
     "name": "stdout",
     "output_type": "stream",
     "text": [
      "(1, 450, 600, 3)\n",
      "(1, 450, 600, 3)\n",
      "(1, 450, 600, 3)\n"
     ]
    },
    {
     "name": "stderr",
     "output_type": "stream",
     "text": [
      "8356it [07:40, 15.66it/s]"
     ]
    },
    {
     "name": "stdout",
     "output_type": "stream",
     "text": [
      "(1, 450, 600, 3)\n",
      "(1, 450, 600, 3)\n",
      "(1, 450, 600, 3)\n",
      "(1, 450, 600, 3)\n"
     ]
    },
    {
     "name": "stderr",
     "output_type": "stream",
     "text": [
      "8360it [07:40, 15.82it/s]"
     ]
    },
    {
     "name": "stdout",
     "output_type": "stream",
     "text": [
      "(1, 450, 600, 3)\n",
      "(1, 450, 600, 3)\n",
      "(1, 450, 600, 3)\n",
      "(1, 450, 600, 3)\n"
     ]
    },
    {
     "name": "stderr",
     "output_type": "stream",
     "text": [
      "\r",
      "8362it [07:40, 15.67it/s]"
     ]
    },
    {
     "name": "stdout",
     "output_type": "stream",
     "text": [
      "(1, 450, 600, 3)\n",
      "(1, 450, 600, 3)\n",
      "(1, 450, 600, 3)\n",
      "(1, 450, 600, 3)\n"
     ]
    },
    {
     "name": "stderr",
     "output_type": "stream",
     "text": [
      "8366it [07:40, 15.27it/s]"
     ]
    },
    {
     "name": "stdout",
     "output_type": "stream",
     "text": [
      "(1, 450, 600, 3)\n",
      "(1, 450, 600, 3)\n",
      "(1, 450, 600, 3)\n",
      "(1, 450, 600, 3)\n"
     ]
    },
    {
     "name": "stderr",
     "output_type": "stream",
     "text": [
      "8370it [07:41, 15.66it/s]"
     ]
    },
    {
     "name": "stdout",
     "output_type": "stream",
     "text": [
      "(1, 450, 600, 3)\n",
      "(1, 450, 600, 3)\n",
      "(1, 450, 600, 3)\n",
      "(1, 450, 600, 3)\n"
     ]
    },
    {
     "name": "stderr",
     "output_type": "stream",
     "text": [
      "8376it [07:41, 15.75it/s]"
     ]
    },
    {
     "name": "stdout",
     "output_type": "stream",
     "text": [
      "(1, 450, 600, 3)\n",
      "(1, 450, 600, 3)\n",
      "(1, 450, 600, 3)\n",
      "(1, 450, 600, 3)\n"
     ]
    },
    {
     "name": "stderr",
     "output_type": "stream",
     "text": [
      "\r",
      "8378it [07:41, 15.28it/s]"
     ]
    },
    {
     "name": "stdout",
     "output_type": "stream",
     "text": [
      "(1, 450, 600, 3)\n",
      "(1, 450, 600, 3)\n",
      "(1, 450, 600, 3)\n"
     ]
    },
    {
     "name": "stderr",
     "output_type": "stream",
     "text": [
      "8382it [07:41, 14.90it/s]"
     ]
    },
    {
     "name": "stdout",
     "output_type": "stream",
     "text": [
      "(1, 450, 600, 3)\n",
      "(1, 450, 600, 3)\n",
      "(1, 450, 600, 3)\n",
      "(1, 450, 600, 3)\n"
     ]
    },
    {
     "name": "stderr",
     "output_type": "stream",
     "text": [
      "8386it [07:42, 14.00it/s]"
     ]
    },
    {
     "name": "stdout",
     "output_type": "stream",
     "text": [
      "(1, 450, 600, 3)\n",
      "(1, 450, 600, 3)\n",
      "(1, 450, 600, 3)\n"
     ]
    },
    {
     "name": "stderr",
     "output_type": "stream",
     "text": [
      "\r",
      "8388it [07:42, 14.17it/s]"
     ]
    },
    {
     "name": "stdout",
     "output_type": "stream",
     "text": [
      "(1, 450, 600, 3)\n",
      "(1, 450, 600, 3)\n",
      "(1, 450, 600, 3)\n",
      "(1, 450, 600, 3)\n"
     ]
    },
    {
     "name": "stderr",
     "output_type": "stream",
     "text": [
      "8392it [07:42, 14.97it/s]"
     ]
    },
    {
     "name": "stdout",
     "output_type": "stream",
     "text": [
      "(1, 450, 600, 3)\n",
      "(1, 450, 600, 3)\n",
      "(1, 450, 600, 3)\n",
      "(1, 450, 600, 3)\n"
     ]
    },
    {
     "name": "stderr",
     "output_type": "stream",
     "text": [
      "8398it [07:43, 15.35it/s]"
     ]
    },
    {
     "name": "stdout",
     "output_type": "stream",
     "text": [
      "(1, 450, 600, 3)\n",
      "(1, 450, 600, 3)\n",
      "(1, 450, 600, 3)\n",
      "(1, 450, 600, 3)\n"
     ]
    },
    {
     "name": "stderr",
     "output_type": "stream",
     "text": [
      "\r",
      "8400it [07:43, 15.48it/s]"
     ]
    },
    {
     "name": "stdout",
     "output_type": "stream",
     "text": [
      "(1, 450, 600, 3)\n",
      "(1, 450, 600, 3)\n",
      "(1, 450, 600, 3)\n",
      "(1, 450, 600, 3)\n"
     ]
    },
    {
     "name": "stderr",
     "output_type": "stream",
     "text": [
      "8404it [07:43, 15.43it/s]"
     ]
    },
    {
     "name": "stdout",
     "output_type": "stream",
     "text": [
      "(1, 450, 600, 3)\n",
      "(1, 450, 600, 3)\n",
      "(1, 450, 600, 3)\n",
      "(1, 450, 600, 3)\n"
     ]
    },
    {
     "name": "stderr",
     "output_type": "stream",
     "text": [
      "8408it [07:43, 15.39it/s]"
     ]
    },
    {
     "name": "stdout",
     "output_type": "stream",
     "text": [
      "(1, 450, 600, 3)\n",
      "(1, 450, 600, 3)\n",
      "(1, 450, 600, 3)\n"
     ]
    },
    {
     "name": "stderr",
     "output_type": "stream",
     "text": [
      "8412it [07:43, 15.28it/s]"
     ]
    },
    {
     "name": "stdout",
     "output_type": "stream",
     "text": [
      "(1, 450, 600, 3)\n",
      "(1, 450, 600, 3)\n",
      "(1, 450, 600, 3)\n",
      "(1, 450, 600, 3)\n"
     ]
    },
    {
     "name": "stderr",
     "output_type": "stream",
     "text": [
      "8416it [07:44, 15.12it/s]"
     ]
    },
    {
     "name": "stdout",
     "output_type": "stream",
     "text": [
      "(1, 450, 600, 3)\n",
      "(1, 450, 600, 3)\n",
      "(1, 450, 600, 3)\n"
     ]
    },
    {
     "name": "stderr",
     "output_type": "stream",
     "text": [
      "\r",
      "8418it [07:44, 14.93it/s]"
     ]
    },
    {
     "name": "stdout",
     "output_type": "stream",
     "text": [
      "(1, 450, 600, 3)\n",
      "(1, 450, 600, 3)\n",
      "(1, 450, 600, 3)\n",
      "(1, 450, 600, 3)\n"
     ]
    },
    {
     "name": "stderr",
     "output_type": "stream",
     "text": [
      "8422it [07:44, 15.57it/s]"
     ]
    },
    {
     "name": "stdout",
     "output_type": "stream",
     "text": [
      "(1, 450, 600, 3)\n",
      "(1, 450, 600, 3)\n",
      "(1, 450, 600, 3)\n",
      "(1, 450, 600, 3)\n"
     ]
    },
    {
     "name": "stderr",
     "output_type": "stream",
     "text": [
      "8428it [07:44, 15.64it/s]"
     ]
    },
    {
     "name": "stdout",
     "output_type": "stream",
     "text": [
      "(1, 450, 600, 3)\n",
      "(1, 450, 600, 3)\n",
      "(1, 450, 600, 3)\n",
      "(1, 450, 600, 3)\n"
     ]
    },
    {
     "name": "stderr",
     "output_type": "stream",
     "text": [
      "\r",
      "8430it [07:45, 15.38it/s]"
     ]
    },
    {
     "name": "stdout",
     "output_type": "stream",
     "text": [
      "(1, 450, 600, 3)\n",
      "(1, 450, 600, 3)\n",
      "(1, 450, 600, 3)\n"
     ]
    },
    {
     "name": "stderr",
     "output_type": "stream",
     "text": [
      "8434it [07:45, 15.25it/s]"
     ]
    },
    {
     "name": "stdout",
     "output_type": "stream",
     "text": [
      "(1, 450, 600, 3)\n",
      "(1, 450, 600, 3)\n",
      "(1, 450, 600, 3)\n",
      "(1, 450, 600, 3)\n"
     ]
    },
    {
     "name": "stderr",
     "output_type": "stream",
     "text": [
      "8438it [07:45, 15.44it/s]"
     ]
    },
    {
     "name": "stdout",
     "output_type": "stream",
     "text": [
      "(1, 450, 600, 3)\n",
      "(1, 450, 600, 3)\n",
      "(1, 450, 600, 3)\n"
     ]
    },
    {
     "name": "stderr",
     "output_type": "stream",
     "text": [
      "\r",
      "8440it [07:45, 14.99it/s]"
     ]
    },
    {
     "name": "stdout",
     "output_type": "stream",
     "text": [
      "(1, 450, 600, 3)\n",
      "(1, 450, 600, 3)\n",
      "(1, 450, 600, 3)\n",
      "(1, 450, 600, 3)\n"
     ]
    },
    {
     "name": "stderr",
     "output_type": "stream",
     "text": [
      "8444it [07:46, 14.77it/s]"
     ]
    },
    {
     "name": "stdout",
     "output_type": "stream",
     "text": [
      "(1, 450, 600, 3)\n",
      "(1, 450, 600, 3)\n",
      "(1, 450, 600, 3)\n",
      "(1, 450, 600, 3)\n"
     ]
    },
    {
     "name": "stderr",
     "output_type": "stream",
     "text": [
      "8448it [07:46, 14.92it/s]"
     ]
    },
    {
     "name": "stdout",
     "output_type": "stream",
     "text": [
      "(1, 450, 600, 3)\n",
      "(1, 450, 600, 3)\n",
      "(1, 450, 600, 3)\n",
      "(1, 450, 600, 3)\n"
     ]
    },
    {
     "name": "stderr",
     "output_type": "stream",
     "text": [
      "8452it [07:46, 15.01it/s]"
     ]
    },
    {
     "name": "stdout",
     "output_type": "stream",
     "text": [
      "(1, 450, 600, 3)\n",
      "(1, 450, 600, 3)\n"
     ]
    },
    {
     "name": "stderr",
     "output_type": "stream",
     "text": [
      "\r",
      "8454it [07:46, 13.95it/s]"
     ]
    },
    {
     "name": "stdout",
     "output_type": "stream",
     "text": [
      "(1, 450, 600, 3)\n",
      "(1, 450, 600, 3)\n",
      "(1, 450, 600, 3)\n"
     ]
    },
    {
     "name": "stderr",
     "output_type": "stream",
     "text": [
      "8458it [07:46, 14.63it/s]"
     ]
    },
    {
     "name": "stdout",
     "output_type": "stream",
     "text": [
      "(1, 450, 600, 3)\n",
      "(1, 450, 600, 3)\n",
      "(1, 450, 600, 3)\n",
      "(1, 450, 600, 3)\n"
     ]
    },
    {
     "name": "stderr",
     "output_type": "stream",
     "text": [
      "8462it [07:47, 14.76it/s]"
     ]
    },
    {
     "name": "stdout",
     "output_type": "stream",
     "text": [
      "(1, 450, 600, 3)\n",
      "(1, 450, 600, 3)\n",
      "(1, 450, 600, 3)\n",
      "(1, 450, 600, 3)\n"
     ]
    },
    {
     "name": "stderr",
     "output_type": "stream",
     "text": [
      "8466it [07:47, 14.90it/s]"
     ]
    },
    {
     "name": "stdout",
     "output_type": "stream",
     "text": [
      "(1, 450, 600, 3)\n",
      "(1, 450, 600, 3)\n",
      "(1, 450, 600, 3)\n",
      "(1, 450, 600, 3)\n"
     ]
    },
    {
     "name": "stderr",
     "output_type": "stream",
     "text": [
      "8470it [07:47, 15.56it/s]"
     ]
    },
    {
     "name": "stdout",
     "output_type": "stream",
     "text": [
      "(1, 450, 600, 3)\n",
      "(1, 450, 600, 3)\n",
      "(1, 450, 600, 3)\n",
      "(1, 450, 600, 3)\n"
     ]
    },
    {
     "name": "stderr",
     "output_type": "stream",
     "text": [
      "8474it [07:48, 15.50it/s]"
     ]
    },
    {
     "name": "stdout",
     "output_type": "stream",
     "text": [
      "(1, 450, 600, 3)\n",
      "(1, 450, 600, 3)\n",
      "(1, 450, 600, 3)\n",
      "(1, 450, 600, 3)\n"
     ]
    },
    {
     "name": "stderr",
     "output_type": "stream",
     "text": [
      "8478it [07:48, 15.22it/s]"
     ]
    },
    {
     "name": "stdout",
     "output_type": "stream",
     "text": [
      "(1, 450, 600, 3)\n",
      "(1, 450, 600, 3)\n",
      "(1, 450, 600, 3)\n",
      "(1, 450, 600, 3)\n"
     ]
    },
    {
     "name": "stderr",
     "output_type": "stream",
     "text": [
      "8482it [07:48, 15.12it/s]"
     ]
    },
    {
     "name": "stdout",
     "output_type": "stream",
     "text": [
      "(1, 450, 600, 3)\n",
      "(1, 450, 600, 3)\n",
      "(1, 450, 600, 3)\n",
      "(1, 450, 600, 3)\n"
     ]
    },
    {
     "name": "stderr",
     "output_type": "stream",
     "text": [
      "8486it [07:48, 14.79it/s]"
     ]
    },
    {
     "name": "stdout",
     "output_type": "stream",
     "text": [
      "(1, 450, 600, 3)\n",
      "(1, 450, 600, 3)\n",
      "(1, 450, 600, 3)\n",
      "(1, 450, 600, 3)\n"
     ]
    },
    {
     "name": "stderr",
     "output_type": "stream",
     "text": [
      "8490it [07:49, 15.55it/s]"
     ]
    },
    {
     "name": "stdout",
     "output_type": "stream",
     "text": [
      "(1, 450, 600, 3)\n",
      "(1, 450, 600, 3)\n",
      "(1, 450, 600, 3)\n",
      "(1, 450, 600, 3)\n"
     ]
    },
    {
     "name": "stderr",
     "output_type": "stream",
     "text": [
      "\r",
      "8492it [07:49, 15.60it/s]"
     ]
    },
    {
     "name": "stdout",
     "output_type": "stream",
     "text": [
      "(1, 450, 600, 3)\n",
      "(1, 450, 600, 3)\n"
     ]
    },
    {
     "name": "stderr",
     "output_type": "stream",
     "text": [
      "8496it [07:49, 15.18it/s]"
     ]
    },
    {
     "name": "stdout",
     "output_type": "stream",
     "text": [
      "(1, 450, 600, 3)\n",
      "(1, 450, 600, 3)\n",
      "(1, 450, 600, 3)\n",
      "(1, 450, 600, 3)\n"
     ]
    },
    {
     "name": "stderr",
     "output_type": "stream",
     "text": [
      "8500it [07:49, 15.11it/s]"
     ]
    },
    {
     "name": "stdout",
     "output_type": "stream",
     "text": [
      "(1, 450, 600, 3)\n",
      "(1, 450, 600, 3)\n",
      "(1, 450, 600, 3)\n",
      "(1, 450, 600, 3)\n"
     ]
    },
    {
     "name": "stderr",
     "output_type": "stream",
     "text": [
      "8504it [07:50, 15.39it/s]"
     ]
    },
    {
     "name": "stdout",
     "output_type": "stream",
     "text": [
      "(1, 450, 600, 3)\n",
      "(1, 450, 600, 3)\n",
      "(1, 450, 600, 3)\n",
      "(1, 450, 600, 3)\n"
     ]
    },
    {
     "name": "stderr",
     "output_type": "stream",
     "text": [
      "8508it [07:50, 15.37it/s]"
     ]
    },
    {
     "name": "stdout",
     "output_type": "stream",
     "text": [
      "(1, 450, 600, 3)\n",
      "(1, 450, 600, 3)\n",
      "(1, 450, 600, 3)\n",
      "(1, 450, 600, 3)\n"
     ]
    },
    {
     "name": "stderr",
     "output_type": "stream",
     "text": [
      "8512it [07:50, 15.54it/s]"
     ]
    },
    {
     "name": "stdout",
     "output_type": "stream",
     "text": [
      "(1, 450, 600, 3)\n",
      "(1, 450, 600, 3)\n",
      "(1, 450, 600, 3)\n",
      "(1, 450, 600, 3)\n"
     ]
    },
    {
     "name": "stderr",
     "output_type": "stream",
     "text": [
      "\r",
      "8514it [07:50, 15.57it/s]"
     ]
    },
    {
     "name": "stdout",
     "output_type": "stream",
     "text": [
      "(1, 450, 600, 3)\n",
      "(1, 450, 600, 3)\n",
      "(1, 450, 600, 3)\n"
     ]
    },
    {
     "name": "stderr",
     "output_type": "stream",
     "text": [
      "8518it [07:50, 14.77it/s]"
     ]
    },
    {
     "name": "stdout",
     "output_type": "stream",
     "text": [
      "(1, 450, 600, 3)\n",
      "(1, 450, 600, 3)\n",
      "(1, 450, 600, 3)\n",
      "(1, 450, 600, 3)\n"
     ]
    },
    {
     "name": "stderr",
     "output_type": "stream",
     "text": [
      "8522it [07:51, 14.75it/s]"
     ]
    },
    {
     "name": "stdout",
     "output_type": "stream",
     "text": [
      "(1, 450, 600, 3)\n",
      "(1, 450, 600, 3)\n"
     ]
    },
    {
     "name": "stderr",
     "output_type": "stream",
     "text": [
      "\r",
      "8524it [07:51, 13.93it/s]"
     ]
    },
    {
     "name": "stdout",
     "output_type": "stream",
     "text": [
      "(1, 450, 600, 3)\n",
      "(1, 450, 600, 3)\n",
      "(1, 450, 600, 3)\n"
     ]
    },
    {
     "name": "stderr",
     "output_type": "stream",
     "text": [
      "8528it [07:51, 13.91it/s]"
     ]
    },
    {
     "name": "stdout",
     "output_type": "stream",
     "text": [
      "(1, 450, 600, 3)\n",
      "(1, 450, 600, 3)\n",
      "(1, 450, 600, 3)\n",
      "(1, 450, 600, 3)\n"
     ]
    },
    {
     "name": "stderr",
     "output_type": "stream",
     "text": [
      "8532it [07:51, 14.28it/s]"
     ]
    },
    {
     "name": "stdout",
     "output_type": "stream",
     "text": [
      "(1, 450, 600, 3)\n",
      "(1, 450, 600, 3)\n",
      "(1, 450, 600, 3)\n"
     ]
    },
    {
     "name": "stderr",
     "output_type": "stream",
     "text": [
      "\r",
      "8534it [07:52, 14.49it/s]"
     ]
    },
    {
     "name": "stdout",
     "output_type": "stream",
     "text": [
      "(1, 450, 600, 3)\n",
      "(1, 450, 600, 3)\n",
      "(1, 450, 600, 3)\n"
     ]
    },
    {
     "name": "stderr",
     "output_type": "stream",
     "text": [
      "8538it [07:52, 14.41it/s]"
     ]
    },
    {
     "name": "stdout",
     "output_type": "stream",
     "text": [
      "(1, 450, 600, 3)\n",
      "(1, 450, 600, 3)\n",
      "(1, 450, 600, 3)\n"
     ]
    },
    {
     "name": "stderr",
     "output_type": "stream",
     "text": [
      "\r",
      "8540it [07:52, 14.46it/s]"
     ]
    },
    {
     "name": "stdout",
     "output_type": "stream",
     "text": [
      "(1, 450, 600, 3)\n",
      "(1, 450, 600, 3)\n",
      "(1, 450, 600, 3)\n",
      "(1, 450, 600, 3)\n"
     ]
    },
    {
     "name": "stderr",
     "output_type": "stream",
     "text": [
      "8544it [07:52, 14.69it/s]"
     ]
    },
    {
     "name": "stdout",
     "output_type": "stream",
     "text": [
      "(1, 450, 600, 3)\n",
      "(1, 450, 600, 3)\n",
      "(1, 450, 600, 3)\n",
      "(1, 450, 600, 3)\n"
     ]
    },
    {
     "name": "stderr",
     "output_type": "stream",
     "text": [
      "8548it [07:53, 15.34it/s]"
     ]
    },
    {
     "name": "stdout",
     "output_type": "stream",
     "text": [
      "(1, 450, 600, 3)\n",
      "(1, 450, 600, 3)\n",
      "(1, 450, 600, 3)\n",
      "(1, 450, 600, 3)\n"
     ]
    },
    {
     "name": "stderr",
     "output_type": "stream",
     "text": [
      "8552it [07:53, 14.85it/s]"
     ]
    },
    {
     "name": "stdout",
     "output_type": "stream",
     "text": [
      "(1, 450, 600, 3)\n",
      "(1, 450, 600, 3)\n",
      "(1, 450, 600, 3)\n"
     ]
    },
    {
     "name": "stderr",
     "output_type": "stream",
     "text": [
      "8556it [07:53, 14.98it/s]"
     ]
    },
    {
     "name": "stdout",
     "output_type": "stream",
     "text": [
      "(1, 450, 600, 3)\n",
      "(1, 450, 600, 3)\n",
      "(1, 450, 600, 3)\n",
      "(1, 450, 600, 3)\n"
     ]
    },
    {
     "name": "stderr",
     "output_type": "stream",
     "text": [
      "8560it [07:53, 15.17it/s]"
     ]
    },
    {
     "name": "stdout",
     "output_type": "stream",
     "text": [
      "(1, 450, 600, 3)\n",
      "(1, 450, 600, 3)\n",
      "(1, 450, 600, 3)\n",
      "(1, 450, 600, 3)\n"
     ]
    },
    {
     "name": "stderr",
     "output_type": "stream",
     "text": [
      "8564it [07:54, 15.04it/s]"
     ]
    },
    {
     "name": "stdout",
     "output_type": "stream",
     "text": [
      "(1, 450, 600, 3)\n",
      "(1, 450, 600, 3)\n",
      "(1, 450, 600, 3)\n",
      "(1, 450, 600, 3)\n"
     ]
    },
    {
     "name": "stderr",
     "output_type": "stream",
     "text": [
      "8568it [07:54, 15.39it/s]"
     ]
    },
    {
     "name": "stdout",
     "output_type": "stream",
     "text": [
      "(1, 450, 600, 3)\n",
      "(1, 450, 600, 3)\n",
      "(1, 450, 600, 3)\n"
     ]
    },
    {
     "name": "stderr",
     "output_type": "stream",
     "text": [
      "\r",
      "8570it [07:54, 15.11it/s]"
     ]
    },
    {
     "name": "stdout",
     "output_type": "stream",
     "text": [
      "(1, 450, 600, 3)\n",
      "(1, 450, 600, 3)\n",
      "(1, 450, 600, 3)\n"
     ]
    },
    {
     "name": "stderr",
     "output_type": "stream",
     "text": [
      "8574it [07:54, 15.60it/s]"
     ]
    },
    {
     "name": "stdout",
     "output_type": "stream",
     "text": [
      "(1, 450, 600, 3)\n",
      "(1, 450, 600, 3)\n",
      "(1, 450, 600, 3)\n",
      "(1, 450, 600, 3)\n"
     ]
    },
    {
     "name": "stderr",
     "output_type": "stream",
     "text": [
      "8578it [07:55, 15.31it/s]"
     ]
    },
    {
     "name": "stdout",
     "output_type": "stream",
     "text": [
      "(1, 450, 600, 3)\n",
      "(1, 450, 600, 3)\n",
      "(1, 450, 600, 3)\n",
      "(1, 450, 600, 3)\n"
     ]
    },
    {
     "name": "stderr",
     "output_type": "stream",
     "text": [
      "8582it [07:55, 15.22it/s]"
     ]
    },
    {
     "name": "stdout",
     "output_type": "stream",
     "text": [
      "(1, 450, 600, 3)\n",
      "(1, 450, 600, 3)\n",
      "(1, 450, 600, 3)\n",
      "(1, 450, 600, 3)\n"
     ]
    },
    {
     "name": "stderr",
     "output_type": "stream",
     "text": [
      "8586it [07:55, 14.91it/s]"
     ]
    },
    {
     "name": "stdout",
     "output_type": "stream",
     "text": [
      "(1, 450, 600, 3)\n",
      "(1, 450, 600, 3)\n",
      "(1, 450, 600, 3)\n"
     ]
    },
    {
     "name": "stderr",
     "output_type": "stream",
     "text": [
      "\r",
      "8588it [07:55, 14.98it/s]"
     ]
    },
    {
     "name": "stdout",
     "output_type": "stream",
     "text": [
      "(1, 450, 600, 3)\n",
      "(1, 450, 600, 3)\n",
      "(1, 450, 600, 3)\n",
      "(1, 450, 600, 3)\n"
     ]
    },
    {
     "name": "stderr",
     "output_type": "stream",
     "text": [
      "8592it [07:55, 14.28it/s]"
     ]
    },
    {
     "name": "stdout",
     "output_type": "stream",
     "text": [
      "(1, 450, 600, 3)\n",
      "(1, 450, 600, 3)\n",
      "(1, 450, 600, 3)\n"
     ]
    },
    {
     "name": "stderr",
     "output_type": "stream",
     "text": [
      "8596it [07:56, 14.36it/s]"
     ]
    },
    {
     "name": "stdout",
     "output_type": "stream",
     "text": [
      "(1, 450, 600, 3)\n",
      "(1, 450, 600, 3)\n",
      "(1, 450, 600, 3)\n",
      "(1, 450, 600, 3)\n"
     ]
    },
    {
     "name": "stderr",
     "output_type": "stream",
     "text": [
      "8600it [07:56, 14.57it/s]"
     ]
    },
    {
     "name": "stdout",
     "output_type": "stream",
     "text": [
      "(1, 450, 600, 3)\n",
      "(1, 450, 600, 3)\n",
      "(1, 450, 600, 3)\n",
      "(1, 450, 600, 3)\n"
     ]
    },
    {
     "name": "stderr",
     "output_type": "stream",
     "text": [
      "8604it [07:56, 14.74it/s]"
     ]
    },
    {
     "name": "stdout",
     "output_type": "stream",
     "text": [
      "(1, 450, 600, 3)\n",
      "(1, 450, 600, 3)\n",
      "(1, 450, 600, 3)\n",
      "(1, 450, 600, 3)\n"
     ]
    },
    {
     "name": "stderr",
     "output_type": "stream",
     "text": [
      "8608it [07:57, 15.19it/s]"
     ]
    },
    {
     "name": "stdout",
     "output_type": "stream",
     "text": [
      "(1, 450, 600, 3)\n",
      "(1, 450, 600, 3)\n",
      "(1, 450, 600, 3)\n"
     ]
    },
    {
     "name": "stderr",
     "output_type": "stream",
     "text": [
      "\r",
      "8610it [07:57, 15.33it/s]"
     ]
    },
    {
     "name": "stdout",
     "output_type": "stream",
     "text": [
      "(1, 450, 600, 3)\n",
      "(1, 450, 600, 3)\n",
      "(1, 450, 600, 3)\n",
      "(1, 450, 600, 3)\n"
     ]
    },
    {
     "name": "stderr",
     "output_type": "stream",
     "text": [
      "8614it [07:57, 15.29it/s]"
     ]
    },
    {
     "name": "stdout",
     "output_type": "stream",
     "text": [
      "(1, 450, 600, 3)\n",
      "(1, 450, 600, 3)\n",
      "(1, 450, 600, 3)\n",
      "(1, 450, 600, 3)\n"
     ]
    },
    {
     "name": "stderr",
     "output_type": "stream",
     "text": [
      "8618it [07:57, 15.35it/s]"
     ]
    },
    {
     "name": "stdout",
     "output_type": "stream",
     "text": [
      "(1, 450, 600, 3)\n",
      "(1, 450, 600, 3)\n",
      "(1, 450, 600, 3)\n",
      "(1, 450, 600, 3)\n"
     ]
    },
    {
     "name": "stderr",
     "output_type": "stream",
     "text": [
      "8622it [07:57, 15.47it/s]"
     ]
    },
    {
     "name": "stdout",
     "output_type": "stream",
     "text": [
      "(1, 450, 600, 3)\n",
      "(1, 450, 600, 3)\n",
      "(1, 450, 600, 3)\n",
      "(1, 450, 600, 3)\n"
     ]
    },
    {
     "name": "stderr",
     "output_type": "stream",
     "text": [
      "8626it [07:58, 15.79it/s]"
     ]
    },
    {
     "name": "stdout",
     "output_type": "stream",
     "text": [
      "(1, 450, 600, 3)\n",
      "(1, 450, 600, 3)\n",
      "(1, 450, 600, 3)\n",
      "(1, 450, 600, 3)\n"
     ]
    },
    {
     "name": "stderr",
     "output_type": "stream",
     "text": [
      "8630it [07:58, 15.22it/s]"
     ]
    },
    {
     "name": "stdout",
     "output_type": "stream",
     "text": [
      "(1, 450, 600, 3)\n",
      "(1, 450, 600, 3)\n",
      "(1, 450, 600, 3)\n",
      "(1, 450, 600, 3)\n"
     ]
    },
    {
     "name": "stderr",
     "output_type": "stream",
     "text": [
      "8634it [07:58, 15.48it/s]"
     ]
    },
    {
     "name": "stdout",
     "output_type": "stream",
     "text": [
      "(1, 450, 600, 3)\n",
      "(1, 450, 600, 3)\n",
      "(1, 450, 600, 3)\n",
      "(1, 450, 600, 3)\n"
     ]
    },
    {
     "name": "stderr",
     "output_type": "stream",
     "text": [
      "8638it [07:58, 15.30it/s]"
     ]
    },
    {
     "name": "stdout",
     "output_type": "stream",
     "text": [
      "(1, 450, 600, 3)\n",
      "(1, 450, 600, 3)\n",
      "(1, 450, 600, 3)\n",
      "(1, 450, 600, 3)\n"
     ]
    },
    {
     "name": "stderr",
     "output_type": "stream",
     "text": [
      "8642it [07:59, 15.35it/s]"
     ]
    },
    {
     "name": "stdout",
     "output_type": "stream",
     "text": [
      "(1, 450, 600, 3)\n",
      "(1, 450, 600, 3)\n",
      "(1, 450, 600, 3)\n",
      "(1, 450, 600, 3)\n"
     ]
    },
    {
     "name": "stderr",
     "output_type": "stream",
     "text": [
      "8646it [07:59, 15.23it/s]"
     ]
    },
    {
     "name": "stdout",
     "output_type": "stream",
     "text": [
      "(1, 450, 600, 3)\n",
      "(1, 450, 600, 3)\n",
      "(1, 450, 600, 3)\n",
      "(1, 450, 600, 3)\n"
     ]
    },
    {
     "name": "stderr",
     "output_type": "stream",
     "text": [
      "8650it [07:59, 14.84it/s]"
     ]
    },
    {
     "name": "stdout",
     "output_type": "stream",
     "text": [
      "(1, 450, 600, 3)\n",
      "(1, 450, 600, 3)\n"
     ]
    },
    {
     "name": "stderr",
     "output_type": "stream",
     "text": [
      "\r",
      "8652it [07:59, 14.98it/s]"
     ]
    },
    {
     "name": "stdout",
     "output_type": "stream",
     "text": [
      "(1, 450, 600, 3)\n",
      "(1, 450, 600, 3)\n",
      "(1, 450, 600, 3)\n",
      "(1, 450, 600, 3)\n"
     ]
    },
    {
     "name": "stderr",
     "output_type": "stream",
     "text": [
      "8656it [08:00, 15.27it/s]"
     ]
    },
    {
     "name": "stdout",
     "output_type": "stream",
     "text": [
      "(1, 450, 600, 3)\n",
      "(1, 450, 600, 3)\n",
      "(1, 450, 600, 3)\n",
      "(1, 450, 600, 3)\n"
     ]
    },
    {
     "name": "stderr",
     "output_type": "stream",
     "text": [
      "8660it [08:00, 15.53it/s]"
     ]
    },
    {
     "name": "stdout",
     "output_type": "stream",
     "text": [
      "(1, 450, 600, 3)\n",
      "(1, 450, 600, 3)\n",
      "(1, 450, 600, 3)\n"
     ]
    },
    {
     "name": "stderr",
     "output_type": "stream",
     "text": [
      "8664it [08:00, 14.91it/s]"
     ]
    },
    {
     "name": "stdout",
     "output_type": "stream",
     "text": [
      "(1, 450, 600, 3)\n",
      "(1, 450, 600, 3)\n",
      "(1, 450, 600, 3)\n",
      "(1, 450, 600, 3)\n"
     ]
    },
    {
     "name": "stderr",
     "output_type": "stream",
     "text": [
      "8668it [08:01, 14.46it/s]"
     ]
    },
    {
     "name": "stdout",
     "output_type": "stream",
     "text": [
      "(1, 450, 600, 3)\n",
      "(1, 450, 600, 3)\n",
      "(1, 450, 600, 3)\n"
     ]
    },
    {
     "name": "stderr",
     "output_type": "stream",
     "text": [
      "\r",
      "8670it [08:01, 14.50it/s]"
     ]
    },
    {
     "name": "stdout",
     "output_type": "stream",
     "text": [
      "(1, 450, 600, 3)\n",
      "(1, 450, 600, 3)\n",
      "(1, 450, 600, 3)\n",
      "(1, 450, 600, 3)\n"
     ]
    },
    {
     "name": "stderr",
     "output_type": "stream",
     "text": [
      "8674it [08:01, 14.82it/s]"
     ]
    },
    {
     "name": "stdout",
     "output_type": "stream",
     "text": [
      "(1, 450, 600, 3)\n",
      "(1, 450, 600, 3)\n",
      "(1, 450, 600, 3)\n"
     ]
    },
    {
     "name": "stderr",
     "output_type": "stream",
     "text": [
      "8678it [08:01, 14.92it/s]"
     ]
    },
    {
     "name": "stdout",
     "output_type": "stream",
     "text": [
      "(1, 450, 600, 3)\n",
      "(1, 450, 600, 3)\n",
      "(1, 450, 600, 3)\n",
      "(1, 450, 600, 3)\n"
     ]
    },
    {
     "name": "stderr",
     "output_type": "stream",
     "text": [
      "8682it [08:01, 14.79it/s]"
     ]
    },
    {
     "name": "stdout",
     "output_type": "stream",
     "text": [
      "(1, 450, 600, 3)\n",
      "(1, 450, 600, 3)\n",
      "(1, 450, 600, 3)\n",
      "(1, 450, 600, 3)\n"
     ]
    },
    {
     "name": "stderr",
     "output_type": "stream",
     "text": [
      "8686it [08:02, 15.28it/s]"
     ]
    },
    {
     "name": "stdout",
     "output_type": "stream",
     "text": [
      "(1, 450, 600, 3)\n",
      "(1, 450, 600, 3)\n",
      "(1, 450, 600, 3)\n",
      "(1, 450, 600, 3)\n"
     ]
    },
    {
     "name": "stderr",
     "output_type": "stream",
     "text": [
      "8690it [08:02, 15.20it/s]"
     ]
    },
    {
     "name": "stdout",
     "output_type": "stream",
     "text": [
      "(1, 450, 600, 3)\n",
      "(1, 450, 600, 3)\n",
      "(1, 450, 600, 3)\n",
      "(1, 450, 600, 3)\n"
     ]
    },
    {
     "name": "stderr",
     "output_type": "stream",
     "text": [
      "8694it [08:02, 14.81it/s]"
     ]
    },
    {
     "name": "stdout",
     "output_type": "stream",
     "text": [
      "(1, 450, 600, 3)\n",
      "(1, 450, 600, 3)\n",
      "(1, 450, 600, 3)\n",
      "(1, 450, 600, 3)\n"
     ]
    },
    {
     "name": "stderr",
     "output_type": "stream",
     "text": [
      "8698it [08:03, 15.13it/s]"
     ]
    },
    {
     "name": "stdout",
     "output_type": "stream",
     "text": [
      "(1, 450, 600, 3)\n",
      "(1, 450, 600, 3)\n",
      "(1, 450, 600, 3)\n"
     ]
    },
    {
     "name": "stderr",
     "output_type": "stream",
     "text": [
      "\r",
      "8700it [08:03, 15.12it/s]"
     ]
    },
    {
     "name": "stdout",
     "output_type": "stream",
     "text": [
      "(1, 450, 600, 3)\n",
      "(1, 450, 600, 3)\n",
      "(1, 450, 600, 3)\n",
      "(1, 450, 600, 3)\n"
     ]
    },
    {
     "name": "stderr",
     "output_type": "stream",
     "text": [
      "8704it [08:03, 15.24it/s]"
     ]
    },
    {
     "name": "stdout",
     "output_type": "stream",
     "text": [
      "(1, 450, 600, 3)\n",
      "(1, 450, 600, 3)\n",
      "(1, 450, 600, 3)\n"
     ]
    },
    {
     "name": "stderr",
     "output_type": "stream",
     "text": [
      "8708it [08:03, 14.76it/s]"
     ]
    },
    {
     "name": "stdout",
     "output_type": "stream",
     "text": [
      "(1, 450, 600, 3)\n",
      "(1, 450, 600, 3)\n",
      "(1, 450, 600, 3)\n",
      "(1, 450, 600, 3)\n"
     ]
    },
    {
     "name": "stderr",
     "output_type": "stream",
     "text": [
      "8712it [08:03, 14.90it/s]"
     ]
    },
    {
     "name": "stdout",
     "output_type": "stream",
     "text": [
      "(1, 450, 600, 3)\n",
      "(1, 450, 600, 3)\n",
      "(1, 450, 600, 3)\n",
      "(1, 450, 600, 3)\n"
     ]
    },
    {
     "name": "stderr",
     "output_type": "stream",
     "text": [
      "8716it [08:04, 15.33it/s]"
     ]
    },
    {
     "name": "stdout",
     "output_type": "stream",
     "text": [
      "(1, 450, 600, 3)\n",
      "(1, 450, 600, 3)\n",
      "(1, 450, 600, 3)\n",
      "(1, 450, 600, 3)\n"
     ]
    },
    {
     "name": "stderr",
     "output_type": "stream",
     "text": [
      "8720it [08:04, 14.67it/s]"
     ]
    },
    {
     "name": "stdout",
     "output_type": "stream",
     "text": [
      "(1, 450, 600, 3)\n",
      "(1, 450, 600, 3)\n",
      "(1, 450, 600, 3)\n"
     ]
    },
    {
     "name": "stderr",
     "output_type": "stream",
     "text": [
      "\r",
      "8722it [08:04, 14.60it/s]"
     ]
    },
    {
     "name": "stdout",
     "output_type": "stream",
     "text": [
      "(1, 450, 600, 3)\n",
      "(1, 450, 600, 3)\n",
      "(1, 450, 600, 3)\n",
      "(1, 450, 600, 3)\n"
     ]
    },
    {
     "name": "stderr",
     "output_type": "stream",
     "text": [
      "8726it [08:04, 14.67it/s]"
     ]
    },
    {
     "name": "stdout",
     "output_type": "stream",
     "text": [
      "(1, 450, 600, 3)\n",
      "(1, 450, 600, 3)\n",
      "(1, 450, 600, 3)\n"
     ]
    },
    {
     "name": "stderr",
     "output_type": "stream",
     "text": [
      "8730it [08:05, 14.03it/s]"
     ]
    },
    {
     "name": "stdout",
     "output_type": "stream",
     "text": [
      "(1, 450, 600, 3)\n",
      "(1, 450, 600, 3)\n",
      "(1, 450, 600, 3)\n"
     ]
    },
    {
     "name": "stderr",
     "output_type": "stream",
     "text": [
      "\r",
      "8732it [08:05, 13.79it/s]"
     ]
    },
    {
     "name": "stdout",
     "output_type": "stream",
     "text": [
      "(1, 450, 600, 3)\n",
      "(1, 450, 600, 3)\n",
      "(1, 450, 600, 3)\n"
     ]
    },
    {
     "name": "stderr",
     "output_type": "stream",
     "text": [
      "8736it [08:05, 14.19it/s]"
     ]
    },
    {
     "name": "stdout",
     "output_type": "stream",
     "text": [
      "(1, 450, 600, 3)\n",
      "(1, 450, 600, 3)\n",
      "(1, 450, 600, 3)\n",
      "(1, 450, 600, 3)\n"
     ]
    },
    {
     "name": "stderr",
     "output_type": "stream",
     "text": [
      "8740it [08:05, 15.06it/s]"
     ]
    },
    {
     "name": "stdout",
     "output_type": "stream",
     "text": [
      "(1, 450, 600, 3)\n",
      "(1, 450, 600, 3)\n",
      "(1, 450, 600, 3)\n",
      "(1, 450, 600, 3)\n"
     ]
    },
    {
     "name": "stderr",
     "output_type": "stream",
     "text": [
      "8744it [08:06, 15.08it/s]"
     ]
    },
    {
     "name": "stdout",
     "output_type": "stream",
     "text": [
      "(1, 450, 600, 3)\n",
      "(1, 450, 600, 3)\n",
      "(1, 450, 600, 3)\n",
      "(1, 450, 600, 3)\n"
     ]
    },
    {
     "name": "stderr",
     "output_type": "stream",
     "text": [
      "8748it [08:06, 15.40it/s]"
     ]
    },
    {
     "name": "stdout",
     "output_type": "stream",
     "text": [
      "(1, 450, 600, 3)\n",
      "(1, 450, 600, 3)\n",
      "(1, 450, 600, 3)\n",
      "(1, 450, 600, 3)\n"
     ]
    },
    {
     "name": "stderr",
     "output_type": "stream",
     "text": [
      "8752it [08:06, 15.33it/s]"
     ]
    },
    {
     "name": "stdout",
     "output_type": "stream",
     "text": [
      "(1, 450, 600, 3)\n",
      "(1, 450, 600, 3)\n",
      "(1, 450, 600, 3)\n",
      "(1, 450, 600, 3)\n"
     ]
    },
    {
     "name": "stderr",
     "output_type": "stream",
     "text": [
      "8756it [08:06, 15.67it/s]"
     ]
    },
    {
     "name": "stdout",
     "output_type": "stream",
     "text": [
      "(1, 450, 600, 3)\n",
      "(1, 450, 600, 3)\n",
      "(1, 450, 600, 3)\n",
      "(1, 450, 600, 3)\n"
     ]
    },
    {
     "name": "stderr",
     "output_type": "stream",
     "text": [
      "8760it [08:07, 15.46it/s]"
     ]
    },
    {
     "name": "stdout",
     "output_type": "stream",
     "text": [
      "(1, 450, 600, 3)\n",
      "(1, 450, 600, 3)\n",
      "(1, 450, 600, 3)\n",
      "(1, 450, 600, 3)\n"
     ]
    },
    {
     "name": "stderr",
     "output_type": "stream",
     "text": [
      "8764it [08:07, 15.35it/s]"
     ]
    },
    {
     "name": "stdout",
     "output_type": "stream",
     "text": [
      "(1, 450, 600, 3)\n",
      "(1, 450, 600, 3)\n",
      "(1, 450, 600, 3)\n",
      "(1, 450, 600, 3)\n"
     ]
    },
    {
     "name": "stderr",
     "output_type": "stream",
     "text": [
      "8768it [08:07, 15.36it/s]"
     ]
    },
    {
     "name": "stdout",
     "output_type": "stream",
     "text": [
      "(1, 450, 600, 3)\n",
      "(1, 450, 600, 3)\n",
      "(1, 450, 600, 3)\n",
      "(1, 450, 600, 3)\n"
     ]
    },
    {
     "name": "stderr",
     "output_type": "stream",
     "text": [
      "8772it [08:07, 15.21it/s]"
     ]
    },
    {
     "name": "stdout",
     "output_type": "stream",
     "text": [
      "(1, 450, 600, 3)\n",
      "(1, 450, 600, 3)\n",
      "(1, 450, 600, 3)\n",
      "(1, 450, 600, 3)\n"
     ]
    },
    {
     "name": "stderr",
     "output_type": "stream",
     "text": [
      "8776it [08:08, 15.27it/s]"
     ]
    },
    {
     "name": "stdout",
     "output_type": "stream",
     "text": [
      "(1, 450, 600, 3)\n",
      "(1, 450, 600, 3)\n",
      "(1, 450, 600, 3)\n",
      "(1, 450, 600, 3)\n"
     ]
    },
    {
     "name": "stderr",
     "output_type": "stream",
     "text": [
      "8780it [08:08, 15.07it/s]"
     ]
    },
    {
     "name": "stdout",
     "output_type": "stream",
     "text": [
      "(1, 450, 600, 3)\n",
      "(1, 450, 600, 3)\n",
      "(1, 450, 600, 3)\n",
      "(1, 450, 600, 3)\n"
     ]
    },
    {
     "name": "stderr",
     "output_type": "stream",
     "text": [
      "8784it [08:08, 15.05it/s]"
     ]
    },
    {
     "name": "stdout",
     "output_type": "stream",
     "text": [
      "(1, 450, 600, 3)\n",
      "(1, 450, 600, 3)\n",
      "(1, 450, 600, 3)\n",
      "(1, 450, 600, 3)\n"
     ]
    },
    {
     "name": "stderr",
     "output_type": "stream",
     "text": [
      "8788it [08:09, 14.81it/s]"
     ]
    },
    {
     "name": "stdout",
     "output_type": "stream",
     "text": [
      "(1, 450, 600, 3)\n",
      "(1, 450, 600, 3)\n",
      "(1, 450, 600, 3)\n"
     ]
    },
    {
     "name": "stderr",
     "output_type": "stream",
     "text": [
      "\r",
      "8790it [08:09, 14.57it/s]"
     ]
    },
    {
     "name": "stdout",
     "output_type": "stream",
     "text": [
      "(1, 450, 600, 3)\n",
      "(1, 450, 600, 3)\n",
      "(1, 450, 600, 3)\n",
      "(1, 450, 600, 3)\n"
     ]
    },
    {
     "name": "stderr",
     "output_type": "stream",
     "text": [
      "8794it [08:09, 14.41it/s]"
     ]
    },
    {
     "name": "stdout",
     "output_type": "stream",
     "text": [
      "(1, 450, 600, 3)\n",
      "(1, 450, 600, 3)\n",
      "(1, 450, 600, 3)\n"
     ]
    },
    {
     "name": "stderr",
     "output_type": "stream",
     "text": [
      "8798it [08:09, 14.57it/s]"
     ]
    },
    {
     "name": "stdout",
     "output_type": "stream",
     "text": [
      "(1, 450, 600, 3)\n",
      "(1, 450, 600, 3)\n",
      "(1, 450, 600, 3)\n"
     ]
    },
    {
     "name": "stderr",
     "output_type": "stream",
     "text": [
      "\r",
      "8800it [08:09, 13.56it/s]"
     ]
    },
    {
     "name": "stdout",
     "output_type": "stream",
     "text": [
      "(1, 450, 600, 3)\n",
      "(1, 450, 600, 3)\n",
      "(1, 450, 600, 3)\n"
     ]
    },
    {
     "name": "stderr",
     "output_type": "stream",
     "text": [
      "8804it [08:10, 14.20it/s]"
     ]
    },
    {
     "name": "stdout",
     "output_type": "stream",
     "text": [
      "(1, 450, 600, 3)\n",
      "(1, 450, 600, 3)\n",
      "(1, 450, 600, 3)\n",
      "(1, 450, 600, 3)\n"
     ]
    },
    {
     "name": "stderr",
     "output_type": "stream",
     "text": [
      "8808it [08:10, 15.08it/s]"
     ]
    },
    {
     "name": "stdout",
     "output_type": "stream",
     "text": [
      "(1, 450, 600, 3)\n",
      "(1, 450, 600, 3)\n",
      "(1, 450, 600, 3)\n"
     ]
    },
    {
     "name": "stderr",
     "output_type": "stream",
     "text": [
      "\r",
      "8810it [08:10, 14.59it/s]"
     ]
    },
    {
     "name": "stdout",
     "output_type": "stream",
     "text": [
      "(1, 450, 600, 3)\n",
      "(1, 450, 600, 3)\n",
      "(1, 450, 600, 3)\n",
      "(1, 450, 600, 3)\n"
     ]
    },
    {
     "name": "stderr",
     "output_type": "stream",
     "text": [
      "8814it [08:10, 15.04it/s]"
     ]
    },
    {
     "name": "stdout",
     "output_type": "stream",
     "text": [
      "(1, 450, 600, 3)\n",
      "(1, 450, 600, 3)\n",
      "(1, 450, 600, 3)\n",
      "(1, 450, 600, 3)\n"
     ]
    },
    {
     "name": "stderr",
     "output_type": "stream",
     "text": [
      "8820it [08:11, 15.88it/s]"
     ]
    },
    {
     "name": "stdout",
     "output_type": "stream",
     "text": [
      "(1, 450, 600, 3)\n",
      "(1, 450, 600, 3)\n",
      "(1, 450, 600, 3)\n",
      "(1, 450, 600, 3)\n"
     ]
    },
    {
     "name": "stderr",
     "output_type": "stream",
     "text": [
      "\r",
      "8822it [08:11, 15.88it/s]"
     ]
    },
    {
     "name": "stdout",
     "output_type": "stream",
     "text": [
      "(1, 450, 600, 3)\n",
      "(1, 450, 600, 3)\n",
      "(1, 450, 600, 3)\n",
      "(1, 450, 600, 3)\n"
     ]
    },
    {
     "name": "stderr",
     "output_type": "stream",
     "text": [
      "8826it [08:11, 14.85it/s]"
     ]
    },
    {
     "name": "stdout",
     "output_type": "stream",
     "text": [
      "(1, 450, 600, 3)\n",
      "(1, 450, 600, 3)\n",
      "(1, 450, 600, 3)\n",
      "(1, 450, 600, 3)\n"
     ]
    },
    {
     "name": "stderr",
     "output_type": "stream",
     "text": [
      "8830it [08:11, 15.16it/s]"
     ]
    },
    {
     "name": "stdout",
     "output_type": "stream",
     "text": [
      "(1, 450, 600, 3)\n",
      "(1, 450, 600, 3)\n",
      "(1, 450, 600, 3)\n",
      "(1, 450, 600, 3)\n"
     ]
    },
    {
     "name": "stderr",
     "output_type": "stream",
     "text": [
      "8834it [08:12, 14.54it/s]"
     ]
    },
    {
     "name": "stdout",
     "output_type": "stream",
     "text": [
      "(1, 450, 600, 3)\n",
      "(1, 450, 600, 3)\n"
     ]
    },
    {
     "name": "stderr",
     "output_type": "stream",
     "text": [
      "\r",
      "8836it [08:12, 14.74it/s]"
     ]
    },
    {
     "name": "stdout",
     "output_type": "stream",
     "text": [
      "(1, 450, 600, 3)\n",
      "(1, 450, 600, 3)\n",
      "(1, 450, 600, 3)\n",
      "(1, 450, 600, 3)\n"
     ]
    },
    {
     "name": "stderr",
     "output_type": "stream",
     "text": [
      "8840it [08:12, 15.21it/s]"
     ]
    },
    {
     "name": "stdout",
     "output_type": "stream",
     "text": [
      "(1, 450, 600, 3)\n",
      "(1, 450, 600, 3)\n",
      "(1, 450, 600, 3)\n"
     ]
    },
    {
     "name": "stderr",
     "output_type": "stream",
     "text": [
      "8844it [08:12, 15.06it/s]"
     ]
    },
    {
     "name": "stdout",
     "output_type": "stream",
     "text": [
      "(1, 450, 600, 3)\n",
      "(1, 450, 600, 3)\n",
      "(1, 450, 600, 3)\n"
     ]
    },
    {
     "name": "stderr",
     "output_type": "stream",
     "text": [
      "\r",
      "8846it [08:12, 14.78it/s]"
     ]
    },
    {
     "name": "stdout",
     "output_type": "stream",
     "text": [
      "(1, 450, 600, 3)\n",
      "(1, 450, 600, 3)\n",
      "(1, 450, 600, 3)\n"
     ]
    },
    {
     "name": "stderr",
     "output_type": "stream",
     "text": [
      "8850it [08:13, 14.84it/s]"
     ]
    },
    {
     "name": "stdout",
     "output_type": "stream",
     "text": [
      "(1, 450, 600, 3)\n",
      "(1, 450, 600, 3)\n",
      "(1, 450, 600, 3)\n"
     ]
    },
    {
     "name": "stderr",
     "output_type": "stream",
     "text": [
      "\r",
      "8852it [08:13, 14.94it/s]"
     ]
    },
    {
     "name": "stdout",
     "output_type": "stream",
     "text": [
      "(1, 450, 600, 3)\n",
      "(1, 450, 600, 3)\n",
      "(1, 450, 600, 3)\n",
      "(1, 450, 600, 3)\n"
     ]
    },
    {
     "name": "stderr",
     "output_type": "stream",
     "text": [
      "8856it [08:13, 15.08it/s]"
     ]
    },
    {
     "name": "stdout",
     "output_type": "stream",
     "text": [
      "(1, 450, 600, 3)\n",
      "(1, 450, 600, 3)\n",
      "(1, 450, 600, 3)\n",
      "(1, 450, 600, 3)\n"
     ]
    },
    {
     "name": "stderr",
     "output_type": "stream",
     "text": [
      "8860it [08:13, 15.34it/s]"
     ]
    },
    {
     "name": "stdout",
     "output_type": "stream",
     "text": [
      "(1, 450, 600, 3)\n",
      "(1, 450, 600, 3)\n",
      "(1, 450, 600, 3)\n",
      "(1, 450, 600, 3)\n"
     ]
    },
    {
     "name": "stderr",
     "output_type": "stream",
     "text": [
      "8864it [08:14, 15.07it/s]"
     ]
    },
    {
     "name": "stdout",
     "output_type": "stream",
     "text": [
      "(1, 450, 600, 3)\n",
      "(1, 450, 600, 3)\n",
      "(1, 450, 600, 3)\n",
      "(1, 450, 600, 3)\n"
     ]
    },
    {
     "name": "stderr",
     "output_type": "stream",
     "text": [
      "8868it [08:14, 14.12it/s]"
     ]
    },
    {
     "name": "stdout",
     "output_type": "stream",
     "text": [
      "(1, 450, 600, 3)\n",
      "(1, 450, 600, 3)\n",
      "(1, 450, 600, 3)\n"
     ]
    },
    {
     "name": "stderr",
     "output_type": "stream",
     "text": [
      "8872it [08:14, 14.38it/s]"
     ]
    },
    {
     "name": "stdout",
     "output_type": "stream",
     "text": [
      "(1, 450, 600, 3)\n",
      "(1, 450, 600, 3)\n",
      "(1, 450, 600, 3)\n",
      "(1, 450, 600, 3)\n"
     ]
    },
    {
     "name": "stderr",
     "output_type": "stream",
     "text": [
      "8876it [08:14, 14.55it/s]"
     ]
    },
    {
     "name": "stdout",
     "output_type": "stream",
     "text": [
      "(1, 450, 600, 3)\n",
      "(1, 450, 600, 3)\n",
      "(1, 450, 600, 3)\n"
     ]
    },
    {
     "name": "stderr",
     "output_type": "stream",
     "text": [
      "\r",
      "8878it [08:15, 14.57it/s]"
     ]
    },
    {
     "name": "stdout",
     "output_type": "stream",
     "text": [
      "(1, 450, 600, 3)\n",
      "(1, 450, 600, 3)\n",
      "(1, 450, 600, 3)\n",
      "(1, 450, 600, 3)\n"
     ]
    },
    {
     "name": "stderr",
     "output_type": "stream",
     "text": [
      "8882it [08:15, 14.73it/s]"
     ]
    },
    {
     "name": "stdout",
     "output_type": "stream",
     "text": [
      "(1, 450, 600, 3)\n",
      "(1, 450, 600, 3)\n",
      "(1, 450, 600, 3)\n"
     ]
    },
    {
     "name": "stderr",
     "output_type": "stream",
     "text": [
      "8886it [08:15, 14.25it/s]"
     ]
    },
    {
     "name": "stdout",
     "output_type": "stream",
     "text": [
      "(1, 450, 600, 3)\n",
      "(1, 450, 600, 3)\n",
      "(1, 450, 600, 3)\n"
     ]
    },
    {
     "name": "stderr",
     "output_type": "stream",
     "text": [
      "\r",
      "8888it [08:15, 14.64it/s]"
     ]
    },
    {
     "name": "stdout",
     "output_type": "stream",
     "text": [
      "(1, 450, 600, 3)\n",
      "(1, 450, 600, 3)\n",
      "(1, 450, 600, 3)\n",
      "(1, 450, 600, 3)\n"
     ]
    },
    {
     "name": "stderr",
     "output_type": "stream",
     "text": [
      "8892it [08:16, 14.43it/s]"
     ]
    },
    {
     "name": "stdout",
     "output_type": "stream",
     "text": [
      "(1, 450, 600, 3)\n",
      "(1, 450, 600, 3)\n",
      "(1, 450, 600, 3)\n"
     ]
    },
    {
     "name": "stderr",
     "output_type": "stream",
     "text": [
      "8896it [08:16, 14.92it/s]"
     ]
    },
    {
     "name": "stdout",
     "output_type": "stream",
     "text": [
      "(1, 450, 600, 3)\n",
      "(1, 450, 600, 3)\n",
      "(1, 450, 600, 3)\n",
      "(1, 450, 600, 3)\n"
     ]
    },
    {
     "name": "stderr",
     "output_type": "stream",
     "text": [
      "8900it [08:16, 14.07it/s]"
     ]
    },
    {
     "name": "stdout",
     "output_type": "stream",
     "text": [
      "(1, 450, 600, 3)\n",
      "(1, 450, 600, 3)\n",
      "(1, 450, 600, 3)\n"
     ]
    },
    {
     "name": "stderr",
     "output_type": "stream",
     "text": [
      "\r",
      "8902it [08:16, 14.56it/s]"
     ]
    },
    {
     "name": "stdout",
     "output_type": "stream",
     "text": [
      "(1, 450, 600, 3)\n",
      "(1, 450, 600, 3)\n",
      "(1, 450, 600, 3)\n",
      "(1, 450, 600, 3)\n"
     ]
    },
    {
     "name": "stderr",
     "output_type": "stream",
     "text": [
      "8906it [08:17, 15.18it/s]"
     ]
    },
    {
     "name": "stdout",
     "output_type": "stream",
     "text": [
      "(1, 450, 600, 3)\n",
      "(1, 450, 600, 3)\n",
      "(1, 450, 600, 3)\n",
      "(1, 450, 600, 3)\n"
     ]
    },
    {
     "name": "stderr",
     "output_type": "stream",
     "text": [
      "8910it [08:17, 15.22it/s]"
     ]
    },
    {
     "name": "stdout",
     "output_type": "stream",
     "text": [
      "(1, 450, 600, 3)\n",
      "(1, 450, 600, 3)\n",
      "(1, 450, 600, 3)\n",
      "(1, 450, 600, 3)\n"
     ]
    },
    {
     "name": "stderr",
     "output_type": "stream",
     "text": [
      "8914it [08:17, 14.98it/s]"
     ]
    },
    {
     "name": "stdout",
     "output_type": "stream",
     "text": [
      "(1, 450, 600, 3)\n",
      "(1, 450, 600, 3)\n"
     ]
    },
    {
     "name": "stderr",
     "output_type": "stream",
     "text": [
      "\r",
      "8916it [08:17, 14.72it/s]"
     ]
    },
    {
     "name": "stdout",
     "output_type": "stream",
     "text": [
      "(1, 450, 600, 3)\n",
      "(1, 450, 600, 3)\n",
      "(1, 450, 600, 3)\n",
      "(1, 450, 600, 3)\n"
     ]
    },
    {
     "name": "stderr",
     "output_type": "stream",
     "text": [
      "8920it [08:17, 14.95it/s]"
     ]
    },
    {
     "name": "stdout",
     "output_type": "stream",
     "text": [
      "(1, 450, 600, 3)\n",
      "(1, 450, 600, 3)\n",
      "(1, 450, 600, 3)\n",
      "(1, 450, 600, 3)\n"
     ]
    },
    {
     "name": "stderr",
     "output_type": "stream",
     "text": [
      "8926it [08:18, 15.53it/s]"
     ]
    },
    {
     "name": "stdout",
     "output_type": "stream",
     "text": [
      "(1, 450, 600, 3)\n",
      "(1, 450, 600, 3)\n",
      "(1, 450, 600, 3)\n",
      "(1, 450, 600, 3)\n"
     ]
    },
    {
     "name": "stderr",
     "output_type": "stream",
     "text": [
      "\r",
      "8928it [08:18, 15.10it/s]"
     ]
    },
    {
     "name": "stdout",
     "output_type": "stream",
     "text": [
      "(1, 450, 600, 3)\n",
      "(1, 450, 600, 3)\n",
      "(1, 450, 600, 3)\n",
      "(1, 450, 600, 3)\n"
     ]
    },
    {
     "name": "stderr",
     "output_type": "stream",
     "text": [
      "8932it [08:18, 15.11it/s]"
     ]
    },
    {
     "name": "stdout",
     "output_type": "stream",
     "text": [
      "(1, 450, 600, 3)\n",
      "(1, 450, 600, 3)\n",
      "(1, 450, 600, 3)\n"
     ]
    },
    {
     "name": "stderr",
     "output_type": "stream",
     "text": [
      "8936it [08:19, 14.29it/s]"
     ]
    },
    {
     "name": "stdout",
     "output_type": "stream",
     "text": [
      "(1, 450, 600, 3)\n",
      "(1, 450, 600, 3)\n",
      "(1, 450, 600, 3)\n"
     ]
    },
    {
     "name": "stderr",
     "output_type": "stream",
     "text": [
      "\r",
      "8938it [08:19, 13.60it/s]"
     ]
    },
    {
     "name": "stdout",
     "output_type": "stream",
     "text": [
      "(1, 450, 600, 3)\n",
      "(1, 450, 600, 3)\n",
      "(1, 450, 600, 3)\n",
      "(1, 450, 600, 3)\n"
     ]
    },
    {
     "name": "stderr",
     "output_type": "stream",
     "text": [
      "8942it [08:19, 14.10it/s]"
     ]
    },
    {
     "name": "stdout",
     "output_type": "stream",
     "text": [
      "(1, 450, 600, 3)\n",
      "(1, 450, 600, 3)\n",
      "(1, 450, 600, 3)\n",
      "(1, 450, 600, 3)\n"
     ]
    },
    {
     "name": "stderr",
     "output_type": "stream",
     "text": [
      "8946it [08:19, 14.47it/s]"
     ]
    },
    {
     "name": "stdout",
     "output_type": "stream",
     "text": [
      "(1, 450, 600, 3)\n",
      "(1, 450, 600, 3)\n",
      "(1, 450, 600, 3)\n"
     ]
    },
    {
     "name": "stderr",
     "output_type": "stream",
     "text": [
      "8950it [08:20, 14.97it/s]"
     ]
    },
    {
     "name": "stdout",
     "output_type": "stream",
     "text": [
      "(1, 450, 600, 3)\n",
      "(1, 450, 600, 3)\n",
      "(1, 450, 600, 3)\n",
      "(1, 450, 600, 3)\n"
     ]
    },
    {
     "name": "stderr",
     "output_type": "stream",
     "text": [
      "8954it [08:20, 15.00it/s]"
     ]
    },
    {
     "name": "stdout",
     "output_type": "stream",
     "text": [
      "(1, 450, 600, 3)\n",
      "(1, 450, 600, 3)\n",
      "(1, 450, 600, 3)\n",
      "(1, 450, 600, 3)\n"
     ]
    },
    {
     "name": "stderr",
     "output_type": "stream",
     "text": [
      "8958it [08:20, 15.34it/s]"
     ]
    },
    {
     "name": "stdout",
     "output_type": "stream",
     "text": [
      "(1, 450, 600, 3)\n",
      "(1, 450, 600, 3)\n",
      "(1, 450, 600, 3)\n",
      "(1, 450, 600, 3)\n"
     ]
    },
    {
     "name": "stderr",
     "output_type": "stream",
     "text": [
      "8962it [08:20, 17.89it/s]"
     ]
    },
    {
     "name": "stdout",
     "output_type": "stream",
     "text": [
      "(1, 450, 600, 3)\n",
      "(1, 450, 600, 3)\n",
      "(1, 450, 600, 3)\n"
     ]
    },
    {
     "name": "stderr",
     "output_type": "stream",
     "text": [
      "\n"
     ]
    }
   ],
   "source": [
    "def aug_data(_train_df, _save_format, _img_data_dir, _aug_data_dir):\n",
    "    new_data = {'image_id' : [],\n",
    "                'dx' : [],\n",
    "                'age' : [],\n",
    "                'sex' : [],\n",
    "                'localization' : []}\n",
    "    for index, row in tqdm(_train_df.iterrows()):\n",
    "        img_path = _img_data_dir + '/' + row['image_id'] + '.jpg'\n",
    "        img = mpimg.imread(img_path)\n",
    "        base_img = datagen.flow(np.array([img]), save_to_dir=_aug_data_dir, save_prefix=row['image_id'], save_format=_save_format)\n",
    "        print(base_img[0].shape)\n",
    "        gen_img_path = glob.glob(_aug_data_dir + '/{}*.jpg'.format(row['image_id']))[0]\n",
    "        img_name = os.path.basename(gen_img_path[:gen_img_path.index('.')])\n",
    "        new_data['image_id'].append(img_name)\n",
    "        new_data['dx'].append(row['dx'])\n",
    "        new_data['age'].append(row['age'])\n",
    "        new_data['sex'].append(row['sex'])\n",
    "        new_data['localization'].append(row['localization'])\n",
    "    return pd.DataFrame.from_dict(new_data)\n",
    "\n",
    "aug_df = aug_data(_train_df = train_df, \n",
    "                 _save_format = 'jpg',\n",
    "                 _img_data_dir = img_data_dir,\n",
    "                 _aug_data_dir = augmented_data_dir)"
   ]
  },
  {
   "cell_type": "code",
   "execution_count": 21,
   "id": "77f83766",
   "metadata": {},
   "outputs": [
    {
     "data": {
      "text/html": [
       "<div>\n",
       "<style scoped>\n",
       "    .dataframe tbody tr th:only-of-type {\n",
       "        vertical-align: middle;\n",
       "    }\n",
       "\n",
       "    .dataframe tbody tr th {\n",
       "        vertical-align: top;\n",
       "    }\n",
       "\n",
       "    .dataframe thead th {\n",
       "        text-align: right;\n",
       "    }\n",
       "</style>\n",
       "<table border=\"1\" class=\"dataframe\">\n",
       "  <thead>\n",
       "    <tr style=\"text-align: right;\">\n",
       "      <th></th>\n",
       "      <th>image_id</th>\n",
       "      <th>dx</th>\n",
       "      <th>age</th>\n",
       "      <th>sex</th>\n",
       "      <th>localization</th>\n",
       "    </tr>\n",
       "  </thead>\n",
       "  <tbody>\n",
       "    <tr>\n",
       "      <th>0</th>\n",
       "      <td>ISIC_0025030_0_1527</td>\n",
       "      <td>bkl</td>\n",
       "      <td>80.0</td>\n",
       "      <td>male</td>\n",
       "      <td>scalp</td>\n",
       "    </tr>\n",
       "    <tr>\n",
       "      <th>1</th>\n",
       "      <td>ISIC_0026769_0_3121</td>\n",
       "      <td>bkl</td>\n",
       "      <td>80.0</td>\n",
       "      <td>male</td>\n",
       "      <td>scalp</td>\n",
       "    </tr>\n",
       "    <tr>\n",
       "      <th>2</th>\n",
       "      <td>ISIC_0025661_0_3783</td>\n",
       "      <td>bkl</td>\n",
       "      <td>80.0</td>\n",
       "      <td>male</td>\n",
       "      <td>scalp</td>\n",
       "    </tr>\n",
       "    <tr>\n",
       "      <th>3</th>\n",
       "      <td>ISIC_0031633_0_4837</td>\n",
       "      <td>bkl</td>\n",
       "      <td>75.0</td>\n",
       "      <td>male</td>\n",
       "      <td>ear</td>\n",
       "    </tr>\n",
       "    <tr>\n",
       "      <th>4</th>\n",
       "      <td>ISIC_0027850_0_9333</td>\n",
       "      <td>bkl</td>\n",
       "      <td>75.0</td>\n",
       "      <td>male</td>\n",
       "      <td>ear</td>\n",
       "    </tr>\n",
       "  </tbody>\n",
       "</table>\n",
       "</div>"
      ],
      "text/plain": [
       "              image_id   dx   age   sex localization\n",
       "0  ISIC_0025030_0_1527  bkl  80.0  male        scalp\n",
       "1  ISIC_0026769_0_3121  bkl  80.0  male        scalp\n",
       "2  ISIC_0025661_0_3783  bkl  80.0  male        scalp\n",
       "3  ISIC_0031633_0_4837  bkl  75.0  male          ear\n",
       "4  ISIC_0027850_0_9333  bkl  75.0  male          ear"
      ]
     },
     "execution_count": 21,
     "metadata": {},
     "output_type": "execute_result"
    }
   ],
   "source": [
    "aug_df.head()"
   ]
  },
  {
   "cell_type": "code",
   "execution_count": 24,
   "id": "81a185b2",
   "metadata": {},
   "outputs": [],
   "source": [
    "aug_df.to_csv(aug_df_path)"
   ]
  },
  {
   "cell_type": "code",
   "execution_count": null,
   "id": "77f3bbdf",
   "metadata": {},
   "outputs": [],
   "source": []
  }
 ],
 "metadata": {
  "kernelspec": {
   "display_name": "Python 3 (ipykernel)",
   "language": "python",
   "name": "python3"
  },
  "language_info": {
   "codemirror_mode": {
    "name": "ipython",
    "version": 3
   },
   "file_extension": ".py",
   "mimetype": "text/x-python",
   "name": "python",
   "nbconvert_exporter": "python",
   "pygments_lexer": "ipython3",
   "version": "3.8.5"
  }
 },
 "nbformat": 4,
 "nbformat_minor": 5
}
