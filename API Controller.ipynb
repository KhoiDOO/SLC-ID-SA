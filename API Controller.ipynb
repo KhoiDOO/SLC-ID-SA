{
 "cells": [
  {
   "cell_type": "code",
   "execution_count": 1,
   "id": "7cae1455",
   "metadata": {},
   "outputs": [],
   "source": [
    "from flask import Flask, send_file, request, jsonify, make_response, current_app\n",
    "from flask_ngrok import run_with_ngrok\n",
    "from flask_cors import CORS\n",
    "from functools import update_wrapper, wraps\n",
    "import requests\n",
    "\n",
    "import tensorflow as tf\n",
    "from tensorflow.keras.preprocessing.image import smart_resize\n",
    "from tensorflow.keras.applications.mobilenet import preprocess_input\n",
    "from tensorflow.keras.models import load_model\n",
    "import base64"
   ]
  },
  {
   "cell_type": "code",
   "execution_count": null,
   "id": "2a5f6009",
   "metadata": {},
   "outputs": [],
   "source": [
    "target_size = (224, 224)\n",
    "\n",
    "targetnames = np.array(['akiec', 'bcc', 'bkl', 'df', 'mel', 'nv', 'vasc'])\n",
    "\n",
    "model_path = 'densenetSoftAtt.h5'\n",
    "\n",
    "model = load_model(model_path)"
   ]
  },
  {
   "cell_type": "code",
   "execution_count": null,
   "id": "07097520",
   "metadata": {},
   "outputs": [],
   "source": [
    "def proprocessed_flow(img_txt, _target_size):\n",
    "    # decode\n",
    "    img = base64.b64decode(img_txt)\n",
    "    # resize\n",
    "    img = smart_resize(img, _target_size)\n",
    "    # preprocess\n",
    "    img = preprocess_input(img)\n",
    "    # return\n",
    "    return img\n",
    "def get_result(_json_data, _target_size, _model):\n",
    "    # Get img\n",
    "    img = proprocessed_flow(_json_data['image'])\n",
    "    # Predict\n",
    "    predictions = _model.predict({'image' : img,\n",
    "                                 'age' : _json_data['age'],\n",
    "                                  'sex' : _json_data['sex'],\n",
    "                                  'local' : _json_data['localization']})\n",
    "    # Compress result\n",
    "    indices = np.argpartition(predictions, -3)[-3:]\n",
    "    top_prob = predictions[indices]\n",
    "    top_name = targetnames[indices]\n",
    "    return jsonify({_name : prob for _name, prob in zip(top_name, top_prob)})\n",
    "    "
   ]
  },
  {
   "cell_type": "code",
   "execution_count": null,
   "id": "3d847c93",
   "metadata": {},
   "outputs": [
    {
     "name": "stdout",
     "output_type": "stream",
     "text": [
      " * Serving Flask app '__main__' (lazy loading)\n",
      " * Environment: production\n",
      "\u001b[31m   WARNING: This is a development server. Do not use it in a production deployment.\u001b[0m\n",
      "\u001b[2m   Use a production WSGI server instead.\u001b[0m\n",
      " * Debug mode: off\n"
     ]
    },
    {
     "name": "stderr",
     "output_type": "stream",
     "text": [
      " * Running on http://127.0.0.1:5000/ (Press CTRL+C to quit)\n"
     ]
    },
    {
     "name": "stdout",
     "output_type": "stream",
     "text": [
      " * Running on http://122d-14-232-202-93.ngrok.io\n",
      " * Traffic stats available on http://127.0.0.1:4040\n"
     ]
    },
    {
     "name": "stderr",
     "output_type": "stream",
     "text": [
      "127.0.0.1 - - [27/Mar/2022 14:55:33] \"GET / HTTP/1.1\" 200 -\n",
      "127.0.0.1 - - [27/Mar/2022 14:55:33] \"GET /favicon.ico HTTP/1.1\" 404 -\n"
     ]
    }
   ],
   "source": [
    "app = Flask(__name__)\n",
    "run_with_ngrok(app)\n",
    "\n",
    "@app.route(\"/\")\n",
    "def home():\n",
    "    return \"<h1>TechStart Competition</h1>\"\n",
    "\n",
    "@app.route('/get_predict', methods= ['GET', 'POST'])\n",
    "def get_predict():\n",
    "    if request.method == 'POST':\n",
    "        json_data = request.json\n",
    "        return get_result(json_data, target_size, model)\n",
    "    \n",
    "# APP running\n",
    "app.run()"
   ]
  },
  {
   "cell_type": "code",
   "execution_count": null,
   "id": "916311b8",
   "metadata": {},
   "outputs": [],
   "source": []
  }
 ],
 "metadata": {
  "kernelspec": {
   "display_name": "Python 3 (ipykernel)",
   "language": "python",
   "name": "python3"
  },
  "language_info": {
   "codemirror_mode": {
    "name": "ipython",
    "version": 3
   },
   "file_extension": ".py",
   "mimetype": "text/x-python",
   "name": "python",
   "nbconvert_exporter": "python",
   "pygments_lexer": "ipython3",
   "version": "3.8.5"
  }
 },
 "nbformat": 4,
 "nbformat_minor": 5
}
